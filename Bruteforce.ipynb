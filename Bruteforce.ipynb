{
 "cells": [
  {
   "cell_type": "code",
   "execution_count": 1,
   "id": "1c43d342",
   "metadata": {},
   "outputs": [],
   "source": [
    "import pandas as pd\n",
    "import matplotlib.pyplot as plt\n",
    "import seaborn as sns\n",
    "import numpy as np\n",
    "import scipy\n",
    "sns.set()"
   ]
  },
  {
   "cell_type": "code",
   "execution_count": null,
   "id": "8b1f7645",
   "metadata": {},
   "outputs": [],
   "source": [
    "\"\"\"\n",
    "Classes and methods for working with nondeterministic finite automata.\n",
    "Source: https://github.com/caleb531/automata\n",
    "\"\"\"\n",
    "\n",
    "import copy\n",
    "import abc\n",
    "import math\n",
    "from random import random, choices\n",
    "from tqdm.auto import tqdm as tqdm\n",
    "from collections import defaultdict, Counter\n",
    "\n",
    "def ddict2dict(d):\n",
    "    for k, v in d.items():\n",
    "        if isinstance(v, dict):\n",
    "            d[k] = ddict2dict(v)\n",
    "    return dict(d)\n",
    "\n",
    "def retries_for_sample(kappa: int)->int:\n",
    "    return math.ceil(\n",
    "        (2 + math.log(4) + 8 * math.log(kappa)) /\n",
    "        math.log(1. / (1. - math.exp(-9.)))\n",
    "    )\n",
    "\n",
    "class AutomatonException(Exception):\n",
    "    \"\"\"The base class for all automaton-related errors.\"\"\"\n",
    "    pass\n",
    "\n",
    "\n",
    "class InvalidStateError(AutomatonException):\n",
    "    \"\"\"A state is not a valid state for this automaton.\"\"\"\n",
    "    pass\n",
    "\n",
    "\n",
    "class InvalidSymbolError(AutomatonException):\n",
    "    \"\"\"A symbol is not a valid symbol for this automaton.\"\"\"\n",
    "    pass\n",
    "\n",
    "\n",
    "class MissingStateError(AutomatonException):\n",
    "    \"\"\"A state is missing from the automaton definition.\"\"\"\n",
    "    pass\n",
    "\n",
    "\n",
    "class RejectionException(AutomatonException):\n",
    "    \"\"\"The input was rejected by the automaton.\"\"\"\n",
    "    pass\n",
    "\n",
    "\n",
    "class Automaton(metaclass=abc.ABCMeta):\n",
    "    \"\"\"An abstract base class for all automata, including Turing machines.\"\"\"\n",
    "\n",
    "    @abc.abstractmethod\n",
    "    def __init__(self):\n",
    "        \"\"\"Initialize a complete automaton.\"\"\"\n",
    "        raise NotImplementedError\n",
    "\n",
    "    @abc.abstractmethod\n",
    "    def validate(self):\n",
    "        \"\"\"Return True if this automaton is internally consistent.\"\"\"\n",
    "        raise NotImplementedError\n",
    "\n",
    "    @abc.abstractmethod\n",
    "    def read_input_stepwise(self, input_str):\n",
    "        \"\"\"Return a generator that yields each step while reading input.\"\"\"\n",
    "        raise NotImplementedError\n",
    "\n",
    "    def read_input(self, input_str, validate_final=True):\n",
    "        \"\"\"\n",
    "        Check if the given string is accepted by this automaton.\n",
    "\n",
    "        Return the automaton's final configuration. If validate_final is true,\n",
    "        this will return the final configuration only if this string is valid,\n",
    "        raising RejectionException otherwise.\n",
    "        \"\"\"\n",
    "        validation_generator = self.read_input_stepwise(input_str, validate_final=validate_final)\n",
    "        for config in validation_generator:\n",
    "            pass\n",
    "        return config\n",
    "    \n",
    "    \n",
    "    def accepts_input(self, input_str):\n",
    "        \"\"\"Return True if this automaton accepts the given input.\"\"\"\n",
    "        try:\n",
    "            self.read_input(input_str)\n",
    "            return True\n",
    "        except RejectionException:\n",
    "            return False\n",
    "\n",
    "    def _validate_initial_states(self):\n",
    "        \"\"\"Raise an error if any of the initial states is invalid.\"\"\"\n",
    "        invalid_states = self.initial_states - self.states\n",
    "        if invalid_states:\n",
    "            raise InvalidStateError(\n",
    "                'inital states are not valid ({})'.format(\n",
    "                    ', '.join(str(state) for state in invalid_states)))\n",
    "\n",
    "    def _validate_initial_states_transitions(self):\n",
    "        \"\"\"Raise an error if any initial state has no transitions defined.\"\"\"\n",
    "        for initial_state in self.initial_states:\n",
    "            if initial_state not in self.transitions:\n",
    "                raise MissingStateError(\n",
    "                    'initial state {} has no transitions defined'.format(\n",
    "                        initial_state))\n",
    "\n",
    "    def _validate_final_states(self):\n",
    "        \"\"\"Raise an error if any final states are invalid.\"\"\"\n",
    "        invalid_states = self.final_states - self.states\n",
    "        if invalid_states:\n",
    "            raise InvalidStateError(\n",
    "                'final states are not valid ({})'.format(\n",
    "                    ', '.join(str(state) for state in invalid_states)))\n",
    "\n",
    "    def copy(self):\n",
    "        \"\"\"Create a deep copy of the automaton.\"\"\"\n",
    "        return self.__class__(**vars(self))\n",
    "\n",
    "    def __eq__(self, other):\n",
    "        \"\"\"Check if two automata are equal.\"\"\"\n",
    "        return vars(self) == vars(other)\n",
    "\n",
    "\n",
    "class FA(Automaton, metaclass=abc.ABCMeta):\n",
    "    \"\"\"An abstract base class for finite automata.\"\"\"\n",
    "    pass\n",
    "\n",
    "\n",
    "class NFA(FA):\n",
    "    \"\"\"A nondeterministic finite automaton.\"\"\"\n",
    "    def __init__(self, *, states, input_symbols, transitions,\n",
    "                 initial_states, final_states,\n",
    "                 states_by_layer=None, reverse_transitions=None):\n",
    "        \"\"\"Initialize a complete NFA.\"\"\"\n",
    "        self.states = states.copy()\n",
    "        self.input_symbols = input_symbols.copy()\n",
    "        self.transitions = copy.deepcopy(transitions)\n",
    "        self.initial_states = initial_states\n",
    "        self.final_states = final_states.copy()\n",
    "        self.validate()\n",
    "\n",
    "        # --- Counting utilities ---\n",
    "        self.states_by_layer = states_by_layer\n",
    "        self.sketch = defaultdict(dict)\n",
    "        self.n_for_sets = {}\n",
    "        self.n_for_states = {}\n",
    "        self.s_for_states = defaultdict(Counter)\n",
    "        self.reverse_transitions = reverse_transitions\n",
    "        self.sorted_symbols = sorted(self.input_symbols)\n",
    "        \n",
    "\n",
    "    def _validate_transition_invalid_symbols(self, start_state, paths):\n",
    "        \"\"\"Raise an error if transition symbols are invalid.\"\"\"\n",
    "        for input_symbol in paths.keys():\n",
    "            if input_symbol not in self.input_symbols and input_symbol != '':\n",
    "                raise InvalidSymbolError(\n",
    "                    'state {} has invalid transition symbol {}'.format(\n",
    "                        start_state, input_symbol))\n",
    "\n",
    "    def _validate_transition_end_states(self, start_state, paths):\n",
    "        \"\"\"Raise an error if transition end states are invalid.\"\"\"\n",
    "        for end_states in paths.values():\n",
    "            for end_state in end_states:\n",
    "                if end_state not in self.states:\n",
    "                    raise InvalidStateError(\n",
    "                        'end state {} for transition on {} is '\n",
    "                        'not valid'.format(end_state, start_state))\n",
    "\n",
    "    def validate(self):\n",
    "        \"\"\"Return True if this NFA is internally consistent.\"\"\"\n",
    "        for start_state, paths in self.transitions.items():\n",
    "            self._validate_transition_invalid_symbols(start_state, paths)\n",
    "            self._validate_transition_end_states(start_state, paths)\n",
    "        self._validate_initial_states()\n",
    "        self._validate_initial_states_transitions()\n",
    "        self._validate_final_states()\n",
    "        return True\n",
    "\n",
    "    def __get_epsilon_closure(self, start_state):\n",
    "        \"\"\"\n",
    "        Return the epsilon closure for the given state.\n",
    "\n",
    "        The epsilon closure of a state q is the set containing q, along with\n",
    "        every state that can be reached from q by following only epsilon\n",
    "        transitions.\n",
    "        \"\"\"\n",
    "        stack = []\n",
    "        encountered_states = set()\n",
    "        stack.append(start_state)\n",
    "\n",
    "        while stack:\n",
    "            state = stack.pop()\n",
    "            if state not in encountered_states:\n",
    "                encountered_states.add(state)\n",
    "                if '' in self.transitions[state]:\n",
    "                    stack.extend(self.transitions[state][''])\n",
    "\n",
    "        return encountered_states\n",
    "\n",
    "    def _get_next_current_states(self, current_states, input_symbol):\n",
    "        \"\"\"Return the next set of current states given the current set.\"\"\"\n",
    "        next_current_states = set()\n",
    "        for current_state in current_states:\n",
    "            symbol_end_states = self.transitions[current_state].get(\n",
    "                input_symbol)\n",
    "            if symbol_end_states:\n",
    "                for end_state in symbol_end_states:\n",
    "                        next_current_states.add(end_state)\n",
    "\n",
    "        return next_current_states\n",
    "    \n",
    "        \"\"\"\n",
    "        for current_state in current_states:\n",
    "            symbol_end_states = self.transitions[current_state].get(\n",
    "                input_symbol)\n",
    "            if symbol_end_states:\n",
    "                for end_state in symbol_end_states:\n",
    "                    next_current_states.update(\n",
    "                        self._get_epsilon_closure(end_state))\n",
    "\n",
    "        return next_current_states\n",
    "        \"\"\"\n",
    "\n",
    "    def _check_for_input_rejection(self, current_states):\n",
    "        \"\"\"Raise an error if the given config indicates rejected input.\"\"\"\n",
    "        if not (current_states & self.final_states):\n",
    "            raise RejectionException(\n",
    "                'the NFA stopped on all non-final states ({})'.format(\n",
    "                    ', '.join(str(state) for state in current_states)))\n",
    "\n",
    "    def read_input_stepwise(self, input_str, validate_final=True):\n",
    "        \"\"\"\n",
    "        Check if the given string is accepted by this NFA.\n",
    "\n",
    "        Yield the current configuration of the NFA at each step.\n",
    "        \"\"\"\n",
    "        # current_states = self._get_epsilon_closure(self.initial_state)\n",
    "        current_states = self.initial_states\n",
    "\n",
    "        yield current_states\n",
    "        for input_symbol in input_str:\n",
    "            current_states = self._get_next_current_states(\n",
    "                current_states, input_symbol)\n",
    "            yield current_states\n",
    "        \n",
    "        if validate_final:\n",
    "            self._check_for_input_rejection(current_states)\n",
    "            \n",
    "    def reachable(self, input_str: str, state)->bool:\n",
    "        \"\"\"\n",
    "        Returns true if the NFA reaches the state after reading input_str\n",
    "        \"\"\"\n",
    "        return bool(self.read_input(input_str, validate_final=False) & set([state]))\n",
    "    \n",
    "    @staticmethod\n",
    "    def remove_unreachable_states(initial_states: set, transitions: dict, n: int):\n",
    "        \"\"\"\n",
    "        Filters states that are unreachable from an initial state\n",
    "        by traversing one layer at a time.\n",
    "        \n",
    "        It returns a tuple of the form\n",
    "        (\n",
    "            all_reachable_states: set of states,\n",
    "            reachable_states_by_layer: dict of layer -> set of states,\n",
    "            reachable_transitions: dict of state p -> symbol a -> state q,\n",
    "            rev_reachable_transitions: dict of state q -> symbol a -> state p,\n",
    "        )\n",
    "        \n",
    "        Note that here states are tuples of strings (former states) and layer integers.\n",
    "        \"\"\"\n",
    "        reachable_states_by_layer = {0: initial_states}\n",
    "        all_reachable_states = initial_states.copy()\n",
    "        for next_layer in range(1, n+1):\n",
    "            this_layer_reachable = reachable_states_by_layer[next_layer-1]\n",
    "            next_layer_reachable = set()\n",
    "            for current_state in this_layer_reachable:\n",
    "                for symbol, new_states in transitions[current_state].items():\n",
    "                    for new_state in new_states:\n",
    "                        next_layer_reachable.add(new_state)\n",
    "            all_reachable_states.update(next_layer_reachable)\n",
    "            reachable_states_by_layer[next_layer] = next_layer_reachable\n",
    "        \n",
    "        \n",
    "        reachable_transitions = defaultdict(lambda: defaultdict(set))\n",
    "        rev_reachable_transitions = defaultdict(lambda: defaultdict(set))\n",
    "        \n",
    "        for p, trans in transitions.items():\n",
    "            if p not in all_reachable_states:\n",
    "                print(f\"Unreachable state {p} was removed\")\n",
    "                continue\n",
    "            for a, qs in trans.items():\n",
    "                for q in qs:\n",
    "                    if q not in all_reachable_states:\n",
    "                        print(f\"Unreachable state {q} was removed\")\n",
    "                        continue\n",
    "                    reachable_transitions[p][a].add(q)\n",
    "                    rev_reachable_transitions[q][a].add(p)\n",
    "                    \n",
    "        \n",
    "        return all_reachable_states, reachable_states_by_layer, reachable_transitions, rev_reachable_transitions\n",
    "    \n",
    "    \n",
    "    def unroll(self, n: int):\n",
    "        \"\"\"\n",
    "        Builds A_unroll with n levels\n",
    "        to estimate |L(F^n)|\n",
    "        \"\"\"\n",
    "        # for each state q ∈ Q, include copies q_0 , q_1 , ..., q n in A unroll\n",
    "        new_states = {(q,i) for q in self.states for i in range(1, n+1)}\n",
    "        # new_states_by_layer = {i: {(q,i) for q in self.states} for i in range(1, n+1)}\n",
    "        new_states.update({(q,0) for q in self.initial_states})\n",
    "        # new_states_by_layer = {0: {(q,0) for q in self.initial_states}}\n",
    "        \n",
    "        # for each transition (p, a, q) ∈ ∆ and i ∈ {0, 1, . . . , n − 1}, include\n",
    "        # transition (p_i, a, q_i+1) in A unroll\n",
    "        new_transitions = defaultdict(lambda: defaultdict(set))\n",
    "        rev_transitions = defaultdict(lambda: defaultdict(set))\n",
    "        for p, trans in self.transitions.items():\n",
    "            for a, qs in trans.items():\n",
    "                for q in qs:\n",
    "                    for i in range(n):\n",
    "                        # state -> symbol -> set of states\n",
    "                        new_transitions[p,i][a].add((q,i+1))\n",
    "                        rev_transitions[q,i+1][a].add((p,i))\n",
    "        \n",
    "        \n",
    "        new_initial_states = {(q,0) for q in self.initial_states}\n",
    "        new_final_states = {(q,n) for q in self.final_states}\n",
    "        # cleanup of unreachable states\n",
    "        new_states, new_states_by_layer, new_transitions, rev_transitions = NFA.remove_unreachable_states(\n",
    "            initial_states=new_initial_states, transitions=new_transitions, n=n\n",
    "        )\n",
    "        new_transitions = ddict2dict(new_transitions)\n",
    "        rev_transitions = ddict2dict(rev_transitions)\n",
    "        print(new_transitions)\n",
    "        nfa_unroll =  NFA(states=new_states,\n",
    "                          input_symbols=self.input_symbols,\n",
    "                          transitions=new_transitions,\n",
    "                          initial_states=new_initial_states,\n",
    "                          final_states=new_final_states,\n",
    "                          states_by_layer=new_states_by_layer,\n",
    "                          reverse_transitions=rev_transitions)\n",
    "        \n",
    "        return nfa_unroll\n",
    "    \n",
    "    def compute_n_for_single_state(self, state):\n",
    "        \"\"\"\n",
    "        Compute N(pᵅ) = Σ N(R_b) for R_b being the set of \n",
    "        incoming states which connect to pᵅ after reading symbol b.\n",
    "        \n",
    "        In simple terms, it receives a states and estimates\n",
    "        the number of different strings leading to it.\n",
    "        \"\"\"\n",
    "        \n",
    "        if state in self.n_for_states:\n",
    "            return self.n_for_states[state]\n",
    "        \n",
    "        # will store all the states on layer i-1\n",
    "        # which lead to q after reading b={0,1}\n",
    "        # {'0': {...leading_states}, '1': {...leading_states}}\n",
    "        r_b = {}\n",
    "        # will store all the N(Pᵅ) calculated with `compute_n_for_states_set`\n",
    "        n_r_b = {}\n",
    "        for b in self.sorted_symbols:\n",
    "            if b in self.reverse_transitions[state]:\n",
    "                leading_states = self.reverse_transitions[state][b]\n",
    "                r_b[b] = leading_states\n",
    "                print(f\"{state=}\", f\"{leading_states=}\")\n",
    "                n_r_b[b] = self.compute_n_for_states_set(frozenset(leading_states))\n",
    "        print(n_r_b)\n",
    "        n_q_alpha = sum(n_r_b.values())\n",
    "        self.n_for_states[state] = n_q_alpha\n",
    "        return n_q_alpha\n",
    "    \n",
    "    \n",
    "    def compute_n_for_states_set(self, states: frozenset):\n",
    "        \"\"\"\n",
    "        Compute N(Pᵅ) = Σ N(pᵅ)· |S(pᵅ)-Union(L(qᵅ) for q ≺ p)| / |S(pᵅ)|\n",
    "        \n",
    "        In simple terms, it receives a set of states and estimates\n",
    "        the number of different strings leading to all of them.\n",
    "        \"\"\"\n",
    "        if not states:\n",
    "            return 0\n",
    "        if states in self.n_for_sets:\n",
    "            return self.n_for_sets[states]\n",
    "        \n",
    "        \n",
    "        states_list = sorted(states) # linear order ≺\n",
    "        total = self.n_for_states[states_list[0]]\n",
    "        for i in range(1, len(states_list)):\n",
    "            # states[i] = (q, i), where q is the original state name in A\n",
    "            anchor_state = states_list[i] \n",
    "            state_name, level = anchor_state\n",
    "            intersection_count = 0\n",
    "            s_size = 0\n",
    "            # Now estimate the intersection rate for anchor_state\n",
    "            for previous_state in states_list[:i]:\n",
    "                for string, count in self.s_for_states[previous_state].items():\n",
    "                    s_size += count\n",
    "                    if not self.reachable(input_str=string, state=previous_state):\n",
    "                        intersection_count += count\n",
    "            intersection_rate = intersection_count / s_size if s_size > 0 else 0\n",
    "            print(\"inside n_states_set\", anchor_state, self.n_for_states, intersection_rate)\n",
    "            total += self.compute_n_for_single_state(anchor_state) * intersection_rate\n",
    "        # cache the result\n",
    "        self.n_for_sets[states] = total\n",
    "        return total\n",
    "        \n",
    "    \n",
    "    def sample(self, beta: int, states: frozenset, curr_string: str, phi: float):\n",
    "        if beta == 0:\n",
    "            print(phi)\n",
    "            if random() <= phi:\n",
    "                return curr_string\n",
    "            # return \"fail\"\n",
    "            return curr_string\n",
    "        # will store all the states on layer i-1\n",
    "        # which lead to r after reading b={0,1}\n",
    "        # {'0': {...leading_states}, '1': {...leading_states}}\n",
    "        p_beta_b = {}\n",
    "        # will store all the N(Pᵅ) calculated with `compute_n_for_states_set`\n",
    "        n_p_beta_b = {}\n",
    "        \n",
    "        for b in self.sorted_symbols:\n",
    "            all_leading_states = set()\n",
    "            for r in states:\n",
    "                all_leading_states.update(self.reverse_transitions.get(r, {}).get(b, set()))\n",
    "            fzset = frozenset(all_leading_states)\n",
    "            #print(f\"{fzset=}\")\n",
    "            p_beta_b[b] = fzset\n",
    "            n_p_beta_b[b] = self.compute_n_for_states_set(fzset)\n",
    "            \n",
    "        sum_n_p_beta = sum(n_p_beta_b.values())\n",
    "        if sum_n_p_beta == 0:\n",
    "            #print(\"Sum = 0\")\n",
    "            return None\n",
    "        chosen_symbol = choices(self.sorted_symbols, \n",
    "                                weights=[n_p_beta_b[b] / sum_n_p_beta for b in self.sorted_symbols],\n",
    "                                k=1)[0]\n",
    "        curr_string = chosen_symbol + curr_string # w_beta-1 = b · w_beta\n",
    "        chosen_states = p_beta_b[chosen_symbol] # p_beta-1 \n",
    "        new_probability = phi / (n_p_beta_b[chosen_symbol] / sum_n_p_beta) # phi / p_b\n",
    "        return self.sample(beta=beta-1, states=chosen_states, curr_string=curr_string, phi=new_probability)\n",
    "    \n",
    "    \n",
    "    def count_accepted(self, n:int, eps: float):\n",
    "        \"\"\"\n",
    "        Returns a (1 ± ε)-approximation of |L_n(A_unroll)|\n",
    "        \"\"\"\n",
    "        kappa = math.ceil(n * len(self.states) / eps)\n",
    "        # c(κ)\n",
    "        retries_sample = retries_for_sample(kappa) // 10000\n",
    "        sample_size = 2 * kappa # 2 * kappa ** 7\n",
    "        # For each state q ∈ I, set N(q_0) = |L(q_0)| = 1 \n",
    "        # and S(q_0) = L(q_0) = {λ}\n",
    "        for q in self.states_by_layer[0]:\n",
    "            self.s_for_states[q] = {'': sample_size}\n",
    "            self.n_for_states[q] = 1\n",
    "            \n",
    "        # For each i = 1, . . . , n and state q ∈ Q:\n",
    "        #   (a) Compute N(q i ) given sketch[i − 1]\n",
    "        #   (b) Sample polynomially many uniform elements from L(q_i) using\n",
    "        #       N(q_i) and sketch[i − 1], and let S(q_i) be the multiset of\n",
    "        #       uniform samples obtained\n",
    "        for i in range(1, n+1):\n",
    "            for q in self.states_by_layer[i]:\n",
    "                n_q_alpha = self.compute_n_for_single_state(q)\n",
    "                print(q, \"n_q_alpha\", n_q_alpha)\n",
    "                if n_q_alpha == 0:\n",
    "                    continue\n",
    "                this_q_samples = Counter()\n",
    "                for _ in tqdm(range(sample_size)):\n",
    "                    for retry in range(retries_sample):\n",
    "                        potential_sample = self.sample(beta=n, \n",
    "                                                       states=frozenset([q]),\n",
    "                                                       curr_string='',\n",
    "                                                       phi=math.exp(-5)/n_q_alpha)\n",
    "                        if potential_sample == \"fail\":\n",
    "                            print(\"fail\")\n",
    "                            return 0\n",
    "                        elif potential_sample is None:\n",
    "                            continue\n",
    "                        this_q_samples.update([potential_sample])\n",
    "                        break\n",
    "                    \n",
    "                # print(this_q_samples)\n",
    "                self.s_for_states[q] = this_q_samples\n",
    "        return self.compute_n_for_states_set(frozenset(self.final_states))\n",
    "                        \n",
    "                \n",
    "    def bruteforce_save_all(self, n: int):\n",
    "        if n == 0:\n",
    "            return [''] if self.accepts_input('') else []\n",
    "        accepted_strings = []\n",
    "        for i in range(2**n):\n",
    "            string_i = bin(i)[2:].zfill(n)\n",
    "            if self.accepts_input(string_i):\n",
    "                accepted_strings.append(string_i)\n",
    "        return accepted_strings\n",
    "\n",
    "    def bruteforce_count_only(self, n: int):\n",
    "        if n == 0:\n",
    "            return 1 if self.accepts_input('') else 0\n",
    "        accepted_count = 0\n",
    "        for i in tqdm(range(2**n)):\n",
    "            string_i = bin(i)[2:].zfill(n)\n",
    "            if self.accepts_input(string_i):\n",
    "                accepted_count += 1\n",
    "        return accepted_count"
   ]
  },
  {
   "cell_type": "code",
   "execution_count": 166,
   "id": "8fde9d1d",
   "metadata": {},
   "outputs": [],
   "source": [
    "nfa = NFA(\n",
    "    states={'q0', 'q1', 'q2', 'q3', 'q4', 'q5', 'q6'},\n",
    "    input_symbols={'0', '1'},\n",
    "    transitions={\n",
    "        'q0': {'0': {'q1'}, '1': {'q3'}},\n",
    "        'q1': {'0': {'q2'}},\n",
    "        'q2': {'0': {'q2'}, '1': {'q2'}},\n",
    "        'q3': {'0': {'q4'}},\n",
    "        'q4': {'0': {'q5'}},\n",
    "        'q5': {'0': {'q6'}},\n",
    "        'q6': {'0': {'q6'}, '1': {'q6'}},\n",
    "    },\n",
    "    initial_states={'q0'},\n",
    "    final_states={'q2', 'q6'}\n",
    ")"
   ]
  },
  {
   "cell_type": "code",
   "execution_count": 197,
   "id": "66dcd996",
   "metadata": {},
   "outputs": [],
   "source": [
    "nfa = NFA(\n",
    "    states={'q0', 'q1', 'q2'},\n",
    "    input_symbols={'0', '1'},\n",
    "    transitions={\n",
    "        'q0': {'0': {'q1'}},\n",
    "        # Use '' as the key name for empty string (lambda/epsilon) transitions\n",
    "        'q1': {'0': {'q1'}, '1': {'q0', 'q2'}},\n",
    "        'q2': {'1': {'q0'}}\n",
    "    },\n",
    "    initial_states={'q0'},\n",
    "    final_states={'q1'}\n",
    ")"
   ]
  },
  {
   "cell_type": "code",
   "execution_count": 9,
   "id": "348c5eaf",
   "metadata": {},
   "outputs": [
    {
     "data": {
      "application/vnd.jupyter.widget-view+json": {
       "model_id": "eaf64318626f4d3abe8028a3b107f7e2",
       "version_major": 2,
       "version_minor": 0
      },
      "text/plain": [
       "  0%|          | 0/131072 [00:00<?, ?it/s]"
      ]
     },
     "metadata": {},
     "output_type": "display_data"
    },
    {
     "data": {
      "application/vnd.jupyter.widget-view+json": {
       "model_id": "3c0c05b1b8804980a04d86b58306e845",
       "version_major": 2,
       "version_minor": 0
      },
      "text/plain": [
       "  0%|          | 0/131072 [00:00<?, ?it/s]"
      ]
     },
     "metadata": {},
     "output_type": "display_data"
    },
    {
     "data": {
      "application/vnd.jupyter.widget-view+json": {
       "model_id": "a1ecd67920264b3bab8543b6ebf5caa8",
       "version_major": 2,
       "version_minor": 0
      },
      "text/plain": [
       "  0%|          | 0/131072 [00:00<?, ?it/s]"
      ]
     },
     "metadata": {},
     "output_type": "display_data"
    },
    {
     "data": {
      "application/vnd.jupyter.widget-view+json": {
       "model_id": "66c1e7a24e37441a99485c19af5177af",
       "version_major": 2,
       "version_minor": 0
      },
      "text/plain": [
       "  0%|          | 0/131072 [00:00<?, ?it/s]"
      ]
     },
     "metadata": {},
     "output_type": "display_data"
    },
    {
     "data": {
      "application/vnd.jupyter.widget-view+json": {
       "model_id": "cac019cb1ea94792a772870836bca0a7",
       "version_major": 2,
       "version_minor": 0
      },
      "text/plain": [
       "  0%|          | 0/131072 [00:00<?, ?it/s]"
      ]
     },
     "metadata": {},
     "output_type": "display_data"
    },
    {
     "data": {
      "application/vnd.jupyter.widget-view+json": {
       "model_id": "dd6ecba156c6463e805e0a67f2ef5668",
       "version_major": 2,
       "version_minor": 0
      },
      "text/plain": [
       "  0%|          | 0/131072 [00:00<?, ?it/s]"
      ]
     },
     "metadata": {},
     "output_type": "display_data"
    },
    {
     "data": {
      "application/vnd.jupyter.widget-view+json": {
       "model_id": "a5b8c41d1e5d4208bddba7c61444151e",
       "version_major": 2,
       "version_minor": 0
      },
      "text/plain": [
       "  0%|          | 0/131072 [00:00<?, ?it/s]"
      ]
     },
     "metadata": {},
     "output_type": "display_data"
    },
    {
     "data": {
      "application/vnd.jupyter.widget-view+json": {
       "model_id": "082e16e597524a708771cb147bf8cd82",
       "version_major": 2,
       "version_minor": 0
      },
      "text/plain": [
       "  0%|          | 0/131072 [00:00<?, ?it/s]"
      ]
     },
     "metadata": {},
     "output_type": "display_data"
    },
    {
     "name": "stdout",
     "output_type": "stream",
     "text": [
      "1.19 s ± 13.1 ms per loop (mean ± std. dev. of 7 runs, 1 loop each)\n"
     ]
    }
   ],
   "source": [
    "%%timeit\n",
    "nfa.bruteforce_count_only(17)"
   ]
  },
  {
   "cell_type": "code",
   "execution_count": 199,
   "id": "58b6d54f",
   "metadata": {},
   "outputs": [
    {
     "data": {
      "application/vnd.jupyter.widget-view+json": {
       "model_id": "42fac58d434e4de8929dc89bc473829d",
       "version_major": 2,
       "version_minor": 0
      },
      "text/plain": [
       "  0%|          | 0/32 [00:00<?, ?it/s]"
      ]
     },
     "metadata": {},
     "output_type": "display_data"
    },
    {
     "data": {
      "text/plain": [
       "7"
      ]
     },
     "execution_count": 199,
     "metadata": {},
     "output_type": "execute_result"
    }
   ],
   "source": [
    "nfa.bruteforce_count_only(5)"
   ]
  },
  {
   "cell_type": "code",
   "execution_count": 37,
   "id": "5a42f437",
   "metadata": {},
   "outputs": [
    {
     "data": {
      "text/plain": [
       "True"
      ]
     },
     "execution_count": 37,
     "metadata": {},
     "output_type": "execute_result"
    }
   ],
   "source": [
    "nfa.reachable('00101', 'q2')"
   ]
  },
  {
   "cell_type": "code",
   "execution_count": 200,
   "id": "99d8342e",
   "metadata": {},
   "outputs": [],
   "source": [
    "def count_nfa(nfa: NFA, n: int, eps: float):\n",
    "    nfa_unroll = nfa.unroll(n)\n",
    "    return nfa_unroll.count_accepted(n=n, eps=eps)"
   ]
  },
  {
   "cell_type": "code",
   "execution_count": 201,
   "id": "dbd2f2d1",
   "metadata": {},
   "outputs": [
    {
     "name": "stdout",
     "output_type": "stream",
     "text": [
      "Unreachable state ('q0', 1) was removed\n",
      "Unreachable state ('q1', 0) was removed\n",
      "Unreachable state ('q2', 0) was removed\n",
      "Unreachable state ('q2', 1) was removed\n",
      "{('q0', 0): {'0': {('q1', 1)}}, ('q0', 2): {'0': {('q1', 3)}}, ('q0', 3): {'0': {('q1', 4)}}, ('q0', 4): {'0': {('q1', 5)}}, ('q1', 1): {'0': {('q1', 2)}, '1': {('q2', 2), ('q0', 2)}}, ('q1', 2): {'0': {('q1', 3)}, '1': {('q2', 3), ('q0', 3)}}, ('q1', 3): {'0': {('q1', 4)}, '1': {('q0', 4), ('q2', 4)}}, ('q1', 4): {'0': {('q1', 5)}, '1': {('q0', 5), ('q2', 5)}}, ('q2', 2): {'1': {('q0', 3)}}, ('q2', 3): {'1': {('q0', 4)}}, ('q2', 4): {'1': {('q0', 5)}}}\n",
      "state=('q1', 1) leading_states={('q0', 0)}\n",
      "{'0': 1}\n",
      "('q1', 1) n_q_alpha 1\n"
     ]
    },
    {
     "data": {
      "application/vnd.jupyter.widget-view+json": {
       "model_id": "49773271eb1d455f94abb6643310d9ba",
       "version_major": 2,
       "version_minor": 0
      },
      "text/plain": [
       "  0%|          | 0/142 [00:00<?, ?it/s]"
      ]
     },
     "metadata": {},
     "output_type": "display_data"
    },
    {
     "name": "stdout",
     "output_type": "stream",
     "text": [
      "state=('q1', 2) leading_states={('q1', 1)}\n",
      "{'0': 1}\n",
      "('q1', 2) n_q_alpha 1\n"
     ]
    },
    {
     "data": {
      "application/vnd.jupyter.widget-view+json": {
       "model_id": "79fbce9af4914b57a90e6a1cf64e1539",
       "version_major": 2,
       "version_minor": 0
      },
      "text/plain": [
       "  0%|          | 0/142 [00:00<?, ?it/s]"
      ]
     },
     "metadata": {},
     "output_type": "display_data"
    },
    {
     "name": "stdout",
     "output_type": "stream",
     "text": [
      "state=('q2', 2) leading_states={('q1', 1)}\n",
      "{'1': 1}\n",
      "('q2', 2) n_q_alpha 1\n"
     ]
    },
    {
     "data": {
      "application/vnd.jupyter.widget-view+json": {
       "model_id": "398a6c4c84074c028ba9f736175e779c",
       "version_major": 2,
       "version_minor": 0
      },
      "text/plain": [
       "  0%|          | 0/142 [00:00<?, ?it/s]"
      ]
     },
     "metadata": {},
     "output_type": "display_data"
    },
    {
     "name": "stdout",
     "output_type": "stream",
     "text": [
      "state=('q0', 2) leading_states={('q1', 1)}\n",
      "{'1': 1}\n",
      "('q0', 2) n_q_alpha 1\n"
     ]
    },
    {
     "data": {
      "application/vnd.jupyter.widget-view+json": {
       "model_id": "b5394a66fd4d45fa83b18b636d927d4d",
       "version_major": 2,
       "version_minor": 0
      },
      "text/plain": [
       "  0%|          | 0/142 [00:00<?, ?it/s]"
      ]
     },
     "metadata": {},
     "output_type": "display_data"
    },
    {
     "name": "stdout",
     "output_type": "stream",
     "text": [
      "state=('q2', 3) leading_states={('q1', 2)}\n",
      "{'1': 1}\n",
      "('q2', 3) n_q_alpha 1\n"
     ]
    },
    {
     "data": {
      "application/vnd.jupyter.widget-view+json": {
       "model_id": "3d3eef57eac04f49b1c305a8abe2a612",
       "version_major": 2,
       "version_minor": 0
      },
      "text/plain": [
       "  0%|          | 0/142 [00:00<?, ?it/s]"
      ]
     },
     "metadata": {},
     "output_type": "display_data"
    },
    {
     "name": "stdout",
     "output_type": "stream",
     "text": [
      "state=('q1', 3) leading_states={('q1', 2), ('q0', 2)}\n",
      "inside n_states_set ('q1', 2) {('q0', 0): 1, ('q1', 1): 1, ('q1', 2): 1, ('q2', 2): 1, ('q0', 2): 1, ('q2', 3): 1} 0\n",
      "{'0': 1}\n",
      "('q1', 3) n_q_alpha 1\n"
     ]
    },
    {
     "data": {
      "application/vnd.jupyter.widget-view+json": {
       "model_id": "22125e493f934b059b5567e6ed976013",
       "version_major": 2,
       "version_minor": 0
      },
      "text/plain": [
       "  0%|          | 0/142 [00:00<?, ?it/s]"
      ]
     },
     "metadata": {},
     "output_type": "display_data"
    },
    {
     "name": "stdout",
     "output_type": "stream",
     "text": [
      "state=('q0', 3) leading_states={('q1', 2), ('q2', 2)}\n",
      "inside n_states_set ('q2', 2) {('q0', 0): 1, ('q1', 1): 1, ('q1', 2): 1, ('q2', 2): 1, ('q0', 2): 1, ('q2', 3): 1, ('q1', 3): 1} 0\n",
      "{'1': 1}\n",
      "('q0', 3) n_q_alpha 1\n"
     ]
    },
    {
     "data": {
      "application/vnd.jupyter.widget-view+json": {
       "model_id": "0b85ef91a4764488812eed4c93563d5e",
       "version_major": 2,
       "version_minor": 0
      },
      "text/plain": [
       "  0%|          | 0/142 [00:00<?, ?it/s]"
      ]
     },
     "metadata": {},
     "output_type": "display_data"
    },
    {
     "name": "stdout",
     "output_type": "stream",
     "text": [
      "state=('q0', 4) leading_states={('q2', 3), ('q1', 3)}\n",
      "inside n_states_set ('q2', 3) {('q0', 0): 1, ('q1', 1): 1, ('q1', 2): 1, ('q2', 2): 1, ('q0', 2): 1, ('q2', 3): 1, ('q1', 3): 1, ('q0', 3): 1} 0\n",
      "{'1': 1}\n",
      "('q0', 4) n_q_alpha 1\n"
     ]
    },
    {
     "data": {
      "application/vnd.jupyter.widget-view+json": {
       "model_id": "e4c64a16b2e84986a7cbe48c4fb7a325",
       "version_major": 2,
       "version_minor": 0
      },
      "text/plain": [
       "  0%|          | 0/142 [00:00<?, ?it/s]"
      ]
     },
     "metadata": {},
     "output_type": "display_data"
    },
    {
     "name": "stdout",
     "output_type": "stream",
     "text": [
      "state=('q1', 4) leading_states={('q1', 3), ('q0', 3)}\n",
      "inside n_states_set ('q1', 3) {('q0', 0): 1, ('q1', 1): 1, ('q1', 2): 1, ('q2', 2): 1, ('q0', 2): 1, ('q2', 3): 1, ('q1', 3): 1, ('q0', 3): 1, ('q0', 4): 1} 0\n",
      "{'0': 1}\n",
      "('q1', 4) n_q_alpha 1\n"
     ]
    },
    {
     "data": {
      "application/vnd.jupyter.widget-view+json": {
       "model_id": "398b6984246744ad84522cc222bf4d96",
       "version_major": 2,
       "version_minor": 0
      },
      "text/plain": [
       "  0%|          | 0/142 [00:00<?, ?it/s]"
      ]
     },
     "metadata": {},
     "output_type": "display_data"
    },
    {
     "name": "stdout",
     "output_type": "stream",
     "text": [
      "state=('q2', 4) leading_states={('q1', 3)}\n",
      "{'1': 1}\n",
      "('q2', 4) n_q_alpha 1\n"
     ]
    },
    {
     "data": {
      "application/vnd.jupyter.widget-view+json": {
       "model_id": "693fe2153e0d42fa92cbc1cad67de4d3",
       "version_major": 2,
       "version_minor": 0
      },
      "text/plain": [
       "  0%|          | 0/142 [00:00<?, ?it/s]"
      ]
     },
     "metadata": {},
     "output_type": "display_data"
    },
    {
     "name": "stdout",
     "output_type": "stream",
     "text": [
      "state=('q0', 5) leading_states={('q1', 4), ('q2', 4)}\n",
      "inside n_states_set ('q2', 4) {('q0', 0): 1, ('q1', 1): 1, ('q1', 2): 1, ('q2', 2): 1, ('q0', 2): 1, ('q2', 3): 1, ('q1', 3): 1, ('q0', 3): 1, ('q0', 4): 1, ('q1', 4): 1, ('q2', 4): 1} 0\n",
      "{'1': 1}\n",
      "('q0', 5) n_q_alpha 1\n"
     ]
    },
    {
     "data": {
      "application/vnd.jupyter.widget-view+json": {
       "model_id": "a5aa9a5aade441e88f27a0c206e0831e",
       "version_major": 2,
       "version_minor": 0
      },
      "text/plain": [
       "  0%|          | 0/142 [00:00<?, ?it/s]"
      ]
     },
     "metadata": {},
     "output_type": "display_data"
    },
    {
     "name": "stdout",
     "output_type": "stream",
     "text": [
      "0.026951787996341868\n",
      "0.053903575992683736\n",
      "0.026951787996341868\n",
      "0.026951787996341868\n",
      "0.053903575992683736\n",
      "0.026951787996341868\n",
      "0.026951787996341868\n",
      "0.026951787996341868\n",
      "0.053903575992683736\n",
      "0.053903575992683736\n",
      "0.026951787996341868\n",
      "0.026951787996341868\n",
      "0.053903575992683736\n",
      "0.026951787996341868\n",
      "0.053903575992683736\n",
      "0.053903575992683736\n",
      "0.026951787996341868\n",
      "0.053903575992683736\n",
      "0.053903575992683736\n",
      "0.053903575992683736\n",
      "0.053903575992683736\n",
      "0.026951787996341868\n",
      "0.026951787996341868\n",
      "0.026951787996341868\n",
      "0.053903575992683736\n",
      "0.053903575992683736\n",
      "0.053903575992683736\n",
      "0.053903575992683736\n",
      "0.026951787996341868\n",
      "0.026951787996341868\n",
      "0.053903575992683736\n",
      "0.053903575992683736\n",
      "0.026951787996341868\n",
      "0.026951787996341868\n",
      "0.026951787996341868\n",
      "0.026951787996341868\n",
      "0.053903575992683736\n",
      "0.053903575992683736\n",
      "0.026951787996341868\n",
      "0.053903575992683736\n",
      "0.026951787996341868\n",
      "0.026951787996341868\n",
      "0.053903575992683736\n",
      "0.026951787996341868\n",
      "0.053903575992683736\n",
      "0.053903575992683736\n",
      "0.053903575992683736\n",
      "0.026951787996341868\n",
      "0.053903575992683736\n",
      "0.053903575992683736\n",
      "0.026951787996341868\n",
      "0.053903575992683736\n",
      "0.026951787996341868\n",
      "0.026951787996341868\n",
      "0.026951787996341868\n",
      "0.026951787996341868\n",
      "0.026951787996341868\n",
      "0.026951787996341868\n",
      "0.026951787996341868\n",
      "0.053903575992683736\n",
      "0.053903575992683736\n",
      "0.026951787996341868\n",
      "0.053903575992683736\n",
      "0.026951787996341868\n",
      "0.026951787996341868\n",
      "0.026951787996341868\n",
      "0.026951787996341868\n",
      "0.026951787996341868\n",
      "0.053903575992683736\n",
      "0.053903575992683736\n",
      "0.053903575992683736\n",
      "0.026951787996341868\n",
      "0.053903575992683736\n",
      "0.053903575992683736\n",
      "0.053903575992683736\n",
      "0.026951787996341868\n",
      "0.026951787996341868\n",
      "0.053903575992683736\n",
      "0.053903575992683736\n",
      "0.026951787996341868\n",
      "0.026951787996341868\n",
      "0.026951787996341868\n",
      "0.026951787996341868\n",
      "0.026951787996341868\n",
      "0.026951787996341868\n",
      "0.053903575992683736\n",
      "0.026951787996341868\n",
      "0.053903575992683736\n",
      "0.053903575992683736\n",
      "0.026951787996341868\n",
      "0.026951787996341868\n",
      "0.026951787996341868\n",
      "0.053903575992683736\n",
      "0.026951787996341868\n",
      "0.026951787996341868\n",
      "0.026951787996341868\n",
      "0.053903575992683736\n",
      "0.026951787996341868\n",
      "0.026951787996341868\n",
      "0.053903575992683736\n",
      "0.053903575992683736\n",
      "0.053903575992683736\n",
      "0.026951787996341868\n",
      "0.053903575992683736\n",
      "0.053903575992683736\n",
      "0.026951787996341868\n",
      "0.053903575992683736\n",
      "0.053903575992683736\n",
      "0.053903575992683736\n",
      "0.053903575992683736\n",
      "0.026951787996341868\n",
      "0.053903575992683736\n",
      "0.053903575992683736\n",
      "0.026951787996341868\n",
      "0.053903575992683736\n",
      "0.053903575992683736\n",
      "0.053903575992683736\n",
      "0.026951787996341868\n",
      "0.026951787996341868\n",
      "0.026951787996341868\n",
      "0.053903575992683736\n",
      "0.026951787996341868\n",
      "0.053903575992683736\n",
      "0.026951787996341868\n",
      "0.026951787996341868\n",
      "0.053903575992683736\n",
      "0.053903575992683736\n",
      "0.053903575992683736\n",
      "0.053903575992683736\n",
      "0.026951787996341868\n",
      "0.026951787996341868\n",
      "0.026951787996341868\n",
      "0.053903575992683736\n",
      "0.053903575992683736\n",
      "0.053903575992683736\n",
      "0.053903575992683736\n",
      "0.053903575992683736\n",
      "0.026951787996341868\n",
      "0.053903575992683736\n",
      "0.026951787996341868\n",
      "0.053903575992683736\n",
      "0.053903575992683736\n",
      "state=('q2', 5) leading_states={('q1', 4)}\n",
      "{'1': 1}\n",
      "('q2', 5) n_q_alpha 1\n"
     ]
    },
    {
     "data": {
      "application/vnd.jupyter.widget-view+json": {
       "model_id": "356d06a23d6a43d9888e7016075891e5",
       "version_major": 2,
       "version_minor": 0
      },
      "text/plain": [
       "  0%|          | 0/142 [00:00<?, ?it/s]"
      ]
     },
     "metadata": {},
     "output_type": "display_data"
    },
    {
     "name": "stdout",
     "output_type": "stream",
     "text": [
      "0.026951787996341868\n",
      "0.026951787996341868\n",
      "0.026951787996341868\n",
      "0.026951787996341868\n",
      "0.026951787996341868\n",
      "0.026951787996341868\n",
      "0.026951787996341868\n",
      "0.026951787996341868\n",
      "0.026951787996341868\n",
      "0.026951787996341868\n",
      "0.026951787996341868\n",
      "0.026951787996341868\n",
      "0.026951787996341868\n",
      "0.026951787996341868\n",
      "0.026951787996341868\n",
      "0.026951787996341868\n",
      "0.026951787996341868\n",
      "0.026951787996341868\n",
      "0.026951787996341868\n",
      "0.026951787996341868\n",
      "0.026951787996341868\n",
      "0.026951787996341868\n",
      "0.026951787996341868\n",
      "0.026951787996341868\n",
      "0.026951787996341868\n",
      "0.026951787996341868\n",
      "0.026951787996341868\n",
      "0.026951787996341868\n",
      "0.026951787996341868\n",
      "0.026951787996341868\n",
      "0.026951787996341868\n",
      "0.026951787996341868\n",
      "0.026951787996341868\n",
      "0.026951787996341868\n",
      "0.026951787996341868\n",
      "0.026951787996341868\n",
      "0.026951787996341868\n",
      "0.026951787996341868\n",
      "0.026951787996341868\n",
      "0.026951787996341868\n",
      "0.026951787996341868\n",
      "0.026951787996341868\n",
      "0.026951787996341868\n",
      "0.026951787996341868\n",
      "0.026951787996341868\n",
      "0.026951787996341868\n",
      "0.026951787996341868\n",
      "0.026951787996341868\n",
      "0.026951787996341868\n",
      "0.026951787996341868\n",
      "0.026951787996341868\n",
      "0.026951787996341868\n",
      "0.026951787996341868\n",
      "0.026951787996341868\n",
      "0.026951787996341868\n",
      "0.026951787996341868\n",
      "0.026951787996341868\n",
      "0.026951787996341868\n",
      "0.026951787996341868\n",
      "0.026951787996341868\n",
      "0.026951787996341868\n",
      "0.026951787996341868\n",
      "0.026951787996341868\n",
      "0.026951787996341868\n",
      "0.026951787996341868\n",
      "0.026951787996341868\n",
      "0.026951787996341868\n",
      "0.026951787996341868\n",
      "0.026951787996341868\n",
      "0.026951787996341868\n",
      "0.026951787996341868\n",
      "0.026951787996341868\n",
      "0.026951787996341868\n",
      "0.026951787996341868\n",
      "0.026951787996341868\n",
      "0.026951787996341868\n",
      "0.026951787996341868\n",
      "0.026951787996341868\n",
      "0.026951787996341868\n",
      "0.026951787996341868\n",
      "0.026951787996341868\n",
      "0.026951787996341868\n",
      "0.026951787996341868\n",
      "0.026951787996341868\n",
      "0.026951787996341868\n",
      "0.026951787996341868\n",
      "0.026951787996341868\n",
      "0.026951787996341868\n",
      "0.026951787996341868\n",
      "0.026951787996341868\n",
      "0.026951787996341868\n",
      "0.026951787996341868\n",
      "0.026951787996341868\n",
      "0.026951787996341868\n",
      "0.026951787996341868\n",
      "0.026951787996341868\n",
      "0.026951787996341868\n",
      "0.026951787996341868\n",
      "0.026951787996341868\n",
      "0.026951787996341868\n",
      "0.026951787996341868\n",
      "0.026951787996341868\n",
      "0.026951787996341868\n",
      "0.026951787996341868\n",
      "0.026951787996341868\n",
      "0.026951787996341868\n",
      "0.026951787996341868\n",
      "0.026951787996341868\n",
      "0.026951787996341868\n",
      "0.026951787996341868\n",
      "0.026951787996341868\n",
      "0.026951787996341868\n",
      "0.026951787996341868\n",
      "0.026951787996341868\n",
      "0.026951787996341868\n",
      "0.026951787996341868\n",
      "0.026951787996341868\n",
      "0.026951787996341868\n",
      "0.026951787996341868\n",
      "0.026951787996341868\n",
      "0.026951787996341868\n",
      "0.026951787996341868\n",
      "0.026951787996341868\n",
      "0.026951787996341868\n",
      "0.026951787996341868\n",
      "0.026951787996341868\n",
      "0.026951787996341868\n",
      "0.026951787996341868\n",
      "0.026951787996341868\n",
      "0.026951787996341868\n",
      "0.026951787996341868\n",
      "0.026951787996341868\n",
      "0.026951787996341868\n",
      "0.026951787996341868\n",
      "0.026951787996341868\n",
      "0.026951787996341868\n",
      "0.026951787996341868\n",
      "0.026951787996341868\n",
      "0.026951787996341868\n",
      "0.026951787996341868\n",
      "0.026951787996341868\n",
      "0.026951787996341868\n",
      "state=('q1', 5) leading_states={('q0', 4), ('q1', 4)}\n",
      "inside n_states_set ('q1', 4) {('q0', 0): 1, ('q1', 1): 1, ('q1', 2): 1, ('q2', 2): 1, ('q0', 2): 1, ('q2', 3): 1, ('q1', 3): 1, ('q0', 3): 1, ('q0', 4): 1, ('q1', 4): 1, ('q2', 4): 1, ('q0', 5): 1, ('q2', 5): 1} 0\n",
      "{'0': 1}\n",
      "('q1', 5) n_q_alpha 1\n"
     ]
    },
    {
     "data": {
      "application/vnd.jupyter.widget-view+json": {
       "model_id": "af07e45a86f14fe7b282f35524a37f02",
       "version_major": 2,
       "version_minor": 0
      },
      "text/plain": [
       "  0%|          | 0/142 [00:00<?, ?it/s]"
      ]
     },
     "metadata": {},
     "output_type": "display_data"
    },
    {
     "name": "stdout",
     "output_type": "stream",
     "text": [
      "0.053903575992683736\n",
      "0.053903575992683736\n",
      "0.053903575992683736\n",
      "0.053903575992683736\n",
      "0.053903575992683736\n",
      "0.026951787996341868\n",
      "0.026951787996341868\n",
      "0.053903575992683736\n",
      "0.026951787996341868\n",
      "0.026951787996341868\n",
      "0.026951787996341868\n",
      "0.053903575992683736\n",
      "0.053903575992683736\n",
      "0.053903575992683736\n",
      "0.026951787996341868\n",
      "0.053903575992683736\n",
      "0.053903575992683736\n",
      "0.053903575992683736\n",
      "0.053903575992683736\n",
      "0.053903575992683736\n",
      "0.053903575992683736\n",
      "0.053903575992683736\n",
      "0.053903575992683736\n",
      "0.053903575992683736\n",
      "0.026951787996341868\n",
      "0.053903575992683736\n",
      "0.053903575992683736\n",
      "0.053903575992683736\n",
      "0.053903575992683736\n",
      "0.053903575992683736\n",
      "0.053903575992683736\n",
      "0.053903575992683736\n",
      "0.053903575992683736\n",
      "0.026951787996341868\n",
      "0.053903575992683736\n",
      "0.053903575992683736\n",
      "0.053903575992683736\n",
      "0.026951787996341868\n",
      "0.053903575992683736\n",
      "0.026951787996341868\n",
      "0.053903575992683736\n",
      "0.053903575992683736\n",
      "0.053903575992683736\n",
      "0.026951787996341868\n",
      "0.053903575992683736\n",
      "0.026951787996341868\n",
      "0.026951787996341868\n",
      "0.053903575992683736\n",
      "0.026951787996341868\n",
      "0.053903575992683736\n",
      "0.026951787996341868\n",
      "0.053903575992683736\n",
      "0.026951787996341868\n",
      "0.053903575992683736\n",
      "0.026951787996341868\n",
      "0.026951787996341868\n",
      "0.053903575992683736\n",
      "0.053903575992683736\n",
      "0.026951787996341868\n",
      "0.026951787996341868\n",
      "0.026951787996341868\n",
      "0.026951787996341868\n",
      "0.053903575992683736\n",
      "0.053903575992683736\n",
      "0.026951787996341868\n",
      "0.053903575992683736\n",
      "0.026951787996341868\n",
      "0.053903575992683736\n",
      "0.053903575992683736\n",
      "0.053903575992683736\n",
      "0.026951787996341868\n",
      "0.053903575992683736\n",
      "0.053903575992683736\n",
      "0.053903575992683736\n",
      "0.053903575992683736\n",
      "0.026951787996341868\n",
      "0.053903575992683736\n",
      "0.026951787996341868\n",
      "0.053903575992683736\n",
      "0.053903575992683736\n",
      "0.053903575992683736\n",
      "0.053903575992683736\n",
      "0.026951787996341868\n",
      "0.026951787996341868\n",
      "0.053903575992683736\n",
      "0.053903575992683736\n",
      "0.053903575992683736\n",
      "0.053903575992683736\n",
      "0.053903575992683736\n",
      "0.053903575992683736\n",
      "0.053903575992683736\n",
      "0.053903575992683736\n",
      "0.053903575992683736\n",
      "0.053903575992683736\n",
      "0.053903575992683736\n",
      "0.053903575992683736\n",
      "0.053903575992683736\n",
      "0.053903575992683736\n",
      "0.053903575992683736\n",
      "0.053903575992683736\n",
      "0.026951787996341868\n",
      "0.053903575992683736\n",
      "0.053903575992683736\n",
      "0.026951787996341868\n",
      "0.053903575992683736\n",
      "0.026951787996341868\n",
      "0.053903575992683736\n",
      "0.053903575992683736\n",
      "0.053903575992683736\n",
      "0.053903575992683736\n",
      "0.026951787996341868\n",
      "0.053903575992683736\n",
      "0.053903575992683736\n",
      "0.026951787996341868\n",
      "0.026951787996341868\n",
      "0.053903575992683736\n",
      "0.053903575992683736\n",
      "0.026951787996341868\n",
      "0.053903575992683736\n",
      "0.026951787996341868\n",
      "0.053903575992683736\n",
      "0.026951787996341868\n",
      "0.053903575992683736\n",
      "0.053903575992683736\n",
      "0.053903575992683736\n",
      "0.053903575992683736\n",
      "0.053903575992683736\n",
      "0.053903575992683736\n",
      "0.026951787996341868\n",
      "0.053903575992683736\n",
      "0.053903575992683736\n",
      "0.026951787996341868\n",
      "0.053903575992683736\n",
      "0.053903575992683736\n",
      "0.053903575992683736\n",
      "0.053903575992683736\n",
      "0.053903575992683736\n",
      "0.053903575992683736\n",
      "0.026951787996341868\n",
      "0.026951787996341868\n",
      "0.026951787996341868\n",
      "0.053903575992683736\n"
     ]
    },
    {
     "data": {
      "text/plain": [
       "1"
      ]
     },
     "execution_count": 201,
     "metadata": {},
     "output_type": "execute_result"
    }
   ],
   "source": [
    "count_nfa(nfa, 5, 0.99)"
   ]
  },
  {
   "cell_type": "code",
   "execution_count": 91,
   "id": "029aead8",
   "metadata": {},
   "outputs": [
    {
     "data": {
      "text/plain": [
       "189.863754266"
      ]
     },
     "execution_count": 91,
     "metadata": {},
     "output_type": "execute_result"
    }
   ],
   "source": [
    "189863754266 / 1e9"
   ]
  },
  {
   "cell_type": "code",
   "execution_count": 238,
   "id": "67504037",
   "metadata": {},
   "outputs": [
    {
     "data": {
      "text/plain": [
       "False"
      ]
     },
     "execution_count": 238,
     "metadata": {},
     "output_type": "execute_result"
    }
   ],
   "source": [
    "nfa.accepts_input('')"
   ]
  },
  {
   "cell_type": "code",
   "execution_count": 48,
   "id": "af8254aa",
   "metadata": {},
   "outputs": [
    {
     "data": {
      "text/plain": [
       "array([2., 3., 4.])"
      ]
     },
     "execution_count": 48,
     "metadata": {},
     "output_type": "execute_result"
    }
   ],
   "source": [
    "x = np.array([1.,2.,3.])\n"
   ]
  },
  {
   "cell_type": "markdown",
   "id": "0d20c1ee",
   "metadata": {},
   "source": [
    "# Experimentos estadísticos"
   ]
  },
  {
   "cell_type": "code",
   "execution_count": 103,
   "id": "f71dc4e6",
   "metadata": {},
   "outputs": [],
   "source": [
    "nfa = NFA(\n",
    "    states={'q0', 'q1', 'q2'},\n",
    "    input_symbols={'0', '1'},\n",
    "    transitions={\n",
    "        'q0': {'0': {'q1'}},\n",
    "        # Use '' as the key name for empty string (lambda/epsilon) transitions\n",
    "        'q1': {'0': {'q1'}, '1': {'q0', 'q2'}},\n",
    "        'q2': {'1': {'q0'}}\n",
    "    },\n",
    "    initial_states={'q0'},\n",
    "    final_states={'q1'}\n",
    ")"
   ]
  },
  {
   "cell_type": "code",
   "execution_count": 193,
   "id": "f5c351db",
   "metadata": {
    "scrolled": true
   },
   "outputs": [
    {
     "data": {
      "application/vnd.jupyter.widget-view+json": {
       "model_id": "91a7776c226a4646b19c9fc2d9f7fa2a",
       "version_major": 2,
       "version_minor": 0
      },
      "text/plain": [
       "  0%|          | 0/2 [00:00<?, ?it/s]"
      ]
     },
     "metadata": {},
     "output_type": "display_data"
    },
    {
     "data": {
      "application/vnd.jupyter.widget-view+json": {
       "model_id": "c17c95c156a54176810a52c2977bd8f9",
       "version_major": 2,
       "version_minor": 0
      },
      "text/plain": [
       "  0%|          | 0/4 [00:00<?, ?it/s]"
      ]
     },
     "metadata": {},
     "output_type": "display_data"
    },
    {
     "data": {
      "application/vnd.jupyter.widget-view+json": {
       "model_id": "363fdfa0dd7440058070306ca552cb88",
       "version_major": 2,
       "version_minor": 0
      },
      "text/plain": [
       "  0%|          | 0/8 [00:00<?, ?it/s]"
      ]
     },
     "metadata": {},
     "output_type": "display_data"
    },
    {
     "data": {
      "application/vnd.jupyter.widget-view+json": {
       "model_id": "6504dfd8eb8741eaa76130eacb6da6c7",
       "version_major": 2,
       "version_minor": 0
      },
      "text/plain": [
       "  0%|          | 0/16 [00:00<?, ?it/s]"
      ]
     },
     "metadata": {},
     "output_type": "display_data"
    },
    {
     "data": {
      "application/vnd.jupyter.widget-view+json": {
       "model_id": "cac85b13d6734830ac0002d0ba15e34f",
       "version_major": 2,
       "version_minor": 0
      },
      "text/plain": [
       "  0%|          | 0/32 [00:00<?, ?it/s]"
      ]
     },
     "metadata": {},
     "output_type": "display_data"
    },
    {
     "data": {
      "application/vnd.jupyter.widget-view+json": {
       "model_id": "2943c28930a345a6989204403b422996",
       "version_major": 2,
       "version_minor": 0
      },
      "text/plain": [
       "  0%|          | 0/64 [00:00<?, ?it/s]"
      ]
     },
     "metadata": {},
     "output_type": "display_data"
    },
    {
     "data": {
      "application/vnd.jupyter.widget-view+json": {
       "model_id": "12f0d9b7c4e045ba812bdebc77f7c109",
       "version_major": 2,
       "version_minor": 0
      },
      "text/plain": [
       "  0%|          | 0/128 [00:00<?, ?it/s]"
      ]
     },
     "metadata": {},
     "output_type": "display_data"
    },
    {
     "data": {
      "application/vnd.jupyter.widget-view+json": {
       "model_id": "9e177a9e1e7344218c72b80b2d8e62b0",
       "version_major": 2,
       "version_minor": 0
      },
      "text/plain": [
       "  0%|          | 0/256 [00:00<?, ?it/s]"
      ]
     },
     "metadata": {},
     "output_type": "display_data"
    },
    {
     "data": {
      "application/vnd.jupyter.widget-view+json": {
       "model_id": "cddc81340b1443c89ee124f4a718136d",
       "version_major": 2,
       "version_minor": 0
      },
      "text/plain": [
       "  0%|          | 0/512 [00:00<?, ?it/s]"
      ]
     },
     "metadata": {},
     "output_type": "display_data"
    },
    {
     "data": {
      "application/vnd.jupyter.widget-view+json": {
       "model_id": "43964f25a6f74c31a686160c9c322d96",
       "version_major": 2,
       "version_minor": 0
      },
      "text/plain": [
       "  0%|          | 0/1024 [00:00<?, ?it/s]"
      ]
     },
     "metadata": {},
     "output_type": "display_data"
    },
    {
     "data": {
      "application/vnd.jupyter.widget-view+json": {
       "model_id": "9cf0818169be4b1d9e656d2428799960",
       "version_major": 2,
       "version_minor": 0
      },
      "text/plain": [
       "  0%|          | 0/2048 [00:00<?, ?it/s]"
      ]
     },
     "metadata": {},
     "output_type": "display_data"
    },
    {
     "data": {
      "application/vnd.jupyter.widget-view+json": {
       "model_id": "560d5ce172504b919411c440202ad268",
       "version_major": 2,
       "version_minor": 0
      },
      "text/plain": [
       "  0%|          | 0/4096 [00:00<?, ?it/s]"
      ]
     },
     "metadata": {},
     "output_type": "display_data"
    },
    {
     "data": {
      "application/vnd.jupyter.widget-view+json": {
       "model_id": "6ec96663f5d441089c77b1c4e5ca52ff",
       "version_major": 2,
       "version_minor": 0
      },
      "text/plain": [
       "  0%|          | 0/8192 [00:00<?, ?it/s]"
      ]
     },
     "metadata": {},
     "output_type": "display_data"
    },
    {
     "data": {
      "application/vnd.jupyter.widget-view+json": {
       "model_id": "37efab1004a44c4fbf41d69188524f37",
       "version_major": 2,
       "version_minor": 0
      },
      "text/plain": [
       "  0%|          | 0/16384 [00:00<?, ?it/s]"
      ]
     },
     "metadata": {},
     "output_type": "display_data"
    },
    {
     "data": {
      "application/vnd.jupyter.widget-view+json": {
       "model_id": "5fc6526d54534dbb84a06597b0d5ce98",
       "version_major": 2,
       "version_minor": 0
      },
      "text/plain": [
       "  0%|          | 0/32768 [00:00<?, ?it/s]"
      ]
     },
     "metadata": {},
     "output_type": "display_data"
    },
    {
     "data": {
      "application/vnd.jupyter.widget-view+json": {
       "model_id": "74b55845558c4489a12e2626698148f6",
       "version_major": 2,
       "version_minor": 0
      },
      "text/plain": [
       "  0%|          | 0/65536 [00:00<?, ?it/s]"
      ]
     },
     "metadata": {},
     "output_type": "display_data"
    },
    {
     "data": {
      "application/vnd.jupyter.widget-view+json": {
       "model_id": "d4a47bc466c94156ab9b5b25e28493df",
       "version_major": 2,
       "version_minor": 0
      },
      "text/plain": [
       "  0%|          | 0/131072 [00:00<?, ?it/s]"
      ]
     },
     "metadata": {},
     "output_type": "display_data"
    },
    {
     "data": {
      "application/vnd.jupyter.widget-view+json": {
       "model_id": "0547b0380f934309aee83ada445b24a7",
       "version_major": 2,
       "version_minor": 0
      },
      "text/plain": [
       "  0%|          | 0/262144 [00:00<?, ?it/s]"
      ]
     },
     "metadata": {},
     "output_type": "display_data"
    },
    {
     "data": {
      "application/vnd.jupyter.widget-view+json": {
       "model_id": "55e3687790804602915af99ced743de1",
       "version_major": 2,
       "version_minor": 0
      },
      "text/plain": [
       "  0%|          | 0/524288 [00:00<?, ?it/s]"
      ]
     },
     "metadata": {},
     "output_type": "display_data"
    },
    {
     "name": "stdout",
     "output_type": "stream",
     "text": [
      "CPU times: user 11.5 s, sys: 96.1 ms, total: 11.6 s\n",
      "Wall time: 11.5 s\n"
     ]
    }
   ],
   "source": [
    "%%time\n",
    "data = [(i,nfa.bruteforce_count_only(i)/2**i) for i in range(1, 20)]"
   ]
  },
  {
   "cell_type": "code",
   "execution_count": 195,
   "id": "aa8da4df",
   "metadata": {},
   "outputs": [],
   "source": [
    "df = pd.DataFrame(data, columns=[\"i\", \"frac\"])"
   ]
  },
  {
   "cell_type": "code",
   "execution_count": 196,
   "id": "2726c943",
   "metadata": {
    "scrolled": true
   },
   "outputs": [
    {
     "data": {
      "text/plain": [
       "<AxesSubplot:xlabel='i'>"
      ]
     },
     "execution_count": 196,
     "metadata": {},
     "output_type": "execute_result"
    },
    {
     "data": {
      "image/png": "[encoded data removed]",
      "text/plain": [
       "<Figure size 432x288 with 1 Axes>"
      ]
     },
     "metadata": {},
     "output_type": "display_data"
    }
   ],
   "source": [
    "df.plot(x=\"i\", y=\"frac\")"
   ]
  },
  {
   "cell_type": "code",
   "execution_count": 18,
   "id": "63710628",
   "metadata": {
    "scrolled": true
   },
   "outputs": [
    {
     "data": {
      "text/plain": [
       "<AxesSubplot:xlabel='i'>"
      ]
     },
     "execution_count": 18,
     "metadata": {},
     "output_type": "execute_result"
    },
    {
     "data": {
      "image/png": "[encoded data removed]",
      "text/plain": [
       "<Figure size 432x288 with 1 Axes>"
      ]
     },
     "metadata": {},
     "output_type": "display_data"
    }
   ],
   "source": [
    "df[df.i >= 5].plot(x=\"i\", y=\"frac\")"
   ]
  },
  {
   "cell_type": "code",
   "execution_count": 80,
   "id": "ee04f677",
   "metadata": {},
   "outputs": [],
   "source": [
    "def fit_function(x, a, b, c):\n",
    "    return a*b**(c*x)"
   ]
  },
  {
   "cell_type": "code",
   "execution_count": 125,
   "id": "8f56e35c",
   "metadata": {},
   "outputs": [],
   "source": [
    "predictable_data = df[df.i.between(6,15)]"
   ]
  },
  {
   "cell_type": "code",
   "execution_count": 126,
   "id": "b52b7a03",
   "metadata": {
    "scrolled": true
   },
   "outputs": [],
   "source": [
    "x_data = predictable_data.i.values\n",
    "y_data = predictable_data.frac.values\n",
    "popt, pcov = scipy.optimize.curve_fit(fit_function, x_data, y_data, maxfev=1000)"
   ]
  },
  {
   "cell_type": "code",
   "execution_count": 127,
   "id": "598f46c8",
   "metadata": {
    "scrolled": false
   },
   "outputs": [
    {
     "data": {
      "image/png": "[encoded data removed]",
      "text/plain": [
       "<Figure size 1008x576 with 1 Axes>"
      ]
     },
     "metadata": {},
     "output_type": "display_data"
    }
   ],
   "source": [
    "all_data = df[df.i >= 5]\n",
    "all_x_data = all_data.i.values\n",
    "all_y_data = all_data.frac.values\n",
    "\n",
    "fig = plt.plot(all_x_data, fit_function(all_x_data, *popt), label=\"fit\")\n",
    "plt.plot(all_x_data, all_y_data, label=\"real\")\n",
    "plt.legend();\n",
    "plt.title(\"Comparación valores predichos y reales\")\n",
    "plt.gcf().set_size_inches((14,8))"
   ]
  },
  {
   "cell_type": "code",
   "execution_count": 128,
   "id": "c97c6294",
   "metadata": {
    "scrolled": false
   },
   "outputs": [
    {
     "data": {
      "image/png": "[encoded data removed]",
      "text/plain": [
       "<Figure size 1008x576 with 1 Axes>"
      ]
     },
     "metadata": {},
     "output_type": "display_data"
    }
   ],
   "source": [
    "plt.plot(all_x_data, fit_function(all_x_data, *popt) - all_y_data, label=\"fit\")\n",
    "plt.legend();\n",
    "plt.title(\"Residuos\")\n",
    "plt.gcf().set_size_inches((14,8))"
   ]
  },
  {
   "cell_type": "code",
   "execution_count": 187,
   "id": "2f43acaa",
   "metadata": {},
   "outputs": [
    {
     "data": {
      "text/plain": [
       "223370.95377811417"
      ]
     },
     "execution_count": 187,
     "metadata": {},
     "output_type": "execute_result"
    }
   ],
   "source": [
    "k = 22\n",
    "pred_for_k = fit_function(k, *popt) * 2**k\n",
    "pred_for_k"
   ]
  },
  {
   "cell_type": "code",
   "execution_count": 191,
   "id": "b8d01bc7",
   "metadata": {},
   "outputs": [
    {
     "data": {
      "text/plain": [
       "[(6, 13),\n",
       " (7, 23),\n",
       " (8, 44),\n",
       " (9, 81),\n",
       " (10, 148),\n",
       " (11, 274),\n",
       " (12, 504),\n",
       " (13, 927),\n",
       " (14, 1705),\n",
       " (15, 3136),\n",
       " (16, 5768),\n",
       " (17, 10610),\n",
       " (18, 19516),\n",
       " (19, 35896),\n",
       " (20, 66025),\n",
       " (21, 121442)]"
      ]
     },
     "execution_count": 191,
     "metadata": {},
     "output_type": "execute_result"
    }
   ],
   "source": [
    "[(k,int(fit_function(k, *popt) * 2**k)) for k in range(6,22)]"
   ]
  },
  {
   "cell_type": "code",
   "execution_count": null,
   "id": "fd5c2976",
   "metadata": {},
   "outputs": [],
   "source": [
    "{{6, 13},\n",
    " {7, 23},\n",
    " {8, 44},\n",
    " {9, 81},\n",
    " {10, 148},\n",
    " {11, 274},\n",
    " {12, 504},\n",
    " {13, 927},\n",
    " {14, 1705}}"
   ]
  },
  {
   "cell_type": "code",
   "execution_count": 185,
   "id": "93afcdf5",
   "metadata": {},
   "outputs": [
    {
     "data": {
      "application/vnd.jupyter.widget-view+json": {
       "model_id": "ea9804bc49114c21b93229c19e138317",
       "version_major": 2,
       "version_minor": 0
      },
      "text/plain": [
       "  0%|          | 0/8388608 [00:00<?, ?it/s]"
      ]
     },
     "metadata": {},
     "output_type": "display_data"
    },
    {
     "name": "stdout",
     "output_type": "stream",
     "text": [
      "CPU times: user 1min 27s, sys: 433 ms, total: 1min 28s\n",
      "Wall time: 1min 27s\n"
     ]
    },
    {
     "data": {
      "text/plain": [
       "410744"
      ]
     },
     "execution_count": 185,
     "metadata": {},
     "output_type": "execute_result"
    }
   ],
   "source": [
    "%%time\n",
    "ground_truth_k = nfa.bruteforce_count_only(k)\n",
    "ground_truth_k"
   ]
  },
  {
   "cell_type": "code",
   "execution_count": 105,
   "id": "fa5dae22",
   "metadata": {
    "scrolled": true
   },
   "outputs": [
    {
     "data": {
      "text/plain": [
       "array([0.33616588, 0.94819744, 1.57440431])"
      ]
     },
     "execution_count": 105,
     "metadata": {},
     "output_type": "execute_result"
    }
   ],
   "source": [
    "popt"
   ]
  },
  {
   "cell_type": "code",
   "execution_count": 133,
   "id": "9f57c056",
   "metadata": {},
   "outputs": [
    {
     "data": {
      "text/plain": [
       "0.0002416017504899754"
      ]
     },
     "execution_count": 133,
     "metadata": {},
     "output_type": "execute_result"
    }
   ],
   "source": [
    "# Error relativo!\n",
    "(pred_for_k - ground_truth_k) / ground_truth_k"
   ]
  },
  {
   "cell_type": "code",
   "execution_count": 223,
   "id": "826aaca1",
   "metadata": {},
   "outputs": [
    {
     "data": {
      "text/plain": [
       "0.00143222384490137"
      ]
     },
     "execution_count": 223,
     "metadata": {},
     "output_type": "execute_result"
    }
   ],
   "source": [
    "# Error relativo!\n",
    "(pred_for_k - ground_truth_k) / ground_truth_k"
   ]
  },
  {
   "cell_type": "markdown",
   "id": "5f2d1465",
   "metadata": {},
   "source": [
    "- https://arxiv.org/pdf/1802.04708.pdf -> si A es acíclico, el lenguaje es finito. De hecho, $L(A) \\subseteq (\\Sigma \\cup \\{\\epsilon\\})^{|Q|}$\n",
    "- En general, para $n < |Q|$ el comportamiento se puede hardcodear, por lo que fuerza bruta o `sketch` son necesarios\n",
    "- http://www.stringology.org/cgi-bin/getfile.cgi?t=pdf&c=-&y=2013&n=03 -> hay un algoritmo $O(|Q|)$ que usa `BFS` y `gcd` para determinar si la densidad del lenguaje es exponencial o polinomial. Se basa en encontrar dos caminos distintos del mismo largo y estado de partida en una componente fuertemente conexa (SCC).\n",
    "    - Hipótesis 1: si el lenguaje tiene densidad exponencial, el gráfico $|L_n(A)|/2^n$ se verá como una constante tras al menos $n=|Q|$. Estimar es trivial para $n \\gg |Q|$, basta retornar esa proporción multiplicada por $2^n$\n",
    "    - Hipótesis 2: si el lenguaje tiene densidad polinomial, el gráfico $|L_n(A)|/2^n$ se verá como una exponencial\n",
    "    decayendo. Se puede fittear una función y aproximar para $n \\gg |Q|$"
   ]
  },
  {
   "cell_type": "code",
   "execution_count": null,
   "id": "f1555bb5",
   "metadata": {},
   "outputs": [],
   "source": []
  }
 ],
 "metadata": {
  "kernelspec": {
   "display_name": "Python 3 (ipykernel)",
   "language": "python",
   "name": "python3"
  },
  "language_info": {
   "codemirror_mode": {
    "name": "ipython",
    "version": 3
   },
   "file_extension": ".py",
   "mimetype": "text/x-python",
   "name": "python",
   "nbconvert_exporter": "python",
   "pygments_lexer": "ipython3",
   "version": "3.8.10"
  }
 },
 "nbformat": 4,
 "nbformat_minor": 5
}
