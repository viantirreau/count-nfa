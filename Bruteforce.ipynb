{
 "cells": [
  {
   "cell_type": "code",
   "execution_count": 1,
   "id": "1c43d342",
   "metadata": {},
   "outputs": [],
   "source": [
    "import pandas as pd\n",
    "import matplotlib.pyplot as plt\n",
    "import seaborn as sns\n",
    "import numpy as np\n",
    "import scipy\n",
    "\n",
    "import copy\n",
    "import abc\n",
    "import math\n",
    "from random import random, choices, randint, shuffle, normalvariate\n",
    "from tqdm.auto import tqdm as tqdm\n",
    "from collections import defaultdict, Counter\n",
    "import graphviz\n",
    "from multiprocessing import Pool\n",
    "from IPython.display import clear_output\n",
    "import pickle\n",
    "import time\n",
    "import traceback\n",
    "\n",
    "sns.set()"
   ]
  },
  {
   "cell_type": "code",
   "execution_count": 60,
   "id": "8b1f7645",
   "metadata": {},
   "outputs": [],
   "source": [
    "\"\"\"\n",
    "Classes and methods for working with nondeterministic finite automata.\n",
    "Source: https://github.com/caleb531/automata\n",
    "\"\"\"\n",
    "\n",
    "\n",
    "def ddict2dict(d):\n",
    "    for k, v in d.items():\n",
    "        if isinstance(v, dict):\n",
    "            d[k] = ddict2dict(v)\n",
    "    return dict(d)\n",
    "\n",
    "\n",
    "def retries_for_sample(kappa: int) -> int:\n",
    "    return math.ceil(\n",
    "        (2 + math.log(4) + 8 * math.log(kappa)) / math.log(1.0 / (1.0 - math.exp(-9.0)))\n",
    "    )\n",
    "\n",
    "\n",
    "class AutomatonException(Exception):\n",
    "    \"\"\"The base class for all automaton-related errors.\"\"\"\n",
    "\n",
    "    pass\n",
    "\n",
    "\n",
    "class InvalidStateError(AutomatonException):\n",
    "    \"\"\"A state is not a valid state for this automaton.\"\"\"\n",
    "\n",
    "    pass\n",
    "\n",
    "\n",
    "class InvalidSymbolError(AutomatonException):\n",
    "    \"\"\"A symbol is not a valid symbol for this automaton.\"\"\"\n",
    "\n",
    "    pass\n",
    "\n",
    "\n",
    "class MissingStateError(AutomatonException):\n",
    "    \"\"\"A state is missing from the automaton definition.\"\"\"\n",
    "\n",
    "    pass\n",
    "\n",
    "\n",
    "class RejectionException(AutomatonException):\n",
    "    \"\"\"The input was rejected by the automaton.\"\"\"\n",
    "\n",
    "    pass\n",
    "\n",
    "\n",
    "class Automaton(metaclass=abc.ABCMeta):\n",
    "    \"\"\"An abstract base class for all automata, including Turing machines.\"\"\"\n",
    "\n",
    "    @abc.abstractmethod\n",
    "    def __init__(self):\n",
    "        \"\"\"Initialize a complete automaton.\"\"\"\n",
    "        raise NotImplementedError\n",
    "\n",
    "    @abc.abstractmethod\n",
    "    def validate(self):\n",
    "        \"\"\"Return True if this automaton is internally consistent.\"\"\"\n",
    "        raise NotImplementedError\n",
    "\n",
    "    @abc.abstractmethod\n",
    "    def read_input_stepwise(self, input_str):\n",
    "        \"\"\"Return a generator that yields each step while reading input.\"\"\"\n",
    "        raise NotImplementedError\n",
    "\n",
    "    def read_input(self, input_str, validate_final=True):\n",
    "        \"\"\"\n",
    "        Check if the given string is accepted by this automaton.\n",
    "\n",
    "        Return the automaton's final configuration. If validate_final is true,\n",
    "        this will return the final configuration only if this string is valid,\n",
    "        raising RejectionException otherwise.\n",
    "        \"\"\"\n",
    "        validation_generator = self.read_input_stepwise(\n",
    "            input_str, validate_final=validate_final\n",
    "        )\n",
    "        for config in validation_generator:\n",
    "            pass\n",
    "        return config\n",
    "\n",
    "    def accepts_input(self, input_str):\n",
    "        \"\"\"Return True if this automaton accepts the given input.\"\"\"\n",
    "        try:\n",
    "            self.read_input(input_str)\n",
    "            return True\n",
    "        except RejectionException:\n",
    "            return False\n",
    "\n",
    "    def _validate_initial_states(self):\n",
    "        \"\"\"Raise an error if any of the initial states is invalid.\"\"\"\n",
    "        invalid_states = self.initial_states - self.states\n",
    "        if invalid_states:\n",
    "            raise InvalidStateError(\n",
    "                \"inital states are not valid ({})\".format(\n",
    "                    \", \".join(str(state) for state in invalid_states)\n",
    "                )\n",
    "            )\n",
    "\n",
    "    def _validate_initial_states_transitions(self):\n",
    "        \"\"\"Raise an error if any initial state has no transitions defined.\"\"\"\n",
    "        for initial_state in self.initial_states:\n",
    "            if initial_state not in self.transitions:\n",
    "                raise MissingStateError(\n",
    "                    \"initial state {} has no transitions defined\".format(initial_state)\n",
    "                )\n",
    "\n",
    "    def _validate_final_states(self):\n",
    "        \"\"\"Raise an error if any final states are invalid.\"\"\"\n",
    "        invalid_states = self.final_states - self.states\n",
    "        if invalid_states:\n",
    "            raise InvalidStateError(\n",
    "                \"final states are not valid ({})\".format(\n",
    "                    \", \".join(str(state) for state in invalid_states)\n",
    "                )\n",
    "            )\n",
    "\n",
    "    def copy(self):\n",
    "        \"\"\"Create a deep copy of the automaton.\"\"\"\n",
    "        return self.__class__(**vars(self))\n",
    "\n",
    "    def __eq__(self, other):\n",
    "        \"\"\"Check if two automata are equal.\"\"\"\n",
    "        return vars(self) == vars(other)\n",
    "\n",
    "\n",
    "class FA(Automaton, metaclass=abc.ABCMeta):\n",
    "    \"\"\"An abstract base class for finite automata.\"\"\"\n",
    "\n",
    "    pass\n",
    "\n",
    "\n",
    "class NFA(FA):\n",
    "    \"\"\"A nondeterministic finite automaton.\"\"\"\n",
    "\n",
    "    def __init__(\n",
    "        self,\n",
    "        *,\n",
    "        states,\n",
    "        input_symbols,\n",
    "        transitions,\n",
    "        initial_states,\n",
    "        final_states,\n",
    "        states_by_layer=None,\n",
    "        reverse_transitions=None,\n",
    "    ):\n",
    "        \"\"\"Initialize a complete NFA.\"\"\"\n",
    "        self.states = states.copy()\n",
    "        self.input_symbols = input_symbols.copy()\n",
    "        self.transitions = copy.deepcopy(transitions)\n",
    "        self.initial_states = initial_states\n",
    "        self.final_states = final_states.copy()\n",
    "        #self.validate()\n",
    "\n",
    "        # --- Counting utilities ---\n",
    "        self.states_by_layer = states_by_layer\n",
    "        self.sketch = defaultdict(dict)\n",
    "        self.n_for_sets = {}\n",
    "        self.n_for_states = {}\n",
    "        self.s_for_states = defaultdict(Counter)\n",
    "        self.reverse_transitions = reverse_transitions\n",
    "        self.sorted_symbols = sorted(self.input_symbols)\n",
    "\n",
    "    def _validate_transition_invalid_symbols(self, start_state, paths):\n",
    "        \"\"\"Raise an error if transition symbols are invalid.\"\"\"\n",
    "        for input_symbol in paths.keys():\n",
    "            if input_symbol not in self.input_symbols and input_symbol != \"\":\n",
    "                raise InvalidSymbolError(\n",
    "                    \"state {} has invalid transition symbol {}\".format(\n",
    "                        start_state, input_symbol\n",
    "                    )\n",
    "                )\n",
    "\n",
    "    def _validate_transition_end_states(self, start_state, paths):\n",
    "        \"\"\"Raise an error if transition end states are invalid.\"\"\"\n",
    "        for end_states in paths.values():\n",
    "            for end_state in end_states:\n",
    "                if end_state not in self.states:\n",
    "                    raise InvalidStateError(\n",
    "                        \"end state {} for transition on {} is \"\n",
    "                        \"not valid\".format(end_state, start_state)\n",
    "                    )\n",
    "\n",
    "    def validate(self):\n",
    "        \"\"\"Return True if this NFA is internally consistent.\"\"\"\n",
    "        for start_state, paths in self.transitions.items():\n",
    "            self._validate_transition_invalid_symbols(start_state, paths)\n",
    "            self._validate_transition_end_states(start_state, paths)\n",
    "        self._validate_initial_states()\n",
    "        self._validate_initial_states_transitions()\n",
    "        self._validate_final_states()\n",
    "        return True\n",
    "\n",
    "    def _get_next_current_states(self, current_states, input_symbol):\n",
    "        \"\"\"Return the next set of current states given the current set.\"\"\"\n",
    "        next_current_states = set()\n",
    "        for current_state in current_states:\n",
    "            symbol_end_states = self.transitions.get(current_state, {}).get(input_symbol)\n",
    "            if symbol_end_states:\n",
    "                for end_state in symbol_end_states:\n",
    "                    next_current_states.add(end_state)\n",
    "\n",
    "        return next_current_states\n",
    "\n",
    "    def _check_for_input_rejection(self, current_states):\n",
    "        \"\"\"Raise an error if the given config indicates rejected input.\"\"\"\n",
    "        if not (current_states & self.final_states):\n",
    "            raise RejectionException(\n",
    "                \"the NFA stopped on all non-final states ({})\".format(\n",
    "                    \", \".join(str(state) for state in current_states)\n",
    "                )\n",
    "            )\n",
    "\n",
    "    def read_input_stepwise(self, input_str, validate_final=True):\n",
    "        \"\"\"\n",
    "        Check if the given string is accepted by this NFA.\n",
    "\n",
    "        Yield the current configuration of the NFA at each step.\n",
    "        \"\"\"\n",
    "        # current_states = self._get_epsilon_closure(self.initial_state)\n",
    "        current_states = self.initial_states\n",
    "\n",
    "        yield current_states\n",
    "        for input_symbol in input_str:\n",
    "            current_states = self._get_next_current_states(current_states, input_symbol)\n",
    "            yield current_states\n",
    "\n",
    "        if validate_final:\n",
    "            self._check_for_input_rejection(current_states)\n",
    "\n",
    "    def reachable(self, input_str: str, state) -> bool:\n",
    "        \"\"\"\n",
    "        Returns true if the NFA reaches the state after reading input_str\n",
    "        \"\"\"\n",
    "        return bool(self.read_input(input_str, validate_final=False) & set([state]))\n",
    "\n",
    "    @staticmethod\n",
    "    def remove_unreachable_states(initial_states: set, transitions: dict, n: int):\n",
    "        \"\"\"\n",
    "        Filters states that are unreachable from an initial state\n",
    "        by traversing one layer at a time.\n",
    "\n",
    "        It returns a tuple of the form\n",
    "        (\n",
    "            all_reachable_states: set of states,\n",
    "            reachable_states_by_layer: dict of layer -> set of states,\n",
    "            reachable_transitions: dict of state p -> symbol a -> state q,\n",
    "            rev_reachable_transitions: dict of state q -> symbol a -> state p,\n",
    "        )\n",
    "\n",
    "        Note that here states are tuples of strings (former states) and layer integers.\n",
    "        \"\"\"\n",
    "        reachable_states_by_layer = {0: initial_states}\n",
    "        all_reachable_states = initial_states.copy()\n",
    "        for next_layer in range(1, n + 1):\n",
    "            this_layer_reachable = reachable_states_by_layer[next_layer - 1]\n",
    "            next_layer_reachable = set()\n",
    "            for current_state in this_layer_reachable:\n",
    "                for new_states in transitions[current_state].values():\n",
    "                    for new_state in new_states:\n",
    "                        next_layer_reachable.add(new_state)\n",
    "            all_reachable_states.update(next_layer_reachable)\n",
    "            reachable_states_by_layer[next_layer] = next_layer_reachable\n",
    "\n",
    "        reachable_transitions = defaultdict(lambda: defaultdict(set))\n",
    "        rev_reachable_transitions = defaultdict(lambda: defaultdict(set))\n",
    "\n",
    "        for p, trans in transitions.items():\n",
    "            if p not in all_reachable_states:\n",
    "                print(f\"Unreachable state {p} was removed\")\n",
    "                continue\n",
    "            for a, qs in trans.items():\n",
    "                for q in qs:\n",
    "                    if q not in all_reachable_states:\n",
    "                        print(f\"Unreachable state {q} was removed\")\n",
    "                        continue\n",
    "                    reachable_transitions[p][a].add(q)\n",
    "                    rev_reachable_transitions[q][a].add(p)\n",
    "\n",
    "        return (\n",
    "            all_reachable_states,\n",
    "            reachable_states_by_layer,\n",
    "            reachable_transitions,\n",
    "            rev_reachable_transitions,\n",
    "        )\n",
    "\n",
    "    def unroll(self, n: int):\n",
    "        \"\"\"\n",
    "        Builds A_unroll with n levels\n",
    "        to estimate |L(F^n)|\n",
    "        \"\"\"\n",
    "        # for each state q ∈ Q, include copies q_0 , q_1 , ..., q n in A unroll\n",
    "        new_states = {(q, i) for q in self.states for i in range(1, n + 1)}\n",
    "        # new_states_by_layer = {i: {(q,i) for q in self.states} for i in range(1, n+1)}\n",
    "        new_states.update({(q, 0) for q in self.initial_states})\n",
    "        # new_states_by_layer = {0: {(q,0) for q in self.initial_states}}\n",
    "\n",
    "        # for each transition (p, a, q) ∈ ∆ and i ∈ {0, 1, . . . , n − 1}, include\n",
    "        # transition (p_i, a, q_i+1) in A unroll\n",
    "        new_transitions = defaultdict(lambda: defaultdict(set))\n",
    "        rev_transitions = defaultdict(lambda: defaultdict(set))\n",
    "        for p, trans in self.transitions.items():\n",
    "            for a, qs in trans.items():\n",
    "                for q in qs:\n",
    "                    for i in range(n):\n",
    "                        # state -> symbol -> set of states\n",
    "                        new_transitions[p, i][a].add((q, i + 1))\n",
    "                        rev_transitions[q, i + 1][a].add((p, i))\n",
    "\n",
    "        new_initial_states = {(q, 0) for q in self.initial_states}\n",
    "        new_final_states = {(q, n) for q in self.final_states}\n",
    "        # cleanup of unreachable states\n",
    "        (\n",
    "            new_states,\n",
    "            new_states_by_layer,\n",
    "            new_transitions,\n",
    "            rev_transitions,\n",
    "        ) = NFA.remove_unreachable_states(\n",
    "            initial_states=new_initial_states, transitions=new_transitions, n=n\n",
    "        )\n",
    "        new_transitions = ddict2dict(new_transitions)\n",
    "        rev_transitions = ddict2dict(rev_transitions)\n",
    "        nfa_unroll = NFA(\n",
    "            states=new_states,\n",
    "            input_symbols=self.input_symbols,\n",
    "            transitions=new_transitions,\n",
    "            initial_states=new_initial_states,\n",
    "            final_states=new_final_states,\n",
    "            states_by_layer=new_states_by_layer,\n",
    "            reverse_transitions=rev_transitions,\n",
    "        )\n",
    "\n",
    "        return nfa_unroll\n",
    "\n",
    "    def compute_n_for_single_state(self, state):\n",
    "        \"\"\"\n",
    "        Compute N(pᵅ) = Σ N(R_b) for R_b being the set of\n",
    "        incoming states which connect to pᵅ after reading symbol b.\n",
    "\n",
    "        In simple terms, it receives a states and estimates\n",
    "        the number of different strings leading to it.\n",
    "        \"\"\"\n",
    "\n",
    "        if state in self.n_for_states:\n",
    "            return self.n_for_states[state]\n",
    "\n",
    "        # will store all the N(Pᵅ) calculated with `compute_n_for_states_set`\n",
    "        n_r_b = {}\n",
    "        for b, leading_states in self.reverse_transitions.get(state, {}).items():\n",
    "            # leading_states = self.reverse_transitions[state][b]\n",
    "            n_r_b[b] = self.compute_n_for_states_set(frozenset(leading_states))\n",
    "            # print(f\"{state=}, {leading_states=}, n_r_b[{b=}]={n_r_b[b]}\")\n",
    "        n_q_alpha = sum(n_r_b.values())\n",
    "        self.n_for_states[state] = n_q_alpha\n",
    "        return n_q_alpha\n",
    "\n",
    "    def compute_n_for_states_set(self, states: frozenset):\n",
    "        \"\"\"\n",
    "        Compute N(Pᵅ) = Σ N(pᵅ)· |S(pᵅ)-Union(L(qᵅ) for q ≺ p)| / |S(pᵅ)|\n",
    "\n",
    "        In simple terms, it receives a set of states and estimates\n",
    "        the number of different strings leading to all of them.\n",
    "        \"\"\"\n",
    "        if not states:\n",
    "            return 0\n",
    "        if states in self.n_for_sets:\n",
    "            return self.n_for_sets[states]\n",
    "\n",
    "        states_list = sorted(states)  # linear order ≺\n",
    "        # Count the first state in the list alone\n",
    "        total = self.n_for_states[states_list[0]]\n",
    "        for i in range(1, len(states_list)):\n",
    "            # states[i] = (q, i), where q is the original state name in A\n",
    "            anchor_state = states_list[i]\n",
    "            intersection_count = 0\n",
    "            s_size = 0\n",
    "            # Now estimate the intersection rate for anchor_state\n",
    "            for string, count in self.s_for_states[anchor_state].items():\n",
    "                s_size += count\n",
    "                for previous_state in states_list[:i]:\n",
    "                    if not self.reachable(input_str=string, state=previous_state):\n",
    "                        intersection_count += count\n",
    "            intersection_rate = intersection_count / s_size if s_size > 0 else 0\n",
    "            # print(\n",
    "            #     \"inside n_states_set\",\n",
    "            #     anchor_state,\n",
    "            #     self.n_for_states,\n",
    "            #     intersection_rate,\n",
    "            # )\n",
    "            total += self.compute_n_for_single_state(anchor_state) * intersection_rate\n",
    "        # cache the result\n",
    "        self.n_for_sets[states] = total\n",
    "        return total\n",
    "\n",
    "    def sample(self, beta: int, states: frozenset, curr_string: str, phi: float):\n",
    "        # print(f\"sample({beta=}, {states=},{curr_string=})\")\n",
    "        if beta == 0:\n",
    "            if random() <= phi:\n",
    "                return curr_string\n",
    "            return \"fail\"\n",
    "            # return curr_string\n",
    "        # will store all the states on layer i-1\n",
    "        # which lead to r after reading b={0,1}\n",
    "        # {'0': {...leading_states}, '1': {...leading_states}}\n",
    "        p_beta_b = {}\n",
    "        # will store all the N(Pᵅ) calculated with `compute_n_for_states_set`\n",
    "        n_p_beta_b = {}\n",
    "\n",
    "        for b in self.sorted_symbols:\n",
    "            all_leading_states = set()\n",
    "            for r in states:\n",
    "                all_leading_states.update(\n",
    "                    self.reverse_transitions.get(r, {}).get(b, set())\n",
    "                )\n",
    "            fzset = frozenset(all_leading_states)\n",
    "            # print(f\"{fzset=}\")\n",
    "            p_beta_b[b] = fzset\n",
    "            n_p_beta_b[b] = self.compute_n_for_states_set(fzset)\n",
    "        # print(f\"{n_p_beta_b=}\")\n",
    "        sum_n_p_beta = sum(n_p_beta_b.values())\n",
    "        if sum_n_p_beta == 0:\n",
    "            return None\n",
    "        chosen_symbol = choices(\n",
    "            self.sorted_symbols,\n",
    "            weights=[n_p_beta_b[b] / sum_n_p_beta for b in self.sorted_symbols],\n",
    "            k=1,\n",
    "        )[0]\n",
    "        curr_string = chosen_symbol + curr_string  # w_beta-1 = b · w_beta\n",
    "        chosen_states = p_beta_b[chosen_symbol]  # p_beta-1\n",
    "        new_probability = phi / (n_p_beta_b[chosen_symbol] / sum_n_p_beta)  # phi / p_b\n",
    "        return self.sample(\n",
    "            beta=beta - 1,\n",
    "            states=chosen_states,\n",
    "            curr_string=curr_string,\n",
    "            phi=new_probability,\n",
    "        )\n",
    "\n",
    "    def count_accepted(self, n: int, eps: float):\n",
    "        \"\"\"\n",
    "        Returns a (1 ± ε)-approximation of |L_n(A_unroll)|\n",
    "        \"\"\"\n",
    "        kappa = math.ceil(n * len(self.states) / eps)\n",
    "        # c(κ)\n",
    "        retries_sample = retries_for_sample(kappa)\n",
    "        print(\"Retries per sample\", retries_sample)\n",
    "        sample_size = 2 * (kappa ** 2)  # 2 * kappa ** 7\n",
    "        print(\"Sample size\", sample_size)\n",
    "        exp_minus_five = math.exp(-5)\n",
    "        # For each state q ∈ I, set N(q_0) = |L(q_0)| = 1\n",
    "        # and S(q_0) = L(q_0) = {λ}\n",
    "        for q in self.states_by_layer[0]:\n",
    "            self.s_for_states[q] = {\"\": sample_size}\n",
    "            self.n_for_states[q] = 1\n",
    "\n",
    "        # For each i = 1, . . . , n and state q ∈ Q:\n",
    "        #   (a) Compute N(q i ) given sketch[i − 1]\n",
    "        #   (b) Sample polynomially many uniform elements from L(q_i) using\n",
    "        #       N(q_i) and sketch[i − 1], and let S(q_i) be the multiset of\n",
    "        #       uniform samples obtained\n",
    "        for i in tqdm(range(1, n + 1), desc=\"Layer\", position=0):\n",
    "            for q in tqdm(self.states_by_layer[i], desc=f\"State at layer {i}\", position=1, leave=False):\n",
    "\n",
    "                n_q_alpha = self.compute_n_for_single_state(q)\n",
    "                if n_q_alpha == 0:\n",
    "                    raise ValueError(\"oops\")\n",
    "                this_q_samples = Counter()\n",
    "                # sample probability\n",
    "                phi = exp_minus_five / n_q_alpha\n",
    "                for _ in tqdm(range(sample_size), desc=\"Sampling\", position=2, leave=False):\n",
    "                    sampled_successfully = False\n",
    "                    for retry in range(retries_sample):\n",
    "                        potential_sample = self.sample(\n",
    "                            beta=i, states=frozenset([q]), curr_string=\"\", phi=phi\n",
    "                        )\n",
    "                        if potential_sample == \"fail\":\n",
    "                            continue\n",
    "                        elif potential_sample is None:\n",
    "                            continue\n",
    "                        this_q_samples.update([potential_sample])\n",
    "                        sampled_successfully = True\n",
    "                        break\n",
    "                    if not sampled_successfully:\n",
    "                        return 0\n",
    "\n",
    "                self.s_for_states[q] = this_q_samples\n",
    "\n",
    "        return self.compute_n_for_states_set(frozenset(self.final_states))\n",
    "\n",
    "    def bruteforce_save_all(self, n: int):\n",
    "        if n == 0:\n",
    "            return [\"\"] if self.accepts_input(\"\") else []\n",
    "        accepted_strings = []\n",
    "        for i in range(2 ** n):\n",
    "            string_i = bin(i)[2:].zfill(n)\n",
    "            if self.accepts_input(string_i):\n",
    "                accepted_strings.append(string_i)\n",
    "        return accepted_strings\n",
    "\n",
    "    def bruteforce_count_only(self, n: int):\n",
    "        if n == 0:\n",
    "            return 1 if self.accepts_input(\"\") else 0\n",
    "        accepted_count = 0\n",
    "        for i in tqdm(range(2 ** n)):\n",
    "            string_i = bin(i)[2:].zfill(n)\n",
    "            if self.accepts_input(string_i):\n",
    "                accepted_count += 1\n",
    "        return accepted_count\n",
    "\n",
    "    def bruteforce_dfs(self, n: int):\n",
    "        if n == 0:\n",
    "            return 1 if self.accepts_input(\"\") else 0\n",
    "        accepted_count = 0\n",
    "        visit_queue = [(s, 0) for s in self.initial_states]  # FIFO queue\n",
    "        while visit_queue:\n",
    "            curr_state, curr_len = visit_queue.pop(-1)\n",
    "            if curr_len == n:\n",
    "                if curr_state in self.final_states:\n",
    "                    accepted_count += 1\n",
    "                continue\n",
    "            for symbol, next_states in self.transitions.get(curr_state, {}).items():\n",
    "                for next_state in next_states:\n",
    "                    visit_queue.append((next_state, curr_len + 1))\n",
    "        return accepted_count\n",
    "\n",
    "    def plot(self):\n",
    "        dot = graphviz.Digraph(\n",
    "            name=\"NFA\", graph_attr={\"rankdir\": \"LR\", \"ranksep\": \"0.5\", \"nodesep\": \"0.6\"}\n",
    "        )\n",
    "\n",
    "        for s in self.states:\n",
    "            if s in self.final_states:\n",
    "                dot.node(s, shape=\"doublecircle\")\n",
    "            else:\n",
    "                dot.node(s, shape=\"circle\")\n",
    "                \n",
    "            if s in self.initial_states:\n",
    "                dot.node(f\"{s}_init\", label=\"\", shape=\"none\", height=\"0\", width=\"0\")\n",
    "                dot.edge(f\"{s}_init\", s)\n",
    "\n",
    "        for curr_state, symbol_next_states in self.transitions.items():\n",
    "            defer_labels = []\n",
    "            for symbol, next_states in symbol_next_states.items():\n",
    "                for next_state in next_states:\n",
    "                    if next_state == curr_state:\n",
    "                        defer_labels.append(symbol)\n",
    "                        continue\n",
    "                    dot.edge(curr_state, next_state, label=symbol)\n",
    "            if defer_labels:\n",
    "                dot.edge(curr_state, curr_state, label=\",\".join(defer_labels))\n",
    "\n",
    "        return dot\n",
    "    \n",
    "    @staticmethod\n",
    "    def random_trans_sparse(states_list: list, input_symbols: set = {\"0\", \"1\"}, sparsity=0.5):\n",
    "        \"\"\"\n",
    "        Generates random transitions for the states\n",
    "        q_0 ... q_{n_states}, using the input_symbols.\n",
    "        \n",
    "        Each pair of states can be connected with up to \n",
    "        one symbol transition, as the symbol is\n",
    "        chosen at random to form a transition matrix.\n",
    "        \"\"\"\n",
    "        n_states = len(states_list)\n",
    "        # choose the transitions as a random matrix over the alphabet and the\n",
    "        # empty symbol, represented by -1\n",
    "        matrix_choices = list(input_symbols | {\"-1\"})\n",
    "        transition_matrix = np.random.choice(matrix_choices, size=(n_states, n_states))\n",
    "        transitions = {}\n",
    "        for i, from_state in enumerate(states_list):\n",
    "            transitions_from_state = defaultdict(set)\n",
    "            for j, to_state in enumerate(states_list):\n",
    "                if transition_matrix[i,j] in input_symbols:\n",
    "                    symbol = str(transition_matrix[i,j])\n",
    "                    transitions_from_state[symbol].add(to_state)\n",
    "            transitions[from_state] = transitions_from_state\n",
    "            \n",
    "        return transitions\n",
    "        \n",
    "        \n",
    "    @staticmethod\n",
    "    def random_trans_ambiguous(states_list: list, input_symbols: set = {\"0\", \"1\"}, sparsity: float = 1/3):\n",
    "        \"\"\"\n",
    "        Generates random transitions for the states\n",
    "        q_0 ... q_{n_states}, using the input_symbols.\n",
    "        \n",
    "        Each pair of states may be connected with every\n",
    "        available symbol, as a subset is chosen at\n",
    "        random for each pair.\n",
    "        \"\"\"\n",
    "        \n",
    "        input_list = list(input_symbols)\n",
    "        \n",
    "        transitions = {}\n",
    "        for i, from_state in enumerate(states_list):\n",
    "            transitions_from_state = defaultdict(set)\n",
    "            for j, to_state in enumerate(states_list):\n",
    "                if random() < sparsity:\n",
    "                    # no transition case\n",
    "                    continue\n",
    "                # each symbol has constant probability 0.5 of being part of a\n",
    "                # transition from_state->to_state\n",
    "                for symbol in input_symbols:\n",
    "                    if random() < 0.5:\n",
    "                        transitions_from_state[symbol].add(to_state)\n",
    "                    \n",
    "                \"\"\"\n",
    "                # Alternative approach\n",
    "                \n",
    "                # Note that by choosing the subset size uniformly at random,\n",
    "                # we are flattening the distribution of a random subset in\n",
    "                # which each element is included in the subset with p=0.5.\n",
    "                # That approach will tend to a binomial distribution on the\n",
    "                # subset size, which in turn tends to a normal distribution\n",
    "                # for large alphabets\n",
    "                subset_size = randint(1, len(input_symbols))\n",
    "                shuffle(input_list)\n",
    "                subset = input_list[:subset_size]\n",
    "                for symbol in subset:\n",
    "                    transitions_from_state[symbol].add(to_state)\n",
    "                        \n",
    "                \"\"\"\n",
    "            transitions[from_state] = transitions_from_state\n",
    "        return transitions\n",
    "    \n",
    "    @staticmethod\n",
    "    def random(n_states: int, input_symbols: set = {\"0\", \"1\"}, sparsity: float = 1/3):\n",
    "        \n",
    "        states_list = [f\"q{i}\" for i in range(n_states)]\n",
    "        states = set(states_list)\n",
    "        \n",
    "        transitions = NFA.random_trans_sparse(states_list=states_list, \n",
    "                                                 input_symbols=input_symbols,\n",
    "                                                 sparsity=sparsity)\n",
    "        \n",
    "        shuffle(states_list)\n",
    "        n_initial_states = max(1, min(n_states, int(normalvariate(1, (n_states**0.5) / 2))))\n",
    "        initial_states = set(states_list[:n_initial_states])\n",
    "        shuffle(states_list)\n",
    "        n_final_states = max(1, min(n_states, int(normalvariate(1, (n_states**0.5) / 2))))\n",
    "        final_states = set(states_list[:n_final_states])\n",
    "        \n",
    "        return NFA(\n",
    "            states=states,\n",
    "            input_symbols=input_symbols,\n",
    "            transitions=transitions,\n",
    "            initial_states=initial_states,\n",
    "            final_states=final_states\n",
    "        )\n",
    "        \n",
    "        "
   ]
  },
  {
   "cell_type": "code",
   "execution_count": null,
   "id": "8fde9d1d",
   "metadata": {},
   "outputs": [],
   "source": [
    "nfa = NFA(\n",
    "    states={'q0', 'q1', 'q2', 'q3', 'q4', 'q5', 'q6'},\n",
    "    input_symbols={'0', '1'},\n",
    "    transitions={\n",
    "        'q0': {'0': {'q1'}, '1': {'q3'}},\n",
    "        'q1': {'0': {'q2'}},\n",
    "        'q2': {'0': {'q2'}, '1': {'q2'}},\n",
    "        'q3': {'0': {'q4'}},\n",
    "        'q4': {'0': {'q5'}},\n",
    "        'q5': {'0': {'q6'}},\n",
    "        'q6': {'0': {'q6'}, '1': {'q6'}},\n",
    "    },\n",
    "    initial_states={'q0'},\n",
    "    final_states={'q2', 'q6'}\n",
    ")"
   ]
  },
  {
   "cell_type": "code",
   "execution_count": null,
   "id": "77c4226d",
   "metadata": {},
   "outputs": [],
   "source": [
    "nfa = NFA(\n",
    "    states={'q0', 'q1', 'q2', 'q3'},\n",
    "    input_symbols={'0', '1'},\n",
    "    transitions={\n",
    "        'q0': {'0': {'q1', 'q2'}},\n",
    "        'q1': {'0': {'q1', 'q3'}},\n",
    "        'q2': {'0': {'q3'}, '1': {'q2'} },\n",
    "        'q3': {'0': {'q3'}},\n",
    "    },\n",
    "    initial_states={'q0'},\n",
    "    final_states={'q3'}\n",
    ")"
   ]
  },
  {
   "cell_type": "code",
   "execution_count": null,
   "id": "66dcd996",
   "metadata": {},
   "outputs": [],
   "source": [
    "nfa = NFA(\n",
    "    states={'q0', 'q1', 'q2'},\n",
    "    input_symbols={'0', '1'},\n",
    "    transitions={\n",
    "        'q0': {'0': {'q1'}},\n",
    "        'q1': {'1': {'q2'}},\n",
    "        'q2': {'1': {'q0'}}\n",
    "    },\n",
    "    initial_states={'q0'},\n",
    "    final_states={'q1'}\n",
    ")"
   ]
  },
  {
   "cell_type": "code",
   "execution_count": null,
   "id": "348c5eaf",
   "metadata": {
    "scrolled": true
   },
   "outputs": [],
   "source": [
    "%%time\n",
    "nfa.bruteforce_count_only(25)"
   ]
  },
  {
   "cell_type": "code",
   "execution_count": null,
   "id": "51b1dfd2",
   "metadata": {},
   "outputs": [],
   "source": [
    "nfa.plot()"
   ]
  },
  {
   "cell_type": "code",
   "execution_count": null,
   "id": "99d8342e",
   "metadata": {},
   "outputs": [],
   "source": [
    "def count_nfa(nfa: NFA, n: int, eps: float):\n",
    "    nfa_unroll = nfa.unroll(n)\n",
    "    return nfa_unroll.count_accepted(n=n, eps=eps), nfa_unroll"
   ]
  },
  {
   "cell_type": "code",
   "execution_count": null,
   "id": "dbd2f2d1",
   "metadata": {
    "scrolled": true
   },
   "outputs": [],
   "source": [
    "count, nfa_unroll = count_nfa(nfa, 55, 1500)\n",
    "count"
   ]
  },
  {
   "cell_type": "code",
   "execution_count": null,
   "id": "290a7360",
   "metadata": {},
   "outputs": [],
   "source": [
    "1 << 50"
   ]
  },
  {
   "cell_type": "code",
   "execution_count": null,
   "id": "029aead8",
   "metadata": {},
   "outputs": [],
   "source": [
    "189863754266 / 1e9"
   ]
  },
  {
   "cell_type": "code",
   "execution_count": null,
   "id": "67504037",
   "metadata": {},
   "outputs": [],
   "source": [
    "nfa.accepts_input('')"
   ]
  },
  {
   "cell_type": "code",
   "execution_count": null,
   "id": "af8254aa",
   "metadata": {},
   "outputs": [],
   "source": [
    "x = np.array([1.,2.,3.])\n"
   ]
  },
  {
   "cell_type": "code",
   "execution_count": null,
   "id": "0e35b9bf",
   "metadata": {},
   "outputs": [],
   "source": [
    "print(nfa.plot().source)\n",
    "nfa.plot()"
   ]
  },
  {
   "cell_type": "markdown",
   "id": "0d20c1ee",
   "metadata": {},
   "source": [
    "# Experimentos estadísticos"
   ]
  },
  {
   "cell_type": "code",
   "execution_count": null,
   "id": "f71dc4e6",
   "metadata": {},
   "outputs": [],
   "source": [
    "nfa = NFA(\n",
    "    states={'q0', 'q1', 'q2'},\n",
    "    input_symbols={'0', '1'},\n",
    "    transitions={\n",
    "        'q0': {'0': {'q1'}},\n",
    "        # Use '' as the key name for empty string (lambda/epsilon) transitions\n",
    "        'q1': {\n",
    "            #'0': {'q1'},\n",
    "            '1': {'q0', 'q2'}},\n",
    "        'q2': {\n",
    "            '1': {'q0'}\n",
    "        }\n",
    "    },\n",
    "    initial_states={'q0'},\n",
    "    final_states={'q1'}\n",
    ")"
   ]
  },
  {
   "cell_type": "code",
   "execution_count": 67,
   "id": "f5c351db",
   "metadata": {
    "scrolled": true
   },
   "outputs": [
    {
     "data": {
      "application/vnd.jupyter.widget-view+json": {
       "model_id": "85be1072635e4308bbcbadd9c30a97cf",
       "version_major": 2,
       "version_minor": 0
      },
      "text/plain": [
       "  0%|          | 0/2 [00:00<?, ?it/s]"
      ]
     },
     "metadata": {},
     "output_type": "display_data"
    },
    {
     "data": {
      "application/vnd.jupyter.widget-view+json": {
       "model_id": "1fc14f94d6ef437e8b16ab135fc2baaa",
       "version_major": 2,
       "version_minor": 0
      },
      "text/plain": [
       "  0%|          | 0/4 [00:00<?, ?it/s]"
      ]
     },
     "metadata": {},
     "output_type": "display_data"
    },
    {
     "data": {
      "application/vnd.jupyter.widget-view+json": {
       "model_id": "6d634cec92d14a9d8da7d98dd4cf8a82",
       "version_major": 2,
       "version_minor": 0
      },
      "text/plain": [
       "  0%|          | 0/8 [00:00<?, ?it/s]"
      ]
     },
     "metadata": {},
     "output_type": "display_data"
    },
    {
     "data": {
      "application/vnd.jupyter.widget-view+json": {
       "model_id": "cd6f40f18b8b48c4960f4d7c653c4c3b",
       "version_major": 2,
       "version_minor": 0
      },
      "text/plain": [
       "  0%|          | 0/16 [00:00<?, ?it/s]"
      ]
     },
     "metadata": {},
     "output_type": "display_data"
    },
    {
     "data": {
      "application/vnd.jupyter.widget-view+json": {
       "model_id": "e327692a809946549b4ea303ef76a9e8",
       "version_major": 2,
       "version_minor": 0
      },
      "text/plain": [
       "  0%|          | 0/32 [00:00<?, ?it/s]"
      ]
     },
     "metadata": {},
     "output_type": "display_data"
    },
    {
     "data": {
      "application/vnd.jupyter.widget-view+json": {
       "model_id": "78ae152bc79f4a17b866947118a5e1ec",
       "version_major": 2,
       "version_minor": 0
      },
      "text/plain": [
       "  0%|          | 0/64 [00:00<?, ?it/s]"
      ]
     },
     "metadata": {},
     "output_type": "display_data"
    },
    {
     "data": {
      "application/vnd.jupyter.widget-view+json": {
       "model_id": "66f7005f409440db8734ef29ba0de4b7",
       "version_major": 2,
       "version_minor": 0
      },
      "text/plain": [
       "  0%|          | 0/128 [00:00<?, ?it/s]"
      ]
     },
     "metadata": {},
     "output_type": "display_data"
    },
    {
     "data": {
      "application/vnd.jupyter.widget-view+json": {
       "model_id": "afb10d7f4fd943a6aa13a3dc767c6e6f",
       "version_major": 2,
       "version_minor": 0
      },
      "text/plain": [
       "  0%|          | 0/256 [00:00<?, ?it/s]"
      ]
     },
     "metadata": {},
     "output_type": "display_data"
    },
    {
     "data": {
      "application/vnd.jupyter.widget-view+json": {
       "model_id": "1ed46f20888f4a83a77aebdc425a6aa1",
       "version_major": 2,
       "version_minor": 0
      },
      "text/plain": [
       "  0%|          | 0/512 [00:00<?, ?it/s]"
      ]
     },
     "metadata": {},
     "output_type": "display_data"
    },
    {
     "data": {
      "application/vnd.jupyter.widget-view+json": {
       "model_id": "b35287ee7b484377b7413049ab0360c6",
       "version_major": 2,
       "version_minor": 0
      },
      "text/plain": [
       "  0%|          | 0/1024 [00:00<?, ?it/s]"
      ]
     },
     "metadata": {},
     "output_type": "display_data"
    },
    {
     "data": {
      "application/vnd.jupyter.widget-view+json": {
       "model_id": "9d737cf4ef5844d4a5055432d7528e5f",
       "version_major": 2,
       "version_minor": 0
      },
      "text/plain": [
       "  0%|          | 0/2048 [00:00<?, ?it/s]"
      ]
     },
     "metadata": {},
     "output_type": "display_data"
    },
    {
     "data": {
      "application/vnd.jupyter.widget-view+json": {
       "model_id": "b9b07689549742b0ac5cbbf3a95a1f18",
       "version_major": 2,
       "version_minor": 0
      },
      "text/plain": [
       "  0%|          | 0/4096 [00:00<?, ?it/s]"
      ]
     },
     "metadata": {},
     "output_type": "display_data"
    },
    {
     "data": {
      "application/vnd.jupyter.widget-view+json": {
       "model_id": "b6af55c6ee444a35873c84840e512ced",
       "version_major": 2,
       "version_minor": 0
      },
      "text/plain": [
       "  0%|          | 0/8192 [00:00<?, ?it/s]"
      ]
     },
     "metadata": {},
     "output_type": "display_data"
    },
    {
     "data": {
      "application/vnd.jupyter.widget-view+json": {
       "model_id": "0955777947884e29869f4ca4d178a748",
       "version_major": 2,
       "version_minor": 0
      },
      "text/plain": [
       "  0%|          | 0/16384 [00:00<?, ?it/s]"
      ]
     },
     "metadata": {},
     "output_type": "display_data"
    },
    {
     "data": {
      "application/vnd.jupyter.widget-view+json": {
       "model_id": "0c339bc92f354102b334f7be50cd1b20",
       "version_major": 2,
       "version_minor": 0
      },
      "text/plain": [
       "  0%|          | 0/32768 [00:00<?, ?it/s]"
      ]
     },
     "metadata": {},
     "output_type": "display_data"
    },
    {
     "data": {
      "application/vnd.jupyter.widget-view+json": {
       "model_id": "e9d459cc731a45d5bf43b47b7f5909d3",
       "version_major": 2,
       "version_minor": 0
      },
      "text/plain": [
       "  0%|          | 0/65536 [00:00<?, ?it/s]"
      ]
     },
     "metadata": {},
     "output_type": "display_data"
    },
    {
     "data": {
      "application/vnd.jupyter.widget-view+json": {
       "model_id": "c318c81bc44e4871ad6a8e67f9ba7bb5",
       "version_major": 2,
       "version_minor": 0
      },
      "text/plain": [
       "  0%|          | 0/131072 [00:00<?, ?it/s]"
      ]
     },
     "metadata": {},
     "output_type": "display_data"
    },
    {
     "data": {
      "application/vnd.jupyter.widget-view+json": {
       "model_id": "81f225e1863e4a2f852dbf700e83f845",
       "version_major": 2,
       "version_minor": 0
      },
      "text/plain": [
       "  0%|          | 0/262144 [00:00<?, ?it/s]"
      ]
     },
     "metadata": {},
     "output_type": "display_data"
    },
    {
     "data": {
      "application/vnd.jupyter.widget-view+json": {
       "model_id": "c9e2c1280c764c1494d89b3961acb736",
       "version_major": 2,
       "version_minor": 0
      },
      "text/plain": [
       "  0%|          | 0/524288 [00:00<?, ?it/s]"
      ]
     },
     "metadata": {},
     "output_type": "display_data"
    },
    {
     "name": "stdout",
     "output_type": "stream",
     "text": [
      "CPU times: user 26.2 s, sys: 439 ms, total: 26.6 s\n",
      "Wall time: 28 s\n"
     ]
    }
   ],
   "source": [
    "%%time\n",
    "data = [(i,nfa.bruteforce_count_only(i)/2**i) for i in range(1, 20)]"
   ]
  },
  {
   "cell_type": "code",
   "execution_count": null,
   "id": "d39795e6",
   "metadata": {
    "scrolled": false
   },
   "outputs": [],
   "source": [
    "log_data = [(i, math.log(max(1, nfa.bruteforce_count_only(i)))) for i in range(1, 20)]"
   ]
  },
  {
   "cell_type": "code",
   "execution_count": 68,
   "id": "aa8da4df",
   "metadata": {},
   "outputs": [],
   "source": [
    "df = pd.DataFrame(data, columns=[\"i\", \"frac\"])"
   ]
  },
  {
   "cell_type": "code",
   "execution_count": 69,
   "id": "2726c943",
   "metadata": {
    "scrolled": true
   },
   "outputs": [
    {
     "data": {
      "text/plain": [
       "<AxesSubplot:xlabel='i'>"
      ]
     },
     "execution_count": 69,
     "metadata": {},
     "output_type": "execute_result"
    },
    {
     "data": {
      "image/png": "[encoded data removed]",
      "text/plain": [
       "<Figure size 432x288 with 1 Axes>"
      ]
     },
     "metadata": {},
     "output_type": "display_data"
    }
   ],
   "source": [
    "df.plot(x=\"i\", y=\"frac\")"
   ]
  },
  {
   "cell_type": "code",
   "execution_count": 52,
   "id": "4b364b19",
   "metadata": {},
   "outputs": [
    {
     "data": {
      "text/html": [
       "<div>\n",
       "<style scoped>\n",
       "    .dataframe tbody tr th:only-of-type {\n",
       "        vertical-align: middle;\n",
       "    }\n",
       "\n",
       "    .dataframe tbody tr th {\n",
       "        vertical-align: top;\n",
       "    }\n",
       "\n",
       "    .dataframe thead th {\n",
       "        text-align: right;\n",
       "    }\n",
       "</style>\n",
       "<table border=\"1\" class=\"dataframe\">\n",
       "  <thead>\n",
       "    <tr style=\"text-align: right;\">\n",
       "      <th></th>\n",
       "      <th>i</th>\n",
       "      <th>frac</th>\n",
       "    </tr>\n",
       "  </thead>\n",
       "  <tbody>\n",
       "    <tr>\n",
       "      <th>0</th>\n",
       "      <td>1</td>\n",
       "      <td>0.000000</td>\n",
       "    </tr>\n",
       "    <tr>\n",
       "      <th>1</th>\n",
       "      <td>2</td>\n",
       "      <td>0.000000</td>\n",
       "    </tr>\n",
       "    <tr>\n",
       "      <th>2</th>\n",
       "      <td>3</td>\n",
       "      <td>0.000000</td>\n",
       "    </tr>\n",
       "    <tr>\n",
       "      <th>3</th>\n",
       "      <td>4</td>\n",
       "      <td>0.062500</td>\n",
       "    </tr>\n",
       "    <tr>\n",
       "      <th>4</th>\n",
       "      <td>5</td>\n",
       "      <td>0.125000</td>\n",
       "    </tr>\n",
       "    <tr>\n",
       "      <th>5</th>\n",
       "      <td>6</td>\n",
       "      <td>0.171875</td>\n",
       "    </tr>\n",
       "    <tr>\n",
       "      <th>6</th>\n",
       "      <td>7</td>\n",
       "      <td>0.203125</td>\n",
       "    </tr>\n",
       "    <tr>\n",
       "      <th>7</th>\n",
       "      <td>8</td>\n",
       "      <td>0.222656</td>\n",
       "    </tr>\n",
       "    <tr>\n",
       "      <th>8</th>\n",
       "      <td>9</td>\n",
       "      <td>0.234375</td>\n",
       "    </tr>\n",
       "    <tr>\n",
       "      <th>9</th>\n",
       "      <td>10</td>\n",
       "      <td>0.241211</td>\n",
       "    </tr>\n",
       "    <tr>\n",
       "      <th>10</th>\n",
       "      <td>11</td>\n",
       "      <td>0.245117</td>\n",
       "    </tr>\n",
       "    <tr>\n",
       "      <th>11</th>\n",
       "      <td>12</td>\n",
       "      <td>0.247314</td>\n",
       "    </tr>\n",
       "    <tr>\n",
       "      <th>12</th>\n",
       "      <td>13</td>\n",
       "      <td>0.248535</td>\n",
       "    </tr>\n",
       "    <tr>\n",
       "      <th>13</th>\n",
       "      <td>14</td>\n",
       "      <td>0.249207</td>\n",
       "    </tr>\n",
       "    <tr>\n",
       "      <th>14</th>\n",
       "      <td>15</td>\n",
       "      <td>0.249573</td>\n",
       "    </tr>\n",
       "    <tr>\n",
       "      <th>15</th>\n",
       "      <td>16</td>\n",
       "      <td>0.249771</td>\n",
       "    </tr>\n",
       "    <tr>\n",
       "      <th>16</th>\n",
       "      <td>17</td>\n",
       "      <td>0.249878</td>\n",
       "    </tr>\n",
       "    <tr>\n",
       "      <th>17</th>\n",
       "      <td>18</td>\n",
       "      <td>0.249935</td>\n",
       "    </tr>\n",
       "    <tr>\n",
       "      <th>18</th>\n",
       "      <td>19</td>\n",
       "      <td>0.249966</td>\n",
       "    </tr>\n",
       "  </tbody>\n",
       "</table>\n",
       "</div>"
      ],
      "text/plain": [
       "     i      frac\n",
       "0    1  0.000000\n",
       "1    2  0.000000\n",
       "2    3  0.000000\n",
       "3    4  0.062500\n",
       "4    5  0.125000\n",
       "5    6  0.171875\n",
       "6    7  0.203125\n",
       "7    8  0.222656\n",
       "8    9  0.234375\n",
       "9   10  0.241211\n",
       "10  11  0.245117\n",
       "11  12  0.247314\n",
       "12  13  0.248535\n",
       "13  14  0.249207\n",
       "14  15  0.249573\n",
       "15  16  0.249771\n",
       "16  17  0.249878\n",
       "17  18  0.249935\n",
       "18  19  0.249966"
      ]
     },
     "execution_count": 52,
     "metadata": {},
     "output_type": "execute_result"
    }
   ],
   "source": [
    "df"
   ]
  },
  {
   "cell_type": "code",
   "execution_count": null,
   "id": "63710628",
   "metadata": {
    "scrolled": true
   },
   "outputs": [],
   "source": [
    "df[df.i >= 5].plot(x=\"i\", y=\"frac\")"
   ]
  },
  {
   "cell_type": "code",
   "execution_count": null,
   "id": "ee04f677",
   "metadata": {},
   "outputs": [],
   "source": [
    "def fit_function(x, a, b, c):\n",
    "    return a*b**(c*x)"
   ]
  },
  {
   "cell_type": "code",
   "execution_count": null,
   "id": "8f56e35c",
   "metadata": {},
   "outputs": [],
   "source": [
    "predictable_data = df[df.i.between(11,23)]"
   ]
  },
  {
   "cell_type": "code",
   "execution_count": null,
   "id": "b52b7a03",
   "metadata": {
    "scrolled": true
   },
   "outputs": [],
   "source": [
    "x_data = predictable_data.i.values\n",
    "y_data = predictable_data.frac.values\n",
    "popt, pcov = scipy.optimize.curve_fit(fit_function, x_data, y_data, maxfev=1000)"
   ]
  },
  {
   "cell_type": "code",
   "execution_count": null,
   "id": "598f46c8",
   "metadata": {
    "scrolled": false
   },
   "outputs": [],
   "source": [
    "all_data = df[df.i >= 5]\n",
    "all_x_data = all_data.i.values\n",
    "all_y_data = all_data.frac.values\n",
    "\n",
    "fig = plt.plot(all_x_data, fit_function(all_x_data, *popt), label=\"fit\")\n",
    "plt.plot(all_x_data, all_y_data, label=\"real\")\n",
    "plt.legend();\n",
    "plt.title(\"Comparación valores predichos y reales\")\n",
    "plt.gcf().set_size_inches((14,8))"
   ]
  },
  {
   "cell_type": "code",
   "execution_count": null,
   "id": "c97c6294",
   "metadata": {
    "scrolled": false
   },
   "outputs": [],
   "source": [
    "plt.plot(all_x_data, fit_function(all_x_data, *popt) - all_y_data, label=\"fit\")\n",
    "plt.legend();\n",
    "plt.title(\"Residuos\")\n",
    "plt.gcf().set_size_inches((14,8))"
   ]
  },
  {
   "cell_type": "code",
   "execution_count": null,
   "id": "2f43acaa",
   "metadata": {},
   "outputs": [],
   "source": [
    "k = 28\n",
    "pred_for_k = fit_function(k, *popt) * 2**k\n",
    "pred_for_k"
   ]
  },
  {
   "cell_type": "code",
   "execution_count": null,
   "id": "b8d01bc7",
   "metadata": {},
   "outputs": [],
   "source": [
    "[(k,int(fit_function(k, *popt) * 2**k)) for k in range(6,28)]"
   ]
  },
  {
   "cell_type": "code",
   "execution_count": null,
   "id": "fd5c2976",
   "metadata": {},
   "outputs": [],
   "source": [
    "{{6, 13},\n",
    " {7, 23},\n",
    " {8, 44},\n",
    " {9, 81},\n",
    " {10, 148},\n",
    " {11, 274},\n",
    " {12, 504},\n",
    " {13, 927},\n",
    " {14, 1705}}"
   ]
  },
  {
   "cell_type": "code",
   "execution_count": null,
   "id": "93afcdf5",
   "metadata": {},
   "outputs": [],
   "source": [
    "%%time\n",
    "ground_truth_k = nfa.bruteforce_dfs(k)\n",
    "ground_truth_k"
   ]
  },
  {
   "cell_type": "code",
   "execution_count": null,
   "id": "fa5dae22",
   "metadata": {
    "scrolled": true
   },
   "outputs": [],
   "source": [
    "popt"
   ]
  },
  {
   "cell_type": "code",
   "execution_count": null,
   "id": "9f57c056",
   "metadata": {},
   "outputs": [],
   "source": [
    "# Error relativo!\n",
    "(pred_for_k - ground_truth_k) / ground_truth_k"
   ]
  },
  {
   "cell_type": "code",
   "execution_count": null,
   "id": "826aaca1",
   "metadata": {},
   "outputs": [],
   "source": [
    "# Error relativo!\n",
    "(pred_for_k - ground_truth_k) / ground_truth_k"
   ]
  },
  {
   "cell_type": "markdown",
   "id": "5f2d1465",
   "metadata": {},
   "source": [
    "- https://arxiv.org/pdf/1802.04708.pdf -> si A es acíclico, el lenguaje es finito. De hecho, $L(A) \\subseteq (\\Sigma \\cup \\{\\epsilon\\})^{|Q|}$\n",
    "- En general, para $n < |Q|$ el comportamiento se puede hardcodear, por lo que fuerza bruta o `sketch` son necesarios\n",
    "- http://www.stringology.org/cgi-bin/getfile.cgi?t=pdf&c=-&y=2013&n=03 -> hay un algoritmo $O(|Q|)$ que usa `BFS` y `gcd` para determinar si la densidad del lenguaje es exponencial o polinomial. Se basa en encontrar dos caminos distintos del mismo largo y estado de partida en una componente fuertemente conexa (SCC).\n",
    "    - Hipótesis 1: si el lenguaje tiene densidad exponencial, el gráfico $|L_n(A)|/2^n$ se verá como una constante tras al menos $n=|Q|$. Estimar es trivial para $n \\gg |Q|$, basta retornar esa proporción multiplicada por $2^n$\n",
    "    - Hipótesis 2: si el lenguaje tiene densidad polinomial, el gráfico $|L_n(A)|/2^n$ se verá como una exponencial\n",
    "    decayendo. Se puede fittear una función y aproximar para $n \\gg |Q|$\n",
    "    \n",
    "- [Scholar Kai Salomaa](https://scholar.google.com/citations?hl=es&user=N3AlqdYAAAAJ&view_op=list_works&sortby=pubdate)"
   ]
  },
  {
   "cell_type": "markdown",
   "id": "eae98f5a",
   "metadata": {},
   "source": [
    "Keeler, Salomaa\n",
    "\n",
    "\n",
    "$|L(A)| \\le \\text{ambiguity} \\le \\text{string path width} \\le \\text{tree width}$\n",
    "\n",
    "- **ambiguity**: number of accepting computations of A on a given string\n",
    "- **string path width**: does not count partial computations, only complete (and maybe non-accepting) computations\n",
    "- **tree width**: all computations of A on a given string (even partial ones)"
   ]
  },
  {
   "cell_type": "code",
   "execution_count": null,
   "id": "d1b3fd02",
   "metadata": {},
   "outputs": [],
   "source": [
    "np.random.choice([\"-1\",\"0\",\"1\"], size=(3,3))[1,0]"
   ]
  },
  {
   "cell_type": "code",
   "execution_count": null,
   "id": "95f19879",
   "metadata": {},
   "outputs": [],
   "source": [
    "rand = NFA.random(n_states=5, input_symbols={\"0\", \"1\"}, sparsity=0.5)\n",
    "rand.plot()"
   ]
  },
  {
   "cell_type": "code",
   "execution_count": null,
   "id": "2a0a57e5",
   "metadata": {},
   "outputs": [],
   "source": [
    "rand.bruteforce_count_only(15)"
   ]
  },
  {
   "cell_type": "code",
   "execution_count": null,
   "id": "6b55e766",
   "metadata": {},
   "outputs": [],
   "source": [
    "count, nfa_unroll = count_nfa(rand, 15, 100)\n",
    "count"
   ]
  },
  {
   "cell_type": "code",
   "execution_count": null,
   "id": "3a5bcedc",
   "metadata": {
    "collapsed": true
   },
   "outputs": [
    {
     "name": "stdout",
     "output_type": "stream",
     "text": [
      "[1] started\n",
      "[0] started\n",
      "[2] started\n",
      "[5] started\n",
      "[3] started\n",
      "[4] started\n",
      "[5] bruteforce started\n",
      "[1] bruteforce started\n",
      "[2] bruteforce started\n",
      "[0] bruteforce started\n",
      "[4] bruteforce started\n",
      "[3] bruteforce started\n"
     ]
    },
    {
     "data": {
      "application/vnd.jupyter.widget-view+json": {
       "model_id": "68e18f88a993455184c6e8f86c8ebcfc",
       "version_major": 2,
       "version_minor": 0
      },
      "text/plain": [
       "  0%|          | 0/1024 [00:00<?, ?it/s]"
      ]
     },
     "metadata": {},
     "output_type": "display_data"
    },
    {
     "data": {
      "application/vnd.jupyter.widget-view+json": {
       "model_id": "511e67041ef842c5bc28876d3b361761",
       "version_major": 2,
       "version_minor": 0
      },
      "text/plain": [
       "  0%|          | 0/256 [00:00<?, ?it/s]"
      ]
     },
     "metadata": {},
     "output_type": "display_data"
    },
    {
     "data": {
      "application/vnd.jupyter.widget-view+json": {
       "model_id": "7b9b1afa7dfa43d5b37b078a5c5ab17b",
       "version_major": 2,
       "version_minor": 0
      },
      "text/plain": [
       "  0%|          | 0/16 [00:00<?, ?it/s]"
      ]
     },
     "metadata": {},
     "output_type": "display_data"
    },
    {
     "data": {
      "application/vnd.jupyter.widget-view+json": {
       "model_id": "858b9cf7272442b6914e0b98df7f0115",
       "version_major": 2,
       "version_minor": 0
      },
      "text/plain": [
       "  0%|          | 0/512 [00:00<?, ?it/s]"
      ]
     },
     "metadata": {},
     "output_type": "display_data"
    },
    {
     "data": {
      "application/vnd.jupyter.widget-view+json": {
       "model_id": "b3b670ed38c14700895bd3bbd9b41233",
       "version_major": 2,
       "version_minor": 0
      },
      "text/plain": [
       "  0%|          | 0/16 [00:00<?, ?it/s]"
      ]
     },
     "metadata": {},
     "output_type": "display_data"
    },
    {
     "name": "stdout",
     "output_type": "stream",
     "text": [
      "[1] insufficient accepting strings\n",
      "[6] started\n"
     ]
    },
    {
     "data": {
      "application/vnd.jupyter.widget-view+json": {
       "model_id": "f5bd6097e1dc4531b2c1030596bf08b8",
       "version_major": 2,
       "version_minor": 0
      },
      "text/plain": [
       "  0%|          | 0/16 [00:00<?, ?it/s]"
      ]
     },
     "metadata": {},
     "output_type": "display_data"
    },
    {
     "name": "stdout",
     "output_type": "stream",
     "text": [
      "[6] bruteforce started\n",
      "[4] insufficient accepting stringsUnreachable state ('q2', 1) was removed\n",
      "\n",
      "[7] started\n",
      "Unreachable state ('q2', 2) was removed[7] bruteforce started\n",
      "\n",
      "Unreachable state ('q2', 3) was removed[2] insufficient accepting strings\n",
      "\n",
      "Unreachable state ('q3', 0) was removed[8] started\n",
      "[8] bruteforce started\n",
      "Unreachable state ('q0', 0) was removed\n",
      "Unreachable state ('q4', 1) was removed[0] insufficient accepting strings\n",
      "[9] started\n",
      "[9] bruteforce started\n",
      "\n",
      "Unreachable state ('q0', 2) was removed\n",
      "Unreachable state ('q0', 3) was removed\n",
      "Unreachable state ('q1', 0) was removed\n",
      "Unreachable state ('q1', 1) was removed\n",
      "Unreachable state ('q4', 2) was removed\n",
      "\n"
     ]
    },
    {
     "data": {
      "application/vnd.jupyter.widget-view+json": {
       "model_id": "e5ff1e007c1842b4b8b7589a8fdcdd07",
       "version_major": 2,
       "version_minor": 0
      },
      "text/plain": [
       "  0%|          | 0/32 [00:00<?, ?it/s]"
      ]
     },
     "metadata": {},
     "output_type": "display_data"
    },
    {
     "name": "stdout",
     "output_type": "stream",
     "text": [
      "Unreachable state ('q4', 3) was removed\n",
      "Unreachable state ('q1', 2) was removedUnreachable state ('q5', 0) was removed\n",
      "\n",
      "Retries per sampleUnreachable state ('q2', 0) was removed"
     ]
    },
    {
     "data": {
      "application/vnd.jupyter.widget-view+json": {
       "model_id": "5dff35eba5a5422b9a56e959bac5c409",
       "version_major": 2,
       "version_minor": 0
      },
      "text/plain": [
       "  0%|          | 0/1024 [00:00<?, ?it/s]"
      ]
     },
     "metadata": {},
     "output_type": "display_data"
    },
    {
     "name": "stdout",
     "output_type": "stream",
     "text": [
      "\n"
     ]
    },
    {
     "data": {
      "application/vnd.jupyter.widget-view+json": {
       "model_id": "6e240558af1445b6aba62834e6cc2d5a",
       "version_major": 2,
       "version_minor": 0
      },
      "text/plain": [
       "  0%|          | 0/1024 [00:00<?, ?it/s]"
      ]
     },
     "metadata": {},
     "output_type": "display_data"
    },
    {
     "name": "stdout",
     "output_type": "stream",
     "text": [
      " 221624\n",
      "Sample size 800Unreachable state ('q2', 1) was removed\n",
      "\n",
      "Unreachable state ('q2', 3) was removed\n",
      "\n",
      "Unreachable state ('q3', 1) was removedUnreachable state ('q3', 2) was removedUnreachable state ('q1', 0) was removed"
     ]
    },
    {
     "data": {
      "application/vnd.jupyter.widget-view+json": {
       "model_id": "61993ea7a2ff42878e2b672af7b063cf",
       "version_major": 2,
       "version_minor": 0
      },
      "text/plain": [
       "  0%|          | 0/1024 [00:00<?, ?it/s]"
      ]
     },
     "metadata": {},
     "output_type": "display_data"
    },
    {
     "name": "stdout",
     "output_type": "stream",
     "text": [
      "\n",
      "\n",
      "Unreachable state ('q3', 3) was removed\n",
      "Retries per sampleUnreachable state ('q1', 1) was removed\n",
      " Unreachable state ('q1', 2) was removed131763\n",
      "\n",
      "Unreachable state ('q1', 3) was removed\n",
      "Sample size 50\n",
      "Unreachable state ('q0', 1) was removed[8] insufficient accepting stringsUnreachable state ('q1', 4) was removed\n",
      "\n",
      "\n",
      "Unreachable state ('q2', 0) was removedUnreachable state ('q1', 5) was removed\n",
      "\n",
      "Unreachable state ('q3', 0) was removedUnreachable state ('q1', 6) was removed\n",
      "\n",
      "Unreachable state ('q4', 0) was removedUnreachable state ('q1', 7) was removed\n",
      "\n",
      "Unreachable state ('q1', 8) was removedUnreachable state ('q5', 0) was removed\n",
      "\n",
      "Unreachable state ('q1', 9) was removedRetries per sample 221624\n"
     ]
    },
    {
     "data": {
      "application/vnd.jupyter.widget-view+json": {
       "model_id": "aadcfcb285fb4cadae11abd1a4b11ac3",
       "version_major": 2,
       "version_minor": 0
      },
      "text/plain": [
       "Layer:   0%|          | 0/4 [00:00<?, ?it/s]"
      ]
     },
     "metadata": {},
     "output_type": "display_data"
    },
    {
     "name": "stdout",
     "output_type": "stream",
     "text": [
      "Sample size \n",
      "800\n",
      "Unreachable state ('q2', 0) was removed\n"
     ]
    },
    {
     "data": {
      "application/vnd.jupyter.widget-view+json": {
       "model_id": "b510ac833d6a43bc8f36ccb44214159d",
       "version_major": 2,
       "version_minor": 0
      },
      "text/plain": [
       "Layer:   0%|          | 0/4 [00:00<?, ?it/s]"
      ]
     },
     "metadata": {},
     "output_type": "display_data"
    },
    {
     "name": "stdout",
     "output_type": "stream",
     "text": [
      "Retries per sample Unreachable state ('q0', 1) was removed211089\n",
      "\n",
      "Unreachable state ('q2', 0) was removed\n",
      "Retries per sampleSample size  233442578\n",
      "\n",
      "Sample size 1152\n"
     ]
    },
    {
     "data": {
      "application/vnd.jupyter.widget-view+json": {
       "model_id": "",
       "version_major": 2,
       "version_minor": 0
      },
      "text/plain": [
       "State at layer 1:   0%|          | 0/4 [00:00<?, ?it/s]"
      ]
     },
     "metadata": {},
     "output_type": "display_data"
    },
    {
     "data": {
      "application/vnd.jupyter.widget-view+json": {
       "model_id": "",
       "version_major": 2,
       "version_minor": 0
      },
      "text/plain": [
       "State at layer 1:   0%|          | 0/1 [00:00<?, ?it/s]"
      ]
     },
     "metadata": {},
     "output_type": "display_data"
    },
    {
     "name": "stdout",
     "output_type": "stream",
     "text": [
      "Wrote pickle file for 55 results\n"
     ]
    },
    {
     "data": {
      "application/vnd.jupyter.widget-view+json": {
       "model_id": "a585f8ceefc6424399907f22ec73beaf",
       "version_major": 2,
       "version_minor": 0
      },
      "text/plain": [
       "Layer:   0%|          | 0/10 [00:00<?, ?it/s]"
      ]
     },
     "metadata": {},
     "output_type": "display_data"
    },
    {
     "data": {
      "application/vnd.jupyter.widget-view+json": {
       "model_id": "0668b7bbfd7245b5829a658d4890a705",
       "version_major": 2,
       "version_minor": 0
      },
      "text/plain": [
       "Layer:   0%|          | 0/5 [00:00<?, ?it/s]"
      ]
     },
     "metadata": {},
     "output_type": "display_data"
    },
    {
     "data": {
      "application/vnd.jupyter.widget-view+json": {
       "model_id": "fbbb0afa3a90416f96e6b15f31f215f8",
       "version_major": 2,
       "version_minor": 0
      },
      "text/plain": [
       "Layer:   0%|          | 0/10 [00:00<?, ?it/s]"
      ]
     },
     "metadata": {},
     "output_type": "display_data"
    },
    {
     "data": {
      "application/vnd.jupyter.widget-view+json": {
       "model_id": "",
       "version_major": 2,
       "version_minor": 0
      },
      "text/plain": [
       "Sampling:   0%|          | 0/800 [00:00<?, ?it/s]"
      ]
     },
     "metadata": {},
     "output_type": "display_data"
    },
    {
     "data": {
      "application/vnd.jupyter.widget-view+json": {
       "model_id": "",
       "version_major": 2,
       "version_minor": 0
      },
      "text/plain": [
       "Sampling:   0%|          | 0/50 [00:00<?, ?it/s]"
      ]
     },
     "metadata": {},
     "output_type": "display_data"
    },
    {
     "data": {
      "application/vnd.jupyter.widget-view+json": {
       "model_id": "",
       "version_major": 2,
       "version_minor": 0
      },
      "text/plain": [
       "State at layer 1:   0%|          | 0/2 [00:00<?, ?it/s]"
      ]
     },
     "metadata": {},
     "output_type": "display_data"
    },
    {
     "data": {
      "application/vnd.jupyter.widget-view+json": {
       "model_id": "",
       "version_major": 2,
       "version_minor": 0
      },
      "text/plain": [
       "State at layer 1:   0%|          | 0/5 [00:00<?, ?it/s]"
      ]
     },
     "metadata": {},
     "output_type": "display_data"
    },
    {
     "data": {
      "application/vnd.jupyter.widget-view+json": {
       "model_id": "",
       "version_major": 2,
       "version_minor": 0
      },
      "text/plain": [
       "State at layer 1:   0%|          | 0/1 [00:00<?, ?it/s]"
      ]
     },
     "metadata": {},
     "output_type": "display_data"
    },
    {
     "data": {
      "application/vnd.jupyter.widget-view+json": {
       "model_id": "",
       "version_major": 2,
       "version_minor": 0
      },
      "text/plain": [
       "Sampling:   0%|          | 0/800 [00:00<?, ?it/s]"
      ]
     },
     "metadata": {},
     "output_type": "display_data"
    },
    {
     "data": {
      "application/vnd.jupyter.widget-view+json": {
       "model_id": "",
       "version_major": 2,
       "version_minor": 0
      },
      "text/plain": [
       "Sampling:   0%|          | 0/1152 [00:00<?, ?it/s]"
      ]
     },
     "metadata": {},
     "output_type": "display_data"
    },
    {
     "data": {
      "application/vnd.jupyter.widget-view+json": {
       "model_id": "",
       "version_major": 2,
       "version_minor": 0
      },
      "text/plain": [
       "Sampling:   0%|          | 0/578 [00:00<?, ?it/s]"
      ]
     },
     "metadata": {},
     "output_type": "display_data"
    },
    {
     "data": {
      "application/vnd.jupyter.widget-view+json": {
       "model_id": "",
       "version_major": 2,
       "version_minor": 0
      },
      "text/plain": [
       "State at layer 2:   0%|          | 0/1 [00:00<?, ?it/s]"
      ]
     },
     "metadata": {},
     "output_type": "display_data"
    },
    {
     "data": {
      "application/vnd.jupyter.widget-view+json": {
       "model_id": "",
       "version_major": 2,
       "version_minor": 0
      },
      "text/plain": [
       "Sampling:   0%|          | 0/50 [00:00<?, ?it/s]"
      ]
     },
     "metadata": {},
     "output_type": "display_data"
    },
    {
     "data": {
      "application/vnd.jupyter.widget-view+json": {
       "model_id": "",
       "version_major": 2,
       "version_minor": 0
      },
      "text/plain": [
       "State at layer 3:   0%|          | 0/1 [00:00<?, ?it/s]"
      ]
     },
     "metadata": {},
     "output_type": "display_data"
    },
    {
     "data": {
      "application/vnd.jupyter.widget-view+json": {
       "model_id": "",
       "version_major": 2,
       "version_minor": 0
      },
      "text/plain": [
       "Sampling:   0%|          | 0/50 [00:00<?, ?it/s]"
      ]
     },
     "metadata": {},
     "output_type": "display_data"
    },
    {
     "data": {
      "application/vnd.jupyter.widget-view+json": {
       "model_id": "",
       "version_major": 2,
       "version_minor": 0
      },
      "text/plain": [
       "Sampling:   0%|          | 0/578 [00:00<?, ?it/s]"
      ]
     },
     "metadata": {},
     "output_type": "display_data"
    },
    {
     "data": {
      "application/vnd.jupyter.widget-view+json": {
       "model_id": "",
       "version_major": 2,
       "version_minor": 0
      },
      "text/plain": [
       "State at layer 4:   0%|          | 0/1 [00:00<?, ?it/s]"
      ]
     },
     "metadata": {},
     "output_type": "display_data"
    },
    {
     "data": {
      "application/vnd.jupyter.widget-view+json": {
       "model_id": "",
       "version_major": 2,
       "version_minor": 0
      },
      "text/plain": [
       "Sampling:   0%|          | 0/50 [00:00<?, ?it/s]"
      ]
     },
     "metadata": {},
     "output_type": "display_data"
    },
    {
     "data": {
      "application/vnd.jupyter.widget-view+json": {
       "model_id": "",
       "version_major": 2,
       "version_minor": 0
      },
      "text/plain": [
       "Sampling:   0%|          | 0/800 [00:00<?, ?it/s]"
      ]
     },
     "metadata": {},
     "output_type": "display_data"
    },
    {
     "data": {
      "application/vnd.jupyter.widget-view+json": {
       "model_id": "",
       "version_major": 2,
       "version_minor": 0
      },
      "text/plain": [
       "Sampling:   0%|          | 0/800 [00:00<?, ?it/s]"
      ]
     },
     "metadata": {},
     "output_type": "display_data"
    },
    {
     "data": {
      "application/vnd.jupyter.widget-view+json": {
       "model_id": "",
       "version_major": 2,
       "version_minor": 0
      },
      "text/plain": [
       "State at layer 2:   0%|          | 0/3 [00:00<?, ?it/s]"
      ]
     },
     "metadata": {},
     "output_type": "display_data"
    },
    {
     "data": {
      "application/vnd.jupyter.widget-view+json": {
       "model_id": "",
       "version_major": 2,
       "version_minor": 0
      },
      "text/plain": [
       "Sampling:   0%|          | 0/1152 [00:00<?, ?it/s]"
      ]
     },
     "metadata": {},
     "output_type": "display_data"
    },
    {
     "data": {
      "application/vnd.jupyter.widget-view+json": {
       "model_id": "",
       "version_major": 2,
       "version_minor": 0
      },
      "text/plain": [
       "State at layer 2:   0%|          | 0/2 [00:00<?, ?it/s]"
      ]
     },
     "metadata": {},
     "output_type": "display_data"
    },
    {
     "data": {
      "application/vnd.jupyter.widget-view+json": {
       "model_id": "",
       "version_major": 2,
       "version_minor": 0
      },
      "text/plain": [
       "Sampling:   0%|          | 0/578 [00:00<?, ?it/s]"
      ]
     },
     "metadata": {},
     "output_type": "display_data"
    },
    {
     "data": {
      "application/vnd.jupyter.widget-view+json": {
       "model_id": "",
       "version_major": 2,
       "version_minor": 0
      },
      "text/plain": [
       "Sampling:   0%|          | 0/800 [00:00<?, ?it/s]"
      ]
     },
     "metadata": {},
     "output_type": "display_data"
    },
    {
     "data": {
      "application/vnd.jupyter.widget-view+json": {
       "model_id": "",
       "version_major": 2,
       "version_minor": 0
      },
      "text/plain": [
       "Sampling:   0%|          | 0/800 [00:00<?, ?it/s]"
      ]
     },
     "metadata": {},
     "output_type": "display_data"
    },
    {
     "data": {
      "application/vnd.jupyter.widget-view+json": {
       "model_id": "",
       "version_major": 2,
       "version_minor": 0
      },
      "text/plain": [
       "Sampling:   0%|          | 0/800 [00:00<?, ?it/s]"
      ]
     },
     "metadata": {},
     "output_type": "display_data"
    },
    {
     "data": {
      "application/vnd.jupyter.widget-view+json": {
       "model_id": "",
       "version_major": 2,
       "version_minor": 0
      },
      "text/plain": [
       "Sampling:   0%|          | 0/578 [00:00<?, ?it/s]"
      ]
     },
     "metadata": {},
     "output_type": "display_data"
    },
    {
     "data": {
      "application/vnd.jupyter.widget-view+json": {
       "model_id": "",
       "version_major": 2,
       "version_minor": 0
      },
      "text/plain": [
       "Sampling:   0%|          | 0/800 [00:00<?, ?it/s]"
      ]
     },
     "metadata": {},
     "output_type": "display_data"
    },
    {
     "data": {
      "application/vnd.jupyter.widget-view+json": {
       "model_id": "",
       "version_major": 2,
       "version_minor": 0
      },
      "text/plain": [
       "Sampling:   0%|          | 0/800 [00:00<?, ?it/s]"
      ]
     },
     "metadata": {},
     "output_type": "display_data"
    },
    {
     "data": {
      "application/vnd.jupyter.widget-view+json": {
       "model_id": "",
       "version_major": 2,
       "version_minor": 0
      },
      "text/plain": [
       "Sampling:   0%|          | 0/1152 [00:00<?, ?it/s]"
      ]
     },
     "metadata": {},
     "output_type": "display_data"
    },
    {
     "data": {
      "application/vnd.jupyter.widget-view+json": {
       "model_id": "",
       "version_major": 2,
       "version_minor": 0
      },
      "text/plain": [
       "State at layer 2:   0%|          | 0/4 [00:00<?, ?it/s]"
      ]
     },
     "metadata": {},
     "output_type": "display_data"
    },
    {
     "data": {
      "application/vnd.jupyter.widget-view+json": {
       "model_id": "",
       "version_major": 2,
       "version_minor": 0
      },
      "text/plain": [
       "Sampling:   0%|          | 0/800 [00:00<?, ?it/s]"
      ]
     },
     "metadata": {},
     "output_type": "display_data"
    },
    {
     "data": {
      "application/vnd.jupyter.widget-view+json": {
       "model_id": "",
       "version_major": 2,
       "version_minor": 0
      },
      "text/plain": [
       "State at layer 3:   0%|          | 0/2 [00:00<?, ?it/s]"
      ]
     },
     "metadata": {},
     "output_type": "display_data"
    },
    {
     "data": {
      "application/vnd.jupyter.widget-view+json": {
       "model_id": "",
       "version_major": 2,
       "version_minor": 0
      },
      "text/plain": [
       "Sampling:   0%|          | 0/578 [00:00<?, ?it/s]"
      ]
     },
     "metadata": {},
     "output_type": "display_data"
    },
    {
     "data": {
      "application/vnd.jupyter.widget-view+json": {
       "model_id": "",
       "version_major": 2,
       "version_minor": 0
      },
      "text/plain": [
       "State at layer 2:   0%|          | 0/6 [00:00<?, ?it/s]"
      ]
     },
     "metadata": {},
     "output_type": "display_data"
    },
    {
     "data": {
      "application/vnd.jupyter.widget-view+json": {
       "model_id": "",
       "version_major": 2,
       "version_minor": 0
      },
      "text/plain": [
       "Sampling:   0%|          | 0/800 [00:00<?, ?it/s]"
      ]
     },
     "metadata": {},
     "output_type": "display_data"
    },
    {
     "data": {
      "application/vnd.jupyter.widget-view+json": {
       "model_id": "",
       "version_major": 2,
       "version_minor": 0
      },
      "text/plain": [
       "Sampling:   0%|          | 0/800 [00:00<?, ?it/s]"
      ]
     },
     "metadata": {},
     "output_type": "display_data"
    },
    {
     "data": {
      "application/vnd.jupyter.widget-view+json": {
       "model_id": "",
       "version_major": 2,
       "version_minor": 0
      },
      "text/plain": [
       "Sampling:   0%|          | 0/1152 [00:00<?, ?it/s]"
      ]
     },
     "metadata": {},
     "output_type": "display_data"
    },
    {
     "data": {
      "application/vnd.jupyter.widget-view+json": {
       "model_id": "",
       "version_major": 2,
       "version_minor": 0
      },
      "text/plain": [
       "Sampling:   0%|          | 0/578 [00:00<?, ?it/s]"
      ]
     },
     "metadata": {},
     "output_type": "display_data"
    },
    {
     "data": {
      "application/vnd.jupyter.widget-view+json": {
       "model_id": "",
       "version_major": 2,
       "version_minor": 0
      },
      "text/plain": [
       "Sampling:   0%|          | 0/800 [00:00<?, ?it/s]"
      ]
     },
     "metadata": {},
     "output_type": "display_data"
    },
    {
     "data": {
      "application/vnd.jupyter.widget-view+json": {
       "model_id": "",
       "version_major": 2,
       "version_minor": 0
      },
      "text/plain": [
       "Sampling:   0%|          | 0/800 [00:00<?, ?it/s]"
      ]
     },
     "metadata": {},
     "output_type": "display_data"
    },
    {
     "data": {
      "application/vnd.jupyter.widget-view+json": {
       "model_id": "",
       "version_major": 2,
       "version_minor": 0
      },
      "text/plain": [
       "State at layer 4:   0%|          | 0/2 [00:00<?, ?it/s]"
      ]
     },
     "metadata": {},
     "output_type": "display_data"
    },
    {
     "data": {
      "application/vnd.jupyter.widget-view+json": {
       "model_id": "",
       "version_major": 2,
       "version_minor": 0
      },
      "text/plain": [
       "Sampling:   0%|          | 0/578 [00:00<?, ?it/s]"
      ]
     },
     "metadata": {},
     "output_type": "display_data"
    },
    {
     "data": {
      "application/vnd.jupyter.widget-view+json": {
       "model_id": "",
       "version_major": 2,
       "version_minor": 0
      },
      "text/plain": [
       "State at layer 3:   0%|          | 0/3 [00:00<?, ?it/s]"
      ]
     },
     "metadata": {},
     "output_type": "display_data"
    },
    {
     "data": {
      "application/vnd.jupyter.widget-view+json": {
       "model_id": "",
       "version_major": 2,
       "version_minor": 0
      },
      "text/plain": [
       "Sampling:   0%|          | 0/1152 [00:00<?, ?it/s]"
      ]
     },
     "metadata": {},
     "output_type": "display_data"
    },
    {
     "data": {
      "application/vnd.jupyter.widget-view+json": {
       "model_id": "",
       "version_major": 2,
       "version_minor": 0
      },
      "text/plain": [
       "Sampling:   0%|          | 0/800 [00:00<?, ?it/s]"
      ]
     },
     "metadata": {},
     "output_type": "display_data"
    },
    {
     "data": {
      "application/vnd.jupyter.widget-view+json": {
       "model_id": "",
       "version_major": 2,
       "version_minor": 0
      },
      "text/plain": [
       "Sampling:   0%|          | 0/800 [00:00<?, ?it/s]"
      ]
     },
     "metadata": {},
     "output_type": "display_data"
    },
    {
     "data": {
      "application/vnd.jupyter.widget-view+json": {
       "model_id": "",
       "version_major": 2,
       "version_minor": 0
      },
      "text/plain": [
       "Sampling:   0%|          | 0/578 [00:00<?, ?it/s]"
      ]
     },
     "metadata": {},
     "output_type": "display_data"
    },
    {
     "data": {
      "application/vnd.jupyter.widget-view+json": {
       "model_id": "",
       "version_major": 2,
       "version_minor": 0
      },
      "text/plain": [
       "Sampling:   0%|          | 0/800 [00:00<?, ?it/s]"
      ]
     },
     "metadata": {},
     "output_type": "display_data"
    },
    {
     "data": {
      "application/vnd.jupyter.widget-view+json": {
       "model_id": "",
       "version_major": 2,
       "version_minor": 0
      },
      "text/plain": [
       "State at layer 3:   0%|          | 0/4 [00:00<?, ?it/s]"
      ]
     },
     "metadata": {},
     "output_type": "display_data"
    },
    {
     "data": {
      "application/vnd.jupyter.widget-view+json": {
       "model_id": "",
       "version_major": 2,
       "version_minor": 0
      },
      "text/plain": [
       "Sampling:   0%|          | 0/800 [00:00<?, ?it/s]"
      ]
     },
     "metadata": {},
     "output_type": "display_data"
    },
    {
     "data": {
      "application/vnd.jupyter.widget-view+json": {
       "model_id": "",
       "version_major": 2,
       "version_minor": 0
      },
      "text/plain": [
       "Sampling:   0%|          | 0/1152 [00:00<?, ?it/s]"
      ]
     },
     "metadata": {},
     "output_type": "display_data"
    },
    {
     "data": {
      "application/vnd.jupyter.widget-view+json": {
       "model_id": "",
       "version_major": 2,
       "version_minor": 0
      },
      "text/plain": [
       "Sampling:   0%|          | 0/800 [00:00<?, ?it/s]"
      ]
     },
     "metadata": {},
     "output_type": "display_data"
    },
    {
     "data": {
      "application/vnd.jupyter.widget-view+json": {
       "model_id": "",
       "version_major": 2,
       "version_minor": 0
      },
      "text/plain": [
       "State at layer 5:   0%|          | 0/2 [00:00<?, ?it/s]"
      ]
     },
     "metadata": {},
     "output_type": "display_data"
    },
    {
     "data": {
      "application/vnd.jupyter.widget-view+json": {
       "model_id": "",
       "version_major": 2,
       "version_minor": 0
      },
      "text/plain": [
       "Sampling:   0%|          | 0/578 [00:00<?, ?it/s]"
      ]
     },
     "metadata": {},
     "output_type": "display_data"
    },
    {
     "data": {
      "application/vnd.jupyter.widget-view+json": {
       "model_id": "",
       "version_major": 2,
       "version_minor": 0
      },
      "text/plain": [
       "Sampling:   0%|          | 0/800 [00:00<?, ?it/s]"
      ]
     },
     "metadata": {},
     "output_type": "display_data"
    },
    {
     "data": {
      "application/vnd.jupyter.widget-view+json": {
       "model_id": "",
       "version_major": 2,
       "version_minor": 0
      },
      "text/plain": [
       "Sampling:   0%|          | 0/800 [00:00<?, ?it/s]"
      ]
     },
     "metadata": {},
     "output_type": "display_data"
    },
    {
     "data": {
      "application/vnd.jupyter.widget-view+json": {
       "model_id": "",
       "version_major": 2,
       "version_minor": 0
      },
      "text/plain": [
       "Sampling:   0%|          | 0/1152 [00:00<?, ?it/s]"
      ]
     },
     "metadata": {},
     "output_type": "display_data"
    },
    {
     "data": {
      "application/vnd.jupyter.widget-view+json": {
       "model_id": "",
       "version_major": 2,
       "version_minor": 0
      },
      "text/plain": [
       "Sampling:   0%|          | 0/578 [00:00<?, ?it/s]"
      ]
     },
     "metadata": {},
     "output_type": "display_data"
    },
    {
     "data": {
      "application/vnd.jupyter.widget-view+json": {
       "model_id": "",
       "version_major": 2,
       "version_minor": 0
      },
      "text/plain": [
       "Sampling:   0%|          | 0/800 [00:00<?, ?it/s]"
      ]
     },
     "metadata": {},
     "output_type": "display_data"
    },
    {
     "data": {
      "application/vnd.jupyter.widget-view+json": {
       "model_id": "a604040265fa4e539dcd13fb3bf56d44",
       "version_major": 2,
       "version_minor": 0
      },
      "text/plain": [
       "State at layer 3:   0%|          | 0/6 [00:00<?, ?it/s]"
      ]
     },
     "metadata": {},
     "output_type": "display_data"
    },
    {
     "data": {
      "application/vnd.jupyter.widget-view+json": {
       "model_id": "",
       "version_major": 2,
       "version_minor": 0
      },
      "text/plain": [
       "Sampling:   0%|          | 0/800 [00:00<?, ?it/s]"
      ]
     },
     "metadata": {},
     "output_type": "display_data"
    },
    {
     "data": {
      "application/vnd.jupyter.widget-view+json": {
       "model_id": "",
       "version_major": 2,
       "version_minor": 0
      },
      "text/plain": [
       "State at layer 6:   0%|          | 0/2 [00:00<?, ?it/s]"
      ]
     },
     "metadata": {},
     "output_type": "display_data"
    },
    {
     "data": {
      "application/vnd.jupyter.widget-view+json": {
       "model_id": "",
       "version_major": 2,
       "version_minor": 0
      },
      "text/plain": [
       "Sampling:   0%|          | 0/578 [00:00<?, ?it/s]"
      ]
     },
     "metadata": {},
     "output_type": "display_data"
    },
    {
     "data": {
      "application/vnd.jupyter.widget-view+json": {
       "model_id": "",
       "version_major": 2,
       "version_minor": 0
      },
      "text/plain": [
       "State at layer 4:   0%|          | 0/3 [00:00<?, ?it/s]"
      ]
     },
     "metadata": {},
     "output_type": "display_data"
    },
    {
     "data": {
      "application/vnd.jupyter.widget-view+json": {
       "model_id": "",
       "version_major": 2,
       "version_minor": 0
      },
      "text/plain": [
       "Sampling:   0%|          | 0/1152 [00:00<?, ?it/s]"
      ]
     },
     "metadata": {},
     "output_type": "display_data"
    },
    {
     "data": {
      "application/vnd.jupyter.widget-view+json": {
       "model_id": "",
       "version_major": 2,
       "version_minor": 0
      },
      "text/plain": [
       "Sampling:   0%|          | 0/800 [00:00<?, ?it/s]"
      ]
     },
     "metadata": {},
     "output_type": "display_data"
    },
    {
     "data": {
      "application/vnd.jupyter.widget-view+json": {
       "model_id": "",
       "version_major": 2,
       "version_minor": 0
      },
      "text/plain": [
       "Sampling:   0%|          | 0/800 [00:00<?, ?it/s]"
      ]
     },
     "metadata": {},
     "output_type": "display_data"
    },
    {
     "data": {
      "application/vnd.jupyter.widget-view+json": {
       "model_id": "",
       "version_major": 2,
       "version_minor": 0
      },
      "text/plain": [
       "State at layer 4:   0%|          | 0/4 [00:00<?, ?it/s]"
      ]
     },
     "metadata": {},
     "output_type": "display_data"
    },
    {
     "data": {
      "application/vnd.jupyter.widget-view+json": {
       "model_id": "",
       "version_major": 2,
       "version_minor": 0
      },
      "text/plain": [
       "Sampling:   0%|          | 0/800 [00:00<?, ?it/s]"
      ]
     },
     "metadata": {},
     "output_type": "display_data"
    },
    {
     "data": {
      "application/vnd.jupyter.widget-view+json": {
       "model_id": "",
       "version_major": 2,
       "version_minor": 0
      },
      "text/plain": [
       "Sampling:   0%|          | 0/578 [00:00<?, ?it/s]"
      ]
     },
     "metadata": {},
     "output_type": "display_data"
    },
    {
     "data": {
      "application/vnd.jupyter.widget-view+json": {
       "model_id": "",
       "version_major": 2,
       "version_minor": 0
      },
      "text/plain": [
       "Sampling:   0%|          | 0/1152 [00:00<?, ?it/s]"
      ]
     },
     "metadata": {},
     "output_type": "display_data"
    },
    {
     "data": {
      "application/vnd.jupyter.widget-view+json": {
       "model_id": "",
       "version_major": 2,
       "version_minor": 0
      },
      "text/plain": [
       "Sampling:   0%|          | 0/800 [00:00<?, ?it/s]"
      ]
     },
     "metadata": {},
     "output_type": "display_data"
    },
    {
     "data": {
      "application/vnd.jupyter.widget-view+json": {
       "model_id": "",
       "version_major": 2,
       "version_minor": 0
      },
      "text/plain": [
       "Sampling:   0%|          | 0/800 [00:00<?, ?it/s]"
      ]
     },
     "metadata": {},
     "output_type": "display_data"
    },
    {
     "data": {
      "application/vnd.jupyter.widget-view+json": {
       "model_id": "",
       "version_major": 2,
       "version_minor": 0
      },
      "text/plain": [
       "State at layer 7:   0%|          | 0/2 [00:00<?, ?it/s]"
      ]
     },
     "metadata": {},
     "output_type": "display_data"
    },
    {
     "data": {
      "application/vnd.jupyter.widget-view+json": {
       "model_id": "",
       "version_major": 2,
       "version_minor": 0
      },
      "text/plain": [
       "Sampling:   0%|          | 0/578 [00:00<?, ?it/s]"
      ]
     },
     "metadata": {},
     "output_type": "display_data"
    },
    {
     "data": {
      "application/vnd.jupyter.widget-view+json": {
       "model_id": "",
       "version_major": 2,
       "version_minor": 0
      },
      "text/plain": [
       "Sampling:   0%|          | 0/800 [00:00<?, ?it/s]"
      ]
     },
     "metadata": {},
     "output_type": "display_data"
    },
    {
     "data": {
      "application/vnd.jupyter.widget-view+json": {
       "model_id": "",
       "version_major": 2,
       "version_minor": 0
      },
      "text/plain": [
       "Sampling:   0%|          | 0/1152 [00:00<?, ?it/s]"
      ]
     },
     "metadata": {},
     "output_type": "display_data"
    },
    {
     "data": {
      "application/vnd.jupyter.widget-view+json": {
       "model_id": "",
       "version_major": 2,
       "version_minor": 0
      },
      "text/plain": [
       "Sampling:   0%|          | 0/800 [00:00<?, ?it/s]"
      ]
     },
     "metadata": {},
     "output_type": "display_data"
    },
    {
     "data": {
      "application/vnd.jupyter.widget-view+json": {
       "model_id": "",
       "version_major": 2,
       "version_minor": 0
      },
      "text/plain": [
       "Sampling:   0%|          | 0/578 [00:00<?, ?it/s]"
      ]
     },
     "metadata": {},
     "output_type": "display_data"
    },
    {
     "data": {
      "application/vnd.jupyter.widget-view+json": {
       "model_id": "",
       "version_major": 2,
       "version_minor": 0
      },
      "text/plain": [
       "Sampling:   0%|          | 0/800 [00:00<?, ?it/s]"
      ]
     },
     "metadata": {},
     "output_type": "display_data"
    },
    {
     "data": {
      "application/vnd.jupyter.widget-view+json": {
       "model_id": "3c80bd02f2d44a6585202d3c7bf18be2",
       "version_major": 2,
       "version_minor": 0
      },
      "text/plain": [
       "State at layer 5:   0%|          | 0/3 [00:00<?, ?it/s]"
      ]
     },
     "metadata": {},
     "output_type": "display_data"
    },
    {
     "data": {
      "application/vnd.jupyter.widget-view+json": {
       "model_id": "22e36b50db7144879724a31be3ae9fbe",
       "version_major": 2,
       "version_minor": 0
      },
      "text/plain": [
       "Sampling:   0%|          | 0/1152 [00:00<?, ?it/s]"
      ]
     },
     "metadata": {},
     "output_type": "display_data"
    },
    {
     "data": {
      "application/vnd.jupyter.widget-view+json": {
       "model_id": "",
       "version_major": 2,
       "version_minor": 0
      },
      "text/plain": [
       "Sampling:   0%|          | 0/800 [00:00<?, ?it/s]"
      ]
     },
     "metadata": {},
     "output_type": "display_data"
    },
    {
     "data": {
      "application/vnd.jupyter.widget-view+json": {
       "model_id": "8dd1cbf424da4144bf4023578619c4eb",
       "version_major": 2,
       "version_minor": 0
      },
      "text/plain": [
       "Sampling:   0%|          | 0/800 [00:00<?, ?it/s]"
      ]
     },
     "metadata": {},
     "output_type": "display_data"
    },
    {
     "data": {
      "application/vnd.jupyter.widget-view+json": {
       "model_id": "b7ed9e0309dd48c7bb3d56449d980883",
       "version_major": 2,
       "version_minor": 0
      },
      "text/plain": [
       "State at layer 8:   0%|          | 0/2 [00:00<?, ?it/s]"
      ]
     },
     "metadata": {},
     "output_type": "display_data"
    },
    {
     "data": {
      "application/vnd.jupyter.widget-view+json": {
       "model_id": "6720a66a3abf482f873a6b1f011b2064",
       "version_major": 2,
       "version_minor": 0
      },
      "text/plain": [
       "Sampling:   0%|          | 0/578 [00:00<?, ?it/s]"
      ]
     },
     "metadata": {},
     "output_type": "display_data"
    }
   ],
   "source": [
    "def compare_random_to_brute(i):\n",
    "    print(f\"[{i}] started\\n\", end=\"\")\n",
    "    n_states = randint(2, 6)\n",
    "    rand = NFA.random(n_states=n_states, input_symbols={\"0\", \"1\"}, sparsity=0.5)\n",
    "    string_len = randint(4, 10)\n",
    "    epsilon = randint(string_len, 2*string_len)\n",
    "    print(f\"[{i}] bruteforce started\\n\", end=\"\")\n",
    "    bruteforce = rand.bruteforce_count_only(string_len)\n",
    "    if bruteforce < 2:\n",
    "        print(f\"[{i}] insufficient accepting strings\")\n",
    "        return 0\n",
    "    try:\n",
    "        t0 = time.time()\n",
    "        count, nfa_unroll = count_nfa(rand, string_len, epsilon)\n",
    "        t1 = time.time()\n",
    "        return [n_states, rand.initial_states, rand.final_states, rand.transitions,\n",
    "                       string_len, bruteforce, count, epsilon, t1 - t0]\n",
    "    except Exception as e:\n",
    "        return e\n",
    "\n",
    "    \n",
    "# results = [] # n_states, initial_states, final_states, transitions, string_n, bruteforce, estimate, eps, time\n",
    "samples = 0\n",
    "errors = []\n",
    "error_count = 0\n",
    "n_proc = 6\n",
    "with Pool(processes=n_proc) as pool:\n",
    "    while samples < 5000 and error_count < 300:\n",
    "        multiproc_results = pool.map(compare_random_to_brute, range(10))\n",
    "        for res in multiproc_results:\n",
    "            if isinstance(res, Exception):\n",
    "                errors.append(res)\n",
    "                error_count += 1\n",
    "                continue\n",
    "            else:\n",
    "                samples += 1\n",
    "                if res != 0:\n",
    "                    results.append(res)\n",
    "        \n",
    "        clear_output(wait=True)\n",
    "        with open(\"intermediate_stats_.pkl\", \"wb\") as fd:\n",
    "            pickle.dump(results, fd)\n",
    "        print(f\"Wrote pickle file for {len(results)} results\")\n",
    "                \n",
    "        "
   ]
  },
  {
   "cell_type": "code",
   "execution_count": null,
   "id": "6cf73690",
   "metadata": {
    "scrolled": false
   },
   "outputs": [],
   "source": [
    "results"
   ]
  },
  {
   "cell_type": "code",
   "execution_count": 53,
   "id": "f59f4827",
   "metadata": {},
   "outputs": [],
   "source": [
    "df = pd.DataFrame(results, columns=[\"n_states\", \"initial_states\", \"final_states\", \"transitions\",\n",
    "                                    \"string_n\", \"bruteforce\", \"estimate\", \"eps\", \"time\"])"
   ]
  },
  {
   "cell_type": "code",
   "execution_count": 54,
   "id": "c50dc032",
   "metadata": {},
   "outputs": [],
   "source": [
    "df[\"rel_error\"] = abs(df.estimate - df.bruteforce)/df.bruteforce"
   ]
  },
  {
   "cell_type": "code",
   "execution_count": 55,
   "id": "6f47f9b9",
   "metadata": {},
   "outputs": [
    {
     "data": {
      "text/html": [
       "<div>\n",
       "<style scoped>\n",
       "    .dataframe tbody tr th:only-of-type {\n",
       "        vertical-align: middle;\n",
       "    }\n",
       "\n",
       "    .dataframe tbody tr th {\n",
       "        vertical-align: top;\n",
       "    }\n",
       "\n",
       "    .dataframe thead th {\n",
       "        text-align: right;\n",
       "    }\n",
       "</style>\n",
       "<table border=\"1\" class=\"dataframe\">\n",
       "  <thead>\n",
       "    <tr style=\"text-align: right;\">\n",
       "      <th></th>\n",
       "      <th>n_states</th>\n",
       "      <th>initial_states</th>\n",
       "      <th>final_states</th>\n",
       "      <th>transitions</th>\n",
       "      <th>string_n</th>\n",
       "      <th>bruteforce</th>\n",
       "      <th>estimate</th>\n",
       "      <th>eps</th>\n",
       "      <th>time</th>\n",
       "      <th>rel_error</th>\n",
       "    </tr>\n",
       "  </thead>\n",
       "  <tbody>\n",
       "    <tr>\n",
       "      <th>0</th>\n",
       "      <td>2</td>\n",
       "      <td>{q1, q0}</td>\n",
       "      <td>{q0}</td>\n",
       "      <td>{'q0': {'1': {'q0'}, '0': {'q0'}}, 'q1': {'1':...</td>\n",
       "      <td>4</td>\n",
       "      <td>16</td>\n",
       "      <td>16.000000</td>\n",
       "      <td>4</td>\n",
       "      <td>1.270484</td>\n",
       "      <td>0.000000</td>\n",
       "    </tr>\n",
       "    <tr>\n",
       "      <th>1</th>\n",
       "      <td>4</td>\n",
       "      <td>{q3}</td>\n",
       "      <td>{q3, q0, q2}</td>\n",
       "      <td>{'q0': {}, 'q1': {}, 'q2': {}, 'q3': {'1': {'q...</td>\n",
       "      <td>5</td>\n",
       "      <td>32</td>\n",
       "      <td>63.555556</td>\n",
       "      <td>10</td>\n",
       "      <td>2.749607</td>\n",
       "      <td>0.986111</td>\n",
       "    </tr>\n",
       "    <tr>\n",
       "      <th>2</th>\n",
       "      <td>4</td>\n",
       "      <td>{q2}</td>\n",
       "      <td>{q2}</td>\n",
       "      <td>{'q0': {'1': {'q3', 'q0', 'q1', 'q2'}, '0': {'...</td>\n",
       "      <td>5</td>\n",
       "      <td>4</td>\n",
       "      <td>4.020000</td>\n",
       "      <td>5</td>\n",
       "      <td>22.013623</td>\n",
       "      <td>0.005000</td>\n",
       "    </tr>\n",
       "    <tr>\n",
       "      <th>3</th>\n",
       "      <td>3</td>\n",
       "      <td>{q2}</td>\n",
       "      <td>{q1}</td>\n",
       "      <td>{'q0': {'0': {'q1'}}, 'q1': {'1': {'q0'}, '0':...</td>\n",
       "      <td>6</td>\n",
       "      <td>64</td>\n",
       "      <td>63.905325</td>\n",
       "      <td>9</td>\n",
       "      <td>20.631674</td>\n",
       "      <td>0.001479</td>\n",
       "    </tr>\n",
       "    <tr>\n",
       "      <th>4</th>\n",
       "      <td>4</td>\n",
       "      <td>{q1}</td>\n",
       "      <td>{q3, q1, q2}</td>\n",
       "      <td>{'q0': {'1': {'q1'}, '0': {'q1'}}, 'q1': {'0':...</td>\n",
       "      <td>4</td>\n",
       "      <td>16</td>\n",
       "      <td>30.821429</td>\n",
       "      <td>7</td>\n",
       "      <td>4.054953</td>\n",
       "      <td>0.926339</td>\n",
       "    </tr>\n",
       "    <tr>\n",
       "      <th>5</th>\n",
       "      <td>3</td>\n",
       "      <td>{q0}</td>\n",
       "      <td>{q2}</td>\n",
       "      <td>{'q0': {'1': {'q0'}, '0': {'q1', 'q0'}}, 'q1':...</td>\n",
       "      <td>6</td>\n",
       "      <td>21</td>\n",
       "      <td>21.000000</td>\n",
       "      <td>11</td>\n",
       "      <td>12.879692</td>\n",
       "      <td>0.000000</td>\n",
       "    </tr>\n",
       "    <tr>\n",
       "      <th>6</th>\n",
       "      <td>4</td>\n",
       "      <td>{q0}</td>\n",
       "      <td>{q0}</td>\n",
       "      <td>{'q0': {'0': {'q0'}, '1': {'q3'}}, 'q1': {'1':...</td>\n",
       "      <td>6</td>\n",
       "      <td>63</td>\n",
       "      <td>131.728214</td>\n",
       "      <td>7</td>\n",
       "      <td>88.881846</td>\n",
       "      <td>1.090924</td>\n",
       "    </tr>\n",
       "    <tr>\n",
       "      <th>7</th>\n",
       "      <td>4</td>\n",
       "      <td>{q3, q1, q2}</td>\n",
       "      <td>{q3, q0}</td>\n",
       "      <td>{'q0': {'1': {'q2', 'q1'}, '0': {'q3', 'q1'}},...</td>\n",
       "      <td>6</td>\n",
       "      <td>64</td>\n",
       "      <td>64.174014</td>\n",
       "      <td>12</td>\n",
       "      <td>27.759341</td>\n",
       "      <td>0.002719</td>\n",
       "    </tr>\n",
       "    <tr>\n",
       "      <th>8</th>\n",
       "      <td>4</td>\n",
       "      <td>{q1}</td>\n",
       "      <td>{q2, q0}</td>\n",
       "      <td>{'q0': {'0': {'q2'}}, 'q1': {'1': {'q3'}, '0':...</td>\n",
       "      <td>6</td>\n",
       "      <td>28</td>\n",
       "      <td>27.916667</td>\n",
       "      <td>8</td>\n",
       "      <td>14.537006</td>\n",
       "      <td>0.002976</td>\n",
       "    </tr>\n",
       "    <tr>\n",
       "      <th>9</th>\n",
       "      <td>3</td>\n",
       "      <td>{q2, q1}</td>\n",
       "      <td>{q2}</td>\n",
       "      <td>{'q0': {'1': {'q0'}}, 'q1': {'1': {'q2', 'q0'}...</td>\n",
       "      <td>6</td>\n",
       "      <td>21</td>\n",
       "      <td>21.000000</td>\n",
       "      <td>8</td>\n",
       "      <td>25.492397</td>\n",
       "      <td>0.000000</td>\n",
       "    </tr>\n",
       "    <tr>\n",
       "      <th>10</th>\n",
       "      <td>4</td>\n",
       "      <td>{q2, q0, q1}</td>\n",
       "      <td>{q3, q0}</td>\n",
       "      <td>{'q0': {}, 'q1': {'1': {'q2'}, '0': {'q3', 'q2...</td>\n",
       "      <td>5</td>\n",
       "      <td>32</td>\n",
       "      <td>31.787073</td>\n",
       "      <td>10</td>\n",
       "      <td>14.317252</td>\n",
       "      <td>0.006654</td>\n",
       "    </tr>\n",
       "    <tr>\n",
       "      <th>11</th>\n",
       "      <td>4</td>\n",
       "      <td>{q3, q0, q2}</td>\n",
       "      <td>{q0}</td>\n",
       "      <td>{'q0': {'1': {'q3', 'q0'}, '0': {'q2', 'q0'}},...</td>\n",
       "      <td>4</td>\n",
       "      <td>16</td>\n",
       "      <td>28.202148</td>\n",
       "      <td>8</td>\n",
       "      <td>6.240424</td>\n",
       "      <td>0.762634</td>\n",
       "    </tr>\n",
       "    <tr>\n",
       "      <th>12</th>\n",
       "      <td>4</td>\n",
       "      <td>{q3, q0, q2}</td>\n",
       "      <td>{q3}</td>\n",
       "      <td>{'q0': {'1': {'q2'}, '0': {'q2'}}, 'q1': {'1':...</td>\n",
       "      <td>5</td>\n",
       "      <td>16</td>\n",
       "      <td>16.000000</td>\n",
       "      <td>7</td>\n",
       "      <td>15.761414</td>\n",
       "      <td>0.000000</td>\n",
       "    </tr>\n",
       "    <tr>\n",
       "      <th>13</th>\n",
       "      <td>2</td>\n",
       "      <td>{q0}</td>\n",
       "      <td>{q1}</td>\n",
       "      <td>{'q0': {'1': {'q1'}, '0': {'q1'}}, 'q1': {'1':...</td>\n",
       "      <td>6</td>\n",
       "      <td>64</td>\n",
       "      <td>64.000000</td>\n",
       "      <td>12</td>\n",
       "      <td>1.462905</td>\n",
       "      <td>0.000000</td>\n",
       "    </tr>\n",
       "    <tr>\n",
       "      <th>14</th>\n",
       "      <td>2</td>\n",
       "      <td>{q1}</td>\n",
       "      <td>{q0}</td>\n",
       "      <td>{'q0': {'0': {'q1', 'q0'}, '1': {'q1'}}, 'q1':...</td>\n",
       "      <td>5</td>\n",
       "      <td>32</td>\n",
       "      <td>32.195200</td>\n",
       "      <td>10</td>\n",
       "      <td>2.121696</td>\n",
       "      <td>0.006100</td>\n",
       "    </tr>\n",
       "    <tr>\n",
       "      <th>15</th>\n",
       "      <td>4</td>\n",
       "      <td>{q3, q0, q1, q2}</td>\n",
       "      <td>{q2, q0}</td>\n",
       "      <td>{'q0': {'1': {'q0'}, '0': {'q0'}}, 'q1': {'1':...</td>\n",
       "      <td>5</td>\n",
       "      <td>32</td>\n",
       "      <td>32.000000</td>\n",
       "      <td>10</td>\n",
       "      <td>16.836735</td>\n",
       "      <td>0.000000</td>\n",
       "    </tr>\n",
       "    <tr>\n",
       "      <th>16</th>\n",
       "      <td>4</td>\n",
       "      <td>{q0}</td>\n",
       "      <td>{q2}</td>\n",
       "      <td>{'q0': {'1': {'q2', 'q0'}, '0': {'q2'}}, 'q1':...</td>\n",
       "      <td>6</td>\n",
       "      <td>25</td>\n",
       "      <td>26.408913</td>\n",
       "      <td>11</td>\n",
       "      <td>22.950053</td>\n",
       "      <td>0.056357</td>\n",
       "    </tr>\n",
       "    <tr>\n",
       "      <th>17</th>\n",
       "      <td>4</td>\n",
       "      <td>{q3, q1, q2}</td>\n",
       "      <td>{q3, q2}</td>\n",
       "      <td>{'q0': {'1': {'q0'}, '0': {'q1'}}, 'q1': {'0':...</td>\n",
       "      <td>5</td>\n",
       "      <td>14</td>\n",
       "      <td>14.105740</td>\n",
       "      <td>10</td>\n",
       "      <td>18.072022</td>\n",
       "      <td>0.007553</td>\n",
       "    </tr>\n",
       "    <tr>\n",
       "      <th>18</th>\n",
       "      <td>2</td>\n",
       "      <td>{q1}</td>\n",
       "      <td>{q0}</td>\n",
       "      <td>{'q0': {'1': {'q0'}, '0': {'q0'}}, 'q1': {'1':...</td>\n",
       "      <td>6</td>\n",
       "      <td>64</td>\n",
       "      <td>64.000000</td>\n",
       "      <td>6</td>\n",
       "      <td>13.907407</td>\n",
       "      <td>0.000000</td>\n",
       "    </tr>\n",
       "    <tr>\n",
       "      <th>19</th>\n",
       "      <td>4</td>\n",
       "      <td>{q3}</td>\n",
       "      <td>{q3, q1}</td>\n",
       "      <td>{'q0': {'0': {'q0'}, '1': {'q2'}}, 'q1': {'1':...</td>\n",
       "      <td>6</td>\n",
       "      <td>13</td>\n",
       "      <td>12.372862</td>\n",
       "      <td>12</td>\n",
       "      <td>10.203108</td>\n",
       "      <td>0.048241</td>\n",
       "    </tr>\n",
       "    <tr>\n",
       "      <th>20</th>\n",
       "      <td>3</td>\n",
       "      <td>{q1}</td>\n",
       "      <td>{q0}</td>\n",
       "      <td>{'q0': {'0': {'q0'}}, 'q1': {'0': {'q2', 'q1'}...</td>\n",
       "      <td>6</td>\n",
       "      <td>20</td>\n",
       "      <td>20.359134</td>\n",
       "      <td>8</td>\n",
       "      <td>22.400091</td>\n",
       "      <td>0.017957</td>\n",
       "    </tr>\n",
       "    <tr>\n",
       "      <th>21</th>\n",
       "      <td>4</td>\n",
       "      <td>{q0}</td>\n",
       "      <td>{q2, q0}</td>\n",
       "      <td>{'q0': {'1': {'q2'}}, 'q1': {'1': {'q3'}, '0':...</td>\n",
       "      <td>5</td>\n",
       "      <td>8</td>\n",
       "      <td>8.000000</td>\n",
       "      <td>5</td>\n",
       "      <td>31.744510</td>\n",
       "      <td>0.000000</td>\n",
       "    </tr>\n",
       "    <tr>\n",
       "      <th>22</th>\n",
       "      <td>3</td>\n",
       "      <td>{q1, q0}</td>\n",
       "      <td>{q0}</td>\n",
       "      <td>{'q0': {'1': {'q0'}, '0': {'q1', 'q0'}}, 'q1':...</td>\n",
       "      <td>6</td>\n",
       "      <td>64</td>\n",
       "      <td>64.000000</td>\n",
       "      <td>9</td>\n",
       "      <td>8.743561</td>\n",
       "      <td>0.000000</td>\n",
       "    </tr>\n",
       "    <tr>\n",
       "      <th>23</th>\n",
       "      <td>3</td>\n",
       "      <td>{q2}</td>\n",
       "      <td>{q2}</td>\n",
       "      <td>{'q0': {'1': {'q2', 'q0'}, '0': {'q2'}}, 'q1':...</td>\n",
       "      <td>6</td>\n",
       "      <td>64</td>\n",
       "      <td>64.000000</td>\n",
       "      <td>12</td>\n",
       "      <td>1.332972</td>\n",
       "      <td>0.000000</td>\n",
       "    </tr>\n",
       "    <tr>\n",
       "      <th>24</th>\n",
       "      <td>4</td>\n",
       "      <td>{q1}</td>\n",
       "      <td>{q2, q0}</td>\n",
       "      <td>{'q0': {'1': {'q2'}}, 'q1': {'1': {'q3', 'q1'}...</td>\n",
       "      <td>4</td>\n",
       "      <td>16</td>\n",
       "      <td>16.000000</td>\n",
       "      <td>8</td>\n",
       "      <td>5.425004</td>\n",
       "      <td>0.000000</td>\n",
       "    </tr>\n",
       "    <tr>\n",
       "      <th>25</th>\n",
       "      <td>4</td>\n",
       "      <td>{q3, q0, q1}</td>\n",
       "      <td>{q2}</td>\n",
       "      <td>{'q0': {'1': {'q3', 'q2'}, '0': {'q2'}}, 'q1':...</td>\n",
       "      <td>5</td>\n",
       "      <td>2</td>\n",
       "      <td>2.000000</td>\n",
       "      <td>9</td>\n",
       "      <td>19.584203</td>\n",
       "      <td>0.000000</td>\n",
       "    </tr>\n",
       "    <tr>\n",
       "      <th>26</th>\n",
       "      <td>2</td>\n",
       "      <td>{q0}</td>\n",
       "      <td>{q1}</td>\n",
       "      <td>{'q0': {'1': {'q1', 'q0'}, '0': {'q1'}}, 'q1':...</td>\n",
       "      <td>5</td>\n",
       "      <td>32</td>\n",
       "      <td>32.471000</td>\n",
       "      <td>6</td>\n",
       "      <td>6.652068</td>\n",
       "      <td>0.014719</td>\n",
       "    </tr>\n",
       "    <tr>\n",
       "      <th>27</th>\n",
       "      <td>4</td>\n",
       "      <td>{q1}</td>\n",
       "      <td>{q3, q0, q2}</td>\n",
       "      <td>{'q0': {'1': {'q0'}, '0': {'q2'}}, 'q1': {'0':...</td>\n",
       "      <td>6</td>\n",
       "      <td>13</td>\n",
       "      <td>18.950413</td>\n",
       "      <td>10</td>\n",
       "      <td>16.457778</td>\n",
       "      <td>0.457724</td>\n",
       "    </tr>\n",
       "    <tr>\n",
       "      <th>28</th>\n",
       "      <td>3</td>\n",
       "      <td>{q2, q1}</td>\n",
       "      <td>{q2}</td>\n",
       "      <td>{'q0': {'1': {'q2', 'q1'}, '0': {'q2'}}, 'q1':...</td>\n",
       "      <td>6</td>\n",
       "      <td>2</td>\n",
       "      <td>2.000000</td>\n",
       "      <td>12</td>\n",
       "      <td>4.197476</td>\n",
       "      <td>0.000000</td>\n",
       "    </tr>\n",
       "    <tr>\n",
       "      <th>29</th>\n",
       "      <td>4</td>\n",
       "      <td>{q1}</td>\n",
       "      <td>{q1}</td>\n",
       "      <td>{'q0': {'1': {'q0'}, '0': {'q0'}}, 'q1': {'0':...</td>\n",
       "      <td>5</td>\n",
       "      <td>8</td>\n",
       "      <td>10.964444</td>\n",
       "      <td>5</td>\n",
       "      <td>22.438972</td>\n",
       "      <td>0.370556</td>\n",
       "    </tr>\n",
       "    <tr>\n",
       "      <th>30</th>\n",
       "      <td>4</td>\n",
       "      <td>{q3, q0}</td>\n",
       "      <td>{q3}</td>\n",
       "      <td>{'q0': {'1': {'q2', 'q0', 'q1'}, '0': {'q1'}},...</td>\n",
       "      <td>6</td>\n",
       "      <td>32</td>\n",
       "      <td>67.517135</td>\n",
       "      <td>11</td>\n",
       "      <td>40.838305</td>\n",
       "      <td>1.109910</td>\n",
       "    </tr>\n",
       "    <tr>\n",
       "      <th>31</th>\n",
       "      <td>3</td>\n",
       "      <td>{q2}</td>\n",
       "      <td>{q1}</td>\n",
       "      <td>{'q0': {'1': {'q1', 'q0'}, '0': {'q1'}}, 'q1':...</td>\n",
       "      <td>6</td>\n",
       "      <td>21</td>\n",
       "      <td>21.003216</td>\n",
       "      <td>12</td>\n",
       "      <td>6.238210</td>\n",
       "      <td>0.000153</td>\n",
       "    </tr>\n",
       "    <tr>\n",
       "      <th>32</th>\n",
       "      <td>3</td>\n",
       "      <td>{q2, q0}</td>\n",
       "      <td>{q2, q0}</td>\n",
       "      <td>{'q0': {'0': {'q0'}, '1': {'q2'}}, 'q1': {'0':...</td>\n",
       "      <td>4</td>\n",
       "      <td>5</td>\n",
       "      <td>4.718750</td>\n",
       "      <td>7</td>\n",
       "      <td>4.202346</td>\n",
       "      <td>0.056250</td>\n",
       "    </tr>\n",
       "    <tr>\n",
       "      <th>33</th>\n",
       "      <td>3</td>\n",
       "      <td>{q1, q0}</td>\n",
       "      <td>{q2, q0, q1}</td>\n",
       "      <td>{'q0': {}, 'q1': {'0': {'q1'}, '1': {'q2'}}, '...</td>\n",
       "      <td>4</td>\n",
       "      <td>4</td>\n",
       "      <td>5.000000</td>\n",
       "      <td>5</td>\n",
       "      <td>6.662235</td>\n",
       "      <td>0.250000</td>\n",
       "    </tr>\n",
       "    <tr>\n",
       "      <th>34</th>\n",
       "      <td>4</td>\n",
       "      <td>{q3}</td>\n",
       "      <td>{q1}</td>\n",
       "      <td>{'q0': {'1': {'q1', 'q0'}, '0': {'q2'}}, 'q1':...</td>\n",
       "      <td>6</td>\n",
       "      <td>31</td>\n",
       "      <td>40.510308</td>\n",
       "      <td>8</td>\n",
       "      <td>23.762985</td>\n",
       "      <td>0.306784</td>\n",
       "    </tr>\n",
       "    <tr>\n",
       "      <th>35</th>\n",
       "      <td>3</td>\n",
       "      <td>{q1}</td>\n",
       "      <td>{q1}</td>\n",
       "      <td>{'q0': {'1': {'q1', 'q0'}}, 'q1': {'0': {'q0'}...</td>\n",
       "      <td>6</td>\n",
       "      <td>5</td>\n",
       "      <td>5.000000</td>\n",
       "      <td>7</td>\n",
       "      <td>7.835205</td>\n",
       "      <td>0.000000</td>\n",
       "    </tr>\n",
       "    <tr>\n",
       "      <th>36</th>\n",
       "      <td>4</td>\n",
       "      <td>{q1, q0}</td>\n",
       "      <td>{q3}</td>\n",
       "      <td>{'q0': {'1': {'q2', 'q0'}}, 'q1': {'0': {'q1'}...</td>\n",
       "      <td>5</td>\n",
       "      <td>2</td>\n",
       "      <td>2.000000</td>\n",
       "      <td>6</td>\n",
       "      <td>29.669303</td>\n",
       "      <td>0.000000</td>\n",
       "    </tr>\n",
       "    <tr>\n",
       "      <th>37</th>\n",
       "      <td>3</td>\n",
       "      <td>{q0}</td>\n",
       "      <td>{q2, q0, q1}</td>\n",
       "      <td>{'q0': {'1': {'q2', 'q0'}}, 'q1': {'0': {'q1'}...</td>\n",
       "      <td>6</td>\n",
       "      <td>13</td>\n",
       "      <td>21.000000</td>\n",
       "      <td>6</td>\n",
       "      <td>12.937989</td>\n",
       "      <td>0.615385</td>\n",
       "    </tr>\n",
       "    <tr>\n",
       "      <th>38</th>\n",
       "      <td>4</td>\n",
       "      <td>{q1}</td>\n",
       "      <td>{q3, q1, q2}</td>\n",
       "      <td>{'q0': {'1': {'q3', 'q0', 'q2'}, '0': {'q3', '...</td>\n",
       "      <td>5</td>\n",
       "      <td>32</td>\n",
       "      <td>39.936511</td>\n",
       "      <td>9</td>\n",
       "      <td>17.003027</td>\n",
       "      <td>0.248016</td>\n",
       "    </tr>\n",
       "    <tr>\n",
       "      <th>39</th>\n",
       "      <td>3</td>\n",
       "      <td>{q0}</td>\n",
       "      <td>{q1}</td>\n",
       "      <td>{'q0': {'1': {'q1'}, '0': {'q1'}}, 'q1': {'1':...</td>\n",
       "      <td>5</td>\n",
       "      <td>2</td>\n",
       "      <td>2.000000</td>\n",
       "      <td>5</td>\n",
       "      <td>0.784433</td>\n",
       "      <td>0.000000</td>\n",
       "    </tr>\n",
       "    <tr>\n",
       "      <th>40</th>\n",
       "      <td>2</td>\n",
       "      <td>{q0}</td>\n",
       "      <td>{q0}</td>\n",
       "      <td>{'q0': {'1': {'q0'}, '0': {'q0'}}, 'q1': {}}</td>\n",
       "      <td>5</td>\n",
       "      <td>32</td>\n",
       "      <td>32.000000</td>\n",
       "      <td>6</td>\n",
       "      <td>0.740968</td>\n",
       "      <td>0.000000</td>\n",
       "    </tr>\n",
       "    <tr>\n",
       "      <th>41</th>\n",
       "      <td>4</td>\n",
       "      <td>{q3, q2}</td>\n",
       "      <td>{q1}</td>\n",
       "      <td>{'q0': {'1': {'q3', 'q0', 'q2'}, '0': {'q3'}},...</td>\n",
       "      <td>6</td>\n",
       "      <td>40</td>\n",
       "      <td>39.520812</td>\n",
       "      <td>11</td>\n",
       "      <td>24.853045</td>\n",
       "      <td>0.011980</td>\n",
       "    </tr>\n",
       "    <tr>\n",
       "      <th>42</th>\n",
       "      <td>2</td>\n",
       "      <td>{q1}</td>\n",
       "      <td>{q1}</td>\n",
       "      <td>{'q0': {'1': {'q1'}, '0': {'q1'}}, 'q1': {'1':...</td>\n",
       "      <td>5</td>\n",
       "      <td>21</td>\n",
       "      <td>21.000000</td>\n",
       "      <td>7</td>\n",
       "      <td>2.616617</td>\n",
       "      <td>0.000000</td>\n",
       "    </tr>\n",
       "    <tr>\n",
       "      <th>43</th>\n",
       "      <td>4</td>\n",
       "      <td>{q0}</td>\n",
       "      <td>{q3, q0, q1, q2}</td>\n",
       "      <td>{'q0': {'1': {'q2', 'q1'}}, 'q1': {'1': {'q2',...</td>\n",
       "      <td>7</td>\n",
       "      <td>21</td>\n",
       "      <td>25.449229</td>\n",
       "      <td>13</td>\n",
       "      <td>17.356589</td>\n",
       "      <td>0.211868</td>\n",
       "    </tr>\n",
       "    <tr>\n",
       "      <th>44</th>\n",
       "      <td>5</td>\n",
       "      <td>{q4, q0, q1}</td>\n",
       "      <td>{q3, q0, q1}</td>\n",
       "      <td>{'q0': {'1': {'q3', 'q0'}, '0': {'q0'}}, 'q1':...</td>\n",
       "      <td>5</td>\n",
       "      <td>32</td>\n",
       "      <td>47.715976</td>\n",
       "      <td>9</td>\n",
       "      <td>15.985374</td>\n",
       "      <td>0.491124</td>\n",
       "    </tr>\n",
       "    <tr>\n",
       "      <th>45</th>\n",
       "      <td>5</td>\n",
       "      <td>{q4}</td>\n",
       "      <td>{q4, q1, q2}</td>\n",
       "      <td>{'q0': {'1': {'q1'}, '0': {'q1'}}, 'q1': {'0':...</td>\n",
       "      <td>10</td>\n",
       "      <td>1024</td>\n",
       "      <td>12388.688906</td>\n",
       "      <td>15</td>\n",
       "      <td>1348.562958</td>\n",
       "      <td>11.098329</td>\n",
       "    </tr>\n",
       "    <tr>\n",
       "      <th>46</th>\n",
       "      <td>3</td>\n",
       "      <td>{q2}</td>\n",
       "      <td>{q1}</td>\n",
       "      <td>{'q0': {'1': {'q2', 'q1'}, '0': {'q2'}}, 'q1':...</td>\n",
       "      <td>10</td>\n",
       "      <td>688</td>\n",
       "      <td>1649.844144</td>\n",
       "      <td>12</td>\n",
       "      <td>172.385288</td>\n",
       "      <td>1.398029</td>\n",
       "    </tr>\n",
       "    <tr>\n",
       "      <th>47</th>\n",
       "      <td>5</td>\n",
       "      <td>{q2}</td>\n",
       "      <td>{q4, q0}</td>\n",
       "      <td>{'q0': {'1': {'q2'}, '0': {'q4'}}, 'q1': {'1':...</td>\n",
       "      <td>9</td>\n",
       "      <td>288</td>\n",
       "      <td>295.881691</td>\n",
       "      <td>16</td>\n",
       "      <td>97.837067</td>\n",
       "      <td>0.027367</td>\n",
       "    </tr>\n",
       "    <tr>\n",
       "      <th>48</th>\n",
       "      <td>6</td>\n",
       "      <td>{q3}</td>\n",
       "      <td>{q2}</td>\n",
       "      <td>{'q0': {'1': {'q3', 'q1'}, '0': {'q3', 'q5'}},...</td>\n",
       "      <td>7</td>\n",
       "      <td>64</td>\n",
       "      <td>122.669906</td>\n",
       "      <td>7</td>\n",
       "      <td>467.467923</td>\n",
       "      <td>0.916717</td>\n",
       "    </tr>\n",
       "    <tr>\n",
       "      <th>49</th>\n",
       "      <td>2</td>\n",
       "      <td>{q1}</td>\n",
       "      <td>{q0}</td>\n",
       "      <td>{'q0': {'0': {'q0'}}, 'q1': {'1': {'q1', 'q0'}}}</td>\n",
       "      <td>5</td>\n",
       "      <td>5</td>\n",
       "      <td>5.000000</td>\n",
       "      <td>8</td>\n",
       "      <td>3.427792</td>\n",
       "      <td>0.000000</td>\n",
       "    </tr>\n",
       "    <tr>\n",
       "      <th>50</th>\n",
       "      <td>4</td>\n",
       "      <td>{q0}</td>\n",
       "      <td>{q3, q2}</td>\n",
       "      <td>{'q0': {'1': {'q2', 'q0'}, '0': {'q3'}}, 'q1':...</td>\n",
       "      <td>6</td>\n",
       "      <td>56</td>\n",
       "      <td>52.999194</td>\n",
       "      <td>10</td>\n",
       "      <td>17.775776</td>\n",
       "      <td>0.053586</td>\n",
       "    </tr>\n",
       "    <tr>\n",
       "      <th>51</th>\n",
       "      <td>6</td>\n",
       "      <td>{q3, q0, q1, q2}</td>\n",
       "      <td>{q3, q4, q5, q1}</td>\n",
       "      <td>{'q0': {'1': {'q1', 'q0'}, '0': {'q2', 'q1', '...</td>\n",
       "      <td>6</td>\n",
       "      <td>26</td>\n",
       "      <td>30.377006</td>\n",
       "      <td>6</td>\n",
       "      <td>226.239951</td>\n",
       "      <td>0.168346</td>\n",
       "    </tr>\n",
       "    <tr>\n",
       "      <th>52</th>\n",
       "      <td>6</td>\n",
       "      <td>{q1, q5}</td>\n",
       "      <td>{q4, q0}</td>\n",
       "      <td>{'q0': {'0': {'q3'}, '1': {'q5'}}, 'q1': {'1':...</td>\n",
       "      <td>4</td>\n",
       "      <td>15</td>\n",
       "      <td>15.062500</td>\n",
       "      <td>6</td>\n",
       "      <td>29.550427</td>\n",
       "      <td>0.004167</td>\n",
       "    </tr>\n",
       "    <tr>\n",
       "      <th>53</th>\n",
       "      <td>6</td>\n",
       "      <td>{q3, q1}</td>\n",
       "      <td>{q3, q1, q4}</td>\n",
       "      <td>{'q0': {'0': {'q3', 'q2'}}, 'q1': {'1': {'q0'}...</td>\n",
       "      <td>4</td>\n",
       "      <td>15</td>\n",
       "      <td>14.710993</td>\n",
       "      <td>5</td>\n",
       "      <td>16.714555</td>\n",
       "      <td>0.019267</td>\n",
       "    </tr>\n",
       "    <tr>\n",
       "      <th>54</th>\n",
       "      <td>3</td>\n",
       "      <td>{q2}</td>\n",
       "      <td>{q1, q0}</td>\n",
       "      <td>{'q0': {}, 'q1': {'0': {'q2', 'q1'}}, 'q2': {'...</td>\n",
       "      <td>6</td>\n",
       "      <td>2</td>\n",
       "      <td>2.000000</td>\n",
       "      <td>7</td>\n",
       "      <td>19.676680</td>\n",
       "      <td>0.000000</td>\n",
       "    </tr>\n",
       "  </tbody>\n",
       "</table>\n",
       "</div>"
      ],
      "text/plain": [
       "    n_states    initial_states      final_states  \\\n",
       "0          2          {q1, q0}              {q0}   \n",
       "1          4              {q3}      {q3, q0, q2}   \n",
       "2          4              {q2}              {q2}   \n",
       "3          3              {q2}              {q1}   \n",
       "4          4              {q1}      {q3, q1, q2}   \n",
       "5          3              {q0}              {q2}   \n",
       "6          4              {q0}              {q0}   \n",
       "7          4      {q3, q1, q2}          {q3, q0}   \n",
       "8          4              {q1}          {q2, q0}   \n",
       "9          3          {q2, q1}              {q2}   \n",
       "10         4      {q2, q0, q1}          {q3, q0}   \n",
       "11         4      {q3, q0, q2}              {q0}   \n",
       "12         4      {q3, q0, q2}              {q3}   \n",
       "13         2              {q0}              {q1}   \n",
       "14         2              {q1}              {q0}   \n",
       "15         4  {q3, q0, q1, q2}          {q2, q0}   \n",
       "16         4              {q0}              {q2}   \n",
       "17         4      {q3, q1, q2}          {q3, q2}   \n",
       "18         2              {q1}              {q0}   \n",
       "19         4              {q3}          {q3, q1}   \n",
       "20         3              {q1}              {q0}   \n",
       "21         4              {q0}          {q2, q0}   \n",
       "22         3          {q1, q0}              {q0}   \n",
       "23         3              {q2}              {q2}   \n",
       "24         4              {q1}          {q2, q0}   \n",
       "25         4      {q3, q0, q1}              {q2}   \n",
       "26         2              {q0}              {q1}   \n",
       "27         4              {q1}      {q3, q0, q2}   \n",
       "28         3          {q2, q1}              {q2}   \n",
       "29         4              {q1}              {q1}   \n",
       "30         4          {q3, q0}              {q3}   \n",
       "31         3              {q2}              {q1}   \n",
       "32         3          {q2, q0}          {q2, q0}   \n",
       "33         3          {q1, q0}      {q2, q0, q1}   \n",
       "34         4              {q3}              {q1}   \n",
       "35         3              {q1}              {q1}   \n",
       "36         4          {q1, q0}              {q3}   \n",
       "37         3              {q0}      {q2, q0, q1}   \n",
       "38         4              {q1}      {q3, q1, q2}   \n",
       "39         3              {q0}              {q1}   \n",
       "40         2              {q0}              {q0}   \n",
       "41         4          {q3, q2}              {q1}   \n",
       "42         2              {q1}              {q1}   \n",
       "43         4              {q0}  {q3, q0, q1, q2}   \n",
       "44         5      {q4, q0, q1}      {q3, q0, q1}   \n",
       "45         5              {q4}      {q4, q1, q2}   \n",
       "46         3              {q2}              {q1}   \n",
       "47         5              {q2}          {q4, q0}   \n",
       "48         6              {q3}              {q2}   \n",
       "49         2              {q1}              {q0}   \n",
       "50         4              {q0}          {q3, q2}   \n",
       "51         6  {q3, q0, q1, q2}  {q3, q4, q5, q1}   \n",
       "52         6          {q1, q5}          {q4, q0}   \n",
       "53         6          {q3, q1}      {q3, q1, q4}   \n",
       "54         3              {q2}          {q1, q0}   \n",
       "\n",
       "                                          transitions  string_n  bruteforce  \\\n",
       "0   {'q0': {'1': {'q0'}, '0': {'q0'}}, 'q1': {'1':...         4          16   \n",
       "1   {'q0': {}, 'q1': {}, 'q2': {}, 'q3': {'1': {'q...         5          32   \n",
       "2   {'q0': {'1': {'q3', 'q0', 'q1', 'q2'}, '0': {'...         5           4   \n",
       "3   {'q0': {'0': {'q1'}}, 'q1': {'1': {'q0'}, '0':...         6          64   \n",
       "4   {'q0': {'1': {'q1'}, '0': {'q1'}}, 'q1': {'0':...         4          16   \n",
       "5   {'q0': {'1': {'q0'}, '0': {'q1', 'q0'}}, 'q1':...         6          21   \n",
       "6   {'q0': {'0': {'q0'}, '1': {'q3'}}, 'q1': {'1':...         6          63   \n",
       "7   {'q0': {'1': {'q2', 'q1'}, '0': {'q3', 'q1'}},...         6          64   \n",
       "8   {'q0': {'0': {'q2'}}, 'q1': {'1': {'q3'}, '0':...         6          28   \n",
       "9   {'q0': {'1': {'q0'}}, 'q1': {'1': {'q2', 'q0'}...         6          21   \n",
       "10  {'q0': {}, 'q1': {'1': {'q2'}, '0': {'q3', 'q2...         5          32   \n",
       "11  {'q0': {'1': {'q3', 'q0'}, '0': {'q2', 'q0'}},...         4          16   \n",
       "12  {'q0': {'1': {'q2'}, '0': {'q2'}}, 'q1': {'1':...         5          16   \n",
       "13  {'q0': {'1': {'q1'}, '0': {'q1'}}, 'q1': {'1':...         6          64   \n",
       "14  {'q0': {'0': {'q1', 'q0'}, '1': {'q1'}}, 'q1':...         5          32   \n",
       "15  {'q0': {'1': {'q0'}, '0': {'q0'}}, 'q1': {'1':...         5          32   \n",
       "16  {'q0': {'1': {'q2', 'q0'}, '0': {'q2'}}, 'q1':...         6          25   \n",
       "17  {'q0': {'1': {'q0'}, '0': {'q1'}}, 'q1': {'0':...         5          14   \n",
       "18  {'q0': {'1': {'q0'}, '0': {'q0'}}, 'q1': {'1':...         6          64   \n",
       "19  {'q0': {'0': {'q0'}, '1': {'q2'}}, 'q1': {'1':...         6          13   \n",
       "20  {'q0': {'0': {'q0'}}, 'q1': {'0': {'q2', 'q1'}...         6          20   \n",
       "21  {'q0': {'1': {'q2'}}, 'q1': {'1': {'q3'}, '0':...         5           8   \n",
       "22  {'q0': {'1': {'q0'}, '0': {'q1', 'q0'}}, 'q1':...         6          64   \n",
       "23  {'q0': {'1': {'q2', 'q0'}, '0': {'q2'}}, 'q1':...         6          64   \n",
       "24  {'q0': {'1': {'q2'}}, 'q1': {'1': {'q3', 'q1'}...         4          16   \n",
       "25  {'q0': {'1': {'q3', 'q2'}, '0': {'q2'}}, 'q1':...         5           2   \n",
       "26  {'q0': {'1': {'q1', 'q0'}, '0': {'q1'}}, 'q1':...         5          32   \n",
       "27  {'q0': {'1': {'q0'}, '0': {'q2'}}, 'q1': {'0':...         6          13   \n",
       "28  {'q0': {'1': {'q2', 'q1'}, '0': {'q2'}}, 'q1':...         6           2   \n",
       "29  {'q0': {'1': {'q0'}, '0': {'q0'}}, 'q1': {'0':...         5           8   \n",
       "30  {'q0': {'1': {'q2', 'q0', 'q1'}, '0': {'q1'}},...         6          32   \n",
       "31  {'q0': {'1': {'q1', 'q0'}, '0': {'q1'}}, 'q1':...         6          21   \n",
       "32  {'q0': {'0': {'q0'}, '1': {'q2'}}, 'q1': {'0':...         4           5   \n",
       "33  {'q0': {}, 'q1': {'0': {'q1'}, '1': {'q2'}}, '...         4           4   \n",
       "34  {'q0': {'1': {'q1', 'q0'}, '0': {'q2'}}, 'q1':...         6          31   \n",
       "35  {'q0': {'1': {'q1', 'q0'}}, 'q1': {'0': {'q0'}...         6           5   \n",
       "36  {'q0': {'1': {'q2', 'q0'}}, 'q1': {'0': {'q1'}...         5           2   \n",
       "37  {'q0': {'1': {'q2', 'q0'}}, 'q1': {'0': {'q1'}...         6          13   \n",
       "38  {'q0': {'1': {'q3', 'q0', 'q2'}, '0': {'q3', '...         5          32   \n",
       "39  {'q0': {'1': {'q1'}, '0': {'q1'}}, 'q1': {'1':...         5           2   \n",
       "40       {'q0': {'1': {'q0'}, '0': {'q0'}}, 'q1': {}}         5          32   \n",
       "41  {'q0': {'1': {'q3', 'q0', 'q2'}, '0': {'q3'}},...         6          40   \n",
       "42  {'q0': {'1': {'q1'}, '0': {'q1'}}, 'q1': {'1':...         5          21   \n",
       "43  {'q0': {'1': {'q2', 'q1'}}, 'q1': {'1': {'q2',...         7          21   \n",
       "44  {'q0': {'1': {'q3', 'q0'}, '0': {'q0'}}, 'q1':...         5          32   \n",
       "45  {'q0': {'1': {'q1'}, '0': {'q1'}}, 'q1': {'0':...        10        1024   \n",
       "46  {'q0': {'1': {'q2', 'q1'}, '0': {'q2'}}, 'q1':...        10         688   \n",
       "47  {'q0': {'1': {'q2'}, '0': {'q4'}}, 'q1': {'1':...         9         288   \n",
       "48  {'q0': {'1': {'q3', 'q1'}, '0': {'q3', 'q5'}},...         7          64   \n",
       "49   {'q0': {'0': {'q0'}}, 'q1': {'1': {'q1', 'q0'}}}         5           5   \n",
       "50  {'q0': {'1': {'q2', 'q0'}, '0': {'q3'}}, 'q1':...         6          56   \n",
       "51  {'q0': {'1': {'q1', 'q0'}, '0': {'q2', 'q1', '...         6          26   \n",
       "52  {'q0': {'0': {'q3'}, '1': {'q5'}}, 'q1': {'1':...         4          15   \n",
       "53  {'q0': {'0': {'q3', 'q2'}}, 'q1': {'1': {'q0'}...         4          15   \n",
       "54  {'q0': {}, 'q1': {'0': {'q2', 'q1'}}, 'q2': {'...         6           2   \n",
       "\n",
       "        estimate  eps         time  rel_error  \n",
       "0      16.000000    4     1.270484   0.000000  \n",
       "1      63.555556   10     2.749607   0.986111  \n",
       "2       4.020000    5    22.013623   0.005000  \n",
       "3      63.905325    9    20.631674   0.001479  \n",
       "4      30.821429    7     4.054953   0.926339  \n",
       "5      21.000000   11    12.879692   0.000000  \n",
       "6     131.728214    7    88.881846   1.090924  \n",
       "7      64.174014   12    27.759341   0.002719  \n",
       "8      27.916667    8    14.537006   0.002976  \n",
       "9      21.000000    8    25.492397   0.000000  \n",
       "10     31.787073   10    14.317252   0.006654  \n",
       "11     28.202148    8     6.240424   0.762634  \n",
       "12     16.000000    7    15.761414   0.000000  \n",
       "13     64.000000   12     1.462905   0.000000  \n",
       "14     32.195200   10     2.121696   0.006100  \n",
       "15     32.000000   10    16.836735   0.000000  \n",
       "16     26.408913   11    22.950053   0.056357  \n",
       "17     14.105740   10    18.072022   0.007553  \n",
       "18     64.000000    6    13.907407   0.000000  \n",
       "19     12.372862   12    10.203108   0.048241  \n",
       "20     20.359134    8    22.400091   0.017957  \n",
       "21      8.000000    5    31.744510   0.000000  \n",
       "22     64.000000    9     8.743561   0.000000  \n",
       "23     64.000000   12     1.332972   0.000000  \n",
       "24     16.000000    8     5.425004   0.000000  \n",
       "25      2.000000    9    19.584203   0.000000  \n",
       "26     32.471000    6     6.652068   0.014719  \n",
       "27     18.950413   10    16.457778   0.457724  \n",
       "28      2.000000   12     4.197476   0.000000  \n",
       "29     10.964444    5    22.438972   0.370556  \n",
       "30     67.517135   11    40.838305   1.109910  \n",
       "31     21.003216   12     6.238210   0.000153  \n",
       "32      4.718750    7     4.202346   0.056250  \n",
       "33      5.000000    5     6.662235   0.250000  \n",
       "34     40.510308    8    23.762985   0.306784  \n",
       "35      5.000000    7     7.835205   0.000000  \n",
       "36      2.000000    6    29.669303   0.000000  \n",
       "37     21.000000    6    12.937989   0.615385  \n",
       "38     39.936511    9    17.003027   0.248016  \n",
       "39      2.000000    5     0.784433   0.000000  \n",
       "40     32.000000    6     0.740968   0.000000  \n",
       "41     39.520812   11    24.853045   0.011980  \n",
       "42     21.000000    7     2.616617   0.000000  \n",
       "43     25.449229   13    17.356589   0.211868  \n",
       "44     47.715976    9    15.985374   0.491124  \n",
       "45  12388.688906   15  1348.562958  11.098329  \n",
       "46   1649.844144   12   172.385288   1.398029  \n",
       "47    295.881691   16    97.837067   0.027367  \n",
       "48    122.669906    7   467.467923   0.916717  \n",
       "49      5.000000    8     3.427792   0.000000  \n",
       "50     52.999194   10    17.775776   0.053586  \n",
       "51     30.377006    6   226.239951   0.168346  \n",
       "52     15.062500    6    29.550427   0.004167  \n",
       "53     14.710993    5    16.714555   0.019267  \n",
       "54      2.000000    7    19.676680   0.000000  "
      ]
     },
     "execution_count": 55,
     "metadata": {},
     "output_type": "execute_result"
    }
   ],
   "source": [
    "df"
   ]
  },
  {
   "cell_type": "code",
   "execution_count": 3,
   "id": "e8e34914",
   "metadata": {},
   "outputs": [],
   "source": [
    "with open(\"intermediate_stats_.pkl\", \"rb\") as fd:\n",
    "    results = pickle.load(fd)\n",
    "        "
   ]
  },
  {
   "cell_type": "code",
   "execution_count": 64,
   "id": "9110b57e",
   "metadata": {},
   "outputs": [],
   "source": [
    "rand = NFA.random(n_states=4, input_symbols={\"0\", \"1\"}, sparsity=0.5)"
   ]
  },
  {
   "cell_type": "code",
   "execution_count": 65,
   "id": "3d120abd",
   "metadata": {},
   "outputs": [
    {
     "data": {
      "image/svg+xml": [
       "<?xml version=\"1.0\" encoding=\"UTF-8\" standalone=\"no\"?>\n",
       "<!DOCTYPE svg PUBLIC \"-//W3C//DTD SVG 1.1//EN\"\n",
       " \"http://www.w3.org/Graphics/SVG/1.1/DTD/svg11.dtd\">\n",
       "<!-- Generated by graphviz version 2.43.0 (0)\n",
       " -->\n",
       "<!-- Title: NFA Pages: 1 -->\n",
       "<svg width=\"336pt\" height=\"400pt\"\n",
       " viewBox=\"0.00 0.00 335.98 400.25\" xmlns=\"http://www.w3.org/2000/svg\" xmlns:xlink=\"http://www.w3.org/1999/xlink\">\n",
       "<g id=\"graph0\" class=\"graph\" transform=\"scale(1 1) rotate(0) translate(4 396.25)\">\n",
       "<title>NFA</title>\n",
       "<polygon fill=\"white\" stroke=\"transparent\" points=\"-4,4 -4,-396.25 331.98,-396.25 331.98,4 -4,4\"/>\n",
       "<!-- q1 -->\n",
       "<g id=\"node1\" class=\"node\">\n",
       "<title>q1</title>\n",
       "<ellipse fill=\"none\" stroke=\"black\" cx=\"22.75\" cy=\"-209.5\" rx=\"23\" ry=\"23\"/>\n",
       "<text text-anchor=\"middle\" x=\"22.75\" y=\"-205.8\" font-family=\"Times,serif\" font-size=\"14.00\">q1</text>\n",
       "</g>\n",
       "<!-- q3 -->\n",
       "<g id=\"node2\" class=\"node\">\n",
       "<title>q3</title>\n",
       "<ellipse fill=\"none\" stroke=\"black\" cx=\"118.24\" cy=\"-307.5\" rx=\"22.96\" ry=\"22.96\"/>\n",
       "<ellipse fill=\"none\" stroke=\"black\" cx=\"118.24\" cy=\"-307.5\" rx=\"27\" ry=\"27\"/>\n",
       "<text text-anchor=\"middle\" x=\"118.24\" y=\"-303.8\" font-family=\"Times,serif\" font-size=\"14.00\">q3</text>\n",
       "</g>\n",
       "<!-- q1&#45;&gt;q3 -->\n",
       "<g id=\"edge4\" class=\"edge\">\n",
       "<title>q1&#45;&gt;q3</title>\n",
       "<path fill=\"none\" stroke=\"black\" d=\"M36.57,-227.64C44,-237.7 53.78,-250.22 63.5,-260.5 71.3,-268.76 80.41,-277.13 88.89,-284.48\"/>\n",
       "<polygon fill=\"black\" stroke=\"black\" points=\"86.88,-287.36 96.76,-291.17 91.41,-282.03 86.88,-287.36\"/>\n",
       "<text text-anchor=\"middle\" x=\"68.5\" y=\"-273.3\" font-family=\"Times,serif\" font-size=\"14.00\">0</text>\n",
       "</g>\n",
       "<!-- q0 -->\n",
       "<g id=\"node3\" class=\"node\">\n",
       "<title>q0</title>\n",
       "<ellipse fill=\"none\" stroke=\"black\" cx=\"305.24\" cy=\"-136.5\" rx=\"23\" ry=\"23\"/>\n",
       "<text text-anchor=\"middle\" x=\"305.24\" y=\"-132.8\" font-family=\"Times,serif\" font-size=\"14.00\">q0</text>\n",
       "</g>\n",
       "<!-- q1&#45;&gt;q0 -->\n",
       "<g id=\"edge5\" class=\"edge\">\n",
       "<title>q1&#45;&gt;q0</title>\n",
       "<path fill=\"none\" stroke=\"black\" d=\"M44.81,-203.46C76.45,-194.43 138.2,-177.05 190.99,-163.5 218.66,-156.4 250.3,-148.91 273.09,-143.62\"/>\n",
       "<polygon fill=\"black\" stroke=\"black\" points=\"273.94,-147.02 282.89,-141.36 272.36,-140.2 273.94,-147.02\"/>\n",
       "<text text-anchor=\"middle\" x=\"167.99\" y=\"-174.3\" font-family=\"Times,serif\" font-size=\"14.00\">0</text>\n",
       "</g>\n",
       "<!-- q3&#45;&gt;q1 -->\n",
       "<g id=\"edge9\" class=\"edge\">\n",
       "<title>q3&#45;&gt;q1</title>\n",
       "<path fill=\"none\" stroke=\"black\" d=\"M105.57,-283.86C97.83,-269.82 86.69,-252.31 73.5,-239.5 67.39,-233.57 59.91,-228.29 52.62,-223.88\"/>\n",
       "<polygon fill=\"black\" stroke=\"black\" points=\"54.03,-220.65 43.6,-218.76 50.57,-226.74 54.03,-220.65\"/>\n",
       "<text text-anchor=\"middle\" x=\"68.5\" y=\"-243.3\" font-family=\"Times,serif\" font-size=\"14.00\">1</text>\n",
       "</g>\n",
       "<!-- q3&#45;&gt;q3 -->\n",
       "<g id=\"edge11\" class=\"edge\">\n",
       "<title>q3&#45;&gt;q3</title>\n",
       "<path fill=\"none\" stroke=\"black\" d=\"M110.62,-333.25C107.36,-354.77 109.9,-377.25 118.24,-377.25 125.28,-377.25 128.19,-361.24 126.97,-343.32\"/>\n",
       "<polygon fill=\"black\" stroke=\"black\" points=\"130.44,-342.81 125.87,-333.25 123.48,-343.58 130.44,-342.81\"/>\n",
       "<text text-anchor=\"middle\" x=\"118.24\" y=\"-381.05\" font-family=\"Times,serif\" font-size=\"14.00\">1</text>\n",
       "</g>\n",
       "<!-- q2 -->\n",
       "<g id=\"node5\" class=\"node\">\n",
       "<title>q2</title>\n",
       "<ellipse fill=\"none\" stroke=\"black\" cx=\"213.74\" cy=\"-207.5\" rx=\"23\" ry=\"23\"/>\n",
       "<text text-anchor=\"middle\" x=\"213.74\" y=\"-203.8\" font-family=\"Times,serif\" font-size=\"14.00\">q2</text>\n",
       "</g>\n",
       "<!-- q3&#45;&gt;q2 -->\n",
       "<g id=\"edge10\" class=\"edge\">\n",
       "<title>q3&#45;&gt;q2</title>\n",
       "<path fill=\"none\" stroke=\"black\" d=\"M139.81,-291.25C150.23,-282.6 162.79,-271.5 172.99,-260.5 180.44,-252.47 187.85,-243.08 194.22,-234.45\"/>\n",
       "<polygon fill=\"black\" stroke=\"black\" points=\"197.19,-236.31 200.2,-226.15 191.51,-232.22 197.19,-236.31\"/>\n",
       "<text text-anchor=\"middle\" x=\"167.99\" y=\"-273.3\" font-family=\"Times,serif\" font-size=\"14.00\">1</text>\n",
       "</g>\n",
       "<!-- q0&#45;&gt;q3 -->\n",
       "<g id=\"edge2\" class=\"edge\">\n",
       "<title>q0&#45;&gt;q3</title>\n",
       "<path fill=\"none\" stroke=\"black\" d=\"M295.37,-157.43C284.23,-181.98 263.29,-222.95 236.49,-251.5 213.16,-276.35 204.16,-280.72 172.99,-294.5 167.17,-297.07 160.76,-299.19 154.46,-300.9\"/>\n",
       "<polygon fill=\"black\" stroke=\"black\" points=\"153.62,-297.5 144.74,-303.29 155.29,-304.3 153.62,-297.5\"/>\n",
       "<text text-anchor=\"middle\" x=\"213.74\" y=\"-289.3\" font-family=\"Times,serif\" font-size=\"14.00\">1</text>\n",
       "</g>\n",
       "<!-- q0&#45;&gt;q0 -->\n",
       "<g id=\"edge3\" class=\"edge\">\n",
       "<title>q0&#45;&gt;q0</title>\n",
       "<path fill=\"none\" stroke=\"black\" d=\"M298.62,-158.39C295.08,-179.36 297.29,-202.25 305.24,-202.25 311.88,-202.25 314.51,-186.25 313.13,-168.76\"/>\n",
       "<polygon fill=\"black\" stroke=\"black\" points=\"316.55,-167.89 311.85,-158.39 309.6,-168.74 316.55,-167.89\"/>\n",
       "<text text-anchor=\"middle\" x=\"305.24\" y=\"-206.05\" font-family=\"Times,serif\" font-size=\"14.00\">1</text>\n",
       "</g>\n",
       "<!-- q0_init -->\n",
       "<g id=\"node4\" class=\"node\">\n",
       "<title>q0_init</title>\n",
       "</g>\n",
       "<!-- q0_init&#45;&gt;q0 -->\n",
       "<g id=\"edge1\" class=\"edge\">\n",
       "<title>q0_init&#45;&gt;q0</title>\n",
       "<path fill=\"none\" stroke=\"black\" d=\"M214.84,-0.54C216.79,-1.32 248.35,-14.19 264.49,-34.5 280.74,-54.96 291.01,-82.87 297.02,-104.32\"/>\n",
       "<polygon fill=\"black\" stroke=\"black\" points=\"293.71,-105.49 299.64,-114.27 300.48,-103.71 293.71,-105.49\"/>\n",
       "</g>\n",
       "<!-- q2&#45;&gt;q1 -->\n",
       "<g id=\"edge6\" class=\"edge\">\n",
       "<title>q2&#45;&gt;q1</title>\n",
       "<path fill=\"none\" stroke=\"black\" d=\"M190.83,-207.73C157.63,-208.08 94.37,-208.75 55.94,-209.16\"/>\n",
       "<polygon fill=\"black\" stroke=\"black\" points=\"55.76,-205.66 45.8,-209.27 55.83,-212.66 55.76,-205.66\"/>\n",
       "<text text-anchor=\"middle\" x=\"118.24\" y=\"-213.3\" font-family=\"Times,serif\" font-size=\"14.00\">0</text>\n",
       "</g>\n",
       "<!-- q2&#45;&gt;q3 -->\n",
       "<g id=\"edge8\" class=\"edge\">\n",
       "<title>q2&#45;&gt;q3</title>\n",
       "<path fill=\"none\" stroke=\"black\" d=\"M192.92,-217.62C183.18,-223.21 171.71,-230.79 162.99,-239.5 152.63,-249.86 143.44,-263.08 136.2,-275.1\"/>\n",
       "<polygon fill=\"black\" stroke=\"black\" points=\"133.03,-273.59 131.05,-284 139.09,-277.1 133.03,-273.59\"/>\n",
       "<text text-anchor=\"middle\" x=\"167.99\" y=\"-243.3\" font-family=\"Times,serif\" font-size=\"14.00\">1</text>\n",
       "</g>\n",
       "<!-- q2&#45;&gt;q0 -->\n",
       "<g id=\"edge7\" class=\"edge\">\n",
       "<title>q2&#45;&gt;q0</title>\n",
       "<path fill=\"none\" stroke=\"black\" d=\"M232,-193.81C245.37,-183.2 264.09,-168.35 279.12,-156.43\"/>\n",
       "<polygon fill=\"black\" stroke=\"black\" points=\"281.37,-159.1 287.03,-150.15 277.02,-153.62 281.37,-159.1\"/>\n",
       "<text text-anchor=\"middle\" x=\"259.49\" y=\"-178.3\" font-family=\"Times,serif\" font-size=\"14.00\">0</text>\n",
       "</g>\n",
       "</g>\n",
       "</svg>\n"
      ],
      "text/plain": [
       "<graphviz.dot.Digraph at 0x7f6e6bcd5550>"
      ]
     },
     "execution_count": 65,
     "metadata": {},
     "output_type": "execute_result"
    }
   ],
   "source": [
    "rand.plot()"
   ]
  },
  {
   "cell_type": "code",
   "execution_count": 66,
   "id": "1469c4d4",
   "metadata": {},
   "outputs": [
    {
     "data": {
      "application/vnd.jupyter.widget-view+json": {
       "model_id": "bd80fb8691c64448912a43fe9f653ca1",
       "version_major": 2,
       "version_minor": 0
      },
      "text/plain": [
       "  0%|          | 0/64 [00:00<?, ?it/s]"
      ]
     },
     "metadata": {},
     "output_type": "display_data"
    },
    {
     "data": {
      "text/plain": [
       "13"
      ]
     },
     "execution_count": 66,
     "metadata": {},
     "output_type": "execute_result"
    }
   ],
   "source": [
    "rand.bruteforce_count_only(6)"
   ]
  },
  {
   "cell_type": "code",
   "execution_count": 46,
   "id": "3df37744",
   "metadata": {},
   "outputs": [],
   "source": [
    "states = {\"q0\", \"q1\", \"q2\", \"q3\"}\n",
    "initial_states = df.loc[2].initial_states\n",
    "final_states = df.loc[2].final_states\n",
    "transitions = df.loc[2].transitions"
   ]
  },
  {
   "cell_type": "code",
   "execution_count": 47,
   "id": "3931a210",
   "metadata": {},
   "outputs": [],
   "source": [
    "nfa = NFA(input_symbols={\"0\", \"1\"}, states=states, initial_states=initial_states,\n",
    "          final_states=final_states, transitions=transitions)"
   ]
  },
  {
   "cell_type": "code",
   "execution_count": 48,
   "id": "00527d51",
   "metadata": {},
   "outputs": [
    {
     "data": {
      "image/svg+xml": [
       "<?xml version=\"1.0\" encoding=\"UTF-8\" standalone=\"no\"?>\n",
       "<!DOCTYPE svg PUBLIC \"-//W3C//DTD SVG 1.1//EN\"\n",
       " \"http://www.w3.org/Graphics/SVG/1.1/DTD/svg11.dtd\">\n",
       "<!-- Generated by graphviz version 2.43.0 (0)\n",
       " -->\n",
       "<!-- Title: NFA Pages: 1 -->\n",
       "<svg width=\"336pt\" height=\"241pt\"\n",
       " viewBox=\"0.00 0.00 335.98 240.54\" xmlns=\"http://www.w3.org/2000/svg\" xmlns:xlink=\"http://www.w3.org/1999/xlink\">\n",
       "<g id=\"graph0\" class=\"graph\" transform=\"scale(1 1) rotate(0) translate(4 236.54)\">\n",
       "<title>NFA</title>\n",
       "<polygon fill=\"white\" stroke=\"transparent\" points=\"-4,4 -4,-236.54 331.98,-236.54 331.98,4 -4,4\"/>\n",
       "<!-- q1 -->\n",
       "<g id=\"node1\" class=\"node\">\n",
       "<title>q1</title>\n",
       "<ellipse fill=\"none\" stroke=\"black\" cx=\"22.75\" cy=\"-88.79\" rx=\"23\" ry=\"23\"/>\n",
       "<text text-anchor=\"middle\" x=\"22.75\" y=\"-85.09\" font-family=\"Times,serif\" font-size=\"14.00\">q1</text>\n",
       "</g>\n",
       "<!-- q1&#45;&gt;q1 -->\n",
       "<g id=\"edge8\" class=\"edge\">\n",
       "<title>q1&#45;&gt;q1</title>\n",
       "<path fill=\"none\" stroke=\"black\" d=\"M16.13,-110.68C12.59,-131.65 14.8,-154.54 22.75,-154.54 29.39,-154.54 32.02,-138.54 30.64,-121.05\"/>\n",
       "<polygon fill=\"black\" stroke=\"black\" points=\"34.06,-120.18 29.36,-110.68 27.11,-121.03 34.06,-120.18\"/>\n",
       "<text text-anchor=\"middle\" x=\"22.75\" y=\"-158.34\" font-family=\"Times,serif\" font-size=\"14.00\">0</text>\n",
       "</g>\n",
       "<!-- q0 -->\n",
       "<g id=\"node3\" class=\"node\">\n",
       "<title>q0</title>\n",
       "<ellipse fill=\"none\" stroke=\"black\" cx=\"114.24\" cy=\"-151.79\" rx=\"23\" ry=\"23\"/>\n",
       "<text text-anchor=\"middle\" x=\"114.24\" y=\"-148.09\" font-family=\"Times,serif\" font-size=\"14.00\">q0</text>\n",
       "</g>\n",
       "<!-- q1&#45;&gt;q0 -->\n",
       "<g id=\"edge7\" class=\"edge\">\n",
       "<title>q1&#45;&gt;q0</title>\n",
       "<path fill=\"none\" stroke=\"black\" d=\"M45.81,-86.52C54.93,-86.57 65.27,-87.98 73.5,-92.79 84.91,-99.46 93.72,-110.87 100.12,-121.89\"/>\n",
       "<polygon fill=\"black\" stroke=\"black\" points=\"97.15,-123.75 104.93,-130.93 103.33,-120.46 97.15,-123.75\"/>\n",
       "<text text-anchor=\"middle\" x=\"68.5\" y=\"-96.59\" font-family=\"Times,serif\" font-size=\"14.00\">0</text>\n",
       "</g>\n",
       "<!-- q3 -->\n",
       "<g id=\"node2\" class=\"node\">\n",
       "<title>q3</title>\n",
       "<ellipse fill=\"none\" stroke=\"black\" cx=\"305.24\" cy=\"-144.79\" rx=\"23\" ry=\"23\"/>\n",
       "<text text-anchor=\"middle\" x=\"305.24\" y=\"-141.09\" font-family=\"Times,serif\" font-size=\"14.00\">q3</text>\n",
       "</g>\n",
       "<!-- q3&#45;&gt;q1 -->\n",
       "<g id=\"edge10\" class=\"edge\">\n",
       "<title>q3&#45;&gt;q1</title>\n",
       "<path fill=\"none\" stroke=\"black\" d=\"M300.16,-122.41C293.18,-91.48 275.73,-36.76 236.49,-12.79 173.7,25.56 88.71,-33.1 47.76,-67.19\"/>\n",
       "<polygon fill=\"black\" stroke=\"black\" points=\"45.29,-64.7 39.95,-73.84 49.83,-70.02 45.29,-64.7\"/>\n",
       "<text text-anchor=\"middle\" x=\"159.99\" y=\"-9.59\" font-family=\"Times,serif\" font-size=\"14.00\">1</text>\n",
       "</g>\n",
       "<!-- q3&#45;&gt;q3 -->\n",
       "<g id=\"edge11\" class=\"edge\">\n",
       "<title>q3&#45;&gt;q3</title>\n",
       "<path fill=\"none\" stroke=\"black\" d=\"M298.62,-166.68C295.08,-187.65 297.29,-210.54 305.24,-210.54 311.88,-210.54 314.51,-194.54 313.13,-177.05\"/>\n",
       "<polygon fill=\"black\" stroke=\"black\" points=\"316.55,-176.18 311.85,-166.68 309.6,-177.03 316.55,-176.18\"/>\n",
       "<text text-anchor=\"middle\" x=\"305.24\" y=\"-214.34\" font-family=\"Times,serif\" font-size=\"14.00\">1,0</text>\n",
       "</g>\n",
       "<!-- q0&#45;&gt;q1 -->\n",
       "<g id=\"edge3\" class=\"edge\">\n",
       "<title>q0&#45;&gt;q1</title>\n",
       "<path fill=\"none\" stroke=\"black\" d=\"M95.16,-139.06C82.31,-130.01 64.84,-117.72 50.39,-107.55\"/>\n",
       "<polygon fill=\"black\" stroke=\"black\" points=\"52.05,-104.43 41.86,-101.54 48.02,-110.16 52.05,-104.43\"/>\n",
       "<text text-anchor=\"middle\" x=\"68.5\" y=\"-125.59\" font-family=\"Times,serif\" font-size=\"14.00\">1</text>\n",
       "</g>\n",
       "<!-- q0&#45;&gt;q3 -->\n",
       "<g id=\"edge2\" class=\"edge\">\n",
       "<title>q0&#45;&gt;q3</title>\n",
       "<path fill=\"none\" stroke=\"black\" d=\"M137.29,-150.97C170.58,-149.74 233.84,-147.4 272.21,-145.98\"/>\n",
       "<polygon fill=\"black\" stroke=\"black\" points=\"272.46,-149.47 282.33,-145.6 272.2,-142.48 272.46,-149.47\"/>\n",
       "<text text-anchor=\"middle\" x=\"209.74\" y=\"-152.59\" font-family=\"Times,serif\" font-size=\"14.00\">1</text>\n",
       "</g>\n",
       "<!-- q0&#45;&gt;q3 -->\n",
       "<g id=\"edge5\" class=\"edge\">\n",
       "<title>q0&#45;&gt;q3</title>\n",
       "<path fill=\"none\" stroke=\"black\" d=\"M131.24,-167.62C137.99,-173.24 146.3,-178.88 154.99,-181.79 179.16,-189.89 68.81,-252.91 264.49,-177.79 270.53,-175.47 276.33,-171.84 281.54,-167.81\"/>\n",
       "<polygon fill=\"black\" stroke=\"black\" points=\"283.84,-170.45 289.18,-161.3 279.3,-165.12 283.84,-170.45\"/>\n",
       "<text text-anchor=\"middle\" x=\"209.74\" y=\"-210.59\" font-family=\"Times,serif\" font-size=\"14.00\">0</text>\n",
       "</g>\n",
       "<!-- q0&#45;&gt;q0 -->\n",
       "<g id=\"edge6\" class=\"edge\">\n",
       "<title>q0&#45;&gt;q0</title>\n",
       "<path fill=\"none\" stroke=\"black\" d=\"M107.63,-173.68C104.09,-194.65 106.29,-217.54 114.24,-217.54 120.89,-217.54 123.52,-201.54 122.14,-184.05\"/>\n",
       "<polygon fill=\"black\" stroke=\"black\" points=\"125.56,-183.18 120.86,-173.68 118.61,-184.03 125.56,-183.18\"/>\n",
       "<text text-anchor=\"middle\" x=\"114.24\" y=\"-221.34\" font-family=\"Times,serif\" font-size=\"14.00\">1,0</text>\n",
       "</g>\n",
       "<!-- q2 -->\n",
       "<g id=\"node4\" class=\"node\">\n",
       "<title>q2</title>\n",
       "<ellipse fill=\"none\" stroke=\"black\" cx=\"209.74\" cy=\"-60.79\" rx=\"22.96\" ry=\"22.96\"/>\n",
       "<ellipse fill=\"none\" stroke=\"black\" cx=\"209.74\" cy=\"-60.79\" rx=\"27\" ry=\"27\"/>\n",
       "<text text-anchor=\"middle\" x=\"209.74\" y=\"-57.09\" font-family=\"Times,serif\" font-size=\"14.00\">q2</text>\n",
       "</g>\n",
       "<!-- q0&#45;&gt;q2 -->\n",
       "<g id=\"edge4\" class=\"edge\">\n",
       "<title>q0&#45;&gt;q2</title>\n",
       "<path fill=\"none\" stroke=\"black\" d=\"M131.1,-136.35C145.2,-122.63 166.08,-102.31 182.63,-86.2\"/>\n",
       "<polygon fill=\"black\" stroke=\"black\" points=\"185.17,-88.61 189.9,-79.13 180.29,-83.6 185.17,-88.61\"/>\n",
       "<text text-anchor=\"middle\" x=\"159.99\" y=\"-114.59\" font-family=\"Times,serif\" font-size=\"14.00\">1</text>\n",
       "</g>\n",
       "<!-- q2&#45;&gt;q3 -->\n",
       "<g id=\"edge9\" class=\"edge\">\n",
       "<title>q2&#45;&gt;q3</title>\n",
       "<path fill=\"none\" stroke=\"black\" d=\"M230.11,-78.2C244.6,-91.21 264.49,-109.09 280.03,-123.04\"/>\n",
       "<polygon fill=\"black\" stroke=\"black\" points=\"277.92,-125.86 287.7,-129.94 282.6,-120.65 277.92,-125.86\"/>\n",
       "<text text-anchor=\"middle\" x=\"259.49\" y=\"-111.59\" font-family=\"Times,serif\" font-size=\"14.00\">0</text>\n",
       "</g>\n",
       "<!-- q2_init -->\n",
       "<g id=\"node5\" class=\"node\">\n",
       "<title>q2_init</title>\n",
       "</g>\n",
       "<!-- q2_init&#45;&gt;q2 -->\n",
       "<g id=\"edge1\" class=\"edge\">\n",
       "<title>q2_init&#45;&gt;q2</title>\n",
       "<path fill=\"none\" stroke=\"black\" d=\"M115.31,-60.79C116.93,-60.79 147.05,-60.79 172.66,-60.79\"/>\n",
       "<polygon fill=\"black\" stroke=\"black\" points=\"172.9,-64.29 182.9,-60.79 172.9,-57.29 172.9,-64.29\"/>\n",
       "</g>\n",
       "</g>\n",
       "</svg>\n"
      ],
      "text/plain": [
       "<graphviz.dot.Digraph at 0x7f6e6b7e8880>"
      ]
     },
     "execution_count": 48,
     "metadata": {},
     "output_type": "execute_result"
    }
   ],
   "source": [
    "nfa.plot()"
   ]
  },
  {
   "cell_type": "code",
   "execution_count": null,
   "id": "a61a3c5b",
   "metadata": {},
   "outputs": [],
   "source": []
  }
 ],
 "metadata": {
  "interpreter": {
   "hash": "0602504454f0638c3c0ff967dc00c81d73b297792cfa3e9f03f5a76d8a2b245a"
  },
  "kernelspec": {
   "display_name": "Python 3 (ipykernel)",
   "language": "python",
   "name": "python3"
  },
  "language_info": {
   "codemirror_mode": {
    "name": "ipython",
    "version": 3
   },
   "file_extension": ".py",
   "mimetype": "text/x-python",
   "name": "python",
   "nbconvert_exporter": "python",
   "pygments_lexer": "ipython3",
   "version": "3.8.10"
  }
 },
 "nbformat": 4,
 "nbformat_minor": 5
}
