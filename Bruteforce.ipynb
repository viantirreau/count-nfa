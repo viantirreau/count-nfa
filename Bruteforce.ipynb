{
 "cells": [
  {
   "cell_type": "code",
   "execution_count": null,
   "id": "1c43d342",
   "metadata": {},
   "outputs": [],
   "source": [
    "import pandas as pd\n",
    "import matplotlib.pyplot as plt\n",
    "import seaborn as sns\n",
    "import numpy as np\n",
    "import scipy\n",
    "\n",
    "import copy\n",
    "import abc\n",
    "import math\n",
    "from random import random, choices, randint, shuffle, normalvariate\n",
    "from tqdm.auto import tqdm as tqdm\n",
    "from collections import defaultdict, Counter\n",
    "import graphviz\n",
    "from multiprocessing import Pool\n",
    "from IPython.display import clear_output\n",
    "import pickle\n",
    "import traceback\n",
    "\n",
    "sns.set()"
   ]
  },
  {
   "cell_type": "code",
   "execution_count": null,
   "id": "8b1f7645",
   "metadata": {},
   "outputs": [],
   "source": [
    "\"\"\"\n",
    "Classes and methods for working with nondeterministic finite automata.\n",
    "Source: https://github.com/caleb531/automata\n",
    "\"\"\"\n",
    "\n",
    "\n",
    "def ddict2dict(d):\n",
    "    for k, v in d.items():\n",
    "        if isinstance(v, dict):\n",
    "            d[k] = ddict2dict(v)\n",
    "    return dict(d)\n",
    "\n",
    "\n",
    "def retries_for_sample(kappa: int) -> int:\n",
    "    return math.ceil(\n",
    "        (2 + math.log(4) + 8 * math.log(kappa)) / math.log(1.0 / (1.0 - math.exp(-9.0)))\n",
    "    )\n",
    "\n",
    "\n",
    "class AutomatonException(Exception):\n",
    "    \"\"\"The base class for all automaton-related errors.\"\"\"\n",
    "\n",
    "    pass\n",
    "\n",
    "\n",
    "class InvalidStateError(AutomatonException):\n",
    "    \"\"\"A state is not a valid state for this automaton.\"\"\"\n",
    "\n",
    "    pass\n",
    "\n",
    "\n",
    "class InvalidSymbolError(AutomatonException):\n",
    "    \"\"\"A symbol is not a valid symbol for this automaton.\"\"\"\n",
    "\n",
    "    pass\n",
    "\n",
    "\n",
    "class MissingStateError(AutomatonException):\n",
    "    \"\"\"A state is missing from the automaton definition.\"\"\"\n",
    "\n",
    "    pass\n",
    "\n",
    "\n",
    "class RejectionException(AutomatonException):\n",
    "    \"\"\"The input was rejected by the automaton.\"\"\"\n",
    "\n",
    "    pass\n",
    "\n",
    "\n",
    "class Automaton(metaclass=abc.ABCMeta):\n",
    "    \"\"\"An abstract base class for all automata, including Turing machines.\"\"\"\n",
    "\n",
    "    @abc.abstractmethod\n",
    "    def __init__(self):\n",
    "        \"\"\"Initialize a complete automaton.\"\"\"\n",
    "        raise NotImplementedError\n",
    "\n",
    "    @abc.abstractmethod\n",
    "    def validate(self):\n",
    "        \"\"\"Return True if this automaton is internally consistent.\"\"\"\n",
    "        raise NotImplementedError\n",
    "\n",
    "    @abc.abstractmethod\n",
    "    def read_input_stepwise(self, input_str):\n",
    "        \"\"\"Return a generator that yields each step while reading input.\"\"\"\n",
    "        raise NotImplementedError\n",
    "\n",
    "    def read_input(self, input_str, validate_final=True):\n",
    "        \"\"\"\n",
    "        Check if the given string is accepted by this automaton.\n",
    "\n",
    "        Return the automaton's final configuration. If validate_final is true,\n",
    "        this will return the final configuration only if this string is valid,\n",
    "        raising RejectionException otherwise.\n",
    "        \"\"\"\n",
    "        validation_generator = self.read_input_stepwise(\n",
    "            input_str, validate_final=validate_final\n",
    "        )\n",
    "        for config in validation_generator:\n",
    "            pass\n",
    "        return config\n",
    "\n",
    "    def accepts_input(self, input_str):\n",
    "        \"\"\"Return True if this automaton accepts the given input.\"\"\"\n",
    "        try:\n",
    "            self.read_input(input_str)\n",
    "            return True\n",
    "        except RejectionException:\n",
    "            return False\n",
    "\n",
    "    def _validate_initial_states(self):\n",
    "        \"\"\"Raise an error if any of the initial states is invalid.\"\"\"\n",
    "        invalid_states = self.initial_states - self.states\n",
    "        if invalid_states:\n",
    "            raise InvalidStateError(\n",
    "                \"inital states are not valid ({})\".format(\n",
    "                    \", \".join(str(state) for state in invalid_states)\n",
    "                )\n",
    "            )\n",
    "\n",
    "    def _validate_initial_states_transitions(self):\n",
    "        \"\"\"Raise an error if any initial state has no transitions defined.\"\"\"\n",
    "        for initial_state in self.initial_states:\n",
    "            if initial_state not in self.transitions:\n",
    "                raise MissingStateError(\n",
    "                    \"initial state {} has no transitions defined\".format(initial_state)\n",
    "                )\n",
    "\n",
    "    def _validate_final_states(self):\n",
    "        \"\"\"Raise an error if any final states are invalid.\"\"\"\n",
    "        invalid_states = self.final_states - self.states\n",
    "        if invalid_states:\n",
    "            raise InvalidStateError(\n",
    "                \"final states are not valid ({})\".format(\n",
    "                    \", \".join(str(state) for state in invalid_states)\n",
    "                )\n",
    "            )\n",
    "\n",
    "    def copy(self):\n",
    "        \"\"\"Create a deep copy of the automaton.\"\"\"\n",
    "        return self.__class__(**vars(self))\n",
    "\n",
    "    def __eq__(self, other):\n",
    "        \"\"\"Check if two automata are equal.\"\"\"\n",
    "        return vars(self) == vars(other)\n",
    "\n",
    "\n",
    "class FA(Automaton, metaclass=abc.ABCMeta):\n",
    "    \"\"\"An abstract base class for finite automata.\"\"\"\n",
    "\n",
    "    pass\n",
    "\n",
    "\n",
    "class NFA(FA):\n",
    "    \"\"\"A nondeterministic finite automaton.\"\"\"\n",
    "\n",
    "    def __init__(\n",
    "        self,\n",
    "        *,\n",
    "        states,\n",
    "        input_symbols,\n",
    "        transitions,\n",
    "        initial_states,\n",
    "        final_states,\n",
    "        states_by_layer=None,\n",
    "        reverse_transitions=None,\n",
    "    ):\n",
    "        \"\"\"Initialize a complete NFA.\"\"\"\n",
    "        self.states = states.copy()\n",
    "        self.input_symbols = input_symbols.copy()\n",
    "        self.transitions = copy.deepcopy(transitions)\n",
    "        self.initial_states = initial_states\n",
    "        self.final_states = final_states.copy()\n",
    "        #self.validate()\n",
    "\n",
    "        # --- Counting utilities ---\n",
    "        self.states_by_layer = states_by_layer\n",
    "        self.sketch = defaultdict(dict)\n",
    "        self.n_for_sets = {}\n",
    "        self.n_for_states = {}\n",
    "        self.s_for_states = defaultdict(Counter)\n",
    "        self.reverse_transitions = reverse_transitions\n",
    "        self.sorted_symbols = sorted(self.input_symbols)\n",
    "\n",
    "    def _validate_transition_invalid_symbols(self, start_state, paths):\n",
    "        \"\"\"Raise an error if transition symbols are invalid.\"\"\"\n",
    "        for input_symbol in paths.keys():\n",
    "            if input_symbol not in self.input_symbols and input_symbol != \"\":\n",
    "                raise InvalidSymbolError(\n",
    "                    \"state {} has invalid transition symbol {}\".format(\n",
    "                        start_state, input_symbol\n",
    "                    )\n",
    "                )\n",
    "\n",
    "    def _validate_transition_end_states(self, start_state, paths):\n",
    "        \"\"\"Raise an error if transition end states are invalid.\"\"\"\n",
    "        for end_states in paths.values():\n",
    "            for end_state in end_states:\n",
    "                if end_state not in self.states:\n",
    "                    raise InvalidStateError(\n",
    "                        \"end state {} for transition on {} is \"\n",
    "                        \"not valid\".format(end_state, start_state)\n",
    "                    )\n",
    "\n",
    "    def validate(self):\n",
    "        \"\"\"Return True if this NFA is internally consistent.\"\"\"\n",
    "        for start_state, paths in self.transitions.items():\n",
    "            self._validate_transition_invalid_symbols(start_state, paths)\n",
    "            self._validate_transition_end_states(start_state, paths)\n",
    "        self._validate_initial_states()\n",
    "        self._validate_initial_states_transitions()\n",
    "        self._validate_final_states()\n",
    "        return True\n",
    "\n",
    "    def _get_next_current_states(self, current_states, input_symbol):\n",
    "        \"\"\"Return the next set of current states given the current set.\"\"\"\n",
    "        next_current_states = set()\n",
    "        for current_state in current_states:\n",
    "            symbol_end_states = self.transitions.get(current_state, {}).get(input_symbol)\n",
    "            if symbol_end_states:\n",
    "                for end_state in symbol_end_states:\n",
    "                    next_current_states.add(end_state)\n",
    "\n",
    "        return next_current_states\n",
    "\n",
    "    def _check_for_input_rejection(self, current_states):\n",
    "        \"\"\"Raise an error if the given config indicates rejected input.\"\"\"\n",
    "        if not (current_states & self.final_states):\n",
    "            raise RejectionException(\n",
    "                \"the NFA stopped on all non-final states ({})\".format(\n",
    "                    \", \".join(str(state) for state in current_states)\n",
    "                )\n",
    "            )\n",
    "\n",
    "    def read_input_stepwise(self, input_str, validate_final=True):\n",
    "        \"\"\"\n",
    "        Check if the given string is accepted by this NFA.\n",
    "\n",
    "        Yield the current configuration of the NFA at each step.\n",
    "        \"\"\"\n",
    "        # current_states = self._get_epsilon_closure(self.initial_state)\n",
    "        current_states = self.initial_states\n",
    "\n",
    "        yield current_states\n",
    "        for input_symbol in input_str:\n",
    "            current_states = self._get_next_current_states(current_states, input_symbol)\n",
    "            yield current_states\n",
    "\n",
    "        if validate_final:\n",
    "            self._check_for_input_rejection(current_states)\n",
    "\n",
    "    def reachable(self, input_str: str, state) -> bool:\n",
    "        \"\"\"\n",
    "        Returns true if the NFA reaches the state after reading input_str\n",
    "        \"\"\"\n",
    "        return bool(self.read_input(input_str, validate_final=False) & set([state]))\n",
    "\n",
    "    @staticmethod\n",
    "    def remove_unreachable_states(initial_states: set, transitions: dict, n: int):\n",
    "        \"\"\"\n",
    "        Filters states that are unreachable from an initial state\n",
    "        by traversing one layer at a time.\n",
    "\n",
    "        It returns a tuple of the form\n",
    "        (\n",
    "            all_reachable_states: set of states,\n",
    "            reachable_states_by_layer: dict of layer -> set of states,\n",
    "            reachable_transitions: dict of state p -> symbol a -> state q,\n",
    "            rev_reachable_transitions: dict of state q -> symbol a -> state p,\n",
    "        )\n",
    "\n",
    "        Note that here states are tuples of strings (former states) and layer integers.\n",
    "        \"\"\"\n",
    "        reachable_states_by_layer = {0: initial_states}\n",
    "        all_reachable_states = initial_states.copy()\n",
    "        for next_layer in range(1, n + 1):\n",
    "            this_layer_reachable = reachable_states_by_layer[next_layer - 1]\n",
    "            next_layer_reachable = set()\n",
    "            for current_state in this_layer_reachable:\n",
    "                for new_states in transitions[current_state].values():\n",
    "                    for new_state in new_states:\n",
    "                        next_layer_reachable.add(new_state)\n",
    "            all_reachable_states.update(next_layer_reachable)\n",
    "            reachable_states_by_layer[next_layer] = next_layer_reachable\n",
    "\n",
    "        reachable_transitions = defaultdict(lambda: defaultdict(set))\n",
    "        rev_reachable_transitions = defaultdict(lambda: defaultdict(set))\n",
    "\n",
    "        for p, trans in transitions.items():\n",
    "            if p not in all_reachable_states:\n",
    "                print(f\"Unreachable state {p} was removed\")\n",
    "                continue\n",
    "            for a, qs in trans.items():\n",
    "                for q in qs:\n",
    "                    if q not in all_reachable_states:\n",
    "                        print(f\"Unreachable state {q} was removed\")\n",
    "                        continue\n",
    "                    reachable_transitions[p][a].add(q)\n",
    "                    rev_reachable_transitions[q][a].add(p)\n",
    "\n",
    "        return (\n",
    "            all_reachable_states,\n",
    "            reachable_states_by_layer,\n",
    "            reachable_transitions,\n",
    "            rev_reachable_transitions,\n",
    "        )\n",
    "\n",
    "    def unroll(self, n: int):\n",
    "        \"\"\"\n",
    "        Builds A_unroll with n levels\n",
    "        to estimate |L(F^n)|\n",
    "        \"\"\"\n",
    "        # for each state q ∈ Q, include copies q_0 , q_1 , ..., q n in A unroll\n",
    "        new_states = {(q, i) for q in self.states for i in range(1, n + 1)}\n",
    "        # new_states_by_layer = {i: {(q,i) for q in self.states} for i in range(1, n+1)}\n",
    "        new_states.update({(q, 0) for q in self.initial_states})\n",
    "        # new_states_by_layer = {0: {(q,0) for q in self.initial_states}}\n",
    "\n",
    "        # for each transition (p, a, q) ∈ ∆ and i ∈ {0, 1, . . . , n − 1}, include\n",
    "        # transition (p_i, a, q_i+1) in A unroll\n",
    "        new_transitions = defaultdict(lambda: defaultdict(set))\n",
    "        rev_transitions = defaultdict(lambda: defaultdict(set))\n",
    "        for p, trans in self.transitions.items():\n",
    "            for a, qs in trans.items():\n",
    "                for q in qs:\n",
    "                    for i in range(n):\n",
    "                        # state -> symbol -> set of states\n",
    "                        new_transitions[p, i][a].add((q, i + 1))\n",
    "                        rev_transitions[q, i + 1][a].add((p, i))\n",
    "\n",
    "        new_initial_states = {(q, 0) for q in self.initial_states}\n",
    "        new_final_states = {(q, n) for q in self.final_states}\n",
    "        # cleanup of unreachable states\n",
    "        (\n",
    "            new_states,\n",
    "            new_states_by_layer,\n",
    "            new_transitions,\n",
    "            rev_transitions,\n",
    "        ) = NFA.remove_unreachable_states(\n",
    "            initial_states=new_initial_states, transitions=new_transitions, n=n\n",
    "        )\n",
    "        new_transitions = ddict2dict(new_transitions)\n",
    "        rev_transitions = ddict2dict(rev_transitions)\n",
    "        nfa_unroll = NFA(\n",
    "            states=new_states,\n",
    "            input_symbols=self.input_symbols,\n",
    "            transitions=new_transitions,\n",
    "            initial_states=new_initial_states,\n",
    "            final_states=new_final_states,\n",
    "            states_by_layer=new_states_by_layer,\n",
    "            reverse_transitions=rev_transitions,\n",
    "        )\n",
    "\n",
    "        return nfa_unroll\n",
    "\n",
    "    def compute_n_for_single_state(self, state):\n",
    "        \"\"\"\n",
    "        Compute N(pᵅ) = Σ N(R_b) for R_b being the set of\n",
    "        incoming states which connect to pᵅ after reading symbol b.\n",
    "\n",
    "        In simple terms, it receives a states and estimates\n",
    "        the number of different strings leading to it.\n",
    "        \"\"\"\n",
    "\n",
    "        if state in self.n_for_states:\n",
    "            return self.n_for_states[state]\n",
    "\n",
    "        # will store all the N(Pᵅ) calculated with `compute_n_for_states_set`\n",
    "        n_r_b = {}\n",
    "        for b, leading_states in self.reverse_transitions.get(state, {}).items():\n",
    "            # leading_states = self.reverse_transitions[state][b]\n",
    "            n_r_b[b] = self.compute_n_for_states_set(frozenset(leading_states))\n",
    "            # print(f\"{state=}, {leading_states=}, n_r_b[{b=}]={n_r_b[b]}\")\n",
    "        n_q_alpha = sum(n_r_b.values())\n",
    "        self.n_for_states[state] = n_q_alpha\n",
    "        return n_q_alpha\n",
    "\n",
    "    def compute_n_for_states_set(self, states: frozenset):\n",
    "        \"\"\"\n",
    "        Compute N(Pᵅ) = Σ N(pᵅ)· |S(pᵅ)-Union(L(qᵅ) for q ≺ p)| / |S(pᵅ)|\n",
    "\n",
    "        In simple terms, it receives a set of states and estimates\n",
    "        the number of different strings leading to all of them.\n",
    "        \"\"\"\n",
    "        if not states:\n",
    "            return 0\n",
    "        if states in self.n_for_sets:\n",
    "            return self.n_for_sets[states]\n",
    "\n",
    "        states_list = sorted(states)  # linear order ≺\n",
    "        # Count the first state in the list alone\n",
    "        total = self.n_for_states[states_list[0]]\n",
    "        for i in range(1, len(states_list)):\n",
    "            # states[i] = (q, i), where q is the original state name in A\n",
    "            anchor_state = states_list[i]\n",
    "            intersection_count = 0\n",
    "            s_size = 0\n",
    "            # Now estimate the intersection rate for anchor_state\n",
    "            for string, count in self.s_for_states[anchor_state].items():\n",
    "                s_size += count\n",
    "                for previous_state in states_list[:i]:\n",
    "                    if not self.reachable(input_str=string, state=previous_state):\n",
    "                        intersection_count += count\n",
    "            intersection_rate = intersection_count / s_size if s_size > 0 else 0\n",
    "            # print(\n",
    "            #     \"inside n_states_set\",\n",
    "            #     anchor_state,\n",
    "            #     self.n_for_states,\n",
    "            #     intersection_rate,\n",
    "            # )\n",
    "            total += self.compute_n_for_single_state(anchor_state) * intersection_rate\n",
    "        # cache the result\n",
    "        self.n_for_sets[states] = total\n",
    "        return total\n",
    "\n",
    "    def sample(self, beta: int, states: frozenset, curr_string: str, phi: float):\n",
    "        # print(f\"sample({beta=}, {states=},{curr_string=})\")\n",
    "        if beta == 0:\n",
    "            if random() <= phi:\n",
    "                return curr_string\n",
    "            return \"fail\"\n",
    "            # return curr_string\n",
    "        # will store all the states on layer i-1\n",
    "        # which lead to r after reading b={0,1}\n",
    "        # {'0': {...leading_states}, '1': {...leading_states}}\n",
    "        p_beta_b = {}\n",
    "        # will store all the N(Pᵅ) calculated with `compute_n_for_states_set`\n",
    "        n_p_beta_b = {}\n",
    "\n",
    "        for b in self.sorted_symbols:\n",
    "            all_leading_states = set()\n",
    "            for r in states:\n",
    "                all_leading_states.update(\n",
    "                    self.reverse_transitions.get(r, {}).get(b, set())\n",
    "                )\n",
    "            fzset = frozenset(all_leading_states)\n",
    "            # print(f\"{fzset=}\")\n",
    "            p_beta_b[b] = fzset\n",
    "            n_p_beta_b[b] = self.compute_n_for_states_set(fzset)\n",
    "        # print(f\"{n_p_beta_b=}\")\n",
    "        sum_n_p_beta = sum(n_p_beta_b.values())\n",
    "        if sum_n_p_beta == 0:\n",
    "            return None\n",
    "        chosen_symbol = choices(\n",
    "            self.sorted_symbols,\n",
    "            weights=[n_p_beta_b[b] / sum_n_p_beta for b in self.sorted_symbols],\n",
    "            k=1,\n",
    "        )[0]\n",
    "        curr_string = chosen_symbol + curr_string  # w_beta-1 = b · w_beta\n",
    "        chosen_states = p_beta_b[chosen_symbol]  # p_beta-1\n",
    "        new_probability = phi / (n_p_beta_b[chosen_symbol] / sum_n_p_beta)  # phi / p_b\n",
    "        return self.sample(\n",
    "            beta=beta - 1,\n",
    "            states=chosen_states,\n",
    "            curr_string=curr_string,\n",
    "            phi=new_probability,\n",
    "        )\n",
    "\n",
    "    def count_accepted(self, n: int, eps: float):\n",
    "        \"\"\"\n",
    "        Returns a (1 ± ε)-approximation of |L_n(A_unroll)|\n",
    "        \"\"\"\n",
    "        kappa = math.ceil(n * len(self.states) / eps)\n",
    "        # c(κ)\n",
    "        retries_sample = retries_for_sample(kappa)\n",
    "        print(\"Retries per sample\", retries_sample)\n",
    "        sample_size = 2 * (kappa ** 2)  # 2 * kappa ** 7\n",
    "        print(\"Sample size\", sample_size)\n",
    "        exp_minus_five = math.exp(-5)\n",
    "        # For each state q ∈ I, set N(q_0) = |L(q_0)| = 1\n",
    "        # and S(q_0) = L(q_0) = {λ}\n",
    "        for q in self.states_by_layer[0]:\n",
    "            self.s_for_states[q] = {\"\": sample_size}\n",
    "            self.n_for_states[q] = 1\n",
    "\n",
    "        # For each i = 1, . . . , n and state q ∈ Q:\n",
    "        #   (a) Compute N(q i ) given sketch[i − 1]\n",
    "        #   (b) Sample polynomially many uniform elements from L(q_i) using\n",
    "        #       N(q_i) and sketch[i − 1], and let S(q_i) be the multiset of\n",
    "        #       uniform samples obtained\n",
    "        for i in tqdm(range(1, n + 1), desc=\"Layer\", position=0):\n",
    "            for q in tqdm(self.states_by_layer[i], desc=f\"State at layer {i}\", position=1, leave=False):\n",
    "\n",
    "                n_q_alpha = self.compute_n_for_single_state(q)\n",
    "                if n_q_alpha == 0:\n",
    "                    raise ValueError(\"oops\")\n",
    "                this_q_samples = Counter()\n",
    "                # sample probability\n",
    "                phi = exp_minus_five / n_q_alpha\n",
    "                for _ in tqdm(range(sample_size), desc=\"Sampling\", position=2, leave=False):\n",
    "                    sampled_successfully = False\n",
    "                    for retry in range(retries_sample):\n",
    "                        potential_sample = self.sample(\n",
    "                            beta=i, states=frozenset([q]), curr_string=\"\", phi=phi\n",
    "                        )\n",
    "                        if potential_sample == \"fail\":\n",
    "                            continue\n",
    "                        elif potential_sample is None:\n",
    "                            continue\n",
    "                        this_q_samples.update([potential_sample])\n",
    "                        sampled_successfully = True\n",
    "                        break\n",
    "                    if not sampled_successfully:\n",
    "                        return 0\n",
    "\n",
    "                self.s_for_states[q] = this_q_samples\n",
    "\n",
    "        return self.compute_n_for_states_set(frozenset(self.final_states))\n",
    "\n",
    "    def bruteforce_save_all(self, n: int):\n",
    "        if n == 0:\n",
    "            return [\"\"] if self.accepts_input(\"\") else []\n",
    "        accepted_strings = []\n",
    "        for i in range(2 ** n):\n",
    "            string_i = bin(i)[2:].zfill(n)\n",
    "            if self.accepts_input(string_i):\n",
    "                accepted_strings.append(string_i)\n",
    "        return accepted_strings\n",
    "\n",
    "    def bruteforce_count_only(self, n: int):\n",
    "        if n == 0:\n",
    "            return 1 if self.accepts_input(\"\") else 0\n",
    "        accepted_count = 0\n",
    "        for i in tqdm(range(2 ** n)):\n",
    "            string_i = bin(i)[2:].zfill(n)\n",
    "            if self.accepts_input(string_i):\n",
    "                accepted_count += 1\n",
    "        return accepted_count\n",
    "\n",
    "    def bruteforce_dfs(self, n: int):\n",
    "        if n == 0:\n",
    "            return 1 if self.accepts_input(\"\") else 0\n",
    "        accepted_count = 0\n",
    "        visit_queue = [(s, 0) for s in self.initial_states]  # FIFO queue\n",
    "        while visit_queue:\n",
    "            curr_state, curr_len = visit_queue.pop(-1)\n",
    "            if curr_len == n:\n",
    "                if curr_state in self.final_states:\n",
    "                    accepted_count += 1\n",
    "                continue\n",
    "            for symbol, next_states in self.transitions.get(curr_state, {}).items():\n",
    "                for next_state in next_states:\n",
    "                    visit_queue.append((next_state, curr_len + 1))\n",
    "        return accepted_count\n",
    "\n",
    "    def plot(self):\n",
    "        dot = graphviz.Digraph(\n",
    "            name=\"NFA\", graph_attr={\"rankdir\": \"LR\", \"ranksep\": \"0.5\", \"nodesep\": \"0.6\"}\n",
    "        )\n",
    "\n",
    "        for s in self.states:\n",
    "            if s in self.final_states:\n",
    "                dot.node(s, shape=\"doublecircle\")\n",
    "            else:\n",
    "                dot.node(s, shape=\"circle\")\n",
    "                \n",
    "            if s in self.initial_states:\n",
    "                dot.node(f\"{s}_init\", label=\"\", shape=\"none\", height=\"0\", width=\"0\")\n",
    "                dot.edge(f\"{s}_init\", s)\n",
    "\n",
    "        for curr_state, symbol_next_states in self.transitions.items():\n",
    "            defer_labels = []\n",
    "            for symbol, next_states in symbol_next_states.items():\n",
    "                for next_state in next_states:\n",
    "                    if next_state == curr_state:\n",
    "                        defer_labels.append(symbol)\n",
    "                        continue\n",
    "                    dot.edge(curr_state, next_state, label=symbol)\n",
    "            if defer_labels:\n",
    "                dot.edge(curr_state, curr_state, label=\",\".join(defer_labels))\n",
    "\n",
    "        return dot\n",
    "    \n",
    "    @staticmethod\n",
    "    def random_trans_unambiguous(states_list: list, input_symbols: set = {\"0\", \"1\"}):\n",
    "        \"\"\"\n",
    "        Generates random transitions for the states\n",
    "        q_0 ... q_{n_states}, using the input_symbols.\n",
    "        \n",
    "        Each pair of states can be connected with up to \n",
    "        one symbol transition, as the symbol is\n",
    "        chosen at random to form a transition matrix.\n",
    "        \"\"\"\n",
    "        n_states = len(states_list)\n",
    "        # choose the transitions as a random matrix over the alphabet and the\n",
    "        # empty symbol, represented by -1\n",
    "        matrix_choices = list(input_symbols | {\"-1\"})\n",
    "        transition_matrix = np.random.choice(matrix_choices, size=(n_states, n_states))\n",
    "        transitions = {}\n",
    "        for i, from_state in enumerate(states_list):\n",
    "            transitions_from_state = defaultdict(set)\n",
    "            for j, to_state in enumerate(states_list):\n",
    "                if transition_matrix[i,j] in input_symbols:\n",
    "                    symbol = str(transition_matrix[i,j])\n",
    "                    transitions_from_state[symbol].add(to_state)\n",
    "            transitions[from_state] = transitions_from_state\n",
    "            \n",
    "        return transitions\n",
    "        \n",
    "        \n",
    "    @staticmethod\n",
    "    def random_trans_ambiguous(states_list: list, input_symbols: set = {\"0\", \"1\"}, sparsity: float = 1/3):\n",
    "        \"\"\"\n",
    "        Generates random transitions for the states\n",
    "        q_0 ... q_{n_states}, using the input_symbols.\n",
    "        \n",
    "        Each pair of states may be connected with every\n",
    "        available symbol, as a subset is chosen at\n",
    "        random for each pair.\n",
    "        \"\"\"\n",
    "        \n",
    "        input_list = list(input_symbols)\n",
    "        \n",
    "        transitions = {}\n",
    "        for i, from_state in enumerate(states_list):\n",
    "            transitions_from_state = defaultdict(set)\n",
    "            for j, to_state in enumerate(states_list):\n",
    "                if random() < sparsity:\n",
    "                    # no transition case\n",
    "                    continue\n",
    "                # each symbol has constant probability 0.5 of being part of a\n",
    "                # transition from_state->to_state\n",
    "                for symbol in input_symbols:\n",
    "                    if random() < 0.5:\n",
    "                        transitions_from_state[symbol].add(to_state)\n",
    "                    \n",
    "                \"\"\"\n",
    "                # Alternative approach\n",
    "                \n",
    "                # Note that by choosing the subset size uniformly at random,\n",
    "                # we are flattening the distribution of a random subset in\n",
    "                # which each element is included in the subset with p=0.5.\n",
    "                # That approach will tend to a binomial distribution on the\n",
    "                # subset size, which in turn tends to a normal distribution\n",
    "                # for large alphabets\n",
    "                subset_size = randint(1, len(input_symbols))\n",
    "                shuffle(input_list)\n",
    "                subset = input_list[:subset_size]\n",
    "                for symbol in subset:\n",
    "                    transitions_from_state[symbol].add(to_state)\n",
    "                        \n",
    "                \"\"\"\n",
    "            transitions[from_state] = transitions_from_state\n",
    "        return transitions\n",
    "    \n",
    "    @staticmethod\n",
    "    def random(n_states: int, input_symbols: set = {\"0\", \"1\"}, sparsity: float = 1/3):\n",
    "        \n",
    "        states_list = [f\"q{i}\" for i in range(n_states)]\n",
    "        states = set(states_list)\n",
    "        \n",
    "        transitions = NFA.random_trans_ambiguous(states_list=states_list, \n",
    "                                                 input_symbols=input_symbols,\n",
    "                                                 sparsity=sparsity)\n",
    "        \n",
    "        shuffle(states_list)\n",
    "        n_initial_states = max(1, min(n_states, int(normalvariate(n_states/2, (n_states**0.5) / 2))))\n",
    "        initial_states = set(states_list[:n_initial_states])\n",
    "        shuffle(states_list)\n",
    "        n_final_states = max(1, min(n_states, int(normalvariate(n_states/2, (n_states**0.5) / 2))))\n",
    "        final_states = set(states_list[:n_final_states])\n",
    "        \n",
    "        return NFA(\n",
    "            states=states,\n",
    "            input_symbols=input_symbols,\n",
    "            transitions=transitions,\n",
    "            initial_states=initial_states,\n",
    "            final_states=final_states\n",
    "        )\n",
    "        \n",
    "        "
   ]
  },
  {
   "cell_type": "code",
   "execution_count": null,
   "id": "8fde9d1d",
   "metadata": {},
   "outputs": [],
   "source": [
    "nfa = NFA(\n",
    "    states={'q0', 'q1', 'q2', 'q3', 'q4', 'q5', 'q6'},\n",
    "    input_symbols={'0', '1'},\n",
    "    transitions={\n",
    "        'q0': {'0': {'q1'}, '1': {'q3'}},\n",
    "        'q1': {'0': {'q2'}},\n",
    "        'q2': {'0': {'q2'}, '1': {'q2'}},\n",
    "        'q3': {'0': {'q4'}},\n",
    "        'q4': {'0': {'q5'}},\n",
    "        'q5': {'0': {'q6'}},\n",
    "        'q6': {'0': {'q6'}, '1': {'q6'}},\n",
    "    },\n",
    "    initial_states={'q0'},\n",
    "    final_states={'q2', 'q6'}\n",
    ")"
   ]
  },
  {
   "cell_type": "code",
   "execution_count": null,
   "id": "77c4226d",
   "metadata": {},
   "outputs": [],
   "source": [
    "nfa = NFA(\n",
    "    states={'q0', 'q1', 'q2', 'q3'},\n",
    "    input_symbols={'0', '1'},\n",
    "    transitions={\n",
    "        'q0': {'0': {'q1', 'q2'}},\n",
    "        'q1': {'0': {'q1', 'q3'}},\n",
    "        'q2': {'0': {'q3'}, '1': {'q2'} },\n",
    "        'q3': {'0': {'q3'}},\n",
    "    },\n",
    "    initial_states={'q0'},\n",
    "    final_states={'q3'}\n",
    ")"
   ]
  },
  {
   "cell_type": "code",
   "execution_count": null,
   "id": "66dcd996",
   "metadata": {},
   "outputs": [],
   "source": [
    "nfa = NFA(\n",
    "    states={'q0', 'q1', 'q2'},\n",
    "    input_symbols={'0', '1'},\n",
    "    transitions={\n",
    "        'q0': {'0': {'q1'}},\n",
    "        'q1': {'1': {'q2'}},\n",
    "        'q2': {'1': {'q0'}}\n",
    "    },\n",
    "    initial_states={'q0'},\n",
    "    final_states={'q1'}\n",
    ")"
   ]
  },
  {
   "cell_type": "code",
   "execution_count": null,
   "id": "348c5eaf",
   "metadata": {
    "scrolled": true
   },
   "outputs": [],
   "source": [
    "%%time\n",
    "nfa.bruteforce_count_only(25)"
   ]
  },
  {
   "cell_type": "code",
   "execution_count": null,
   "id": "51b1dfd2",
   "metadata": {},
   "outputs": [],
   "source": [
    "nfa.plot()"
   ]
  },
  {
   "cell_type": "code",
   "execution_count": null,
   "id": "99d8342e",
   "metadata": {},
   "outputs": [],
   "source": [
    "def count_nfa(nfa: NFA, n: int, eps: float):\n",
    "    nfa_unroll = nfa.unroll(n)\n",
    "    return nfa_unroll.count_accepted(n=n, eps=eps), nfa_unroll"
   ]
  },
  {
   "cell_type": "code",
   "execution_count": null,
   "id": "dbd2f2d1",
   "metadata": {
    "scrolled": true
   },
   "outputs": [],
   "source": [
    "count, nfa_unroll = count_nfa(nfa, 55, 1500)\n",
    "count"
   ]
  },
  {
   "cell_type": "code",
   "execution_count": null,
   "id": "f9026850",
   "metadata": {},
   "outputs": [],
   "source": [
    "1 << 50"
   ]
  },
  {
   "cell_type": "code",
   "execution_count": null,
   "id": "029aead8",
   "metadata": {},
   "outputs": [],
   "source": [
    "189863754266 / 1e9"
   ]
  },
  {
   "cell_type": "code",
   "execution_count": null,
   "id": "67504037",
   "metadata": {},
   "outputs": [],
   "source": [
    "nfa.accepts_input('')"
   ]
  },
  {
   "cell_type": "code",
   "execution_count": null,
   "id": "af8254aa",
   "metadata": {},
   "outputs": [],
   "source": [
    "x = np.array([1.,2.,3.])\n"
   ]
  },
  {
   "cell_type": "code",
   "execution_count": null,
   "id": "0e35b9bf",
   "metadata": {},
   "outputs": [],
   "source": [
    "print(nfa.plot().source)\n",
    "nfa.plot()"
   ]
  },
  {
   "cell_type": "markdown",
   "id": "0d20c1ee",
   "metadata": {},
   "source": [
    "# Experimentos estadísticos"
   ]
  },
  {
   "cell_type": "code",
   "execution_count": null,
   "id": "f71dc4e6",
   "metadata": {},
   "outputs": [],
   "source": [
    "nfa = NFA(\n",
    "    states={'q0', 'q1', 'q2'},\n",
    "    input_symbols={'0', '1'},\n",
    "    transitions={\n",
    "        'q0': {'0': {'q1'}},\n",
    "        # Use '' as the key name for empty string (lambda/epsilon) transitions\n",
    "        'q1': {\n",
    "            #'0': {'q1'},\n",
    "            '1': {'q0', 'q2'}},\n",
    "        'q2': {\n",
    "            '1': {'q0'}\n",
    "        }\n",
    "    },\n",
    "    initial_states={'q0'},\n",
    "    final_states={'q1'}\n",
    ")"
   ]
  },
  {
   "cell_type": "code",
   "execution_count": null,
   "id": "f5c351db",
   "metadata": {
    "scrolled": true
   },
   "outputs": [],
   "source": [
    "%%time\n",
    "data = [(i,nfa.bruteforce_count_only(i)/2**i) for i in range(1, 20)]"
   ]
  },
  {
   "cell_type": "code",
   "execution_count": null,
   "id": "d39795e6",
   "metadata": {
    "scrolled": false
   },
   "outputs": [],
   "source": [
    "log_data = [(i, math.log(max(1, nfa.bruteforce_count_only(i)))) for i in range(1, 20)]"
   ]
  },
  {
   "cell_type": "code",
   "execution_count": null,
   "id": "aa8da4df",
   "metadata": {},
   "outputs": [],
   "source": [
    "df = pd.DataFrame(data, columns=[\"i\", \"frac\"])"
   ]
  },
  {
   "cell_type": "code",
   "execution_count": null,
   "id": "2726c943",
   "metadata": {
    "scrolled": true
   },
   "outputs": [],
   "source": [
    "df.plot(x=\"i\", y=\"frac\")"
   ]
  },
  {
   "cell_type": "code",
   "execution_count": null,
   "id": "4b364b19",
   "metadata": {},
   "outputs": [],
   "source": [
    "df"
   ]
  },
  {
   "cell_type": "code",
   "execution_count": null,
   "id": "63710628",
   "metadata": {
    "scrolled": true
   },
   "outputs": [],
   "source": [
    "df[df.i >= 5].plot(x=\"i\", y=\"frac\")"
   ]
  },
  {
   "cell_type": "code",
   "execution_count": null,
   "id": "ee04f677",
   "metadata": {},
   "outputs": [],
   "source": [
    "def fit_function(x, a, b, c):\n",
    "    return a*b**(c*x)"
   ]
  },
  {
   "cell_type": "code",
   "execution_count": null,
   "id": "8f56e35c",
   "metadata": {},
   "outputs": [],
   "source": [
    "predictable_data = df[df.i.between(11,23)]"
   ]
  },
  {
   "cell_type": "code",
   "execution_count": null,
   "id": "b52b7a03",
   "metadata": {
    "scrolled": true
   },
   "outputs": [],
   "source": [
    "x_data = predictable_data.i.values\n",
    "y_data = predictable_data.frac.values\n",
    "popt, pcov = scipy.optimize.curve_fit(fit_function, x_data, y_data, maxfev=1000)"
   ]
  },
  {
   "cell_type": "code",
   "execution_count": null,
   "id": "598f46c8",
   "metadata": {
    "scrolled": false
   },
   "outputs": [],
   "source": [
    "all_data = df[df.i >= 5]\n",
    "all_x_data = all_data.i.values\n",
    "all_y_data = all_data.frac.values\n",
    "\n",
    "fig = plt.plot(all_x_data, fit_function(all_x_data, *popt), label=\"fit\")\n",
    "plt.plot(all_x_data, all_y_data, label=\"real\")\n",
    "plt.legend();\n",
    "plt.title(\"Comparación valores predichos y reales\")\n",
    "plt.gcf().set_size_inches((14,8))"
   ]
  },
  {
   "cell_type": "code",
   "execution_count": null,
   "id": "c97c6294",
   "metadata": {
    "scrolled": false
   },
   "outputs": [],
   "source": [
    "plt.plot(all_x_data, fit_function(all_x_data, *popt) - all_y_data, label=\"fit\")\n",
    "plt.legend();\n",
    "plt.title(\"Residuos\")\n",
    "plt.gcf().set_size_inches((14,8))"
   ]
  },
  {
   "cell_type": "code",
   "execution_count": null,
   "id": "2f43acaa",
   "metadata": {},
   "outputs": [],
   "source": [
    "k = 28\n",
    "pred_for_k = fit_function(k, *popt) * 2**k\n",
    "pred_for_k"
   ]
  },
  {
   "cell_type": "code",
   "execution_count": null,
   "id": "b8d01bc7",
   "metadata": {},
   "outputs": [],
   "source": [
    "[(k,int(fit_function(k, *popt) * 2**k)) for k in range(6,28)]"
   ]
  },
  {
   "cell_type": "code",
   "execution_count": null,
   "id": "fd5c2976",
   "metadata": {},
   "outputs": [],
   "source": [
    "{{6, 13},\n",
    " {7, 23},\n",
    " {8, 44},\n",
    " {9, 81},\n",
    " {10, 148},\n",
    " {11, 274},\n",
    " {12, 504},\n",
    " {13, 927},\n",
    " {14, 1705}}"
   ]
  },
  {
   "cell_type": "code",
   "execution_count": null,
   "id": "93afcdf5",
   "metadata": {},
   "outputs": [],
   "source": [
    "%%time\n",
    "ground_truth_k = nfa.bruteforce_dfs(k)\n",
    "ground_truth_k"
   ]
  },
  {
   "cell_type": "code",
   "execution_count": null,
   "id": "fa5dae22",
   "metadata": {
    "scrolled": true
   },
   "outputs": [],
   "source": [
    "popt"
   ]
  },
  {
   "cell_type": "code",
   "execution_count": null,
   "id": "9f57c056",
   "metadata": {},
   "outputs": [],
   "source": [
    "# Error relativo!\n",
    "(pred_for_k - ground_truth_k) / ground_truth_k"
   ]
  },
  {
   "cell_type": "code",
   "execution_count": null,
   "id": "826aaca1",
   "metadata": {},
   "outputs": [],
   "source": [
    "# Error relativo!\n",
    "(pred_for_k - ground_truth_k) / ground_truth_k"
   ]
  },
  {
   "cell_type": "markdown",
   "id": "5f2d1465",
   "metadata": {},
   "source": [
    "- https://arxiv.org/pdf/1802.04708.pdf -> si A es acíclico, el lenguaje es finito. De hecho, $L(A) \\subseteq (\\Sigma \\cup \\{\\epsilon\\})^{|Q|}$\n",
    "- En general, para $n < |Q|$ el comportamiento se puede hardcodear, por lo que fuerza bruta o `sketch` son necesarios\n",
    "- http://www.stringology.org/cgi-bin/getfile.cgi?t=pdf&c=-&y=2013&n=03 -> hay un algoritmo $O(|Q|)$ que usa `BFS` y `gcd` para determinar si la densidad del lenguaje es exponencial o polinomial. Se basa en encontrar dos caminos distintos del mismo largo y estado de partida en una componente fuertemente conexa (SCC).\n",
    "    - Hipótesis 1: si el lenguaje tiene densidad exponencial, el gráfico $|L_n(A)|/2^n$ se verá como una constante tras al menos $n=|Q|$. Estimar es trivial para $n \\gg |Q|$, basta retornar esa proporción multiplicada por $2^n$\n",
    "    - Hipótesis 2: si el lenguaje tiene densidad polinomial, el gráfico $|L_n(A)|/2^n$ se verá como una exponencial\n",
    "    decayendo. Se puede fittear una función y aproximar para $n \\gg |Q|$\n",
    "    \n",
    "- [Scholar Kai Salomaa](https://scholar.google.com/citations?hl=es&user=N3AlqdYAAAAJ&view_op=list_works&sortby=pubdate)"
   ]
  },
  {
   "cell_type": "markdown",
   "id": "eae98f5a",
   "metadata": {},
   "source": [
    "Keeler, Salomaa\n",
    "\n",
    "\n",
    "$|L(A)| \\le \\text{ambiguity} \\le \\text{string path width} \\le \\text{tree width}$\n",
    "\n",
    "- **ambiguity**: number of accepting computations of A on a given string\n",
    "- **string path width**: does not count partial computations, only complete (and maybe non-accepting) computations\n",
    "- **tree width**: all computations of A on a given string (even partial ones)"
   ]
  },
  {
   "cell_type": "code",
   "execution_count": null,
   "id": "77a4f56f",
   "metadata": {},
   "outputs": [],
   "source": [
    "np.random.choice([\"-1\",\"0\",\"1\"], size=(3,3))[1,0]"
   ]
  },
  {
   "cell_type": "code",
   "execution_count": null,
   "id": "5c6e4369",
   "metadata": {},
   "outputs": [],
   "source": [
    "rand = NFA.random(n_states=5, input_symbols={\"0\", \"1\"}, sparsity=0.5)\n",
    "rand.plot()"
   ]
  },
  {
   "cell_type": "code",
   "execution_count": null,
   "id": "a3192ab6",
   "metadata": {},
   "outputs": [],
   "source": [
    "rand.bruteforce_count_only(15)"
   ]
  },
  {
   "cell_type": "code",
   "execution_count": null,
   "id": "e2effe34",
   "metadata": {},
   "outputs": [],
   "source": [
    "count, nfa_unroll = count_nfa(rand, 15, 100)\n",
    "count"
   ]
  },
  {
   "cell_type": "code",
   "execution_count": 39,
   "id": "3cfd0ea8",
   "metadata": {
    "scrolled": false
   },
   "outputs": [
    {
     "name": "stdout",
     "output_type": "stream",
     "text": [
      "[5] started\n",
      "[10] started\n",
      "[0] started\n",
      "[20] started\n",
      "[25] started\n",
      "[5] bruteforce started\n",
      "[0] bruteforce started\n",
      "[10] bruteforce started\n",
      "[15] started\n",
      "[20] bruteforce started\n",
      "[25] bruteforce started\n",
      "[15] bruteforce started\n"
     ]
    },
    {
     "data": {
      "application/vnd.jupyter.widget-view+json": {
       "model_id": "b513dc860c8f4e22976ea66f2753884f",
       "version_major": 2,
       "version_minor": 0
      },
      "text/plain": [
       "  0%|          | 0/64 [00:00<?, ?it/s]"
      ]
     },
     "metadata": {},
     "output_type": "display_data"
    },
    {
     "name": "stdout",
     "output_type": "stream",
     "text": [
      "Unreachable state ('q0', 0) was removed"
     ]
    },
    {
     "data": {
      "application/vnd.jupyter.widget-view+json": {
       "model_id": "78e123f3ebcc4cb38154d67b9be3a12c",
       "version_major": 2,
       "version_minor": 0
      },
      "text/plain": [
       "  0%|          | 0/256 [00:00<?, ?it/s]"
      ]
     },
     "metadata": {},
     "output_type": "display_data"
    },
    {
     "name": "stdout",
     "output_type": "stream",
     "text": [
      "\n",
      "Unreachable state ('q0', 2) was removed\n"
     ]
    },
    {
     "data": {
      "application/vnd.jupyter.widget-view+json": {
       "model_id": "aa8762394bae455383f86435e7e876ba",
       "version_major": 2,
       "version_minor": 0
      },
      "text/plain": [
       "  0%|          | 0/64 [00:00<?, ?it/s]"
      ]
     },
     "metadata": {},
     "output_type": "display_data"
    },
    {
     "name": "stdout",
     "output_type": "stream",
     "text": [
      "Unreachable state ('q0', 3) was removed\n",
      "Unreachable state ('q0', 4) was removed"
     ]
    },
    {
     "data": {
      "application/vnd.jupyter.widget-view+json": {
       "model_id": "7e5bf71bf1794411974cd7f11afedcc1",
       "version_major": 2,
       "version_minor": 0
      },
      "text/plain": [
       "  0%|          | 0/128 [00:00<?, ?it/s]"
      ]
     },
     "metadata": {},
     "output_type": "display_data"
    },
    {
     "name": "stdout",
     "output_type": "stream",
     "text": [
      "\n"
     ]
    },
    {
     "data": {
      "application/vnd.jupyter.widget-view+json": {
       "model_id": "bb34ab80d7f14a3c863a09bf2c43f70c",
       "version_major": 2,
       "version_minor": 0
      },
      "text/plain": [
       "  0%|          | 0/128 [00:00<?, ?it/s]"
      ]
     },
     "metadata": {},
     "output_type": "display_data"
    },
    {
     "name": "stdout",
     "output_type": "stream",
     "text": [
      "Unreachable state ('q0', 5) was removed"
     ]
    },
    {
     "data": {
      "application/vnd.jupyter.widget-view+json": {
       "model_id": "fb094e44992f4d8592d019ca8a42f58d",
       "version_major": 2,
       "version_minor": 0
      },
      "text/plain": [
       "  0%|          | 0/256 [00:00<?, ?it/s]"
      ]
     },
     "metadata": {},
     "output_type": "display_data"
    },
    {
     "name": "stdout",
     "output_type": "stream",
     "text": [
      "\n",
      "[15] insufficient accepting stringsUnreachable state ('q1', 0) was removed\n",
      "[16] bruteforce started\n",
      "[10] insufficient accepting strings[16] started\n",
      "\n",
      "\n",
      "Unreachable state ('q2', 2) was removed[11] started\n",
      "\n",
      "Unreachable state ('q2', 3) was removed[11] bruteforce started\n",
      "\n",
      "Unreachable state ('q2', 4) was removed[25] insufficient accepting strings[5] insufficient accepting strings\n",
      "\n",
      "\n",
      "[0] insufficient accepting strings[26] started\n",
      "Unreachable state ('q2', 5) was removed[6] started\n",
      "[6] bruteforce started\n",
      "\n",
      "\n",
      "Unreachable state ('q3', 1) was removed[26] bruteforce started\n",
      "\n",
      "Unreachable state ('q3', 2) was removed\n",
      "[1] started\n",
      "Unreachable state ('q3', 3) was removed[1] bruteforce started\n",
      "\n",
      "Unreachable state ('q3', 4) was removed\n",
      "Unreachable state ('q3', 5) was removed\n",
      "Retries per sample 153573"
     ]
    },
    {
     "data": {
      "application/vnd.jupyter.widget-view+json": {
       "model_id": "b7e0405899c64b7a9d75bbd9ff1d8d6f",
       "version_major": 2,
       "version_minor": 0
      },
      "text/plain": [
       "  0%|          | 0/256 [00:00<?, ?it/s]"
      ]
     },
     "metadata": {},
     "output_type": "display_data"
    },
    {
     "name": "stdout",
     "output_type": "stream",
     "text": [
      "\n"
     ]
    },
    {
     "data": {
      "application/vnd.jupyter.widget-view+json": {
       "model_id": "f9a8704438b14044bafdf10c9660b72c",
       "version_major": 2,
       "version_minor": 0
      },
      "text/plain": [
       "  0%|          | 0/128 [00:00<?, ?it/s]"
      ]
     },
     "metadata": {},
     "output_type": "display_data"
    },
    {
     "data": {
      "application/vnd.jupyter.widget-view+json": {
       "model_id": "df6a4015bcdd4137adecda8e287815a9",
       "version_major": 2,
       "version_minor": 0
      },
      "text/plain": [
       "  0%|          | 0/128 [00:00<?, ?it/s]"
      ]
     },
     "metadata": {},
     "output_type": "display_data"
    },
    {
     "name": "stdout",
     "output_type": "stream",
     "text": [
      "Sample size"
     ]
    },
    {
     "data": {
      "application/vnd.jupyter.widget-view+json": {
       "model_id": "46ede03f1e084d37965e09f8577073b8",
       "version_major": 2,
       "version_minor": 0
      },
      "text/plain": [
       "  0%|          | 0/128 [00:00<?, ?it/s]"
      ]
     },
     "metadata": {},
     "output_type": "display_data"
    },
    {
     "name": "stdout",
     "output_type": "stream",
     "text": [
      " 98\n",
      "Unreachable state ('q1', 1) was removed\n",
      "Unreachable state ('q2', 0) was removed\n",
      "Retries per sample[6] insufficient accepting strings \n",
      "[7] started\n",
      "[7] bruteforce started\n",
      "Retries per sample 224786"
     ]
    },
    {
     "data": {
      "application/vnd.jupyter.widget-view+json": {
       "model_id": "79d9b101512941df9b4c07d6a766d65e",
       "version_major": 2,
       "version_minor": 0
      },
      "text/plain": [
       "  0%|          | 0/128 [00:00<?, ?it/s]"
      ]
     },
     "metadata": {},
     "output_type": "display_data"
    },
    {
     "name": "stdout",
     "output_type": "stream",
     "text": [
      "\n",
      "[1] insufficient accepting stringsSample size \n",
      "882[2] started\n",
      "[2] bruteforce started\n",
      "224786[26] insufficient accepting strings"
     ]
    },
    {
     "data": {
      "application/vnd.jupyter.widget-view+json": {
       "model_id": "fcb060151fd64745aa0487cd85bd37e4",
       "version_major": 2,
       "version_minor": 0
      },
      "text/plain": [
       "Layer:   0%|          | 0/6 [00:00<?, ?it/s]"
      ]
     },
     "metadata": {},
     "output_type": "display_data"
    },
    {
     "name": "stdout",
     "output_type": "stream",
     "text": [
      "\n",
      "\n",
      "[27] started\n",
      "Sample size[27] bruteforce started\n",
      " 882\n",
      "\n"
     ]
    },
    {
     "data": {
      "application/vnd.jupyter.widget-view+json": {
       "model_id": "eda55d3d4f9e487b81c1ced769792363",
       "version_major": 2,
       "version_minor": 0
      },
      "text/plain": [
       "  0%|          | 0/64 [00:00<?, ?it/s]"
      ]
     },
     "metadata": {},
     "output_type": "display_data"
    },
    {
     "name": "stdout",
     "output_type": "stream",
     "text": [
      "Unreachable state ('q0', 1) was removed\n",
      "Unreachable state ('q1', 1) was removed\n"
     ]
    },
    {
     "data": {
      "application/vnd.jupyter.widget-view+json": {
       "model_id": "0f4ca0a7528b4bd28b46a8ac0dc77018",
       "version_major": 2,
       "version_minor": 0
      },
      "text/plain": [
       "  0%|          | 0/64 [00:00<?, ?it/s]"
      ]
     },
     "metadata": {},
     "output_type": "display_data"
    },
    {
     "name": "stdout",
     "output_type": "stream",
     "text": [
      "Unreachable state ('q1', 2) was removed\n"
     ]
    },
    {
     "data": {
      "application/vnd.jupyter.widget-view+json": {
       "model_id": "",
       "version_major": 2,
       "version_minor": 0
      },
      "text/plain": [
       "State at layer 1:   0%|          | 0/3 [00:00<?, ?it/s]"
      ]
     },
     "metadata": {},
     "output_type": "display_data"
    },
    {
     "name": "stdout",
     "output_type": "stream",
     "text": [
      "Unreachable state ('q1', 3) was removed\n",
      "Unreachable state ('q1', 4) was removed\n",
      "Unreachable state ('q1', 5) was removed\n"
     ]
    },
    {
     "data": {
      "application/vnd.jupyter.widget-view+json": {
       "model_id": "d2487b0fbac34bdaa583af4d40ea5ca3",
       "version_major": 2,
       "version_minor": 0
      },
      "text/plain": [
       "  0%|          | 0/64 [00:00<?, ?it/s]"
      ]
     },
     "metadata": {},
     "output_type": "display_data"
    },
    {
     "name": "stdout",
     "output_type": "stream",
     "text": [
      "Unreachable state ('q2', 0) was removed"
     ]
    },
    {
     "data": {
      "application/vnd.jupyter.widget-view+json": {
       "model_id": "3e93c9627f2b4e2c86e9d812942ff6e1",
       "version_major": 2,
       "version_minor": 0
      },
      "text/plain": [
       "Layer:   0%|          | 0/7 [00:00<?, ?it/s]"
      ]
     },
     "metadata": {},
     "output_type": "display_data"
    },
    {
     "name": "stdout",
     "output_type": "stream",
     "text": [
      "\n",
      "Retries per sampleRetries per sample "
     ]
    },
    {
     "data": {
      "application/vnd.jupyter.widget-view+json": {
       "model_id": "0146d05dbd0047b28d271785de8db24f",
       "version_major": 2,
       "version_minor": 0
      },
      "text/plain": [
       "Layer:   0%|          | 0/7 [00:00<?, ?it/s]"
      ]
     },
     "metadata": {},
     "output_type": "display_data"
    },
    {
     "name": "stdout",
     "output_type": "stream",
     "text": [
      " 188512188512\n",
      "\n",
      "Sample size Sample size\n",
      "288\n",
      " 288Wrote pickle file for 46 results\n"
     ]
    },
    {
     "data": {
      "application/vnd.jupyter.widget-view+json": {
       "model_id": "",
       "version_major": 2,
       "version_minor": 0
      },
      "text/plain": [
       "Sampling:   0%|          | 0/98 [00:00<?, ?it/s]"
      ]
     },
     "metadata": {},
     "output_type": "display_data"
    },
    {
     "name": "stdout",
     "output_type": "stream",
     "text": [
      "Unreachable state ('q0', 1) was removed\n",
      "Unreachable state ('q0', 3) was removed\n",
      "Unreachable state ('q0', 5) was removed\n",
      "Unreachable state ('q1', 0) was removed\n",
      "Unreachable state ('q1', 2) was removed\n",
      "Unreachable state ('q1', 4) was removed\n"
     ]
    },
    {
     "data": {
      "application/vnd.jupyter.widget-view+json": {
       "model_id": "",
       "version_major": 2,
       "version_minor": 0
      },
      "text/plain": [
       "State at layer 1:   0%|          | 0/3 [00:00<?, ?it/s]"
      ]
     },
     "metadata": {},
     "output_type": "display_data"
    },
    {
     "name": "stdout",
     "output_type": "stream",
     "text": [
      "Unreachable state ('q2', 1) was removed\n",
      "Unreachable state ('q2', 3) was removed\n"
     ]
    },
    {
     "data": {
      "application/vnd.jupyter.widget-view+json": {
       "model_id": "",
       "version_major": 2,
       "version_minor": 0
      },
      "text/plain": [
       "State at layer 1:   0%|          | 0/1 [00:00<?, ?it/s]"
      ]
     },
     "metadata": {},
     "output_type": "display_data"
    },
    {
     "name": "stdout",
     "output_type": "stream",
     "text": [
      "Unreachable state ('q2', 5) was removed"
     ]
    },
    {
     "data": {
      "application/vnd.jupyter.widget-view+json": {
       "model_id": "dfe453ebe0a14e0993cf263e50f751f3",
       "version_major": 2,
       "version_minor": 0
      },
      "text/plain": [
       "Layer:   0%|          | 0/6 [00:00<?, ?it/s]"
      ]
     },
     "metadata": {},
     "output_type": "display_data"
    },
    {
     "name": "stdout",
     "output_type": "stream",
     "text": [
      "\n",
      "Unreachable state ('q3', 0) was removed\n",
      "Unreachable state ('q3', 2) was removed\n",
      "Unreachable state ('q3', 4) was removed\n",
      "Retries per sample 198504"
     ]
    },
    {
     "data": {
      "application/vnd.jupyter.widget-view+json": {
       "model_id": "53adbbf94e25487c97e10594488ac1e6",
       "version_major": 2,
       "version_minor": 0
      },
      "text/plain": [
       "Layer:   0%|          | 0/6 [00:00<?, ?it/s]"
      ]
     },
     "metadata": {},
     "output_type": "display_data"
    },
    {
     "name": "stdout",
     "output_type": "stream",
     "text": [
      "\n",
      "Sample size "
     ]
    },
    {
     "data": {
      "application/vnd.jupyter.widget-view+json": {
       "model_id": "",
       "version_major": 2,
       "version_minor": 0
      },
      "text/plain": [
       "Sampling:   0%|          | 0/882 [00:00<?, ?it/s]"
      ]
     },
     "metadata": {},
     "output_type": "display_data"
    },
    {
     "name": "stdout",
     "output_type": "stream",
     "text": [
      "392\n"
     ]
    },
    {
     "data": {
      "application/vnd.jupyter.widget-view+json": {
       "model_id": "7ee6bf97ab01409e95646d6346aafe8e",
       "version_major": 2,
       "version_minor": 0
      },
      "text/plain": [
       "Layer:   0%|          | 0/6 [00:00<?, ?it/s]"
      ]
     },
     "metadata": {},
     "output_type": "display_data"
    },
    {
     "data": {
      "application/vnd.jupyter.widget-view+json": {
       "model_id": "",
       "version_major": 2,
       "version_minor": 0
      },
      "text/plain": [
       "Sampling:   0%|          | 0/882 [00:00<?, ?it/s]"
      ]
     },
     "metadata": {},
     "output_type": "display_data"
    },
    {
     "data": {
      "application/vnd.jupyter.widget-view+json": {
       "model_id": "",
       "version_major": 2,
       "version_minor": 0
      },
      "text/plain": [
       "State at layer 1:   0%|          | 0/2 [00:00<?, ?it/s]"
      ]
     },
     "metadata": {},
     "output_type": "display_data"
    },
    {
     "data": {
      "application/vnd.jupyter.widget-view+json": {
       "model_id": "",
       "version_major": 2,
       "version_minor": 0
      },
      "text/plain": [
       "State at layer 1:   0%|          | 0/2 [00:00<?, ?it/s]"
      ]
     },
     "metadata": {},
     "output_type": "display_data"
    },
    {
     "data": {
      "application/vnd.jupyter.widget-view+json": {
       "model_id": "",
       "version_major": 2,
       "version_minor": 0
      },
      "text/plain": [
       "Sampling:   0%|          | 0/288 [00:00<?, ?it/s]"
      ]
     },
     "metadata": {},
     "output_type": "display_data"
    },
    {
     "data": {
      "application/vnd.jupyter.widget-view+json": {
       "model_id": "",
       "version_major": 2,
       "version_minor": 0
      },
      "text/plain": [
       "Sampling:   0%|          | 0/288 [00:00<?, ?it/s]"
      ]
     },
     "metadata": {},
     "output_type": "display_data"
    },
    {
     "data": {
      "application/vnd.jupyter.widget-view+json": {
       "model_id": "",
       "version_major": 2,
       "version_minor": 0
      },
      "text/plain": [
       "State at layer 1:   0%|          | 0/2 [00:00<?, ?it/s]"
      ]
     },
     "metadata": {},
     "output_type": "display_data"
    },
    {
     "data": {
      "application/vnd.jupyter.widget-view+json": {
       "model_id": "",
       "version_major": 2,
       "version_minor": 0
      },
      "text/plain": [
       "Sampling:   0%|          | 0/98 [00:00<?, ?it/s]"
      ]
     },
     "metadata": {},
     "output_type": "display_data"
    },
    {
     "data": {
      "application/vnd.jupyter.widget-view+json": {
       "model_id": "",
       "version_major": 2,
       "version_minor": 0
      },
      "text/plain": [
       "Sampling:   0%|          | 0/392 [00:00<?, ?it/s]"
      ]
     },
     "metadata": {},
     "output_type": "display_data"
    },
    {
     "data": {
      "application/vnd.jupyter.widget-view+json": {
       "model_id": "",
       "version_major": 2,
       "version_minor": 0
      },
      "text/plain": [
       "Sampling:   0%|          | 0/98 [00:00<?, ?it/s]"
      ]
     },
     "metadata": {},
     "output_type": "display_data"
    },
    {
     "data": {
      "application/vnd.jupyter.widget-view+json": {
       "model_id": "",
       "version_major": 2,
       "version_minor": 0
      },
      "text/plain": [
       "Sampling:   0%|          | 0/288 [00:00<?, ?it/s]"
      ]
     },
     "metadata": {},
     "output_type": "display_data"
    },
    {
     "data": {
      "application/vnd.jupyter.widget-view+json": {
       "model_id": "",
       "version_major": 2,
       "version_minor": 0
      },
      "text/plain": [
       "Sampling:   0%|          | 0/288 [00:00<?, ?it/s]"
      ]
     },
     "metadata": {},
     "output_type": "display_data"
    },
    {
     "data": {
      "application/vnd.jupyter.widget-view+json": {
       "model_id": "",
       "version_major": 2,
       "version_minor": 0
      },
      "text/plain": [
       "State at layer 2:   0%|          | 0/1 [00:00<?, ?it/s]"
      ]
     },
     "metadata": {},
     "output_type": "display_data"
    },
    {
     "data": {
      "application/vnd.jupyter.widget-view+json": {
       "model_id": "",
       "version_major": 2,
       "version_minor": 0
      },
      "text/plain": [
       "Sampling:   0%|          | 0/98 [00:00<?, ?it/s]"
      ]
     },
     "metadata": {},
     "output_type": "display_data"
    },
    {
     "data": {
      "application/vnd.jupyter.widget-view+json": {
       "model_id": "",
       "version_major": 2,
       "version_minor": 0
      },
      "text/plain": [
       "Sampling:   0%|          | 0/392 [00:00<?, ?it/s]"
      ]
     },
     "metadata": {},
     "output_type": "display_data"
    },
    {
     "data": {
      "application/vnd.jupyter.widget-view+json": {
       "model_id": "",
       "version_major": 2,
       "version_minor": 0
      },
      "text/plain": [
       "State at layer 2:   0%|          | 0/2 [00:00<?, ?it/s]"
      ]
     },
     "metadata": {},
     "output_type": "display_data"
    },
    {
     "data": {
      "application/vnd.jupyter.widget-view+json": {
       "model_id": "",
       "version_major": 2,
       "version_minor": 0
      },
      "text/plain": [
       "Sampling:   0%|          | 0/288 [00:00<?, ?it/s]"
      ]
     },
     "metadata": {},
     "output_type": "display_data"
    },
    {
     "data": {
      "application/vnd.jupyter.widget-view+json": {
       "model_id": "",
       "version_major": 2,
       "version_minor": 0
      },
      "text/plain": [
       "Sampling:   0%|          | 0/882 [00:00<?, ?it/s]"
      ]
     },
     "metadata": {},
     "output_type": "display_data"
    },
    {
     "data": {
      "application/vnd.jupyter.widget-view+json": {
       "model_id": "",
       "version_major": 2,
       "version_minor": 0
      },
      "text/plain": [
       "State at layer 2:   0%|          | 0/2 [00:00<?, ?it/s]"
      ]
     },
     "metadata": {},
     "output_type": "display_data"
    },
    {
     "data": {
      "application/vnd.jupyter.widget-view+json": {
       "model_id": "",
       "version_major": 2,
       "version_minor": 0
      },
      "text/plain": [
       "State at layer 3:   0%|          | 0/1 [00:00<?, ?it/s]"
      ]
     },
     "metadata": {},
     "output_type": "display_data"
    },
    {
     "data": {
      "application/vnd.jupyter.widget-view+json": {
       "model_id": "",
       "version_major": 2,
       "version_minor": 0
      },
      "text/plain": [
       "Sampling:   0%|          | 0/288 [00:00<?, ?it/s]"
      ]
     },
     "metadata": {},
     "output_type": "display_data"
    },
    {
     "data": {
      "application/vnd.jupyter.widget-view+json": {
       "model_id": "",
       "version_major": 2,
       "version_minor": 0
      },
      "text/plain": [
       "Sampling:   0%|          | 0/98 [00:00<?, ?it/s]"
      ]
     },
     "metadata": {},
     "output_type": "display_data"
    },
    {
     "data": {
      "application/vnd.jupyter.widget-view+json": {
       "model_id": "",
       "version_major": 2,
       "version_minor": 0
      },
      "text/plain": [
       "State at layer 2:   0%|          | 0/3 [00:00<?, ?it/s]"
      ]
     },
     "metadata": {},
     "output_type": "display_data"
    },
    {
     "data": {
      "application/vnd.jupyter.widget-view+json": {
       "model_id": "",
       "version_major": 2,
       "version_minor": 0
      },
      "text/plain": [
       "State at layer 2:   0%|          | 0/2 [00:00<?, ?it/s]"
      ]
     },
     "metadata": {},
     "output_type": "display_data"
    },
    {
     "data": {
      "application/vnd.jupyter.widget-view+json": {
       "model_id": "",
       "version_major": 2,
       "version_minor": 0
      },
      "text/plain": [
       "Sampling:   0%|          | 0/882 [00:00<?, ?it/s]"
      ]
     },
     "metadata": {},
     "output_type": "display_data"
    },
    {
     "data": {
      "application/vnd.jupyter.widget-view+json": {
       "model_id": "",
       "version_major": 2,
       "version_minor": 0
      },
      "text/plain": [
       "Sampling:   0%|          | 0/392 [00:00<?, ?it/s]"
      ]
     },
     "metadata": {},
     "output_type": "display_data"
    },
    {
     "data": {
      "application/vnd.jupyter.widget-view+json": {
       "model_id": "",
       "version_major": 2,
       "version_minor": 0
      },
      "text/plain": [
       "State at layer 4:   0%|          | 0/1 [00:00<?, ?it/s]"
      ]
     },
     "metadata": {},
     "output_type": "display_data"
    },
    {
     "data": {
      "application/vnd.jupyter.widget-view+json": {
       "model_id": "",
       "version_major": 2,
       "version_minor": 0
      },
      "text/plain": [
       "Sampling:   0%|          | 0/98 [00:00<?, ?it/s]"
      ]
     },
     "metadata": {},
     "output_type": "display_data"
    },
    {
     "data": {
      "application/vnd.jupyter.widget-view+json": {
       "model_id": "",
       "version_major": 2,
       "version_minor": 0
      },
      "text/plain": [
       "Sampling:   0%|          | 0/288 [00:00<?, ?it/s]"
      ]
     },
     "metadata": {},
     "output_type": "display_data"
    },
    {
     "data": {
      "application/vnd.jupyter.widget-view+json": {
       "model_id": "",
       "version_major": 2,
       "version_minor": 0
      },
      "text/plain": [
       "Sampling:   0%|          | 0/288 [00:00<?, ?it/s]"
      ]
     },
     "metadata": {},
     "output_type": "display_data"
    },
    {
     "data": {
      "application/vnd.jupyter.widget-view+json": {
       "model_id": "",
       "version_major": 2,
       "version_minor": 0
      },
      "text/plain": [
       "State at layer 5:   0%|          | 0/1 [00:00<?, ?it/s]"
      ]
     },
     "metadata": {},
     "output_type": "display_data"
    },
    {
     "data": {
      "application/vnd.jupyter.widget-view+json": {
       "model_id": "",
       "version_major": 2,
       "version_minor": 0
      },
      "text/plain": [
       "Sampling:   0%|          | 0/98 [00:00<?, ?it/s]"
      ]
     },
     "metadata": {},
     "output_type": "display_data"
    },
    {
     "data": {
      "application/vnd.jupyter.widget-view+json": {
       "model_id": "",
       "version_major": 2,
       "version_minor": 0
      },
      "text/plain": [
       "Sampling:   0%|          | 0/882 [00:00<?, ?it/s]"
      ]
     },
     "metadata": {},
     "output_type": "display_data"
    },
    {
     "data": {
      "application/vnd.jupyter.widget-view+json": {
       "model_id": "",
       "version_major": 2,
       "version_minor": 0
      },
      "text/plain": [
       "Sampling:   0%|          | 0/392 [00:00<?, ?it/s]"
      ]
     },
     "metadata": {},
     "output_type": "display_data"
    },
    {
     "data": {
      "application/vnd.jupyter.widget-view+json": {
       "model_id": "",
       "version_major": 2,
       "version_minor": 0
      },
      "text/plain": [
       "State at layer 3:   0%|          | 0/3 [00:00<?, ?it/s]"
      ]
     },
     "metadata": {},
     "output_type": "display_data"
    },
    {
     "data": {
      "application/vnd.jupyter.widget-view+json": {
       "model_id": "",
       "version_major": 2,
       "version_minor": 0
      },
      "text/plain": [
       "Sampling:   0%|          | 0/288 [00:00<?, ?it/s]"
      ]
     },
     "metadata": {},
     "output_type": "display_data"
    },
    {
     "data": {
      "application/vnd.jupyter.widget-view+json": {
       "model_id": "",
       "version_major": 2,
       "version_minor": 0
      },
      "text/plain": [
       "State at layer 3:   0%|          | 0/2 [00:00<?, ?it/s]"
      ]
     },
     "metadata": {},
     "output_type": "display_data"
    },
    {
     "data": {
      "application/vnd.jupyter.widget-view+json": {
       "model_id": "",
       "version_major": 2,
       "version_minor": 0
      },
      "text/plain": [
       "Sampling:   0%|          | 0/288 [00:00<?, ?it/s]"
      ]
     },
     "metadata": {},
     "output_type": "display_data"
    },
    {
     "data": {
      "application/vnd.jupyter.widget-view+json": {
       "model_id": "",
       "version_major": 2,
       "version_minor": 0
      },
      "text/plain": [
       "State at layer 6:   0%|          | 0/1 [00:00<?, ?it/s]"
      ]
     },
     "metadata": {},
     "output_type": "display_data"
    },
    {
     "data": {
      "application/vnd.jupyter.widget-view+json": {
       "model_id": "",
       "version_major": 2,
       "version_minor": 0
      },
      "text/plain": [
       "Sampling:   0%|          | 0/98 [00:00<?, ?it/s]"
      ]
     },
     "metadata": {},
     "output_type": "display_data"
    },
    {
     "data": {
      "application/vnd.jupyter.widget-view+json": {
       "model_id": "",
       "version_major": 2,
       "version_minor": 0
      },
      "text/plain": [
       "State at layer 2:   0%|          | 0/3 [00:00<?, ?it/s]"
      ]
     },
     "metadata": {},
     "output_type": "display_data"
    },
    {
     "data": {
      "application/vnd.jupyter.widget-view+json": {
       "model_id": "",
       "version_major": 2,
       "version_minor": 0
      },
      "text/plain": [
       "State at layer 3:   0%|          | 0/2 [00:00<?, ?it/s]"
      ]
     },
     "metadata": {},
     "output_type": "display_data"
    },
    {
     "data": {
      "application/vnd.jupyter.widget-view+json": {
       "model_id": "",
       "version_major": 2,
       "version_minor": 0
      },
      "text/plain": [
       "Sampling:   0%|          | 0/882 [00:00<?, ?it/s]"
      ]
     },
     "metadata": {},
     "output_type": "display_data"
    },
    {
     "data": {
      "application/vnd.jupyter.widget-view+json": {
       "model_id": "",
       "version_major": 2,
       "version_minor": 0
      },
      "text/plain": [
       "Sampling:   0%|          | 0/392 [00:00<?, ?it/s]"
      ]
     },
     "metadata": {},
     "output_type": "display_data"
    },
    {
     "data": {
      "application/vnd.jupyter.widget-view+json": {
       "model_id": "",
       "version_major": 2,
       "version_minor": 0
      },
      "text/plain": [
       "Sampling:   0%|          | 0/288 [00:00<?, ?it/s]"
      ]
     },
     "metadata": {},
     "output_type": "display_data"
    },
    {
     "data": {
      "application/vnd.jupyter.widget-view+json": {
       "model_id": "",
       "version_major": 2,
       "version_minor": 0
      },
      "text/plain": [
       "Sampling:   0%|          | 0/288 [00:00<?, ?it/s]"
      ]
     },
     "metadata": {},
     "output_type": "display_data"
    },
    {
     "data": {
      "application/vnd.jupyter.widget-view+json": {
       "model_id": "",
       "version_major": 2,
       "version_minor": 0
      },
      "text/plain": [
       "Sampling:   0%|          | 0/882 [00:00<?, ?it/s]"
      ]
     },
     "metadata": {},
     "output_type": "display_data"
    },
    {
     "name": "stdout",
     "output_type": "stream",
     "text": [
      "[21] started\n",
      "[21] bruteforce started\n"
     ]
    },
    {
     "data": {
      "application/vnd.jupyter.widget-view+json": {
       "model_id": "ee9e47c7f023441cb443cdc187efa14a",
       "version_major": 2,
       "version_minor": 0
      },
      "text/plain": [
       "  0%|          | 0/128 [00:00<?, ?it/s]"
      ]
     },
     "metadata": {},
     "output_type": "display_data"
    },
    {
     "name": "stdout",
     "output_type": "stream",
     "text": [
      "[21] insufficient accepting strings\n",
      "[22] started\n",
      "[22] bruteforce started\n"
     ]
    },
    {
     "data": {
      "application/vnd.jupyter.widget-view+json": {
       "model_id": "5586a0fd4e3a478397a4bc9648285bad",
       "version_major": 2,
       "version_minor": 0
      },
      "text/plain": [
       "  0%|          | 0/128 [00:00<?, ?it/s]"
      ]
     },
     "metadata": {},
     "output_type": "display_data"
    },
    {
     "name": "stdout",
     "output_type": "stream",
     "text": [
      "[22] insufficient accepting strings\n",
      "[23] started\n",
      "[23] bruteforce started\n"
     ]
    },
    {
     "data": {
      "application/vnd.jupyter.widget-view+json": {
       "model_id": "cb02685cef0a4d6f88251e4c543aee45",
       "version_major": 2,
       "version_minor": 0
      },
      "text/plain": [
       "  0%|          | 0/256 [00:00<?, ?it/s]"
      ]
     },
     "metadata": {},
     "output_type": "display_data"
    },
    {
     "name": "stdout",
     "output_type": "stream",
     "text": [
      "[23] insufficient accepting strings\n",
      "[24] started\n",
      "[24] bruteforce started\n"
     ]
    },
    {
     "data": {
      "application/vnd.jupyter.widget-view+json": {
       "model_id": "1de68d077f504060950f29371a61a3a4",
       "version_major": 2,
       "version_minor": 0
      },
      "text/plain": [
       "  0%|          | 0/128 [00:00<?, ?it/s]"
      ]
     },
     "metadata": {},
     "output_type": "display_data"
    },
    {
     "name": "stdout",
     "output_type": "stream",
     "text": [
      "[24] insufficient accepting strings\n",
      "[30] started\n",
      "[30] bruteforce started\n"
     ]
    },
    {
     "data": {
      "application/vnd.jupyter.widget-view+json": {
       "model_id": "60354a0754df4419869a5b407056152b",
       "version_major": 2,
       "version_minor": 0
      },
      "text/plain": [
       "  0%|          | 0/256 [00:00<?, ?it/s]"
      ]
     },
     "metadata": {},
     "output_type": "display_data"
    },
    {
     "name": "stdout",
     "output_type": "stream",
     "text": [
      "[30] insufficient accepting strings\n",
      "[31] started\n",
      "[31] bruteforce started\n"
     ]
    },
    {
     "data": {
      "application/vnd.jupyter.widget-view+json": {
       "model_id": "c5d48536ead644d081bf234ddba1f776",
       "version_major": 2,
       "version_minor": 0
      },
      "text/plain": [
       "  0%|          | 0/128 [00:00<?, ?it/s]"
      ]
     },
     "metadata": {},
     "output_type": "display_data"
    },
    {
     "name": "stdout",
     "output_type": "stream",
     "text": [
      "[31] insufficient accepting strings\n",
      "[32] started\n",
      "[32] bruteforce started\n"
     ]
    },
    {
     "data": {
      "application/vnd.jupyter.widget-view+json": {
       "model_id": "1431f3f86d374ed2989874f24fae66fc",
       "version_major": 2,
       "version_minor": 0
      },
      "text/plain": [
       "  0%|          | 0/64 [00:00<?, ?it/s]"
      ]
     },
     "metadata": {},
     "output_type": "display_data"
    },
    {
     "name": "stdout",
     "output_type": "stream",
     "text": [
      "[32] insufficient accepting strings\n",
      "[33] started\n",
      "[33] bruteforce started\n"
     ]
    },
    {
     "data": {
      "application/vnd.jupyter.widget-view+json": {
       "model_id": "a18d50297d534941aff0330e3aed89a5",
       "version_major": 2,
       "version_minor": 0
      },
      "text/plain": [
       "  0%|          | 0/64 [00:00<?, ?it/s]"
      ]
     },
     "metadata": {},
     "output_type": "display_data"
    },
    {
     "name": "stdout",
     "output_type": "stream",
     "text": [
      "[33] insufficient accepting strings\n",
      "[34] started\n",
      "[34] bruteforce started\n"
     ]
    },
    {
     "data": {
      "application/vnd.jupyter.widget-view+json": {
       "model_id": "260a2ba4b0104c0f94647977ba8366c8",
       "version_major": 2,
       "version_minor": 0
      },
      "text/plain": [
       "  0%|          | 0/256 [00:00<?, ?it/s]"
      ]
     },
     "metadata": {},
     "output_type": "display_data"
    },
    {
     "name": "stdout",
     "output_type": "stream",
     "text": [
      "[34] insufficient accepting strings\n",
      "[35] started\n",
      "[35] bruteforce started\n"
     ]
    },
    {
     "data": {
      "application/vnd.jupyter.widget-view+json": {
       "model_id": "3f2e18919fcb48d9845fe8ccfafcabc9",
       "version_major": 2,
       "version_minor": 0
      },
      "text/plain": [
       "  0%|          | 0/64 [00:00<?, ?it/s]"
      ]
     },
     "metadata": {},
     "output_type": "display_data"
    },
    {
     "name": "stdout",
     "output_type": "stream",
     "text": [
      "[35] insufficient accepting strings\n",
      "[36] started\n",
      "[36] bruteforce started\n"
     ]
    },
    {
     "data": {
      "application/vnd.jupyter.widget-view+json": {
       "model_id": "",
       "version_major": 2,
       "version_minor": 0
      },
      "text/plain": [
       "State at layer 4:   0%|          | 0/2 [00:00<?, ?it/s]"
      ]
     },
     "metadata": {},
     "output_type": "display_data"
    },
    {
     "data": {
      "application/vnd.jupyter.widget-view+json": {
       "model_id": "",
       "version_major": 2,
       "version_minor": 0
      },
      "text/plain": [
       "Sampling:   0%|          | 0/288 [00:00<?, ?it/s]"
      ]
     },
     "metadata": {},
     "output_type": "display_data"
    },
    {
     "data": {
      "application/vnd.jupyter.widget-view+json": {
       "model_id": "bb668de3232043c8856655634efb6d7c",
       "version_major": 2,
       "version_minor": 0
      },
      "text/plain": [
       "  0%|          | 0/256 [00:00<?, ?it/s]"
      ]
     },
     "metadata": {},
     "output_type": "display_data"
    },
    {
     "name": "stdout",
     "output_type": "stream",
     "text": [
      "[36] insufficient accepting strings\n",
      "[37] started\n",
      "[37] bruteforce started\n"
     ]
    },
    {
     "data": {
      "application/vnd.jupyter.widget-view+json": {
       "model_id": "",
       "version_major": 2,
       "version_minor": 0
      },
      "text/plain": [
       "Sampling:   0%|          | 0/288 [00:00<?, ?it/s]"
      ]
     },
     "metadata": {},
     "output_type": "display_data"
    },
    {
     "data": {
      "application/vnd.jupyter.widget-view+json": {
       "model_id": "",
       "version_major": 2,
       "version_minor": 0
      },
      "text/plain": [
       "Sampling:   0%|          | 0/392 [00:00<?, ?it/s]"
      ]
     },
     "metadata": {},
     "output_type": "display_data"
    },
    {
     "data": {
      "application/vnd.jupyter.widget-view+json": {
       "model_id": "a45761f30d6049d1b209dd53af32523a",
       "version_major": 2,
       "version_minor": 0
      },
      "text/plain": [
       "  0%|          | 0/128 [00:00<?, ?it/s]"
      ]
     },
     "metadata": {},
     "output_type": "display_data"
    },
    {
     "name": "stdout",
     "output_type": "stream",
     "text": [
      "Unreachable state ('q0', 0) was removed\n",
      "Retries per sample 188512\n",
      "Sample size 288\n"
     ]
    },
    {
     "data": {
      "application/vnd.jupyter.widget-view+json": {
       "model_id": "db027eddda9c4bfa93fea5bdd164671d",
       "version_major": 2,
       "version_minor": 0
      },
      "text/plain": [
       "Layer:   0%|          | 0/7 [00:00<?, ?it/s]"
      ]
     },
     "metadata": {},
     "output_type": "display_data"
    },
    {
     "data": {
      "application/vnd.jupyter.widget-view+json": {
       "model_id": "",
       "version_major": 2,
       "version_minor": 0
      },
      "text/plain": [
       "State at layer 1:   0%|          | 0/3 [00:00<?, ?it/s]"
      ]
     },
     "metadata": {},
     "output_type": "display_data"
    },
    {
     "data": {
      "application/vnd.jupyter.widget-view+json": {
       "model_id": "",
       "version_major": 2,
       "version_minor": 0
      },
      "text/plain": [
       "Sampling:   0%|          | 0/288 [00:00<?, ?it/s]"
      ]
     },
     "metadata": {},
     "output_type": "display_data"
    },
    {
     "data": {
      "application/vnd.jupyter.widget-view+json": {
       "model_id": "",
       "version_major": 2,
       "version_minor": 0
      },
      "text/plain": [
       "Sampling:   0%|          | 0/288 [00:00<?, ?it/s]"
      ]
     },
     "metadata": {},
     "output_type": "display_data"
    },
    {
     "data": {
      "application/vnd.jupyter.widget-view+json": {
       "model_id": "",
       "version_major": 2,
       "version_minor": 0
      },
      "text/plain": [
       "Sampling:   0%|          | 0/882 [00:00<?, ?it/s]"
      ]
     },
     "metadata": {},
     "output_type": "display_data"
    },
    {
     "data": {
      "application/vnd.jupyter.widget-view+json": {
       "model_id": "",
       "version_major": 2,
       "version_minor": 0
      },
      "text/plain": [
       "Sampling:   0%|          | 0/882 [00:00<?, ?it/s]"
      ]
     },
     "metadata": {},
     "output_type": "display_data"
    },
    {
     "data": {
      "application/vnd.jupyter.widget-view+json": {
       "model_id": "",
       "version_major": 2,
       "version_minor": 0
      },
      "text/plain": [
       "State at layer 4:   0%|          | 0/3 [00:00<?, ?it/s]"
      ]
     },
     "metadata": {},
     "output_type": "display_data"
    },
    {
     "data": {
      "application/vnd.jupyter.widget-view+json": {
       "model_id": "",
       "version_major": 2,
       "version_minor": 0
      },
      "text/plain": [
       "Sampling:   0%|          | 0/288 [00:00<?, ?it/s]"
      ]
     },
     "metadata": {},
     "output_type": "display_data"
    },
    {
     "data": {
      "application/vnd.jupyter.widget-view+json": {
       "model_id": "",
       "version_major": 2,
       "version_minor": 0
      },
      "text/plain": [
       "Sampling:   0%|          | 0/288 [00:00<?, ?it/s]"
      ]
     },
     "metadata": {},
     "output_type": "display_data"
    },
    {
     "data": {
      "application/vnd.jupyter.widget-view+json": {
       "model_id": "",
       "version_major": 2,
       "version_minor": 0
      },
      "text/plain": [
       "Sampling:   0%|          | 0/288 [00:00<?, ?it/s]"
      ]
     },
     "metadata": {},
     "output_type": "display_data"
    },
    {
     "data": {
      "application/vnd.jupyter.widget-view+json": {
       "model_id": "",
       "version_major": 2,
       "version_minor": 0
      },
      "text/plain": [
       "State at layer 4:   0%|          | 0/2 [00:00<?, ?it/s]"
      ]
     },
     "metadata": {},
     "output_type": "display_data"
    },
    {
     "data": {
      "application/vnd.jupyter.widget-view+json": {
       "model_id": "",
       "version_major": 2,
       "version_minor": 0
      },
      "text/plain": [
       "Sampling:   0%|          | 0/392 [00:00<?, ?it/s]"
      ]
     },
     "metadata": {},
     "output_type": "display_data"
    },
    {
     "data": {
      "application/vnd.jupyter.widget-view+json": {
       "model_id": "",
       "version_major": 2,
       "version_minor": 0
      },
      "text/plain": [
       "State at layer 2:   0%|          | 0/3 [00:00<?, ?it/s]"
      ]
     },
     "metadata": {},
     "output_type": "display_data"
    },
    {
     "data": {
      "application/vnd.jupyter.widget-view+json": {
       "model_id": "",
       "version_major": 2,
       "version_minor": 0
      },
      "text/plain": [
       "Sampling:   0%|          | 0/288 [00:00<?, ?it/s]"
      ]
     },
     "metadata": {},
     "output_type": "display_data"
    },
    {
     "data": {
      "application/vnd.jupyter.widget-view+json": {
       "model_id": "",
       "version_major": 2,
       "version_minor": 0
      },
      "text/plain": [
       "Sampling:   0%|          | 0/288 [00:00<?, ?it/s]"
      ]
     },
     "metadata": {},
     "output_type": "display_data"
    },
    {
     "data": {
      "application/vnd.jupyter.widget-view+json": {
       "model_id": "",
       "version_major": 2,
       "version_minor": 0
      },
      "text/plain": [
       "State at layer 5:   0%|          | 0/2 [00:00<?, ?it/s]"
      ]
     },
     "metadata": {},
     "output_type": "display_data"
    },
    {
     "data": {
      "application/vnd.jupyter.widget-view+json": {
       "model_id": "",
       "version_major": 2,
       "version_minor": 0
      },
      "text/plain": [
       "Sampling:   0%|          | 0/288 [00:00<?, ?it/s]"
      ]
     },
     "metadata": {},
     "output_type": "display_data"
    },
    {
     "data": {
      "application/vnd.jupyter.widget-view+json": {
       "model_id": "",
       "version_major": 2,
       "version_minor": 0
      },
      "text/plain": [
       "Sampling:   0%|          | 0/288 [00:00<?, ?it/s]"
      ]
     },
     "metadata": {},
     "output_type": "display_data"
    },
    {
     "data": {
      "application/vnd.jupyter.widget-view+json": {
       "model_id": "",
       "version_major": 2,
       "version_minor": 0
      },
      "text/plain": [
       "Sampling:   0%|          | 0/288 [00:00<?, ?it/s]"
      ]
     },
     "metadata": {},
     "output_type": "display_data"
    },
    {
     "data": {
      "application/vnd.jupyter.widget-view+json": {
       "model_id": "c426e331d8cd4554bc32c157f7d68fe4",
       "version_major": 2,
       "version_minor": 0
      },
      "text/plain": [
       "State at layer 3:   0%|          | 0/3 [00:00<?, ?it/s]"
      ]
     },
     "metadata": {},
     "output_type": "display_data"
    },
    {
     "data": {
      "application/vnd.jupyter.widget-view+json": {
       "model_id": "",
       "version_major": 2,
       "version_minor": 0
      },
      "text/plain": [
       "Sampling:   0%|          | 0/882 [00:00<?, ?it/s]"
      ]
     },
     "metadata": {},
     "output_type": "display_data"
    },
    {
     "data": {
      "application/vnd.jupyter.widget-view+json": {
       "model_id": "",
       "version_major": 2,
       "version_minor": 0
      },
      "text/plain": [
       "Sampling:   0%|          | 0/392 [00:00<?, ?it/s]"
      ]
     },
     "metadata": {},
     "output_type": "display_data"
    },
    {
     "data": {
      "application/vnd.jupyter.widget-view+json": {
       "model_id": "",
       "version_major": 2,
       "version_minor": 0
      },
      "text/plain": [
       "State at layer 3:   0%|          | 0/3 [00:00<?, ?it/s]"
      ]
     },
     "metadata": {},
     "output_type": "display_data"
    },
    {
     "data": {
      "application/vnd.jupyter.widget-view+json": {
       "model_id": "",
       "version_major": 2,
       "version_minor": 0
      },
      "text/plain": [
       "Sampling:   0%|          | 0/288 [00:00<?, ?it/s]"
      ]
     },
     "metadata": {},
     "output_type": "display_data"
    },
    {
     "data": {
      "application/vnd.jupyter.widget-view+json": {
       "model_id": "",
       "version_major": 2,
       "version_minor": 0
      },
      "text/plain": [
       "Sampling:   0%|          | 0/288 [00:00<?, ?it/s]"
      ]
     },
     "metadata": {},
     "output_type": "display_data"
    },
    {
     "data": {
      "application/vnd.jupyter.widget-view+json": {
       "model_id": "",
       "version_major": 2,
       "version_minor": 0
      },
      "text/plain": [
       "Sampling:   0%|          | 0/882 [00:00<?, ?it/s]"
      ]
     },
     "metadata": {},
     "output_type": "display_data"
    },
    {
     "data": {
      "application/vnd.jupyter.widget-view+json": {
       "model_id": "",
       "version_major": 2,
       "version_minor": 0
      },
      "text/plain": [
       "Sampling:   0%|          | 0/288 [00:00<?, ?it/s]"
      ]
     },
     "metadata": {},
     "output_type": "display_data"
    },
    {
     "data": {
      "application/vnd.jupyter.widget-view+json": {
       "model_id": "",
       "version_major": 2,
       "version_minor": 0
      },
      "text/plain": [
       "Sampling:   0%|          | 0/288 [00:00<?, ?it/s]"
      ]
     },
     "metadata": {},
     "output_type": "display_data"
    },
    {
     "data": {
      "application/vnd.jupyter.widget-view+json": {
       "model_id": "e143bc41d0f6450fb9dbbecce190d33c",
       "version_major": 2,
       "version_minor": 0
      },
      "text/plain": [
       "State at layer 5:   0%|          | 0/2 [00:00<?, ?it/s]"
      ]
     },
     "metadata": {},
     "output_type": "display_data"
    },
    {
     "data": {
      "application/vnd.jupyter.widget-view+json": {
       "model_id": "",
       "version_major": 2,
       "version_minor": 0
      },
      "text/plain": [
       "Sampling:   0%|          | 0/392 [00:00<?, ?it/s]"
      ]
     },
     "metadata": {},
     "output_type": "display_data"
    },
    {
     "data": {
      "application/vnd.jupyter.widget-view+json": {
       "model_id": "",
       "version_major": 2,
       "version_minor": 0
      },
      "text/plain": [
       "State at layer 6:   0%|          | 0/2 [00:00<?, ?it/s]"
      ]
     },
     "metadata": {},
     "output_type": "display_data"
    },
    {
     "data": {
      "application/vnd.jupyter.widget-view+json": {
       "model_id": "",
       "version_major": 2,
       "version_minor": 0
      },
      "text/plain": [
       "Sampling:   0%|          | 0/288 [00:00<?, ?it/s]"
      ]
     },
     "metadata": {},
     "output_type": "display_data"
    },
    {
     "data": {
      "application/vnd.jupyter.widget-view+json": {
       "model_id": "5770b87a394e4a2b94817c2f3dc8684d",
       "version_major": 2,
       "version_minor": 0
      },
      "text/plain": [
       "State at layer 5:   0%|          | 0/3 [00:00<?, ?it/s]"
      ]
     },
     "metadata": {},
     "output_type": "display_data"
    },
    {
     "data": {
      "application/vnd.jupyter.widget-view+json": {
       "model_id": "",
       "version_major": 2,
       "version_minor": 0
      },
      "text/plain": [
       "Sampling:   0%|          | 0/288 [00:00<?, ?it/s]"
      ]
     },
     "metadata": {},
     "output_type": "display_data"
    },
    {
     "data": {
      "application/vnd.jupyter.widget-view+json": {
       "model_id": "",
       "version_major": 2,
       "version_minor": 0
      },
      "text/plain": [
       "Sampling:   0%|          | 0/882 [00:00<?, ?it/s]"
      ]
     },
     "metadata": {},
     "output_type": "display_data"
    },
    {
     "data": {
      "application/vnd.jupyter.widget-view+json": {
       "model_id": "",
       "version_major": 2,
       "version_minor": 0
      },
      "text/plain": [
       "Sampling:   0%|          | 0/288 [00:00<?, ?it/s]"
      ]
     },
     "metadata": {},
     "output_type": "display_data"
    },
    {
     "data": {
      "application/vnd.jupyter.widget-view+json": {
       "model_id": "94120fba9e4944748002033e70482327",
       "version_major": 2,
       "version_minor": 0
      },
      "text/plain": [
       "State at layer 3:   0%|          | 0/3 [00:00<?, ?it/s]"
      ]
     },
     "metadata": {},
     "output_type": "display_data"
    },
    {
     "data": {
      "application/vnd.jupyter.widget-view+json": {
       "model_id": "8ba5e117f5f048e8a08c0c5ca7e4d993",
       "version_major": 2,
       "version_minor": 0
      },
      "text/plain": [
       "Sampling:   0%|          | 0/882 [00:00<?, ?it/s]"
      ]
     },
     "metadata": {},
     "output_type": "display_data"
    },
    {
     "data": {
      "application/vnd.jupyter.widget-view+json": {
       "model_id": "",
       "version_major": 2,
       "version_minor": 0
      },
      "text/plain": [
       "Sampling:   0%|          | 0/288 [00:00<?, ?it/s]"
      ]
     },
     "metadata": {},
     "output_type": "display_data"
    },
    {
     "data": {
      "application/vnd.jupyter.widget-view+json": {
       "model_id": "",
       "version_major": 2,
       "version_minor": 0
      },
      "text/plain": [
       "Sampling:   0%|          | 0/288 [00:00<?, ?it/s]"
      ]
     },
     "metadata": {},
     "output_type": "display_data"
    },
    {
     "data": {
      "application/vnd.jupyter.widget-view+json": {
       "model_id": "32ed75c77a474dab8671122d235df010",
       "version_major": 2,
       "version_minor": 0
      },
      "text/plain": [
       "State at layer 4:   0%|          | 0/3 [00:00<?, ?it/s]"
      ]
     },
     "metadata": {},
     "output_type": "display_data"
    },
    {
     "data": {
      "application/vnd.jupyter.widget-view+json": {
       "model_id": "",
       "version_major": 2,
       "version_minor": 0
      },
      "text/plain": [
       "Sampling:   0%|          | 0/288 [00:00<?, ?it/s]"
      ]
     },
     "metadata": {},
     "output_type": "display_data"
    },
    {
     "data": {
      "application/vnd.jupyter.widget-view+json": {
       "model_id": "5b72753f0dc14438b652d98a15ea4a72",
       "version_major": 2,
       "version_minor": 0
      },
      "text/plain": [
       "Sampling:   0%|          | 0/392 [00:00<?, ?it/s]"
      ]
     },
     "metadata": {},
     "output_type": "display_data"
    },
    {
     "data": {
      "application/vnd.jupyter.widget-view+json": {
       "model_id": "4b3cca65460548d79551626489143b00",
       "version_major": 2,
       "version_minor": 0
      },
      "text/plain": [
       "Sampling:   0%|          | 0/288 [00:00<?, ?it/s]"
      ]
     },
     "metadata": {},
     "output_type": "display_data"
    },
    {
     "data": {
      "application/vnd.jupyter.widget-view+json": {
       "model_id": "fe622f6c108a46e392c10545941bb87e",
       "version_major": 2,
       "version_minor": 0
      },
      "text/plain": [
       "Sampling:   0%|          | 0/288 [00:00<?, ?it/s]"
      ]
     },
     "metadata": {},
     "output_type": "display_data"
    },
    {
     "data": {
      "application/vnd.jupyter.widget-view+json": {
       "model_id": "665f491e0ed04831bffb477187adb09c",
       "version_major": 2,
       "version_minor": 0
      },
      "text/plain": [
       "Sampling:   0%|          | 0/882 [00:00<?, ?it/s]"
      ]
     },
     "metadata": {},
     "output_type": "display_data"
    },
    {
     "name": "stdout",
     "output_type": "stream",
     "text": [
      "[3] started\n",
      "[3] bruteforce started\n"
     ]
    },
    {
     "data": {
      "application/vnd.jupyter.widget-view+json": {
       "model_id": "791f7710ec3e4857af49cd4f7bc4f779",
       "version_major": 2,
       "version_minor": 0
      },
      "text/plain": [
       "  0%|          | 0/64 [00:00<?, ?it/s]"
      ]
     },
     "metadata": {},
     "output_type": "display_data"
    },
    {
     "name": "stdout",
     "output_type": "stream",
     "text": [
      "Unreachable state ('q0', 0) was removed\n",
      "Unreachable state ('q1', 1) was removed\n",
      "Retries per sample 188512\n",
      "Sample size 288\n"
     ]
    },
    {
     "ename": "KeyboardInterrupt",
     "evalue": "",
     "output_type": "error",
     "traceback": [
      "\u001b[0;31m---------------------------------------------------------------------------\u001b[0m",
      "\u001b[0;31mKeyboardInterrupt\u001b[0m                         Traceback (most recent call last)",
      "\u001b[0;32m/tmp/ipykernel_363697/2747126975.py\u001b[0m in \u001b[0;36m<module>\u001b[0;34m\u001b[0m\n\u001b[1;32m     25\u001b[0m \u001b[0;32mwith\u001b[0m \u001b[0mPool\u001b[0m\u001b[0;34m(\u001b[0m\u001b[0mprocesses\u001b[0m\u001b[0;34m=\u001b[0m\u001b[0mn_proc\u001b[0m\u001b[0;34m)\u001b[0m \u001b[0;32mas\u001b[0m \u001b[0mpool\u001b[0m\u001b[0;34m:\u001b[0m\u001b[0;34m\u001b[0m\u001b[0;34m\u001b[0m\u001b[0m\n\u001b[1;32m     26\u001b[0m     \u001b[0;32mwhile\u001b[0m \u001b[0msamples\u001b[0m \u001b[0;34m<\u001b[0m \u001b[0;36m5000\u001b[0m \u001b[0;32mand\u001b[0m \u001b[0merror_count\u001b[0m \u001b[0;34m<\u001b[0m \u001b[0;36m30\u001b[0m\u001b[0;34m:\u001b[0m\u001b[0;34m\u001b[0m\u001b[0;34m\u001b[0m\u001b[0m\n\u001b[0;32m---> 27\u001b[0;31m         \u001b[0mmultiproc_results\u001b[0m \u001b[0;34m=\u001b[0m \u001b[0mpool\u001b[0m\u001b[0;34m.\u001b[0m\u001b[0mmap\u001b[0m\u001b[0;34m(\u001b[0m\u001b[0mcompare_random_to_brute\u001b[0m\u001b[0;34m,\u001b[0m \u001b[0mrange\u001b[0m\u001b[0;34m(\u001b[0m\u001b[0;36m100\u001b[0m\u001b[0;34m)\u001b[0m\u001b[0;34m)\u001b[0m\u001b[0;34m\u001b[0m\u001b[0;34m\u001b[0m\u001b[0m\n\u001b[0m\u001b[1;32m     28\u001b[0m         \u001b[0;32mfor\u001b[0m \u001b[0mres\u001b[0m \u001b[0;32min\u001b[0m \u001b[0mmultiproc_results\u001b[0m\u001b[0;34m:\u001b[0m\u001b[0;34m\u001b[0m\u001b[0;34m\u001b[0m\u001b[0m\n\u001b[1;32m     29\u001b[0m             \u001b[0;32mif\u001b[0m \u001b[0misinstance\u001b[0m\u001b[0;34m(\u001b[0m\u001b[0mres\u001b[0m\u001b[0;34m,\u001b[0m \u001b[0mException\u001b[0m\u001b[0;34m)\u001b[0m\u001b[0;34m:\u001b[0m\u001b[0;34m\u001b[0m\u001b[0;34m\u001b[0m\u001b[0m\n",
      "\u001b[0;32m/usr/lib/python3.8/multiprocessing/pool.py\u001b[0m in \u001b[0;36mmap\u001b[0;34m(self, func, iterable, chunksize)\u001b[0m\n\u001b[1;32m    362\u001b[0m         \u001b[0;32min\u001b[0m \u001b[0ma\u001b[0m \u001b[0mlist\u001b[0m \u001b[0mthat\u001b[0m \u001b[0;32mis\u001b[0m \u001b[0mreturned\u001b[0m\u001b[0;34m.\u001b[0m\u001b[0;34m\u001b[0m\u001b[0;34m\u001b[0m\u001b[0m\n\u001b[1;32m    363\u001b[0m         '''\n\u001b[0;32m--> 364\u001b[0;31m         \u001b[0;32mreturn\u001b[0m \u001b[0mself\u001b[0m\u001b[0;34m.\u001b[0m\u001b[0m_map_async\u001b[0m\u001b[0;34m(\u001b[0m\u001b[0mfunc\u001b[0m\u001b[0;34m,\u001b[0m \u001b[0miterable\u001b[0m\u001b[0;34m,\u001b[0m \u001b[0mmapstar\u001b[0m\u001b[0;34m,\u001b[0m \u001b[0mchunksize\u001b[0m\u001b[0;34m)\u001b[0m\u001b[0;34m.\u001b[0m\u001b[0mget\u001b[0m\u001b[0;34m(\u001b[0m\u001b[0;34m)\u001b[0m\u001b[0;34m\u001b[0m\u001b[0;34m\u001b[0m\u001b[0m\n\u001b[0m\u001b[1;32m    365\u001b[0m \u001b[0;34m\u001b[0m\u001b[0m\n\u001b[1;32m    366\u001b[0m     \u001b[0;32mdef\u001b[0m \u001b[0mstarmap\u001b[0m\u001b[0;34m(\u001b[0m\u001b[0mself\u001b[0m\u001b[0;34m,\u001b[0m \u001b[0mfunc\u001b[0m\u001b[0;34m,\u001b[0m \u001b[0miterable\u001b[0m\u001b[0;34m,\u001b[0m \u001b[0mchunksize\u001b[0m\u001b[0;34m=\u001b[0m\u001b[0;32mNone\u001b[0m\u001b[0;34m)\u001b[0m\u001b[0;34m:\u001b[0m\u001b[0;34m\u001b[0m\u001b[0;34m\u001b[0m\u001b[0m\n",
      "\u001b[0;32m/usr/lib/python3.8/multiprocessing/pool.py\u001b[0m in \u001b[0;36mget\u001b[0;34m(self, timeout)\u001b[0m\n\u001b[1;32m    763\u001b[0m \u001b[0;34m\u001b[0m\u001b[0m\n\u001b[1;32m    764\u001b[0m     \u001b[0;32mdef\u001b[0m \u001b[0mget\u001b[0m\u001b[0;34m(\u001b[0m\u001b[0mself\u001b[0m\u001b[0;34m,\u001b[0m \u001b[0mtimeout\u001b[0m\u001b[0;34m=\u001b[0m\u001b[0;32mNone\u001b[0m\u001b[0;34m)\u001b[0m\u001b[0;34m:\u001b[0m\u001b[0;34m\u001b[0m\u001b[0;34m\u001b[0m\u001b[0m\n\u001b[0;32m--> 765\u001b[0;31m         \u001b[0mself\u001b[0m\u001b[0;34m.\u001b[0m\u001b[0mwait\u001b[0m\u001b[0;34m(\u001b[0m\u001b[0mtimeout\u001b[0m\u001b[0;34m)\u001b[0m\u001b[0;34m\u001b[0m\u001b[0;34m\u001b[0m\u001b[0m\n\u001b[0m\u001b[1;32m    766\u001b[0m         \u001b[0;32mif\u001b[0m \u001b[0;32mnot\u001b[0m \u001b[0mself\u001b[0m\u001b[0;34m.\u001b[0m\u001b[0mready\u001b[0m\u001b[0;34m(\u001b[0m\u001b[0;34m)\u001b[0m\u001b[0;34m:\u001b[0m\u001b[0;34m\u001b[0m\u001b[0;34m\u001b[0m\u001b[0m\n\u001b[1;32m    767\u001b[0m             \u001b[0;32mraise\u001b[0m \u001b[0mTimeoutError\u001b[0m\u001b[0;34m\u001b[0m\u001b[0;34m\u001b[0m\u001b[0m\n",
      "\u001b[0;32m/usr/lib/python3.8/multiprocessing/pool.py\u001b[0m in \u001b[0;36mwait\u001b[0;34m(self, timeout)\u001b[0m\n\u001b[1;32m    760\u001b[0m \u001b[0;34m\u001b[0m\u001b[0m\n\u001b[1;32m    761\u001b[0m     \u001b[0;32mdef\u001b[0m \u001b[0mwait\u001b[0m\u001b[0;34m(\u001b[0m\u001b[0mself\u001b[0m\u001b[0;34m,\u001b[0m \u001b[0mtimeout\u001b[0m\u001b[0;34m=\u001b[0m\u001b[0;32mNone\u001b[0m\u001b[0;34m)\u001b[0m\u001b[0;34m:\u001b[0m\u001b[0;34m\u001b[0m\u001b[0;34m\u001b[0m\u001b[0m\n\u001b[0;32m--> 762\u001b[0;31m         \u001b[0mself\u001b[0m\u001b[0;34m.\u001b[0m\u001b[0m_event\u001b[0m\u001b[0;34m.\u001b[0m\u001b[0mwait\u001b[0m\u001b[0;34m(\u001b[0m\u001b[0mtimeout\u001b[0m\u001b[0;34m)\u001b[0m\u001b[0;34m\u001b[0m\u001b[0;34m\u001b[0m\u001b[0m\n\u001b[0m\u001b[1;32m    763\u001b[0m \u001b[0;34m\u001b[0m\u001b[0m\n\u001b[1;32m    764\u001b[0m     \u001b[0;32mdef\u001b[0m \u001b[0mget\u001b[0m\u001b[0;34m(\u001b[0m\u001b[0mself\u001b[0m\u001b[0;34m,\u001b[0m \u001b[0mtimeout\u001b[0m\u001b[0;34m=\u001b[0m\u001b[0;32mNone\u001b[0m\u001b[0;34m)\u001b[0m\u001b[0;34m:\u001b[0m\u001b[0;34m\u001b[0m\u001b[0;34m\u001b[0m\u001b[0m\n",
      "\u001b[0;32m/usr/lib/python3.8/threading.py\u001b[0m in \u001b[0;36mwait\u001b[0;34m(self, timeout)\u001b[0m\n\u001b[1;32m    556\u001b[0m             \u001b[0msignaled\u001b[0m \u001b[0;34m=\u001b[0m \u001b[0mself\u001b[0m\u001b[0;34m.\u001b[0m\u001b[0m_flag\u001b[0m\u001b[0;34m\u001b[0m\u001b[0;34m\u001b[0m\u001b[0m\n\u001b[1;32m    557\u001b[0m             \u001b[0;32mif\u001b[0m \u001b[0;32mnot\u001b[0m \u001b[0msignaled\u001b[0m\u001b[0;34m:\u001b[0m\u001b[0;34m\u001b[0m\u001b[0;34m\u001b[0m\u001b[0m\n\u001b[0;32m--> 558\u001b[0;31m                 \u001b[0msignaled\u001b[0m \u001b[0;34m=\u001b[0m \u001b[0mself\u001b[0m\u001b[0;34m.\u001b[0m\u001b[0m_cond\u001b[0m\u001b[0;34m.\u001b[0m\u001b[0mwait\u001b[0m\u001b[0;34m(\u001b[0m\u001b[0mtimeout\u001b[0m\u001b[0;34m)\u001b[0m\u001b[0;34m\u001b[0m\u001b[0;34m\u001b[0m\u001b[0m\n\u001b[0m\u001b[1;32m    559\u001b[0m             \u001b[0;32mreturn\u001b[0m \u001b[0msignaled\u001b[0m\u001b[0;34m\u001b[0m\u001b[0;34m\u001b[0m\u001b[0m\n\u001b[1;32m    560\u001b[0m \u001b[0;34m\u001b[0m\u001b[0m\n",
      "\u001b[0;32m/usr/lib/python3.8/threading.py\u001b[0m in \u001b[0;36mwait\u001b[0;34m(self, timeout)\u001b[0m\n\u001b[1;32m    300\u001b[0m         \u001b[0;32mtry\u001b[0m\u001b[0;34m:\u001b[0m    \u001b[0;31m# restore state no matter what (e.g., KeyboardInterrupt)\u001b[0m\u001b[0;34m\u001b[0m\u001b[0;34m\u001b[0m\u001b[0m\n\u001b[1;32m    301\u001b[0m             \u001b[0;32mif\u001b[0m \u001b[0mtimeout\u001b[0m \u001b[0;32mis\u001b[0m \u001b[0;32mNone\u001b[0m\u001b[0;34m:\u001b[0m\u001b[0;34m\u001b[0m\u001b[0;34m\u001b[0m\u001b[0m\n\u001b[0;32m--> 302\u001b[0;31m                 \u001b[0mwaiter\u001b[0m\u001b[0;34m.\u001b[0m\u001b[0macquire\u001b[0m\u001b[0;34m(\u001b[0m\u001b[0;34m)\u001b[0m\u001b[0;34m\u001b[0m\u001b[0;34m\u001b[0m\u001b[0m\n\u001b[0m\u001b[1;32m    303\u001b[0m                 \u001b[0mgotit\u001b[0m \u001b[0;34m=\u001b[0m \u001b[0;32mTrue\u001b[0m\u001b[0;34m\u001b[0m\u001b[0;34m\u001b[0m\u001b[0m\n\u001b[1;32m    304\u001b[0m             \u001b[0;32melse\u001b[0m\u001b[0;34m:\u001b[0m\u001b[0;34m\u001b[0m\u001b[0;34m\u001b[0m\u001b[0m\n",
      "\u001b[0;31mKeyboardInterrupt\u001b[0m: "
     ]
    }
   ],
   "source": [
    "def compare_random_to_brute(i):\n",
    "    print(f\"[{i}] started\\n\", end=\"\")\n",
    "    n_states = randint(2, 8)\n",
    "    rand = NFA.random(n_states=n_states, input_symbols={\"0\", \"1\"}, sparsity=0.5)\n",
    "    string_len = randint(6, 14)\n",
    "    epsilon = randint(string_len, 5*string_len)\n",
    "    print(f\"[{i}] bruteforce started\\n\", end=\"\")\n",
    "    bruteforce = rand.bruteforce_count_only(string_len)\n",
    "    if bruteforce < 2:\n",
    "        print(f\"[{i}] insufficient accepting strings\")\n",
    "        return 0\n",
    "    try:\n",
    "        count, nfa_unroll = count_nfa(rand, string_len, epsilon)\n",
    "        return [n_states, rand.initial_states, rand.final_states, rand.transitions,\n",
    "                       string_len, bruteforce, count, epsilon]\n",
    "    except Exception as e:\n",
    "        return e\n",
    "\n",
    "    \n",
    "results = [] # n_states, initial_states, final_states, transitions, string_n, bruteforce, estimate, eps\n",
    "samples = 0\n",
    "errors = []\n",
    "error_count = 0\n",
    "n_proc = 6\n",
    "with Pool(processes=n_proc) as pool:\n",
    "    while samples < 5000 and error_count < 300:\n",
    "        multiproc_results = pool.map(compare_random_to_brute, range(100))\n",
    "        for res in multiproc_results:\n",
    "            if isinstance(res, Exception):\n",
    "                errors.append(res)\n",
    "                error_count += 1\n",
    "                continue\n",
    "            else:\n",
    "                samples += 1\n",
    "                if res != 0:\n",
    "                    results.append(res)\n",
    "        \n",
    "        clear_output(wait=True)\n",
    "        with open(\"intermediate_stats.pkl\", \"wb\") as fd:\n",
    "            pickle.dump(results, fd)\n",
    "        print(f\"Wrote pickle file for {len(results)} results\")\n",
    "                \n",
    "        "
   ]
  },
  {
   "cell_type": "code",
   "execution_count": 40,
   "id": "cbe6ee9d",
   "metadata": {},
   "outputs": [
    {
     "data": {
      "text/plain": [
       "[[3,\n",
       "  {'q0', 'q1'},\n",
       "  {'q2'},\n",
       "  {'q0': defaultdict(set, {'0': {'q1', 'q2'}}),\n",
       "   'q1': defaultdict(set, {'1': {'q0'}}),\n",
       "   'q2': defaultdict(set, {'1': {'q2'}})},\n",
       "  7,\n",
       "  7,\n",
       "  7,\n",
       "  14],\n",
       " [4,\n",
       "  {'q2', 'q3'},\n",
       "  {'q1'},\n",
       "  {'q0': defaultdict(set, {'1': {'q2'}}),\n",
       "   'q1': defaultdict(set, {'1': {'q2'}, '0': {'q3'}}),\n",
       "   'q2': defaultdict(set, {'0': {'q3'}}),\n",
       "   'q3': defaultdict(set, {'0': {'q1', 'q2'}, '1': {'q2'}})},\n",
       "  7,\n",
       "  9,\n",
       "  8.893720510289324,\n",
       "  8],\n",
       " [4,\n",
       "  {'q0'},\n",
       "  {'q0', 'q1', 'q3'},\n",
       "  {'q0': defaultdict(set, {'1': {'q0'}, '0': {'q1'}}),\n",
       "   'q1': defaultdict(set, {}),\n",
       "   'q2': defaultdict(set, {'1': {'q1', 'q2'}, '0': {'q1', 'q2'}}),\n",
       "   'q3': defaultdict(set, {})},\n",
       "  6,\n",
       "  2,\n",
       "  2.0,\n",
       "  10],\n",
       " [4,\n",
       "  {'q0', 'q2'},\n",
       "  {'q0', 'q2', 'q3'},\n",
       "  {'q0': defaultdict(set, {'1': {'q1', 'q3'}, '0': {'q1'}}),\n",
       "   'q1': defaultdict(set, {'1': {'q2'}, '0': {'q2'}}),\n",
       "   'q2': defaultdict(set, {'1': {'q2'}, '0': {'q2'}}),\n",
       "   'q3': defaultdict(set, {'1': {'q0'}})},\n",
       "  8,\n",
       "  256,\n",
       "  267.85349895452293,\n",
       "  15],\n",
       " [3,\n",
       "  {'q1'},\n",
       "  {'q2'},\n",
       "  {'q0': defaultdict(set, {}),\n",
       "   'q1': defaultdict(set, {'1': {'q1', 'q2'}, '0': {'q1', 'q2'}}),\n",
       "   'q2': defaultdict(set, {})},\n",
       "  8,\n",
       "  256,\n",
       "  256,\n",
       "  13],\n",
       " [2,\n",
       "  {'q1'},\n",
       "  {'q1'},\n",
       "  {'q0': defaultdict(set, {'1': {'q1'}, '0': {'q1'}}),\n",
       "   'q1': defaultdict(set, {'1': {'q0'}, '0': {'q0'}})},\n",
       "  6,\n",
       "  64,\n",
       "  64,\n",
       "  8],\n",
       " [3,\n",
       "  {'q0'},\n",
       "  {'q0'},\n",
       "  {'q0': defaultdict(set, {'1': {'q1', 'q2'}, '0': {'q2'}}),\n",
       "   'q1': defaultdict(set, {'1': {'q0'}, '0': {'q0'}}),\n",
       "   'q2': defaultdict(set, {'0': {'q0', 'q2'}, '1': {'q1', 'q2'}})},\n",
       "  8,\n",
       "  192,\n",
       "  179.39217045759364,\n",
       "  12],\n",
       " [3,\n",
       "  {'q0', 'q1'},\n",
       "  {'q0', 'q1'},\n",
       "  {'q0': defaultdict(set, {'1': {'q0'}, '0': {'q0', 'q1'}}),\n",
       "   'q1': defaultdict(set, {'0': {'q0'}}),\n",
       "   'q2': defaultdict(set, {'1': {'q2'}, '0': {'q2'}})},\n",
       "  6,\n",
       "  64,\n",
       "  64.0,\n",
       "  8],\n",
       " [4,\n",
       "  {'q0', 'q2', 'q3'},\n",
       "  {'q0', 'q3'},\n",
       "  {'q0': defaultdict(set, {'1': {'q1', 'q3'}, '0': {'q3'}}),\n",
       "   'q1': defaultdict(set, {}),\n",
       "   'q2': defaultdict(set, {'0': {'q0', 'q1'}}),\n",
       "   'q3': defaultdict(set, {'1': {'q0', 'q2', 'q3'}, '0': {'q3'}})},\n",
       "  6,\n",
       "  64,\n",
       "  64.98141758475329,\n",
       "  10],\n",
       " [4,\n",
       "  {'q0', 'q1'},\n",
       "  {'q1'},\n",
       "  {'q0': defaultdict(set, {'0': {'q0', 'q3'}}),\n",
       "   'q1': defaultdict(set, {'1': {'q0', 'q2', 'q3'}, '0': {'q0', 'q2', 'q3'}}),\n",
       "   'q2': defaultdict(set, {'0': {'q1', 'q2'}, '1': {'q2'}}),\n",
       "   'q3': defaultdict(set, {'1': {'q1'}, '0': {'q2'}})},\n",
       "  7,\n",
       "  126,\n",
       "  132.57560084826503,\n",
       "  10],\n",
       " [2,\n",
       "  {'q1'},\n",
       "  {'q1'},\n",
       "  {'q0': defaultdict(set, {'1': {'q0'}, '0': {'q0', 'q1'}}),\n",
       "   'q1': defaultdict(set, {'0': {'q0'}})},\n",
       "  6,\n",
       "  16,\n",
       "  16.0,\n",
       "  7],\n",
       " [4,\n",
       "  {'q0', 'q2'},\n",
       "  {'q0', 'q2', 'q3'},\n",
       "  {'q0': defaultdict(set, {'1': {'q0', 'q2'}, '0': {'q3'}}),\n",
       "   'q1': defaultdict(set, {'1': {'q0'}, '0': {'q0'}}),\n",
       "   'q2': defaultdict(set, {'1': {'q0', 'q1', 'q3'}, '0': {'q0', 'q3'}}),\n",
       "   'q3': defaultdict(set, {'0': {'q0', 'q2'}, '1': {'q2'}})},\n",
       "  6,\n",
       "  64,\n",
       "  174.579156625,\n",
       "  8],\n",
       " [4,\n",
       "  {'q1', 'q3'},\n",
       "  {'q3'},\n",
       "  {'q0': defaultdict(set, {'1': {'q1'}}),\n",
       "   'q1': defaultdict(set, {'1': {'q1'}}),\n",
       "   'q2': defaultdict(set, {'1': {'q1', 'q2', 'q3'}, '0': {'q1', 'q2'}}),\n",
       "   'q3': defaultdict(set, {'1': {'q1', 'q3'}, '0': {'q3'}})},\n",
       "  8,\n",
       "  256,\n",
       "  256,\n",
       "  13],\n",
       " [4,\n",
       "  {'q0', 'q2'},\n",
       "  {'q3'},\n",
       "  {'q0': defaultdict(set, {'1': {'q3'}}),\n",
       "   'q1': defaultdict(set, {}),\n",
       "   'q2': defaultdict(set, {'0': {'q1', 'q2'}, '1': {'q2', 'q3'}}),\n",
       "   'q3': defaultdict(set, {'0': {'q1'}})},\n",
       "  8,\n",
       "  128,\n",
       "  128,\n",
       "  8],\n",
       " [4,\n",
       "  {'q1', 'q3'},\n",
       "  {'q3'},\n",
       "  {'q0': defaultdict(set, {'1': {'q1', 'q3'}, '0': {'q1', 'q3'}}),\n",
       "   'q1': defaultdict(set, {'1': {'q0', 'q2', 'q3'}, '0': {'q0', 'q2'}}),\n",
       "   'q2': defaultdict(set, {'1': {'q3'}, '0': {'q3'}}),\n",
       "   'q3': defaultdict(set, {'1': {'q0'}})},\n",
       "  6,\n",
       "  64,\n",
       "  82.66666666666667,\n",
       "  6],\n",
       " [3,\n",
       "  {'q1'},\n",
       "  {'q0'},\n",
       "  {'q0': defaultdict(set, {}),\n",
       "   'q1': defaultdict(set, {'0': {'q0', 'q1'}, '1': {'q2'}}),\n",
       "   'q2': defaultdict(set, {'0': {'q1'}})},\n",
       "  7,\n",
       "  13,\n",
       "  13.0,\n",
       "  13],\n",
       " [3,\n",
       "  {'q1'},\n",
       "  {'q2'},\n",
       "  {'q0': defaultdict(set, {'1': {'q1', 'q2'}}),\n",
       "   'q1': defaultdict(set, {'0': {'q0'}, '1': {'q1'}}),\n",
       "   'q2': defaultdict(set, {})},\n",
       "  8,\n",
       "  13,\n",
       "  13.0,\n",
       "  11],\n",
       " [4,\n",
       "  {'q0', 'q2'},\n",
       "  {'q0', 'q1'},\n",
       "  {'q0': defaultdict(set, {'0': {'q2'}, '1': {'q3'}}),\n",
       "   'q1': defaultdict(set, {'1': {'q1'}}),\n",
       "   'q2': defaultdict(set, {'0': {'q0', 'q3'}, '1': {'q2', 'q3'}}),\n",
       "   'q3': defaultdict(set, {'0': {'q1'}, '1': {'q2'}})},\n",
       "  8,\n",
       "  236,\n",
       "  236.24953088084376,\n",
       "  15],\n",
       " [4,\n",
       "  {'q2'},\n",
       "  {'q1'},\n",
       "  {'q0': defaultdict(set, {'0': {'q3'}}),\n",
       "   'q1': defaultdict(set, {'1': {'q0', 'q1'}, '0': {'q0', 'q1', 'q2'}}),\n",
       "   'q2': defaultdict(set, {'1': {'q1'}}),\n",
       "   'q3': defaultdict(set, {'1': {'q2'}, '0': {'q2'}})},\n",
       "  6,\n",
       "  32,\n",
       "  32.0,\n",
       "  8],\n",
       " [4,\n",
       "  {'q2', 'q3'},\n",
       "  {'q1', 'q3'},\n",
       "  {'q0': defaultdict(set, {'1': {'q1', 'q3'}, '0': {'q3'}}),\n",
       "   'q1': defaultdict(set, {'0': {'q2'}, '1': {'q3'}}),\n",
       "   'q2': defaultdict(set, {'0': {'q0'}}),\n",
       "   'q3': defaultdict(set, {'1': {'q0', 'q2'}})},\n",
       "  6,\n",
       "  29,\n",
       "  28.501457725947525,\n",
       "  10],\n",
       " [3,\n",
       "  {'q0', 'q1'},\n",
       "  {'q1'},\n",
       "  {'q0': defaultdict(set, {'1': {'q0', 'q2'}, '0': {'q2'}}),\n",
       "   'q1': defaultdict(set, {}),\n",
       "   'q2': defaultdict(set, {'0': {'q0'}, '1': {'q1', 'q2'}})},\n",
       "  8,\n",
       "  120,\n",
       "  120.74461014555698,\n",
       "  9],\n",
       " [4,\n",
       "  {'q0', 'q3'},\n",
       "  {'q0'},\n",
       "  {'q0': defaultdict(set, {'1': {'q0'}, '0': {'q0', 'q1'}}),\n",
       "   'q1': defaultdict(set, {'0': {'q3'}}),\n",
       "   'q2': defaultdict(set, {'0': {'q0'}, '1': {'q1'}}),\n",
       "   'q3': defaultdict(set, {})},\n",
       "  7,\n",
       "  128,\n",
       "  128,\n",
       "  14],\n",
       " [3,\n",
       "  {'q1', 'q2'},\n",
       "  {'q0'},\n",
       "  {'q0': defaultdict(set, {'1': {'q0'}, '0': {'q1'}}),\n",
       "   'q1': defaultdict(set, {}),\n",
       "   'q2': defaultdict(set, {'1': {'q0', 'q2'}, '0': {'q2'}})},\n",
       "  8,\n",
       "  128,\n",
       "  129.7266435986159,\n",
       "  12],\n",
       " [4,\n",
       "  {'q1', 'q2'},\n",
       "  {'q3'},\n",
       "  {'q0': defaultdict(set, {'1': {'q0'}, '0': {'q0'}}),\n",
       "   'q1': defaultdict(set, {'1': {'q1'}, '0': {'q3'}}),\n",
       "   'q2': defaultdict(set, {'0': {'q1'}}),\n",
       "   'q3': defaultdict(set, {'1': {'q0', 'q2', 'q3'}, '0': {'q2', 'q3'}})},\n",
       "  6,\n",
       "  63,\n",
       "  63.3370995662699,\n",
       "  9],\n",
       " [2,\n",
       "  {'q0'},\n",
       "  {'q1'},\n",
       "  {'q0': defaultdict(set, {'0': {'q1'}}),\n",
       "   'q1': defaultdict(set, {'1': {'q1'}, '0': {'q1'}})},\n",
       "  6,\n",
       "  32,\n",
       "  32,\n",
       "  8],\n",
       " [2,\n",
       "  {'q0'},\n",
       "  {'q1'},\n",
       "  {'q0': defaultdict(set, {'1': {'q0'}, '0': {'q1'}}),\n",
       "   'q1': defaultdict(set, {'1': {'q0'}})},\n",
       "  7,\n",
       "  13,\n",
       "  13.0,\n",
       "  14],\n",
       " [4,\n",
       "  {'q0', 'q3'},\n",
       "  {'q0', 'q1', 'q2'},\n",
       "  {'q0': defaultdict(set, {'0': {'q1', 'q3'}}),\n",
       "   'q1': defaultdict(set, {'1': {'q0', 'q2'}, '0': {'q0', 'q2', 'q3'}}),\n",
       "   'q2': defaultdict(set, {'1': {'q0', 'q2'}, '0': {'q1', 'q2'}}),\n",
       "   'q3': defaultdict(set, {})},\n",
       "  7,\n",
       "  64,\n",
       "  111.71161233604192,\n",
       "  8],\n",
       " [4,\n",
       "  {'q0', 'q2'},\n",
       "  {'q0'},\n",
       "  {'q0': defaultdict(set, {'1': {'q0', 'q2'}, '0': {'q2'}}),\n",
       "   'q1': defaultdict(set, {'1': {'q0', 'q1'}, '0': {'q0', 'q1'}}),\n",
       "   'q2': defaultdict(set, {'1': {'q0', 'q2'}, '0': {'q2'}}),\n",
       "   'q3': defaultdict(set, {'0': {'q0', 'q2', 'q3'}, '1': {'q2'}})},\n",
       "  8,\n",
       "  128,\n",
       "  139.93813984929747,\n",
       "  13],\n",
       " [4,\n",
       "  {'q1', 'q3'},\n",
       "  {'q0', 'q2'},\n",
       "  {'q0': defaultdict(set, {'1': {'q0', 'q1', 'q3'}, '0': {'q1'}}),\n",
       "   'q1': defaultdict(set, {'1': {'q0', 'q3'}}),\n",
       "   'q2': defaultdict(set, {'1': {'q0', 'q3'}, '0': {'q1'}}),\n",
       "   'q3': defaultdict(set, {'1': {'q2', 'q3'}, '0': {'q2', 'q3'}})},\n",
       "  6,\n",
       "  64,\n",
       "  294.7291192938436,\n",
       "  9],\n",
       " [4,\n",
       "  {'q2'},\n",
       "  {'q1', 'q2'},\n",
       "  {'q0': defaultdict(set, {}),\n",
       "   'q1': defaultdict(set, {'0': {'q0', 'q3'}, '1': {'q3'}}),\n",
       "   'q2': defaultdict(set, {'0': {'q2', 'q3'}, '1': {'q3'}}),\n",
       "   'q3': defaultdict(set, {'1': {'q1', 'q2'}})},\n",
       "  6,\n",
       "  43,\n",
       "  42.91076124036937,\n",
       "  6],\n",
       " [4,\n",
       "  {'q0', 'q3'},\n",
       "  {'q0', 'q1', 'q3'},\n",
       "  {'q0': defaultdict(set, {'1': {'q1'}, '0': {'q1'}}),\n",
       "   'q1': defaultdict(set, {'1': {'q0', 'q1', 'q3'}, '0': {'q0', 'q1'}}),\n",
       "   'q2': defaultdict(set, {'1': {'q3'}}),\n",
       "   'q3': defaultdict(set, {'1': {'q3'}, '0': {'q3'}})},\n",
       "  6,\n",
       "  64,\n",
       "  64.0,\n",
       "  9],\n",
       " [4,\n",
       "  {'q1', 'q3'},\n",
       "  {'q1', 'q3'},\n",
       "  {'q0': defaultdict(set, {'1': {'q1'}, '0': {'q3'}}),\n",
       "   'q1': defaultdict(set, {'1': {'q3'}, '0': {'q3'}}),\n",
       "   'q2': defaultdict(set, {'1': {'q0', 'q1', 'q2'}, '0': {'q0', 'q2'}}),\n",
       "   'q3': defaultdict(set, {'1': {'q0'}, '0': {'q0'}})},\n",
       "  7,\n",
       "  92,\n",
       "  89.82118707738542,\n",
       "  14],\n",
       " [2,\n",
       "  {'q1'},\n",
       "  {'q0'},\n",
       "  {'q0': defaultdict(set, {'1': {'q0'}, '0': {'q0'}}),\n",
       "   'q1': defaultdict(set, {'1': {'q0', 'q1'}})},\n",
       "  6,\n",
       "  32,\n",
       "  32.0,\n",
       "  7],\n",
       " [4,\n",
       "  {'q2'},\n",
       "  {'q1'},\n",
       "  {'q0': defaultdict(set, {'1': {'q1'}}),\n",
       "   'q1': defaultdict(set, {'1': {'q1'}, '0': {'q2'}}),\n",
       "   'q2': defaultdict(set, {'0': {'q0'}}),\n",
       "   'q3': defaultdict(set, {'1': {'q1', 'q3'}, '0': {'q3'}})},\n",
       "  6,\n",
       "  3,\n",
       "  3.0,\n",
       "  12],\n",
       " [4,\n",
       "  {'q3'},\n",
       "  {'q3'},\n",
       "  {'q0': defaultdict(set, {'0': {'q0', 'q3'}, '1': {'q3'}}),\n",
       "   'q1': defaultdict(set, {'0': {'q1', 'q3'}, '1': {'q2'}}),\n",
       "   'q2': defaultdict(set, {'1': {'q1', 'q2'}, '0': {'q1'}}),\n",
       "   'q3': defaultdict(set, {'1': {'q1'}})},\n",
       "  7,\n",
       "  31,\n",
       "  30.88888888888889,\n",
       "  8],\n",
       " [2,\n",
       "  {'q1'},\n",
       "  {'q1'},\n",
       "  {'q0': defaultdict(set, {'1': {'q0', 'q1'}, '0': {'q0'}}),\n",
       "   'q1': defaultdict(set, {'1': {'q0', 'q1'}, '0': {'q1'}})},\n",
       "  7,\n",
       "  128,\n",
       "  122.55327473442435,\n",
       "  13],\n",
       " [3,\n",
       "  {'q0'},\n",
       "  {'q2'},\n",
       "  {'q0': defaultdict(set, {'1': {'q0', 'q1'}, '0': {'q0'}}),\n",
       "   'q1': defaultdict(set, {'1': {'q0', 'q2'}}),\n",
       "   'q2': defaultdict(set, {'1': {'q1'}})},\n",
       "  6,\n",
       "  16,\n",
       "  16.0,\n",
       "  11],\n",
       " [4,\n",
       "  {'q0', 'q2', 'q3'},\n",
       "  {'q1'},\n",
       "  {'q0': defaultdict(set, {'1': {'q1'}, '0': {'q1'}}),\n",
       "   'q1': defaultdict(set, {'1': {'q2', 'q3'}}),\n",
       "   'q2': defaultdict(set, {'1': {'q0'}, '0': {'q3'}}),\n",
       "   'q3': defaultdict(set, {'1': {'q1'}, '0': {'q1'}})},\n",
       "  8,\n",
       "  116,\n",
       "  113.3902952385186,\n",
       "  8],\n",
       " [3,\n",
       "  {'q2'},\n",
       "  {'q2'},\n",
       "  {'q0': defaultdict(set, {'0': {'q0', 'q1'}}),\n",
       "   'q1': defaultdict(set, {'1': {'q0', 'q2'}, '0': {'q0'}}),\n",
       "   'q2': defaultdict(set, {'0': {'q1'}})},\n",
       "  7,\n",
       "  6,\n",
       "  6.0,\n",
       "  9],\n",
       " [3,\n",
       "  {'q0', 'q1', 'q2'},\n",
       "  {'q1'},\n",
       "  {'q0': defaultdict(set, {'1': {'q0', 'q1', 'q2'}, '0': {'q0', 'q1'}}),\n",
       "   'q1': defaultdict(set, {'1': {'q0', 'q2'}, '0': {'q0', 'q2'}}),\n",
       "   'q2': defaultdict(set, {'1': {'q0', 'q2'}, '0': {'q0'}})},\n",
       "  8,\n",
       "  256,\n",
       "  256.0,\n",
       "  11],\n",
       " [3,\n",
       "  {'q2'},\n",
       "  {'q0'},\n",
       "  {'q0': defaultdict(set, {'1': {'q0'}, '0': {'q0', 'q1', 'q2'}}),\n",
       "   'q1': defaultdict(set, {'1': {'q2'}, '0': {'q2'}}),\n",
       "   'q2': defaultdict(set, {'1': {'q0'}, '0': {'q0', 'q1'}})},\n",
       "  7,\n",
       "  128,\n",
       "  128.0,\n",
       "  9],\n",
       " [4,\n",
       "  {'q0', 'q2'},\n",
       "  {'q1', 'q2'},\n",
       "  {'q0': defaultdict(set, {'0': {'q0', 'q1', 'q2'}, '1': {'q2'}}),\n",
       "   'q1': defaultdict(set, {}),\n",
       "   'q2': defaultdict(set, {'1': {'q0'}}),\n",
       "   'q3': defaultdict(set, {'0': {'q0', 'q3'}, '1': {'q3'}})},\n",
       "  7,\n",
       "  128,\n",
       "  128.9795918367347,\n",
       "  12],\n",
       " [4,\n",
       "  {'q0', 'q2'},\n",
       "  {'q3'},\n",
       "  {'q0': defaultdict(set, {'0': {'q3'}}),\n",
       "   'q1': defaultdict(set, {'1': {'q0', 'q1'}}),\n",
       "   'q2': defaultdict(set, {'1': {'q0', 'q2'}, '0': {'q0', 'q2'}}),\n",
       "   'q3': defaultdict(set, {'1': {'q0', 'q1'}, '0': {'q0', 'q1'}})},\n",
       "  7,\n",
       "  64,\n",
       "  75.08961543801195,\n",
       "  10],\n",
       " [4,\n",
       "  {'q0'},\n",
       "  {'q0', 'q1', 'q3'},\n",
       "  {'q0': defaultdict(set, {'1': {'q0', 'q2'}, '0': {'q0', 'q1', 'q2'}}),\n",
       "   'q1': defaultdict(set, {'1': {'q2'}}),\n",
       "   'q2': defaultdict(set, {'1': {'q0'}, '0': {'q0'}}),\n",
       "   'q3': defaultdict(set, {'0': {'q1'}})},\n",
       "  8,\n",
       "  256,\n",
       "  256.0,\n",
       "  10],\n",
       " [4,\n",
       "  {'q0'},\n",
       "  {'q2'},\n",
       "  {'q0': defaultdict(set, {'0': {'q1', 'q3'}, '1': {'q3'}}),\n",
       "   'q1': defaultdict(set, {'1': {'q0', 'q2'}}),\n",
       "   'q2': defaultdict(set, {'0': {'q1', 'q3'}, '1': {'q3'}}),\n",
       "   'q3': defaultdict(set, {'1': {'q1', 'q2', 'q3'}, '0': {'q1'}})},\n",
       "  7,\n",
       "  32,\n",
       "  66.02909749111517,\n",
       "  10],\n",
       " [3,\n",
       "  {'q0', 'q1'},\n",
       "  {'q0'},\n",
       "  {'q0': defaultdict(set, {'1': {'q0', 'q2'}, '0': {'q0'}}),\n",
       "   'q1': defaultdict(set, {'1': {'q1'}, '0': {'q1'}}),\n",
       "   'q2': defaultdict(set, {})},\n",
       "  8,\n",
       "  256,\n",
       "  256,\n",
       "  14]]"
      ]
     },
     "execution_count": 40,
     "metadata": {},
     "output_type": "execute_result"
    }
   ],
   "source": [
    "results"
   ]
  },
  {
   "cell_type": "code",
   "execution_count": 41,
   "id": "85960e22",
   "metadata": {},
   "outputs": [],
   "source": [
    "df = pd.DataFrame(results, columns=[\"n_states\", \"initial_states\", \"final_states\", \"transitions\", \"string_n\", \"bruteforce\", \"estimate\", \"eps\"])"
   ]
  },
  {
   "cell_type": "code",
   "execution_count": 48,
   "id": "c9660cf7",
   "metadata": {},
   "outputs": [
    {
     "data": {
      "text/html": [
       "<div>\n",
       "<style scoped>\n",
       "    .dataframe tbody tr th:only-of-type {\n",
       "        vertical-align: middle;\n",
       "    }\n",
       "\n",
       "    .dataframe tbody tr th {\n",
       "        vertical-align: top;\n",
       "    }\n",
       "\n",
       "    .dataframe thead th {\n",
       "        text-align: right;\n",
       "    }\n",
       "</style>\n",
       "<table border=\"1\" class=\"dataframe\">\n",
       "  <thead>\n",
       "    <tr style=\"text-align: right;\">\n",
       "      <th></th>\n",
       "      <th>n_states</th>\n",
       "      <th>initial_states</th>\n",
       "      <th>final_states</th>\n",
       "      <th>transitions</th>\n",
       "      <th>string_n</th>\n",
       "      <th>bruteforce</th>\n",
       "      <th>estimate</th>\n",
       "      <th>eps</th>\n",
       "    </tr>\n",
       "  </thead>\n",
       "  <tbody>\n",
       "    <tr>\n",
       "      <th>11</th>\n",
       "      <td>4</td>\n",
       "      <td>{q0, q2}</td>\n",
       "      <td>{q3, q0, q2}</td>\n",
       "      <td>{'q0': {'1': {'q0', 'q2'}, '0': {'q3'}}, 'q1':...</td>\n",
       "      <td>6</td>\n",
       "      <td>64</td>\n",
       "      <td>174.579157</td>\n",
       "      <td>8</td>\n",
       "    </tr>\n",
       "    <tr>\n",
       "      <th>26</th>\n",
       "      <td>4</td>\n",
       "      <td>{q3, q0}</td>\n",
       "      <td>{q0, q2, q1}</td>\n",
       "      <td>{'q0': {'0': {'q3', 'q1'}}, 'q1': {'1': {'q0',...</td>\n",
       "      <td>7</td>\n",
       "      <td>64</td>\n",
       "      <td>111.711612</td>\n",
       "      <td>8</td>\n",
       "    </tr>\n",
       "    <tr>\n",
       "      <th>28</th>\n",
       "      <td>4</td>\n",
       "      <td>{q3, q1}</td>\n",
       "      <td>{q0, q2}</td>\n",
       "      <td>{'q0': {'1': {'q3', 'q0', 'q1'}, '0': {'q1'}},...</td>\n",
       "      <td>6</td>\n",
       "      <td>64</td>\n",
       "      <td>294.729119</td>\n",
       "      <td>9</td>\n",
       "    </tr>\n",
       "    <tr>\n",
       "      <th>44</th>\n",
       "      <td>4</td>\n",
       "      <td>{q0}</td>\n",
       "      <td>{q2}</td>\n",
       "      <td>{'q0': {'0': {'q3', 'q1'}, '1': {'q3'}}, 'q1':...</td>\n",
       "      <td>7</td>\n",
       "      <td>32</td>\n",
       "      <td>66.029097</td>\n",
       "      <td>10</td>\n",
       "    </tr>\n",
       "  </tbody>\n",
       "</table>\n",
       "</div>"
      ],
      "text/plain": [
       "    n_states initial_states  final_states  \\\n",
       "11         4       {q0, q2}  {q3, q0, q2}   \n",
       "26         4       {q3, q0}  {q0, q2, q1}   \n",
       "28         4       {q3, q1}      {q0, q2}   \n",
       "44         4           {q0}          {q2}   \n",
       "\n",
       "                                          transitions  string_n  bruteforce  \\\n",
       "11  {'q0': {'1': {'q0', 'q2'}, '0': {'q3'}}, 'q1':...         6          64   \n",
       "26  {'q0': {'0': {'q3', 'q1'}}, 'q1': {'1': {'q0',...         7          64   \n",
       "28  {'q0': {'1': {'q3', 'q0', 'q1'}, '0': {'q1'}},...         6          64   \n",
       "44  {'q0': {'0': {'q3', 'q1'}, '1': {'q3'}}, 'q1':...         7          32   \n",
       "\n",
       "      estimate  eps  \n",
       "11  174.579157    8  \n",
       "26  111.711612    8  \n",
       "28  294.729119    9  \n",
       "44   66.029097   10  "
      ]
     },
     "execution_count": 48,
     "metadata": {},
     "output_type": "execute_result"
    }
   ],
   "source": [
    "df[abs(df.estimate - df.bruteforce)/df.bruteforce > 0.3]"
   ]
  },
  {
   "cell_type": "code",
   "execution_count": null,
   "id": "47b14a39",
   "metadata": {},
   "outputs": [],
   "source": [
    "nfa = rand"
   ]
  },
  {
   "cell_type": "code",
   "execution_count": null,
   "id": "0a76e415",
   "metadata": {},
   "outputs": [],
   "source": [
    "nfa.plot()"
   ]
  },
  {
   "cell_type": "code",
   "execution_count": null,
   "id": "7927c68f",
   "metadata": {},
   "outputs": [],
   "source": [
    "nfa.transitions[\"q2\"]"
   ]
  },
  {
   "cell_type": "code",
   "execution_count": null,
   "id": "7cbc90b4",
   "metadata": {},
   "outputs": [],
   "source": []
  }
 ],
 "metadata": {
  "interpreter": {
   "hash": "0602504454f0638c3c0ff967dc00c81d73b297792cfa3e9f03f5a76d8a2b245a"
  },
  "kernelspec": {
   "display_name": "Python 3 (ipykernel)",
   "language": "python",
   "name": "python3"
  },
  "language_info": {
   "codemirror_mode": {
    "name": "ipython",
    "version": 3
   },
   "file_extension": ".py",
   "mimetype": "text/x-python",
   "name": "python",
   "nbconvert_exporter": "python",
   "pygments_lexer": "ipython3",
   "version": "3.8.10"
  }
 },
 "nbformat": 4,
 "nbformat_minor": 5
}
