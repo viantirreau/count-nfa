{
 "cells": [
  {
   "cell_type": "code",
   "execution_count": 1,
   "id": "1c43d342",
   "metadata": {},
   "outputs": [],
   "source": [
    "import math\n",
    "import time\n",
    "import pickle\n",
    "from random import randint, random\n",
    "from multiprocessing import Pool, TimeoutError\n",
    "\n",
    "import numpy as np\n",
    "import scipy\n",
    "import pandas as pd\n",
    "import seaborn as sns\n",
    "import matplotlib.pyplot as plt\n",
    "from tqdm.auto import tqdm as tqdm\n",
    "from IPython.display import clear_output\n",
    "from nfa_lib import NFA, count_nfa\n",
    "\n",
    "sns.set()\n"
   ]
  },
  {
   "cell_type": "code",
   "execution_count": 2,
   "id": "8fde9d1d",
   "metadata": {},
   "outputs": [],
   "source": [
    "nfa = NFA(\n",
    "    states={'q0', 'q1', 'q2', 'q3', 'q4', 'q5', 'q6'},\n",
    "    input_symbols={'0', '1'},\n",
    "    transitions={\n",
    "        'q0': {'0': {'q1'}, '1': {'q3'}},\n",
    "        'q1': {'0': {'q2'}},\n",
    "        'q2': {'0': {'q0'}, '1': {'q3'}},\n",
    "        'q3': {'0': {'q4'}},\n",
    "        'q4': {'0': {'q5'}},\n",
    "        'q5': {'0': {'q3'}},\n",
    "        'q6': {'1': {'q4'}},\n",
    "    },\n",
    "    initial_states={'q0', 'q1', 'q5', 'q6'},\n",
    "    final_states={'q2', 'q4', 'q6'}\n",
    ")"
   ]
  },
  {
   "cell_type": "code",
   "execution_count": 3,
   "id": "d39849f7",
   "metadata": {},
   "outputs": [
    {
     "data": {
      "text/plain": [
       "2"
      ]
     },
     "execution_count": 3,
     "metadata": {},
     "output_type": "execute_result"
    }
   ],
   "source": [
    "nfa.cycle_height()"
   ]
  },
  {
   "cell_type": "code",
   "execution_count": 8,
   "id": "77c4226d",
   "metadata": {},
   "outputs": [],
   "source": [
    "nfa = NFA(\n",
    "    states={'q0', 'q1', 'q2', 'q3'},\n",
    "    input_symbols={'0', '1'},\n",
    "    transitions={\n",
    "        'q0': {'0': {'q1', 'q2'}},\n",
    "        'q1': {'0': {'q1', 'q3'}},\n",
    "        'q2': {'0': {'q3'}, '1': {'q2'} },\n",
    "        'q3': {'0': {'q3'}},\n",
    "    },\n",
    "    initial_states={'q0'},\n",
    "    final_states={'q3'}\n",
    ")"
   ]
  },
  {
   "cell_type": "code",
   "execution_count": null,
   "id": "66dcd996",
   "metadata": {},
   "outputs": [],
   "source": [
    "nfa = NFA(\n",
    "    states={'q0', 'q1', 'q2'},\n",
    "    input_symbols={'0', '1'},\n",
    "    transitions={\n",
    "        'q0': {'0': {'q1'}},\n",
    "        'q1': {'1': {'q2'}},\n",
    "        'q2': {'1': {'q0'}}\n",
    "    },\n",
    "    initial_states={'q0'},\n",
    "    final_states={'q1'}\n",
    ")"
   ]
  },
  {
   "cell_type": "code",
   "execution_count": 13,
   "id": "348c5eaf",
   "metadata": {
    "scrolled": true
   },
   "outputs": [
    {
     "name": "stderr",
     "output_type": "stream",
     "text": [
      "100%|██████████| 1048576/1048576 [00:06<00:00, 166056.87it/s]"
     ]
    },
    {
     "name": "stdout",
     "output_type": "stream",
     "text": [
      "CPU times: user 6.32 s, sys: 15.8 ms, total: 6.33 s\n",
      "Wall time: 6.32 s\n"
     ]
    },
    {
     "name": "stderr",
     "output_type": "stream",
     "text": [
      "\n"
     ]
    },
    {
     "data": {
      "text/plain": [
       "8"
      ]
     },
     "execution_count": 13,
     "metadata": {},
     "output_type": "execute_result"
    }
   ],
   "source": [
    "%%time\n",
    "nfa.bruteforce_count_only(20)"
   ]
  },
  {
   "cell_type": "code",
   "execution_count": null,
   "id": "51b1dfd2",
   "metadata": {},
   "outputs": [],
   "source": [
    "nfa.plot()"
   ]
  },
  {
   "cell_type": "code",
   "execution_count": null,
   "id": "dbd2f2d1",
   "metadata": {
    "scrolled": true
   },
   "outputs": [],
   "source": [
    "count, nfa_unroll = count_nfa(nfa, 55, 1500)\n",
    "count"
   ]
  },
  {
   "cell_type": "code",
   "execution_count": null,
   "id": "af8254aa",
   "metadata": {},
   "outputs": [],
   "source": [
    "x = np.array([1.,2.,3.])\n"
   ]
  },
  {
   "cell_type": "code",
   "execution_count": null,
   "id": "0e35b9bf",
   "metadata": {},
   "outputs": [],
   "source": [
    "print(nfa.plot().source)\n",
    "nfa.plot()"
   ]
  },
  {
   "cell_type": "markdown",
   "id": "0d20c1ee",
   "metadata": {},
   "source": [
    "# Experimentos estadísticos"
   ]
  },
  {
   "cell_type": "code",
   "execution_count": null,
   "id": "f71dc4e6",
   "metadata": {},
   "outputs": [],
   "source": [
    "nfa = NFA(\n",
    "    states={'q0', 'q1', 'q2'},\n",
    "    input_symbols={'0', '1'},\n",
    "    transitions={\n",
    "        'q0': {'0': {'q1'}},\n",
    "        # Use '' as the key name for empty string (lambda/epsilon) transitions\n",
    "        'q1': {\n",
    "            #'0': {'q1'},\n",
    "            '1': {'q0', 'q2'}},\n",
    "        'q2': {\n",
    "            '1': {'q0'}\n",
    "        }\n",
    "    },\n",
    "    initial_states={'q0'},\n",
    "    final_states={'q1'}\n",
    ")"
   ]
  },
  {
   "cell_type": "code",
   "execution_count": 56,
   "id": "f5c351db",
   "metadata": {
    "scrolled": true
   },
   "outputs": [
    {
     "data": {
      "application/vnd.jupyter.widget-view+json": {
       "model_id": "",
       "version_major": 2,
       "version_minor": 0
      },
      "text/plain": [
       "  0%|          | 0/2 [00:00<?, ?it/s]"
      ]
     },
     "metadata": {},
     "output_type": "display_data"
    },
    {
     "data": {
      "application/vnd.jupyter.widget-view+json": {
       "model_id": "",
       "version_major": 2,
       "version_minor": 0
      },
      "text/plain": [
       "  0%|          | 0/4 [00:00<?, ?it/s]"
      ]
     },
     "metadata": {},
     "output_type": "display_data"
    },
    {
     "data": {
      "application/vnd.jupyter.widget-view+json": {
       "model_id": "",
       "version_major": 2,
       "version_minor": 0
      },
      "text/plain": [
       "  0%|          | 0/8 [00:00<?, ?it/s]"
      ]
     },
     "metadata": {},
     "output_type": "display_data"
    },
    {
     "data": {
      "application/vnd.jupyter.widget-view+json": {
       "model_id": "",
       "version_major": 2,
       "version_minor": 0
      },
      "text/plain": [
       "  0%|          | 0/16 [00:00<?, ?it/s]"
      ]
     },
     "metadata": {},
     "output_type": "display_data"
    },
    {
     "data": {
      "application/vnd.jupyter.widget-view+json": {
       "model_id": "",
       "version_major": 2,
       "version_minor": 0
      },
      "text/plain": [
       "  0%|          | 0/32 [00:00<?, ?it/s]"
      ]
     },
     "metadata": {},
     "output_type": "display_data"
    },
    {
     "data": {
      "application/vnd.jupyter.widget-view+json": {
       "model_id": "",
       "version_major": 2,
       "version_minor": 0
      },
      "text/plain": [
       "  0%|          | 0/64 [00:00<?, ?it/s]"
      ]
     },
     "metadata": {},
     "output_type": "display_data"
    },
    {
     "data": {
      "application/vnd.jupyter.widget-view+json": {
       "model_id": "",
       "version_major": 2,
       "version_minor": 0
      },
      "text/plain": [
       "  0%|          | 0/128 [00:00<?, ?it/s]"
      ]
     },
     "metadata": {},
     "output_type": "display_data"
    },
    {
     "data": {
      "application/vnd.jupyter.widget-view+json": {
       "model_id": "",
       "version_major": 2,
       "version_minor": 0
      },
      "text/plain": [
       "  0%|          | 0/256 [00:00<?, ?it/s]"
      ]
     },
     "metadata": {},
     "output_type": "display_data"
    },
    {
     "data": {
      "application/vnd.jupyter.widget-view+json": {
       "model_id": "",
       "version_major": 2,
       "version_minor": 0
      },
      "text/plain": [
       "  0%|          | 0/512 [00:00<?, ?it/s]"
      ]
     },
     "metadata": {},
     "output_type": "display_data"
    },
    {
     "data": {
      "application/vnd.jupyter.widget-view+json": {
       "model_id": "",
       "version_major": 2,
       "version_minor": 0
      },
      "text/plain": [
       "  0%|          | 0/1024 [00:00<?, ?it/s]"
      ]
     },
     "metadata": {},
     "output_type": "display_data"
    },
    {
     "data": {
      "application/vnd.jupyter.widget-view+json": {
       "model_id": "",
       "version_major": 2,
       "version_minor": 0
      },
      "text/plain": [
       "  0%|          | 0/2048 [00:00<?, ?it/s]"
      ]
     },
     "metadata": {},
     "output_type": "display_data"
    },
    {
     "data": {
      "application/vnd.jupyter.widget-view+json": {
       "model_id": "",
       "version_major": 2,
       "version_minor": 0
      },
      "text/plain": [
       "  0%|          | 0/4096 [00:00<?, ?it/s]"
      ]
     },
     "metadata": {},
     "output_type": "display_data"
    },
    {
     "data": {
      "application/vnd.jupyter.widget-view+json": {
       "model_id": "",
       "version_major": 2,
       "version_minor": 0
      },
      "text/plain": [
       "  0%|          | 0/8192 [00:00<?, ?it/s]"
      ]
     },
     "metadata": {},
     "output_type": "display_data"
    },
    {
     "data": {
      "application/vnd.jupyter.widget-view+json": {
       "model_id": "",
       "version_major": 2,
       "version_minor": 0
      },
      "text/plain": [
       "  0%|          | 0/16384 [00:00<?, ?it/s]"
      ]
     },
     "metadata": {},
     "output_type": "display_data"
    },
    {
     "data": {
      "application/vnd.jupyter.widget-view+json": {
       "model_id": "",
       "version_major": 2,
       "version_minor": 0
      },
      "text/plain": [
       "  0%|          | 0/32768 [00:00<?, ?it/s]"
      ]
     },
     "metadata": {},
     "output_type": "display_data"
    },
    {
     "data": {
      "application/vnd.jupyter.widget-view+json": {
       "model_id": "",
       "version_major": 2,
       "version_minor": 0
      },
      "text/plain": [
       "  0%|          | 0/65536 [00:00<?, ?it/s]"
      ]
     },
     "metadata": {},
     "output_type": "display_data"
    },
    {
     "data": {
      "application/vnd.jupyter.widget-view+json": {
       "model_id": "",
       "version_major": 2,
       "version_minor": 0
      },
      "text/plain": [
       "  0%|          | 0/131072 [00:00<?, ?it/s]"
      ]
     },
     "metadata": {},
     "output_type": "display_data"
    },
    {
     "data": {
      "application/vnd.jupyter.widget-view+json": {
       "model_id": "",
       "version_major": 2,
       "version_minor": 0
      },
      "text/plain": [
       "  0%|          | 0/262144 [00:00<?, ?it/s]"
      ]
     },
     "metadata": {},
     "output_type": "display_data"
    },
    {
     "data": {
      "application/vnd.jupyter.widget-view+json": {
       "model_id": "",
       "version_major": 2,
       "version_minor": 0
      },
      "text/plain": [
       "  0%|          | 0/524288 [00:00<?, ?it/s]"
      ]
     },
     "metadata": {},
     "output_type": "display_data"
    },
    {
     "name": "stdout",
     "output_type": "stream",
     "text": [
      "CPU times: user 1min 3s, sys: 1.05 s, total: 1min 4s\n",
      "Wall time: 1min 7s\n"
     ]
    }
   ],
   "source": [
    "%%time\n",
    "data = [(i,nfa.bruteforce_count_only(i)/2**i) for i in range(1, 20)]"
   ]
  },
  {
   "cell_type": "code",
   "execution_count": 14,
   "id": "d39795e6",
   "metadata": {
    "scrolled": false
   },
   "outputs": [
    {
     "data": {
      "application/vnd.jupyter.widget-view+json": {
       "model_id": "",
       "version_major": 2,
       "version_minor": 0
      },
      "text/plain": [
       "  0%|          | 0/2 [00:00<?, ?it/s]"
      ]
     },
     "metadata": {},
     "output_type": "display_data"
    },
    {
     "data": {
      "application/vnd.jupyter.widget-view+json": {
       "model_id": "",
       "version_major": 2,
       "version_minor": 0
      },
      "text/plain": [
       "  0%|          | 0/4 [00:00<?, ?it/s]"
      ]
     },
     "metadata": {},
     "output_type": "display_data"
    },
    {
     "data": {
      "application/vnd.jupyter.widget-view+json": {
       "model_id": "",
       "version_major": 2,
       "version_minor": 0
      },
      "text/plain": [
       "  0%|          | 0/8 [00:00<?, ?it/s]"
      ]
     },
     "metadata": {},
     "output_type": "display_data"
    },
    {
     "data": {
      "application/vnd.jupyter.widget-view+json": {
       "model_id": "",
       "version_major": 2,
       "version_minor": 0
      },
      "text/plain": [
       "  0%|          | 0/16 [00:00<?, ?it/s]"
      ]
     },
     "metadata": {},
     "output_type": "display_data"
    },
    {
     "data": {
      "application/vnd.jupyter.widget-view+json": {
       "model_id": "",
       "version_major": 2,
       "version_minor": 0
      },
      "text/plain": [
       "  0%|          | 0/32 [00:00<?, ?it/s]"
      ]
     },
     "metadata": {},
     "output_type": "display_data"
    },
    {
     "data": {
      "application/vnd.jupyter.widget-view+json": {
       "model_id": "",
       "version_major": 2,
       "version_minor": 0
      },
      "text/plain": [
       "  0%|          | 0/64 [00:00<?, ?it/s]"
      ]
     },
     "metadata": {},
     "output_type": "display_data"
    },
    {
     "data": {
      "application/vnd.jupyter.widget-view+json": {
       "model_id": "",
       "version_major": 2,
       "version_minor": 0
      },
      "text/plain": [
       "  0%|          | 0/128 [00:00<?, ?it/s]"
      ]
     },
     "metadata": {},
     "output_type": "display_data"
    },
    {
     "data": {
      "application/vnd.jupyter.widget-view+json": {
       "model_id": "",
       "version_major": 2,
       "version_minor": 0
      },
      "text/plain": [
       "  0%|          | 0/256 [00:00<?, ?it/s]"
      ]
     },
     "metadata": {},
     "output_type": "display_data"
    },
    {
     "data": {
      "application/vnd.jupyter.widget-view+json": {
       "model_id": "",
       "version_major": 2,
       "version_minor": 0
      },
      "text/plain": [
       "  0%|          | 0/512 [00:00<?, ?it/s]"
      ]
     },
     "metadata": {},
     "output_type": "display_data"
    },
    {
     "data": {
      "application/vnd.jupyter.widget-view+json": {
       "model_id": "",
       "version_major": 2,
       "version_minor": 0
      },
      "text/plain": [
       "  0%|          | 0/1024 [00:00<?, ?it/s]"
      ]
     },
     "metadata": {},
     "output_type": "display_data"
    },
    {
     "data": {
      "application/vnd.jupyter.widget-view+json": {
       "model_id": "",
       "version_major": 2,
       "version_minor": 0
      },
      "text/plain": [
       "  0%|          | 0/2048 [00:00<?, ?it/s]"
      ]
     },
     "metadata": {},
     "output_type": "display_data"
    },
    {
     "data": {
      "application/vnd.jupyter.widget-view+json": {
       "model_id": "",
       "version_major": 2,
       "version_minor": 0
      },
      "text/plain": [
       "  0%|          | 0/4096 [00:00<?, ?it/s]"
      ]
     },
     "metadata": {},
     "output_type": "display_data"
    },
    {
     "data": {
      "application/vnd.jupyter.widget-view+json": {
       "model_id": "",
       "version_major": 2,
       "version_minor": 0
      },
      "text/plain": [
       "  0%|          | 0/8192 [00:00<?, ?it/s]"
      ]
     },
     "metadata": {},
     "output_type": "display_data"
    },
    {
     "data": {
      "application/vnd.jupyter.widget-view+json": {
       "model_id": "",
       "version_major": 2,
       "version_minor": 0
      },
      "text/plain": [
       "  0%|          | 0/16384 [00:00<?, ?it/s]"
      ]
     },
     "metadata": {},
     "output_type": "display_data"
    },
    {
     "data": {
      "application/vnd.jupyter.widget-view+json": {
       "model_id": "",
       "version_major": 2,
       "version_minor": 0
      },
      "text/plain": [
       "  0%|          | 0/32768 [00:00<?, ?it/s]"
      ]
     },
     "metadata": {},
     "output_type": "display_data"
    },
    {
     "data": {
      "application/vnd.jupyter.widget-view+json": {
       "model_id": "",
       "version_major": 2,
       "version_minor": 0
      },
      "text/plain": [
       "  0%|          | 0/65536 [00:00<?, ?it/s]"
      ]
     },
     "metadata": {},
     "output_type": "display_data"
    },
    {
     "data": {
      "application/vnd.jupyter.widget-view+json": {
       "model_id": "",
       "version_major": 2,
       "version_minor": 0
      },
      "text/plain": [
       "  0%|          | 0/131072 [00:00<?, ?it/s]"
      ]
     },
     "metadata": {},
     "output_type": "display_data"
    },
    {
     "data": {
      "application/vnd.jupyter.widget-view+json": {
       "model_id": "",
       "version_major": 2,
       "version_minor": 0
      },
      "text/plain": [
       "  0%|          | 0/262144 [00:00<?, ?it/s]"
      ]
     },
     "metadata": {},
     "output_type": "display_data"
    },
    {
     "data": {
      "application/vnd.jupyter.widget-view+json": {
       "model_id": "",
       "version_major": 2,
       "version_minor": 0
      },
      "text/plain": [
       "  0%|          | 0/524288 [00:00<?, ?it/s]"
      ]
     },
     "metadata": {},
     "output_type": "display_data"
    }
   ],
   "source": [
    "log_data = [(i, math.log(max(1, nfa.bruteforce_count_only(i)))) for i in range(1, 20)]"
   ]
  },
  {
   "cell_type": "code",
   "execution_count": 57,
   "id": "aa8da4df",
   "metadata": {},
   "outputs": [],
   "source": [
    "df_count = pd.DataFrame(data, columns=[\"i\", \"frac\"])"
   ]
  },
  {
   "cell_type": "code",
   "execution_count": 58,
   "id": "2726c943",
   "metadata": {
    "scrolled": true
   },
   "outputs": [
    {
     "data": {
      "text/plain": [
       "<AxesSubplot:xlabel='i'>"
      ]
     },
     "execution_count": 58,
     "metadata": {},
     "output_type": "execute_result"
    },
    {
     "data": {
      "image/png": "[encoded data removed]",
      "text/plain": [
       "<Figure size 432x288 with 1 Axes>"
      ]
     },
     "metadata": {},
     "output_type": "display_data"
    }
   ],
   "source": [
    "df_count.plot(x=\"i\", y=\"frac\")"
   ]
  },
  {
   "cell_type": "code",
   "execution_count": 46,
   "id": "4b364b19",
   "metadata": {},
   "outputs": [
    {
     "data": {
      "text/html": [
       "<div>\n",
       "<style scoped>\n",
       "    .dataframe tbody tr th:only-of-type {\n",
       "        vertical-align: middle;\n",
       "    }\n",
       "\n",
       "    .dataframe tbody tr th {\n",
       "        vertical-align: top;\n",
       "    }\n",
       "\n",
       "    .dataframe thead th {\n",
       "        text-align: right;\n",
       "    }\n",
       "</style>\n",
       "<table border=\"1\" class=\"dataframe\">\n",
       "  <thead>\n",
       "    <tr style=\"text-align: right;\">\n",
       "      <th></th>\n",
       "      <th>i</th>\n",
       "      <th>frac</th>\n",
       "    </tr>\n",
       "  </thead>\n",
       "  <tbody>\n",
       "    <tr>\n",
       "      <th>0</th>\n",
       "      <td>1</td>\n",
       "      <td>1.0</td>\n",
       "    </tr>\n",
       "    <tr>\n",
       "      <th>1</th>\n",
       "      <td>2</td>\n",
       "      <td>1.0</td>\n",
       "    </tr>\n",
       "    <tr>\n",
       "      <th>2</th>\n",
       "      <td>3</td>\n",
       "      <td>1.0</td>\n",
       "    </tr>\n",
       "    <tr>\n",
       "      <th>3</th>\n",
       "      <td>4</td>\n",
       "      <td>1.0</td>\n",
       "    </tr>\n",
       "    <tr>\n",
       "      <th>4</th>\n",
       "      <td>5</td>\n",
       "      <td>1.0</td>\n",
       "    </tr>\n",
       "    <tr>\n",
       "      <th>5</th>\n",
       "      <td>6</td>\n",
       "      <td>1.0</td>\n",
       "    </tr>\n",
       "    <tr>\n",
       "      <th>6</th>\n",
       "      <td>7</td>\n",
       "      <td>1.0</td>\n",
       "    </tr>\n",
       "    <tr>\n",
       "      <th>7</th>\n",
       "      <td>8</td>\n",
       "      <td>1.0</td>\n",
       "    </tr>\n",
       "    <tr>\n",
       "      <th>8</th>\n",
       "      <td>9</td>\n",
       "      <td>1.0</td>\n",
       "    </tr>\n",
       "    <tr>\n",
       "      <th>9</th>\n",
       "      <td>10</td>\n",
       "      <td>1.0</td>\n",
       "    </tr>\n",
       "    <tr>\n",
       "      <th>10</th>\n",
       "      <td>11</td>\n",
       "      <td>1.0</td>\n",
       "    </tr>\n",
       "    <tr>\n",
       "      <th>11</th>\n",
       "      <td>12</td>\n",
       "      <td>1.0</td>\n",
       "    </tr>\n",
       "    <tr>\n",
       "      <th>12</th>\n",
       "      <td>13</td>\n",
       "      <td>1.0</td>\n",
       "    </tr>\n",
       "    <tr>\n",
       "      <th>13</th>\n",
       "      <td>14</td>\n",
       "      <td>1.0</td>\n",
       "    </tr>\n",
       "    <tr>\n",
       "      <th>14</th>\n",
       "      <td>15</td>\n",
       "      <td>1.0</td>\n",
       "    </tr>\n",
       "    <tr>\n",
       "      <th>15</th>\n",
       "      <td>16</td>\n",
       "      <td>1.0</td>\n",
       "    </tr>\n",
       "    <tr>\n",
       "      <th>16</th>\n",
       "      <td>17</td>\n",
       "      <td>1.0</td>\n",
       "    </tr>\n",
       "    <tr>\n",
       "      <th>17</th>\n",
       "      <td>18</td>\n",
       "      <td>1.0</td>\n",
       "    </tr>\n",
       "    <tr>\n",
       "      <th>18</th>\n",
       "      <td>19</td>\n",
       "      <td>1.0</td>\n",
       "    </tr>\n",
       "  </tbody>\n",
       "</table>\n",
       "</div>"
      ],
      "text/plain": [
       "     i  frac\n",
       "0    1   1.0\n",
       "1    2   1.0\n",
       "2    3   1.0\n",
       "3    4   1.0\n",
       "4    5   1.0\n",
       "5    6   1.0\n",
       "6    7   1.0\n",
       "7    8   1.0\n",
       "8    9   1.0\n",
       "9   10   1.0\n",
       "10  11   1.0\n",
       "11  12   1.0\n",
       "12  13   1.0\n",
       "13  14   1.0\n",
       "14  15   1.0\n",
       "15  16   1.0\n",
       "16  17   1.0\n",
       "17  18   1.0\n",
       "18  19   1.0"
      ]
     },
     "execution_count": 46,
     "metadata": {},
     "output_type": "execute_result"
    }
   ],
   "source": [
    "df"
   ]
  },
  {
   "cell_type": "code",
   "execution_count": null,
   "id": "63710628",
   "metadata": {
    "scrolled": true
   },
   "outputs": [],
   "source": [
    "df[df.i >= 5].plot(x=\"i\", y=\"frac\")"
   ]
  },
  {
   "cell_type": "code",
   "execution_count": null,
   "id": "ee04f677",
   "metadata": {},
   "outputs": [],
   "source": [
    "def fit_function(x, a, b, c):\n",
    "    return a*b**(c*x)"
   ]
  },
  {
   "cell_type": "code",
   "execution_count": null,
   "id": "8f56e35c",
   "metadata": {},
   "outputs": [],
   "source": [
    "predictable_data = df[df.i.between(11,23)]"
   ]
  },
  {
   "cell_type": "code",
   "execution_count": null,
   "id": "b52b7a03",
   "metadata": {
    "scrolled": true
   },
   "outputs": [],
   "source": [
    "x_data = predictable_data.i.values\n",
    "y_data = predictable_data.frac.values\n",
    "popt, pcov = scipy.optimize.curve_fit(fit_function, x_data, y_data, maxfev=1000)"
   ]
  },
  {
   "cell_type": "code",
   "execution_count": null,
   "id": "598f46c8",
   "metadata": {
    "scrolled": false
   },
   "outputs": [],
   "source": [
    "all_data = df[df.i >= 5]\n",
    "all_x_data = all_data.i.values\n",
    "all_y_data = all_data.frac.values\n",
    "\n",
    "fig = plt.plot(all_x_data, fit_function(all_x_data, *popt), label=\"fit\")\n",
    "plt.plot(all_x_data, all_y_data, label=\"real\")\n",
    "plt.legend();\n",
    "plt.title(\"Comparación valores predichos y reales\")\n",
    "plt.gcf().set_size_inches((14,8))"
   ]
  },
  {
   "cell_type": "code",
   "execution_count": null,
   "id": "c97c6294",
   "metadata": {
    "scrolled": false
   },
   "outputs": [],
   "source": [
    "plt.plot(all_x_data, fit_function(all_x_data, *popt) - all_y_data, label=\"fit\")\n",
    "plt.legend();\n",
    "plt.title(\"Residuos\")\n",
    "plt.gcf().set_size_inches((14,8))"
   ]
  },
  {
   "cell_type": "code",
   "execution_count": null,
   "id": "2f43acaa",
   "metadata": {},
   "outputs": [],
   "source": [
    "k = 28\n",
    "pred_for_k = fit_function(k, *popt) * 2**k\n",
    "pred_for_k"
   ]
  },
  {
   "cell_type": "code",
   "execution_count": null,
   "id": "b8d01bc7",
   "metadata": {},
   "outputs": [],
   "source": [
    "[(k,int(fit_function(k, *popt) * 2**k)) for k in range(6,28)]"
   ]
  },
  {
   "cell_type": "code",
   "execution_count": null,
   "id": "fd5c2976",
   "metadata": {},
   "outputs": [],
   "source": [
    "{{6, 13},\n",
    " {7, 23},\n",
    " {8, 44},\n",
    " {9, 81},\n",
    " {10, 148},\n",
    " {11, 274},\n",
    " {12, 504},\n",
    " {13, 927},\n",
    " {14, 1705}}"
   ]
  },
  {
   "cell_type": "code",
   "execution_count": null,
   "id": "93afcdf5",
   "metadata": {},
   "outputs": [],
   "source": [
    "%%time\n",
    "ground_truth_k = nfa.bruteforce_dfs(k)\n",
    "ground_truth_k"
   ]
  },
  {
   "cell_type": "code",
   "execution_count": null,
   "id": "fa5dae22",
   "metadata": {
    "scrolled": true
   },
   "outputs": [],
   "source": [
    "popt"
   ]
  },
  {
   "cell_type": "code",
   "execution_count": null,
   "id": "9f57c056",
   "metadata": {},
   "outputs": [],
   "source": [
    "# Error relativo!\n",
    "(pred_for_k - ground_truth_k) / ground_truth_k"
   ]
  },
  {
   "cell_type": "code",
   "execution_count": null,
   "id": "826aaca1",
   "metadata": {},
   "outputs": [],
   "source": [
    "# Error relativo!\n",
    "(pred_for_k - ground_truth_k) / ground_truth_k"
   ]
  },
  {
   "cell_type": "markdown",
   "id": "5f2d1465",
   "metadata": {},
   "source": [
    "- https://arxiv.org/pdf/1802.04708.pdf -> si A es acíclico, el lenguaje es finito. De hecho, $L(A) \\subseteq (\\Sigma \\cup \\{\\epsilon\\})^{|Q|}$\n",
    "- En general, para $n < |Q|$ el comportamiento se puede hardcodear, por lo que fuerza bruta o `sketch` son necesarios\n",
    "- http://www.stringology.org/cgi-bin/getfile.cgi?t=pdf&c=-&y=2013&n=03 -> hay un algoritmo $O(|Q|)$ que usa `BFS` y `gcd` para determinar si la densidad del lenguaje es exponencial o polinomial. Se basa en encontrar dos caminos distintos del mismo largo y estado de partida en una componente fuertemente conexa (SCC).\n",
    "    - Hipótesis 1: si el lenguaje tiene densidad exponencial, el gráfico $|L_n(A)|/2^n$ se verá como una constante tras al menos $n=|Q|$. Estimar es trivial para $n \\gg |Q|$, basta retornar esa proporción multiplicada por $2^n$\n",
    "    - Hipótesis 2: si el lenguaje tiene densidad polinomial, el gráfico $|L_n(A)|/2^n$ se verá como una exponencial\n",
    "    decayendo. Se puede fittear una función y aproximar para $n \\gg |Q|$\n",
    "    \n",
    "- [Scholar Kai Salomaa](https://scholar.google.com/citations?hl=es&user=N3AlqdYAAAAJ&view_op=list_works&sortby=pubdate)"
   ]
  },
  {
   "cell_type": "markdown",
   "id": "eae98f5a",
   "metadata": {},
   "source": [
    "Keeler, Salomaa\n",
    "\n",
    "\n",
    "$|L(A)| \\le \\text{ambiguity} \\le \\text{string path width} \\le \\text{tree width}$\n",
    "\n",
    "- **ambiguity**: number of accepting computations of A on a given string\n",
    "- **string path width**: does not count partial computations, only complete (and maybe non-accepting) computations\n",
    "- **tree width**: all computations of A on a given string (even partial ones)"
   ]
  },
  {
   "cell_type": "code",
   "execution_count": null,
   "id": "d1b3fd02",
   "metadata": {},
   "outputs": [],
   "source": [
    "np.random.choice([\"-1\",\"0\",\"1\"], size=(3,3))[1,0]"
   ]
  },
  {
   "cell_type": "code",
   "execution_count": null,
   "id": "95f19879",
   "metadata": {},
   "outputs": [],
   "source": [
    "rand = NFA.random(n_states=5, input_symbols={\"0\", \"1\"}, sparsity=0.5)\n",
    "rand.plot()"
   ]
  },
  {
   "cell_type": "code",
   "execution_count": null,
   "id": "2a0a57e5",
   "metadata": {},
   "outputs": [],
   "source": [
    "rand.bruteforce_count_only(15)"
   ]
  },
  {
   "cell_type": "code",
   "execution_count": null,
   "id": "6b55e766",
   "metadata": {},
   "outputs": [],
   "source": [
    "count, nfa_unroll = count_nfa(rand, 15, 100)\n",
    "count"
   ]
  },
  {
   "cell_type": "code",
   "execution_count": 48,
   "id": "7aeb57db",
   "metadata": {},
   "outputs": [],
   "source": [
    "with open(\"intermediate_stats.pkl\", \"rb\") as fd:\n",
    "    results_stats = pickle.load(fd)\n",
    "        \n",
    "df = pd.DataFrame(results_stats, columns=[\"n_states\", \"initial_states\", \"final_states\", \"transitions\",\n",
    "                                    \"string_n\", \"bruteforce\", \"estimate\", \"eps\", \"time\"])\n",
    "df[\"rel_error\"] = abs(df.estimate - df.bruteforce)/df.bruteforce\n",
    "def instantiate_nfa(df_row):\n",
    "    states = {f\"q{i}\" for i in range(df_row.n_states)}\n",
    "    nfa = NFA(\n",
    "        states=states,\n",
    "        initial_states=df_row.initial_states,\n",
    "        final_states=df_row.final_states,\n",
    "        input_symbols={\"0\", \"1\"},\n",
    "        transitions=df_row.transitions,\n",
    "    )\n",
    "    return nfa"
   ]
  },
  {
   "cell_type": "code",
   "execution_count": 24,
   "id": "3a5bcedc",
   "metadata": {
    "scrolled": false
   },
   "outputs": [
    {
     "name": "stdout",
     "output_type": "stream",
     "text": [
      "Wrote pickle file for 222 results\n"
     ]
    }
   ],
   "source": [
    "timeout = 2400\n",
    "def compare_random_to_brute(i, nfa: NFA)->list:\n",
    "    print(f\"[{i}] started\\n\", end=\"\")\n",
    "    ret_data = []\n",
    "    start = time.time()\n",
    "    for string_len in range(4, 5):\n",
    "        bruteforce = nfa.bruteforce_count_only(string_len)\n",
    "        if bruteforce == 0:\n",
    "            continue\n",
    "        for k_mult_base in range(4, 6):\n",
    "            k_mult = 2 ** k_mult_base\n",
    "            try:\n",
    "                t0 = time.time()\n",
    "                # Runaway: less than 10 seconds left\n",
    "                if (t0 - start) > (timeout - 10):\n",
    "                    continue\n",
    "                count, nfa_unroll = count_nfa(nfa, string_len, eps=1, kappa_multiple=k_mult)\n",
    "                t1 = time.time()\n",
    "                ret_data.append({\n",
    "                    \"n_states\": len(nfa.states),\n",
    "                    \"initial_states\":nfa.initial_states,\n",
    "                    \"final_states\":nfa.final_states,\n",
    "                    \"transitions\":nfa.transitions,\n",
    "                    \"string_len\": string_len,\n",
    "                    \"bruteforce\": bruteforce,\n",
    "                    \"estimate\": count,\n",
    "                    \"kappa_multiple\": k_mult,\n",
    "                    \"time\": t1 - t0,\n",
    "                })\n",
    "                rel_error = (count - bruteforce) / bruteforce\n",
    "                # if low rel_error or the next round will probably take more than remaining time\n",
    "                remaining_time = timeout - (t1 - start)\n",
    "                if rel_error < 0.5 or 2 * (t1 - t0) > remaining_time:\n",
    "                    break\n",
    "            except Exception as e:\n",
    "                return e\n",
    "    return ret_data\n",
    "\n",
    "\n",
    "# results = [] # n_states, initial_states, final_states, transitions, string_n, bruteforce, estimate, eps, time\n",
    "samples = 0\n",
    "errors = []\n",
    "error_count = 0\n",
    "n_proc = 6\n",
    "offset = 0\n",
    "with Pool(processes=n_proc) as pool:\n",
    "    #sorted_nfas = df.sort_values(by=\"rel_error\", ascending=True).tail(250).head(100)\n",
    "    sorted_nfas = df_kappa[df_kappa.kappa_multiple == 256]\n",
    "    while offset < sorted_nfas.shape[0] and error_count < 3:\n",
    "        nfa_subset = [instantiate_nfa(row) for row in sorted_nfas.iloc[offset:offset+10].itertuples()]\n",
    "        multiproc_results = [pool.apply_async(compare_random_to_brute, (i, nfa)) for i, nfa in enumerate(nfa_subset)]\n",
    "        for res_promise in tqdm(multiproc_results):\n",
    "            res = None\n",
    "            try:\n",
    "                res = res_promise.get(timeout=timeout)\n",
    "            except TimeoutError:\n",
    "                continue\n",
    "\n",
    "            if isinstance(res, Exception):\n",
    "                errors.append(res)\n",
    "                error_count += 1\n",
    "                continue\n",
    "            else:\n",
    "                samples += 1\n",
    "                \n",
    "                results.extend(res)\n",
    "            offset += 1\n",
    "\n",
    "        clear_output(wait=True)\n",
    "        with open(\"large_error_stats.pkl\", \"wb\") as fd:\n",
    "            pickle.dump(results, fd)\n",
    "        print(f\"Wrote pickle file for {len(results)} results\")\n"
   ]
  },
  {
   "cell_type": "code",
   "execution_count": 3,
   "id": "d9baa8c8",
   "metadata": {},
   "outputs": [],
   "source": [
    "with open(\"large_error_stats.pkl\", \"rb\") as fd:\n",
    "    results = pickle.load(fd)"
   ]
  },
  {
   "cell_type": "code",
   "execution_count": 9,
   "id": "de083573",
   "metadata": {},
   "outputs": [],
   "source": [
    "df_kappa = pd.DataFrame(results)"
   ]
  },
  {
   "cell_type": "code",
   "execution_count": 13,
   "id": "778b3191",
   "metadata": {},
   "outputs": [],
   "source": [
    "from nfa_lib import ddict2dict"
   ]
  },
  {
   "cell_type": "code",
   "execution_count": 16,
   "id": "ed60a49b",
   "metadata": {},
   "outputs": [],
   "source": [
    "df_kappa[\"transtr\"] = df.transitions.map(lambda x: str(x))"
   ]
  },
  {
   "cell_type": "code",
   "execution_count": 23,
   "id": "63f23fcc",
   "metadata": {
    "scrolled": false
   },
   "outputs": [
    {
     "data": {
      "text/html": [
       "<div>\n",
       "<style scoped>\n",
       "    .dataframe tbody tr th:only-of-type {\n",
       "        vertical-align: middle;\n",
       "    }\n",
       "\n",
       "    .dataframe tbody tr th {\n",
       "        vertical-align: top;\n",
       "    }\n",
       "\n",
       "    .dataframe thead th {\n",
       "        text-align: right;\n",
       "    }\n",
       "</style>\n",
       "<table border=\"1\" class=\"dataframe\">\n",
       "  <thead>\n",
       "    <tr style=\"text-align: right;\">\n",
       "      <th></th>\n",
       "      <th>n_states</th>\n",
       "      <th>initial_states</th>\n",
       "      <th>final_states</th>\n",
       "      <th>transitions</th>\n",
       "      <th>string_len</th>\n",
       "      <th>bruteforce</th>\n",
       "      <th>estimate</th>\n",
       "      <th>kappa_multiple</th>\n",
       "      <th>time</th>\n",
       "      <th>transtr</th>\n",
       "    </tr>\n",
       "  </thead>\n",
       "  <tbody>\n",
       "  </tbody>\n",
       "</table>\n",
       "</div>"
      ],
      "text/plain": [
       "Empty DataFrame\n",
       "Columns: [n_states, initial_states, final_states, transitions, string_len, bruteforce, estimate, kappa_multiple, time, transtr]\n",
       "Index: []"
      ]
     },
     "execution_count": 23,
     "metadata": {},
     "output_type": "execute_result"
    }
   ],
   "source": [
    "df_kappa[df_kappa.kappa_multiple == 256].iloc[40:50]"
   ]
  },
  {
   "cell_type": "code",
   "execution_count": 5,
   "id": "ef4f6e79",
   "metadata": {},
   "outputs": [
    {
     "data": {
      "text/plain": [
       "[TypeError(\"count_nfa() got an unexpected keyword argument 'epsilon'\"),\n",
       " TypeError(\"count_nfa() got an unexpected keyword argument 'epsilon'\"),\n",
       " TypeError(\"count_nfa() got an unexpected keyword argument 'epsilon'\"),\n",
       " TypeError(\"count_nfa() got an unexpected keyword argument 'epsilon'\"),\n",
       " TypeError(\"count_nfa() got an unexpected keyword argument 'epsilon'\"),\n",
       " TypeError(\"count_nfa() got an unexpected keyword argument 'epsilon'\"),\n",
       " TypeError(\"count_nfa() got an unexpected keyword argument 'epsilon'\"),\n",
       " TypeError(\"count_nfa() got an unexpected keyword argument 'epsilon'\"),\n",
       " TypeError(\"count_nfa() got an unexpected keyword argument 'epsilon'\"),\n",
       " TypeError(\"count_nfa() got an unexpected keyword argument 'epsilon'\")]"
      ]
     },
     "execution_count": 5,
     "metadata": {},
     "output_type": "execute_result"
    }
   ],
   "source": [
    "errors[:10]"
   ]
  },
  {
   "cell_type": "code",
   "execution_count": 4,
   "id": "e078b69e",
   "metadata": {},
   "outputs": [],
   "source": [
    "def cycle_height(row):\n",
    "    nfa = instantiate_nfa(row)\n",
    "    return nfa.cycle_height()\n"
   ]
  },
  {
   "cell_type": "code",
   "execution_count": 5,
   "id": "49e57b10",
   "metadata": {},
   "outputs": [],
   "source": [
    "df[\"cycle_height\"] = df.apply(cycle_height, axis=1)"
   ]
  },
  {
   "cell_type": "code",
   "execution_count": 21,
   "id": "383510c6",
   "metadata": {},
   "outputs": [
    {
     "data": {
      "text/html": [
       "<div>\n",
       "<style scoped>\n",
       "    .dataframe tbody tr th:only-of-type {\n",
       "        vertical-align: middle;\n",
       "    }\n",
       "\n",
       "    .dataframe tbody tr th {\n",
       "        vertical-align: top;\n",
       "    }\n",
       "\n",
       "    .dataframe thead th {\n",
       "        text-align: right;\n",
       "    }\n",
       "</style>\n",
       "<table border=\"1\" class=\"dataframe\">\n",
       "  <thead>\n",
       "    <tr style=\"text-align: right;\">\n",
       "      <th></th>\n",
       "      <th>n_states</th>\n",
       "      <th>initial_states</th>\n",
       "      <th>final_states</th>\n",
       "      <th>transitions</th>\n",
       "      <th>string_n</th>\n",
       "      <th>bruteforce</th>\n",
       "      <th>estimate</th>\n",
       "      <th>eps</th>\n",
       "      <th>time</th>\n",
       "      <th>rel_error</th>\n",
       "      <th>cycle_height</th>\n",
       "    </tr>\n",
       "  </thead>\n",
       "  <tbody>\n",
       "    <tr>\n",
       "      <th>155</th>\n",
       "      <td>5</td>\n",
       "      <td>{q3, q1, q0}</td>\n",
       "      <td>{q4, q2}</td>\n",
       "      <td>{'q0': {'0': {'q0', 'q2'}, '1': {'q4'}}, 'q1':...</td>\n",
       "      <td>14</td>\n",
       "      <td>16384</td>\n",
       "      <td>910667.905438</td>\n",
       "      <td>54</td>\n",
       "      <td>3016.351845</td>\n",
       "      <td>54.582758</td>\n",
       "      <td>inf</td>\n",
       "    </tr>\n",
       "    <tr>\n",
       "      <th>250</th>\n",
       "      <td>5</td>\n",
       "      <td>{q3, q0, q4, q2}</td>\n",
       "      <td>{q0, q1, q4, q2}</td>\n",
       "      <td>{'q0': {'1': {'q3', 'q4'}, '0': {'q3'}}, 'q1':...</td>\n",
       "      <td>14</td>\n",
       "      <td>6256</td>\n",
       "      <td>346126.976953</td>\n",
       "      <td>28</td>\n",
       "      <td>5106.766545</td>\n",
       "      <td>54.327202</td>\n",
       "      <td>inf</td>\n",
       "    </tr>\n",
       "    <tr>\n",
       "      <th>185</th>\n",
       "      <td>4</td>\n",
       "      <td>{q3}</td>\n",
       "      <td>{q3, q2}</td>\n",
       "      <td>{'q0': {'1': {'q1'}, '0': {'q3', 'q1', 'q2'}},...</td>\n",
       "      <td>10</td>\n",
       "      <td>1024</td>\n",
       "      <td>25935.479221</td>\n",
       "      <td>43</td>\n",
       "      <td>391.159397</td>\n",
       "      <td>24.327616</td>\n",
       "      <td>inf</td>\n",
       "    </tr>\n",
       "    <tr>\n",
       "      <th>439</th>\n",
       "      <td>9</td>\n",
       "      <td>{q8}</td>\n",
       "      <td>{q8, q6}</td>\n",
       "      <td>{'q0': {'1': {'q4', 'q6'}, '0': {'q7'}}, 'q1':...</td>\n",
       "      <td>8</td>\n",
       "      <td>256</td>\n",
       "      <td>4075.632130</td>\n",
       "      <td>88</td>\n",
       "      <td>470.697020</td>\n",
       "      <td>14.920438</td>\n",
       "      <td>inf</td>\n",
       "    </tr>\n",
       "  </tbody>\n",
       "</table>\n",
       "</div>"
      ],
      "text/plain": [
       "     n_states    initial_states      final_states  \\\n",
       "155         5      {q3, q1, q0}          {q4, q2}   \n",
       "250         5  {q3, q0, q4, q2}  {q0, q1, q4, q2}   \n",
       "185         4              {q3}          {q3, q2}   \n",
       "439         9              {q8}          {q8, q6}   \n",
       "\n",
       "                                           transitions  string_n  bruteforce  \\\n",
       "155  {'q0': {'0': {'q0', 'q2'}, '1': {'q4'}}, 'q1':...        14       16384   \n",
       "250  {'q0': {'1': {'q3', 'q4'}, '0': {'q3'}}, 'q1':...        14        6256   \n",
       "185  {'q0': {'1': {'q1'}, '0': {'q3', 'q1', 'q2'}},...        10        1024   \n",
       "439  {'q0': {'1': {'q4', 'q6'}, '0': {'q7'}}, 'q1':...         8         256   \n",
       "\n",
       "          estimate  eps         time  rel_error  cycle_height  \n",
       "155  910667.905438   54  3016.351845  54.582758           inf  \n",
       "250  346126.976953   28  5106.766545  54.327202           inf  \n",
       "185   25935.479221   43   391.159397  24.327616           inf  \n",
       "439    4075.632130   88   470.697020  14.920438           inf  "
      ]
     },
     "execution_count": 21,
     "metadata": {},
     "output_type": "execute_result"
    }
   ],
   "source": [
    "df.sort_values(by=\"rel_error\", ascending=False).head(4)"
   ]
  },
  {
   "cell_type": "code",
   "execution_count": 23,
   "id": "c87a1191",
   "metadata": {},
   "outputs": [
    {
     "data": {
      "image/svg+xml": [
       "<?xml version=\"1.0\" encoding=\"UTF-8\" standalone=\"no\"?>\n",
       "<!DOCTYPE svg PUBLIC \"-//W3C//DTD SVG 1.1//EN\"\n",
       " \"http://www.w3.org/Graphics/SVG/1.1/DTD/svg11.dtd\">\n",
       "<!-- Generated by graphviz version 2.43.0 (0)\n",
       " -->\n",
       "<!-- Title: NFA Pages: 1 -->\n",
       "<svg width=\"355pt\" height=\"509pt\"\n",
       " viewBox=\"0.00 0.00 354.99 509.00\" xmlns=\"http://www.w3.org/2000/svg\" xmlns:xlink=\"http://www.w3.org/1999/xlink\">\n",
       "<g id=\"graph0\" class=\"graph\" transform=\"scale(1 1) rotate(0) translate(4 505)\">\n",
       "<title>NFA</title>\n",
       "<polygon fill=\"white\" stroke=\"transparent\" points=\"-4,4 -4,-505 350.99,-505 350.99,4 -4,4\"/>\n",
       "<!-- q3 -->\n",
       "<g id=\"node1\" class=\"node\">\n",
       "<title>q3</title>\n",
       "<ellipse fill=\"none\" stroke=\"black\" cx=\"57.5\" cy=\"-259.5\" rx=\"19.5\" ry=\"19.5\"/>\n",
       "<text text-anchor=\"middle\" x=\"57.5\" y=\"-255.8\" font-family=\"Times,serif\" font-size=\"14.00\">q3</text>\n",
       "</g>\n",
       "<!-- q3&#45;&gt;q3 -->\n",
       "<g id=\"edge18\" class=\"edge\">\n",
       "<title>q3&#45;&gt;q3</title>\n",
       "<path fill=\"none\" stroke=\"black\" d=\"M52.38,-278.37C49.08,-298.8 50.78,-322 57.5,-322 63.11,-322 65.22,-305.79 63.84,-288.54\"/>\n",
       "<polygon fill=\"black\" stroke=\"black\" points=\"67.28,-287.89 62.61,-278.37 60.33,-288.72 67.28,-287.89\"/>\n",
       "<text text-anchor=\"middle\" x=\"57.5\" y=\"-325.8\" font-family=\"Times,serif\" font-size=\"14.00\">0</text>\n",
       "</g>\n",
       "<!-- q2 -->\n",
       "<g id=\"node5\" class=\"node\">\n",
       "<title>q2</title>\n",
       "<ellipse fill=\"none\" stroke=\"black\" cx=\"143.49\" cy=\"-89.5\" rx=\"19.5\" ry=\"19.5\"/>\n",
       "<ellipse fill=\"none\" stroke=\"black\" cx=\"143.49\" cy=\"-89.5\" rx=\"23.5\" ry=\"23.5\"/>\n",
       "<text text-anchor=\"middle\" x=\"143.49\" y=\"-85.8\" font-family=\"Times,serif\" font-size=\"14.00\">q2</text>\n",
       "</g>\n",
       "<!-- q3&#45;&gt;q2 -->\n",
       "<g id=\"edge15\" class=\"edge\">\n",
       "<title>q3&#45;&gt;q2</title>\n",
       "<path fill=\"none\" stroke=\"black\" d=\"M59.14,-239.86C61.07,-195.08 68.42,-87.54 95,-65.5 101.89,-59.78 110.37,-61.84 118.25,-66.6\"/>\n",
       "<polygon fill=\"black\" stroke=\"black\" points=\"116.32,-69.52 126.47,-72.58 120.45,-63.86 116.32,-69.52\"/>\n",
       "<text text-anchor=\"middle\" x=\"98.5\" y=\"-69.3\" font-family=\"Times,serif\" font-size=\"14.00\">0</text>\n",
       "</g>\n",
       "<!-- q3&#45;&gt;q2 -->\n",
       "<g id=\"edge17\" class=\"edge\">\n",
       "<title>q3&#45;&gt;q2</title>\n",
       "<path fill=\"none\" stroke=\"black\" d=\"M67.01,-242.26C81.23,-213.48 109.99,-155.29 127.61,-119.62\"/>\n",
       "<polygon fill=\"black\" stroke=\"black\" points=\"130.97,-120.72 132.27,-110.2 124.7,-117.62 130.97,-120.72\"/>\n",
       "<text text-anchor=\"middle\" x=\"98.5\" y=\"-189.3\" font-family=\"Times,serif\" font-size=\"14.00\">1</text>\n",
       "</g>\n",
       "<!-- q1 -->\n",
       "<g id=\"node7\" class=\"node\">\n",
       "<title>q1</title>\n",
       "<ellipse fill=\"none\" stroke=\"black\" cx=\"323.49\" cy=\"-282.5\" rx=\"19.5\" ry=\"19.5\"/>\n",
       "<ellipse fill=\"none\" stroke=\"black\" cx=\"323.49\" cy=\"-282.5\" rx=\"23.5\" ry=\"23.5\"/>\n",
       "<text text-anchor=\"middle\" x=\"323.49\" y=\"-278.8\" font-family=\"Times,serif\" font-size=\"14.00\">q1</text>\n",
       "</g>\n",
       "<!-- q3&#45;&gt;q1 -->\n",
       "<g id=\"edge13\" class=\"edge\">\n",
       "<title>q3&#45;&gt;q1</title>\n",
       "<path fill=\"none\" stroke=\"black\" d=\"M68.55,-275.79C79.13,-291.09 97.38,-312.74 120,-320.5 177.59,-340.26 198.28,-337.65 256.99,-321.5 270.78,-317.7 284.61,-310.16 295.98,-302.71\"/>\n",
       "<polygon fill=\"black\" stroke=\"black\" points=\"298.27,-305.38 304.52,-296.83 294.3,-299.62 298.27,-305.38\"/>\n",
       "<text text-anchor=\"middle\" x=\"188.49\" y=\"-337.3\" font-family=\"Times,serif\" font-size=\"14.00\">0</text>\n",
       "</g>\n",
       "<!-- q3&#45;&gt;q1 -->\n",
       "<g id=\"edge16\" class=\"edge\">\n",
       "<title>q3&#45;&gt;q1</title>\n",
       "<path fill=\"none\" stroke=\"black\" d=\"M62.76,-278.7C69.65,-304.12 86.06,-347.07 120,-358.5 177.7,-377.94 198.08,-373.87 256.99,-358.5 280.02,-352.49 297.12,-331.24 308.07,-312.74\"/>\n",
       "<polygon fill=\"black\" stroke=\"black\" points=\"311.15,-314.4 312.95,-303.95 305.03,-311 311.15,-314.4\"/>\n",
       "<text text-anchor=\"middle\" x=\"188.49\" y=\"-375.3\" font-family=\"Times,serif\" font-size=\"14.00\">1</text>\n",
       "</g>\n",
       "<!-- q0 -->\n",
       "<g id=\"node8\" class=\"node\">\n",
       "<title>q0</title>\n",
       "<ellipse fill=\"none\" stroke=\"black\" cx=\"143.49\" cy=\"-231.5\" rx=\"19.5\" ry=\"19.5\"/>\n",
       "<ellipse fill=\"none\" stroke=\"black\" cx=\"143.49\" cy=\"-231.5\" rx=\"23.5\" ry=\"23.5\"/>\n",
       "<text text-anchor=\"middle\" x=\"143.49\" y=\"-227.8\" font-family=\"Times,serif\" font-size=\"14.00\">q0</text>\n",
       "</g>\n",
       "<!-- q3&#45;&gt;q0 -->\n",
       "<g id=\"edge14\" class=\"edge\">\n",
       "<title>q3&#45;&gt;q0</title>\n",
       "<path fill=\"none\" stroke=\"black\" d=\"M68.88,-243.14C75.27,-234.67 84.28,-225.15 95,-220.5 100.34,-218.18 106.23,-217.91 112,-218.74\"/>\n",
       "<polygon fill=\"black\" stroke=\"black\" points=\"111.56,-222.23 122.1,-221.23 113.24,-215.44 111.56,-222.23\"/>\n",
       "<text text-anchor=\"middle\" x=\"98.5\" y=\"-224.3\" font-family=\"Times,serif\" font-size=\"14.00\">0</text>\n",
       "</g>\n",
       "<!-- q3_init -->\n",
       "<g id=\"node2\" class=\"node\">\n",
       "<title>q3_init</title>\n",
       "</g>\n",
       "<!-- q3_init&#45;&gt;q3 -->\n",
       "<g id=\"edge1\" class=\"edge\">\n",
       "<title>q3_init&#45;&gt;q3</title>\n",
       "<path fill=\"none\" stroke=\"black\" d=\"M1.16,-259.5C2.69,-259.5 15.09,-259.5 27.76,-259.5\"/>\n",
       "<polygon fill=\"black\" stroke=\"black\" points=\"27.78,-263 37.78,-259.5 27.78,-256 27.78,-263\"/>\n",
       "</g>\n",
       "<!-- q4 -->\n",
       "<g id=\"node3\" class=\"node\">\n",
       "<title>q4</title>\n",
       "<ellipse fill=\"none\" stroke=\"black\" cx=\"233.49\" cy=\"-243.5\" rx=\"19.5\" ry=\"19.5\"/>\n",
       "<ellipse fill=\"none\" stroke=\"black\" cx=\"233.49\" cy=\"-243.5\" rx=\"23.5\" ry=\"23.5\"/>\n",
       "<text text-anchor=\"middle\" x=\"233.49\" y=\"-239.8\" font-family=\"Times,serif\" font-size=\"14.00\">q4</text>\n",
       "</g>\n",
       "<!-- q4&#45;&gt;q4 -->\n",
       "<g id=\"edge21\" class=\"edge\">\n",
       "<title>q4&#45;&gt;q4</title>\n",
       "<path fill=\"none\" stroke=\"black\" d=\"M226.76,-266.33C223.39,-287.34 225.63,-310 233.49,-310 240.06,-310 242.71,-294.17 241.43,-276.7\"/>\n",
       "<polygon fill=\"black\" stroke=\"black\" points=\"244.85,-275.86 240.22,-266.33 237.9,-276.67 244.85,-275.86\"/>\n",
       "<text text-anchor=\"middle\" x=\"233.49\" y=\"-313.8\" font-family=\"Times,serif\" font-size=\"14.00\">1</text>\n",
       "</g>\n",
       "<!-- q4&#45;&gt;q1 -->\n",
       "<g id=\"edge19\" class=\"edge\">\n",
       "<title>q4&#45;&gt;q1</title>\n",
       "<path fill=\"none\" stroke=\"black\" d=\"M250.4,-226.69C259.67,-219 271.54,-212.75 281.99,-218.5 294.84,-225.58 304.18,-238.64 310.63,-251.13\"/>\n",
       "<polygon fill=\"black\" stroke=\"black\" points=\"307.59,-252.89 315.01,-260.46 313.93,-249.92 307.59,-252.89\"/>\n",
       "<text text-anchor=\"middle\" x=\"278.49\" y=\"-222.3\" font-family=\"Times,serif\" font-size=\"14.00\">1</text>\n",
       "</g>\n",
       "<!-- q4&#45;&gt;q1 -->\n",
       "<g id=\"edge20\" class=\"edge\">\n",
       "<title>q4&#45;&gt;q1</title>\n",
       "<path fill=\"none\" stroke=\"black\" d=\"M253.78,-256.15C260.34,-260.12 267.83,-264.3 274.99,-267.5 279.9,-269.69 285.22,-271.71 290.47,-273.5\"/>\n",
       "<polygon fill=\"black\" stroke=\"black\" points=\"289.75,-276.94 300.34,-276.65 291.89,-270.27 289.75,-276.94\"/>\n",
       "<text text-anchor=\"middle\" x=\"278.49\" y=\"-273.3\" font-family=\"Times,serif\" font-size=\"14.00\">0</text>\n",
       "</g>\n",
       "<!-- q4_init -->\n",
       "<g id=\"node4\" class=\"node\">\n",
       "<title>q4_init</title>\n",
       "</g>\n",
       "<!-- q4_init&#45;&gt;q4 -->\n",
       "<g id=\"edge2\" class=\"edge\">\n",
       "<title>q4_init&#45;&gt;q4</title>\n",
       "<path fill=\"none\" stroke=\"black\" d=\"M144.56,-298.46C146.21,-297.43 179.45,-276.65 204.58,-260.95\"/>\n",
       "<polygon fill=\"black\" stroke=\"black\" points=\"206.44,-263.91 213.06,-255.64 202.73,-257.97 206.44,-263.91\"/>\n",
       "</g>\n",
       "<!-- q2&#45;&gt;q4 -->\n",
       "<g id=\"edge10\" class=\"edge\">\n",
       "<title>q2&#45;&gt;q4</title>\n",
       "<path fill=\"none\" stroke=\"black\" d=\"M156,-109.63C171.28,-136.38 198.38,-183.81 215.89,-214.44\"/>\n",
       "<polygon fill=\"black\" stroke=\"black\" points=\"212.98,-216.42 220.98,-223.36 219.06,-212.94 212.98,-216.42\"/>\n",
       "<text text-anchor=\"middle\" x=\"188.49\" y=\"-175.3\" font-family=\"Times,serif\" font-size=\"14.00\">1</text>\n",
       "</g>\n",
       "<!-- q2&#45;&gt;q4 -->\n",
       "<g id=\"edge11\" class=\"edge\">\n",
       "<title>q2&#45;&gt;q4</title>\n",
       "<path fill=\"none\" stroke=\"black\" d=\"M162.15,-104.04C171.99,-112.89 183.86,-124.89 191.99,-137.5 206.64,-160.23 217.23,-189.06 223.89,-210.91\"/>\n",
       "<polygon fill=\"black\" stroke=\"black\" points=\"220.59,-212.1 226.76,-220.72 227.31,-210.14 220.59,-212.1\"/>\n",
       "<text text-anchor=\"middle\" x=\"188.49\" y=\"-141.3\" font-family=\"Times,serif\" font-size=\"14.00\">0</text>\n",
       "</g>\n",
       "<!-- q2&#45;&gt;q2 -->\n",
       "<g id=\"edge12\" class=\"edge\">\n",
       "<title>q2&#45;&gt;q2</title>\n",
       "<path fill=\"none\" stroke=\"black\" d=\"M136.77,-112.33C133.39,-133.34 135.63,-156 143.49,-156 150.07,-156 152.71,-140.17 151.43,-122.7\"/>\n",
       "<polygon fill=\"black\" stroke=\"black\" points=\"154.86,-121.86 150.22,-112.33 147.9,-122.67 154.86,-121.86\"/>\n",
       "<text text-anchor=\"middle\" x=\"143.49\" y=\"-159.8\" font-family=\"Times,serif\" font-size=\"14.00\">0</text>\n",
       "</g>\n",
       "<!-- q2&#45;&gt;q1 -->\n",
       "<g id=\"edge9\" class=\"edge\">\n",
       "<title>q2&#45;&gt;q1</title>\n",
       "<path fill=\"none\" stroke=\"black\" d=\"M164.5,-100.92C173.22,-106.19 183.38,-112.78 191.99,-119.5 235.6,-153.55 248.68,-161.33 281.99,-205.5 292.73,-219.75 302.18,-237.24 309.25,-251.95\"/>\n",
       "<polygon fill=\"black\" stroke=\"black\" points=\"306.14,-253.57 313.54,-261.15 312.49,-250.61 306.14,-253.57\"/>\n",
       "<text text-anchor=\"middle\" x=\"233.49\" y=\"-179.3\" font-family=\"Times,serif\" font-size=\"14.00\">1</text>\n",
       "</g>\n",
       "<!-- q2_init -->\n",
       "<g id=\"node6\" class=\"node\">\n",
       "<title>q2_init</title>\n",
       "</g>\n",
       "<!-- q2_init&#45;&gt;q2 -->\n",
       "<g id=\"edge3\" class=\"edge\">\n",
       "<title>q2_init&#45;&gt;q2</title>\n",
       "<path fill=\"none\" stroke=\"black\" d=\"M58.58,-0.53C60.19,-1.15 86.32,-11.32 102,-26.5 111.95,-36.13 120.63,-48.66 127.38,-60\"/>\n",
       "<polygon fill=\"black\" stroke=\"black\" points=\"124.37,-61.8 132.36,-68.76 130.46,-58.34 124.37,-61.8\"/>\n",
       "</g>\n",
       "<!-- q1&#45;&gt;q4 -->\n",
       "<g id=\"edge8\" class=\"edge\">\n",
       "<title>q1&#45;&gt;q4</title>\n",
       "<path fill=\"none\" stroke=\"black\" d=\"M307.69,-264.99C300.68,-257.95 291.71,-250.55 281.99,-246.5 277.46,-244.61 272.48,-243.44 267.5,-242.75\"/>\n",
       "<polygon fill=\"black\" stroke=\"black\" points=\"267.66,-239.25 257.41,-241.94 267.1,-246.23 267.66,-239.25\"/>\n",
       "<text text-anchor=\"middle\" x=\"278.49\" y=\"-250.3\" font-family=\"Times,serif\" font-size=\"14.00\">1</text>\n",
       "</g>\n",
       "<!-- q0&#45;&gt;q3 -->\n",
       "<g id=\"edge5\" class=\"edge\">\n",
       "<title>q0&#45;&gt;q3</title>\n",
       "<path fill=\"none\" stroke=\"black\" d=\"M130.01,-251.32C123.02,-260.51 113.41,-270.5 102,-275.5 95.9,-278.17 89.21,-277.45 82.94,-275.25\"/>\n",
       "<polygon fill=\"black\" stroke=\"black\" points=\"84.11,-271.93 73.57,-270.84 81.13,-278.26 84.11,-271.93\"/>\n",
       "<text text-anchor=\"middle\" x=\"98.5\" y=\"-280.3\" font-family=\"Times,serif\" font-size=\"14.00\">1</text>\n",
       "</g>\n",
       "<!-- q0&#45;&gt;q3 -->\n",
       "<g id=\"edge7\" class=\"edge\">\n",
       "<title>q0&#45;&gt;q3</title>\n",
       "<path fill=\"none\" stroke=\"black\" d=\"M120.83,-238.72C110.25,-242.25 97.4,-246.53 86.12,-250.29\"/>\n",
       "<polygon fill=\"black\" stroke=\"black\" points=\"84.69,-247.08 76.31,-253.56 86.91,-253.72 84.69,-247.08\"/>\n",
       "<text text-anchor=\"middle\" x=\"98.5\" y=\"-250.3\" font-family=\"Times,serif\" font-size=\"14.00\">0</text>\n",
       "</g>\n",
       "<!-- q0&#45;&gt;q4 -->\n",
       "<g id=\"edge6\" class=\"edge\">\n",
       "<title>q0&#45;&gt;q4</title>\n",
       "<path fill=\"none\" stroke=\"black\" d=\"M167.16,-234.59C177.11,-235.95 188.99,-237.57 199.87,-239.05\"/>\n",
       "<polygon fill=\"black\" stroke=\"black\" points=\"199.53,-242.54 209.91,-240.42 200.47,-235.6 199.53,-242.54\"/>\n",
       "<text text-anchor=\"middle\" x=\"188.49\" y=\"-241.3\" font-family=\"Times,serif\" font-size=\"14.00\">1</text>\n",
       "</g>\n",
       "<!-- q0_init -->\n",
       "<g id=\"node9\" class=\"node\">\n",
       "<title>q0_init</title>\n",
       "</g>\n",
       "<!-- q0_init&#45;&gt;q0 -->\n",
       "<g id=\"edge4\" class=\"edge\">\n",
       "<title>q0_init&#45;&gt;q0</title>\n",
       "<path fill=\"none\" stroke=\"black\" d=\"M58.52,-500.41C59.27,-496.52 83.65,-371.4 120,-276.5 121.99,-271.3 124.38,-265.9 126.86,-260.72\"/>\n",
       "<polygon fill=\"black\" stroke=\"black\" points=\"130.01,-262.24 131.32,-251.73 123.74,-259.13 130.01,-262.24\"/>\n",
       "</g>\n",
       "</g>\n",
       "</svg>\n"
      ],
      "text/plain": [
       "<graphviz.dot.Digraph at 0x7fe782975a30>"
      ]
     },
     "execution_count": 23,
     "metadata": {},
     "output_type": "execute_result"
    }
   ],
   "source": [
    "instantiate_nfa(df.loc[250]).plot()"
   ]
  },
  {
   "cell_type": "code",
   "execution_count": 51,
   "id": "7b4455da",
   "metadata": {},
   "outputs": [],
   "source": [
    "df[\"rel_error_over_eps\"] = df.rel_error / df.eps"
   ]
  },
  {
   "cell_type": "code",
   "execution_count": 62,
   "id": "ec9690cd",
   "metadata": {},
   "outputs": [
    {
     "data": {
      "text/html": [
       "<div>\n",
       "<style scoped>\n",
       "    .dataframe tbody tr th:only-of-type {\n",
       "        vertical-align: middle;\n",
       "    }\n",
       "\n",
       "    .dataframe tbody tr th {\n",
       "        vertical-align: top;\n",
       "    }\n",
       "\n",
       "    .dataframe thead th {\n",
       "        text-align: right;\n",
       "    }\n",
       "</style>\n",
       "<table border=\"1\" class=\"dataframe\">\n",
       "  <thead>\n",
       "    <tr style=\"text-align: right;\">\n",
       "      <th></th>\n",
       "      <th>n_states</th>\n",
       "      <th>initial_states</th>\n",
       "      <th>final_states</th>\n",
       "      <th>transitions</th>\n",
       "      <th>string_n</th>\n",
       "      <th>bruteforce</th>\n",
       "      <th>estimate</th>\n",
       "      <th>eps</th>\n",
       "      <th>time</th>\n",
       "      <th>rel_error</th>\n",
       "      <th>rel_error_over_eps</th>\n",
       "    </tr>\n",
       "  </thead>\n",
       "  <tbody>\n",
       "    <tr>\n",
       "      <th>250</th>\n",
       "      <td>5</td>\n",
       "      <td>{q0, q4, q2, q3}</td>\n",
       "      <td>{q0, q4, q1, q2}</td>\n",
       "      <td>{'q0': {'1': {'q4', 'q3'}, '0': {'q3'}}, 'q1':...</td>\n",
       "      <td>14</td>\n",
       "      <td>6256</td>\n",
       "      <td>346126.976953</td>\n",
       "      <td>28</td>\n",
       "      <td>5106.766545</td>\n",
       "      <td>54.327202</td>\n",
       "      <td>1.940257</td>\n",
       "    </tr>\n",
       "    <tr>\n",
       "      <th>97</th>\n",
       "      <td>6</td>\n",
       "      <td>{q0, q4, q1}</td>\n",
       "      <td>{q0, q1, q2, q3}</td>\n",
       "      <td>{'q0': {'0': {'q5', 'q1'}, '1': {'q5', 'q2', '...</td>\n",
       "      <td>5</td>\n",
       "      <td>32</td>\n",
       "      <td>348.516394</td>\n",
       "      <td>8</td>\n",
       "      <td>141.583673</td>\n",
       "      <td>9.891137</td>\n",
       "      <td>1.236392</td>\n",
       "    </tr>\n",
       "    <tr>\n",
       "      <th>155</th>\n",
       "      <td>5</td>\n",
       "      <td>{q0, q1, q3}</td>\n",
       "      <td>{q4, q2}</td>\n",
       "      <td>{'q0': {'0': {'q0', 'q2'}, '1': {'q4'}}, 'q1':...</td>\n",
       "      <td>14</td>\n",
       "      <td>16384</td>\n",
       "      <td>910667.905438</td>\n",
       "      <td>54</td>\n",
       "      <td>3016.351845</td>\n",
       "      <td>54.582758</td>\n",
       "      <td>1.010792</td>\n",
       "    </tr>\n",
       "    <tr>\n",
       "      <th>57</th>\n",
       "      <td>6</td>\n",
       "      <td>{q0, q1}</td>\n",
       "      <td>{q4, q2, q5, q0, q3}</td>\n",
       "      <td>{'q0': {'1': {'q5', 'q3'}, '0': {'q5', 'q4', '...</td>\n",
       "      <td>5</td>\n",
       "      <td>32</td>\n",
       "      <td>237.365394</td>\n",
       "      <td>8</td>\n",
       "      <td>75.338577</td>\n",
       "      <td>6.417669</td>\n",
       "      <td>0.802209</td>\n",
       "    </tr>\n",
       "    <tr>\n",
       "      <th>45</th>\n",
       "      <td>5</td>\n",
       "      <td>{q4}</td>\n",
       "      <td>{q4, q1, q2}</td>\n",
       "      <td>{'q0': {'1': {'q1'}, '0': {'q1'}}, 'q1': {'0':...</td>\n",
       "      <td>10</td>\n",
       "      <td>1024</td>\n",
       "      <td>12388.688906</td>\n",
       "      <td>15</td>\n",
       "      <td>1348.562958</td>\n",
       "      <td>11.098329</td>\n",
       "      <td>0.739889</td>\n",
       "    </tr>\n",
       "    <tr>\n",
       "      <th>185</th>\n",
       "      <td>4</td>\n",
       "      <td>{q3}</td>\n",
       "      <td>{q2, q3}</td>\n",
       "      <td>{'q0': {'1': {'q1'}, '0': {'q1', 'q2', 'q3'}},...</td>\n",
       "      <td>10</td>\n",
       "      <td>1024</td>\n",
       "      <td>25935.479221</td>\n",
       "      <td>43</td>\n",
       "      <td>391.159397</td>\n",
       "      <td>24.327616</td>\n",
       "      <td>0.565759</td>\n",
       "    </tr>\n",
       "    <tr>\n",
       "      <th>248</th>\n",
       "      <td>5</td>\n",
       "      <td>{q0, q3}</td>\n",
       "      <td>{q4}</td>\n",
       "      <td>{'q0': {'1': {'q0', 'q4', 'q3'}, '0': {'q1', '...</td>\n",
       "      <td>10</td>\n",
       "      <td>1024</td>\n",
       "      <td>8786.812229</td>\n",
       "      <td>21</td>\n",
       "      <td>1189.039953</td>\n",
       "      <td>7.580871</td>\n",
       "      <td>0.360994</td>\n",
       "    </tr>\n",
       "    <tr>\n",
       "      <th>317</th>\n",
       "      <td>7</td>\n",
       "      <td>{q5}</td>\n",
       "      <td>{q5, q0, q6}</td>\n",
       "      <td>{'q0': {'0': {'q1', 'q2'}}, 'q1': {'1': {'q0',...</td>\n",
       "      <td>7</td>\n",
       "      <td>128</td>\n",
       "      <td>1902.533180</td>\n",
       "      <td>43</td>\n",
       "      <td>194.612001</td>\n",
       "      <td>13.863540</td>\n",
       "      <td>0.322408</td>\n",
       "    </tr>\n",
       "    <tr>\n",
       "      <th>93</th>\n",
       "      <td>5</td>\n",
       "      <td>{q0, q4, q1}</td>\n",
       "      <td>{q4, q3}</td>\n",
       "      <td>{'q0': {'1': {'q2', 'q3'}}, 'q1': {'0': {'q1'}...</td>\n",
       "      <td>7</td>\n",
       "      <td>128</td>\n",
       "      <td>389.541770</td>\n",
       "      <td>7</td>\n",
       "      <td>484.051723</td>\n",
       "      <td>2.043295</td>\n",
       "      <td>0.291899</td>\n",
       "    </tr>\n",
       "    <tr>\n",
       "      <th>135</th>\n",
       "      <td>5</td>\n",
       "      <td>{q0, q2}</td>\n",
       "      <td>{q0, q4, q3}</td>\n",
       "      <td>{'q0': {'0': {'q4', 'q1', 'q2', 'q3'}}, 'q1': ...</td>\n",
       "      <td>6</td>\n",
       "      <td>64</td>\n",
       "      <td>455.550164</td>\n",
       "      <td>22</td>\n",
       "      <td>51.058338</td>\n",
       "      <td>6.117971</td>\n",
       "      <td>0.278090</td>\n",
       "    </tr>\n",
       "    <tr>\n",
       "      <th>85</th>\n",
       "      <td>6</td>\n",
       "      <td>{q0, q2, q3}</td>\n",
       "      <td>{q5, q1, q3}</td>\n",
       "      <td>{'q0': {'0': {'q1', 'q3'}, '1': {'q2'}}, 'q1':...</td>\n",
       "      <td>4</td>\n",
       "      <td>14</td>\n",
       "      <td>28.939176</td>\n",
       "      <td>4</td>\n",
       "      <td>47.871424</td>\n",
       "      <td>1.067084</td>\n",
       "      <td>0.266771</td>\n",
       "    </tr>\n",
       "    <tr>\n",
       "      <th>101</th>\n",
       "      <td>6</td>\n",
       "      <td>{q5, q4, q1, q3}</td>\n",
       "      <td>{q0, q3}</td>\n",
       "      <td>{'q0': {'0': {'q5', 'q4', 'q3'}, '1': {'q5', '...</td>\n",
       "      <td>5</td>\n",
       "      <td>32</td>\n",
       "      <td>98.157458</td>\n",
       "      <td>8</td>\n",
       "      <td>76.184576</td>\n",
       "      <td>2.067421</td>\n",
       "      <td>0.258428</td>\n",
       "    </tr>\n",
       "    <tr>\n",
       "      <th>204</th>\n",
       "      <td>5</td>\n",
       "      <td>{q0, q4, q1, q2}</td>\n",
       "      <td>{q1, q2}</td>\n",
       "      <td>{'q0': {}, 'q1': {'1': {'q1'}, '0': {'q4', 'q1...</td>\n",
       "      <td>12</td>\n",
       "      <td>4096</td>\n",
       "      <td>32156.717887</td>\n",
       "      <td>27</td>\n",
       "      <td>1582.476723</td>\n",
       "      <td>6.850761</td>\n",
       "      <td>0.253732</td>\n",
       "    </tr>\n",
       "    <tr>\n",
       "      <th>55</th>\n",
       "      <td>6</td>\n",
       "      <td>{q0, q4, q1, q2}</td>\n",
       "      <td>{q0, q2, q3}</td>\n",
       "      <td>{'q0': {'0': {'q5', 'q3'}}, 'q1': {'1': {'q0',...</td>\n",
       "      <td>4</td>\n",
       "      <td>16</td>\n",
       "      <td>31.460000</td>\n",
       "      <td>4</td>\n",
       "      <td>23.926571</td>\n",
       "      <td>0.966250</td>\n",
       "      <td>0.241563</td>\n",
       "    </tr>\n",
       "    <tr>\n",
       "      <th>443</th>\n",
       "      <td>8</td>\n",
       "      <td>{q0}</td>\n",
       "      <td>{q5}</td>\n",
       "      <td>{'q0': {'0': {'q5', 'q0', 'q4'}, '1': {'q1', '...</td>\n",
       "      <td>7</td>\n",
       "      <td>128</td>\n",
       "      <td>1158.452809</td>\n",
       "      <td>34</td>\n",
       "      <td>441.427670</td>\n",
       "      <td>8.050413</td>\n",
       "      <td>0.236777</td>\n",
       "    </tr>\n",
       "    <tr>\n",
       "      <th>64</th>\n",
       "      <td>6</td>\n",
       "      <td>{q4, q1, q2, q3}</td>\n",
       "      <td>{q3}</td>\n",
       "      <td>{'q0': {'1': {'q5', 'q2', 'q3'}, '0': {'q2', '...</td>\n",
       "      <td>5</td>\n",
       "      <td>32</td>\n",
       "      <td>77.061857</td>\n",
       "      <td>6</td>\n",
       "      <td>184.014440</td>\n",
       "      <td>1.408183</td>\n",
       "      <td>0.234697</td>\n",
       "    </tr>\n",
       "    <tr>\n",
       "      <th>120</th>\n",
       "      <td>5</td>\n",
       "      <td>{q1, q2, q3}</td>\n",
       "      <td>{q3}</td>\n",
       "      <td>{'q0': {'1': {'q0', 'q4', 'q2', 'q3'}, '0': {'...</td>\n",
       "      <td>14</td>\n",
       "      <td>16384</td>\n",
       "      <td>230311.871308</td>\n",
       "      <td>58</td>\n",
       "      <td>641.399689</td>\n",
       "      <td>13.057121</td>\n",
       "      <td>0.225123</td>\n",
       "    </tr>\n",
       "    <tr>\n",
       "      <th>279</th>\n",
       "      <td>12</td>\n",
       "      <td>{q4, q8}</td>\n",
       "      <td>{q0, q7, q2, q9}</td>\n",
       "      <td>{'q0': {'0': {'q1', 'q2', 'q5', 'q0', 'q6', 'q...</td>\n",
       "      <td>4</td>\n",
       "      <td>16</td>\n",
       "      <td>75.433192</td>\n",
       "      <td>17</td>\n",
       "      <td>168.309165</td>\n",
       "      <td>3.714574</td>\n",
       "      <td>0.218504</td>\n",
       "    </tr>\n",
       "    <tr>\n",
       "      <th>284</th>\n",
       "      <td>10</td>\n",
       "      <td>{q2}</td>\n",
       "      <td>{q6}</td>\n",
       "      <td>{'q0': {'1': {'q0', 'q6', 'q3', 'q9', 'q8'}, '...</td>\n",
       "      <td>7</td>\n",
       "      <td>127</td>\n",
       "      <td>1846.084103</td>\n",
       "      <td>63</td>\n",
       "      <td>376.620378</td>\n",
       "      <td>13.536095</td>\n",
       "      <td>0.214859</td>\n",
       "    </tr>\n",
       "    <tr>\n",
       "      <th>161</th>\n",
       "      <td>6</td>\n",
       "      <td>{q5, q4, q1, q3}</td>\n",
       "      <td>{q2}</td>\n",
       "      <td>{'q0': {'1': {'q4', 'q1', 'q3'}, '0': {'q4', '...</td>\n",
       "      <td>9</td>\n",
       "      <td>491</td>\n",
       "      <td>3313.844108</td>\n",
       "      <td>28</td>\n",
       "      <td>845.851782</td>\n",
       "      <td>5.749173</td>\n",
       "      <td>0.205328</td>\n",
       "    </tr>\n",
       "  </tbody>\n",
       "</table>\n",
       "</div>"
      ],
      "text/plain": [
       "     n_states    initial_states          final_states  \\\n",
       "250         5  {q0, q4, q2, q3}      {q0, q4, q1, q2}   \n",
       "97          6      {q0, q4, q1}      {q0, q1, q2, q3}   \n",
       "155         5      {q0, q1, q3}              {q4, q2}   \n",
       "57          6          {q0, q1}  {q4, q2, q5, q0, q3}   \n",
       "45          5              {q4}          {q4, q1, q2}   \n",
       "185         4              {q3}              {q2, q3}   \n",
       "248         5          {q0, q3}                  {q4}   \n",
       "317         7              {q5}          {q5, q0, q6}   \n",
       "93          5      {q0, q4, q1}              {q4, q3}   \n",
       "135         5          {q0, q2}          {q0, q4, q3}   \n",
       "85          6      {q0, q2, q3}          {q5, q1, q3}   \n",
       "101         6  {q5, q4, q1, q3}              {q0, q3}   \n",
       "204         5  {q0, q4, q1, q2}              {q1, q2}   \n",
       "55          6  {q0, q4, q1, q2}          {q0, q2, q3}   \n",
       "443         8              {q0}                  {q5}   \n",
       "64          6  {q4, q1, q2, q3}                  {q3}   \n",
       "120         5      {q1, q2, q3}                  {q3}   \n",
       "279        12          {q4, q8}      {q0, q7, q2, q9}   \n",
       "284        10              {q2}                  {q6}   \n",
       "161         6  {q5, q4, q1, q3}                  {q2}   \n",
       "\n",
       "                                           transitions  string_n  bruteforce  \\\n",
       "250  {'q0': {'1': {'q4', 'q3'}, '0': {'q3'}}, 'q1':...        14        6256   \n",
       "97   {'q0': {'0': {'q5', 'q1'}, '1': {'q5', 'q2', '...         5          32   \n",
       "155  {'q0': {'0': {'q0', 'q2'}, '1': {'q4'}}, 'q1':...        14       16384   \n",
       "57   {'q0': {'1': {'q5', 'q3'}, '0': {'q5', 'q4', '...         5          32   \n",
       "45   {'q0': {'1': {'q1'}, '0': {'q1'}}, 'q1': {'0':...        10        1024   \n",
       "185  {'q0': {'1': {'q1'}, '0': {'q1', 'q2', 'q3'}},...        10        1024   \n",
       "248  {'q0': {'1': {'q0', 'q4', 'q3'}, '0': {'q1', '...        10        1024   \n",
       "317  {'q0': {'0': {'q1', 'q2'}}, 'q1': {'1': {'q0',...         7         128   \n",
       "93   {'q0': {'1': {'q2', 'q3'}}, 'q1': {'0': {'q1'}...         7         128   \n",
       "135  {'q0': {'0': {'q4', 'q1', 'q2', 'q3'}}, 'q1': ...         6          64   \n",
       "85   {'q0': {'0': {'q1', 'q3'}, '1': {'q2'}}, 'q1':...         4          14   \n",
       "101  {'q0': {'0': {'q5', 'q4', 'q3'}, '1': {'q5', '...         5          32   \n",
       "204  {'q0': {}, 'q1': {'1': {'q1'}, '0': {'q4', 'q1...        12        4096   \n",
       "55   {'q0': {'0': {'q5', 'q3'}}, 'q1': {'1': {'q0',...         4          16   \n",
       "443  {'q0': {'0': {'q5', 'q0', 'q4'}, '1': {'q1', '...         7         128   \n",
       "64   {'q0': {'1': {'q5', 'q2', 'q3'}, '0': {'q2', '...         5          32   \n",
       "120  {'q0': {'1': {'q0', 'q4', 'q2', 'q3'}, '0': {'...        14       16384   \n",
       "279  {'q0': {'0': {'q1', 'q2', 'q5', 'q0', 'q6', 'q...         4          16   \n",
       "284  {'q0': {'1': {'q0', 'q6', 'q3', 'q9', 'q8'}, '...         7         127   \n",
       "161  {'q0': {'1': {'q4', 'q1', 'q3'}, '0': {'q4', '...         9         491   \n",
       "\n",
       "          estimate  eps         time  rel_error  rel_error_over_eps  \n",
       "250  346126.976953   28  5106.766545  54.327202            1.940257  \n",
       "97      348.516394    8   141.583673   9.891137            1.236392  \n",
       "155  910667.905438   54  3016.351845  54.582758            1.010792  \n",
       "57      237.365394    8    75.338577   6.417669            0.802209  \n",
       "45    12388.688906   15  1348.562958  11.098329            0.739889  \n",
       "185   25935.479221   43   391.159397  24.327616            0.565759  \n",
       "248    8786.812229   21  1189.039953   7.580871            0.360994  \n",
       "317    1902.533180   43   194.612001  13.863540            0.322408  \n",
       "93      389.541770    7   484.051723   2.043295            0.291899  \n",
       "135     455.550164   22    51.058338   6.117971            0.278090  \n",
       "85       28.939176    4    47.871424   1.067084            0.266771  \n",
       "101      98.157458    8    76.184576   2.067421            0.258428  \n",
       "204   32156.717887   27  1582.476723   6.850761            0.253732  \n",
       "55       31.460000    4    23.926571   0.966250            0.241563  \n",
       "443    1158.452809   34   441.427670   8.050413            0.236777  \n",
       "64       77.061857    6   184.014440   1.408183            0.234697  \n",
       "120  230311.871308   58   641.399689  13.057121            0.225123  \n",
       "279      75.433192   17   168.309165   3.714574            0.218504  \n",
       "284    1846.084103   63   376.620378  13.536095            0.214859  \n",
       "161    3313.844108   28   845.851782   5.749173            0.205328  "
      ]
     },
     "execution_count": 62,
     "metadata": {},
     "output_type": "execute_result"
    }
   ],
   "source": [
    "df.sort_values(by=\"rel_error_over_eps\", ascending=False).head(20)"
   ]
  },
  {
   "cell_type": "code",
   "execution_count": 54,
   "id": "5b064584",
   "metadata": {},
   "outputs": [],
   "source": [
    "nfa = instantiate_nfa(df.loc[97])"
   ]
  },
  {
   "cell_type": "code",
   "execution_count": 55,
   "id": "24f09e83",
   "metadata": {},
   "outputs": [
    {
     "data": {
      "image/svg+xml": [
       "<?xml version=\"1.0\" encoding=\"UTF-8\" standalone=\"no\"?>\n",
       "<!DOCTYPE svg PUBLIC \"-//W3C//DTD SVG 1.1//EN\"\n",
       " \"http://www.w3.org/Graphics/SVG/1.1/DTD/svg11.dtd\">\n",
       "<!-- Generated by graphviz version 2.43.0 (0)\n",
       " -->\n",
       "<!-- Title: NFA Pages: 1 -->\n",
       "<svg width=\"581pt\" height=\"877pt\"\n",
       " viewBox=\"0.00 0.00 580.98 876.50\" xmlns=\"http://www.w3.org/2000/svg\" xmlns:xlink=\"http://www.w3.org/1999/xlink\">\n",
       "<g id=\"graph0\" class=\"graph\" transform=\"scale(1 1) rotate(0) translate(4 872.5)\">\n",
       "<title>NFA</title>\n",
       "<polygon fill=\"white\" stroke=\"transparent\" points=\"-4,4 -4,-872.5 576.98,-872.5 576.98,4 -4,4\"/>\n",
       "<!-- q4 -->\n",
       "<g id=\"node1\" class=\"node\">\n",
       "<title>q4</title>\n",
       "<ellipse fill=\"none\" stroke=\"black\" cx=\"60.75\" cy=\"-360\" rx=\"23\" ry=\"23\"/>\n",
       "<text text-anchor=\"middle\" x=\"60.75\" y=\"-356.3\" font-family=\"Times,serif\" font-size=\"14.00\">q4</text>\n",
       "</g>\n",
       "<!-- q1 -->\n",
       "<g id=\"node3\" class=\"node\">\n",
       "<title>q1</title>\n",
       "<ellipse fill=\"none\" stroke=\"black\" cx=\"156.24\" cy=\"-423\" rx=\"22.96\" ry=\"22.96\"/>\n",
       "<ellipse fill=\"none\" stroke=\"black\" cx=\"156.24\" cy=\"-423\" rx=\"27\" ry=\"27\"/>\n",
       "<text text-anchor=\"middle\" x=\"156.24\" y=\"-419.3\" font-family=\"Times,serif\" font-size=\"14.00\">q1</text>\n",
       "</g>\n",
       "<!-- q4&#45;&gt;q1 -->\n",
       "<g id=\"edge20\" class=\"edge\">\n",
       "<title>q4&#45;&gt;q1</title>\n",
       "<path fill=\"none\" stroke=\"black\" d=\"M80.22,-372.45C93.03,-381.08 110.38,-392.77 125.17,-402.74\"/>\n",
       "<polygon fill=\"black\" stroke=\"black\" points=\"123.28,-405.68 133.53,-408.37 127.19,-399.88 123.28,-405.68\"/>\n",
       "<text text-anchor=\"middle\" x=\"106.5\" y=\"-397.8\" font-family=\"Times,serif\" font-size=\"14.00\">1</text>\n",
       "</g>\n",
       "<!-- q4&#45;&gt;q1 -->\n",
       "<g id=\"edge22\" class=\"edge\">\n",
       "<title>q4&#45;&gt;q1</title>\n",
       "<path fill=\"none\" stroke=\"black\" d=\"M83.69,-357.36C92.79,-357.24 103.15,-358.43 111.5,-363 122.81,-369.19 131.96,-379.69 138.91,-390.2\"/>\n",
       "<polygon fill=\"black\" stroke=\"black\" points=\"136.04,-392.22 144.23,-398.94 142.01,-388.58 136.04,-392.22\"/>\n",
       "<text text-anchor=\"middle\" x=\"106.5\" y=\"-366.8\" font-family=\"Times,serif\" font-size=\"14.00\">0</text>\n",
       "</g>\n",
       "<!-- q2 -->\n",
       "<g id=\"node5\" class=\"node\">\n",
       "<title>q2</title>\n",
       "<ellipse fill=\"none\" stroke=\"black\" cx=\"546.23\" cy=\"-599\" rx=\"22.96\" ry=\"22.96\"/>\n",
       "<ellipse fill=\"none\" stroke=\"black\" cx=\"546.23\" cy=\"-599\" rx=\"27\" ry=\"27\"/>\n",
       "<text text-anchor=\"middle\" x=\"546.23\" y=\"-595.3\" font-family=\"Times,serif\" font-size=\"14.00\">q2</text>\n",
       "</g>\n",
       "<!-- q4&#45;&gt;q2 -->\n",
       "<g id=\"edge23\" class=\"edge\">\n",
       "<title>q4&#45;&gt;q2</title>\n",
       "<path fill=\"none\" stroke=\"black\" d=\"M62.73,-337.21C66.76,-258.07 85.26,0 155.24,0 155.24,0 155.24,0 447.73,0 504.93,0 535.24,-430.97 543.12,-561.79\"/>\n",
       "<polygon fill=\"black\" stroke=\"black\" points=\"539.65,-562.32 543.74,-572.1 546.64,-561.91 539.65,-562.32\"/>\n",
       "<text text-anchor=\"middle\" x=\"297.49\" y=\"-3.8\" font-family=\"Times,serif\" font-size=\"14.00\">0</text>\n",
       "</g>\n",
       "<!-- q0 -->\n",
       "<g id=\"node7\" class=\"node\">\n",
       "<title>q0</title>\n",
       "<ellipse fill=\"none\" stroke=\"black\" cx=\"446.73\" cy=\"-469\" rx=\"22.96\" ry=\"22.96\"/>\n",
       "<ellipse fill=\"none\" stroke=\"black\" cx=\"446.73\" cy=\"-469\" rx=\"27\" ry=\"27\"/>\n",
       "<text text-anchor=\"middle\" x=\"446.73\" y=\"-465.3\" font-family=\"Times,serif\" font-size=\"14.00\">q0</text>\n",
       "</g>\n",
       "<!-- q4&#45;&gt;q0 -->\n",
       "<g id=\"edge19\" class=\"edge\">\n",
       "<title>q4&#45;&gt;q0</title>\n",
       "<path fill=\"none\" stroke=\"black\" d=\"M65.11,-337.64C75.02,-275.96 106.48,-108 155.24,-108 155.24,-108 155.24,-108 348.24,-108 414.89,-108 437.34,-340.25 443.62,-432.18\"/>\n",
       "<polygon fill=\"black\" stroke=\"black\" points=\"440.13,-432.41 444.27,-442.16 447.11,-431.95 440.13,-432.41\"/>\n",
       "<text text-anchor=\"middle\" x=\"251.74\" y=\"-111.8\" font-family=\"Times,serif\" font-size=\"14.00\">1</text>\n",
       "</g>\n",
       "<!-- q3 -->\n",
       "<g id=\"node9\" class=\"node\">\n",
       "<title>q3</title>\n",
       "<ellipse fill=\"none\" stroke=\"black\" cx=\"347.24\" cy=\"-672\" rx=\"22.96\" ry=\"22.96\"/>\n",
       "<ellipse fill=\"none\" stroke=\"black\" cx=\"347.24\" cy=\"-672\" rx=\"27\" ry=\"27\"/>\n",
       "<text text-anchor=\"middle\" x=\"347.24\" y=\"-668.3\" font-family=\"Times,serif\" font-size=\"14.00\">q3</text>\n",
       "</g>\n",
       "<!-- q4&#45;&gt;q3 -->\n",
       "<g id=\"edge21\" class=\"edge\">\n",
       "<title>q4&#45;&gt;q3</title>\n",
       "<path fill=\"none\" stroke=\"black\" d=\"M65.04,-382.44C71.48,-419.6 88.88,-494.61 129.5,-543 179.7,-602.81 265.12,-641.89 312.34,-660.09\"/>\n",
       "<polygon fill=\"black\" stroke=\"black\" points=\"311.22,-663.41 321.81,-663.66 313.69,-656.86 311.22,-663.41\"/>\n",
       "<text text-anchor=\"middle\" x=\"205.99\" y=\"-613.8\" font-family=\"Times,serif\" font-size=\"14.00\">1</text>\n",
       "</g>\n",
       "<!-- q4_init -->\n",
       "<g id=\"node2\" class=\"node\">\n",
       "<title>q4_init</title>\n",
       "</g>\n",
       "<!-- q4_init&#45;&gt;q4 -->\n",
       "<g id=\"edge1\" class=\"edge\">\n",
       "<title>q4_init&#45;&gt;q4</title>\n",
       "<path fill=\"none\" stroke=\"black\" d=\"M1.17,-360C2.72,-360 14.74,-360 27.49,-360\"/>\n",
       "<polygon fill=\"black\" stroke=\"black\" points=\"27.68,-363.5 37.68,-360 27.68,-356.5 27.68,-363.5\"/>\n",
       "</g>\n",
       "<!-- q5 -->\n",
       "<g id=\"node6\" class=\"node\">\n",
       "<title>q5</title>\n",
       "<ellipse fill=\"none\" stroke=\"black\" cx=\"251.74\" cy=\"-510\" rx=\"23\" ry=\"23\"/>\n",
       "<text text-anchor=\"middle\" x=\"251.74\" y=\"-506.3\" font-family=\"Times,serif\" font-size=\"14.00\">q5</text>\n",
       "</g>\n",
       "<!-- q1&#45;&gt;q5 -->\n",
       "<g id=\"edge9\" class=\"edge\">\n",
       "<title>q1&#45;&gt;q5</title>\n",
       "<path fill=\"none\" stroke=\"black\" d=\"M176.62,-441.03C191.19,-454.59 211.25,-473.25 226.82,-487.75\"/>\n",
       "<polygon fill=\"black\" stroke=\"black\" points=\"224.8,-490.65 234.51,-494.9 229.57,-485.52 224.8,-490.65\"/>\n",
       "<text text-anchor=\"middle\" x=\"205.99\" y=\"-474.8\" font-family=\"Times,serif\" font-size=\"14.00\">1</text>\n",
       "</g>\n",
       "<!-- q1&#45;&gt;q5 -->\n",
       "<g id=\"edge10\" class=\"edge\">\n",
       "<title>q1&#45;&gt;q5</title>\n",
       "<path fill=\"none\" stroke=\"black\" d=\"M182.65,-428.04C192.3,-430.91 202.91,-435.32 210.99,-442 223.03,-451.96 232.25,-466.57 238.75,-479.7\"/>\n",
       "<polygon fill=\"black\" stroke=\"black\" points=\"235.64,-481.31 243.02,-488.92 241.99,-478.37 235.64,-481.31\"/>\n",
       "<text text-anchor=\"middle\" x=\"205.99\" y=\"-445.8\" font-family=\"Times,serif\" font-size=\"14.00\">0</text>\n",
       "</g>\n",
       "<!-- q1_init -->\n",
       "<g id=\"node4\" class=\"node\">\n",
       "<title>q1_init</title>\n",
       "</g>\n",
       "<!-- q1_init&#45;&gt;q1 -->\n",
       "<g id=\"edge2\" class=\"edge\">\n",
       "<title>q1_init&#45;&gt;q1</title>\n",
       "<path fill=\"none\" stroke=\"black\" d=\"M61.77,-867.92C62.95,-862.28 125.67,-563.76 147.7,-458.92\"/>\n",
       "<polygon fill=\"black\" stroke=\"black\" points=\"151.13,-459.62 149.76,-449.11 144.28,-458.18 151.13,-459.62\"/>\n",
       "</g>\n",
       "<!-- q2&#45;&gt;q1 -->\n",
       "<g id=\"edge11\" class=\"edge\">\n",
       "<title>q2&#45;&gt;q1</title>\n",
       "<path fill=\"none\" stroke=\"black\" d=\"M544.17,-572.07C540.04,-484.89 521.32,-216 447.73,-216 250.74,-216 250.74,-216 250.74,-216 169.82,-216 220.96,-313.54 182.99,-385 181.54,-387.73 179.94,-390.5 178.27,-393.24\"/>\n",
       "<polygon fill=\"black\" stroke=\"black\" points=\"175.23,-391.49 172.78,-401.8 181.13,-395.27 175.23,-391.49\"/>\n",
       "<text text-anchor=\"middle\" x=\"347.24\" y=\"-219.8\" font-family=\"Times,serif\" font-size=\"14.00\">1</text>\n",
       "</g>\n",
       "<!-- q2&#45;&gt;q5 -->\n",
       "<g id=\"edge13\" class=\"edge\">\n",
       "<title>q2&#45;&gt;q5</title>\n",
       "<path fill=\"none\" stroke=\"black\" d=\"M543.81,-625.86C539.97,-666.85 525.78,-743.29 473.48,-772 413.42,-804.97 370.17,-800.18 320.49,-753 261.81,-697.28 252.54,-595.4 251.93,-543.03\"/>\n",
       "<polygon fill=\"black\" stroke=\"black\" points=\"255.43,-542.93 251.91,-532.94 248.43,-542.94 255.43,-542.93\"/>\n",
       "<text text-anchor=\"middle\" x=\"396.98\" y=\"-796.8\" font-family=\"Times,serif\" font-size=\"14.00\">0</text>\n",
       "</g>\n",
       "<!-- q2&#45;&gt;q3 -->\n",
       "<g id=\"edge12\" class=\"edge\">\n",
       "<title>q2&#45;&gt;q3</title>\n",
       "<path fill=\"none\" stroke=\"black\" d=\"M526.98,-617.74C501.63,-642.27 453.1,-684.01 401.98,-700 392.99,-702.81 383.7,-700.23 375.44,-695.68\"/>\n",
       "<polygon fill=\"black\" stroke=\"black\" points=\"377.22,-692.66 366.93,-690.13 373.4,-698.53 377.22,-692.66\"/>\n",
       "<text text-anchor=\"middle\" x=\"446.73\" y=\"-695.8\" font-family=\"Times,serif\" font-size=\"14.00\">1</text>\n",
       "</g>\n",
       "<!-- q2&#45;&gt;q3 -->\n",
       "<g id=\"edge14\" class=\"edge\">\n",
       "<title>q2&#45;&gt;q3</title>\n",
       "<path fill=\"none\" stroke=\"black\" d=\"M519.92,-605.75C494.36,-612.83 453.93,-624.75 419.98,-638 406.91,-643.1 392.89,-649.52 380.75,-655.41\"/>\n",
       "<polygon fill=\"black\" stroke=\"black\" points=\"378.89,-652.42 371.46,-659.97 381.98,-658.7 378.89,-652.42\"/>\n",
       "<text text-anchor=\"middle\" x=\"446.73\" y=\"-641.8\" font-family=\"Times,serif\" font-size=\"14.00\">0</text>\n",
       "</g>\n",
       "<!-- q5&#45;&gt;q4 -->\n",
       "<g id=\"edge24\" class=\"edge\">\n",
       "<title>q5&#45;&gt;q4</title>\n",
       "<path fill=\"none\" stroke=\"black\" d=\"M231.79,-521.94C222.49,-526.32 211.13,-529.45 200.99,-526 163.04,-513.09 156.28,-500.83 129.5,-471 107.23,-446.19 88.11,-413.08 75.91,-389.49\"/>\n",
       "<polygon fill=\"black\" stroke=\"black\" points=\"78.92,-387.67 71.28,-380.33 72.67,-390.83 78.92,-387.67\"/>\n",
       "<text text-anchor=\"middle\" x=\"156.24\" y=\"-521.8\" font-family=\"Times,serif\" font-size=\"14.00\">1</text>\n",
       "</g>\n",
       "<!-- q5&#45;&gt;q4 -->\n",
       "<g id=\"edge27\" class=\"edge\">\n",
       "<title>q5&#45;&gt;q4</title>\n",
       "<path fill=\"none\" stroke=\"black\" d=\"M248.44,-487.4C243.49,-452.47 228.33,-386.62 182.99,-360 162.87,-348.18 130.31,-346.43 101.5,-350 98.65,-350.35 95.71,-350.84 92.79,-351.42\"/>\n",
       "<polygon fill=\"black\" stroke=\"black\" points=\"92,-348.01 83.02,-353.62 93.54,-354.83 92,-348.01\"/>\n",
       "<text text-anchor=\"middle\" x=\"156.24\" y=\"-363.8\" font-family=\"Times,serif\" font-size=\"14.00\">0</text>\n",
       "</g>\n",
       "<!-- q5&#45;&gt;q1 -->\n",
       "<g id=\"edge25\" class=\"edge\">\n",
       "<title>q5&#45;&gt;q1</title>\n",
       "<path fill=\"none\" stroke=\"black\" d=\"M248.85,-487.2C245.53,-463.41 236.34,-427.2 210.99,-410 204.58,-405.65 196.88,-405.33 189.33,-406.94\"/>\n",
       "<polygon fill=\"black\" stroke=\"black\" points=\"188.12,-403.65 179.62,-409.98 190.21,-410.33 188.12,-403.65\"/>\n",
       "<text text-anchor=\"middle\" x=\"205.99\" y=\"-413.8\" font-family=\"Times,serif\" font-size=\"14.00\">1</text>\n",
       "</g>\n",
       "<!-- q5&#45;&gt;q1 -->\n",
       "<g id=\"edge28\" class=\"edge\">\n",
       "<title>q5&#45;&gt;q1</title>\n",
       "<path fill=\"none\" stroke=\"black\" d=\"M228.8,-507.49C219.5,-505.54 208.98,-502.1 200.99,-496 188.02,-486.09 178.1,-471.13 171.01,-457.33\"/>\n",
       "<polygon fill=\"black\" stroke=\"black\" points=\"174.03,-455.54 166.55,-448.04 167.72,-458.57 174.03,-455.54\"/>\n",
       "<text text-anchor=\"middle\" x=\"205.99\" y=\"-504.8\" font-family=\"Times,serif\" font-size=\"14.00\">0</text>\n",
       "</g>\n",
       "<!-- q5&#45;&gt;q3 -->\n",
       "<g id=\"edge26\" class=\"edge\">\n",
       "<title>q5&#45;&gt;q3</title>\n",
       "<path fill=\"none\" stroke=\"black\" d=\"M259.6,-531.44C266.46,-551.47 278.07,-581.83 292.49,-606 300.73,-619.82 311.69,-633.82 321.55,-645.35\"/>\n",
       "<polygon fill=\"black\" stroke=\"black\" points=\"318.94,-647.68 328.16,-652.9 324.21,-643.07 318.94,-647.68\"/>\n",
       "<text text-anchor=\"middle\" x=\"297.49\" y=\"-622.8\" font-family=\"Times,serif\" font-size=\"14.00\">1</text>\n",
       "</g>\n",
       "<!-- q0&#45;&gt;q1 -->\n",
       "<g id=\"edge5\" class=\"edge\">\n",
       "<title>q0&#45;&gt;q1</title>\n",
       "<path fill=\"none\" stroke=\"black\" d=\"M423.56,-455.41C416.8,-451.66 409.24,-447.85 401.98,-445 320.51,-413.02 297.85,-407.75 210.99,-397 206.58,-396.45 205.28,-395.82 200.99,-397 196.34,-398.28 191.68,-400.2 187.23,-402.42\"/>\n",
       "<polygon fill=\"black\" stroke=\"black\" points=\"185.48,-399.39 178.45,-407.31 188.89,-405.5 185.48,-399.39\"/>\n",
       "<text text-anchor=\"middle\" x=\"297.49\" y=\"-415.8\" font-family=\"Times,serif\" font-size=\"14.00\">0</text>\n",
       "</g>\n",
       "<!-- q0&#45;&gt;q2 -->\n",
       "<g id=\"edge7\" class=\"edge\">\n",
       "<title>q0&#45;&gt;q2</title>\n",
       "<path fill=\"none\" stroke=\"black\" d=\"M463.61,-490.18C479.83,-511.8 505.13,-545.54 523.27,-569.72\"/>\n",
       "<polygon fill=\"black\" stroke=\"black\" points=\"520.55,-571.93 529.35,-577.83 526.15,-567.73 520.55,-571.93\"/>\n",
       "<text text-anchor=\"middle\" x=\"496.48\" y=\"-540.8\" font-family=\"Times,serif\" font-size=\"14.00\">1</text>\n",
       "</g>\n",
       "<!-- q0&#45;&gt;q5 -->\n",
       "<g id=\"edge4\" class=\"edge\">\n",
       "<title>q0&#45;&gt;q5</title>\n",
       "<path fill=\"none\" stroke=\"black\" d=\"M420.28,-474.41C385.21,-481.86 322.07,-495.27 284.12,-503.33\"/>\n",
       "<polygon fill=\"black\" stroke=\"black\" points=\"283.19,-499.95 274.13,-505.46 284.64,-506.8 283.19,-499.95\"/>\n",
       "<text text-anchor=\"middle\" x=\"347.24\" y=\"-498.8\" font-family=\"Times,serif\" font-size=\"14.00\">0</text>\n",
       "</g>\n",
       "<!-- q0&#45;&gt;q5 -->\n",
       "<g id=\"edge6\" class=\"edge\">\n",
       "<title>q0&#45;&gt;q5</title>\n",
       "<path fill=\"none\" stroke=\"black\" d=\"M421.03,-461.41C395.25,-454.78 354,-447.8 320.49,-459 303.65,-464.63 287.64,-476.27 275.42,-487.01\"/>\n",
       "<polygon fill=\"black\" stroke=\"black\" points=\"272.96,-484.52 267.96,-493.87 277.69,-489.68 272.96,-484.52\"/>\n",
       "<text text-anchor=\"middle\" x=\"347.24\" y=\"-462.8\" font-family=\"Times,serif\" font-size=\"14.00\">1</text>\n",
       "</g>\n",
       "<!-- q0&#45;&gt;q3 -->\n",
       "<g id=\"edge8\" class=\"edge\">\n",
       "<title>q0&#45;&gt;q3</title>\n",
       "<path fill=\"none\" stroke=\"black\" d=\"M432.43,-491.61C421.1,-511.24 404.68,-540.59 391.98,-567 380.83,-590.2 369.69,-617 361.44,-637.71\"/>\n",
       "<polygon fill=\"black\" stroke=\"black\" points=\"358.17,-636.47 357.76,-647.06 364.68,-639.04 358.17,-636.47\"/>\n",
       "<text text-anchor=\"middle\" x=\"396.98\" y=\"-570.8\" font-family=\"Times,serif\" font-size=\"14.00\">1</text>\n",
       "</g>\n",
       "<!-- q0_init -->\n",
       "<g id=\"node8\" class=\"node\">\n",
       "<title>q0_init</title>\n",
       "</g>\n",
       "<!-- q0_init&#45;&gt;q0 -->\n",
       "<g id=\"edge3\" class=\"edge\">\n",
       "<title>q0_init&#45;&gt;q0</title>\n",
       "<path fill=\"none\" stroke=\"black\" d=\"M348.31,-563.93C350.24,-562.04 391.59,-521.76 419.79,-494.28\"/>\n",
       "<polygon fill=\"black\" stroke=\"black\" points=\"422.28,-496.74 427,-487.25 417.39,-491.73 422.28,-496.74\"/>\n",
       "</g>\n",
       "<!-- q3&#45;&gt;q2 -->\n",
       "<g id=\"edge17\" class=\"edge\">\n",
       "<title>q3&#45;&gt;q2</title>\n",
       "<path fill=\"none\" stroke=\"black\" d=\"M358.91,-696.08C366.17,-709.29 377.16,-724.46 391.98,-732 412.6,-742.48 389.16,-772.66 473.48,-717 503.06,-697.47 522.41,-661.14 533.47,-633.93\"/>\n",
       "<polygon fill=\"black\" stroke=\"black\" points=\"536.83,-634.96 537.18,-624.37 530.3,-632.43 536.83,-634.96\"/>\n",
       "<text text-anchor=\"middle\" x=\"446.73\" y=\"-750.8\" font-family=\"Times,serif\" font-size=\"14.00\">0</text>\n",
       "</g>\n",
       "<!-- q3&#45;&gt;q5 -->\n",
       "<g id=\"edge15\" class=\"edge\">\n",
       "<title>q3&#45;&gt;q5</title>\n",
       "<path fill=\"none\" stroke=\"black\" d=\"M335.1,-647.96C326.68,-630.26 314.54,-605.76 302.49,-585 292.88,-568.44 281.07,-550.54 271.36,-536.39\"/>\n",
       "<polygon fill=\"black\" stroke=\"black\" points=\"274.2,-534.34 265.63,-528.1 268.44,-538.32 274.2,-534.34\"/>\n",
       "<text text-anchor=\"middle\" x=\"297.49\" y=\"-588.8\" font-family=\"Times,serif\" font-size=\"14.00\">1</text>\n",
       "</g>\n",
       "<!-- q3&#45;&gt;q0 -->\n",
       "<g id=\"edge16\" class=\"edge\">\n",
       "<title>q3&#45;&gt;q0</title>\n",
       "<path fill=\"none\" stroke=\"black\" d=\"M363.73,-650.66C375.28,-634.12 390.9,-610.33 401.98,-588 409.5,-572.85 423.75,-533.03 433.95,-503.6\"/>\n",
       "<polygon fill=\"black\" stroke=\"black\" points=\"437.28,-504.66 437.23,-494.07 430.66,-502.38 437.28,-504.66\"/>\n",
       "<text text-anchor=\"middle\" x=\"396.98\" y=\"-607.8\" font-family=\"Times,serif\" font-size=\"14.00\">1</text>\n",
       "</g>\n",
       "<!-- q3&#45;&gt;q3 -->\n",
       "<g id=\"edge18\" class=\"edge\">\n",
       "<title>q3&#45;&gt;q3</title>\n",
       "<path fill=\"none\" stroke=\"black\" d=\"M339.61,-697.75C336.35,-719.27 338.89,-741.75 347.24,-741.75 354.28,-741.75 357.19,-725.74 355.97,-707.82\"/>\n",
       "<polygon fill=\"black\" stroke=\"black\" points=\"359.43,-707.31 354.86,-697.75 352.47,-708.08 359.43,-707.31\"/>\n",
       "<text text-anchor=\"middle\" x=\"347.24\" y=\"-745.55\" font-family=\"Times,serif\" font-size=\"14.00\">1,0</text>\n",
       "</g>\n",
       "</g>\n",
       "</svg>\n"
      ],
      "text/plain": [
       "<graphviz.dot.Digraph at 0x7f2bbd43afd0>"
      ]
     },
     "execution_count": 55,
     "metadata": {},
     "output_type": "execute_result"
    }
   ],
   "source": [
    "nfa.plot()"
   ]
  },
  {
   "cell_type": "code",
   "execution_count": 23,
   "id": "5044548a",
   "metadata": {},
   "outputs": [],
   "source": [
    "nfa.transitions"
   ]
  },
  {
   "cell_type": "code",
   "execution_count": 30,
   "id": "2a580de1",
   "metadata": {},
   "outputs": [
    {
     "data": {
      "text/plain": [
       "{'q0', 'q1', 'q4'}"
      ]
     },
     "execution_count": 30,
     "metadata": {},
     "output_type": "execute_result"
    }
   ],
   "source": [
    "nfa.final_states"
   ]
  },
  {
   "cell_type": "code",
   "execution_count": null,
   "id": "01abcb71",
   "metadata": {},
   "outputs": [],
   "source": []
  }
 ],
 "metadata": {
  "interpreter": {
   "hash": "0602504454f0638c3c0ff967dc00c81d73b297792cfa3e9f03f5a76d8a2b245a"
  },
  "kernelspec": {
   "display_name": "Python 3 (ipykernel)",
   "language": "python",
   "name": "python3"
  },
  "language_info": {
   "codemirror_mode": {
    "name": "ipython",
    "version": 3
   },
   "file_extension": ".py",
   "mimetype": "text/x-python",
   "name": "python",
   "nbconvert_exporter": "python",
   "pygments_lexer": "ipython3",
   "version": "3.8.10"
  }
 },
 "nbformat": 4,
 "nbformat_minor": 5
}
