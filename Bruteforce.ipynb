{
 "cells": [
  {
   "cell_type": "code",
   "execution_count": 1,
   "id": "1c43d342",
   "metadata": {},
   "outputs": [],
   "source": [
    "import math\n",
    "import time\n",
    "import pickle\n",
    "from random import randint, random\n",
    "from multiprocessing import Pool, TimeoutError\n",
    "\n",
    "import numpy as np\n",
    "import scipy\n",
    "import pandas as pd\n",
    "import seaborn as sns\n",
    "import matplotlib.pyplot as plt\n",
    "from tqdm.auto import tqdm as tqdm\n",
    "from IPython.display import clear_output\n",
    "from nfa_lib import NFA, count_nfa\n",
    "\n",
    "sns.set()\n"
   ]
  },
  {
   "cell_type": "code",
   "execution_count": 2,
   "id": "8fde9d1d",
   "metadata": {},
   "outputs": [],
   "source": [
    "nfa = NFA(\n",
    "    states={'q0', 'q1', 'q2', 'q3', 'q4', 'q5', 'q6'},\n",
    "    input_symbols={'0', '1'},\n",
    "    transitions={\n",
    "        'q0': {'0': {'q1'}, '1': {'q3'}},\n",
    "        'q1': {'0': {'q2'}},\n",
    "        'q2': {'0': {'q0'}, '1': {'q3'}},\n",
    "        'q3': {'0': {'q4'}},\n",
    "        'q4': {'0': {'q5'}},\n",
    "        'q5': {'0': {'q3'}},\n",
    "        'q6': {'1': {'q4'}},\n",
    "    },\n",
    "    initial_states={'q0', 'q1', 'q5', 'q6'},\n",
    "    final_states={'q2', 'q4', 'q6'}\n",
    ")"
   ]
  },
  {
   "cell_type": "code",
   "execution_count": 3,
   "id": "d39849f7",
   "metadata": {},
   "outputs": [
    {
     "data": {
      "text/plain": [
       "2"
      ]
     },
     "execution_count": 3,
     "metadata": {},
     "output_type": "execute_result"
    }
   ],
   "source": [
    "nfa.cycle_height()"
   ]
  },
  {
   "cell_type": "code",
   "execution_count": 8,
   "id": "77c4226d",
   "metadata": {},
   "outputs": [],
   "source": [
    "nfa = NFA(\n",
    "    states={'q0', 'q1', 'q2', 'q3'},\n",
    "    input_symbols={'0', '1'},\n",
    "    transitions={\n",
    "        'q0': {'0': {'q1', 'q2'}},\n",
    "        'q1': {'0': {'q1', 'q3'}},\n",
    "        'q2': {'0': {'q3'}, '1': {'q2'} },\n",
    "        'q3': {'0': {'q3'}},\n",
    "    },\n",
    "    initial_states={'q0'},\n",
    "    final_states={'q3'}\n",
    ")"
   ]
  },
  {
   "cell_type": "code",
   "execution_count": null,
   "id": "66dcd996",
   "metadata": {},
   "outputs": [],
   "source": [
    "nfa = NFA(\n",
    "    states={'q0', 'q1', 'q2'},\n",
    "    input_symbols={'0', '1'},\n",
    "    transitions={\n",
    "        'q0': {'0': {'q1'}},\n",
    "        'q1': {'1': {'q2'}},\n",
    "        'q2': {'1': {'q0'}}\n",
    "    },\n",
    "    initial_states={'q0'},\n",
    "    final_states={'q1'}\n",
    ")"
   ]
  },
  {
   "cell_type": "code",
   "execution_count": 13,
   "id": "348c5eaf",
   "metadata": {
    "scrolled": true
   },
   "outputs": [
    {
     "name": "stderr",
     "output_type": "stream",
     "text": [
      "100%|██████████| 1048576/1048576 [00:06<00:00, 166056.87it/s]"
     ]
    },
    {
     "name": "stdout",
     "output_type": "stream",
     "text": [
      "CPU times: user 6.32 s, sys: 15.8 ms, total: 6.33 s\n",
      "Wall time: 6.32 s\n"
     ]
    },
    {
     "name": "stderr",
     "output_type": "stream",
     "text": [
      "\n"
     ]
    },
    {
     "data": {
      "text/plain": [
       "8"
      ]
     },
     "execution_count": 13,
     "metadata": {},
     "output_type": "execute_result"
    }
   ],
   "source": [
    "%%time\n",
    "nfa.bruteforce_count_only(20)"
   ]
  },
  {
   "cell_type": "code",
   "execution_count": null,
   "id": "51b1dfd2",
   "metadata": {},
   "outputs": [],
   "source": [
    "nfa.plot()"
   ]
  },
  {
   "cell_type": "code",
   "execution_count": null,
   "id": "dbd2f2d1",
   "metadata": {
    "scrolled": true
   },
   "outputs": [],
   "source": [
    "count, nfa_unroll = count_nfa(nfa, 55, 1500)\n",
    "count"
   ]
  },
  {
   "cell_type": "code",
   "execution_count": null,
   "id": "af8254aa",
   "metadata": {},
   "outputs": [],
   "source": [
    "x = np.array([1.,2.,3.])\n"
   ]
  },
  {
   "cell_type": "code",
   "execution_count": null,
   "id": "0e35b9bf",
   "metadata": {},
   "outputs": [],
   "source": [
    "print(nfa.plot().source)\n",
    "nfa.plot()"
   ]
  },
  {
   "cell_type": "markdown",
   "id": "0d20c1ee",
   "metadata": {},
   "source": [
    "# Experimentos estadísticos"
   ]
  },
  {
   "cell_type": "code",
   "execution_count": null,
   "id": "f71dc4e6",
   "metadata": {},
   "outputs": [],
   "source": [
    "nfa = NFA(\n",
    "    states={'q0', 'q1', 'q2'},\n",
    "    input_symbols={'0', '1'},\n",
    "    transitions={\n",
    "        'q0': {'0': {'q1'}},\n",
    "        # Use '' as the key name for empty string (lambda/epsilon) transitions\n",
    "        'q1': {\n",
    "            #'0': {'q1'},\n",
    "            '1': {'q0', 'q2'}},\n",
    "        'q2': {\n",
    "            '1': {'q0'}\n",
    "        }\n",
    "    },\n",
    "    initial_states={'q0'},\n",
    "    final_states={'q1'}\n",
    ")"
   ]
  },
  {
   "cell_type": "code",
   "execution_count": null,
   "id": "f5c351db",
   "metadata": {
    "scrolled": true
   },
   "outputs": [],
   "source": [
    "%%time\n",
    "data = [(i,nfa.bruteforce_count_only(i)/2**i) for i in range(1, 25)]"
   ]
  },
  {
   "cell_type": "code",
   "execution_count": null,
   "id": "d39795e6",
   "metadata": {
    "scrolled": false
   },
   "outputs": [],
   "source": [
    "log_data = [(i, math.log(max(1, nfa.bruteforce_count_only(i)))) for i in range(1, 24)]"
   ]
  },
  {
   "cell_type": "code",
   "execution_count": 38,
   "id": "aa8da4df",
   "metadata": {},
   "outputs": [],
   "source": [
    "df = pd.DataFrame(log_data, columns=[\"i\", \"frac\"])"
   ]
  },
  {
   "cell_type": "code",
   "execution_count": 39,
   "id": "2726c943",
   "metadata": {
    "scrolled": true
   },
   "outputs": [
    {
     "data": {
      "text/plain": [
       "<AxesSubplot:xlabel='i'>"
      ]
     },
     "execution_count": 39,
     "metadata": {},
     "output_type": "execute_result"
    },
    {
     "data": {
      "image/png": "[encoded data removed]",
      "text/plain": [
       "<Figure size 432x288 with 1 Axes>"
      ]
     },
     "metadata": {},
     "output_type": "display_data"
    }
   ],
   "source": [
    "df.plot(x=\"i\", y=\"frac\")"
   ]
  },
  {
   "cell_type": "code",
   "execution_count": 20,
   "id": "4b364b19",
   "metadata": {},
   "outputs": [
    {
     "data": {
      "text/html": [
       "<div>\n",
       "<style scoped>\n",
       "    .dataframe tbody tr th:only-of-type {\n",
       "        vertical-align: middle;\n",
       "    }\n",
       "\n",
       "    .dataframe tbody tr th {\n",
       "        vertical-align: top;\n",
       "    }\n",
       "\n",
       "    .dataframe thead th {\n",
       "        text-align: right;\n",
       "    }\n",
       "</style>\n",
       "<table border=\"1\" class=\"dataframe\">\n",
       "  <thead>\n",
       "    <tr style=\"text-align: right;\">\n",
       "      <th></th>\n",
       "      <th>i</th>\n",
       "      <th>frac</th>\n",
       "    </tr>\n",
       "  </thead>\n",
       "  <tbody>\n",
       "    <tr>\n",
       "      <th>0</th>\n",
       "      <td>1</td>\n",
       "      <td>2</td>\n",
       "    </tr>\n",
       "    <tr>\n",
       "      <th>1</th>\n",
       "      <td>2</td>\n",
       "      <td>2</td>\n",
       "    </tr>\n",
       "    <tr>\n",
       "      <th>2</th>\n",
       "      <td>3</td>\n",
       "      <td>1</td>\n",
       "    </tr>\n",
       "    <tr>\n",
       "      <th>3</th>\n",
       "      <td>4</td>\n",
       "      <td>3</td>\n",
       "    </tr>\n",
       "    <tr>\n",
       "      <th>4</th>\n",
       "      <td>5</td>\n",
       "      <td>3</td>\n",
       "    </tr>\n",
       "    <tr>\n",
       "      <th>5</th>\n",
       "      <td>6</td>\n",
       "      <td>2</td>\n",
       "    </tr>\n",
       "    <tr>\n",
       "      <th>6</th>\n",
       "      <td>7</td>\n",
       "      <td>4</td>\n",
       "    </tr>\n",
       "    <tr>\n",
       "      <th>7</th>\n",
       "      <td>8</td>\n",
       "      <td>4</td>\n",
       "    </tr>\n",
       "    <tr>\n",
       "      <th>8</th>\n",
       "      <td>9</td>\n",
       "      <td>3</td>\n",
       "    </tr>\n",
       "    <tr>\n",
       "      <th>9</th>\n",
       "      <td>10</td>\n",
       "      <td>5</td>\n",
       "    </tr>\n",
       "    <tr>\n",
       "      <th>10</th>\n",
       "      <td>11</td>\n",
       "      <td>5</td>\n",
       "    </tr>\n",
       "    <tr>\n",
       "      <th>11</th>\n",
       "      <td>12</td>\n",
       "      <td>4</td>\n",
       "    </tr>\n",
       "    <tr>\n",
       "      <th>12</th>\n",
       "      <td>13</td>\n",
       "      <td>6</td>\n",
       "    </tr>\n",
       "    <tr>\n",
       "      <th>13</th>\n",
       "      <td>14</td>\n",
       "      <td>6</td>\n",
       "    </tr>\n",
       "    <tr>\n",
       "      <th>14</th>\n",
       "      <td>15</td>\n",
       "      <td>5</td>\n",
       "    </tr>\n",
       "    <tr>\n",
       "      <th>15</th>\n",
       "      <td>16</td>\n",
       "      <td>7</td>\n",
       "    </tr>\n",
       "    <tr>\n",
       "      <th>16</th>\n",
       "      <td>17</td>\n",
       "      <td>7</td>\n",
       "    </tr>\n",
       "    <tr>\n",
       "      <th>17</th>\n",
       "      <td>18</td>\n",
       "      <td>6</td>\n",
       "    </tr>\n",
       "    <tr>\n",
       "      <th>18</th>\n",
       "      <td>19</td>\n",
       "      <td>8</td>\n",
       "    </tr>\n",
       "  </tbody>\n",
       "</table>\n",
       "</div>"
      ],
      "text/plain": [
       "     i  frac\n",
       "0    1     2\n",
       "1    2     2\n",
       "2    3     1\n",
       "3    4     3\n",
       "4    5     3\n",
       "5    6     2\n",
       "6    7     4\n",
       "7    8     4\n",
       "8    9     3\n",
       "9   10     5\n",
       "10  11     5\n",
       "11  12     4\n",
       "12  13     6\n",
       "13  14     6\n",
       "14  15     5\n",
       "15  16     7\n",
       "16  17     7\n",
       "17  18     6\n",
       "18  19     8"
      ]
     },
     "execution_count": 20,
     "metadata": {},
     "output_type": "execute_result"
    }
   ],
   "source": [
    "df"
   ]
  },
  {
   "cell_type": "code",
   "execution_count": null,
   "id": "63710628",
   "metadata": {
    "scrolled": true
   },
   "outputs": [],
   "source": [
    "df[df.i >= 5].plot(x=\"i\", y=\"frac\")"
   ]
  },
  {
   "cell_type": "code",
   "execution_count": null,
   "id": "ee04f677",
   "metadata": {},
   "outputs": [],
   "source": [
    "def fit_function(x, a, b, c):\n",
    "    return a*b**(c*x)"
   ]
  },
  {
   "cell_type": "code",
   "execution_count": null,
   "id": "8f56e35c",
   "metadata": {},
   "outputs": [],
   "source": [
    "predictable_data = df[df.i.between(11,23)]"
   ]
  },
  {
   "cell_type": "code",
   "execution_count": null,
   "id": "b52b7a03",
   "metadata": {
    "scrolled": true
   },
   "outputs": [],
   "source": [
    "x_data = predictable_data.i.values\n",
    "y_data = predictable_data.frac.values\n",
    "popt, pcov = scipy.optimize.curve_fit(fit_function, x_data, y_data, maxfev=1000)"
   ]
  },
  {
   "cell_type": "code",
   "execution_count": null,
   "id": "598f46c8",
   "metadata": {
    "scrolled": false
   },
   "outputs": [],
   "source": [
    "all_data = df[df.i >= 5]\n",
    "all_x_data = all_data.i.values\n",
    "all_y_data = all_data.frac.values\n",
    "\n",
    "fig = plt.plot(all_x_data, fit_function(all_x_data, *popt), label=\"fit\")\n",
    "plt.plot(all_x_data, all_y_data, label=\"real\")\n",
    "plt.legend();\n",
    "plt.title(\"Comparación valores predichos y reales\")\n",
    "plt.gcf().set_size_inches((14,8))"
   ]
  },
  {
   "cell_type": "code",
   "execution_count": null,
   "id": "c97c6294",
   "metadata": {
    "scrolled": false
   },
   "outputs": [],
   "source": [
    "plt.plot(all_x_data, fit_function(all_x_data, *popt) - all_y_data, label=\"fit\")\n",
    "plt.legend();\n",
    "plt.title(\"Residuos\")\n",
    "plt.gcf().set_size_inches((14,8))"
   ]
  },
  {
   "cell_type": "code",
   "execution_count": null,
   "id": "2f43acaa",
   "metadata": {},
   "outputs": [],
   "source": [
    "k = 28\n",
    "pred_for_k = fit_function(k, *popt) * 2**k\n",
    "pred_for_k"
   ]
  },
  {
   "cell_type": "code",
   "execution_count": null,
   "id": "b8d01bc7",
   "metadata": {},
   "outputs": [],
   "source": [
    "[(k,int(fit_function(k, *popt) * 2**k)) for k in range(6,28)]"
   ]
  },
  {
   "cell_type": "code",
   "execution_count": null,
   "id": "fd5c2976",
   "metadata": {},
   "outputs": [],
   "source": [
    "{{6, 13},\n",
    " {7, 23},\n",
    " {8, 44},\n",
    " {9, 81},\n",
    " {10, 148},\n",
    " {11, 274},\n",
    " {12, 504},\n",
    " {13, 927},\n",
    " {14, 1705}}"
   ]
  },
  {
   "cell_type": "code",
   "execution_count": null,
   "id": "93afcdf5",
   "metadata": {},
   "outputs": [],
   "source": [
    "%%time\n",
    "ground_truth_k = nfa.bruteforce_dfs(k)\n",
    "ground_truth_k"
   ]
  },
  {
   "cell_type": "code",
   "execution_count": null,
   "id": "fa5dae22",
   "metadata": {
    "scrolled": true
   },
   "outputs": [],
   "source": [
    "popt"
   ]
  },
  {
   "cell_type": "code",
   "execution_count": null,
   "id": "9f57c056",
   "metadata": {},
   "outputs": [],
   "source": [
    "# Error relativo!\n",
    "(pred_for_k - ground_truth_k) / ground_truth_k"
   ]
  },
  {
   "cell_type": "code",
   "execution_count": null,
   "id": "826aaca1",
   "metadata": {},
   "outputs": [],
   "source": [
    "# Error relativo!\n",
    "(pred_for_k - ground_truth_k) / ground_truth_k"
   ]
  },
  {
   "cell_type": "markdown",
   "id": "5f2d1465",
   "metadata": {},
   "source": [
    "- https://arxiv.org/pdf/1802.04708.pdf -> si A es acíclico, el lenguaje es finito. De hecho, $L(A) \\subseteq (\\Sigma \\cup \\{\\epsilon\\})^{|Q|}$\n",
    "- En general, para $n < |Q|$ el comportamiento se puede hardcodear, por lo que fuerza bruta o `sketch` son necesarios\n",
    "- http://www.stringology.org/cgi-bin/getfile.cgi?t=pdf&c=-&y=2013&n=03 -> hay un algoritmo $O(|Q|)$ que usa `BFS` y `gcd` para determinar si la densidad del lenguaje es exponencial o polinomial. Se basa en encontrar dos caminos distintos del mismo largo y estado de partida en una componente fuertemente conexa (SCC).\n",
    "    - Hipótesis 1: si el lenguaje tiene densidad exponencial, el gráfico $|L_n(A)|/2^n$ se verá como una constante tras al menos $n=|Q|$. Estimar es trivial para $n \\gg |Q|$, basta retornar esa proporción multiplicada por $2^n$\n",
    "    - Hipótesis 2: si el lenguaje tiene densidad polinomial, el gráfico $|L_n(A)|/2^n$ se verá como una exponencial\n",
    "    decayendo. Se puede fittear una función y aproximar para $n \\gg |Q|$\n",
    "    \n",
    "- [Scholar Kai Salomaa](https://scholar.google.com/citations?hl=es&user=N3AlqdYAAAAJ&view_op=list_works&sortby=pubdate)"
   ]
  },
  {
   "cell_type": "markdown",
   "id": "eae98f5a",
   "metadata": {},
   "source": [
    "Keeler, Salomaa\n",
    "\n",
    "\n",
    "$|L(A)| \\le \\text{ambiguity} \\le \\text{string path width} \\le \\text{tree width}$\n",
    "\n",
    "- **ambiguity**: number of accepting computations of A on a given string\n",
    "- **string path width**: does not count partial computations, only complete (and maybe non-accepting) computations\n",
    "- **tree width**: all computations of A on a given string (even partial ones)"
   ]
  },
  {
   "cell_type": "code",
   "execution_count": null,
   "id": "d1b3fd02",
   "metadata": {},
   "outputs": [],
   "source": [
    "np.random.choice([\"-1\",\"0\",\"1\"], size=(3,3))[1,0]"
   ]
  },
  {
   "cell_type": "code",
   "execution_count": null,
   "id": "95f19879",
   "metadata": {},
   "outputs": [],
   "source": [
    "rand = NFA.random(n_states=5, input_symbols={\"0\", \"1\"}, sparsity=0.5)\n",
    "rand.plot()"
   ]
  },
  {
   "cell_type": "code",
   "execution_count": null,
   "id": "2a0a57e5",
   "metadata": {},
   "outputs": [],
   "source": [
    "rand.bruteforce_count_only(15)"
   ]
  },
  {
   "cell_type": "code",
   "execution_count": null,
   "id": "6b55e766",
   "metadata": {},
   "outputs": [],
   "source": [
    "count, nfa_unroll = count_nfa(rand, 15, 100)\n",
    "count"
   ]
  },
  {
   "cell_type": "code",
   "execution_count": 2,
   "id": "7aeb57db",
   "metadata": {},
   "outputs": [],
   "source": [
    "with open(\"intermediate_stats.pkl\", \"rb\") as fd:\n",
    "    results_stats = pickle.load(fd)\n",
    "        \n",
    "df = pd.DataFrame(results_stats, columns=[\"n_states\", \"initial_states\", \"final_states\", \"transitions\",\n",
    "                                    \"string_n\", \"bruteforce\", \"estimate\", \"eps\", \"time\"])\n",
    "df[\"rel_error\"] = abs(df.estimate - df.bruteforce)/df.bruteforce\n",
    "def instantiate_nfa(df_row):\n",
    "    states = {f\"q{i}\" for i in range(df_row.n_states)}\n",
    "    nfa = NFA(\n",
    "        states=states,\n",
    "        initial_states=df_row.initial_states,\n",
    "        final_states=df_row.final_states,\n",
    "        input_symbols={\"0\", \"1\"},\n",
    "        transitions=df_row.transitions,\n",
    "    )\n",
    "    return nfa"
   ]
  },
  {
   "cell_type": "code",
   "execution_count": null,
   "id": "3a5bcedc",
   "metadata": {
    "scrolled": false
   },
   "outputs": [
    {
     "name": "stdout",
     "output_type": "stream",
     "text": [
      "[0] started\n",
      "[1] started\n",
      "[4] started\n",
      "[5] started\n"
     ]
    },
    {
     "data": {
      "application/vnd.jupyter.widget-view+json": {
       "model_id": "721f803b0d264bc9a82a5fa914ca60ec",
       "version_major": 2,
       "version_minor": 0
      },
      "text/plain": [
       "  0%|          | 0/10 [00:00<?, ?it/s]"
      ]
     },
     "metadata": {},
     "output_type": "display_data"
    },
    {
     "name": "stdout",
     "output_type": "stream",
     "text": [
      "[2] started\n",
      "[3] started\n"
     ]
    },
    {
     "data": {
      "application/vnd.jupyter.widget-view+json": {
       "model_id": "",
       "version_major": 2,
       "version_minor": 0
      },
      "text/plain": [
       "  0%|          | 0/16 [00:00<?, ?it/s]"
      ]
     },
     "metadata": {},
     "output_type": "display_data"
    },
    {
     "data": {
      "application/vnd.jupyter.widget-view+json": {
       "model_id": "",
       "version_major": 2,
       "version_minor": 0
      },
      "text/plain": [
       "  0%|          | 0/16 [00:00<?, ?it/s]"
      ]
     },
     "metadata": {},
     "output_type": "display_data"
    },
    {
     "data": {
      "application/vnd.jupyter.widget-view+json": {
       "model_id": "",
       "version_major": 2,
       "version_minor": 0
      },
      "text/plain": [
       "  0%|          | 0/16 [00:00<?, ?it/s]"
      ]
     },
     "metadata": {},
     "output_type": "display_data"
    },
    {
     "data": {
      "application/vnd.jupyter.widget-view+json": {
       "model_id": "",
       "version_major": 2,
       "version_minor": 0
      },
      "text/plain": [
       "  0%|          | 0/16 [00:00<?, ?it/s]"
      ]
     },
     "metadata": {},
     "output_type": "display_data"
    },
    {
     "name": "stdout",
     "output_type": "stream",
     "text": [
      "Retries per sample 358015\n"
     ]
    },
    {
     "data": {
      "application/vnd.jupyter.widget-view+json": {
       "model_id": "",
       "version_major": 2,
       "version_minor": 0
      },
      "text/plain": [
       "  0%|          | 0/16 [00:00<?, ?it/s]"
      ]
     },
     "metadata": {},
     "output_type": "display_data"
    },
    {
     "name": "stdout",
     "output_type": "stream",
     "text": [
      "Sample size 10496Retries per sample 356414\n",
      "\n",
      "Sample size 10240\n",
      "Retries per sample 314647"
     ]
    },
    {
     "data": {
      "application/vnd.jupyter.widget-view+json": {
       "model_id": "",
       "version_major": 2,
       "version_minor": 0
      },
      "text/plain": [
       "  0%|          | 0/16 [00:00<?, ?it/s]"
      ]
     },
     "metadata": {},
     "output_type": "display_data"
    },
    {
     "name": "stdout",
     "output_type": "stream",
     "text": [
      "\n",
      "Sample size 5376\n",
      "Retries per sample 325948Retries per sample 343945\n",
      "Sample size 8448\n",
      "Retries per sample 354773\n",
      "Sample size 9984\n",
      "\n",
      "Sample size 6400"
     ]
    },
    {
     "data": {
      "application/vnd.jupyter.widget-view+json": {
       "model_id": "775cfdb7a8144d26864380eab4503112",
       "version_major": 2,
       "version_minor": 0
      },
      "text/plain": [
       "Layer:   0%|          | 0/4 [00:00<?, ?it/s]"
      ]
     },
     "metadata": {},
     "output_type": "display_data"
    },
    {
     "name": "stdout",
     "output_type": "stream",
     "text": [
      "\n"
     ]
    },
    {
     "data": {
      "application/vnd.jupyter.widget-view+json": {
       "model_id": "a98831b150d8478e9851934eba98471a",
       "version_major": 2,
       "version_minor": 0
      },
      "text/plain": [
       "Layer:   0%|          | 0/4 [00:00<?, ?it/s]"
      ]
     },
     "metadata": {},
     "output_type": "display_data"
    },
    {
     "data": {
      "application/vnd.jupyter.widget-view+json": {
       "model_id": "58fcb95b5159436d897bff82a21ae925",
       "version_major": 2,
       "version_minor": 0
      },
      "text/plain": [
       "Layer:   0%|          | 0/4 [00:00<?, ?it/s]"
      ]
     },
     "metadata": {},
     "output_type": "display_data"
    },
    {
     "data": {
      "application/vnd.jupyter.widget-view+json": {
       "model_id": "63958bed917e459d99a3bd3dedde3a36",
       "version_major": 2,
       "version_minor": 0
      },
      "text/plain": [
       "Layer:   0%|          | 0/4 [00:00<?, ?it/s]"
      ]
     },
     "metadata": {},
     "output_type": "display_data"
    },
    {
     "data": {
      "application/vnd.jupyter.widget-view+json": {
       "model_id": "089f56e98db842ebb9d94b46a194b4ac",
       "version_major": 2,
       "version_minor": 0
      },
      "text/plain": [
       "Layer:   0%|          | 0/4 [00:00<?, ?it/s]"
      ]
     },
     "metadata": {},
     "output_type": "display_data"
    },
    {
     "data": {
      "application/vnd.jupyter.widget-view+json": {
       "model_id": "dea3eac0e0e4428dab4db02d0f1657f7",
       "version_major": 2,
       "version_minor": 0
      },
      "text/plain": [
       "Layer:   0%|          | 0/4 [00:00<?, ?it/s]"
      ]
     },
     "metadata": {},
     "output_type": "display_data"
    },
    {
     "data": {
      "application/vnd.jupyter.widget-view+json": {
       "model_id": "",
       "version_major": 2,
       "version_minor": 0
      },
      "text/plain": [
       "State at layer 1:   0%|          | 0/4 [00:00<?, ?it/s]"
      ]
     },
     "metadata": {},
     "output_type": "display_data"
    },
    {
     "data": {
      "application/vnd.jupyter.widget-view+json": {
       "model_id": "",
       "version_major": 2,
       "version_minor": 0
      },
      "text/plain": [
       "State at layer 1:   0%|          | 0/9 [00:00<?, ?it/s]"
      ]
     },
     "metadata": {},
     "output_type": "display_data"
    },
    {
     "data": {
      "application/vnd.jupyter.widget-view+json": {
       "model_id": "",
       "version_major": 2,
       "version_minor": 0
      },
      "text/plain": [
       "State at layer 1:   0%|          | 0/7 [00:00<?, ?it/s]"
      ]
     },
     "metadata": {},
     "output_type": "display_data"
    },
    {
     "data": {
      "application/vnd.jupyter.widget-view+json": {
       "model_id": "",
       "version_major": 2,
       "version_minor": 0
      },
      "text/plain": [
       "State at layer 1:   0%|          | 0/9 [00:00<?, ?it/s]"
      ]
     },
     "metadata": {},
     "output_type": "display_data"
    },
    {
     "data": {
      "application/vnd.jupyter.widget-view+json": {
       "model_id": "",
       "version_major": 2,
       "version_minor": 0
      },
      "text/plain": [
       "State at layer 1:   0%|          | 0/5 [00:00<?, ?it/s]"
      ]
     },
     "metadata": {},
     "output_type": "display_data"
    },
    {
     "data": {
      "application/vnd.jupyter.widget-view+json": {
       "model_id": "",
       "version_major": 2,
       "version_minor": 0
      },
      "text/plain": [
       "Sampling:   0%|          | 0/5376 [00:00<?, ?it/s]"
      ]
     },
     "metadata": {},
     "output_type": "display_data"
    },
    {
     "data": {
      "application/vnd.jupyter.widget-view+json": {
       "model_id": "",
       "version_major": 2,
       "version_minor": 0
      },
      "text/plain": [
       "Sampling:   0%|          | 0/10240 [00:00<?, ?it/s]"
      ]
     },
     "metadata": {},
     "output_type": "display_data"
    },
    {
     "data": {
      "application/vnd.jupyter.widget-view+json": {
       "model_id": "",
       "version_major": 2,
       "version_minor": 0
      },
      "text/plain": [
       "State at layer 1:   0%|          | 0/8 [00:00<?, ?it/s]"
      ]
     },
     "metadata": {},
     "output_type": "display_data"
    },
    {
     "data": {
      "application/vnd.jupyter.widget-view+json": {
       "model_id": "",
       "version_major": 2,
       "version_minor": 0
      },
      "text/plain": [
       "Sampling:   0%|          | 0/8448 [00:00<?, ?it/s]"
      ]
     },
     "metadata": {},
     "output_type": "display_data"
    },
    {
     "data": {
      "application/vnd.jupyter.widget-view+json": {
       "model_id": "",
       "version_major": 2,
       "version_minor": 0
      },
      "text/plain": [
       "Sampling:   0%|          | 0/10496 [00:00<?, ?it/s]"
      ]
     },
     "metadata": {},
     "output_type": "display_data"
    },
    {
     "data": {
      "application/vnd.jupyter.widget-view+json": {
       "model_id": "",
       "version_major": 2,
       "version_minor": 0
      },
      "text/plain": [
       "Sampling:   0%|          | 0/6400 [00:00<?, ?it/s]"
      ]
     },
     "metadata": {},
     "output_type": "display_data"
    },
    {
     "data": {
      "application/vnd.jupyter.widget-view+json": {
       "model_id": "",
       "version_major": 2,
       "version_minor": 0
      },
      "text/plain": [
       "Sampling:   0%|          | 0/9984 [00:00<?, ?it/s]"
      ]
     },
     "metadata": {},
     "output_type": "display_data"
    },
    {
     "data": {
      "application/vnd.jupyter.widget-view+json": {
       "model_id": "",
       "version_major": 2,
       "version_minor": 0
      },
      "text/plain": [
       "Sampling:   0%|          | 0/5376 [00:00<?, ?it/s]"
      ]
     },
     "metadata": {},
     "output_type": "display_data"
    },
    {
     "data": {
      "application/vnd.jupyter.widget-view+json": {
       "model_id": "",
       "version_major": 2,
       "version_minor": 0
      },
      "text/plain": [
       "Sampling:   0%|          | 0/6400 [00:00<?, ?it/s]"
      ]
     },
     "metadata": {},
     "output_type": "display_data"
    },
    {
     "data": {
      "application/vnd.jupyter.widget-view+json": {
       "model_id": "",
       "version_major": 2,
       "version_minor": 0
      },
      "text/plain": [
       "Sampling:   0%|          | 0/8448 [00:00<?, ?it/s]"
      ]
     },
     "metadata": {},
     "output_type": "display_data"
    },
    {
     "data": {
      "application/vnd.jupyter.widget-view+json": {
       "model_id": "",
       "version_major": 2,
       "version_minor": 0
      },
      "text/plain": [
       "Sampling:   0%|          | 0/9984 [00:00<?, ?it/s]"
      ]
     },
     "metadata": {},
     "output_type": "display_data"
    },
    {
     "data": {
      "application/vnd.jupyter.widget-view+json": {
       "model_id": "",
       "version_major": 2,
       "version_minor": 0
      },
      "text/plain": [
       "Sampling:   0%|          | 0/10240 [00:00<?, ?it/s]"
      ]
     },
     "metadata": {},
     "output_type": "display_data"
    },
    {
     "data": {
      "application/vnd.jupyter.widget-view+json": {
       "model_id": "",
       "version_major": 2,
       "version_minor": 0
      },
      "text/plain": [
       "Sampling:   0%|          | 0/10496 [00:00<?, ?it/s]"
      ]
     },
     "metadata": {},
     "output_type": "display_data"
    },
    {
     "data": {
      "application/vnd.jupyter.widget-view+json": {
       "model_id": "",
       "version_major": 2,
       "version_minor": 0
      },
      "text/plain": [
       "Sampling:   0%|          | 0/5376 [00:00<?, ?it/s]"
      ]
     },
     "metadata": {},
     "output_type": "display_data"
    },
    {
     "data": {
      "application/vnd.jupyter.widget-view+json": {
       "model_id": "",
       "version_major": 2,
       "version_minor": 0
      },
      "text/plain": [
       "Sampling:   0%|          | 0/6400 [00:00<?, ?it/s]"
      ]
     },
     "metadata": {},
     "output_type": "display_data"
    },
    {
     "data": {
      "application/vnd.jupyter.widget-view+json": {
       "model_id": "",
       "version_major": 2,
       "version_minor": 0
      },
      "text/plain": [
       "Sampling:   0%|          | 0/5376 [00:00<?, ?it/s]"
      ]
     },
     "metadata": {},
     "output_type": "display_data"
    },
    {
     "data": {
      "application/vnd.jupyter.widget-view+json": {
       "model_id": "",
       "version_major": 2,
       "version_minor": 0
      },
      "text/plain": [
       "Sampling:   0%|          | 0/8448 [00:00<?, ?it/s]"
      ]
     },
     "metadata": {},
     "output_type": "display_data"
    },
    {
     "data": {
      "application/vnd.jupyter.widget-view+json": {
       "model_id": "",
       "version_major": 2,
       "version_minor": 0
      },
      "text/plain": [
       "Sampling:   0%|          | 0/6400 [00:00<?, ?it/s]"
      ]
     },
     "metadata": {},
     "output_type": "display_data"
    },
    {
     "data": {
      "application/vnd.jupyter.widget-view+json": {
       "model_id": "",
       "version_major": 2,
       "version_minor": 0
      },
      "text/plain": [
       "Sampling:   0%|          | 0/9984 [00:00<?, ?it/s]"
      ]
     },
     "metadata": {},
     "output_type": "display_data"
    },
    {
     "data": {
      "application/vnd.jupyter.widget-view+json": {
       "model_id": "",
       "version_major": 2,
       "version_minor": 0
      },
      "text/plain": [
       "Sampling:   0%|          | 0/10240 [00:00<?, ?it/s]"
      ]
     },
     "metadata": {},
     "output_type": "display_data"
    },
    {
     "data": {
      "application/vnd.jupyter.widget-view+json": {
       "model_id": "",
       "version_major": 2,
       "version_minor": 0
      },
      "text/plain": [
       "Sampling:   0%|          | 0/10496 [00:00<?, ?it/s]"
      ]
     },
     "metadata": {},
     "output_type": "display_data"
    },
    {
     "data": {
      "application/vnd.jupyter.widget-view+json": {
       "model_id": "",
       "version_major": 2,
       "version_minor": 0
      },
      "text/plain": [
       "State at layer 2:   0%|          | 0/5 [00:00<?, ?it/s]"
      ]
     },
     "metadata": {},
     "output_type": "display_data"
    },
    {
     "data": {
      "application/vnd.jupyter.widget-view+json": {
       "model_id": "",
       "version_major": 2,
       "version_minor": 0
      },
      "text/plain": [
       "Sampling:   0%|          | 0/5376 [00:00<?, ?it/s]"
      ]
     },
     "metadata": {},
     "output_type": "display_data"
    },
    {
     "data": {
      "application/vnd.jupyter.widget-view+json": {
       "model_id": "",
       "version_major": 2,
       "version_minor": 0
      },
      "text/plain": [
       "Sampling:   0%|          | 0/8448 [00:00<?, ?it/s]"
      ]
     },
     "metadata": {},
     "output_type": "display_data"
    },
    {
     "data": {
      "application/vnd.jupyter.widget-view+json": {
       "model_id": "",
       "version_major": 2,
       "version_minor": 0
      },
      "text/plain": [
       "Sampling:   0%|          | 0/6400 [00:00<?, ?it/s]"
      ]
     },
     "metadata": {},
     "output_type": "display_data"
    },
    {
     "data": {
      "application/vnd.jupyter.widget-view+json": {
       "model_id": "",
       "version_major": 2,
       "version_minor": 0
      },
      "text/plain": [
       "Sampling:   0%|          | 0/9984 [00:00<?, ?it/s]"
      ]
     },
     "metadata": {},
     "output_type": "display_data"
    },
    {
     "data": {
      "application/vnd.jupyter.widget-view+json": {
       "model_id": "",
       "version_major": 2,
       "version_minor": 0
      },
      "text/plain": [
       "Sampling:   0%|          | 0/10240 [00:00<?, ?it/s]"
      ]
     },
     "metadata": {},
     "output_type": "display_data"
    },
    {
     "data": {
      "application/vnd.jupyter.widget-view+json": {
       "model_id": "",
       "version_major": 2,
       "version_minor": 0
      },
      "text/plain": [
       "Sampling:   0%|          | 0/10496 [00:00<?, ?it/s]"
      ]
     },
     "metadata": {},
     "output_type": "display_data"
    },
    {
     "data": {
      "application/vnd.jupyter.widget-view+json": {
       "model_id": "",
       "version_major": 2,
       "version_minor": 0
      },
      "text/plain": [
       "State at layer 2:   0%|          | 0/6 [00:00<?, ?it/s]"
      ]
     },
     "metadata": {},
     "output_type": "display_data"
    },
    {
     "data": {
      "application/vnd.jupyter.widget-view+json": {
       "model_id": "",
       "version_major": 2,
       "version_minor": 0
      },
      "text/plain": [
       "Sampling:   0%|          | 0/6400 [00:00<?, ?it/s]"
      ]
     },
     "metadata": {},
     "output_type": "display_data"
    },
    {
     "data": {
      "application/vnd.jupyter.widget-view+json": {
       "model_id": "",
       "version_major": 2,
       "version_minor": 0
      },
      "text/plain": [
       "Sampling:   0%|          | 0/8448 [00:00<?, ?it/s]"
      ]
     },
     "metadata": {},
     "output_type": "display_data"
    },
    {
     "data": {
      "application/vnd.jupyter.widget-view+json": {
       "model_id": "",
       "version_major": 2,
       "version_minor": 0
      },
      "text/plain": [
       "Sampling:   0%|          | 0/5376 [00:00<?, ?it/s]"
      ]
     },
     "metadata": {},
     "output_type": "display_data"
    },
    {
     "data": {
      "application/vnd.jupyter.widget-view+json": {
       "model_id": "",
       "version_major": 2,
       "version_minor": 0
      },
      "text/plain": [
       "Sampling:   0%|          | 0/9984 [00:00<?, ?it/s]"
      ]
     },
     "metadata": {},
     "output_type": "display_data"
    },
    {
     "data": {
      "application/vnd.jupyter.widget-view+json": {
       "model_id": "",
       "version_major": 2,
       "version_minor": 0
      },
      "text/plain": [
       "Sampling:   0%|          | 0/10240 [00:00<?, ?it/s]"
      ]
     },
     "metadata": {},
     "output_type": "display_data"
    },
    {
     "data": {
      "application/vnd.jupyter.widget-view+json": {
       "model_id": "",
       "version_major": 2,
       "version_minor": 0
      },
      "text/plain": [
       "Sampling:   0%|          | 0/10496 [00:00<?, ?it/s]"
      ]
     },
     "metadata": {},
     "output_type": "display_data"
    },
    {
     "data": {
      "application/vnd.jupyter.widget-view+json": {
       "model_id": "",
       "version_major": 2,
       "version_minor": 0
      },
      "text/plain": [
       "Sampling:   0%|          | 0/8448 [00:00<?, ?it/s]"
      ]
     },
     "metadata": {},
     "output_type": "display_data"
    },
    {
     "data": {
      "application/vnd.jupyter.widget-view+json": {
       "model_id": "",
       "version_major": 2,
       "version_minor": 0
      },
      "text/plain": [
       "Sampling:   0%|          | 0/6400 [00:00<?, ?it/s]"
      ]
     },
     "metadata": {},
     "output_type": "display_data"
    },
    {
     "data": {
      "application/vnd.jupyter.widget-view+json": {
       "model_id": "",
       "version_major": 2,
       "version_minor": 0
      },
      "text/plain": [
       "Sampling:   0%|          | 0/5376 [00:00<?, ?it/s]"
      ]
     },
     "metadata": {},
     "output_type": "display_data"
    },
    {
     "data": {
      "application/vnd.jupyter.widget-view+json": {
       "model_id": "",
       "version_major": 2,
       "version_minor": 0
      },
      "text/plain": [
       "Sampling:   0%|          | 0/9984 [00:00<?, ?it/s]"
      ]
     },
     "metadata": {},
     "output_type": "display_data"
    },
    {
     "data": {
      "application/vnd.jupyter.widget-view+json": {
       "model_id": "",
       "version_major": 2,
       "version_minor": 0
      },
      "text/plain": [
       "Sampling:   0%|          | 0/8448 [00:00<?, ?it/s]"
      ]
     },
     "metadata": {},
     "output_type": "display_data"
    },
    {
     "data": {
      "application/vnd.jupyter.widget-view+json": {
       "model_id": "",
       "version_major": 2,
       "version_minor": 0
      },
      "text/plain": [
       "Sampling:   0%|          | 0/10240 [00:00<?, ?it/s]"
      ]
     },
     "metadata": {},
     "output_type": "display_data"
    },
    {
     "data": {
      "application/vnd.jupyter.widget-view+json": {
       "model_id": "",
       "version_major": 2,
       "version_minor": 0
      },
      "text/plain": [
       "Sampling:   0%|          | 0/10496 [00:00<?, ?it/s]"
      ]
     },
     "metadata": {},
     "output_type": "display_data"
    },
    {
     "data": {
      "application/vnd.jupyter.widget-view+json": {
       "model_id": "",
       "version_major": 2,
       "version_minor": 0
      },
      "text/plain": [
       "Sampling:   0%|          | 0/5376 [00:00<?, ?it/s]"
      ]
     },
     "metadata": {},
     "output_type": "display_data"
    },
    {
     "data": {
      "application/vnd.jupyter.widget-view+json": {
       "model_id": "",
       "version_major": 2,
       "version_minor": 0
      },
      "text/plain": [
       "Sampling:   0%|          | 0/9984 [00:00<?, ?it/s]"
      ]
     },
     "metadata": {},
     "output_type": "display_data"
    },
    {
     "data": {
      "application/vnd.jupyter.widget-view+json": {
       "model_id": "",
       "version_major": 2,
       "version_minor": 0
      },
      "text/plain": [
       "State at layer 2:   0%|          | 0/8 [00:00<?, ?it/s]"
      ]
     },
     "metadata": {},
     "output_type": "display_data"
    },
    {
     "data": {
      "application/vnd.jupyter.widget-view+json": {
       "model_id": "",
       "version_major": 2,
       "version_minor": 0
      },
      "text/plain": [
       "Sampling:   0%|          | 0/8448 [00:00<?, ?it/s]"
      ]
     },
     "metadata": {},
     "output_type": "display_data"
    },
    {
     "data": {
      "application/vnd.jupyter.widget-view+json": {
       "model_id": "",
       "version_major": 2,
       "version_minor": 0
      },
      "text/plain": [
       "Sampling:   0%|          | 0/6400 [00:00<?, ?it/s]"
      ]
     },
     "metadata": {},
     "output_type": "display_data"
    },
    {
     "data": {
      "application/vnd.jupyter.widget-view+json": {
       "model_id": "",
       "version_major": 2,
       "version_minor": 0
      },
      "text/plain": [
       "Sampling:   0%|          | 0/10240 [00:00<?, ?it/s]"
      ]
     },
     "metadata": {},
     "output_type": "display_data"
    },
    {
     "data": {
      "application/vnd.jupyter.widget-view+json": {
       "model_id": "",
       "version_major": 2,
       "version_minor": 0
      },
      "text/plain": [
       "Sampling:   0%|          | 0/10496 [00:00<?, ?it/s]"
      ]
     },
     "metadata": {},
     "output_type": "display_data"
    },
    {
     "data": {
      "application/vnd.jupyter.widget-view+json": {
       "model_id": "",
       "version_major": 2,
       "version_minor": 0
      },
      "text/plain": [
       "Sampling:   0%|          | 0/5376 [00:00<?, ?it/s]"
      ]
     },
     "metadata": {},
     "output_type": "display_data"
    },
    {
     "data": {
      "application/vnd.jupyter.widget-view+json": {
       "model_id": "",
       "version_major": 2,
       "version_minor": 0
      },
      "text/plain": [
       "Sampling:   0%|          | 0/9984 [00:00<?, ?it/s]"
      ]
     },
     "metadata": {},
     "output_type": "display_data"
    },
    {
     "data": {
      "application/vnd.jupyter.widget-view+json": {
       "model_id": "",
       "version_major": 2,
       "version_minor": 0
      },
      "text/plain": [
       "Sampling:   0%|          | 0/10240 [00:00<?, ?it/s]"
      ]
     },
     "metadata": {},
     "output_type": "display_data"
    },
    {
     "data": {
      "application/vnd.jupyter.widget-view+json": {
       "model_id": "",
       "version_major": 2,
       "version_minor": 0
      },
      "text/plain": [
       "Sampling:   0%|          | 0/6400 [00:00<?, ?it/s]"
      ]
     },
     "metadata": {},
     "output_type": "display_data"
    },
    {
     "data": {
      "application/vnd.jupyter.widget-view+json": {
       "model_id": "",
       "version_major": 2,
       "version_minor": 0
      },
      "text/plain": [
       "Sampling:   0%|          | 0/10496 [00:00<?, ?it/s]"
      ]
     },
     "metadata": {},
     "output_type": "display_data"
    },
    {
     "data": {
      "application/vnd.jupyter.widget-view+json": {
       "model_id": "",
       "version_major": 2,
       "version_minor": 0
      },
      "text/plain": [
       "State at layer 2:   0%|          | 0/10 [00:00<?, ?it/s]"
      ]
     },
     "metadata": {},
     "output_type": "display_data"
    },
    {
     "data": {
      "application/vnd.jupyter.widget-view+json": {
       "model_id": "",
       "version_major": 2,
       "version_minor": 0
      },
      "text/plain": [
       "Sampling:   0%|          | 0/9984 [00:00<?, ?it/s]"
      ]
     },
     "metadata": {},
     "output_type": "display_data"
    },
    {
     "data": {
      "application/vnd.jupyter.widget-view+json": {
       "model_id": "",
       "version_major": 2,
       "version_minor": 0
      },
      "text/plain": [
       "Sampling:   0%|          | 0/10240 [00:00<?, ?it/s]"
      ]
     },
     "metadata": {},
     "output_type": "display_data"
    },
    {
     "data": {
      "application/vnd.jupyter.widget-view+json": {
       "model_id": "",
       "version_major": 2,
       "version_minor": 0
      },
      "text/plain": [
       "Sampling:   0%|          | 0/10496 [00:00<?, ?it/s]"
      ]
     },
     "metadata": {},
     "output_type": "display_data"
    },
    {
     "data": {
      "application/vnd.jupyter.widget-view+json": {
       "model_id": "",
       "version_major": 2,
       "version_minor": 0
      },
      "text/plain": [
       "Sampling:   0%|          | 0/8448 [00:00<?, ?it/s]"
      ]
     },
     "metadata": {},
     "output_type": "display_data"
    },
    {
     "data": {
      "application/vnd.jupyter.widget-view+json": {
       "model_id": "",
       "version_major": 2,
       "version_minor": 0
      },
      "text/plain": [
       "State at layer 3:   0%|          | 0/5 [00:00<?, ?it/s]"
      ]
     },
     "metadata": {},
     "output_type": "display_data"
    },
    {
     "data": {
      "application/vnd.jupyter.widget-view+json": {
       "model_id": "",
       "version_major": 2,
       "version_minor": 0
      },
      "text/plain": [
       "Sampling:   0%|          | 0/5376 [00:00<?, ?it/s]"
      ]
     },
     "metadata": {},
     "output_type": "display_data"
    },
    {
     "data": {
      "application/vnd.jupyter.widget-view+json": {
       "model_id": "",
       "version_major": 2,
       "version_minor": 0
      },
      "text/plain": [
       "Sampling:   0%|          | 0/6400 [00:00<?, ?it/s]"
      ]
     },
     "metadata": {},
     "output_type": "display_data"
    },
    {
     "data": {
      "application/vnd.jupyter.widget-view+json": {
       "model_id": "",
       "version_major": 2,
       "version_minor": 0
      },
      "text/plain": [
       "State at layer 2:   0%|          | 0/10 [00:00<?, ?it/s]"
      ]
     },
     "metadata": {},
     "output_type": "display_data"
    },
    {
     "data": {
      "application/vnd.jupyter.widget-view+json": {
       "model_id": "",
       "version_major": 2,
       "version_minor": 0
      },
      "text/plain": [
       "Sampling:   0%|          | 0/10240 [00:00<?, ?it/s]"
      ]
     },
     "metadata": {},
     "output_type": "display_data"
    },
    {
     "data": {
      "application/vnd.jupyter.widget-view+json": {
       "model_id": "",
       "version_major": 2,
       "version_minor": 0
      },
      "text/plain": [
       "State at layer 2:   0%|          | 0/10 [00:00<?, ?it/s]"
      ]
     },
     "metadata": {},
     "output_type": "display_data"
    },
    {
     "data": {
      "application/vnd.jupyter.widget-view+json": {
       "model_id": "",
       "version_major": 2,
       "version_minor": 0
      },
      "text/plain": [
       "Sampling:   0%|          | 0/10496 [00:00<?, ?it/s]"
      ]
     },
     "metadata": {},
     "output_type": "display_data"
    },
    {
     "data": {
      "application/vnd.jupyter.widget-view+json": {
       "model_id": "",
       "version_major": 2,
       "version_minor": 0
      },
      "text/plain": [
       "Sampling:   0%|          | 0/9984 [00:00<?, ?it/s]"
      ]
     },
     "metadata": {},
     "output_type": "display_data"
    },
    {
     "data": {
      "application/vnd.jupyter.widget-view+json": {
       "model_id": "",
       "version_major": 2,
       "version_minor": 0
      },
      "text/plain": [
       "Sampling:   0%|          | 0/5376 [00:00<?, ?it/s]"
      ]
     },
     "metadata": {},
     "output_type": "display_data"
    },
    {
     "data": {
      "application/vnd.jupyter.widget-view+json": {
       "model_id": "",
       "version_major": 2,
       "version_minor": 0
      },
      "text/plain": [
       "Sampling:   0%|          | 0/6400 [00:00<?, ?it/s]"
      ]
     },
     "metadata": {},
     "output_type": "display_data"
    },
    {
     "data": {
      "application/vnd.jupyter.widget-view+json": {
       "model_id": "",
       "version_major": 2,
       "version_minor": 0
      },
      "text/plain": [
       "Sampling:   0%|          | 0/8448 [00:00<?, ?it/s]"
      ]
     },
     "metadata": {},
     "output_type": "display_data"
    },
    {
     "data": {
      "application/vnd.jupyter.widget-view+json": {
       "model_id": "",
       "version_major": 2,
       "version_minor": 0
      },
      "text/plain": [
       "State at layer 3:   0%|          | 0/6 [00:00<?, ?it/s]"
      ]
     },
     "metadata": {},
     "output_type": "display_data"
    },
    {
     "data": {
      "application/vnd.jupyter.widget-view+json": {
       "model_id": "",
       "version_major": 2,
       "version_minor": 0
      },
      "text/plain": [
       "Sampling:   0%|          | 0/6400 [00:00<?, ?it/s]"
      ]
     },
     "metadata": {},
     "output_type": "display_data"
    },
    {
     "data": {
      "application/vnd.jupyter.widget-view+json": {
       "model_id": "",
       "version_major": 2,
       "version_minor": 0
      },
      "text/plain": [
       "Sampling:   0%|          | 0/9984 [00:00<?, ?it/s]"
      ]
     },
     "metadata": {},
     "output_type": "display_data"
    },
    {
     "data": {
      "application/vnd.jupyter.widget-view+json": {
       "model_id": "",
       "version_major": 2,
       "version_minor": 0
      },
      "text/plain": [
       "Sampling:   0%|          | 0/8448 [00:00<?, ?it/s]"
      ]
     },
     "metadata": {},
     "output_type": "display_data"
    },
    {
     "data": {
      "application/vnd.jupyter.widget-view+json": {
       "model_id": "",
       "version_major": 2,
       "version_minor": 0
      },
      "text/plain": [
       "Sampling:   0%|          | 0/10496 [00:00<?, ?it/s]"
      ]
     },
     "metadata": {},
     "output_type": "display_data"
    },
    {
     "data": {
      "application/vnd.jupyter.widget-view+json": {
       "model_id": "",
       "version_major": 2,
       "version_minor": 0
      },
      "text/plain": [
       "Sampling:   0%|          | 0/10240 [00:00<?, ?it/s]"
      ]
     },
     "metadata": {},
     "output_type": "display_data"
    },
    {
     "data": {
      "application/vnd.jupyter.widget-view+json": {
       "model_id": "",
       "version_major": 2,
       "version_minor": 0
      },
      "text/plain": [
       "Sampling:   0%|          | 0/6400 [00:00<?, ?it/s]"
      ]
     },
     "metadata": {},
     "output_type": "display_data"
    },
    {
     "data": {
      "application/vnd.jupyter.widget-view+json": {
       "model_id": "",
       "version_major": 2,
       "version_minor": 0
      },
      "text/plain": [
       "Sampling:   0%|          | 0/5376 [00:00<?, ?it/s]"
      ]
     },
     "metadata": {},
     "output_type": "display_data"
    },
    {
     "data": {
      "application/vnd.jupyter.widget-view+json": {
       "model_id": "",
       "version_major": 2,
       "version_minor": 0
      },
      "text/plain": [
       "Sampling:   0%|          | 0/8448 [00:00<?, ?it/s]"
      ]
     },
     "metadata": {},
     "output_type": "display_data"
    },
    {
     "data": {
      "application/vnd.jupyter.widget-view+json": {
       "model_id": "d8c8818f33594151a90675b44ecf1957",
       "version_major": 2,
       "version_minor": 0
      },
      "text/plain": [
       "Sampling:   0%|          | 0/9984 [00:00<?, ?it/s]"
      ]
     },
     "metadata": {},
     "output_type": "display_data"
    },
    {
     "data": {
      "application/vnd.jupyter.widget-view+json": {
       "model_id": "",
       "version_major": 2,
       "version_minor": 0
      },
      "text/plain": [
       "Sampling:   0%|          | 0/6400 [00:00<?, ?it/s]"
      ]
     },
     "metadata": {},
     "output_type": "display_data"
    },
    {
     "data": {
      "application/vnd.jupyter.widget-view+json": {
       "model_id": "",
       "version_major": 2,
       "version_minor": 0
      },
      "text/plain": [
       "Sampling:   0%|          | 0/10240 [00:00<?, ?it/s]"
      ]
     },
     "metadata": {},
     "output_type": "display_data"
    },
    {
     "data": {
      "application/vnd.jupyter.widget-view+json": {
       "model_id": "",
       "version_major": 2,
       "version_minor": 0
      },
      "text/plain": [
       "Sampling:   0%|          | 0/10496 [00:00<?, ?it/s]"
      ]
     },
     "metadata": {},
     "output_type": "display_data"
    },
    {
     "data": {
      "application/vnd.jupyter.widget-view+json": {
       "model_id": "",
       "version_major": 2,
       "version_minor": 0
      },
      "text/plain": [
       "Sampling:   0%|          | 0/5376 [00:00<?, ?it/s]"
      ]
     },
     "metadata": {},
     "output_type": "display_data"
    },
    {
     "data": {
      "application/vnd.jupyter.widget-view+json": {
       "model_id": "",
       "version_major": 2,
       "version_minor": 0
      },
      "text/plain": [
       "Sampling:   0%|          | 0/5376 [00:00<?, ?it/s]"
      ]
     },
     "metadata": {},
     "output_type": "display_data"
    },
    {
     "data": {
      "application/vnd.jupyter.widget-view+json": {
       "model_id": "",
       "version_major": 2,
       "version_minor": 0
      },
      "text/plain": [
       "Sampling:   0%|          | 0/6400 [00:00<?, ?it/s]"
      ]
     },
     "metadata": {},
     "output_type": "display_data"
    },
    {
     "data": {
      "application/vnd.jupyter.widget-view+json": {
       "model_id": "",
       "version_major": 2,
       "version_minor": 0
      },
      "text/plain": [
       "Sampling:   0%|          | 0/8448 [00:00<?, ?it/s]"
      ]
     },
     "metadata": {},
     "output_type": "display_data"
    },
    {
     "data": {
      "application/vnd.jupyter.widget-view+json": {
       "model_id": "",
       "version_major": 2,
       "version_minor": 0
      },
      "text/plain": [
       "Sampling:   0%|          | 0/9984 [00:00<?, ?it/s]"
      ]
     },
     "metadata": {},
     "output_type": "display_data"
    },
    {
     "data": {
      "application/vnd.jupyter.widget-view+json": {
       "model_id": "",
       "version_major": 2,
       "version_minor": 0
      },
      "text/plain": [
       "Sampling:   0%|          | 0/6400 [00:00<?, ?it/s]"
      ]
     },
     "metadata": {},
     "output_type": "display_data"
    },
    {
     "data": {
      "application/vnd.jupyter.widget-view+json": {
       "model_id": "",
       "version_major": 2,
       "version_minor": 0
      },
      "text/plain": [
       "Sampling:   0%|          | 0/10496 [00:00<?, ?it/s]"
      ]
     },
     "metadata": {},
     "output_type": "display_data"
    },
    {
     "data": {
      "application/vnd.jupyter.widget-view+json": {
       "model_id": "",
       "version_major": 2,
       "version_minor": 0
      },
      "text/plain": [
       "State at layer 4:   0%|          | 0/5 [00:00<?, ?it/s]"
      ]
     },
     "metadata": {},
     "output_type": "display_data"
    },
    {
     "data": {
      "application/vnd.jupyter.widget-view+json": {
       "model_id": "",
       "version_major": 2,
       "version_minor": 0
      },
      "text/plain": [
       "Sampling:   0%|          | 0/5376 [00:00<?, ?it/s]"
      ]
     },
     "metadata": {},
     "output_type": "display_data"
    },
    {
     "data": {
      "application/vnd.jupyter.widget-view+json": {
       "model_id": "",
       "version_major": 2,
       "version_minor": 0
      },
      "text/plain": [
       "Sampling:   0%|          | 0/9984 [00:00<?, ?it/s]"
      ]
     },
     "metadata": {},
     "output_type": "display_data"
    },
    {
     "data": {
      "application/vnd.jupyter.widget-view+json": {
       "model_id": "",
       "version_major": 2,
       "version_minor": 0
      },
      "text/plain": [
       "Sampling:   0%|          | 0/8448 [00:00<?, ?it/s]"
      ]
     },
     "metadata": {},
     "output_type": "display_data"
    },
    {
     "data": {
      "application/vnd.jupyter.widget-view+json": {
       "model_id": "",
       "version_major": 2,
       "version_minor": 0
      },
      "text/plain": [
       "Sampling:   0%|          | 0/6400 [00:00<?, ?it/s]"
      ]
     },
     "metadata": {},
     "output_type": "display_data"
    },
    {
     "data": {
      "application/vnd.jupyter.widget-view+json": {
       "model_id": "",
       "version_major": 2,
       "version_minor": 0
      },
      "text/plain": [
       "Sampling:   0%|          | 0/8448 [00:00<?, ?it/s]"
      ]
     },
     "metadata": {},
     "output_type": "display_data"
    },
    {
     "data": {
      "application/vnd.jupyter.widget-view+json": {
       "model_id": "",
       "version_major": 2,
       "version_minor": 0
      },
      "text/plain": [
       "State at layer 4:   0%|          | 0/6 [00:00<?, ?it/s]"
      ]
     },
     "metadata": {},
     "output_type": "display_data"
    },
    {
     "data": {
      "application/vnd.jupyter.widget-view+json": {
       "model_id": "",
       "version_major": 2,
       "version_minor": 0
      },
      "text/plain": [
       "Sampling:   0%|          | 0/6400 [00:00<?, ?it/s]"
      ]
     },
     "metadata": {},
     "output_type": "display_data"
    },
    {
     "data": {
      "application/vnd.jupyter.widget-view+json": {
       "model_id": "",
       "version_major": 2,
       "version_minor": 0
      },
      "text/plain": [
       "Sampling:   0%|          | 0/10496 [00:00<?, ?it/s]"
      ]
     },
     "metadata": {},
     "output_type": "display_data"
    },
    {
     "data": {
      "application/vnd.jupyter.widget-view+json": {
       "model_id": "",
       "version_major": 2,
       "version_minor": 0
      },
      "text/plain": [
       "Sampling:   0%|          | 0/9984 [00:00<?, ?it/s]"
      ]
     },
     "metadata": {},
     "output_type": "display_data"
    },
    {
     "data": {
      "application/vnd.jupyter.widget-view+json": {
       "model_id": "",
       "version_major": 2,
       "version_minor": 0
      },
      "text/plain": [
       "Sampling:   0%|          | 0/5376 [00:00<?, ?it/s]"
      ]
     },
     "metadata": {},
     "output_type": "display_data"
    },
    {
     "data": {
      "application/vnd.jupyter.widget-view+json": {
       "model_id": "",
       "version_major": 2,
       "version_minor": 0
      },
      "text/plain": [
       "Sampling:   0%|          | 0/9984 [00:00<?, ?it/s]"
      ]
     },
     "metadata": {},
     "output_type": "display_data"
    },
    {
     "data": {
      "application/vnd.jupyter.widget-view+json": {
       "model_id": "",
       "version_major": 2,
       "version_minor": 0
      },
      "text/plain": [
       "Sampling:   0%|          | 0/10240 [00:00<?, ?it/s]"
      ]
     },
     "metadata": {},
     "output_type": "display_data"
    },
    {
     "data": {
      "application/vnd.jupyter.widget-view+json": {
       "model_id": "",
       "version_major": 2,
       "version_minor": 0
      },
      "text/plain": [
       "Sampling:   0%|          | 0/10496 [00:00<?, ?it/s]"
      ]
     },
     "metadata": {},
     "output_type": "display_data"
    },
    {
     "data": {
      "application/vnd.jupyter.widget-view+json": {
       "model_id": "",
       "version_major": 2,
       "version_minor": 0
      },
      "text/plain": [
       "Sampling:   0%|          | 0/6400 [00:00<?, ?it/s]"
      ]
     },
     "metadata": {},
     "output_type": "display_data"
    },
    {
     "data": {
      "application/vnd.jupyter.widget-view+json": {
       "model_id": "",
       "version_major": 2,
       "version_minor": 0
      },
      "text/plain": [
       "State at layer 3:   0%|          | 0/8 [00:00<?, ?it/s]"
      ]
     },
     "metadata": {},
     "output_type": "display_data"
    },
    {
     "data": {
      "application/vnd.jupyter.widget-view+json": {
       "model_id": "",
       "version_major": 2,
       "version_minor": 0
      },
      "text/plain": [
       "Sampling:   0%|          | 0/8448 [00:00<?, ?it/s]"
      ]
     },
     "metadata": {},
     "output_type": "display_data"
    },
    {
     "data": {
      "application/vnd.jupyter.widget-view+json": {
       "model_id": "",
       "version_major": 2,
       "version_minor": 0
      },
      "text/plain": [
       "Sampling:   0%|          | 0/10496 [00:00<?, ?it/s]"
      ]
     },
     "metadata": {},
     "output_type": "display_data"
    },
    {
     "data": {
      "application/vnd.jupyter.widget-view+json": {
       "model_id": "",
       "version_major": 2,
       "version_minor": 0
      },
      "text/plain": [
       "Sampling:   0%|          | 0/10240 [00:00<?, ?it/s]"
      ]
     },
     "metadata": {},
     "output_type": "display_data"
    },
    {
     "data": {
      "application/vnd.jupyter.widget-view+json": {
       "model_id": "",
       "version_major": 2,
       "version_minor": 0
      },
      "text/plain": [
       "Sampling:   0%|          | 0/9984 [00:00<?, ?it/s]"
      ]
     },
     "metadata": {},
     "output_type": "display_data"
    },
    {
     "data": {
      "application/vnd.jupyter.widget-view+json": {
       "model_id": "",
       "version_major": 2,
       "version_minor": 0
      },
      "text/plain": [
       "Sampling:   0%|          | 0/5376 [00:00<?, ?it/s]"
      ]
     },
     "metadata": {},
     "output_type": "display_data"
    },
    {
     "data": {
      "application/vnd.jupyter.widget-view+json": {
       "model_id": "",
       "version_major": 2,
       "version_minor": 0
      },
      "text/plain": [
       "Sampling:   0%|          | 0/10240 [00:00<?, ?it/s]"
      ]
     },
     "metadata": {},
     "output_type": "display_data"
    },
    {
     "data": {
      "application/vnd.jupyter.widget-view+json": {
       "model_id": "",
       "version_major": 2,
       "version_minor": 0
      },
      "text/plain": [
       "Sampling:   0%|          | 0/10496 [00:00<?, ?it/s]"
      ]
     },
     "metadata": {},
     "output_type": "display_data"
    },
    {
     "data": {
      "application/vnd.jupyter.widget-view+json": {
       "model_id": "",
       "version_major": 2,
       "version_minor": 0
      },
      "text/plain": [
       "Sampling:   0%|          | 0/8448 [00:00<?, ?it/s]"
      ]
     },
     "metadata": {},
     "output_type": "display_data"
    },
    {
     "data": {
      "application/vnd.jupyter.widget-view+json": {
       "model_id": "",
       "version_major": 2,
       "version_minor": 0
      },
      "text/plain": [
       "Sampling:   0%|          | 0/6400 [00:00<?, ?it/s]"
      ]
     },
     "metadata": {},
     "output_type": "display_data"
    },
    {
     "data": {
      "application/vnd.jupyter.widget-view+json": {
       "model_id": "",
       "version_major": 2,
       "version_minor": 0
      },
      "text/plain": [
       "Sampling:   0%|          | 0/9984 [00:00<?, ?it/s]"
      ]
     },
     "metadata": {},
     "output_type": "display_data"
    },
    {
     "data": {
      "application/vnd.jupyter.widget-view+json": {
       "model_id": "",
       "version_major": 2,
       "version_minor": 0
      },
      "text/plain": [
       "Sampling:   0%|          | 0/5376 [00:00<?, ?it/s]"
      ]
     },
     "metadata": {},
     "output_type": "display_data"
    },
    {
     "data": {
      "application/vnd.jupyter.widget-view+json": {
       "model_id": "",
       "version_major": 2,
       "version_minor": 0
      },
      "text/plain": [
       "Sampling:   0%|          | 0/10240 [00:00<?, ?it/s]"
      ]
     },
     "metadata": {},
     "output_type": "display_data"
    },
    {
     "data": {
      "application/vnd.jupyter.widget-view+json": {
       "model_id": "",
       "version_major": 2,
       "version_minor": 0
      },
      "text/plain": [
       "Sampling:   0%|          | 0/10496 [00:00<?, ?it/s]"
      ]
     },
     "metadata": {},
     "output_type": "display_data"
    },
    {
     "data": {
      "application/vnd.jupyter.widget-view+json": {
       "model_id": "4df5e55b8774498185377929a4314ffa",
       "version_major": 2,
       "version_minor": 0
      },
      "text/plain": [
       "State at layer 3:   0%|          | 0/10 [00:00<?, ?it/s]"
      ]
     },
     "metadata": {},
     "output_type": "display_data"
    },
    {
     "data": {
      "application/vnd.jupyter.widget-view+json": {
       "model_id": "",
       "version_major": 2,
       "version_minor": 0
      },
      "text/plain": [
       "Sampling:   0%|          | 0/9984 [00:00<?, ?it/s]"
      ]
     },
     "metadata": {},
     "output_type": "display_data"
    },
    {
     "data": {
      "application/vnd.jupyter.widget-view+json": {
       "model_id": "",
       "version_major": 2,
       "version_minor": 0
      },
      "text/plain": [
       "Sampling:   0%|          | 0/6400 [00:00<?, ?it/s]"
      ]
     },
     "metadata": {},
     "output_type": "display_data"
    },
    {
     "data": {
      "application/vnd.jupyter.widget-view+json": {
       "model_id": "",
       "version_major": 2,
       "version_minor": 0
      },
      "text/plain": [
       "Sampling:   0%|          | 0/10240 [00:00<?, ?it/s]"
      ]
     },
     "metadata": {},
     "output_type": "display_data"
    },
    {
     "data": {
      "application/vnd.jupyter.widget-view+json": {
       "model_id": "",
       "version_major": 2,
       "version_minor": 0
      },
      "text/plain": [
       "Sampling:   0%|          | 0/10496 [00:00<?, ?it/s]"
      ]
     },
     "metadata": {},
     "output_type": "display_data"
    },
    {
     "data": {
      "application/vnd.jupyter.widget-view+json": {
       "model_id": "",
       "version_major": 2,
       "version_minor": 0
      },
      "text/plain": [
       "Sampling:   0%|          | 0/6400 [00:00<?, ?it/s]"
      ]
     },
     "metadata": {},
     "output_type": "display_data"
    },
    {
     "data": {
      "application/vnd.jupyter.widget-view+json": {
       "model_id": "",
       "version_major": 2,
       "version_minor": 0
      },
      "text/plain": [
       "Sampling:   0%|          | 0/8448 [00:00<?, ?it/s]"
      ]
     },
     "metadata": {},
     "output_type": "display_data"
    },
    {
     "data": {
      "application/vnd.jupyter.widget-view+json": {
       "model_id": "",
       "version_major": 2,
       "version_minor": 0
      },
      "text/plain": [
       "Sampling:   0%|          | 0/5376 [00:00<?, ?it/s]"
      ]
     },
     "metadata": {},
     "output_type": "display_data"
    },
    {
     "data": {
      "application/vnd.jupyter.widget-view+json": {
       "model_id": "97a8511393024553af6d5e39328bffc7",
       "version_major": 2,
       "version_minor": 0
      },
      "text/plain": [
       "State at layer 3:   0%|          | 0/10 [00:00<?, ?it/s]"
      ]
     },
     "metadata": {},
     "output_type": "display_data"
    },
    {
     "data": {
      "application/vnd.jupyter.widget-view+json": {
       "model_id": "",
       "version_major": 2,
       "version_minor": 0
      },
      "text/plain": [
       "Sampling:   0%|          | 0/10496 [00:00<?, ?it/s]"
      ]
     },
     "metadata": {},
     "output_type": "display_data"
    },
    {
     "data": {
      "application/vnd.jupyter.widget-view+json": {
       "model_id": "",
       "version_major": 2,
       "version_minor": 0
      },
      "text/plain": [
       "Sampling:   0%|          | 0/10240 [00:00<?, ?it/s]"
      ]
     },
     "metadata": {},
     "output_type": "display_data"
    },
    {
     "data": {
      "application/vnd.jupyter.widget-view+json": {
       "model_id": "",
       "version_major": 2,
       "version_minor": 0
      },
      "text/plain": [
       "Sampling:   0%|          | 0/6400 [00:00<?, ?it/s]"
      ]
     },
     "metadata": {},
     "output_type": "display_data"
    },
    {
     "data": {
      "application/vnd.jupyter.widget-view+json": {
       "model_id": "",
       "version_major": 2,
       "version_minor": 0
      },
      "text/plain": [
       "Sampling:   0%|          | 0/10240 [00:00<?, ?it/s]"
      ]
     },
     "metadata": {},
     "output_type": "display_data"
    },
    {
     "name": "stdout",
     "output_type": "stream",
     "text": [
      "Retries per sample 314647\n",
      "Sample size 10752\n"
     ]
    },
    {
     "data": {
      "application/vnd.jupyter.widget-view+json": {
       "model_id": "4533a8d93d1048988fbcca73dc8fbac4",
       "version_major": 2,
       "version_minor": 0
      },
      "text/plain": [
       "Layer:   0%|          | 0/4 [00:00<?, ?it/s]"
      ]
     },
     "metadata": {},
     "output_type": "display_data"
    },
    {
     "data": {
      "application/vnd.jupyter.widget-view+json": {
       "model_id": "",
       "version_major": 2,
       "version_minor": 0
      },
      "text/plain": [
       "State at layer 1:   0%|          | 0/4 [00:00<?, ?it/s]"
      ]
     },
     "metadata": {},
     "output_type": "display_data"
    },
    {
     "data": {
      "application/vnd.jupyter.widget-view+json": {
       "model_id": "",
       "version_major": 2,
       "version_minor": 0
      },
      "text/plain": [
       "Sampling:   0%|          | 0/10752 [00:00<?, ?it/s]"
      ]
     },
     "metadata": {},
     "output_type": "display_data"
    },
    {
     "data": {
      "application/vnd.jupyter.widget-view+json": {
       "model_id": "",
       "version_major": 2,
       "version_minor": 0
      },
      "text/plain": [
       "Sampling:   0%|          | 0/10752 [00:00<?, ?it/s]"
      ]
     },
     "metadata": {},
     "output_type": "display_data"
    },
    {
     "name": "stdout",
     "output_type": "stream",
     "text": [
      "Retries per sample 325948\n",
      "Sample size 12800\n"
     ]
    },
    {
     "data": {
      "application/vnd.jupyter.widget-view+json": {
       "model_id": "01150365c9374f11ab6df14262f701e4",
       "version_major": 2,
       "version_minor": 0
      },
      "text/plain": [
       "Layer:   0%|          | 0/4 [00:00<?, ?it/s]"
      ]
     },
     "metadata": {},
     "output_type": "display_data"
    },
    {
     "data": {
      "application/vnd.jupyter.widget-view+json": {
       "model_id": "",
       "version_major": 2,
       "version_minor": 0
      },
      "text/plain": [
       "Sampling:   0%|          | 0/10752 [00:00<?, ?it/s]"
      ]
     },
     "metadata": {},
     "output_type": "display_data"
    },
    {
     "data": {
      "application/vnd.jupyter.widget-view+json": {
       "model_id": "",
       "version_major": 2,
       "version_minor": 0
      },
      "text/plain": [
       "State at layer 1:   0%|          | 0/5 [00:00<?, ?it/s]"
      ]
     },
     "metadata": {},
     "output_type": "display_data"
    },
    {
     "data": {
      "application/vnd.jupyter.widget-view+json": {
       "model_id": "",
       "version_major": 2,
       "version_minor": 0
      },
      "text/plain": [
       "Sampling:   0%|          | 0/12800 [00:00<?, ?it/s]"
      ]
     },
     "metadata": {},
     "output_type": "display_data"
    },
    {
     "data": {
      "application/vnd.jupyter.widget-view+json": {
       "model_id": "",
       "version_major": 2,
       "version_minor": 0
      },
      "text/plain": [
       "Sampling:   0%|          | 0/10752 [00:00<?, ?it/s]"
      ]
     },
     "metadata": {},
     "output_type": "display_data"
    },
    {
     "data": {
      "application/vnd.jupyter.widget-view+json": {
       "model_id": "",
       "version_major": 2,
       "version_minor": 0
      },
      "text/plain": [
       "Sampling:   0%|          | 0/12800 [00:00<?, ?it/s]"
      ]
     },
     "metadata": {},
     "output_type": "display_data"
    },
    {
     "data": {
      "application/vnd.jupyter.widget-view+json": {
       "model_id": "",
       "version_major": 2,
       "version_minor": 0
      },
      "text/plain": [
       "Sampling:   0%|          | 0/9984 [00:00<?, ?it/s]"
      ]
     },
     "metadata": {},
     "output_type": "display_data"
    },
    {
     "data": {
      "application/vnd.jupyter.widget-view+json": {
       "model_id": "",
       "version_major": 2,
       "version_minor": 0
      },
      "text/plain": [
       "State at layer 2:   0%|          | 0/5 [00:00<?, ?it/s]"
      ]
     },
     "metadata": {},
     "output_type": "display_data"
    },
    {
     "data": {
      "application/vnd.jupyter.widget-view+json": {
       "model_id": "",
       "version_major": 2,
       "version_minor": 0
      },
      "text/plain": [
       "Sampling:   0%|          | 0/10752 [00:00<?, ?it/s]"
      ]
     },
     "metadata": {},
     "output_type": "display_data"
    },
    {
     "data": {
      "application/vnd.jupyter.widget-view+json": {
       "model_id": "",
       "version_major": 2,
       "version_minor": 0
      },
      "text/plain": [
       "Sampling:   0%|          | 0/12800 [00:00<?, ?it/s]"
      ]
     },
     "metadata": {},
     "output_type": "display_data"
    },
    {
     "data": {
      "application/vnd.jupyter.widget-view+json": {
       "model_id": "7258693fbe1a42a3892add48a6936f99",
       "version_major": 2,
       "version_minor": 0
      },
      "text/plain": [
       "State at layer 3:   0%|          | 0/10 [00:00<?, ?it/s]"
      ]
     },
     "metadata": {},
     "output_type": "display_data"
    },
    {
     "data": {
      "application/vnd.jupyter.widget-view+json": {
       "model_id": "",
       "version_major": 2,
       "version_minor": 0
      },
      "text/plain": [
       "Sampling:   0%|          | 0/10240 [00:00<?, ?it/s]"
      ]
     },
     "metadata": {},
     "output_type": "display_data"
    },
    {
     "data": {
      "application/vnd.jupyter.widget-view+json": {
       "model_id": "",
       "version_major": 2,
       "version_minor": 0
      },
      "text/plain": [
       "Sampling:   0%|          | 0/12800 [00:00<?, ?it/s]"
      ]
     },
     "metadata": {},
     "output_type": "display_data"
    },
    {
     "data": {
      "application/vnd.jupyter.widget-view+json": {
       "model_id": "",
       "version_major": 2,
       "version_minor": 0
      },
      "text/plain": [
       "Sampling:   0%|          | 0/10752 [00:00<?, ?it/s]"
      ]
     },
     "metadata": {},
     "output_type": "display_data"
    },
    {
     "data": {
      "application/vnd.jupyter.widget-view+json": {
       "model_id": "",
       "version_major": 2,
       "version_minor": 0
      },
      "text/plain": [
       "Sampling:   0%|          | 0/12800 [00:00<?, ?it/s]"
      ]
     },
     "metadata": {},
     "output_type": "display_data"
    },
    {
     "data": {
      "application/vnd.jupyter.widget-view+json": {
       "model_id": "",
       "version_major": 2,
       "version_minor": 0
      },
      "text/plain": [
       "State at layer 2:   0%|          | 0/6 [00:00<?, ?it/s]"
      ]
     },
     "metadata": {},
     "output_type": "display_data"
    },
    {
     "data": {
      "application/vnd.jupyter.widget-view+json": {
       "model_id": "",
       "version_major": 2,
       "version_minor": 0
      },
      "text/plain": [
       "Sampling:   0%|          | 0/12800 [00:00<?, ?it/s]"
      ]
     },
     "metadata": {},
     "output_type": "display_data"
    },
    {
     "data": {
      "application/vnd.jupyter.widget-view+json": {
       "model_id": "",
       "version_major": 2,
       "version_minor": 0
      },
      "text/plain": [
       "Sampling:   0%|          | 0/10752 [00:00<?, ?it/s]"
      ]
     },
     "metadata": {},
     "output_type": "display_data"
    },
    {
     "data": {
      "application/vnd.jupyter.widget-view+json": {
       "model_id": "",
       "version_major": 2,
       "version_minor": 0
      },
      "text/plain": [
       "Sampling:   0%|          | 0/12800 [00:00<?, ?it/s]"
      ]
     },
     "metadata": {},
     "output_type": "display_data"
    },
    {
     "data": {
      "application/vnd.jupyter.widget-view+json": {
       "model_id": "",
       "version_major": 2,
       "version_minor": 0
      },
      "text/plain": [
       "Sampling:   0%|          | 0/10752 [00:00<?, ?it/s]"
      ]
     },
     "metadata": {},
     "output_type": "display_data"
    },
    {
     "data": {
      "application/vnd.jupyter.widget-view+json": {
       "model_id": "",
       "version_major": 2,
       "version_minor": 0
      },
      "text/plain": [
       "Sampling:   0%|          | 0/8448 [00:00<?, ?it/s]"
      ]
     },
     "metadata": {},
     "output_type": "display_data"
    },
    {
     "data": {
      "application/vnd.jupyter.widget-view+json": {
       "model_id": "",
       "version_major": 2,
       "version_minor": 0
      },
      "text/plain": [
       "Sampling:   0%|          | 0/10496 [00:00<?, ?it/s]"
      ]
     },
     "metadata": {},
     "output_type": "display_data"
    },
    {
     "data": {
      "application/vnd.jupyter.widget-view+json": {
       "model_id": "",
       "version_major": 2,
       "version_minor": 0
      },
      "text/plain": [
       "Sampling:   0%|          | 0/9984 [00:00<?, ?it/s]"
      ]
     },
     "metadata": {},
     "output_type": "display_data"
    },
    {
     "data": {
      "application/vnd.jupyter.widget-view+json": {
       "model_id": "",
       "version_major": 2,
       "version_minor": 0
      },
      "text/plain": [
       "Sampling:   0%|          | 0/10752 [00:00<?, ?it/s]"
      ]
     },
     "metadata": {},
     "output_type": "display_data"
    },
    {
     "data": {
      "application/vnd.jupyter.widget-view+json": {
       "model_id": "",
       "version_major": 2,
       "version_minor": 0
      },
      "text/plain": [
       "Sampling:   0%|          | 0/12800 [00:00<?, ?it/s]"
      ]
     },
     "metadata": {},
     "output_type": "display_data"
    },
    {
     "data": {
      "application/vnd.jupyter.widget-view+json": {
       "model_id": "",
       "version_major": 2,
       "version_minor": 0
      },
      "text/plain": [
       "Sampling:   0%|          | 0/12800 [00:00<?, ?it/s]"
      ]
     },
     "metadata": {},
     "output_type": "display_data"
    },
    {
     "data": {
      "application/vnd.jupyter.widget-view+json": {
       "model_id": "",
       "version_major": 2,
       "version_minor": 0
      },
      "text/plain": [
       "State at layer 3:   0%|          | 0/5 [00:00<?, ?it/s]"
      ]
     },
     "metadata": {},
     "output_type": "display_data"
    },
    {
     "data": {
      "application/vnd.jupyter.widget-view+json": {
       "model_id": "",
       "version_major": 2,
       "version_minor": 0
      },
      "text/plain": [
       "Sampling:   0%|          | 0/10752 [00:00<?, ?it/s]"
      ]
     },
     "metadata": {},
     "output_type": "display_data"
    },
    {
     "data": {
      "application/vnd.jupyter.widget-view+json": {
       "model_id": "",
       "version_major": 2,
       "version_minor": 0
      },
      "text/plain": [
       "Sampling:   0%|          | 0/8448 [00:00<?, ?it/s]"
      ]
     },
     "metadata": {},
     "output_type": "display_data"
    },
    {
     "data": {
      "application/vnd.jupyter.widget-view+json": {
       "model_id": "",
       "version_major": 2,
       "version_minor": 0
      },
      "text/plain": [
       "Sampling:   0%|          | 0/12800 [00:00<?, ?it/s]"
      ]
     },
     "metadata": {},
     "output_type": "display_data"
    },
    {
     "data": {
      "application/vnd.jupyter.widget-view+json": {
       "model_id": "",
       "version_major": 2,
       "version_minor": 0
      },
      "text/plain": [
       "Sampling:   0%|          | 0/10240 [00:00<?, ?it/s]"
      ]
     },
     "metadata": {},
     "output_type": "display_data"
    },
    {
     "data": {
      "application/vnd.jupyter.widget-view+json": {
       "model_id": "",
       "version_major": 2,
       "version_minor": 0
      },
      "text/plain": [
       "Sampling:   0%|          | 0/10752 [00:00<?, ?it/s]"
      ]
     },
     "metadata": {},
     "output_type": "display_data"
    },
    {
     "data": {
      "application/vnd.jupyter.widget-view+json": {
       "model_id": "",
       "version_major": 2,
       "version_minor": 0
      },
      "text/plain": [
       "Sampling:   0%|          | 0/9984 [00:00<?, ?it/s]"
      ]
     },
     "metadata": {},
     "output_type": "display_data"
    },
    {
     "data": {
      "application/vnd.jupyter.widget-view+json": {
       "model_id": "",
       "version_major": 2,
       "version_minor": 0
      },
      "text/plain": [
       "Sampling:   0%|          | 0/12800 [00:00<?, ?it/s]"
      ]
     },
     "metadata": {},
     "output_type": "display_data"
    },
    {
     "data": {
      "application/vnd.jupyter.widget-view+json": {
       "model_id": "",
       "version_major": 2,
       "version_minor": 0
      },
      "text/plain": [
       "Sampling:   0%|          | 0/10496 [00:00<?, ?it/s]"
      ]
     },
     "metadata": {},
     "output_type": "display_data"
    },
    {
     "data": {
      "application/vnd.jupyter.widget-view+json": {
       "model_id": "",
       "version_major": 2,
       "version_minor": 0
      },
      "text/plain": [
       "State at layer 3:   0%|          | 0/6 [00:00<?, ?it/s]"
      ]
     },
     "metadata": {},
     "output_type": "display_data"
    },
    {
     "data": {
      "application/vnd.jupyter.widget-view+json": {
       "model_id": "",
       "version_major": 2,
       "version_minor": 0
      },
      "text/plain": [
       "Sampling:   0%|          | 0/12800 [00:00<?, ?it/s]"
      ]
     },
     "metadata": {},
     "output_type": "display_data"
    },
    {
     "data": {
      "application/vnd.jupyter.widget-view+json": {
       "model_id": "",
       "version_major": 2,
       "version_minor": 0
      },
      "text/plain": [
       "Sampling:   0%|          | 0/12800 [00:00<?, ?it/s]"
      ]
     },
     "metadata": {},
     "output_type": "display_data"
    },
    {
     "data": {
      "application/vnd.jupyter.widget-view+json": {
       "model_id": "",
       "version_major": 2,
       "version_minor": 0
      },
      "text/plain": [
       "Sampling:   0%|          | 0/10752 [00:00<?, ?it/s]"
      ]
     },
     "metadata": {},
     "output_type": "display_data"
    },
    {
     "data": {
      "application/vnd.jupyter.widget-view+json": {
       "model_id": "",
       "version_major": 2,
       "version_minor": 0
      },
      "text/plain": [
       "Sampling:   0%|          | 0/10240 [00:00<?, ?it/s]"
      ]
     },
     "metadata": {},
     "output_type": "display_data"
    },
    {
     "data": {
      "application/vnd.jupyter.widget-view+json": {
       "model_id": "",
       "version_major": 2,
       "version_minor": 0
      },
      "text/plain": [
       "Sampling:   0%|          | 0/10496 [00:00<?, ?it/s]"
      ]
     },
     "metadata": {},
     "output_type": "display_data"
    },
    {
     "data": {
      "application/vnd.jupyter.widget-view+json": {
       "model_id": "",
       "version_major": 2,
       "version_minor": 0
      },
      "text/plain": [
       "Sampling:   0%|          | 0/9984 [00:00<?, ?it/s]"
      ]
     },
     "metadata": {},
     "output_type": "display_data"
    },
    {
     "data": {
      "application/vnd.jupyter.widget-view+json": {
       "model_id": "",
       "version_major": 2,
       "version_minor": 0
      },
      "text/plain": [
       "Sampling:   0%|          | 0/10752 [00:00<?, ?it/s]"
      ]
     },
     "metadata": {},
     "output_type": "display_data"
    },
    {
     "data": {
      "application/vnd.jupyter.widget-view+json": {
       "model_id": "",
       "version_major": 2,
       "version_minor": 0
      },
      "text/plain": [
       "Sampling:   0%|          | 0/12800 [00:00<?, ?it/s]"
      ]
     },
     "metadata": {},
     "output_type": "display_data"
    },
    {
     "data": {
      "application/vnd.jupyter.widget-view+json": {
       "model_id": "",
       "version_major": 2,
       "version_minor": 0
      },
      "text/plain": [
       "Sampling:   0%|          | 0/8448 [00:00<?, ?it/s]"
      ]
     },
     "metadata": {},
     "output_type": "display_data"
    },
    {
     "data": {
      "application/vnd.jupyter.widget-view+json": {
       "model_id": "",
       "version_major": 2,
       "version_minor": 0
      },
      "text/plain": [
       "Sampling:   0%|          | 0/10752 [00:00<?, ?it/s]"
      ]
     },
     "metadata": {},
     "output_type": "display_data"
    },
    {
     "data": {
      "application/vnd.jupyter.widget-view+json": {
       "model_id": "",
       "version_major": 2,
       "version_minor": 0
      },
      "text/plain": [
       "Sampling:   0%|          | 0/12800 [00:00<?, ?it/s]"
      ]
     },
     "metadata": {},
     "output_type": "display_data"
    },
    {
     "data": {
      "application/vnd.jupyter.widget-view+json": {
       "model_id": "",
       "version_major": 2,
       "version_minor": 0
      },
      "text/plain": [
       "Sampling:   0%|          | 0/10496 [00:00<?, ?it/s]"
      ]
     },
     "metadata": {},
     "output_type": "display_data"
    },
    {
     "data": {
      "application/vnd.jupyter.widget-view+json": {
       "model_id": "",
       "version_major": 2,
       "version_minor": 0
      },
      "text/plain": [
       "Sampling:   0%|          | 0/8448 [00:00<?, ?it/s]"
      ]
     },
     "metadata": {},
     "output_type": "display_data"
    },
    {
     "data": {
      "application/vnd.jupyter.widget-view+json": {
       "model_id": "",
       "version_major": 2,
       "version_minor": 0
      },
      "text/plain": [
       "Sampling:   0%|          | 0/9984 [00:00<?, ?it/s]"
      ]
     },
     "metadata": {},
     "output_type": "display_data"
    },
    {
     "data": {
      "application/vnd.jupyter.widget-view+json": {
       "model_id": "",
       "version_major": 2,
       "version_minor": 0
      },
      "text/plain": [
       "Sampling:   0%|          | 0/12800 [00:00<?, ?it/s]"
      ]
     },
     "metadata": {},
     "output_type": "display_data"
    },
    {
     "data": {
      "application/vnd.jupyter.widget-view+json": {
       "model_id": "bbd28b196b82449e898113fa6febe0b0",
       "version_major": 2,
       "version_minor": 0
      },
      "text/plain": [
       "State at layer 4:   0%|          | 0/5 [00:00<?, ?it/s]"
      ]
     },
     "metadata": {},
     "output_type": "display_data"
    },
    {
     "data": {
      "application/vnd.jupyter.widget-view+json": {
       "model_id": "",
       "version_major": 2,
       "version_minor": 0
      },
      "text/plain": [
       "Sampling:   0%|          | 0/10752 [00:00<?, ?it/s]"
      ]
     },
     "metadata": {},
     "output_type": "display_data"
    },
    {
     "data": {
      "application/vnd.jupyter.widget-view+json": {
       "model_id": "",
       "version_major": 2,
       "version_minor": 0
      },
      "text/plain": [
       "Sampling:   0%|          | 0/10240 [00:00<?, ?it/s]"
      ]
     },
     "metadata": {},
     "output_type": "display_data"
    },
    {
     "data": {
      "application/vnd.jupyter.widget-view+json": {
       "model_id": "",
       "version_major": 2,
       "version_minor": 0
      },
      "text/plain": [
       "Sampling:   0%|          | 0/8448 [00:00<?, ?it/s]"
      ]
     },
     "metadata": {},
     "output_type": "display_data"
    },
    {
     "data": {
      "application/vnd.jupyter.widget-view+json": {
       "model_id": "",
       "version_major": 2,
       "version_minor": 0
      },
      "text/plain": [
       "Sampling:   0%|          | 0/12800 [00:00<?, ?it/s]"
      ]
     },
     "metadata": {},
     "output_type": "display_data"
    },
    {
     "data": {
      "application/vnd.jupyter.widget-view+json": {
       "model_id": "d09b613a84214150b1dda855c9aab6fc",
       "version_major": 2,
       "version_minor": 0
      },
      "text/plain": [
       "State at layer 4:   0%|          | 0/8 [00:00<?, ?it/s]"
      ]
     },
     "metadata": {},
     "output_type": "display_data"
    },
    {
     "data": {
      "application/vnd.jupyter.widget-view+json": {
       "model_id": "bda895ac88704faea70662f030b86301",
       "version_major": 2,
       "version_minor": 0
      },
      "text/plain": [
       "Sampling:   0%|          | 0/8448 [00:00<?, ?it/s]"
      ]
     },
     "metadata": {},
     "output_type": "display_data"
    },
    {
     "data": {
      "application/vnd.jupyter.widget-view+json": {
       "model_id": "1be0e75879c14a30a6a8bf19e9d24663",
       "version_major": 2,
       "version_minor": 0
      },
      "text/plain": [
       "Sampling:   0%|          | 0/10752 [00:00<?, ?it/s]"
      ]
     },
     "metadata": {},
     "output_type": "display_data"
    },
    {
     "data": {
      "application/vnd.jupyter.widget-view+json": {
       "model_id": "9fe2bc31c46741879cbcfa1c4aa13edc",
       "version_major": 2,
       "version_minor": 0
      },
      "text/plain": [
       "State at layer 4:   0%|          | 0/6 [00:00<?, ?it/s]"
      ]
     },
     "metadata": {},
     "output_type": "display_data"
    },
    {
     "data": {
      "application/vnd.jupyter.widget-view+json": {
       "model_id": "",
       "version_major": 2,
       "version_minor": 0
      },
      "text/plain": [
       "Sampling:   0%|          | 0/12800 [00:00<?, ?it/s]"
      ]
     },
     "metadata": {},
     "output_type": "display_data"
    },
    {
     "data": {
      "application/vnd.jupyter.widget-view+json": {
       "model_id": "6858c1d5f50f49e1953b1e3189f194a4",
       "version_major": 2,
       "version_minor": 0
      },
      "text/plain": [
       "Sampling:   0%|          | 0/10496 [00:00<?, ?it/s]"
      ]
     },
     "metadata": {},
     "output_type": "display_data"
    },
    {
     "data": {
      "application/vnd.jupyter.widget-view+json": {
       "model_id": "e5d7beeb9c934f39a7800c2e63f92fd9",
       "version_major": 2,
       "version_minor": 0
      },
      "text/plain": [
       "Sampling:   0%|          | 0/9984 [00:00<?, ?it/s]"
      ]
     },
     "metadata": {},
     "output_type": "display_data"
    },
    {
     "data": {
      "application/vnd.jupyter.widget-view+json": {
       "model_id": "8dc48196eafb4d08ae567015012cbba2",
       "version_major": 2,
       "version_minor": 0
      },
      "text/plain": [
       "Sampling:   0%|          | 0/10240 [00:00<?, ?it/s]"
      ]
     },
     "metadata": {},
     "output_type": "display_data"
    },
    {
     "data": {
      "application/vnd.jupyter.widget-view+json": {
       "model_id": "62a9e5a059b64db69309d26a5c0332ea",
       "version_major": 2,
       "version_minor": 0
      },
      "text/plain": [
       "Sampling:   0%|          | 0/12800 [00:00<?, ?it/s]"
      ]
     },
     "metadata": {},
     "output_type": "display_data"
    }
   ],
   "source": [
    "timeout = 2400\n",
    "def compare_random_to_brute(i, nfa: NFA)->list:\n",
    "    print(f\"[{i}] started\\n\", end=\"\")\n",
    "    ret_data = []\n",
    "    start = time.time()\n",
    "    for string_len in range(4, 5):\n",
    "        bruteforce = nfa.bruteforce_count_only(string_len)\n",
    "        if bruteforce == 0:\n",
    "            continue\n",
    "        for k_mult_base in range(6, 15):\n",
    "            k_mult = 2 ** k_mult_base\n",
    "            try:\n",
    "                t0 = time.time()\n",
    "                # Runaway: less than 10 seconds left\n",
    "                if (t0 - start) > (timeout - 10):\n",
    "                    continue\n",
    "                count, nfa_unroll = count_nfa(nfa, string_len, eps=1, kappa_multiple=k_mult)\n",
    "                t1 = time.time()\n",
    "                ret_data.append({\n",
    "                    \"n_states\": len(nfa.states),\n",
    "                    \"initial_states\":nfa.initial_states,\n",
    "                    \"final_states\":nfa.final_states,\n",
    "                    \"transitions\":nfa.transitions,\n",
    "                    \"string_len\": string_len,\n",
    "                    \"bruteforce\": bruteforce,\n",
    "                    \"estimate\": count,\n",
    "                    \"kappa_multiple\": k_mult,\n",
    "                    \"time\": t1 - t0,\n",
    "                })\n",
    "                rel_error = (count - bruteforce) / bruteforce\n",
    "                # if low rel_error or the next round will probably take more than remaining time\n",
    "                remaining_time = timeout - (t1 - start)\n",
    "                if rel_error < 0.5 or 2 * (t1 - t0) > remaining_time:\n",
    "                    break\n",
    "            except Exception as e:\n",
    "                return e\n",
    "    return ret_data\n",
    "\n",
    "\n",
    "# results = [] # n_states, initial_states, final_states, transitions, string_n, bruteforce, estimate, eps, time\n",
    "samples = 0\n",
    "errors = []\n",
    "error_count = 0\n",
    "n_proc = 6\n",
    "offset = 0\n",
    "with Pool(processes=n_proc) as pool:\n",
    "    sorted_nfas = df.sort_values(by=\"rel_error\", ascending=True).tail(30)\n",
    "    while offset < 50 and error_count < 3:\n",
    "        nfa_subset = [instantiate_nfa(row) for row in sorted_nfas.iloc[offset:offset+10].itertuples()]\n",
    "        multiproc_results = [pool.apply_async(compare_random_to_brute, (i, nfa)) for i, nfa in enumerate(nfa_subset)]\n",
    "        for res_promise in tqdm(multiproc_results):\n",
    "            res = None\n",
    "            try:\n",
    "                res = res_promise.get(timeout=timeout)\n",
    "            except TimeoutError:\n",
    "                continue\n",
    "\n",
    "            if isinstance(res, Exception):\n",
    "                errors.append(res)\n",
    "                error_count += 1\n",
    "                continue\n",
    "            else:\n",
    "                samples += 1\n",
    "                \n",
    "                results.extend(res)\n",
    "            offset += 1\n",
    "\n",
    "        clear_output(wait=True)\n",
    "        with open(\"large_error_stats.pkl\", \"wb\") as fd:\n",
    "            pickle.dump(results, fd)\n",
    "        print(f\"Wrote pickle file for {len(results)} results\")\n"
   ]
  },
  {
   "cell_type": "code",
   "execution_count": 6,
   "id": "af1af280",
   "metadata": {},
   "outputs": [],
   "source": [
    "df_kappa = pd.DataFrame(results)"
   ]
  },
  {
   "cell_type": "code",
   "execution_count": 7,
   "id": "ea811f43",
   "metadata": {},
   "outputs": [
    {
     "data": {
      "text/html": [
       "<div>\n",
       "<style scoped>\n",
       "    .dataframe tbody tr th:only-of-type {\n",
       "        vertical-align: middle;\n",
       "    }\n",
       "\n",
       "    .dataframe tbody tr th {\n",
       "        vertical-align: top;\n",
       "    }\n",
       "\n",
       "    .dataframe thead th {\n",
       "        text-align: right;\n",
       "    }\n",
       "</style>\n",
       "<table border=\"1\" class=\"dataframe\">\n",
       "  <thead>\n",
       "    <tr style=\"text-align: right;\">\n",
       "      <th></th>\n",
       "      <th>n_states</th>\n",
       "      <th>initial_states</th>\n",
       "      <th>final_states</th>\n",
       "      <th>transitions</th>\n",
       "      <th>string_len</th>\n",
       "      <th>bruteforce</th>\n",
       "      <th>estimate</th>\n",
       "      <th>kappa_multiple</th>\n",
       "      <th>time</th>\n",
       "    </tr>\n",
       "  </thead>\n",
       "  <tbody>\n",
       "    <tr>\n",
       "      <th>0</th>\n",
       "      <td>4</td>\n",
       "      <td>{q3}</td>\n",
       "      <td>{q3, q2}</td>\n",
       "      <td>{'q0': {'1': {'q1'}, '0': {'q3', 'q2', 'q1'}},...</td>\n",
       "      <td>4</td>\n",
       "      <td>16</td>\n",
       "      <td>55.119722</td>\n",
       "      <td>4</td>\n",
       "      <td>17.601102</td>\n",
       "    </tr>\n",
       "    <tr>\n",
       "      <th>1</th>\n",
       "      <td>4</td>\n",
       "      <td>{q3}</td>\n",
       "      <td>{q3, q2}</td>\n",
       "      <td>{'q0': {'1': {'q1'}, '0': {'q3', 'q2', 'q1'}},...</td>\n",
       "      <td>4</td>\n",
       "      <td>16</td>\n",
       "      <td>55.311481</td>\n",
       "      <td>8</td>\n",
       "      <td>32.859440</td>\n",
       "    </tr>\n",
       "    <tr>\n",
       "      <th>2</th>\n",
       "      <td>4</td>\n",
       "      <td>{q3}</td>\n",
       "      <td>{q3, q2}</td>\n",
       "      <td>{'q0': {'1': {'q1'}, '0': {'q3', 'q2', 'q1'}},...</td>\n",
       "      <td>4</td>\n",
       "      <td>16</td>\n",
       "      <td>55.747486</td>\n",
       "      <td>16</td>\n",
       "      <td>71.461051</td>\n",
       "    </tr>\n",
       "    <tr>\n",
       "      <th>3</th>\n",
       "      <td>4</td>\n",
       "      <td>{q3}</td>\n",
       "      <td>{q3, q2}</td>\n",
       "      <td>{'q0': {'1': {'q1'}, '0': {'q3', 'q2', 'q1'}},...</td>\n",
       "      <td>5</td>\n",
       "      <td>31</td>\n",
       "      <td>149.066297</td>\n",
       "      <td>4</td>\n",
       "      <td>50.961156</td>\n",
       "    </tr>\n",
       "    <tr>\n",
       "      <th>4</th>\n",
       "      <td>4</td>\n",
       "      <td>{q3}</td>\n",
       "      <td>{q3, q2}</td>\n",
       "      <td>{'q0': {'1': {'q1'}, '0': {'q3', 'q2', 'q1'}},...</td>\n",
       "      <td>5</td>\n",
       "      <td>31</td>\n",
       "      <td>160.625151</td>\n",
       "      <td>8</td>\n",
       "      <td>104.424047</td>\n",
       "    </tr>\n",
       "    <tr>\n",
       "      <th>5</th>\n",
       "      <td>4</td>\n",
       "      <td>{q3}</td>\n",
       "      <td>{q3, q2}</td>\n",
       "      <td>{'q0': {'1': {'q1'}, '0': {'q3', 'q2', 'q1'}},...</td>\n",
       "      <td>5</td>\n",
       "      <td>31</td>\n",
       "      <td>156.447535</td>\n",
       "      <td>16</td>\n",
       "      <td>209.917380</td>\n",
       "    </tr>\n",
       "    <tr>\n",
       "      <th>6</th>\n",
       "      <td>5</td>\n",
       "      <td>{q3, q1, q2}</td>\n",
       "      <td>{q3}</td>\n",
       "      <td>{'q0': {'1': {'q3', 'q2', 'q4', 'q0'}, '0': {'...</td>\n",
       "      <td>4</td>\n",
       "      <td>16</td>\n",
       "      <td>23.350601</td>\n",
       "      <td>4</td>\n",
       "      <td>13.813560</td>\n",
       "    </tr>\n",
       "    <tr>\n",
       "      <th>7</th>\n",
       "      <td>5</td>\n",
       "      <td>{q3, q1, q2}</td>\n",
       "      <td>{q3}</td>\n",
       "      <td>{'q0': {'1': {'q3', 'q2', 'q4', 'q0'}, '0': {'...</td>\n",
       "      <td>4</td>\n",
       "      <td>16</td>\n",
       "      <td>23.206019</td>\n",
       "      <td>8</td>\n",
       "      <td>24.952603</td>\n",
       "    </tr>\n",
       "    <tr>\n",
       "      <th>8</th>\n",
       "      <td>5</td>\n",
       "      <td>{q3, q1, q2}</td>\n",
       "      <td>{q3}</td>\n",
       "      <td>{'q0': {'1': {'q3', 'q2', 'q4', 'q0'}, '0': {'...</td>\n",
       "      <td>4</td>\n",
       "      <td>16</td>\n",
       "      <td>22.977379</td>\n",
       "      <td>16</td>\n",
       "      <td>50.174008</td>\n",
       "    </tr>\n",
       "    <tr>\n",
       "      <th>9</th>\n",
       "      <td>5</td>\n",
       "      <td>{q3, q1, q2}</td>\n",
       "      <td>{q3}</td>\n",
       "      <td>{'q0': {'1': {'q3', 'q2', 'q4', 'q0'}, '0': {'...</td>\n",
       "      <td>5</td>\n",
       "      <td>32</td>\n",
       "      <td>60.257846</td>\n",
       "      <td>4</td>\n",
       "      <td>32.507481</td>\n",
       "    </tr>\n",
       "    <tr>\n",
       "      <th>10</th>\n",
       "      <td>5</td>\n",
       "      <td>{q3, q1, q2}</td>\n",
       "      <td>{q3}</td>\n",
       "      <td>{'q0': {'1': {'q3', 'q2', 'q4', 'q0'}, '0': {'...</td>\n",
       "      <td>5</td>\n",
       "      <td>32</td>\n",
       "      <td>63.298083</td>\n",
       "      <td>8</td>\n",
       "      <td>66.465349</td>\n",
       "    </tr>\n",
       "    <tr>\n",
       "      <th>11</th>\n",
       "      <td>5</td>\n",
       "      <td>{q3, q1, q2}</td>\n",
       "      <td>{q3}</td>\n",
       "      <td>{'q0': {'1': {'q3', 'q2', 'q4', 'q0'}, '0': {'...</td>\n",
       "      <td>5</td>\n",
       "      <td>32</td>\n",
       "      <td>61.947262</td>\n",
       "      <td>16</td>\n",
       "      <td>133.606820</td>\n",
       "    </tr>\n",
       "    <tr>\n",
       "      <th>12</th>\n",
       "      <td>5</td>\n",
       "      <td>{q4}</td>\n",
       "      <td>{q1, q4, q2}</td>\n",
       "      <td>{'q0': {'1': {'q1'}, '0': {'q1'}}, 'q1': {'0':...</td>\n",
       "      <td>4</td>\n",
       "      <td>16</td>\n",
       "      <td>38.729022</td>\n",
       "      <td>4</td>\n",
       "      <td>14.100522</td>\n",
       "    </tr>\n",
       "    <tr>\n",
       "      <th>13</th>\n",
       "      <td>5</td>\n",
       "      <td>{q4}</td>\n",
       "      <td>{q1, q4, q2}</td>\n",
       "      <td>{'q0': {'1': {'q1'}, '0': {'q1'}}, 'q1': {'0':...</td>\n",
       "      <td>4</td>\n",
       "      <td>16</td>\n",
       "      <td>37.730942</td>\n",
       "      <td>8</td>\n",
       "      <td>23.287500</td>\n",
       "    </tr>\n",
       "    <tr>\n",
       "      <th>14</th>\n",
       "      <td>5</td>\n",
       "      <td>{q4}</td>\n",
       "      <td>{q1, q4, q2}</td>\n",
       "      <td>{'q0': {'1': {'q1'}, '0': {'q1'}}, 'q1': {'0':...</td>\n",
       "      <td>4</td>\n",
       "      <td>16</td>\n",
       "      <td>37.358186</td>\n",
       "      <td>16</td>\n",
       "      <td>46.580377</td>\n",
       "    </tr>\n",
       "    <tr>\n",
       "      <th>15</th>\n",
       "      <td>5</td>\n",
       "      <td>{q4}</td>\n",
       "      <td>{q1, q4, q2}</td>\n",
       "      <td>{'q0': {'1': {'q1'}, '0': {'q1'}}, 'q1': {'0':...</td>\n",
       "      <td>5</td>\n",
       "      <td>32</td>\n",
       "      <td>103.283814</td>\n",
       "      <td>4</td>\n",
       "      <td>37.757924</td>\n",
       "    </tr>\n",
       "    <tr>\n",
       "      <th>16</th>\n",
       "      <td>5</td>\n",
       "      <td>{q4}</td>\n",
       "      <td>{q1, q4, q2}</td>\n",
       "      <td>{'q0': {'1': {'q1'}, '0': {'q1'}}, 'q1': {'0':...</td>\n",
       "      <td>5</td>\n",
       "      <td>32</td>\n",
       "      <td>103.124366</td>\n",
       "      <td>8</td>\n",
       "      <td>78.605669</td>\n",
       "    </tr>\n",
       "    <tr>\n",
       "      <th>17</th>\n",
       "      <td>5</td>\n",
       "      <td>{q4}</td>\n",
       "      <td>{q1, q4, q2}</td>\n",
       "      <td>{'q0': {'1': {'q1'}, '0': {'q1'}}, 'q1': {'0':...</td>\n",
       "      <td>5</td>\n",
       "      <td>32</td>\n",
       "      <td>104.576890</td>\n",
       "      <td>16</td>\n",
       "      <td>156.679954</td>\n",
       "    </tr>\n",
       "  </tbody>\n",
       "</table>\n",
       "</div>"
      ],
      "text/plain": [
       "    n_states initial_states  final_states  \\\n",
       "0          4           {q3}      {q3, q2}   \n",
       "1          4           {q3}      {q3, q2}   \n",
       "2          4           {q3}      {q3, q2}   \n",
       "3          4           {q3}      {q3, q2}   \n",
       "4          4           {q3}      {q3, q2}   \n",
       "5          4           {q3}      {q3, q2}   \n",
       "6          5   {q3, q1, q2}          {q3}   \n",
       "7          5   {q3, q1, q2}          {q3}   \n",
       "8          5   {q3, q1, q2}          {q3}   \n",
       "9          5   {q3, q1, q2}          {q3}   \n",
       "10         5   {q3, q1, q2}          {q3}   \n",
       "11         5   {q3, q1, q2}          {q3}   \n",
       "12         5           {q4}  {q1, q4, q2}   \n",
       "13         5           {q4}  {q1, q4, q2}   \n",
       "14         5           {q4}  {q1, q4, q2}   \n",
       "15         5           {q4}  {q1, q4, q2}   \n",
       "16         5           {q4}  {q1, q4, q2}   \n",
       "17         5           {q4}  {q1, q4, q2}   \n",
       "\n",
       "                                          transitions  string_len  bruteforce  \\\n",
       "0   {'q0': {'1': {'q1'}, '0': {'q3', 'q2', 'q1'}},...           4          16   \n",
       "1   {'q0': {'1': {'q1'}, '0': {'q3', 'q2', 'q1'}},...           4          16   \n",
       "2   {'q0': {'1': {'q1'}, '0': {'q3', 'q2', 'q1'}},...           4          16   \n",
       "3   {'q0': {'1': {'q1'}, '0': {'q3', 'q2', 'q1'}},...           5          31   \n",
       "4   {'q0': {'1': {'q1'}, '0': {'q3', 'q2', 'q1'}},...           5          31   \n",
       "5   {'q0': {'1': {'q1'}, '0': {'q3', 'q2', 'q1'}},...           5          31   \n",
       "6   {'q0': {'1': {'q3', 'q2', 'q4', 'q0'}, '0': {'...           4          16   \n",
       "7   {'q0': {'1': {'q3', 'q2', 'q4', 'q0'}, '0': {'...           4          16   \n",
       "8   {'q0': {'1': {'q3', 'q2', 'q4', 'q0'}, '0': {'...           4          16   \n",
       "9   {'q0': {'1': {'q3', 'q2', 'q4', 'q0'}, '0': {'...           5          32   \n",
       "10  {'q0': {'1': {'q3', 'q2', 'q4', 'q0'}, '0': {'...           5          32   \n",
       "11  {'q0': {'1': {'q3', 'q2', 'q4', 'q0'}, '0': {'...           5          32   \n",
       "12  {'q0': {'1': {'q1'}, '0': {'q1'}}, 'q1': {'0':...           4          16   \n",
       "13  {'q0': {'1': {'q1'}, '0': {'q1'}}, 'q1': {'0':...           4          16   \n",
       "14  {'q0': {'1': {'q1'}, '0': {'q1'}}, 'q1': {'0':...           4          16   \n",
       "15  {'q0': {'1': {'q1'}, '0': {'q1'}}, 'q1': {'0':...           5          32   \n",
       "16  {'q0': {'1': {'q1'}, '0': {'q1'}}, 'q1': {'0':...           5          32   \n",
       "17  {'q0': {'1': {'q1'}, '0': {'q1'}}, 'q1': {'0':...           5          32   \n",
       "\n",
       "      estimate  kappa_multiple        time  \n",
       "0    55.119722               4   17.601102  \n",
       "1    55.311481               8   32.859440  \n",
       "2    55.747486              16   71.461051  \n",
       "3   149.066297               4   50.961156  \n",
       "4   160.625151               8  104.424047  \n",
       "5   156.447535              16  209.917380  \n",
       "6    23.350601               4   13.813560  \n",
       "7    23.206019               8   24.952603  \n",
       "8    22.977379              16   50.174008  \n",
       "9    60.257846               4   32.507481  \n",
       "10   63.298083               8   66.465349  \n",
       "11   61.947262              16  133.606820  \n",
       "12   38.729022               4   14.100522  \n",
       "13   37.730942               8   23.287500  \n",
       "14   37.358186              16   46.580377  \n",
       "15  103.283814               4   37.757924  \n",
       "16  103.124366               8   78.605669  \n",
       "17  104.576890              16  156.679954  "
      ]
     },
     "execution_count": 7,
     "metadata": {},
     "output_type": "execute_result"
    }
   ],
   "source": [
    "df_kappa"
   ]
  },
  {
   "cell_type": "code",
   "execution_count": 5,
   "id": "ef4f6e79",
   "metadata": {},
   "outputs": [
    {
     "data": {
      "text/plain": [
       "[TypeError(\"count_nfa() got an unexpected keyword argument 'epsilon'\"),\n",
       " TypeError(\"count_nfa() got an unexpected keyword argument 'epsilon'\"),\n",
       " TypeError(\"count_nfa() got an unexpected keyword argument 'epsilon'\"),\n",
       " TypeError(\"count_nfa() got an unexpected keyword argument 'epsilon'\"),\n",
       " TypeError(\"count_nfa() got an unexpected keyword argument 'epsilon'\"),\n",
       " TypeError(\"count_nfa() got an unexpected keyword argument 'epsilon'\"),\n",
       " TypeError(\"count_nfa() got an unexpected keyword argument 'epsilon'\"),\n",
       " TypeError(\"count_nfa() got an unexpected keyword argument 'epsilon'\"),\n",
       " TypeError(\"count_nfa() got an unexpected keyword argument 'epsilon'\"),\n",
       " TypeError(\"count_nfa() got an unexpected keyword argument 'epsilon'\")]"
      ]
     },
     "execution_count": 5,
     "metadata": {},
     "output_type": "execute_result"
    }
   ],
   "source": [
    "errors[:10]"
   ]
  },
  {
   "cell_type": "code",
   "execution_count": 13,
   "id": "e078b69e",
   "metadata": {},
   "outputs": [],
   "source": [
    "def cycle_height(row):\n",
    "    nfa = instantiate_nfa(row)\n",
    "    return nfa.cycle_height()\n"
   ]
  },
  {
   "cell_type": "code",
   "execution_count": 14,
   "id": "49e57b10",
   "metadata": {},
   "outputs": [],
   "source": [
    "df[\"cycle_height\"] = df.apply(cycle_height, axis=1)"
   ]
  },
  {
   "cell_type": "code",
   "execution_count": 21,
   "id": "383510c6",
   "metadata": {},
   "outputs": [
    {
     "data": {
      "text/html": [
       "<div>\n",
       "<style scoped>\n",
       "    .dataframe tbody tr th:only-of-type {\n",
       "        vertical-align: middle;\n",
       "    }\n",
       "\n",
       "    .dataframe tbody tr th {\n",
       "        vertical-align: top;\n",
       "    }\n",
       "\n",
       "    .dataframe thead th {\n",
       "        text-align: right;\n",
       "    }\n",
       "</style>\n",
       "<table border=\"1\" class=\"dataframe\">\n",
       "  <thead>\n",
       "    <tr style=\"text-align: right;\">\n",
       "      <th></th>\n",
       "      <th>n_states</th>\n",
       "      <th>initial_states</th>\n",
       "      <th>final_states</th>\n",
       "      <th>transitions</th>\n",
       "      <th>string_n</th>\n",
       "      <th>bruteforce</th>\n",
       "      <th>estimate</th>\n",
       "      <th>eps</th>\n",
       "      <th>time</th>\n",
       "      <th>rel_error</th>\n",
       "      <th>cycle_height</th>\n",
       "    </tr>\n",
       "  </thead>\n",
       "  <tbody>\n",
       "    <tr>\n",
       "      <th>155</th>\n",
       "      <td>5</td>\n",
       "      <td>{q3, q1, q0}</td>\n",
       "      <td>{q4, q2}</td>\n",
       "      <td>{'q0': {'0': {'q0', 'q2'}, '1': {'q4'}}, 'q1':...</td>\n",
       "      <td>14</td>\n",
       "      <td>16384</td>\n",
       "      <td>910667.905438</td>\n",
       "      <td>54</td>\n",
       "      <td>3016.351845</td>\n",
       "      <td>54.582758</td>\n",
       "      <td>inf</td>\n",
       "    </tr>\n",
       "    <tr>\n",
       "      <th>250</th>\n",
       "      <td>5</td>\n",
       "      <td>{q3, q0, q4, q2}</td>\n",
       "      <td>{q0, q1, q4, q2}</td>\n",
       "      <td>{'q0': {'1': {'q3', 'q4'}, '0': {'q3'}}, 'q1':...</td>\n",
       "      <td>14</td>\n",
       "      <td>6256</td>\n",
       "      <td>346126.976953</td>\n",
       "      <td>28</td>\n",
       "      <td>5106.766545</td>\n",
       "      <td>54.327202</td>\n",
       "      <td>inf</td>\n",
       "    </tr>\n",
       "    <tr>\n",
       "      <th>185</th>\n",
       "      <td>4</td>\n",
       "      <td>{q3}</td>\n",
       "      <td>{q3, q2}</td>\n",
       "      <td>{'q0': {'1': {'q1'}, '0': {'q3', 'q1', 'q2'}},...</td>\n",
       "      <td>10</td>\n",
       "      <td>1024</td>\n",
       "      <td>25935.479221</td>\n",
       "      <td>43</td>\n",
       "      <td>391.159397</td>\n",
       "      <td>24.327616</td>\n",
       "      <td>inf</td>\n",
       "    </tr>\n",
       "    <tr>\n",
       "      <th>439</th>\n",
       "      <td>9</td>\n",
       "      <td>{q8}</td>\n",
       "      <td>{q8, q6}</td>\n",
       "      <td>{'q0': {'1': {'q4', 'q6'}, '0': {'q7'}}, 'q1':...</td>\n",
       "      <td>8</td>\n",
       "      <td>256</td>\n",
       "      <td>4075.632130</td>\n",
       "      <td>88</td>\n",
       "      <td>470.697020</td>\n",
       "      <td>14.920438</td>\n",
       "      <td>inf</td>\n",
       "    </tr>\n",
       "  </tbody>\n",
       "</table>\n",
       "</div>"
      ],
      "text/plain": [
       "     n_states    initial_states      final_states  \\\n",
       "155         5      {q3, q1, q0}          {q4, q2}   \n",
       "250         5  {q3, q0, q4, q2}  {q0, q1, q4, q2}   \n",
       "185         4              {q3}          {q3, q2}   \n",
       "439         9              {q8}          {q8, q6}   \n",
       "\n",
       "                                           transitions  string_n  bruteforce  \\\n",
       "155  {'q0': {'0': {'q0', 'q2'}, '1': {'q4'}}, 'q1':...        14       16384   \n",
       "250  {'q0': {'1': {'q3', 'q4'}, '0': {'q3'}}, 'q1':...        14        6256   \n",
       "185  {'q0': {'1': {'q1'}, '0': {'q3', 'q1', 'q2'}},...        10        1024   \n",
       "439  {'q0': {'1': {'q4', 'q6'}, '0': {'q7'}}, 'q1':...         8         256   \n",
       "\n",
       "          estimate  eps         time  rel_error  cycle_height  \n",
       "155  910667.905438   54  3016.351845  54.582758           inf  \n",
       "250  346126.976953   28  5106.766545  54.327202           inf  \n",
       "185   25935.479221   43   391.159397  24.327616           inf  \n",
       "439    4075.632130   88   470.697020  14.920438           inf  "
      ]
     },
     "execution_count": 21,
     "metadata": {},
     "output_type": "execute_result"
    }
   ],
   "source": [
    "df.sort_values(by=\"rel_error\", ascending=False).head(4)"
   ]
  },
  {
   "cell_type": "code",
   "execution_count": 23,
   "id": "c87a1191",
   "metadata": {},
   "outputs": [
    {
     "data": {
      "image/svg+xml": [
       "<?xml version=\"1.0\" encoding=\"UTF-8\" standalone=\"no\"?>\n",
       "<!DOCTYPE svg PUBLIC \"-//W3C//DTD SVG 1.1//EN\"\n",
       " \"http://www.w3.org/Graphics/SVG/1.1/DTD/svg11.dtd\">\n",
       "<!-- Generated by graphviz version 2.43.0 (0)\n",
       " -->\n",
       "<!-- Title: NFA Pages: 1 -->\n",
       "<svg width=\"355pt\" height=\"509pt\"\n",
       " viewBox=\"0.00 0.00 354.99 509.00\" xmlns=\"http://www.w3.org/2000/svg\" xmlns:xlink=\"http://www.w3.org/1999/xlink\">\n",
       "<g id=\"graph0\" class=\"graph\" transform=\"scale(1 1) rotate(0) translate(4 505)\">\n",
       "<title>NFA</title>\n",
       "<polygon fill=\"white\" stroke=\"transparent\" points=\"-4,4 -4,-505 350.99,-505 350.99,4 -4,4\"/>\n",
       "<!-- q3 -->\n",
       "<g id=\"node1\" class=\"node\">\n",
       "<title>q3</title>\n",
       "<ellipse fill=\"none\" stroke=\"black\" cx=\"57.5\" cy=\"-259.5\" rx=\"19.5\" ry=\"19.5\"/>\n",
       "<text text-anchor=\"middle\" x=\"57.5\" y=\"-255.8\" font-family=\"Times,serif\" font-size=\"14.00\">q3</text>\n",
       "</g>\n",
       "<!-- q3&#45;&gt;q3 -->\n",
       "<g id=\"edge18\" class=\"edge\">\n",
       "<title>q3&#45;&gt;q3</title>\n",
       "<path fill=\"none\" stroke=\"black\" d=\"M52.38,-278.37C49.08,-298.8 50.78,-322 57.5,-322 63.11,-322 65.22,-305.79 63.84,-288.54\"/>\n",
       "<polygon fill=\"black\" stroke=\"black\" points=\"67.28,-287.89 62.61,-278.37 60.33,-288.72 67.28,-287.89\"/>\n",
       "<text text-anchor=\"middle\" x=\"57.5\" y=\"-325.8\" font-family=\"Times,serif\" font-size=\"14.00\">0</text>\n",
       "</g>\n",
       "<!-- q2 -->\n",
       "<g id=\"node5\" class=\"node\">\n",
       "<title>q2</title>\n",
       "<ellipse fill=\"none\" stroke=\"black\" cx=\"143.49\" cy=\"-89.5\" rx=\"19.5\" ry=\"19.5\"/>\n",
       "<ellipse fill=\"none\" stroke=\"black\" cx=\"143.49\" cy=\"-89.5\" rx=\"23.5\" ry=\"23.5\"/>\n",
       "<text text-anchor=\"middle\" x=\"143.49\" y=\"-85.8\" font-family=\"Times,serif\" font-size=\"14.00\">q2</text>\n",
       "</g>\n",
       "<!-- q3&#45;&gt;q2 -->\n",
       "<g id=\"edge15\" class=\"edge\">\n",
       "<title>q3&#45;&gt;q2</title>\n",
       "<path fill=\"none\" stroke=\"black\" d=\"M59.14,-239.86C61.07,-195.08 68.42,-87.54 95,-65.5 101.89,-59.78 110.37,-61.84 118.25,-66.6\"/>\n",
       "<polygon fill=\"black\" stroke=\"black\" points=\"116.32,-69.52 126.47,-72.58 120.45,-63.86 116.32,-69.52\"/>\n",
       "<text text-anchor=\"middle\" x=\"98.5\" y=\"-69.3\" font-family=\"Times,serif\" font-size=\"14.00\">0</text>\n",
       "</g>\n",
       "<!-- q3&#45;&gt;q2 -->\n",
       "<g id=\"edge17\" class=\"edge\">\n",
       "<title>q3&#45;&gt;q2</title>\n",
       "<path fill=\"none\" stroke=\"black\" d=\"M67.01,-242.26C81.23,-213.48 109.99,-155.29 127.61,-119.62\"/>\n",
       "<polygon fill=\"black\" stroke=\"black\" points=\"130.97,-120.72 132.27,-110.2 124.7,-117.62 130.97,-120.72\"/>\n",
       "<text text-anchor=\"middle\" x=\"98.5\" y=\"-189.3\" font-family=\"Times,serif\" font-size=\"14.00\">1</text>\n",
       "</g>\n",
       "<!-- q1 -->\n",
       "<g id=\"node7\" class=\"node\">\n",
       "<title>q1</title>\n",
       "<ellipse fill=\"none\" stroke=\"black\" cx=\"323.49\" cy=\"-282.5\" rx=\"19.5\" ry=\"19.5\"/>\n",
       "<ellipse fill=\"none\" stroke=\"black\" cx=\"323.49\" cy=\"-282.5\" rx=\"23.5\" ry=\"23.5\"/>\n",
       "<text text-anchor=\"middle\" x=\"323.49\" y=\"-278.8\" font-family=\"Times,serif\" font-size=\"14.00\">q1</text>\n",
       "</g>\n",
       "<!-- q3&#45;&gt;q1 -->\n",
       "<g id=\"edge13\" class=\"edge\">\n",
       "<title>q3&#45;&gt;q1</title>\n",
       "<path fill=\"none\" stroke=\"black\" d=\"M68.55,-275.79C79.13,-291.09 97.38,-312.74 120,-320.5 177.59,-340.26 198.28,-337.65 256.99,-321.5 270.78,-317.7 284.61,-310.16 295.98,-302.71\"/>\n",
       "<polygon fill=\"black\" stroke=\"black\" points=\"298.27,-305.38 304.52,-296.83 294.3,-299.62 298.27,-305.38\"/>\n",
       "<text text-anchor=\"middle\" x=\"188.49\" y=\"-337.3\" font-family=\"Times,serif\" font-size=\"14.00\">0</text>\n",
       "</g>\n",
       "<!-- q3&#45;&gt;q1 -->\n",
       "<g id=\"edge16\" class=\"edge\">\n",
       "<title>q3&#45;&gt;q1</title>\n",
       "<path fill=\"none\" stroke=\"black\" d=\"M62.76,-278.7C69.65,-304.12 86.06,-347.07 120,-358.5 177.7,-377.94 198.08,-373.87 256.99,-358.5 280.02,-352.49 297.12,-331.24 308.07,-312.74\"/>\n",
       "<polygon fill=\"black\" stroke=\"black\" points=\"311.15,-314.4 312.95,-303.95 305.03,-311 311.15,-314.4\"/>\n",
       "<text text-anchor=\"middle\" x=\"188.49\" y=\"-375.3\" font-family=\"Times,serif\" font-size=\"14.00\">1</text>\n",
       "</g>\n",
       "<!-- q0 -->\n",
       "<g id=\"node8\" class=\"node\">\n",
       "<title>q0</title>\n",
       "<ellipse fill=\"none\" stroke=\"black\" cx=\"143.49\" cy=\"-231.5\" rx=\"19.5\" ry=\"19.5\"/>\n",
       "<ellipse fill=\"none\" stroke=\"black\" cx=\"143.49\" cy=\"-231.5\" rx=\"23.5\" ry=\"23.5\"/>\n",
       "<text text-anchor=\"middle\" x=\"143.49\" y=\"-227.8\" font-family=\"Times,serif\" font-size=\"14.00\">q0</text>\n",
       "</g>\n",
       "<!-- q3&#45;&gt;q0 -->\n",
       "<g id=\"edge14\" class=\"edge\">\n",
       "<title>q3&#45;&gt;q0</title>\n",
       "<path fill=\"none\" stroke=\"black\" d=\"M68.88,-243.14C75.27,-234.67 84.28,-225.15 95,-220.5 100.34,-218.18 106.23,-217.91 112,-218.74\"/>\n",
       "<polygon fill=\"black\" stroke=\"black\" points=\"111.56,-222.23 122.1,-221.23 113.24,-215.44 111.56,-222.23\"/>\n",
       "<text text-anchor=\"middle\" x=\"98.5\" y=\"-224.3\" font-family=\"Times,serif\" font-size=\"14.00\">0</text>\n",
       "</g>\n",
       "<!-- q3_init -->\n",
       "<g id=\"node2\" class=\"node\">\n",
       "<title>q3_init</title>\n",
       "</g>\n",
       "<!-- q3_init&#45;&gt;q3 -->\n",
       "<g id=\"edge1\" class=\"edge\">\n",
       "<title>q3_init&#45;&gt;q3</title>\n",
       "<path fill=\"none\" stroke=\"black\" d=\"M1.16,-259.5C2.69,-259.5 15.09,-259.5 27.76,-259.5\"/>\n",
       "<polygon fill=\"black\" stroke=\"black\" points=\"27.78,-263 37.78,-259.5 27.78,-256 27.78,-263\"/>\n",
       "</g>\n",
       "<!-- q4 -->\n",
       "<g id=\"node3\" class=\"node\">\n",
       "<title>q4</title>\n",
       "<ellipse fill=\"none\" stroke=\"black\" cx=\"233.49\" cy=\"-243.5\" rx=\"19.5\" ry=\"19.5\"/>\n",
       "<ellipse fill=\"none\" stroke=\"black\" cx=\"233.49\" cy=\"-243.5\" rx=\"23.5\" ry=\"23.5\"/>\n",
       "<text text-anchor=\"middle\" x=\"233.49\" y=\"-239.8\" font-family=\"Times,serif\" font-size=\"14.00\">q4</text>\n",
       "</g>\n",
       "<!-- q4&#45;&gt;q4 -->\n",
       "<g id=\"edge21\" class=\"edge\">\n",
       "<title>q4&#45;&gt;q4</title>\n",
       "<path fill=\"none\" stroke=\"black\" d=\"M226.76,-266.33C223.39,-287.34 225.63,-310 233.49,-310 240.06,-310 242.71,-294.17 241.43,-276.7\"/>\n",
       "<polygon fill=\"black\" stroke=\"black\" points=\"244.85,-275.86 240.22,-266.33 237.9,-276.67 244.85,-275.86\"/>\n",
       "<text text-anchor=\"middle\" x=\"233.49\" y=\"-313.8\" font-family=\"Times,serif\" font-size=\"14.00\">1</text>\n",
       "</g>\n",
       "<!-- q4&#45;&gt;q1 -->\n",
       "<g id=\"edge19\" class=\"edge\">\n",
       "<title>q4&#45;&gt;q1</title>\n",
       "<path fill=\"none\" stroke=\"black\" d=\"M250.4,-226.69C259.67,-219 271.54,-212.75 281.99,-218.5 294.84,-225.58 304.18,-238.64 310.63,-251.13\"/>\n",
       "<polygon fill=\"black\" stroke=\"black\" points=\"307.59,-252.89 315.01,-260.46 313.93,-249.92 307.59,-252.89\"/>\n",
       "<text text-anchor=\"middle\" x=\"278.49\" y=\"-222.3\" font-family=\"Times,serif\" font-size=\"14.00\">1</text>\n",
       "</g>\n",
       "<!-- q4&#45;&gt;q1 -->\n",
       "<g id=\"edge20\" class=\"edge\">\n",
       "<title>q4&#45;&gt;q1</title>\n",
       "<path fill=\"none\" stroke=\"black\" d=\"M253.78,-256.15C260.34,-260.12 267.83,-264.3 274.99,-267.5 279.9,-269.69 285.22,-271.71 290.47,-273.5\"/>\n",
       "<polygon fill=\"black\" stroke=\"black\" points=\"289.75,-276.94 300.34,-276.65 291.89,-270.27 289.75,-276.94\"/>\n",
       "<text text-anchor=\"middle\" x=\"278.49\" y=\"-273.3\" font-family=\"Times,serif\" font-size=\"14.00\">0</text>\n",
       "</g>\n",
       "<!-- q4_init -->\n",
       "<g id=\"node4\" class=\"node\">\n",
       "<title>q4_init</title>\n",
       "</g>\n",
       "<!-- q4_init&#45;&gt;q4 -->\n",
       "<g id=\"edge2\" class=\"edge\">\n",
       "<title>q4_init&#45;&gt;q4</title>\n",
       "<path fill=\"none\" stroke=\"black\" d=\"M144.56,-298.46C146.21,-297.43 179.45,-276.65 204.58,-260.95\"/>\n",
       "<polygon fill=\"black\" stroke=\"black\" points=\"206.44,-263.91 213.06,-255.64 202.73,-257.97 206.44,-263.91\"/>\n",
       "</g>\n",
       "<!-- q2&#45;&gt;q4 -->\n",
       "<g id=\"edge10\" class=\"edge\">\n",
       "<title>q2&#45;&gt;q4</title>\n",
       "<path fill=\"none\" stroke=\"black\" d=\"M156,-109.63C171.28,-136.38 198.38,-183.81 215.89,-214.44\"/>\n",
       "<polygon fill=\"black\" stroke=\"black\" points=\"212.98,-216.42 220.98,-223.36 219.06,-212.94 212.98,-216.42\"/>\n",
       "<text text-anchor=\"middle\" x=\"188.49\" y=\"-175.3\" font-family=\"Times,serif\" font-size=\"14.00\">1</text>\n",
       "</g>\n",
       "<!-- q2&#45;&gt;q4 -->\n",
       "<g id=\"edge11\" class=\"edge\">\n",
       "<title>q2&#45;&gt;q4</title>\n",
       "<path fill=\"none\" stroke=\"black\" d=\"M162.15,-104.04C171.99,-112.89 183.86,-124.89 191.99,-137.5 206.64,-160.23 217.23,-189.06 223.89,-210.91\"/>\n",
       "<polygon fill=\"black\" stroke=\"black\" points=\"220.59,-212.1 226.76,-220.72 227.31,-210.14 220.59,-212.1\"/>\n",
       "<text text-anchor=\"middle\" x=\"188.49\" y=\"-141.3\" font-family=\"Times,serif\" font-size=\"14.00\">0</text>\n",
       "</g>\n",
       "<!-- q2&#45;&gt;q2 -->\n",
       "<g id=\"edge12\" class=\"edge\">\n",
       "<title>q2&#45;&gt;q2</title>\n",
       "<path fill=\"none\" stroke=\"black\" d=\"M136.77,-112.33C133.39,-133.34 135.63,-156 143.49,-156 150.07,-156 152.71,-140.17 151.43,-122.7\"/>\n",
       "<polygon fill=\"black\" stroke=\"black\" points=\"154.86,-121.86 150.22,-112.33 147.9,-122.67 154.86,-121.86\"/>\n",
       "<text text-anchor=\"middle\" x=\"143.49\" y=\"-159.8\" font-family=\"Times,serif\" font-size=\"14.00\">0</text>\n",
       "</g>\n",
       "<!-- q2&#45;&gt;q1 -->\n",
       "<g id=\"edge9\" class=\"edge\">\n",
       "<title>q2&#45;&gt;q1</title>\n",
       "<path fill=\"none\" stroke=\"black\" d=\"M164.5,-100.92C173.22,-106.19 183.38,-112.78 191.99,-119.5 235.6,-153.55 248.68,-161.33 281.99,-205.5 292.73,-219.75 302.18,-237.24 309.25,-251.95\"/>\n",
       "<polygon fill=\"black\" stroke=\"black\" points=\"306.14,-253.57 313.54,-261.15 312.49,-250.61 306.14,-253.57\"/>\n",
       "<text text-anchor=\"middle\" x=\"233.49\" y=\"-179.3\" font-family=\"Times,serif\" font-size=\"14.00\">1</text>\n",
       "</g>\n",
       "<!-- q2_init -->\n",
       "<g id=\"node6\" class=\"node\">\n",
       "<title>q2_init</title>\n",
       "</g>\n",
       "<!-- q2_init&#45;&gt;q2 -->\n",
       "<g id=\"edge3\" class=\"edge\">\n",
       "<title>q2_init&#45;&gt;q2</title>\n",
       "<path fill=\"none\" stroke=\"black\" d=\"M58.58,-0.53C60.19,-1.15 86.32,-11.32 102,-26.5 111.95,-36.13 120.63,-48.66 127.38,-60\"/>\n",
       "<polygon fill=\"black\" stroke=\"black\" points=\"124.37,-61.8 132.36,-68.76 130.46,-58.34 124.37,-61.8\"/>\n",
       "</g>\n",
       "<!-- q1&#45;&gt;q4 -->\n",
       "<g id=\"edge8\" class=\"edge\">\n",
       "<title>q1&#45;&gt;q4</title>\n",
       "<path fill=\"none\" stroke=\"black\" d=\"M307.69,-264.99C300.68,-257.95 291.71,-250.55 281.99,-246.5 277.46,-244.61 272.48,-243.44 267.5,-242.75\"/>\n",
       "<polygon fill=\"black\" stroke=\"black\" points=\"267.66,-239.25 257.41,-241.94 267.1,-246.23 267.66,-239.25\"/>\n",
       "<text text-anchor=\"middle\" x=\"278.49\" y=\"-250.3\" font-family=\"Times,serif\" font-size=\"14.00\">1</text>\n",
       "</g>\n",
       "<!-- q0&#45;&gt;q3 -->\n",
       "<g id=\"edge5\" class=\"edge\">\n",
       "<title>q0&#45;&gt;q3</title>\n",
       "<path fill=\"none\" stroke=\"black\" d=\"M130.01,-251.32C123.02,-260.51 113.41,-270.5 102,-275.5 95.9,-278.17 89.21,-277.45 82.94,-275.25\"/>\n",
       "<polygon fill=\"black\" stroke=\"black\" points=\"84.11,-271.93 73.57,-270.84 81.13,-278.26 84.11,-271.93\"/>\n",
       "<text text-anchor=\"middle\" x=\"98.5\" y=\"-280.3\" font-family=\"Times,serif\" font-size=\"14.00\">1</text>\n",
       "</g>\n",
       "<!-- q0&#45;&gt;q3 -->\n",
       "<g id=\"edge7\" class=\"edge\">\n",
       "<title>q0&#45;&gt;q3</title>\n",
       "<path fill=\"none\" stroke=\"black\" d=\"M120.83,-238.72C110.25,-242.25 97.4,-246.53 86.12,-250.29\"/>\n",
       "<polygon fill=\"black\" stroke=\"black\" points=\"84.69,-247.08 76.31,-253.56 86.91,-253.72 84.69,-247.08\"/>\n",
       "<text text-anchor=\"middle\" x=\"98.5\" y=\"-250.3\" font-family=\"Times,serif\" font-size=\"14.00\">0</text>\n",
       "</g>\n",
       "<!-- q0&#45;&gt;q4 -->\n",
       "<g id=\"edge6\" class=\"edge\">\n",
       "<title>q0&#45;&gt;q4</title>\n",
       "<path fill=\"none\" stroke=\"black\" d=\"M167.16,-234.59C177.11,-235.95 188.99,-237.57 199.87,-239.05\"/>\n",
       "<polygon fill=\"black\" stroke=\"black\" points=\"199.53,-242.54 209.91,-240.42 200.47,-235.6 199.53,-242.54\"/>\n",
       "<text text-anchor=\"middle\" x=\"188.49\" y=\"-241.3\" font-family=\"Times,serif\" font-size=\"14.00\">1</text>\n",
       "</g>\n",
       "<!-- q0_init -->\n",
       "<g id=\"node9\" class=\"node\">\n",
       "<title>q0_init</title>\n",
       "</g>\n",
       "<!-- q0_init&#45;&gt;q0 -->\n",
       "<g id=\"edge4\" class=\"edge\">\n",
       "<title>q0_init&#45;&gt;q0</title>\n",
       "<path fill=\"none\" stroke=\"black\" d=\"M58.52,-500.41C59.27,-496.52 83.65,-371.4 120,-276.5 121.99,-271.3 124.38,-265.9 126.86,-260.72\"/>\n",
       "<polygon fill=\"black\" stroke=\"black\" points=\"130.01,-262.24 131.32,-251.73 123.74,-259.13 130.01,-262.24\"/>\n",
       "</g>\n",
       "</g>\n",
       "</svg>\n"
      ],
      "text/plain": [
       "<graphviz.dot.Digraph at 0x7fe782975a30>"
      ]
     },
     "execution_count": 23,
     "metadata": {},
     "output_type": "execute_result"
    }
   ],
   "source": [
    "instantiate_nfa(df.loc[250]).plot()"
   ]
  },
  {
   "cell_type": "code",
   "execution_count": 4,
   "id": "2727d5cd",
   "metadata": {},
   "outputs": [
    {
     "data": {
      "text/html": [
       "<div>\n",
       "<style scoped>\n",
       "    .dataframe tbody tr th:only-of-type {\n",
       "        vertical-align: middle;\n",
       "    }\n",
       "\n",
       "    .dataframe tbody tr th {\n",
       "        vertical-align: top;\n",
       "    }\n",
       "\n",
       "    .dataframe thead th {\n",
       "        text-align: right;\n",
       "    }\n",
       "</style>\n",
       "<table border=\"1\" class=\"dataframe\">\n",
       "  <thead>\n",
       "    <tr style=\"text-align: right;\">\n",
       "      <th></th>\n",
       "      <th>n_states</th>\n",
       "      <th>initial_states</th>\n",
       "      <th>final_states</th>\n",
       "      <th>transitions</th>\n",
       "      <th>string_n</th>\n",
       "      <th>bruteforce</th>\n",
       "      <th>estimate</th>\n",
       "      <th>eps</th>\n",
       "      <th>time</th>\n",
       "      <th>rel_error</th>\n",
       "    </tr>\n",
       "  </thead>\n",
       "  <tbody>\n",
       "    <tr>\n",
       "      <th>375</th>\n",
       "      <td>13</td>\n",
       "      <td>{q0}</td>\n",
       "      <td>{q7}</td>\n",
       "      <td>{'q0': {'0': {'q11', 'q8', 'q0'}, '1': {'q5', ...</td>\n",
       "      <td>4</td>\n",
       "      <td>16</td>\n",
       "      <td>71.649313</td>\n",
       "      <td>30</td>\n",
       "      <td>64.562396</td>\n",
       "      <td>3.478082</td>\n",
       "    </tr>\n",
       "    <tr>\n",
       "      <th>428</th>\n",
       "      <td>9</td>\n",
       "      <td>{q0, q7, q8}</td>\n",
       "      <td>{q6}</td>\n",
       "      <td>{'q0': {'1': {'q5', 'q1'}, '0': {'q4', 'q6'}},...</td>\n",
       "      <td>6</td>\n",
       "      <td>32</td>\n",
       "      <td>143.597542</td>\n",
       "      <td>34</td>\n",
       "      <td>147.425944</td>\n",
       "      <td>3.487423</td>\n",
       "    </tr>\n",
       "    <tr>\n",
       "      <th>399</th>\n",
       "      <td>14</td>\n",
       "      <td>{q6}</td>\n",
       "      <td>{q11, q10, q2}</td>\n",
       "      <td>{'q0': {'1': {'q5', 'q13', 'q7', 'q4', 'q8'}, ...</td>\n",
       "      <td>7</td>\n",
       "      <td>128</td>\n",
       "      <td>596.716049</td>\n",
       "      <td>78</td>\n",
       "      <td>501.677479</td>\n",
       "      <td>3.661844</td>\n",
       "    </tr>\n",
       "    <tr>\n",
       "      <th>279</th>\n",
       "      <td>12</td>\n",
       "      <td>{q4, q8}</td>\n",
       "      <td>{q0, q2, q7, q9}</td>\n",
       "      <td>{'q0': {'0': {'q5', 'q0', 'q3', 'q1', 'q11', '...</td>\n",
       "      <td>4</td>\n",
       "      <td>16</td>\n",
       "      <td>75.433192</td>\n",
       "      <td>17</td>\n",
       "      <td>168.309165</td>\n",
       "      <td>3.714574</td>\n",
       "    </tr>\n",
       "    <tr>\n",
       "      <th>491</th>\n",
       "      <td>7</td>\n",
       "      <td>{q6}</td>\n",
       "      <td>{q0, q3, q1, q4, q2, q6}</td>\n",
       "      <td>{'q0': {'1': {'q0', 'q4'}, '0': {'q5', 'q2', '...</td>\n",
       "      <td>4</td>\n",
       "      <td>16</td>\n",
       "      <td>76.204346</td>\n",
       "      <td>34</td>\n",
       "      <td>5.014052</td>\n",
       "      <td>3.762772</td>\n",
       "    </tr>\n",
       "    <tr>\n",
       "      <th>144</th>\n",
       "      <td>6</td>\n",
       "      <td>{q3}</td>\n",
       "      <td>{q5, q2, q1}</td>\n",
       "      <td>{'q0': {'1': {'q5', 'q1'}}, 'q1': {'1': {'q5',...</td>\n",
       "      <td>7</td>\n",
       "      <td>105</td>\n",
       "      <td>501.147921</td>\n",
       "      <td>33</td>\n",
       "      <td>58.171788</td>\n",
       "      <td>3.772837</td>\n",
       "    </tr>\n",
       "    <tr>\n",
       "      <th>278</th>\n",
       "      <td>8</td>\n",
       "      <td>{q5}</td>\n",
       "      <td>{q2}</td>\n",
       "      <td>{'q0': {'1': {'q0', 'q4', 'q2', 'q7'}, '0': {'...</td>\n",
       "      <td>7</td>\n",
       "      <td>128</td>\n",
       "      <td>618.158367</td>\n",
       "      <td>62</td>\n",
       "      <td>104.309336</td>\n",
       "      <td>3.829362</td>\n",
       "    </tr>\n",
       "    <tr>\n",
       "      <th>409</th>\n",
       "      <td>9</td>\n",
       "      <td>{q5}</td>\n",
       "      <td>{q4}</td>\n",
       "      <td>{'q0': {'1': {'q0', 'q2', 'q7'}, '0': {'q6'}},...</td>\n",
       "      <td>5</td>\n",
       "      <td>32</td>\n",
       "      <td>155.513995</td>\n",
       "      <td>32</td>\n",
       "      <td>50.662583</td>\n",
       "      <td>3.859812</td>\n",
       "    </tr>\n",
       "    <tr>\n",
       "      <th>401</th>\n",
       "      <td>13</td>\n",
       "      <td>{q8}</td>\n",
       "      <td>{q6}</td>\n",
       "      <td>{'q0': {'0': {'q10', 'q2', 'q6', 'q0'}, '1': {...</td>\n",
       "      <td>4</td>\n",
       "      <td>16</td>\n",
       "      <td>78.055363</td>\n",
       "      <td>37</td>\n",
       "      <td>40.283245</td>\n",
       "      <td>3.878460</td>\n",
       "    </tr>\n",
       "    <tr>\n",
       "      <th>264</th>\n",
       "      <td>9</td>\n",
       "      <td>{q1}</td>\n",
       "      <td>{q0, q6}</td>\n",
       "      <td>{'q0': {'0': {'q0', 'q3', 'q1'}, '1': {'q5', '...</td>\n",
       "      <td>6</td>\n",
       "      <td>63</td>\n",
       "      <td>315.639375</td>\n",
       "      <td>54</td>\n",
       "      <td>68.401093</td>\n",
       "      <td>4.010149</td>\n",
       "    </tr>\n",
       "    <tr>\n",
       "      <th>338</th>\n",
       "      <td>10</td>\n",
       "      <td>{q8}</td>\n",
       "      <td>{q5}</td>\n",
       "      <td>{'q0': {'1': {'q5', 'q0', 'q9', 'q1', 'q7', 'q...</td>\n",
       "      <td>6</td>\n",
       "      <td>64</td>\n",
       "      <td>324.107794</td>\n",
       "      <td>39</td>\n",
       "      <td>107.438705</td>\n",
       "      <td>4.064184</td>\n",
       "    </tr>\n",
       "    <tr>\n",
       "      <th>320</th>\n",
       "      <td>9</td>\n",
       "      <td>{q2}</td>\n",
       "      <td>{q8}</td>\n",
       "      <td>{'q0': {'0': {'q5', 'q0', 'q3', 'q1', 'q8'}, '...</td>\n",
       "      <td>7</td>\n",
       "      <td>128</td>\n",
       "      <td>700.073475</td>\n",
       "      <td>81</td>\n",
       "      <td>135.760126</td>\n",
       "      <td>4.469324</td>\n",
       "    </tr>\n",
       "    <tr>\n",
       "      <th>335</th>\n",
       "      <td>7</td>\n",
       "      <td>{q0}</td>\n",
       "      <td>{q0}</td>\n",
       "      <td>{'q0': {'1': {'q0', 'q4'}, '0': {'q2', 'q3'}},...</td>\n",
       "      <td>7</td>\n",
       "      <td>128</td>\n",
       "      <td>701.995890</td>\n",
       "      <td>52</td>\n",
       "      <td>81.629251</td>\n",
       "      <td>4.484343</td>\n",
       "    </tr>\n",
       "    <tr>\n",
       "      <th>405</th>\n",
       "      <td>12</td>\n",
       "      <td>{q3}</td>\n",
       "      <td>{q11}</td>\n",
       "      <td>{'q0': {'0': {'q5', 'q0', 'q9', 'q1', 'q7', 'q...</td>\n",
       "      <td>4</td>\n",
       "      <td>16</td>\n",
       "      <td>89.536235</td>\n",
       "      <td>29</td>\n",
       "      <td>63.773507</td>\n",
       "      <td>4.596015</td>\n",
       "    </tr>\n",
       "    <tr>\n",
       "      <th>445</th>\n",
       "      <td>14</td>\n",
       "      <td>{q5}</td>\n",
       "      <td>{q2, q8}</td>\n",
       "      <td>{'q0': {'0': {'q13', 'q2'}, '1': {'q5', 'q12',...</td>\n",
       "      <td>6</td>\n",
       "      <td>64</td>\n",
       "      <td>366.780403</td>\n",
       "      <td>62</td>\n",
       "      <td>360.541019</td>\n",
       "      <td>4.730944</td>\n",
       "    </tr>\n",
       "    <tr>\n",
       "      <th>311</th>\n",
       "      <td>9</td>\n",
       "      <td>{q0, q1}</td>\n",
       "      <td>{q1}</td>\n",
       "      <td>{'q0': {'0': {'q5', 'q0', 'q3', 'q7', 'q4'}, '...</td>\n",
       "      <td>7</td>\n",
       "      <td>128</td>\n",
       "      <td>784.539926</td>\n",
       "      <td>84</td>\n",
       "      <td>150.884515</td>\n",
       "      <td>5.129218</td>\n",
       "    </tr>\n",
       "    <tr>\n",
       "      <th>394</th>\n",
       "      <td>8</td>\n",
       "      <td>{q2}</td>\n",
       "      <td>{q4}</td>\n",
       "      <td>{'q0': {'1': {'q5', 'q4', 'q2', 'q0'}, '0': {'...</td>\n",
       "      <td>7</td>\n",
       "      <td>128</td>\n",
       "      <td>813.736320</td>\n",
       "      <td>57</td>\n",
       "      <td>89.712078</td>\n",
       "      <td>5.357315</td>\n",
       "    </tr>\n",
       "    <tr>\n",
       "      <th>492</th>\n",
       "      <td>9</td>\n",
       "      <td>{q3}</td>\n",
       "      <td>{q5}</td>\n",
       "      <td>{'q0': {'0': {'q0', 'q2', 'q6', 'q3'}, '1': {'...</td>\n",
       "      <td>6</td>\n",
       "      <td>48</td>\n",
       "      <td>306.774816</td>\n",
       "      <td>44</td>\n",
       "      <td>90.072723</td>\n",
       "      <td>5.391142</td>\n",
       "    </tr>\n",
       "    <tr>\n",
       "      <th>434</th>\n",
       "      <td>8</td>\n",
       "      <td>{q4, q6}</td>\n",
       "      <td>{q4}</td>\n",
       "      <td>{'q0': {'0': {'q5', 'q7', 'q6', 'q1'}}, 'q1': ...</td>\n",
       "      <td>10</td>\n",
       "      <td>768</td>\n",
       "      <td>5103.038731</td>\n",
       "      <td>117</td>\n",
       "      <td>265.341217</td>\n",
       "      <td>5.644582</td>\n",
       "    </tr>\n",
       "    <tr>\n",
       "      <th>161</th>\n",
       "      <td>6</td>\n",
       "      <td>{q5, q4, q3, q1}</td>\n",
       "      <td>{q2}</td>\n",
       "      <td>{'q0': {'1': {'q4', 'q3', 'q1'}, '0': {'q4', '...</td>\n",
       "      <td>9</td>\n",
       "      <td>491</td>\n",
       "      <td>3313.844108</td>\n",
       "      <td>28</td>\n",
       "      <td>845.851782</td>\n",
       "      <td>5.749173</td>\n",
       "    </tr>\n",
       "    <tr>\n",
       "      <th>281</th>\n",
       "      <td>10</td>\n",
       "      <td>{q1}</td>\n",
       "      <td>{q4}</td>\n",
       "      <td>{'q0': {'1': {'q0', 'q9', 'q3', 'q7', 'q6', 'q...</td>\n",
       "      <td>5</td>\n",
       "      <td>31</td>\n",
       "      <td>209.511888</td>\n",
       "      <td>54</td>\n",
       "      <td>58.128753</td>\n",
       "      <td>5.758448</td>\n",
       "    </tr>\n",
       "    <tr>\n",
       "      <th>460</th>\n",
       "      <td>8</td>\n",
       "      <td>{q7, q3}</td>\n",
       "      <td>{q3}</td>\n",
       "      <td>{'q0': {'0': {'q7', 'q2'}, '1': {'q5', 'q6'}},...</td>\n",
       "      <td>6</td>\n",
       "      <td>32</td>\n",
       "      <td>220.713308</td>\n",
       "      <td>47</td>\n",
       "      <td>135.708252</td>\n",
       "      <td>5.897291</td>\n",
       "    </tr>\n",
       "    <tr>\n",
       "      <th>135</th>\n",
       "      <td>5</td>\n",
       "      <td>{q0, q2}</td>\n",
       "      <td>{q0, q4, q3}</td>\n",
       "      <td>{'q0': {'0': {'q4', 'q2', 'q3', 'q1'}}, 'q1': ...</td>\n",
       "      <td>6</td>\n",
       "      <td>64</td>\n",
       "      <td>455.550164</td>\n",
       "      <td>22</td>\n",
       "      <td>51.058338</td>\n",
       "      <td>6.117971</td>\n",
       "    </tr>\n",
       "    <tr>\n",
       "      <th>407</th>\n",
       "      <td>10</td>\n",
       "      <td>{q8}</td>\n",
       "      <td>{q7}</td>\n",
       "      <td>{'q0': {'0': {'q5', 'q2', 'q7', 'q8'}, '1': {'...</td>\n",
       "      <td>6</td>\n",
       "      <td>64</td>\n",
       "      <td>466.764304</td>\n",
       "      <td>49</td>\n",
       "      <td>186.594502</td>\n",
       "      <td>6.293192</td>\n",
       "    </tr>\n",
       "    <tr>\n",
       "      <th>490</th>\n",
       "      <td>10</td>\n",
       "      <td>{q4, q2}</td>\n",
       "      <td>{q3}</td>\n",
       "      <td>{'q0': {'0': {'q5', 'q0', 'q9', 'q3', 'q1', 'q...</td>\n",
       "      <td>5</td>\n",
       "      <td>24</td>\n",
       "      <td>175.564000</td>\n",
       "      <td>56</td>\n",
       "      <td>57.603942</td>\n",
       "      <td>6.315167</td>\n",
       "    </tr>\n",
       "    <tr>\n",
       "      <th>57</th>\n",
       "      <td>6</td>\n",
       "      <td>{q0, q1}</td>\n",
       "      <td>{q5, q0, q3, q4, q2}</td>\n",
       "      <td>{'q0': {'1': {'q5', 'q3'}, '0': {'q5', 'q4', '...</td>\n",
       "      <td>5</td>\n",
       "      <td>32</td>\n",
       "      <td>237.365394</td>\n",
       "      <td>8</td>\n",
       "      <td>75.338577</td>\n",
       "      <td>6.417669</td>\n",
       "    </tr>\n",
       "    <tr>\n",
       "      <th>191</th>\n",
       "      <td>6</td>\n",
       "      <td>{q5, q2, q1}</td>\n",
       "      <td>{q2, q1}</td>\n",
       "      <td>{'q0': {'1': {'q0'}, '0': {'q5', 'q0'}}, 'q1':...</td>\n",
       "      <td>12</td>\n",
       "      <td>4096</td>\n",
       "      <td>31514.495597</td>\n",
       "      <td>59</td>\n",
       "      <td>1067.227681</td>\n",
       "      <td>6.693969</td>\n",
       "    </tr>\n",
       "    <tr>\n",
       "      <th>417</th>\n",
       "      <td>8</td>\n",
       "      <td>{q6}</td>\n",
       "      <td>{q7}</td>\n",
       "      <td>{'q0': {'1': {'q0'}, '0': {'q7', 'q4'}}, 'q1':...</td>\n",
       "      <td>8</td>\n",
       "      <td>256</td>\n",
       "      <td>1980.613493</td>\n",
       "      <td>69</td>\n",
       "      <td>320.986666</td>\n",
       "      <td>6.736771</td>\n",
       "    </tr>\n",
       "    <tr>\n",
       "      <th>396</th>\n",
       "      <td>7</td>\n",
       "      <td>{q4}</td>\n",
       "      <td>{q4}</td>\n",
       "      <td>{'q0': {'1': {'q0', 'q2', 'q5', 'q6'}, '0': {'...</td>\n",
       "      <td>6</td>\n",
       "      <td>32</td>\n",
       "      <td>249.995864</td>\n",
       "      <td>37</td>\n",
       "      <td>42.462639</td>\n",
       "      <td>6.812371</td>\n",
       "    </tr>\n",
       "    <tr>\n",
       "      <th>204</th>\n",
       "      <td>5</td>\n",
       "      <td>{q0, q4, q2, q1}</td>\n",
       "      <td>{q2, q1}</td>\n",
       "      <td>{'q0': {}, 'q1': {'1': {'q1'}, '0': {'q4', 'q1...</td>\n",
       "      <td>12</td>\n",
       "      <td>4096</td>\n",
       "      <td>32156.717887</td>\n",
       "      <td>27</td>\n",
       "      <td>1582.476723</td>\n",
       "      <td>6.850761</td>\n",
       "    </tr>\n",
       "    <tr>\n",
       "      <th>410</th>\n",
       "      <td>10</td>\n",
       "      <td>{q0, q2, q1}</td>\n",
       "      <td>{q8}</td>\n",
       "      <td>{'q0': {'0': {'q5', 'q9', 'q3', 'q1', 'q8'}}, ...</td>\n",
       "      <td>8</td>\n",
       "      <td>256</td>\n",
       "      <td>2015.898790</td>\n",
       "      <td>72</td>\n",
       "      <td>359.527514</td>\n",
       "      <td>6.874605</td>\n",
       "    </tr>\n",
       "    <tr>\n",
       "      <th>126</th>\n",
       "      <td>6</td>\n",
       "      <td>{q0, q4, q2, q1}</td>\n",
       "      <td>{q2}</td>\n",
       "      <td>{'q0': {'1': {'q4'}, '0': {'q5', 'q4'}}, 'q1':...</td>\n",
       "      <td>11</td>\n",
       "      <td>2048</td>\n",
       "      <td>16523.308644</td>\n",
       "      <td>44</td>\n",
       "      <td>1074.946736</td>\n",
       "      <td>7.068022</td>\n",
       "    </tr>\n",
       "    <tr>\n",
       "      <th>282</th>\n",
       "      <td>8</td>\n",
       "      <td>{q4}</td>\n",
       "      <td>{q7}</td>\n",
       "      <td>{'q0': {'1': {'q5', 'q0', 'q7', 'q2', 'q6'}, '...</td>\n",
       "      <td>10</td>\n",
       "      <td>384</td>\n",
       "      <td>3157.125873</td>\n",
       "      <td>119</td>\n",
       "      <td>172.472865</td>\n",
       "      <td>7.221682</td>\n",
       "    </tr>\n",
       "    <tr>\n",
       "      <th>248</th>\n",
       "      <td>5</td>\n",
       "      <td>{q0, q3}</td>\n",
       "      <td>{q4}</td>\n",
       "      <td>{'q0': {'1': {'q0', 'q4', 'q3'}, '0': {'q3', '...</td>\n",
       "      <td>10</td>\n",
       "      <td>1024</td>\n",
       "      <td>8786.812229</td>\n",
       "      <td>21</td>\n",
       "      <td>1189.039953</td>\n",
       "      <td>7.580871</td>\n",
       "    </tr>\n",
       "    <tr>\n",
       "      <th>443</th>\n",
       "      <td>8</td>\n",
       "      <td>{q0}</td>\n",
       "      <td>{q5}</td>\n",
       "      <td>{'q0': {'0': {'q5', 'q4', 'q0'}, '1': {'q7', '...</td>\n",
       "      <td>7</td>\n",
       "      <td>128</td>\n",
       "      <td>1158.452809</td>\n",
       "      <td>34</td>\n",
       "      <td>441.427670</td>\n",
       "      <td>8.050413</td>\n",
       "    </tr>\n",
       "    <tr>\n",
       "      <th>425</th>\n",
       "      <td>6</td>\n",
       "      <td>{q4}</td>\n",
       "      <td>{q4}</td>\n",
       "      <td>{'q0': {'0': {'q5', 'q4', 'q2', 'q1'}}, 'q1': ...</td>\n",
       "      <td>7</td>\n",
       "      <td>116</td>\n",
       "      <td>1062.403966</td>\n",
       "      <td>72</td>\n",
       "      <td>27.773512</td>\n",
       "      <td>8.158655</td>\n",
       "    </tr>\n",
       "    <tr>\n",
       "      <th>384</th>\n",
       "      <td>9</td>\n",
       "      <td>{q7}</td>\n",
       "      <td>{q0}</td>\n",
       "      <td>{'q0': {'1': {'q0', 'q4'}, '0': {'q5', 'q2', '...</td>\n",
       "      <td>5</td>\n",
       "      <td>32</td>\n",
       "      <td>304.074432</td>\n",
       "      <td>46</td>\n",
       "      <td>56.818824</td>\n",
       "      <td>8.502326</td>\n",
       "    </tr>\n",
       "    <tr>\n",
       "      <th>415</th>\n",
       "      <td>9</td>\n",
       "      <td>{q0}</td>\n",
       "      <td>{q4}</td>\n",
       "      <td>{'q0': {'1': {'q5', 'q0', 'q3', 'q2', 'q6', 'q...</td>\n",
       "      <td>6</td>\n",
       "      <td>61</td>\n",
       "      <td>615.896853</td>\n",
       "      <td>53</td>\n",
       "      <td>107.100063</td>\n",
       "      <td>9.096670</td>\n",
       "    </tr>\n",
       "    <tr>\n",
       "      <th>419</th>\n",
       "      <td>9</td>\n",
       "      <td>{q6}</td>\n",
       "      <td>{q3, q1}</td>\n",
       "      <td>{'q0': {'1': {'q0', 'q6'}, '0': {'q7', 'q4', '...</td>\n",
       "      <td>8</td>\n",
       "      <td>256</td>\n",
       "      <td>2710.022320</td>\n",
       "      <td>79</td>\n",
       "      <td>437.403847</td>\n",
       "      <td>9.586025</td>\n",
       "    </tr>\n",
       "    <tr>\n",
       "      <th>97</th>\n",
       "      <td>6</td>\n",
       "      <td>{q0, q4, q1}</td>\n",
       "      <td>{q0, q2, q3, q1}</td>\n",
       "      <td>{'q0': {'0': {'q5', 'q1'}, '1': {'q5', 'q2', '...</td>\n",
       "      <td>5</td>\n",
       "      <td>32</td>\n",
       "      <td>348.516394</td>\n",
       "      <td>8</td>\n",
       "      <td>141.583673</td>\n",
       "      <td>9.891137</td>\n",
       "    </tr>\n",
       "    <tr>\n",
       "      <th>45</th>\n",
       "      <td>5</td>\n",
       "      <td>{q4}</td>\n",
       "      <td>{q4, q2, q1}</td>\n",
       "      <td>{'q0': {'1': {'q1'}, '0': {'q1'}}, 'q1': {'0':...</td>\n",
       "      <td>10</td>\n",
       "      <td>1024</td>\n",
       "      <td>12388.688906</td>\n",
       "      <td>15</td>\n",
       "      <td>1348.562958</td>\n",
       "      <td>11.098329</td>\n",
       "    </tr>\n",
       "    <tr>\n",
       "      <th>475</th>\n",
       "      <td>7</td>\n",
       "      <td>{q0, q4, q6}</td>\n",
       "      <td>{q1}</td>\n",
       "      <td>{'q0': {'1': {'q6', 'q1'}, '0': {'q5', 'q3'}},...</td>\n",
       "      <td>10</td>\n",
       "      <td>512</td>\n",
       "      <td>6368.106213</td>\n",
       "      <td>92</td>\n",
       "      <td>421.943284</td>\n",
       "      <td>11.437707</td>\n",
       "    </tr>\n",
       "    <tr>\n",
       "      <th>468</th>\n",
       "      <td>7</td>\n",
       "      <td>{q0, q4}</td>\n",
       "      <td>{q2, q6}</td>\n",
       "      <td>{'q0': {'0': {'q5', 'q2', 'q0'}, '1': {'q4', '...</td>\n",
       "      <td>7</td>\n",
       "      <td>128</td>\n",
       "      <td>1689.239231</td>\n",
       "      <td>63</td>\n",
       "      <td>126.823663</td>\n",
       "      <td>12.197181</td>\n",
       "    </tr>\n",
       "    <tr>\n",
       "      <th>120</th>\n",
       "      <td>5</td>\n",
       "      <td>{q2, q3, q1}</td>\n",
       "      <td>{q3}</td>\n",
       "      <td>{'q0': {'1': {'q0', 'q4', 'q2', 'q3'}, '0': {'...</td>\n",
       "      <td>14</td>\n",
       "      <td>16384</td>\n",
       "      <td>230311.871308</td>\n",
       "      <td>58</td>\n",
       "      <td>641.399689</td>\n",
       "      <td>13.057121</td>\n",
       "    </tr>\n",
       "    <tr>\n",
       "      <th>284</th>\n",
       "      <td>10</td>\n",
       "      <td>{q2}</td>\n",
       "      <td>{q6}</td>\n",
       "      <td>{'q0': {'1': {'q0', 'q9', 'q3', 'q6', 'q8'}, '...</td>\n",
       "      <td>7</td>\n",
       "      <td>127</td>\n",
       "      <td>1846.084103</td>\n",
       "      <td>63</td>\n",
       "      <td>376.620378</td>\n",
       "      <td>13.536095</td>\n",
       "    </tr>\n",
       "    <tr>\n",
       "      <th>317</th>\n",
       "      <td>7</td>\n",
       "      <td>{q5}</td>\n",
       "      <td>{q0, q5, q6}</td>\n",
       "      <td>{'q0': {'0': {'q2', 'q1'}}, 'q1': {'1': {'q0',...</td>\n",
       "      <td>7</td>\n",
       "      <td>128</td>\n",
       "      <td>1902.533180</td>\n",
       "      <td>43</td>\n",
       "      <td>194.612001</td>\n",
       "      <td>13.863540</td>\n",
       "    </tr>\n",
       "    <tr>\n",
       "      <th>439</th>\n",
       "      <td>9</td>\n",
       "      <td>{q8}</td>\n",
       "      <td>{q6, q8}</td>\n",
       "      <td>{'q0': {'1': {'q4', 'q6'}, '0': {'q7'}}, 'q1':...</td>\n",
       "      <td>8</td>\n",
       "      <td>256</td>\n",
       "      <td>4075.632130</td>\n",
       "      <td>88</td>\n",
       "      <td>470.697020</td>\n",
       "      <td>14.920438</td>\n",
       "    </tr>\n",
       "    <tr>\n",
       "      <th>185</th>\n",
       "      <td>4</td>\n",
       "      <td>{q3}</td>\n",
       "      <td>{q2, q3}</td>\n",
       "      <td>{'q0': {'1': {'q1'}, '0': {'q2', 'q3', 'q1'}},...</td>\n",
       "      <td>10</td>\n",
       "      <td>1024</td>\n",
       "      <td>25935.479221</td>\n",
       "      <td>43</td>\n",
       "      <td>391.159397</td>\n",
       "      <td>24.327616</td>\n",
       "    </tr>\n",
       "    <tr>\n",
       "      <th>250</th>\n",
       "      <td>5</td>\n",
       "      <td>{q0, q4, q2, q3}</td>\n",
       "      <td>{q0, q4, q2, q1}</td>\n",
       "      <td>{'q0': {'1': {'q4', 'q3'}, '0': {'q3'}}, 'q1':...</td>\n",
       "      <td>14</td>\n",
       "      <td>6256</td>\n",
       "      <td>346126.976953</td>\n",
       "      <td>28</td>\n",
       "      <td>5106.766545</td>\n",
       "      <td>54.327202</td>\n",
       "    </tr>\n",
       "    <tr>\n",
       "      <th>155</th>\n",
       "      <td>5</td>\n",
       "      <td>{q0, q3, q1}</td>\n",
       "      <td>{q4, q2}</td>\n",
       "      <td>{'q0': {'0': {'q0', 'q2'}, '1': {'q4'}}, 'q1':...</td>\n",
       "      <td>14</td>\n",
       "      <td>16384</td>\n",
       "      <td>910667.905438</td>\n",
       "      <td>54</td>\n",
       "      <td>3016.351845</td>\n",
       "      <td>54.582758</td>\n",
       "    </tr>\n",
       "  </tbody>\n",
       "</table>\n",
       "</div>"
      ],
      "text/plain": [
       "     n_states    initial_states              final_states  \\\n",
       "375        13              {q0}                      {q7}   \n",
       "428         9      {q0, q7, q8}                      {q6}   \n",
       "399        14              {q6}            {q11, q10, q2}   \n",
       "279        12          {q4, q8}          {q0, q2, q7, q9}   \n",
       "491         7              {q6}  {q0, q3, q1, q4, q2, q6}   \n",
       "144         6              {q3}              {q5, q2, q1}   \n",
       "278         8              {q5}                      {q2}   \n",
       "409         9              {q5}                      {q4}   \n",
       "401        13              {q8}                      {q6}   \n",
       "264         9              {q1}                  {q0, q6}   \n",
       "338        10              {q8}                      {q5}   \n",
       "320         9              {q2}                      {q8}   \n",
       "335         7              {q0}                      {q0}   \n",
       "405        12              {q3}                     {q11}   \n",
       "445        14              {q5}                  {q2, q8}   \n",
       "311         9          {q0, q1}                      {q1}   \n",
       "394         8              {q2}                      {q4}   \n",
       "492         9              {q3}                      {q5}   \n",
       "434         8          {q4, q6}                      {q4}   \n",
       "161         6  {q5, q4, q3, q1}                      {q2}   \n",
       "281        10              {q1}                      {q4}   \n",
       "460         8          {q7, q3}                      {q3}   \n",
       "135         5          {q0, q2}              {q0, q4, q3}   \n",
       "407        10              {q8}                      {q7}   \n",
       "490        10          {q4, q2}                      {q3}   \n",
       "57          6          {q0, q1}      {q5, q0, q3, q4, q2}   \n",
       "191         6      {q5, q2, q1}                  {q2, q1}   \n",
       "417         8              {q6}                      {q7}   \n",
       "396         7              {q4}                      {q4}   \n",
       "204         5  {q0, q4, q2, q1}                  {q2, q1}   \n",
       "410        10      {q0, q2, q1}                      {q8}   \n",
       "126         6  {q0, q4, q2, q1}                      {q2}   \n",
       "282         8              {q4}                      {q7}   \n",
       "248         5          {q0, q3}                      {q4}   \n",
       "443         8              {q0}                      {q5}   \n",
       "425         6              {q4}                      {q4}   \n",
       "384         9              {q7}                      {q0}   \n",
       "415         9              {q0}                      {q4}   \n",
       "419         9              {q6}                  {q3, q1}   \n",
       "97          6      {q0, q4, q1}          {q0, q2, q3, q1}   \n",
       "45          5              {q4}              {q4, q2, q1}   \n",
       "475         7      {q0, q4, q6}                      {q1}   \n",
       "468         7          {q0, q4}                  {q2, q6}   \n",
       "120         5      {q2, q3, q1}                      {q3}   \n",
       "284        10              {q2}                      {q6}   \n",
       "317         7              {q5}              {q0, q5, q6}   \n",
       "439         9              {q8}                  {q6, q8}   \n",
       "185         4              {q3}                  {q2, q3}   \n",
       "250         5  {q0, q4, q2, q3}          {q0, q4, q2, q1}   \n",
       "155         5      {q0, q3, q1}                  {q4, q2}   \n",
       "\n",
       "                                           transitions  string_n  bruteforce  \\\n",
       "375  {'q0': {'0': {'q11', 'q8', 'q0'}, '1': {'q5', ...         4          16   \n",
       "428  {'q0': {'1': {'q5', 'q1'}, '0': {'q4', 'q6'}},...         6          32   \n",
       "399  {'q0': {'1': {'q5', 'q13', 'q7', 'q4', 'q8'}, ...         7         128   \n",
       "279  {'q0': {'0': {'q5', 'q0', 'q3', 'q1', 'q11', '...         4          16   \n",
       "491  {'q0': {'1': {'q0', 'q4'}, '0': {'q5', 'q2', '...         4          16   \n",
       "144  {'q0': {'1': {'q5', 'q1'}}, 'q1': {'1': {'q5',...         7         105   \n",
       "278  {'q0': {'1': {'q0', 'q4', 'q2', 'q7'}, '0': {'...         7         128   \n",
       "409  {'q0': {'1': {'q0', 'q2', 'q7'}, '0': {'q6'}},...         5          32   \n",
       "401  {'q0': {'0': {'q10', 'q2', 'q6', 'q0'}, '1': {...         4          16   \n",
       "264  {'q0': {'0': {'q0', 'q3', 'q1'}, '1': {'q5', '...         6          63   \n",
       "338  {'q0': {'1': {'q5', 'q0', 'q9', 'q1', 'q7', 'q...         6          64   \n",
       "320  {'q0': {'0': {'q5', 'q0', 'q3', 'q1', 'q8'}, '...         7         128   \n",
       "335  {'q0': {'1': {'q0', 'q4'}, '0': {'q2', 'q3'}},...         7         128   \n",
       "405  {'q0': {'0': {'q5', 'q0', 'q9', 'q1', 'q7', 'q...         4          16   \n",
       "445  {'q0': {'0': {'q13', 'q2'}, '1': {'q5', 'q12',...         6          64   \n",
       "311  {'q0': {'0': {'q5', 'q0', 'q3', 'q7', 'q4'}, '...         7         128   \n",
       "394  {'q0': {'1': {'q5', 'q4', 'q2', 'q0'}, '0': {'...         7         128   \n",
       "492  {'q0': {'0': {'q0', 'q2', 'q6', 'q3'}, '1': {'...         6          48   \n",
       "434  {'q0': {'0': {'q5', 'q7', 'q6', 'q1'}}, 'q1': ...        10         768   \n",
       "161  {'q0': {'1': {'q4', 'q3', 'q1'}, '0': {'q4', '...         9         491   \n",
       "281  {'q0': {'1': {'q0', 'q9', 'q3', 'q7', 'q6', 'q...         5          31   \n",
       "460  {'q0': {'0': {'q7', 'q2'}, '1': {'q5', 'q6'}},...         6          32   \n",
       "135  {'q0': {'0': {'q4', 'q2', 'q3', 'q1'}}, 'q1': ...         6          64   \n",
       "407  {'q0': {'0': {'q5', 'q2', 'q7', 'q8'}, '1': {'...         6          64   \n",
       "490  {'q0': {'0': {'q5', 'q0', 'q9', 'q3', 'q1', 'q...         5          24   \n",
       "57   {'q0': {'1': {'q5', 'q3'}, '0': {'q5', 'q4', '...         5          32   \n",
       "191  {'q0': {'1': {'q0'}, '0': {'q5', 'q0'}}, 'q1':...        12        4096   \n",
       "417  {'q0': {'1': {'q0'}, '0': {'q7', 'q4'}}, 'q1':...         8         256   \n",
       "396  {'q0': {'1': {'q0', 'q2', 'q5', 'q6'}, '0': {'...         6          32   \n",
       "204  {'q0': {}, 'q1': {'1': {'q1'}, '0': {'q4', 'q1...        12        4096   \n",
       "410  {'q0': {'0': {'q5', 'q9', 'q3', 'q1', 'q8'}}, ...         8         256   \n",
       "126  {'q0': {'1': {'q4'}, '0': {'q5', 'q4'}}, 'q1':...        11        2048   \n",
       "282  {'q0': {'1': {'q5', 'q0', 'q7', 'q2', 'q6'}, '...        10         384   \n",
       "248  {'q0': {'1': {'q0', 'q4', 'q3'}, '0': {'q3', '...        10        1024   \n",
       "443  {'q0': {'0': {'q5', 'q4', 'q0'}, '1': {'q7', '...         7         128   \n",
       "425  {'q0': {'0': {'q5', 'q4', 'q2', 'q1'}}, 'q1': ...         7         116   \n",
       "384  {'q0': {'1': {'q0', 'q4'}, '0': {'q5', 'q2', '...         5          32   \n",
       "415  {'q0': {'1': {'q5', 'q0', 'q3', 'q2', 'q6', 'q...         6          61   \n",
       "419  {'q0': {'1': {'q0', 'q6'}, '0': {'q7', 'q4', '...         8         256   \n",
       "97   {'q0': {'0': {'q5', 'q1'}, '1': {'q5', 'q2', '...         5          32   \n",
       "45   {'q0': {'1': {'q1'}, '0': {'q1'}}, 'q1': {'0':...        10        1024   \n",
       "475  {'q0': {'1': {'q6', 'q1'}, '0': {'q5', 'q3'}},...        10         512   \n",
       "468  {'q0': {'0': {'q5', 'q2', 'q0'}, '1': {'q4', '...         7         128   \n",
       "120  {'q0': {'1': {'q0', 'q4', 'q2', 'q3'}, '0': {'...        14       16384   \n",
       "284  {'q0': {'1': {'q0', 'q9', 'q3', 'q6', 'q8'}, '...         7         127   \n",
       "317  {'q0': {'0': {'q2', 'q1'}}, 'q1': {'1': {'q0',...         7         128   \n",
       "439  {'q0': {'1': {'q4', 'q6'}, '0': {'q7'}}, 'q1':...         8         256   \n",
       "185  {'q0': {'1': {'q1'}, '0': {'q2', 'q3', 'q1'}},...        10        1024   \n",
       "250  {'q0': {'1': {'q4', 'q3'}, '0': {'q3'}}, 'q1':...        14        6256   \n",
       "155  {'q0': {'0': {'q0', 'q2'}, '1': {'q4'}}, 'q1':...        14       16384   \n",
       "\n",
       "          estimate  eps         time  rel_error  \n",
       "375      71.649313   30    64.562396   3.478082  \n",
       "428     143.597542   34   147.425944   3.487423  \n",
       "399     596.716049   78   501.677479   3.661844  \n",
       "279      75.433192   17   168.309165   3.714574  \n",
       "491      76.204346   34     5.014052   3.762772  \n",
       "144     501.147921   33    58.171788   3.772837  \n",
       "278     618.158367   62   104.309336   3.829362  \n",
       "409     155.513995   32    50.662583   3.859812  \n",
       "401      78.055363   37    40.283245   3.878460  \n",
       "264     315.639375   54    68.401093   4.010149  \n",
       "338     324.107794   39   107.438705   4.064184  \n",
       "320     700.073475   81   135.760126   4.469324  \n",
       "335     701.995890   52    81.629251   4.484343  \n",
       "405      89.536235   29    63.773507   4.596015  \n",
       "445     366.780403   62   360.541019   4.730944  \n",
       "311     784.539926   84   150.884515   5.129218  \n",
       "394     813.736320   57    89.712078   5.357315  \n",
       "492     306.774816   44    90.072723   5.391142  \n",
       "434    5103.038731  117   265.341217   5.644582  \n",
       "161    3313.844108   28   845.851782   5.749173  \n",
       "281     209.511888   54    58.128753   5.758448  \n",
       "460     220.713308   47   135.708252   5.897291  \n",
       "135     455.550164   22    51.058338   6.117971  \n",
       "407     466.764304   49   186.594502   6.293192  \n",
       "490     175.564000   56    57.603942   6.315167  \n",
       "57      237.365394    8    75.338577   6.417669  \n",
       "191   31514.495597   59  1067.227681   6.693969  \n",
       "417    1980.613493   69   320.986666   6.736771  \n",
       "396     249.995864   37    42.462639   6.812371  \n",
       "204   32156.717887   27  1582.476723   6.850761  \n",
       "410    2015.898790   72   359.527514   6.874605  \n",
       "126   16523.308644   44  1074.946736   7.068022  \n",
       "282    3157.125873  119   172.472865   7.221682  \n",
       "248    8786.812229   21  1189.039953   7.580871  \n",
       "443    1158.452809   34   441.427670   8.050413  \n",
       "425    1062.403966   72    27.773512   8.158655  \n",
       "384     304.074432   46    56.818824   8.502326  \n",
       "415     615.896853   53   107.100063   9.096670  \n",
       "419    2710.022320   79   437.403847   9.586025  \n",
       "97      348.516394    8   141.583673   9.891137  \n",
       "45    12388.688906   15  1348.562958  11.098329  \n",
       "475    6368.106213   92   421.943284  11.437707  \n",
       "468    1689.239231   63   126.823663  12.197181  \n",
       "120  230311.871308   58   641.399689  13.057121  \n",
       "284    1846.084103   63   376.620378  13.536095  \n",
       "317    1902.533180   43   194.612001  13.863540  \n",
       "439    4075.632130   88   470.697020  14.920438  \n",
       "185   25935.479221   43   391.159397  24.327616  \n",
       "250  346126.976953   28  5106.766545  54.327202  \n",
       "155  910667.905438   54  3016.351845  54.582758  "
      ]
     },
     "execution_count": 4,
     "metadata": {},
     "output_type": "execute_result"
    }
   ],
   "source": [
    "df.sort_values(by=\"rel_error\", ascending=True).tail(50)"
   ]
  },
  {
   "cell_type": "code",
   "execution_count": null,
   "id": "ec9690cd",
   "metadata": {},
   "outputs": [],
   "source": [
    "count_nfa(instantiate_nfa(df))"
   ]
  }
 ],
 "metadata": {
  "interpreter": {
   "hash": "0602504454f0638c3c0ff967dc00c81d73b297792cfa3e9f03f5a76d8a2b245a"
  },
  "kernelspec": {
   "display_name": "Python 3 (ipykernel)",
   "language": "python",
   "name": "python3"
  },
  "language_info": {
   "codemirror_mode": {
    "name": "ipython",
    "version": 3
   },
   "file_extension": ".py",
   "mimetype": "text/x-python",
   "name": "python",
   "nbconvert_exporter": "python",
   "pygments_lexer": "ipython3",
   "version": "3.8.10"
  }
 },
 "nbformat": 4,
 "nbformat_minor": 5
}
