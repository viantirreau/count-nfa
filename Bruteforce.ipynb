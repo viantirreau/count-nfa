{
 "cells": [
  {
   "cell_type": "code",
   "execution_count": 1,
   "id": "1c43d342",
   "metadata": {},
   "outputs": [],
   "source": [
    "import math\n",
    "import time\n",
    "import pickle\n",
    "from random import randint\n",
    "from multiprocessing import Pool, TimeoutError\n",
    "\n",
    "import numpy as np\n",
    "import scipy\n",
    "import pandas as pd\n",
    "import seaborn as sns\n",
    "import matplotlib.pyplot as plt\n",
    "from tqdm.auto import tqdm as tqdm\n",
    "from IPython.display import clear_output\n",
    "from nfa_lib import NFA\n",
    "\n",
    "sns.set()\n"
   ]
  },
  {
   "cell_type": "code",
   "execution_count": 10,
   "id": "8fde9d1d",
   "metadata": {},
   "outputs": [],
   "source": [
    "nfa = NFA(\n",
    "    states={'q0', 'q1', 'q2', 'q3', 'q4', 'q5', 'q6'},\n",
    "    input_symbols={'0', '1'},\n",
    "    transitions={\n",
    "        'q0': {'0': {'q1'}, '1': {'q3'}},\n",
    "        'q1': {'0': {'q2'}},\n",
    "        'q2': {'0': {'q0'}, '1': {'q3'}},\n",
    "        'q3': {'0': {'q4'}},\n",
    "        'q4': {'0': {'q5'}},\n",
    "        'q5': {'0': {'q3'}},\n",
    "        'q6': {'1': {'q4'}},\n",
    "    },\n",
    "    initial_states={'q0', 'q1', 'q5', 'q6'},\n",
    "    final_states={'q2', 'q4', 'q6'}\n",
    ")"
   ]
  },
  {
   "cell_type": "code",
   "execution_count": 11,
   "id": "d39849f7",
   "metadata": {},
   "outputs": [
    {
     "name": "stdout",
     "output_type": "stream",
     "text": [
      "[{'q4', 'q3', 'q5'}, {'q2', 'q0', 'q1'}, {'q6'}]\n",
      "{'q2': {'q2': 0, 'q0': 1.0, 'q3': 1.0, 'q6': inf, 'q1': 2.0, 'q4': 2.0, 'q5': 3.0}, 'q6': {'q6': 0, 'q4': 1.0, 'q2': inf, 'q3': 3.0, 'q1': inf, 'q0': inf, 'q5': 2.0}, 'q3': {'q3': 0, 'q4': 1.0, 'q2': inf, 'q6': inf, 'q1': inf, 'q0': inf, 'q5': 2.0}, 'q1': {'q1': 0, 'q2': 1.0, 'q6': inf, 'q3': 2.0, 'q4': 3.0, 'q0': 2.0, 'q5': 4.0}, 'q4': {'q4': 0, 'q5': 1.0, 'q2': inf, 'q6': inf, 'q3': 2.0, 'q1': inf, 'q0': inf}, 'q0': {'q0': 0, 'q1': 1.0, 'q3': 1.0, 'q2': 2.0, 'q6': inf, 'q4': 2.0, 'q5': 3.0}, 'q5': {'q5': 0, 'q3': 1.0, 'q2': inf, 'q6': inf, 'q1': inf, 'q4': 2.0, 'q0': inf}}\n",
      "[(1, 0), (2, 0)]\n",
      "{0: defaultdict(<function floyd_warshall_predecessor_and_distance.<locals>.<lambda>.<locals>.<lambda> at 0x7f91c57d9160>, {0: 0, 1: inf, 2: inf}), 1: defaultdict(<function floyd_warshall_predecessor_and_distance.<locals>.<lambda>.<locals>.<lambda> at 0x7f91c57d90d0>, {1: 0, 0: 1, 2: inf}), 2: defaultdict(<function floyd_warshall_predecessor_and_distance.<locals>.<lambda>.<locals>.<lambda> at 0x7f91c57d9040>, {2: 0, 0: 1, 1: inf})}\n"
     ]
    },
    {
     "data": {
      "text/plain": [
       "2"
      ]
     },
     "execution_count": 11,
     "metadata": {},
     "output_type": "execute_result"
    }
   ],
   "source": [
    "nfa.cycle_height()"
   ]
  },
  {
   "cell_type": "code",
   "execution_count": 8,
   "id": "77c4226d",
   "metadata": {},
   "outputs": [],
   "source": [
    "nfa = NFA(\n",
    "    states={'q0', 'q1', 'q2', 'q3'},\n",
    "    input_symbols={'0', '1'},\n",
    "    transitions={\n",
    "        'q0': {'0': {'q1', 'q2'}},\n",
    "        'q1': {'0': {'q1', 'q3'}},\n",
    "        'q2': {'0': {'q3'}, '1': {'q2'} },\n",
    "        'q3': {'0': {'q3'}},\n",
    "    },\n",
    "    initial_states={'q0'},\n",
    "    final_states={'q3'}\n",
    ")"
   ]
  },
  {
   "cell_type": "code",
   "execution_count": null,
   "id": "66dcd996",
   "metadata": {},
   "outputs": [],
   "source": [
    "nfa = NFA(\n",
    "    states={'q0', 'q1', 'q2'},\n",
    "    input_symbols={'0', '1'},\n",
    "    transitions={\n",
    "        'q0': {'0': {'q1'}},\n",
    "        'q1': {'1': {'q2'}},\n",
    "        'q2': {'1': {'q0'}}\n",
    "    },\n",
    "    initial_states={'q0'},\n",
    "    final_states={'q1'}\n",
    ")"
   ]
  },
  {
   "cell_type": "code",
   "execution_count": 13,
   "id": "348c5eaf",
   "metadata": {
    "scrolled": true
   },
   "outputs": [
    {
     "name": "stderr",
     "output_type": "stream",
     "text": [
      "100%|██████████| 1048576/1048576 [00:06<00:00, 166056.87it/s]"
     ]
    },
    {
     "name": "stdout",
     "output_type": "stream",
     "text": [
      "CPU times: user 6.32 s, sys: 15.8 ms, total: 6.33 s\n",
      "Wall time: 6.32 s\n"
     ]
    },
    {
     "name": "stderr",
     "output_type": "stream",
     "text": [
      "\n"
     ]
    },
    {
     "data": {
      "text/plain": [
       "8"
      ]
     },
     "execution_count": 13,
     "metadata": {},
     "output_type": "execute_result"
    }
   ],
   "source": [
    "%%time\n",
    "nfa.bruteforce_count_only(20)"
   ]
  },
  {
   "cell_type": "code",
   "execution_count": null,
   "id": "51b1dfd2",
   "metadata": {},
   "outputs": [],
   "source": [
    "nfa.plot()"
   ]
  },
  {
   "cell_type": "code",
   "execution_count": 2,
   "id": "99d8342e",
   "metadata": {},
   "outputs": [],
   "source": [
    "def count_nfa(nfa: NFA, n: int, eps: float):\n",
    "    nfa_unroll = nfa.unroll(n)\n",
    "    return nfa_unroll.count_accepted(n=n, eps=eps), nfa_unroll"
   ]
  },
  {
   "cell_type": "code",
   "execution_count": null,
   "id": "dbd2f2d1",
   "metadata": {
    "scrolled": true
   },
   "outputs": [],
   "source": [
    "count, nfa_unroll = count_nfa(nfa, 55, 1500)\n",
    "count"
   ]
  },
  {
   "cell_type": "code",
   "execution_count": null,
   "id": "290a7360",
   "metadata": {},
   "outputs": [],
   "source": [
    "1 << 50"
   ]
  },
  {
   "cell_type": "code",
   "execution_count": null,
   "id": "029aead8",
   "metadata": {},
   "outputs": [],
   "source": [
    "189863754266 / 1e9"
   ]
  },
  {
   "cell_type": "code",
   "execution_count": null,
   "id": "67504037",
   "metadata": {},
   "outputs": [],
   "source": [
    "nfa.accepts_input('')"
   ]
  },
  {
   "cell_type": "code",
   "execution_count": null,
   "id": "af8254aa",
   "metadata": {},
   "outputs": [],
   "source": [
    "x = np.array([1.,2.,3.])\n"
   ]
  },
  {
   "cell_type": "code",
   "execution_count": null,
   "id": "0e35b9bf",
   "metadata": {},
   "outputs": [],
   "source": [
    "print(nfa.plot().source)\n",
    "nfa.plot()"
   ]
  },
  {
   "cell_type": "markdown",
   "id": "0d20c1ee",
   "metadata": {},
   "source": [
    "# Experimentos estadísticos"
   ]
  },
  {
   "cell_type": "code",
   "execution_count": null,
   "id": "f71dc4e6",
   "metadata": {},
   "outputs": [],
   "source": [
    "nfa = NFA(\n",
    "    states={'q0', 'q1', 'q2'},\n",
    "    input_symbols={'0', '1'},\n",
    "    transitions={\n",
    "        'q0': {'0': {'q1'}},\n",
    "        # Use '' as the key name for empty string (lambda/epsilon) transitions\n",
    "        'q1': {\n",
    "            #'0': {'q1'},\n",
    "            '1': {'q0', 'q2'}},\n",
    "        'q2': {\n",
    "            '1': {'q0'}\n",
    "        }\n",
    "    },\n",
    "    initial_states={'q0'},\n",
    "    final_states={'q1'}\n",
    ")"
   ]
  },
  {
   "cell_type": "code",
   "execution_count": 21,
   "id": "f5c351db",
   "metadata": {
    "scrolled": true
   },
   "outputs": [
    {
     "name": "stderr",
     "output_type": "stream",
     "text": [
      "100%|██████████| 2/2 [00:00<00:00, 18477.11it/s]\n",
      "100%|██████████| 4/4 [00:00<00:00, 34879.87it/s]\n",
      "100%|██████████| 8/8 [00:00<00:00, 49932.19it/s]\n",
      "100%|██████████| 16/16 [00:00<00:00, 112222.18it/s]\n",
      "100%|██████████| 32/32 [00:00<00:00, 126859.86it/s]\n",
      "100%|██████████| 64/64 [00:00<00:00, 116256.15it/s]\n",
      "100%|██████████| 128/128 [00:00<00:00, 117734.85it/s]\n",
      "100%|██████████| 256/256 [00:00<00:00, 113599.43it/s]\n",
      "100%|██████████| 512/512 [00:00<00:00, 197379.01it/s]\n",
      "100%|██████████| 1024/1024 [00:00<00:00, 127243.21it/s]\n",
      "100%|██████████| 2048/2048 [00:00<00:00, 175541.23it/s]\n",
      "100%|██████████| 4096/4096 [00:00<00:00, 205257.76it/s]\n",
      "100%|██████████| 8192/8192 [00:00<00:00, 152786.00it/s]\n",
      "100%|██████████| 16384/16384 [00:00<00:00, 124441.76it/s]\n",
      "100%|██████████| 32768/32768 [00:00<00:00, 190994.87it/s]\n",
      "100%|██████████| 65536/65536 [00:00<00:00, 190355.23it/s]\n",
      "100%|██████████| 131072/131072 [00:00<00:00, 185259.85it/s]\n",
      "100%|██████████| 262144/262144 [00:01<00:00, 181896.63it/s]\n",
      "100%|██████████| 524288/524288 [00:03<00:00, 171719.26it/s]\n",
      "100%|██████████| 1048576/1048576 [00:06<00:00, 169194.50it/s]\n",
      "100%|██████████| 2097152/2097152 [00:12<00:00, 167996.08it/s]\n",
      "100%|██████████| 4194304/4194304 [00:26<00:00, 160218.86it/s]\n",
      "100%|██████████| 8388608/8388608 [00:52<00:00, 160683.66it/s]\n",
      "100%|██████████| 16777216/16777216 [01:49<00:00, 153658.04it/s]"
     ]
    },
    {
     "name": "stdout",
     "output_type": "stream",
     "text": [
      "CPU times: user 3min 32s, sys: 308 ms, total: 3min 32s\n",
      "Wall time: 3min 32s\n"
     ]
    },
    {
     "name": "stderr",
     "output_type": "stream",
     "text": [
      "\n"
     ]
    }
   ],
   "source": [
    "%%time\n",
    "data = [(i,nfa.bruteforce_count_only(i)) for i in range(1, 25)]"
   ]
  },
  {
   "cell_type": "code",
   "execution_count": null,
   "id": "d39795e6",
   "metadata": {
    "scrolled": false
   },
   "outputs": [],
   "source": [
    "log_data = [(i, math.log(max(1, nfa.bruteforce_count_only(i)))) for i in range(1, 20)]"
   ]
  },
  {
   "cell_type": "code",
   "execution_count": 22,
   "id": "aa8da4df",
   "metadata": {},
   "outputs": [],
   "source": [
    "df = pd.DataFrame(data, columns=[\"i\", \"frac\"])"
   ]
  },
  {
   "cell_type": "code",
   "execution_count": 23,
   "id": "2726c943",
   "metadata": {
    "scrolled": true
   },
   "outputs": [
    {
     "data": {
      "text/plain": [
       "<AxesSubplot:xlabel='i'>"
      ]
     },
     "execution_count": 23,
     "metadata": {},
     "output_type": "execute_result"
    },
    {
     "data": {
      "image/png": "[encoded data removed]",
      "text/plain": [
       "<Figure size 432x288 with 1 Axes>"
      ]
     },
     "metadata": {},
     "output_type": "display_data"
    }
   ],
   "source": [
    "df.plot(x=\"i\", y=\"frac\")"
   ]
  },
  {
   "cell_type": "code",
   "execution_count": 20,
   "id": "4b364b19",
   "metadata": {},
   "outputs": [
    {
     "data": {
      "text/html": [
       "<div>\n",
       "<style scoped>\n",
       "    .dataframe tbody tr th:only-of-type {\n",
       "        vertical-align: middle;\n",
       "    }\n",
       "\n",
       "    .dataframe tbody tr th {\n",
       "        vertical-align: top;\n",
       "    }\n",
       "\n",
       "    .dataframe thead th {\n",
       "        text-align: right;\n",
       "    }\n",
       "</style>\n",
       "<table border=\"1\" class=\"dataframe\">\n",
       "  <thead>\n",
       "    <tr style=\"text-align: right;\">\n",
       "      <th></th>\n",
       "      <th>i</th>\n",
       "      <th>frac</th>\n",
       "    </tr>\n",
       "  </thead>\n",
       "  <tbody>\n",
       "    <tr>\n",
       "      <th>0</th>\n",
       "      <td>1</td>\n",
       "      <td>2</td>\n",
       "    </tr>\n",
       "    <tr>\n",
       "      <th>1</th>\n",
       "      <td>2</td>\n",
       "      <td>2</td>\n",
       "    </tr>\n",
       "    <tr>\n",
       "      <th>2</th>\n",
       "      <td>3</td>\n",
       "      <td>1</td>\n",
       "    </tr>\n",
       "    <tr>\n",
       "      <th>3</th>\n",
       "      <td>4</td>\n",
       "      <td>3</td>\n",
       "    </tr>\n",
       "    <tr>\n",
       "      <th>4</th>\n",
       "      <td>5</td>\n",
       "      <td>3</td>\n",
       "    </tr>\n",
       "    <tr>\n",
       "      <th>5</th>\n",
       "      <td>6</td>\n",
       "      <td>2</td>\n",
       "    </tr>\n",
       "    <tr>\n",
       "      <th>6</th>\n",
       "      <td>7</td>\n",
       "      <td>4</td>\n",
       "    </tr>\n",
       "    <tr>\n",
       "      <th>7</th>\n",
       "      <td>8</td>\n",
       "      <td>4</td>\n",
       "    </tr>\n",
       "    <tr>\n",
       "      <th>8</th>\n",
       "      <td>9</td>\n",
       "      <td>3</td>\n",
       "    </tr>\n",
       "    <tr>\n",
       "      <th>9</th>\n",
       "      <td>10</td>\n",
       "      <td>5</td>\n",
       "    </tr>\n",
       "    <tr>\n",
       "      <th>10</th>\n",
       "      <td>11</td>\n",
       "      <td>5</td>\n",
       "    </tr>\n",
       "    <tr>\n",
       "      <th>11</th>\n",
       "      <td>12</td>\n",
       "      <td>4</td>\n",
       "    </tr>\n",
       "    <tr>\n",
       "      <th>12</th>\n",
       "      <td>13</td>\n",
       "      <td>6</td>\n",
       "    </tr>\n",
       "    <tr>\n",
       "      <th>13</th>\n",
       "      <td>14</td>\n",
       "      <td>6</td>\n",
       "    </tr>\n",
       "    <tr>\n",
       "      <th>14</th>\n",
       "      <td>15</td>\n",
       "      <td>5</td>\n",
       "    </tr>\n",
       "    <tr>\n",
       "      <th>15</th>\n",
       "      <td>16</td>\n",
       "      <td>7</td>\n",
       "    </tr>\n",
       "    <tr>\n",
       "      <th>16</th>\n",
       "      <td>17</td>\n",
       "      <td>7</td>\n",
       "    </tr>\n",
       "    <tr>\n",
       "      <th>17</th>\n",
       "      <td>18</td>\n",
       "      <td>6</td>\n",
       "    </tr>\n",
       "    <tr>\n",
       "      <th>18</th>\n",
       "      <td>19</td>\n",
       "      <td>8</td>\n",
       "    </tr>\n",
       "  </tbody>\n",
       "</table>\n",
       "</div>"
      ],
      "text/plain": [
       "     i  frac\n",
       "0    1     2\n",
       "1    2     2\n",
       "2    3     1\n",
       "3    4     3\n",
       "4    5     3\n",
       "5    6     2\n",
       "6    7     4\n",
       "7    8     4\n",
       "8    9     3\n",
       "9   10     5\n",
       "10  11     5\n",
       "11  12     4\n",
       "12  13     6\n",
       "13  14     6\n",
       "14  15     5\n",
       "15  16     7\n",
       "16  17     7\n",
       "17  18     6\n",
       "18  19     8"
      ]
     },
     "execution_count": 20,
     "metadata": {},
     "output_type": "execute_result"
    }
   ],
   "source": [
    "df"
   ]
  },
  {
   "cell_type": "code",
   "execution_count": null,
   "id": "63710628",
   "metadata": {
    "scrolled": true
   },
   "outputs": [],
   "source": [
    "df[df.i >= 5].plot(x=\"i\", y=\"frac\")"
   ]
  },
  {
   "cell_type": "code",
   "execution_count": null,
   "id": "ee04f677",
   "metadata": {},
   "outputs": [],
   "source": [
    "def fit_function(x, a, b, c):\n",
    "    return a*b**(c*x)"
   ]
  },
  {
   "cell_type": "code",
   "execution_count": null,
   "id": "8f56e35c",
   "metadata": {},
   "outputs": [],
   "source": [
    "predictable_data = df[df.i.between(11,23)]"
   ]
  },
  {
   "cell_type": "code",
   "execution_count": null,
   "id": "b52b7a03",
   "metadata": {
    "scrolled": true
   },
   "outputs": [],
   "source": [
    "x_data = predictable_data.i.values\n",
    "y_data = predictable_data.frac.values\n",
    "popt, pcov = scipy.optimize.curve_fit(fit_function, x_data, y_data, maxfev=1000)"
   ]
  },
  {
   "cell_type": "code",
   "execution_count": null,
   "id": "598f46c8",
   "metadata": {
    "scrolled": false
   },
   "outputs": [],
   "source": [
    "all_data = df[df.i >= 5]\n",
    "all_x_data = all_data.i.values\n",
    "all_y_data = all_data.frac.values\n",
    "\n",
    "fig = plt.plot(all_x_data, fit_function(all_x_data, *popt), label=\"fit\")\n",
    "plt.plot(all_x_data, all_y_data, label=\"real\")\n",
    "plt.legend();\n",
    "plt.title(\"Comparación valores predichos y reales\")\n",
    "plt.gcf().set_size_inches((14,8))"
   ]
  },
  {
   "cell_type": "code",
   "execution_count": null,
   "id": "c97c6294",
   "metadata": {
    "scrolled": false
   },
   "outputs": [],
   "source": [
    "plt.plot(all_x_data, fit_function(all_x_data, *popt) - all_y_data, label=\"fit\")\n",
    "plt.legend();\n",
    "plt.title(\"Residuos\")\n",
    "plt.gcf().set_size_inches((14,8))"
   ]
  },
  {
   "cell_type": "code",
   "execution_count": null,
   "id": "2f43acaa",
   "metadata": {},
   "outputs": [],
   "source": [
    "k = 28\n",
    "pred_for_k = fit_function(k, *popt) * 2**k\n",
    "pred_for_k"
   ]
  },
  {
   "cell_type": "code",
   "execution_count": null,
   "id": "b8d01bc7",
   "metadata": {},
   "outputs": [],
   "source": [
    "[(k,int(fit_function(k, *popt) * 2**k)) for k in range(6,28)]"
   ]
  },
  {
   "cell_type": "code",
   "execution_count": null,
   "id": "fd5c2976",
   "metadata": {},
   "outputs": [],
   "source": [
    "{{6, 13},\n",
    " {7, 23},\n",
    " {8, 44},\n",
    " {9, 81},\n",
    " {10, 148},\n",
    " {11, 274},\n",
    " {12, 504},\n",
    " {13, 927},\n",
    " {14, 1705}}"
   ]
  },
  {
   "cell_type": "code",
   "execution_count": null,
   "id": "93afcdf5",
   "metadata": {},
   "outputs": [],
   "source": [
    "%%time\n",
    "ground_truth_k = nfa.bruteforce_dfs(k)\n",
    "ground_truth_k"
   ]
  },
  {
   "cell_type": "code",
   "execution_count": null,
   "id": "fa5dae22",
   "metadata": {
    "scrolled": true
   },
   "outputs": [],
   "source": [
    "popt"
   ]
  },
  {
   "cell_type": "code",
   "execution_count": null,
   "id": "9f57c056",
   "metadata": {},
   "outputs": [],
   "source": [
    "# Error relativo!\n",
    "(pred_for_k - ground_truth_k) / ground_truth_k"
   ]
  },
  {
   "cell_type": "code",
   "execution_count": null,
   "id": "826aaca1",
   "metadata": {},
   "outputs": [],
   "source": [
    "# Error relativo!\n",
    "(pred_for_k - ground_truth_k) / ground_truth_k"
   ]
  },
  {
   "cell_type": "markdown",
   "id": "5f2d1465",
   "metadata": {},
   "source": [
    "- https://arxiv.org/pdf/1802.04708.pdf -> si A es acíclico, el lenguaje es finito. De hecho, $L(A) \\subseteq (\\Sigma \\cup \\{\\epsilon\\})^{|Q|}$\n",
    "- En general, para $n < |Q|$ el comportamiento se puede hardcodear, por lo que fuerza bruta o `sketch` son necesarios\n",
    "- http://www.stringology.org/cgi-bin/getfile.cgi?t=pdf&c=-&y=2013&n=03 -> hay un algoritmo $O(|Q|)$ que usa `BFS` y `gcd` para determinar si la densidad del lenguaje es exponencial o polinomial. Se basa en encontrar dos caminos distintos del mismo largo y estado de partida en una componente fuertemente conexa (SCC).\n",
    "    - Hipótesis 1: si el lenguaje tiene densidad exponencial, el gráfico $|L_n(A)|/2^n$ se verá como una constante tras al menos $n=|Q|$. Estimar es trivial para $n \\gg |Q|$, basta retornar esa proporción multiplicada por $2^n$\n",
    "    - Hipótesis 2: si el lenguaje tiene densidad polinomial, el gráfico $|L_n(A)|/2^n$ se verá como una exponencial\n",
    "    decayendo. Se puede fittear una función y aproximar para $n \\gg |Q|$\n",
    "    \n",
    "- [Scholar Kai Salomaa](https://scholar.google.com/citations?hl=es&user=N3AlqdYAAAAJ&view_op=list_works&sortby=pubdate)"
   ]
  },
  {
   "cell_type": "markdown",
   "id": "eae98f5a",
   "metadata": {},
   "source": [
    "Keeler, Salomaa\n",
    "\n",
    "\n",
    "$|L(A)| \\le \\text{ambiguity} \\le \\text{string path width} \\le \\text{tree width}$\n",
    "\n",
    "- **ambiguity**: number of accepting computations of A on a given string\n",
    "- **string path width**: does not count partial computations, only complete (and maybe non-accepting) computations\n",
    "- **tree width**: all computations of A on a given string (even partial ones)"
   ]
  },
  {
   "cell_type": "code",
   "execution_count": null,
   "id": "d1b3fd02",
   "metadata": {},
   "outputs": [],
   "source": [
    "np.random.choice([\"-1\",\"0\",\"1\"], size=(3,3))[1,0]"
   ]
  },
  {
   "cell_type": "code",
   "execution_count": null,
   "id": "95f19879",
   "metadata": {},
   "outputs": [],
   "source": [
    "rand = NFA.random(n_states=5, input_symbols={\"0\", \"1\"}, sparsity=0.5)\n",
    "rand.plot()"
   ]
  },
  {
   "cell_type": "code",
   "execution_count": null,
   "id": "2a0a57e5",
   "metadata": {},
   "outputs": [],
   "source": [
    "rand.bruteforce_count_only(15)"
   ]
  },
  {
   "cell_type": "code",
   "execution_count": null,
   "id": "6b55e766",
   "metadata": {},
   "outputs": [],
   "source": [
    "count, nfa_unroll = count_nfa(rand, 15, 100)\n",
    "count"
   ]
  },
  {
   "cell_type": "code",
   "execution_count": 4,
   "id": "e8e34914",
   "metadata": {},
   "outputs": [],
   "source": [
    "with open(\"intermediate_stats_.pkl\", \"rb\") as fd:\n",
    "    results = pickle.load(fd)\n",
    "        "
   ]
  },
  {
   "cell_type": "code",
   "execution_count": null,
   "id": "3a5bcedc",
   "metadata": {},
   "outputs": [
    {
     "name": "stdout",
     "output_type": "stream",
     "text": [
      "Wrote pickle file for 336 results\n"
     ]
    },
    {
     "data": {
      "application/vnd.jupyter.widget-view+json": {
       "model_id": "551a23b16e6d40da87b6b590f77b80c3",
       "version_major": 2,
       "version_minor": 0
      },
      "text/plain": [
       "  0%|          | 0/100 [00:00<?, ?it/s]"
      ]
     },
     "metadata": {},
     "output_type": "display_data"
    },
    {
     "data": {
      "application/vnd.jupyter.widget-view+json": {
       "model_id": "",
       "version_major": 2,
       "version_minor": 0
      },
      "text/plain": [
       "Sampling:   0%|          | 0/242 [00:00<?, ?it/s]"
      ]
     },
     "metadata": {},
     "output_type": "display_data"
    },
    {
     "data": {
      "application/vnd.jupyter.widget-view+json": {
       "model_id": "",
       "version_major": 2,
       "version_minor": 0
      },
      "text/plain": [
       "Sampling:   0%|          | 0/450 [00:00<?, ?it/s]"
      ]
     },
     "metadata": {},
     "output_type": "display_data"
    },
    {
     "data": {
      "application/vnd.jupyter.widget-view+json": {
       "model_id": "",
       "version_major": 2,
       "version_minor": 0
      },
      "text/plain": [
       "Sampling:   0%|          | 0/1250 [00:00<?, ?it/s]"
      ]
     },
     "metadata": {},
     "output_type": "display_data"
    },
    {
     "data": {
      "application/vnd.jupyter.widget-view+json": {
       "model_id": "",
       "version_major": 2,
       "version_minor": 0
      },
      "text/plain": [
       "Sampling:   0%|          | 0/338 [00:00<?, ?it/s]"
      ]
     },
     "metadata": {},
     "output_type": "display_data"
    },
    {
     "data": {
      "application/vnd.jupyter.widget-view+json": {
       "model_id": "",
       "version_major": 2,
       "version_minor": 0
      },
      "text/plain": [
       "Sampling:   0%|          | 0/338 [00:00<?, ?it/s]"
      ]
     },
     "metadata": {},
     "output_type": "display_data"
    },
    {
     "data": {
      "application/vnd.jupyter.widget-view+json": {
       "model_id": "",
       "version_major": 2,
       "version_minor": 0
      },
      "text/plain": [
       "Sampling:   0%|          | 0/338 [00:00<?, ?it/s]"
      ]
     },
     "metadata": {},
     "output_type": "display_data"
    },
    {
     "data": {
      "application/vnd.jupyter.widget-view+json": {
       "model_id": "",
       "version_major": 2,
       "version_minor": 0
      },
      "text/plain": [
       "Sampling:   0%|          | 0/242 [00:00<?, ?it/s]"
      ]
     },
     "metadata": {},
     "output_type": "display_data"
    },
    {
     "data": {
      "application/vnd.jupyter.widget-view+json": {
       "model_id": "",
       "version_major": 2,
       "version_minor": 0
      },
      "text/plain": [
       "Sampling:   0%|          | 0/450 [00:00<?, ?it/s]"
      ]
     },
     "metadata": {},
     "output_type": "display_data"
    },
    {
     "data": {
      "application/vnd.jupyter.widget-view+json": {
       "model_id": "",
       "version_major": 2,
       "version_minor": 0
      },
      "text/plain": [
       "Sampling:   0%|          | 0/1250 [00:00<?, ?it/s]"
      ]
     },
     "metadata": {},
     "output_type": "display_data"
    },
    {
     "data": {
      "application/vnd.jupyter.widget-view+json": {
       "model_id": "",
       "version_major": 2,
       "version_minor": 0
      },
      "text/plain": [
       "Sampling:   0%|          | 0/242 [00:00<?, ?it/s]"
      ]
     },
     "metadata": {},
     "output_type": "display_data"
    },
    {
     "data": {
      "application/vnd.jupyter.widget-view+json": {
       "model_id": "318af2be60794a7c9df21c65112cd4d9",
       "version_major": 2,
       "version_minor": 0
      },
      "text/plain": [
       "State at layer 7:   0%|          | 0/7 [00:00<?, ?it/s]"
      ]
     },
     "metadata": {},
     "output_type": "display_data"
    },
    {
     "data": {
      "application/vnd.jupyter.widget-view+json": {
       "model_id": "",
       "version_major": 2,
       "version_minor": 0
      },
      "text/plain": [
       "Sampling:   0%|          | 0/338 [00:00<?, ?it/s]"
      ]
     },
     "metadata": {},
     "output_type": "display_data"
    },
    {
     "data": {
      "application/vnd.jupyter.widget-view+json": {
       "model_id": "",
       "version_major": 2,
       "version_minor": 0
      },
      "text/plain": [
       "Sampling:   0%|          | 0/242 [00:00<?, ?it/s]"
      ]
     },
     "metadata": {},
     "output_type": "display_data"
    },
    {
     "data": {
      "application/vnd.jupyter.widget-view+json": {
       "model_id": "42f83f0576d24881b5269acea522116a",
       "version_major": 2,
       "version_minor": 0
      },
      "text/plain": [
       "State at layer 10:   0%|          | 0/11 [00:00<?, ?it/s]"
      ]
     },
     "metadata": {},
     "output_type": "display_data"
    },
    {
     "data": {
      "application/vnd.jupyter.widget-view+json": {
       "model_id": "",
       "version_major": 2,
       "version_minor": 0
      },
      "text/plain": [
       "Sampling:   0%|          | 0/1250 [00:00<?, ?it/s]"
      ]
     },
     "metadata": {},
     "output_type": "display_data"
    },
    {
     "name": "stdout",
     "output_type": "stream",
     "text": [
      "[99] started\n",
      "[99] bruteforce started\n"
     ]
    },
    {
     "data": {
      "application/vnd.jupyter.widget-view+json": {
       "model_id": "353d5efd8c9f4d34967efb22fa1e3710",
       "version_major": 2,
       "version_minor": 0
      },
      "text/plain": [
       "  0%|          | 0/128 [00:00<?, ?it/s]"
      ]
     },
     "metadata": {},
     "output_type": "display_data"
    },
    {
     "name": "stdout",
     "output_type": "stream",
     "text": [
      "Unreachable state ('q0', 0) was removed\n",
      "Unreachable state ('q1', 0) was removed\n",
      "Unreachable state ('q1', 1) was removed\n",
      "Unreachable state ('q2', 0) was removed\n",
      "Unreachable state ('q3', 0) was removed\n",
      "Unreachable state ('q4', 0) was removed\n",
      "Unreachable state ('q4', 1) was removed\n",
      "Unreachable state ('q5', 0) was removed\n",
      "Unreachable state ('q6', 0) was removed\n",
      "Unreachable state ('q7', 0) was removed\n",
      "Unreachable state ('q9', 0) was removed\n",
      "Retries per sample 193700\n",
      "Sample size 338\n"
     ]
    },
    {
     "data": {
      "application/vnd.jupyter.widget-view+json": {
       "model_id": "728c3b997c0446588ca80d1cf43ca1db",
       "version_major": 2,
       "version_minor": 0
      },
      "text/plain": [
       "Layer:   0%|          | 0/7 [00:00<?, ?it/s]"
      ]
     },
     "metadata": {},
     "output_type": "display_data"
    },
    {
     "data": {
      "application/vnd.jupyter.widget-view+json": {
       "model_id": "",
       "version_major": 2,
       "version_minor": 0
      },
      "text/plain": [
       "State at layer 1:   0%|          | 0/9 [00:00<?, ?it/s]"
      ]
     },
     "metadata": {},
     "output_type": "display_data"
    },
    {
     "data": {
      "application/vnd.jupyter.widget-view+json": {
       "model_id": "",
       "version_major": 2,
       "version_minor": 0
      },
      "text/plain": [
       "Sampling:   0%|          | 0/338 [00:00<?, ?it/s]"
      ]
     },
     "metadata": {},
     "output_type": "display_data"
    },
    {
     "data": {
      "application/vnd.jupyter.widget-view+json": {
       "model_id": "",
       "version_major": 2,
       "version_minor": 0
      },
      "text/plain": [
       "Sampling:   0%|          | 0/338 [00:00<?, ?it/s]"
      ]
     },
     "metadata": {},
     "output_type": "display_data"
    },
    {
     "data": {
      "application/vnd.jupyter.widget-view+json": {
       "model_id": "",
       "version_major": 2,
       "version_minor": 0
      },
      "text/plain": [
       "Sampling:   0%|          | 0/338 [00:00<?, ?it/s]"
      ]
     },
     "metadata": {},
     "output_type": "display_data"
    },
    {
     "data": {
      "application/vnd.jupyter.widget-view+json": {
       "model_id": "",
       "version_major": 2,
       "version_minor": 0
      },
      "text/plain": [
       "Sampling:   0%|          | 0/338 [00:00<?, ?it/s]"
      ]
     },
     "metadata": {},
     "output_type": "display_data"
    },
    {
     "data": {
      "application/vnd.jupyter.widget-view+json": {
       "model_id": "",
       "version_major": 2,
       "version_minor": 0
      },
      "text/plain": [
       "Sampling:   0%|          | 0/242 [00:00<?, ?it/s]"
      ]
     },
     "metadata": {},
     "output_type": "display_data"
    },
    {
     "data": {
      "application/vnd.jupyter.widget-view+json": {
       "model_id": "",
       "version_major": 2,
       "version_minor": 0
      },
      "text/plain": [
       "Sampling:   0%|          | 0/338 [00:00<?, ?it/s]"
      ]
     },
     "metadata": {},
     "output_type": "display_data"
    },
    {
     "data": {
      "application/vnd.jupyter.widget-view+json": {
       "model_id": "",
       "version_major": 2,
       "version_minor": 0
      },
      "text/plain": [
       "Sampling:   0%|          | 0/338 [00:00<?, ?it/s]"
      ]
     },
     "metadata": {},
     "output_type": "display_data"
    },
    {
     "data": {
      "application/vnd.jupyter.widget-view+json": {
       "model_id": "",
       "version_major": 2,
       "version_minor": 0
      },
      "text/plain": [
       "Sampling:   0%|          | 0/338 [00:00<?, ?it/s]"
      ]
     },
     "metadata": {},
     "output_type": "display_data"
    },
    {
     "data": {
      "application/vnd.jupyter.widget-view+json": {
       "model_id": "",
       "version_major": 2,
       "version_minor": 0
      },
      "text/plain": [
       "Sampling:   0%|          | 0/450 [00:00<?, ?it/s]"
      ]
     },
     "metadata": {},
     "output_type": "display_data"
    },
    {
     "data": {
      "application/vnd.jupyter.widget-view+json": {
       "model_id": "",
       "version_major": 2,
       "version_minor": 0
      },
      "text/plain": [
       "Sampling:   0%|          | 0/338 [00:00<?, ?it/s]"
      ]
     },
     "metadata": {},
     "output_type": "display_data"
    },
    {
     "data": {
      "application/vnd.jupyter.widget-view+json": {
       "model_id": "",
       "version_major": 2,
       "version_minor": 0
      },
      "text/plain": [
       "Sampling:   0%|          | 0/338 [00:00<?, ?it/s]"
      ]
     },
     "metadata": {},
     "output_type": "display_data"
    },
    {
     "data": {
      "application/vnd.jupyter.widget-view+json": {
       "model_id": "",
       "version_major": 2,
       "version_minor": 0
      },
      "text/plain": [
       "State at layer 2:   0%|          | 0/11 [00:00<?, ?it/s]"
      ]
     },
     "metadata": {},
     "output_type": "display_data"
    },
    {
     "data": {
      "application/vnd.jupyter.widget-view+json": {
       "model_id": "",
       "version_major": 2,
       "version_minor": 0
      },
      "text/plain": [
       "Sampling:   0%|          | 0/338 [00:00<?, ?it/s]"
      ]
     },
     "metadata": {},
     "output_type": "display_data"
    },
    {
     "data": {
      "application/vnd.jupyter.widget-view+json": {
       "model_id": "",
       "version_major": 2,
       "version_minor": 0
      },
      "text/plain": [
       "Sampling:   0%|          | 0/338 [00:00<?, ?it/s]"
      ]
     },
     "metadata": {},
     "output_type": "display_data"
    },
    {
     "data": {
      "application/vnd.jupyter.widget-view+json": {
       "model_id": "",
       "version_major": 2,
       "version_minor": 0
      },
      "text/plain": [
       "Sampling:   0%|          | 0/338 [00:00<?, ?it/s]"
      ]
     },
     "metadata": {},
     "output_type": "display_data"
    },
    {
     "data": {
      "application/vnd.jupyter.widget-view+json": {
       "model_id": "",
       "version_major": 2,
       "version_minor": 0
      },
      "text/plain": [
       "Sampling:   0%|          | 0/338 [00:00<?, ?it/s]"
      ]
     },
     "metadata": {},
     "output_type": "display_data"
    },
    {
     "data": {
      "application/vnd.jupyter.widget-view+json": {
       "model_id": "",
       "version_major": 2,
       "version_minor": 0
      },
      "text/plain": [
       "Sampling:   0%|          | 0/338 [00:00<?, ?it/s]"
      ]
     },
     "metadata": {},
     "output_type": "display_data"
    },
    {
     "data": {
      "application/vnd.jupyter.widget-view+json": {
       "model_id": "",
       "version_major": 2,
       "version_minor": 0
      },
      "text/plain": [
       "Sampling:   0%|          | 0/338 [00:00<?, ?it/s]"
      ]
     },
     "metadata": {},
     "output_type": "display_data"
    },
    {
     "data": {
      "application/vnd.jupyter.widget-view+json": {
       "model_id": "",
       "version_major": 2,
       "version_minor": 0
      },
      "text/plain": [
       "Sampling:   0%|          | 0/338 [00:00<?, ?it/s]"
      ]
     },
     "metadata": {},
     "output_type": "display_data"
    },
    {
     "data": {
      "application/vnd.jupyter.widget-view+json": {
       "model_id": "",
       "version_major": 2,
       "version_minor": 0
      },
      "text/plain": [
       "Sampling:   0%|          | 0/338 [00:00<?, ?it/s]"
      ]
     },
     "metadata": {},
     "output_type": "display_data"
    },
    {
     "data": {
      "application/vnd.jupyter.widget-view+json": {
       "model_id": "",
       "version_major": 2,
       "version_minor": 0
      },
      "text/plain": [
       "Sampling:   0%|          | 0/338 [00:00<?, ?it/s]"
      ]
     },
     "metadata": {},
     "output_type": "display_data"
    },
    {
     "data": {
      "application/vnd.jupyter.widget-view+json": {
       "model_id": "",
       "version_major": 2,
       "version_minor": 0
      },
      "text/plain": [
       "Sampling:   0%|          | 0/338 [00:00<?, ?it/s]"
      ]
     },
     "metadata": {},
     "output_type": "display_data"
    },
    {
     "data": {
      "application/vnd.jupyter.widget-view+json": {
       "model_id": "92cf22192aee447c9abd5b45713e846b",
       "version_major": 2,
       "version_minor": 0
      },
      "text/plain": [
       "Sampling:   0%|          | 0/338 [00:00<?, ?it/s]"
      ]
     },
     "metadata": {},
     "output_type": "display_data"
    },
    {
     "data": {
      "application/vnd.jupyter.widget-view+json": {
       "model_id": "",
       "version_major": 2,
       "version_minor": 0
      },
      "text/plain": [
       "Sampling:   0%|          | 0/338 [00:00<?, ?it/s]"
      ]
     },
     "metadata": {},
     "output_type": "display_data"
    },
    {
     "data": {
      "application/vnd.jupyter.widget-view+json": {
       "model_id": "",
       "version_major": 2,
       "version_minor": 0
      },
      "text/plain": [
       "Sampling:   0%|          | 0/338 [00:00<?, ?it/s]"
      ]
     },
     "metadata": {},
     "output_type": "display_data"
    },
    {
     "data": {
      "application/vnd.jupyter.widget-view+json": {
       "model_id": "",
       "version_major": 2,
       "version_minor": 0
      },
      "text/plain": [
       "State at layer 3:   0%|          | 0/11 [00:00<?, ?it/s]"
      ]
     },
     "metadata": {},
     "output_type": "display_data"
    },
    {
     "data": {
      "application/vnd.jupyter.widget-view+json": {
       "model_id": "",
       "version_major": 2,
       "version_minor": 0
      },
      "text/plain": [
       "Sampling:   0%|          | 0/338 [00:00<?, ?it/s]"
      ]
     },
     "metadata": {},
     "output_type": "display_data"
    },
    {
     "data": {
      "application/vnd.jupyter.widget-view+json": {
       "model_id": "",
       "version_major": 2,
       "version_minor": 0
      },
      "text/plain": [
       "Sampling:   0%|          | 0/338 [00:00<?, ?it/s]"
      ]
     },
     "metadata": {},
     "output_type": "display_data"
    },
    {
     "data": {
      "application/vnd.jupyter.widget-view+json": {
       "model_id": "",
       "version_major": 2,
       "version_minor": 0
      },
      "text/plain": [
       "Sampling:   0%|          | 0/242 [00:00<?, ?it/s]"
      ]
     },
     "metadata": {},
     "output_type": "display_data"
    },
    {
     "data": {
      "application/vnd.jupyter.widget-view+json": {
       "model_id": "",
       "version_major": 2,
       "version_minor": 0
      },
      "text/plain": [
       "Sampling:   0%|          | 0/338 [00:00<?, ?it/s]"
      ]
     },
     "metadata": {},
     "output_type": "display_data"
    },
    {
     "data": {
      "application/vnd.jupyter.widget-view+json": {
       "model_id": "",
       "version_major": 2,
       "version_minor": 0
      },
      "text/plain": [
       "Sampling:   0%|          | 0/338 [00:00<?, ?it/s]"
      ]
     },
     "metadata": {},
     "output_type": "display_data"
    },
    {
     "data": {
      "application/vnd.jupyter.widget-view+json": {
       "model_id": "",
       "version_major": 2,
       "version_minor": 0
      },
      "text/plain": [
       "Sampling:   0%|          | 0/338 [00:00<?, ?it/s]"
      ]
     },
     "metadata": {},
     "output_type": "display_data"
    },
    {
     "data": {
      "application/vnd.jupyter.widget-view+json": {
       "model_id": "",
       "version_major": 2,
       "version_minor": 0
      },
      "text/plain": [
       "Sampling:   0%|          | 0/1250 [00:00<?, ?it/s]"
      ]
     },
     "metadata": {},
     "output_type": "display_data"
    },
    {
     "data": {
      "application/vnd.jupyter.widget-view+json": {
       "model_id": "",
       "version_major": 2,
       "version_minor": 0
      },
      "text/plain": [
       "Sampling:   0%|          | 0/338 [00:00<?, ?it/s]"
      ]
     },
     "metadata": {},
     "output_type": "display_data"
    },
    {
     "data": {
      "application/vnd.jupyter.widget-view+json": {
       "model_id": "",
       "version_major": 2,
       "version_minor": 0
      },
      "text/plain": [
       "Sampling:   0%|          | 0/338 [00:00<?, ?it/s]"
      ]
     },
     "metadata": {},
     "output_type": "display_data"
    },
    {
     "data": {
      "application/vnd.jupyter.widget-view+json": {
       "model_id": "4bd1187bd6f8423996ec088f74fa0a1c",
       "version_major": 2,
       "version_minor": 0
      },
      "text/plain": [
       "State at layer 7:   0%|          | 0/11 [00:00<?, ?it/s]"
      ]
     },
     "metadata": {},
     "output_type": "display_data"
    },
    {
     "data": {
      "application/vnd.jupyter.widget-view+json": {
       "model_id": "",
       "version_major": 2,
       "version_minor": 0
      },
      "text/plain": [
       "Sampling:   0%|          | 0/242 [00:00<?, ?it/s]"
      ]
     },
     "metadata": {},
     "output_type": "display_data"
    },
    {
     "data": {
      "application/vnd.jupyter.widget-view+json": {
       "model_id": "",
       "version_major": 2,
       "version_minor": 0
      },
      "text/plain": [
       "Sampling:   0%|          | 0/338 [00:00<?, ?it/s]"
      ]
     },
     "metadata": {},
     "output_type": "display_data"
    },
    {
     "data": {
      "application/vnd.jupyter.widget-view+json": {
       "model_id": "",
       "version_major": 2,
       "version_minor": 0
      },
      "text/plain": [
       "Sampling:   0%|          | 0/338 [00:00<?, ?it/s]"
      ]
     },
     "metadata": {},
     "output_type": "display_data"
    },
    {
     "data": {
      "application/vnd.jupyter.widget-view+json": {
       "model_id": "",
       "version_major": 2,
       "version_minor": 0
      },
      "text/plain": [
       "Sampling:   0%|          | 0/338 [00:00<?, ?it/s]"
      ]
     },
     "metadata": {},
     "output_type": "display_data"
    },
    {
     "data": {
      "application/vnd.jupyter.widget-view+json": {
       "model_id": "",
       "version_major": 2,
       "version_minor": 0
      },
      "text/plain": [
       "Sampling:   0%|          | 0/338 [00:00<?, ?it/s]"
      ]
     },
     "metadata": {},
     "output_type": "display_data"
    },
    {
     "data": {
      "application/vnd.jupyter.widget-view+json": {
       "model_id": "22b7273a629b4331b6d54de0d87b6c9e",
       "version_major": 2,
       "version_minor": 0
      },
      "text/plain": [
       "State at layer 6:   0%|          | 0/12 [00:00<?, ?it/s]"
      ]
     },
     "metadata": {},
     "output_type": "display_data"
    },
    {
     "data": {
      "application/vnd.jupyter.widget-view+json": {
       "model_id": "b481be45a7a74d3d8c88d4053724ce02",
       "version_major": 2,
       "version_minor": 0
      },
      "text/plain": [
       "Sampling:   0%|          | 0/450 [00:00<?, ?it/s]"
      ]
     },
     "metadata": {},
     "output_type": "display_data"
    },
    {
     "data": {
      "application/vnd.jupyter.widget-view+json": {
       "model_id": "50cc9af769fa42c18c7c69817d4cb927",
       "version_major": 2,
       "version_minor": 0
      },
      "text/plain": [
       "State at layer 4:   0%|          | 0/11 [00:00<?, ?it/s]"
      ]
     },
     "metadata": {},
     "output_type": "display_data"
    },
    {
     "data": {
      "application/vnd.jupyter.widget-view+json": {
       "model_id": "",
       "version_major": 2,
       "version_minor": 0
      },
      "text/plain": [
       "Sampling:   0%|          | 0/338 [00:00<?, ?it/s]"
      ]
     },
     "metadata": {},
     "output_type": "display_data"
    },
    {
     "data": {
      "application/vnd.jupyter.widget-view+json": {
       "model_id": "",
       "version_major": 2,
       "version_minor": 0
      },
      "text/plain": [
       "Sampling:   0%|          | 0/338 [00:00<?, ?it/s]"
      ]
     },
     "metadata": {},
     "output_type": "display_data"
    },
    {
     "data": {
      "application/vnd.jupyter.widget-view+json": {
       "model_id": "7f9e919cdad044128195601b42ee9d14",
       "version_major": 2,
       "version_minor": 0
      },
      "text/plain": [
       "Sampling:   0%|          | 0/338 [00:00<?, ?it/s]"
      ]
     },
     "metadata": {},
     "output_type": "display_data"
    },
    {
     "data": {
      "application/vnd.jupyter.widget-view+json": {
       "model_id": "",
       "version_major": 2,
       "version_minor": 0
      },
      "text/plain": [
       "Sampling:   0%|          | 0/338 [00:00<?, ?it/s]"
      ]
     },
     "metadata": {},
     "output_type": "display_data"
    },
    {
     "data": {
      "application/vnd.jupyter.widget-view+json": {
       "model_id": "248da18dab2f4c3898e3f53e90c27885",
       "version_major": 2,
       "version_minor": 0
      },
      "text/plain": [
       "Sampling:   0%|          | 0/1250 [00:00<?, ?it/s]"
      ]
     },
     "metadata": {},
     "output_type": "display_data"
    },
    {
     "data": {
      "application/vnd.jupyter.widget-view+json": {
       "model_id": "6ea4f1f0b7b34ff9a0abbc0a6deaa5df",
       "version_major": 2,
       "version_minor": 0
      },
      "text/plain": [
       "Sampling:   0%|          | 0/242 [00:00<?, ?it/s]"
      ]
     },
     "metadata": {},
     "output_type": "display_data"
    },
    {
     "data": {
      "application/vnd.jupyter.widget-view+json": {
       "model_id": "",
       "version_major": 2,
       "version_minor": 0
      },
      "text/plain": [
       "Sampling:   0%|          | 0/338 [00:00<?, ?it/s]"
      ]
     },
     "metadata": {},
     "output_type": "display_data"
    },
    {
     "data": {
      "application/vnd.jupyter.widget-view+json": {
       "model_id": "",
       "version_major": 2,
       "version_minor": 0
      },
      "text/plain": [
       "Sampling:   0%|          | 0/338 [00:00<?, ?it/s]"
      ]
     },
     "metadata": {},
     "output_type": "display_data"
    },
    {
     "data": {
      "application/vnd.jupyter.widget-view+json": {
       "model_id": "",
       "version_major": 2,
       "version_minor": 0
      },
      "text/plain": [
       "Sampling:   0%|          | 0/338 [00:00<?, ?it/s]"
      ]
     },
     "metadata": {},
     "output_type": "display_data"
    },
    {
     "data": {
      "application/vnd.jupyter.widget-view+json": {
       "model_id": "58f6e29165c04a9a9f5f9e7281b2686b",
       "version_major": 2,
       "version_minor": 0
      },
      "text/plain": [
       "Sampling:   0%|          | 0/338 [00:00<?, ?it/s]"
      ]
     },
     "metadata": {},
     "output_type": "display_data"
    }
   ],
   "source": [
    "def compare_random_to_brute(i):\n",
    "    print(f\"[{i}] started\\n\", end=\"\")\n",
    "    n_states = randint(4, 12)\n",
    "    rand = NFA.random(n_states=n_states, input_symbols={\"0\", \"1\"}, sparsity=0.5)\n",
    "    string_len = randint(4, 10)\n",
    "    epsilon = randint(4 * string_len, 12 * string_len)\n",
    "    print(f\"[{i}] bruteforce started\\n\", end=\"\")\n",
    "    bruteforce = rand.bruteforce_count_only(string_len)\n",
    "    if bruteforce < 2:\n",
    "        print(f\"[{i}] insufficient accepting strings\")\n",
    "        return 0\n",
    "    try:\n",
    "        t0 = time.time()\n",
    "        count, nfa_unroll = count_nfa(rand, string_len, epsilon)\n",
    "        t1 = time.time()\n",
    "        return [\n",
    "            n_states,\n",
    "            rand.initial_states,\n",
    "            rand.final_states,\n",
    "            rand.transitions,\n",
    "            string_len,\n",
    "            bruteforce,\n",
    "            count,\n",
    "            epsilon,\n",
    "            t1 - t0,\n",
    "        ]\n",
    "    except Exception as e:\n",
    "        return e\n",
    "\n",
    "\n",
    "# results = [] # n_states, initial_states, final_states, transitions, string_n, bruteforce, estimate, eps, time\n",
    "samples = 0\n",
    "errors = []\n",
    "error_count = 0\n",
    "n_proc = 6\n",
    "with Pool(processes=n_proc) as pool:\n",
    "    while samples < 50000 and error_count < 300:\n",
    "        multiproc_results = [pool.apply_async(compare_random_to_brute, (i,)) for i in range(100)]\n",
    "        for res_promise in tqdm(multiproc_results):\n",
    "            res = None\n",
    "            try:\n",
    "                res = res_promise.get(timeout=120)\n",
    "            except TimeoutError:\n",
    "                continue\n",
    "\n",
    "            if isinstance(res, Exception):\n",
    "                errors.append(res)\n",
    "                error_count += 1\n",
    "                continue\n",
    "            else:\n",
    "                samples += 1\n",
    "                if res != 0:\n",
    "                    results.append(res)\n",
    "\n",
    "        clear_output(wait=True)\n",
    "        with open(\"intermediate_stats.pkl\", \"wb\") as fd:\n",
    "            pickle.dump(results, fd)\n",
    "        print(f\"Wrote pickle file for {len(results)} results\")\n"
   ]
  },
  {
   "cell_type": "code",
   "execution_count": null,
   "id": "ef4f6e79",
   "metadata": {},
   "outputs": [],
   "source": [
    "errors[:10]"
   ]
  },
  {
   "cell_type": "code",
   "execution_count": 3,
   "id": "f59f4827",
   "metadata": {},
   "outputs": [],
   "source": [
    "df = pd.DataFrame(results, columns=[\"n_states\", \"initial_states\", \"final_states\", \"transitions\",\n",
    "                                    \"string_n\", \"bruteforce\", \"estimate\", \"eps\", \"time\"])"
   ]
  },
  {
   "cell_type": "code",
   "execution_count": 4,
   "id": "c50dc032",
   "metadata": {},
   "outputs": [],
   "source": [
    "df[\"rel_error\"] = abs(df.estimate - df.bruteforce)/df.bruteforce"
   ]
  },
  {
   "cell_type": "code",
   "execution_count": null,
   "id": "e078b69e",
   "metadata": {},
   "outputs": [],
   "source": [
    "for idx,row in df.iterrows():\n",
    "    states = {f\"q{i}\" for i in range(row.n_states)}\n",
    "    nfa = NFA(\n",
    "        states=states,\n",
    "        initial_states=row.initial_states,\n",
    "        final_states=row.final_states,\n",
    "        input_symbols={\"0\", \"1\"},\n",
    "        transitions=row.transitions,\n",
    "    )\n",
    "    print(nfa.cycle_height())\n"
   ]
  },
  {
   "cell_type": "code",
   "execution_count": null,
   "id": "49e57b10",
   "metadata": {},
   "outputs": [],
   "source": []
  }
 ],
 "metadata": {
  "interpreter": {
   "hash": "0602504454f0638c3c0ff967dc00c81d73b297792cfa3e9f03f5a76d8a2b245a"
  },
  "kernelspec": {
   "display_name": "Python 3 (ipykernel)",
   "language": "python",
   "name": "python3"
  },
  "language_info": {
   "codemirror_mode": {
    "name": "ipython",
    "version": 3
   },
   "file_extension": ".py",
   "mimetype": "text/x-python",
   "name": "python",
   "nbconvert_exporter": "python",
   "pygments_lexer": "ipython3",
   "version": "3.8.10"
  }
 },
 "nbformat": 4,
 "nbformat_minor": 5
}
