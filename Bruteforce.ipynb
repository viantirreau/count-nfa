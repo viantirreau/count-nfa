{
 "cells": [
  {
   "cell_type": "code",
   "execution_count": 1,
   "id": "1c43d342",
   "metadata": {},
   "outputs": [],
   "source": [
    "import math\n",
    "import time\n",
    "import pickle\n",
    "from multiprocessing import Pool, TimeoutError\n",
    "\n",
    "import numpy as np\n",
    "import scipy\n",
    "import pandas as pd\n",
    "import seaborn as sns\n",
    "import matplotlib.pyplot as plt\n",
    "from tqdm.auto import tqdm as tqdm\n",
    "from random import random, randint\n",
    "from IPython.display import clear_output\n",
    "from nfa_lib import NFA, count_nfa, random_matrix_for_nfa\n",
    "\n",
    "sns.set()\n"
   ]
  },
  {
   "cell_type": "code",
   "execution_count": 2,
   "id": "8fde9d1d",
   "metadata": {},
   "outputs": [],
   "source": [
    "nfa = NFA(\n",
    "    states={'q0', 'q1', 'q2', 'q3', 'q4', 'q5', 'q6'},\n",
    "    input_symbols={'0', '1'},\n",
    "    transitions={\n",
    "        'q0': {'0': {'q1'}, '1': {'q3'}},\n",
    "        'q1': {'0': {'q2'}},\n",
    "        'q2': {'0': {'q0'}, '1': {'q3'}},\n",
    "        'q3': {'0': {'q4'}},\n",
    "        'q4': {'0': {'q5'}},\n",
    "        'q5': {'0': {'q3'}},\n",
    "        'q6': {'1': {'q4'}},\n",
    "    },\n",
    "    initial_states={'q0', 'q1', 'q5', 'q6'},\n",
    "    final_states={'q2', 'q4', 'q6'}\n",
    ")"
   ]
  },
  {
   "cell_type": "code",
   "execution_count": 3,
   "id": "d39849f7",
   "metadata": {},
   "outputs": [
    {
     "data": {
      "text/plain": [
       "2"
      ]
     },
     "execution_count": 3,
     "metadata": {},
     "output_type": "execute_result"
    }
   ],
   "source": [
    "nfa.cycle_height()"
   ]
  },
  {
   "cell_type": "code",
   "execution_count": 8,
   "id": "77c4226d",
   "metadata": {},
   "outputs": [],
   "source": [
    "nfa = NFA(\n",
    "    states={'q0', 'q1', 'q2', 'q3'},\n",
    "    input_symbols={'0', '1'},\n",
    "    transitions={\n",
    "        'q0': {'0': {'q1', 'q2'}},\n",
    "        'q1': {'0': {'q1', 'q3'}},\n",
    "        'q2': {'0': {'q3'}, '1': {'q2'} },\n",
    "        'q3': {'0': {'q3'}},\n",
    "    },\n",
    "    initial_states={'q0'},\n",
    "    final_states={'q3'}\n",
    ")"
   ]
  },
  {
   "cell_type": "code",
   "execution_count": null,
   "id": "66dcd996",
   "metadata": {},
   "outputs": [],
   "source": [
    "nfa = NFA(\n",
    "    states={'q0', 'q1', 'q2'},\n",
    "    input_symbols={'0', '1'},\n",
    "    transitions={\n",
    "        'q0': {'0': {'q1'}},\n",
    "        'q1': {'1': {'q2'}},\n",
    "        'q2': {'1': {'q0'}}\n",
    "    },\n",
    "    initial_states={'q0'},\n",
    "    final_states={'q1'}\n",
    ")"
   ]
  },
  {
   "cell_type": "code",
   "execution_count": 13,
   "id": "348c5eaf",
   "metadata": {
    "scrolled": true
   },
   "outputs": [
    {
     "name": "stderr",
     "output_type": "stream",
     "text": [
      "100%|██████████| 1048576/1048576 [00:06<00:00, 166056.87it/s]"
     ]
    },
    {
     "name": "stdout",
     "output_type": "stream",
     "text": [
      "CPU times: user 6.32 s, sys: 15.8 ms, total: 6.33 s\n",
      "Wall time: 6.32 s\n"
     ]
    },
    {
     "name": "stderr",
     "output_type": "stream",
     "text": [
      "\n"
     ]
    },
    {
     "data": {
      "text/plain": [
       "8"
      ]
     },
     "execution_count": 13,
     "metadata": {},
     "output_type": "execute_result"
    }
   ],
   "source": [
    "%%time\n",
    "nfa.bruteforce_count_only(20)"
   ]
  },
  {
   "cell_type": "code",
   "execution_count": null,
   "id": "51b1dfd2",
   "metadata": {},
   "outputs": [],
   "source": [
    "nfa.plot()"
   ]
  },
  {
   "cell_type": "code",
   "execution_count": null,
   "id": "dbd2f2d1",
   "metadata": {
    "scrolled": true
   },
   "outputs": [],
   "source": [
    "count, nfa_unroll = count_nfa(nfa, 55, 1500)\n",
    "count"
   ]
  },
  {
   "cell_type": "code",
   "execution_count": null,
   "id": "af8254aa",
   "metadata": {},
   "outputs": [],
   "source": [
    "x = np.array([1.,2.,3.])\n"
   ]
  },
  {
   "cell_type": "code",
   "execution_count": null,
   "id": "0e35b9bf",
   "metadata": {},
   "outputs": [],
   "source": [
    "print(nfa.plot().source)\n",
    "nfa.plot()"
   ]
  },
  {
   "cell_type": "markdown",
   "id": "0d20c1ee",
   "metadata": {},
   "source": [
    "# Experimentos estadísticos"
   ]
  },
  {
   "cell_type": "code",
   "execution_count": null,
   "id": "f71dc4e6",
   "metadata": {},
   "outputs": [],
   "source": [
    "nfa = NFA(\n",
    "    states={'q0', 'q1', 'q2'},\n",
    "    input_symbols={'0', '1'},\n",
    "    transitions={\n",
    "        'q0': {'0': {'q1'}},\n",
    "        # Use '' as the key name for empty string (lambda/epsilon) transitions\n",
    "        'q1': {\n",
    "            #'0': {'q1'},\n",
    "            '1': {'q0', 'q2'}},\n",
    "        'q2': {\n",
    "            '1': {'q0'}\n",
    "        }\n",
    "    },\n",
    "    initial_states={'q0'},\n",
    "    final_states={'q1'}\n",
    ")"
   ]
  },
  {
   "cell_type": "code",
   "execution_count": 36,
   "id": "f5c351db",
   "metadata": {
    "scrolled": true
   },
   "outputs": [
    {
     "data": {
      "application/vnd.jupyter.widget-view+json": {
       "model_id": "",
       "version_major": 2,
       "version_minor": 0
      },
      "text/plain": [
       "  0%|          | 0/2 [00:00<?, ?it/s]"
      ]
     },
     "metadata": {},
     "output_type": "display_data"
    },
    {
     "data": {
      "application/vnd.jupyter.widget-view+json": {
       "model_id": "",
       "version_major": 2,
       "version_minor": 0
      },
      "text/plain": [
       "  0%|          | 0/4 [00:00<?, ?it/s]"
      ]
     },
     "metadata": {},
     "output_type": "display_data"
    },
    {
     "data": {
      "application/vnd.jupyter.widget-view+json": {
       "model_id": "",
       "version_major": 2,
       "version_minor": 0
      },
      "text/plain": [
       "  0%|          | 0/8 [00:00<?, ?it/s]"
      ]
     },
     "metadata": {},
     "output_type": "display_data"
    },
    {
     "data": {
      "application/vnd.jupyter.widget-view+json": {
       "model_id": "",
       "version_major": 2,
       "version_minor": 0
      },
      "text/plain": [
       "  0%|          | 0/16 [00:00<?, ?it/s]"
      ]
     },
     "metadata": {},
     "output_type": "display_data"
    },
    {
     "data": {
      "application/vnd.jupyter.widget-view+json": {
       "model_id": "",
       "version_major": 2,
       "version_minor": 0
      },
      "text/plain": [
       "  0%|          | 0/32 [00:00<?, ?it/s]"
      ]
     },
     "metadata": {},
     "output_type": "display_data"
    },
    {
     "data": {
      "application/vnd.jupyter.widget-view+json": {
       "model_id": "",
       "version_major": 2,
       "version_minor": 0
      },
      "text/plain": [
       "  0%|          | 0/64 [00:00<?, ?it/s]"
      ]
     },
     "metadata": {},
     "output_type": "display_data"
    },
    {
     "data": {
      "application/vnd.jupyter.widget-view+json": {
       "model_id": "",
       "version_major": 2,
       "version_minor": 0
      },
      "text/plain": [
       "  0%|          | 0/128 [00:00<?, ?it/s]"
      ]
     },
     "metadata": {},
     "output_type": "display_data"
    },
    {
     "data": {
      "application/vnd.jupyter.widget-view+json": {
       "model_id": "",
       "version_major": 2,
       "version_minor": 0
      },
      "text/plain": [
       "  0%|          | 0/256 [00:00<?, ?it/s]"
      ]
     },
     "metadata": {},
     "output_type": "display_data"
    },
    {
     "data": {
      "application/vnd.jupyter.widget-view+json": {
       "model_id": "",
       "version_major": 2,
       "version_minor": 0
      },
      "text/plain": [
       "  0%|          | 0/512 [00:00<?, ?it/s]"
      ]
     },
     "metadata": {},
     "output_type": "display_data"
    },
    {
     "data": {
      "application/vnd.jupyter.widget-view+json": {
       "model_id": "",
       "version_major": 2,
       "version_minor": 0
      },
      "text/plain": [
       "  0%|          | 0/1024 [00:00<?, ?it/s]"
      ]
     },
     "metadata": {},
     "output_type": "display_data"
    },
    {
     "data": {
      "application/vnd.jupyter.widget-view+json": {
       "model_id": "",
       "version_major": 2,
       "version_minor": 0
      },
      "text/plain": [
       "  0%|          | 0/2048 [00:00<?, ?it/s]"
      ]
     },
     "metadata": {},
     "output_type": "display_data"
    },
    {
     "data": {
      "application/vnd.jupyter.widget-view+json": {
       "model_id": "",
       "version_major": 2,
       "version_minor": 0
      },
      "text/plain": [
       "  0%|          | 0/4096 [00:00<?, ?it/s]"
      ]
     },
     "metadata": {},
     "output_type": "display_data"
    },
    {
     "data": {
      "application/vnd.jupyter.widget-view+json": {
       "model_id": "",
       "version_major": 2,
       "version_minor": 0
      },
      "text/plain": [
       "  0%|          | 0/8192 [00:00<?, ?it/s]"
      ]
     },
     "metadata": {},
     "output_type": "display_data"
    },
    {
     "data": {
      "application/vnd.jupyter.widget-view+json": {
       "model_id": "",
       "version_major": 2,
       "version_minor": 0
      },
      "text/plain": [
       "  0%|          | 0/16384 [00:00<?, ?it/s]"
      ]
     },
     "metadata": {},
     "output_type": "display_data"
    },
    {
     "data": {
      "application/vnd.jupyter.widget-view+json": {
       "model_id": "",
       "version_major": 2,
       "version_minor": 0
      },
      "text/plain": [
       "  0%|          | 0/32768 [00:00<?, ?it/s]"
      ]
     },
     "metadata": {},
     "output_type": "display_data"
    },
    {
     "data": {
      "application/vnd.jupyter.widget-view+json": {
       "model_id": "",
       "version_major": 2,
       "version_minor": 0
      },
      "text/plain": [
       "  0%|          | 0/65536 [00:00<?, ?it/s]"
      ]
     },
     "metadata": {},
     "output_type": "display_data"
    },
    {
     "data": {
      "application/vnd.jupyter.widget-view+json": {
       "model_id": "",
       "version_major": 2,
       "version_minor": 0
      },
      "text/plain": [
       "  0%|          | 0/131072 [00:00<?, ?it/s]"
      ]
     },
     "metadata": {},
     "output_type": "display_data"
    },
    {
     "data": {
      "application/vnd.jupyter.widget-view+json": {
       "model_id": "",
       "version_major": 2,
       "version_minor": 0
      },
      "text/plain": [
       "  0%|          | 0/262144 [00:00<?, ?it/s]"
      ]
     },
     "metadata": {},
     "output_type": "display_data"
    },
    {
     "data": {
      "application/vnd.jupyter.widget-view+json": {
       "model_id": "",
       "version_major": 2,
       "version_minor": 0
      },
      "text/plain": [
       "  0%|          | 0/524288 [00:00<?, ?it/s]"
      ]
     },
     "metadata": {},
     "output_type": "display_data"
    },
    {
     "name": "stdout",
     "output_type": "stream",
     "text": [
      "CPU times: user 6.16 s, sys: 44.6 ms, total: 6.21 s\n",
      "Wall time: 6.17 s\n"
     ]
    }
   ],
   "source": [
    "%%time\n",
    "data = [(i,nfa.bruteforce_count_only(i)) for i in range(1, 20)]"
   ]
  },
  {
   "cell_type": "code",
   "execution_count": null,
   "id": "d39795e6",
   "metadata": {
    "scrolled": false
   },
   "outputs": [],
   "source": [
    "log_data = [(i, math.log(max(1, nfa.bruteforce_count_only(i)))) for i in range(1, 20)]"
   ]
  },
  {
   "cell_type": "code",
   "execution_count": 37,
   "id": "aa8da4df",
   "metadata": {},
   "outputs": [],
   "source": [
    "df_count = pd.DataFrame(data, columns=[\"i\", \"frac\"])"
   ]
  },
  {
   "cell_type": "code",
   "execution_count": 38,
   "id": "2726c943",
   "metadata": {
    "scrolled": true
   },
   "outputs": [
    {
     "data": {
      "text/plain": [
       "<AxesSubplot:xlabel='i'>"
      ]
     },
     "execution_count": 38,
     "metadata": {},
     "output_type": "execute_result"
    },
    {
     "data": {
      "image/png": "[encoded data removed]",
      "text/plain": [
       "<Figure size 432x288 with 1 Axes>"
      ]
     },
     "metadata": {},
     "output_type": "display_data"
    }
   ],
   "source": [
    "df_count.plot(x=\"i\", y=\"frac\")"
   ]
  },
  {
   "cell_type": "code",
   "execution_count": 39,
   "id": "4b364b19",
   "metadata": {},
   "outputs": [
    {
     "data": {
      "text/html": [
       "<div>\n",
       "<style scoped>\n",
       "    .dataframe tbody tr th:only-of-type {\n",
       "        vertical-align: middle;\n",
       "    }\n",
       "\n",
       "    .dataframe tbody tr th {\n",
       "        vertical-align: top;\n",
       "    }\n",
       "\n",
       "    .dataframe thead th {\n",
       "        text-align: right;\n",
       "    }\n",
       "</style>\n",
       "<table border=\"1\" class=\"dataframe\">\n",
       "  <thead>\n",
       "    <tr style=\"text-align: right;\">\n",
       "      <th></th>\n",
       "      <th>i</th>\n",
       "      <th>frac</th>\n",
       "    </tr>\n",
       "  </thead>\n",
       "  <tbody>\n",
       "    <tr>\n",
       "      <th>0</th>\n",
       "      <td>1</td>\n",
       "      <td>1</td>\n",
       "    </tr>\n",
       "    <tr>\n",
       "      <th>1</th>\n",
       "      <td>2</td>\n",
       "      <td>2</td>\n",
       "    </tr>\n",
       "    <tr>\n",
       "      <th>2</th>\n",
       "      <td>3</td>\n",
       "      <td>3</td>\n",
       "    </tr>\n",
       "    <tr>\n",
       "      <th>3</th>\n",
       "      <td>4</td>\n",
       "      <td>4</td>\n",
       "    </tr>\n",
       "    <tr>\n",
       "      <th>4</th>\n",
       "      <td>5</td>\n",
       "      <td>5</td>\n",
       "    </tr>\n",
       "    <tr>\n",
       "      <th>5</th>\n",
       "      <td>6</td>\n",
       "      <td>6</td>\n",
       "    </tr>\n",
       "    <tr>\n",
       "      <th>6</th>\n",
       "      <td>7</td>\n",
       "      <td>7</td>\n",
       "    </tr>\n",
       "    <tr>\n",
       "      <th>7</th>\n",
       "      <td>8</td>\n",
       "      <td>8</td>\n",
       "    </tr>\n",
       "    <tr>\n",
       "      <th>8</th>\n",
       "      <td>9</td>\n",
       "      <td>9</td>\n",
       "    </tr>\n",
       "    <tr>\n",
       "      <th>9</th>\n",
       "      <td>10</td>\n",
       "      <td>10</td>\n",
       "    </tr>\n",
       "    <tr>\n",
       "      <th>10</th>\n",
       "      <td>11</td>\n",
       "      <td>11</td>\n",
       "    </tr>\n",
       "    <tr>\n",
       "      <th>11</th>\n",
       "      <td>12</td>\n",
       "      <td>12</td>\n",
       "    </tr>\n",
       "    <tr>\n",
       "      <th>12</th>\n",
       "      <td>13</td>\n",
       "      <td>13</td>\n",
       "    </tr>\n",
       "    <tr>\n",
       "      <th>13</th>\n",
       "      <td>14</td>\n",
       "      <td>14</td>\n",
       "    </tr>\n",
       "    <tr>\n",
       "      <th>14</th>\n",
       "      <td>15</td>\n",
       "      <td>15</td>\n",
       "    </tr>\n",
       "    <tr>\n",
       "      <th>15</th>\n",
       "      <td>16</td>\n",
       "      <td>16</td>\n",
       "    </tr>\n",
       "    <tr>\n",
       "      <th>16</th>\n",
       "      <td>17</td>\n",
       "      <td>17</td>\n",
       "    </tr>\n",
       "    <tr>\n",
       "      <th>17</th>\n",
       "      <td>18</td>\n",
       "      <td>18</td>\n",
       "    </tr>\n",
       "    <tr>\n",
       "      <th>18</th>\n",
       "      <td>19</td>\n",
       "      <td>19</td>\n",
       "    </tr>\n",
       "  </tbody>\n",
       "</table>\n",
       "</div>"
      ],
      "text/plain": [
       "     i  frac\n",
       "0    1     1\n",
       "1    2     2\n",
       "2    3     3\n",
       "3    4     4\n",
       "4    5     5\n",
       "5    6     6\n",
       "6    7     7\n",
       "7    8     8\n",
       "8    9     9\n",
       "9   10    10\n",
       "10  11    11\n",
       "11  12    12\n",
       "12  13    13\n",
       "13  14    14\n",
       "14  15    15\n",
       "15  16    16\n",
       "16  17    17\n",
       "17  18    18\n",
       "18  19    19"
      ]
     },
     "execution_count": 39,
     "metadata": {},
     "output_type": "execute_result"
    }
   ],
   "source": [
    "df_count"
   ]
  },
  {
   "cell_type": "code",
   "execution_count": null,
   "id": "63710628",
   "metadata": {
    "scrolled": true
   },
   "outputs": [],
   "source": [
    "df[df.i >= 5].plot(x=\"i\", y=\"frac\")"
   ]
  },
  {
   "cell_type": "code",
   "execution_count": null,
   "id": "ee04f677",
   "metadata": {},
   "outputs": [],
   "source": [
    "def fit_function(x, a, b, c):\n",
    "    return a*b**(c*x)"
   ]
  },
  {
   "cell_type": "code",
   "execution_count": null,
   "id": "8f56e35c",
   "metadata": {},
   "outputs": [],
   "source": [
    "predictable_data = df[df.i.between(11,23)]"
   ]
  },
  {
   "cell_type": "code",
   "execution_count": null,
   "id": "b52b7a03",
   "metadata": {
    "scrolled": true
   },
   "outputs": [],
   "source": [
    "x_data = predictable_data.i.values\n",
    "y_data = predictable_data.frac.values\n",
    "popt, pcov = scipy.optimize.curve_fit(fit_function, x_data, y_data, maxfev=1000)"
   ]
  },
  {
   "cell_type": "code",
   "execution_count": null,
   "id": "598f46c8",
   "metadata": {
    "scrolled": false
   },
   "outputs": [],
   "source": [
    "all_data = df[df.i >= 5]\n",
    "all_x_data = all_data.i.values\n",
    "all_y_data = all_data.frac.values\n",
    "\n",
    "fig = plt.plot(all_x_data, fit_function(all_x_data, *popt), label=\"fit\")\n",
    "plt.plot(all_x_data, all_y_data, label=\"real\")\n",
    "plt.legend();\n",
    "plt.title(\"Comparación valores predichos y reales\")\n",
    "plt.gcf().set_size_inches((14,8))"
   ]
  },
  {
   "cell_type": "code",
   "execution_count": null,
   "id": "c97c6294",
   "metadata": {
    "scrolled": false
   },
   "outputs": [],
   "source": [
    "plt.plot(all_x_data, fit_function(all_x_data, *popt) - all_y_data, label=\"fit\")\n",
    "plt.legend();\n",
    "plt.title(\"Residuos\")\n",
    "plt.gcf().set_size_inches((14,8))"
   ]
  },
  {
   "cell_type": "code",
   "execution_count": null,
   "id": "2f43acaa",
   "metadata": {},
   "outputs": [],
   "source": [
    "k = 28\n",
    "pred_for_k = fit_function(k, *popt) * 2**k\n",
    "pred_for_k"
   ]
  },
  {
   "cell_type": "code",
   "execution_count": null,
   "id": "b8d01bc7",
   "metadata": {},
   "outputs": [],
   "source": [
    "[(k,int(fit_function(k, *popt) * 2**k)) for k in range(6,28)]"
   ]
  },
  {
   "cell_type": "code",
   "execution_count": null,
   "id": "fd5c2976",
   "metadata": {},
   "outputs": [],
   "source": [
    "{{6, 13},\n",
    " {7, 23},\n",
    " {8, 44},\n",
    " {9, 81},\n",
    " {10, 148},\n",
    " {11, 274},\n",
    " {12, 504},\n",
    " {13, 927},\n",
    " {14, 1705}}"
   ]
  },
  {
   "cell_type": "code",
   "execution_count": null,
   "id": "93afcdf5",
   "metadata": {},
   "outputs": [],
   "source": [
    "%%time\n",
    "ground_truth_k = nfa.bruteforce_dfs(k)\n",
    "ground_truth_k"
   ]
  },
  {
   "cell_type": "code",
   "execution_count": null,
   "id": "fa5dae22",
   "metadata": {
    "scrolled": true
   },
   "outputs": [],
   "source": [
    "popt"
   ]
  },
  {
   "cell_type": "code",
   "execution_count": null,
   "id": "9f57c056",
   "metadata": {},
   "outputs": [],
   "source": [
    "# Error relativo!\n",
    "(pred_for_k - ground_truth_k) / ground_truth_k"
   ]
  },
  {
   "cell_type": "code",
   "execution_count": null,
   "id": "826aaca1",
   "metadata": {},
   "outputs": [],
   "source": [
    "# Error relativo!\n",
    "(pred_for_k - ground_truth_k) / ground_truth_k"
   ]
  },
  {
   "cell_type": "markdown",
   "id": "5f2d1465",
   "metadata": {},
   "source": [
    "- https://arxiv.org/pdf/1802.04708.pdf -> si A es acíclico, el lenguaje es finito. De hecho, $L(A) \\subseteq (\\Sigma \\cup \\{\\epsilon\\})^{|Q|}$\n",
    "- En general, para $n < |Q|$ el comportamiento se puede hardcodear, por lo que fuerza bruta o `sketch` son necesarios\n",
    "- http://www.stringology.org/cgi-bin/getfile.cgi?t=pdf&c=-&y=2013&n=03 -> hay un algoritmo $O(|Q|)$ que usa `BFS` y `gcd` para determinar si la densidad del lenguaje es exponencial o polinomial. Se basa en encontrar dos caminos distintos del mismo largo y estado de partida en una componente fuertemente conexa (SCC).\n",
    "    - Hipótesis 1: si el lenguaje tiene densidad exponencial, el gráfico $|L_n(A)|/2^n$ se verá como una constante tras al menos $n=|Q|$. Estimar es trivial para $n \\gg |Q|$, basta retornar esa proporción multiplicada por $2^n$\n",
    "    - Hipótesis 2: si el lenguaje tiene densidad polinomial, el gráfico $|L_n(A)|/2^n$ se verá como una exponencial\n",
    "    decayendo. Se puede fittear una función y aproximar para $n \\gg |Q|$\n",
    "    \n",
    "- [Scholar Kai Salomaa](https://scholar.google.com/citations?hl=es&user=N3AlqdYAAAAJ&view_op=list_works&sortby=pubdate)"
   ]
  },
  {
   "cell_type": "markdown",
   "id": "eae98f5a",
   "metadata": {},
   "source": [
    "Keeler, Salomaa\n",
    "\n",
    "\n",
    "$|L(A)| \\le \\text{ambiguity} \\le \\text{string path width} \\le \\text{tree width}$\n",
    "\n",
    "- **ambiguity**: number of accepting computations of A on a given string\n",
    "- **string path width**: does not count partial computations, only complete (and maybe non-accepting) computations\n",
    "- **tree width**: all computations of A on a given string (even partial ones)"
   ]
  },
  {
   "cell_type": "code",
   "execution_count": null,
   "id": "d1b3fd02",
   "metadata": {},
   "outputs": [],
   "source": [
    "np.random.choice([\"-1\",\"0\",\"1\"], size=(3,3))[1,0]"
   ]
  },
  {
   "cell_type": "code",
   "execution_count": null,
   "id": "95f19879",
   "metadata": {},
   "outputs": [],
   "source": [
    "rand = NFA.random(n_states=5, input_symbols={\"0\", \"1\"}, sparsity=0.5)\n",
    "rand.plot()"
   ]
  },
  {
   "cell_type": "code",
   "execution_count": null,
   "id": "2a0a57e5",
   "metadata": {},
   "outputs": [],
   "source": [
    "rand.bruteforce_count_only(15)"
   ]
  },
  {
   "cell_type": "code",
   "execution_count": null,
   "id": "6b55e766",
   "metadata": {},
   "outputs": [],
   "source": [
    "count, nfa_unroll = count_nfa(rand, 15, 100)\n",
    "count"
   ]
  },
  {
   "cell_type": "code",
   "execution_count": null,
   "id": "0a5c71a6",
   "metadata": {},
   "outputs": [],
   "source": [
    "with open(\"intermediate_stats.pkl\", \"rb\") as fd:\n",
    "    results_stats = pickle.load(fd)\n",
    "        \n",
    "df = pd.DataFrame(results_stats, columns=[\"n_states\", \"initial_states\", \"final_states\", \"transitions\",\n",
    "                                    \"string_n\", \"bruteforce\", \"estimate\", \"eps\", \"time\"])\n",
    "df[\"rel_error\"] = abs(df.estimate - df.bruteforce)/df.bruteforce"
   ]
  },
  {
   "cell_type": "code",
   "execution_count": 48,
   "id": "7aeb57db",
   "metadata": {},
   "outputs": [],
   "source": [
    "def instantiate_nfa(df_row):\n",
    "    states = {f\"q{i}\" for i in range(df_row.n_states)}\n",
    "    nfa = NFA(\n",
    "        states=states,\n",
    "        initial_states=df_row.initial_states,\n",
    "        final_states=df_row.final_states,\n",
    "        input_symbols={\"0\", \"1\"},\n",
    "        transitions=df_row.transitions,\n",
    "    )\n",
    "    return nfa"
   ]
  },
  {
   "cell_type": "code",
   "execution_count": 2,
   "id": "46181073",
   "metadata": {},
   "outputs": [],
   "source": [
    "with open(\"random_nfa_from_matrices.pkl\", \"rb\") as fd:\n",
    "    data = pickle.load(fd)\n",
    "df = pd.DataFrame(data)\n",
    "df[\"density\"] = df.accepted_counts.map(lambda x: [xi / 2**i for i,xi in enumerate(x, 1)])\n",
    "df[\"last_density\"] = df.density.map(lambda x: x[-1])\n",
    "df[\"last_count\"] = df.accepted_counts.map(lambda x: x[-1])\n",
    "df[\"probably_exp\"] = df.density.map(lambda x: (x[-2] - x[-1]) < 1e-6 and x[-1] > 0)\n",
    "df[\"n_states\"] = df.matrix.map(lambda m: m.shape[1])\n",
    "df[\"count_hash\"] = df.accepted_counts.map(lambda c: hash(tuple(c)))\n",
    "df[\"real_n_states\"] = df.matrix.map(lambda m: len(NFA.from_random_matrix(m).states))\n",
    "df[\"height\"] = df.matrix.map(lambda m: NFA.from_random_matrix(m).cycle_height())"
   ]
  },
  {
   "cell_type": "code",
   "execution_count": 4,
   "id": "542c8901",
   "metadata": {},
   "outputs": [
    {
     "data": {
      "text/plain": [
       "[0.007576840600428878,\n",
       " 0.09079861111111111,\n",
       " 0.16568483063328424,\n",
       " 0.22652757078986588,\n",
       " 0.24353690520794305,\n",
       " 0.2340026271345468,\n",
       " 0.22513287775246774,\n",
       " 0.21029082774049218,\n",
       " 0.17825513472771812,\n",
       " 0.15645857872006283,\n",
       " 0.13339920948616601,\n",
       " 0.09787928221859707,\n",
       " 0.0541922290388548]"
      ]
     },
     "execution_count": 4,
     "metadata": {},
     "output_type": "execute_result"
    }
   ],
   "source": [
    "[len(df[df.real_n_states == i].count_hash.unique()) / df[df.real_n_states == i].shape[0] for i in range(2,15)]"
   ]
  },
  {
   "cell_type": "code",
   "execution_count": 8,
   "id": "d1465362",
   "metadata": {},
   "outputs": [
    {
     "data": {
      "text/plain": [
       "inf    57420\n",
       "0.0    13835\n",
       "1.0     6856\n",
       "2.0      289\n",
       "Name: height, dtype: int64"
      ]
     },
     "execution_count": 8,
     "metadata": {},
     "output_type": "execute_result"
    }
   ],
   "source": [
    "df.height.value_counts()"
   ]
  },
  {
   "cell_type": "code",
   "execution_count": 18,
   "id": "e4b829c9",
   "metadata": {},
   "outputs": [
    {
     "data": {
      "text/plain": [
       "<AxesSubplot:>"
      ]
     },
     "execution_count": 18,
     "metadata": {},
     "output_type": "execute_result"
    },
    {
     "data": {
      "image/png": "[encoded data removed]",
      "text/plain": [
       "<Figure size 432x288 with 1 Axes>"
      ]
     },
     "metadata": {},
     "output_type": "display_data"
    }
   ],
   "source": [
    "df.real_n_states.hist(bins=15)"
   ]
  },
  {
   "attachments": {
    "imagen-2.png": {
     "image/png": "[encoded data removed]"
    },
    "imagen.png": {
     "image/png": "[encoded data removed]"
    }
   },
   "cell_type": "markdown",
   "id": "3929b1e6",
   "metadata": {},
   "source": [
    "# Aceptan la secuencia de Fibonacci !!!\n",
    "\n",
    "![imagen.png](attachment:imagen.png)\n",
    "\n",
    "Es asintótica a ![imagen-2.png](attachment:imagen-2.png)"
   ]
  },
  {
   "cell_type": "code",
   "execution_count": 7,
   "id": "fd196318",
   "metadata": {},
   "outputs": [
    {
     "data": {
      "text/html": [
       "<div>\n",
       "<style scoped>\n",
       "    .dataframe tbody tr th:only-of-type {\n",
       "        vertical-align: middle;\n",
       "    }\n",
       "\n",
       "    .dataframe tbody tr th {\n",
       "        vertical-align: top;\n",
       "    }\n",
       "\n",
       "    .dataframe thead th {\n",
       "        text-align: right;\n",
       "    }\n",
       "</style>\n",
       "<table border=\"1\" class=\"dataframe\">\n",
       "  <thead>\n",
       "    <tr style=\"text-align: right;\">\n",
       "      <th></th>\n",
       "      <th>sparsity</th>\n",
       "      <th>matrix</th>\n",
       "      <th>accepted_counts</th>\n",
       "      <th>height</th>\n",
       "      <th>density</th>\n",
       "      <th>last_density</th>\n",
       "      <th>last_count</th>\n",
       "      <th>probably_exp</th>\n",
       "      <th>n_states</th>\n",
       "      <th>count_hash</th>\n",
       "      <th>real_n_states</th>\n",
       "    </tr>\n",
       "  </thead>\n",
       "  <tbody>\n",
       "    <tr>\n",
       "      <th>24</th>\n",
       "      <td>0.620606</td>\n",
       "      <td>[[0, 1], [0, 1], [0, 0], [1, 0], [1, 1], [1, 1]]</td>\n",
       "      <td>[2, 3, 5, 8, 13, 21, 34, 55, 89, 144, 233, 377...</td>\n",
       "      <td>inf</td>\n",
       "      <td>[1.0, 0.75, 0.625, 0.5, 0.40625, 0.328125, 0.2...</td>\n",
       "      <td>0.048737</td>\n",
       "      <td>1597</td>\n",
       "      <td>False</td>\n",
       "      <td>2</td>\n",
       "      <td>-8133805471270946259</td>\n",
       "      <td>2</td>\n",
       "    </tr>\n",
       "    <tr>\n",
       "      <th>38</th>\n",
       "      <td>0.684600</td>\n",
       "      <td>[[0, 0, 0], [0, 0, 1], [0, 0, 0], [0, 0, 0], [...</td>\n",
       "      <td>[2, 1, 2, 3, 5, 8, 13, 21, 34, 55, 89, 144, 23...</td>\n",
       "      <td>inf</td>\n",
       "      <td>[1.0, 0.25, 0.25, 0.1875, 0.15625, 0.125, 0.10...</td>\n",
       "      <td>0.018616</td>\n",
       "      <td>610</td>\n",
       "      <td>False</td>\n",
       "      <td>3</td>\n",
       "      <td>-4056193983456361400</td>\n",
       "      <td>3</td>\n",
       "    </tr>\n",
       "    <tr>\n",
       "      <th>62</th>\n",
       "      <td>0.752865</td>\n",
       "      <td>[[1, 0, 0, 0, 0, 0, 0, 0, 0, 0], [0, 0, 0, 0, ...</td>\n",
       "      <td>[1, 2, 3, 5, 8, 13, 21, 34, 55, 89, 144, 233, ...</td>\n",
       "      <td>inf</td>\n",
       "      <td>[0.5, 0.5, 0.375, 0.3125, 0.25, 0.203125, 0.16...</td>\n",
       "      <td>0.030121</td>\n",
       "      <td>987</td>\n",
       "      <td>False</td>\n",
       "      <td>10</td>\n",
       "      <td>-926768237329163453</td>\n",
       "      <td>10</td>\n",
       "    </tr>\n",
       "    <tr>\n",
       "      <th>184</th>\n",
       "      <td>0.678500</td>\n",
       "      <td>[[1, 1], [0, 0], [0, 0], [1, 0], [1, 0], [0, 1]]</td>\n",
       "      <td>[1, 1, 2, 3, 5, 8, 13, 21, 34, 55, 89, 144, 23...</td>\n",
       "      <td>inf</td>\n",
       "      <td>[0.5, 0.25, 0.25, 0.1875, 0.15625, 0.125, 0.10...</td>\n",
       "      <td>0.018616</td>\n",
       "      <td>610</td>\n",
       "      <td>False</td>\n",
       "      <td>2</td>\n",
       "      <td>-4359924220400588251</td>\n",
       "      <td>2</td>\n",
       "    </tr>\n",
       "    <tr>\n",
       "      <th>380</th>\n",
       "      <td>0.826572</td>\n",
       "      <td>[[1, 0, 0, 0, 0], [0, 0, 0, 0, 0], [0, 0, 0, 1...</td>\n",
       "      <td>[2, 3, 5, 8, 13, 21, 34, 55, 89, 144, 233, 377...</td>\n",
       "      <td>inf</td>\n",
       "      <td>[1.0, 0.75, 0.625, 0.5, 0.40625, 0.328125, 0.2...</td>\n",
       "      <td>0.048737</td>\n",
       "      <td>1597</td>\n",
       "      <td>False</td>\n",
       "      <td>5</td>\n",
       "      <td>-8133805471270946259</td>\n",
       "      <td>5</td>\n",
       "    </tr>\n",
       "    <tr>\n",
       "      <th>...</th>\n",
       "      <td>...</td>\n",
       "      <td>...</td>\n",
       "      <td>...</td>\n",
       "      <td>...</td>\n",
       "      <td>...</td>\n",
       "      <td>...</td>\n",
       "      <td>...</td>\n",
       "      <td>...</td>\n",
       "      <td>...</td>\n",
       "      <td>...</td>\n",
       "      <td>...</td>\n",
       "    </tr>\n",
       "    <tr>\n",
       "      <th>78070</th>\n",
       "      <td>0.881255</td>\n",
       "      <td>[[0, 0, 0, 0, 0, 0], [0, 0, 0, 0, 0, 0], [0, 0...</td>\n",
       "      <td>[2, 3, 5, 8, 13, 21, 34, 55, 89, 144, 233, 377...</td>\n",
       "      <td>inf</td>\n",
       "      <td>[1.0, 0.75, 0.625, 0.5, 0.40625, 0.328125, 0.2...</td>\n",
       "      <td>0.048737</td>\n",
       "      <td>1597</td>\n",
       "      <td>False</td>\n",
       "      <td>6</td>\n",
       "      <td>-8133805471270946259</td>\n",
       "      <td>6</td>\n",
       "    </tr>\n",
       "    <tr>\n",
       "      <th>78117</th>\n",
       "      <td>0.702504</td>\n",
       "      <td>[[1, 0, 0, 1, 1], [0, 0, 0, 1, 0], [0, 0, 0, 0...</td>\n",
       "      <td>[2, 3, 5, 8, 13, 21, 34, 55, 89, 144, 233, 377...</td>\n",
       "      <td>inf</td>\n",
       "      <td>[1.0, 0.75, 0.625, 0.5, 0.40625, 0.328125, 0.2...</td>\n",
       "      <td>0.048737</td>\n",
       "      <td>1597</td>\n",
       "      <td>False</td>\n",
       "      <td>5</td>\n",
       "      <td>-8133805471270946259</td>\n",
       "      <td>4</td>\n",
       "    </tr>\n",
       "    <tr>\n",
       "      <th>78143</th>\n",
       "      <td>0.663363</td>\n",
       "      <td>[[1, 0, 0, 1, 1], [0, 0, 0, 1, 0], [0, 0, 0, 0...</td>\n",
       "      <td>[2, 3, 5, 8, 13, 21, 34, 55, 89, 144, 233, 377...</td>\n",
       "      <td>inf</td>\n",
       "      <td>[1.0, 0.75, 0.625, 0.5, 0.40625, 0.328125, 0.2...</td>\n",
       "      <td>0.048737</td>\n",
       "      <td>1597</td>\n",
       "      <td>False</td>\n",
       "      <td>5</td>\n",
       "      <td>-8133805471270946259</td>\n",
       "      <td>4</td>\n",
       "    </tr>\n",
       "    <tr>\n",
       "      <th>78144</th>\n",
       "      <td>0.543573</td>\n",
       "      <td>[[0, 0], [1, 0], [0, 1], [0, 1], [1, 1], [1, 0]]</td>\n",
       "      <td>[1, 1, 2, 3, 5, 8, 13, 21, 34, 55, 89, 144, 23...</td>\n",
       "      <td>inf</td>\n",
       "      <td>[0.5, 0.25, 0.25, 0.1875, 0.15625, 0.125, 0.10...</td>\n",
       "      <td>0.018616</td>\n",
       "      <td>610</td>\n",
       "      <td>False</td>\n",
       "      <td>2</td>\n",
       "      <td>-4359924220400588251</td>\n",
       "      <td>2</td>\n",
       "    </tr>\n",
       "    <tr>\n",
       "      <th>78277</th>\n",
       "      <td>0.759063</td>\n",
       "      <td>[[0, 0, 1, 0, 0], [1, 0, 1, 1, 1], [1, 0, 0, 1...</td>\n",
       "      <td>[1, 2, 3, 5, 8, 13, 21, 34, 55, 89, 144, 233, ...</td>\n",
       "      <td>inf</td>\n",
       "      <td>[0.5, 0.5, 0.375, 0.3125, 0.25, 0.203125, 0.16...</td>\n",
       "      <td>0.030121</td>\n",
       "      <td>987</td>\n",
       "      <td>False</td>\n",
       "      <td>5</td>\n",
       "      <td>-926768237329163453</td>\n",
       "      <td>5</td>\n",
       "    </tr>\n",
       "  </tbody>\n",
       "</table>\n",
       "<p>1160 rows × 11 columns</p>\n",
       "</div>"
      ],
      "text/plain": [
       "       sparsity                                             matrix  \\\n",
       "24     0.620606   [[0, 1], [0, 1], [0, 0], [1, 0], [1, 1], [1, 1]]   \n",
       "38     0.684600  [[0, 0, 0], [0, 0, 1], [0, 0, 0], [0, 0, 0], [...   \n",
       "62     0.752865  [[1, 0, 0, 0, 0, 0, 0, 0, 0, 0], [0, 0, 0, 0, ...   \n",
       "184    0.678500   [[1, 1], [0, 0], [0, 0], [1, 0], [1, 0], [0, 1]]   \n",
       "380    0.826572  [[1, 0, 0, 0, 0], [0, 0, 0, 0, 0], [0, 0, 0, 1...   \n",
       "...         ...                                                ...   \n",
       "78070  0.881255  [[0, 0, 0, 0, 0, 0], [0, 0, 0, 0, 0, 0], [0, 0...   \n",
       "78117  0.702504  [[1, 0, 0, 1, 1], [0, 0, 0, 1, 0], [0, 0, 0, 0...   \n",
       "78143  0.663363  [[1, 0, 0, 1, 1], [0, 0, 0, 1, 0], [0, 0, 0, 0...   \n",
       "78144  0.543573   [[0, 0], [1, 0], [0, 1], [0, 1], [1, 1], [1, 0]]   \n",
       "78277  0.759063  [[0, 0, 1, 0, 0], [1, 0, 1, 1, 1], [1, 0, 0, 1...   \n",
       "\n",
       "                                         accepted_counts  height  \\\n",
       "24     [2, 3, 5, 8, 13, 21, 34, 55, 89, 144, 233, 377...     inf   \n",
       "38     [2, 1, 2, 3, 5, 8, 13, 21, 34, 55, 89, 144, 23...     inf   \n",
       "62     [1, 2, 3, 5, 8, 13, 21, 34, 55, 89, 144, 233, ...     inf   \n",
       "184    [1, 1, 2, 3, 5, 8, 13, 21, 34, 55, 89, 144, 23...     inf   \n",
       "380    [2, 3, 5, 8, 13, 21, 34, 55, 89, 144, 233, 377...     inf   \n",
       "...                                                  ...     ...   \n",
       "78070  [2, 3, 5, 8, 13, 21, 34, 55, 89, 144, 233, 377...     inf   \n",
       "78117  [2, 3, 5, 8, 13, 21, 34, 55, 89, 144, 233, 377...     inf   \n",
       "78143  [2, 3, 5, 8, 13, 21, 34, 55, 89, 144, 233, 377...     inf   \n",
       "78144  [1, 1, 2, 3, 5, 8, 13, 21, 34, 55, 89, 144, 23...     inf   \n",
       "78277  [1, 2, 3, 5, 8, 13, 21, 34, 55, 89, 144, 233, ...     inf   \n",
       "\n",
       "                                                 density  last_density  \\\n",
       "24     [1.0, 0.75, 0.625, 0.5, 0.40625, 0.328125, 0.2...      0.048737   \n",
       "38     [1.0, 0.25, 0.25, 0.1875, 0.15625, 0.125, 0.10...      0.018616   \n",
       "62     [0.5, 0.5, 0.375, 0.3125, 0.25, 0.203125, 0.16...      0.030121   \n",
       "184    [0.5, 0.25, 0.25, 0.1875, 0.15625, 0.125, 0.10...      0.018616   \n",
       "380    [1.0, 0.75, 0.625, 0.5, 0.40625, 0.328125, 0.2...      0.048737   \n",
       "...                                                  ...           ...   \n",
       "78070  [1.0, 0.75, 0.625, 0.5, 0.40625, 0.328125, 0.2...      0.048737   \n",
       "78117  [1.0, 0.75, 0.625, 0.5, 0.40625, 0.328125, 0.2...      0.048737   \n",
       "78143  [1.0, 0.75, 0.625, 0.5, 0.40625, 0.328125, 0.2...      0.048737   \n",
       "78144  [0.5, 0.25, 0.25, 0.1875, 0.15625, 0.125, 0.10...      0.018616   \n",
       "78277  [0.5, 0.5, 0.375, 0.3125, 0.25, 0.203125, 0.16...      0.030121   \n",
       "\n",
       "       last_count  probably_exp  n_states           count_hash  real_n_states  \n",
       "24           1597         False         2 -8133805471270946259              2  \n",
       "38            610         False         3 -4056193983456361400              3  \n",
       "62            987         False        10  -926768237329163453             10  \n",
       "184           610         False         2 -4359924220400588251              2  \n",
       "380          1597         False         5 -8133805471270946259              5  \n",
       "...           ...           ...       ...                  ...            ...  \n",
       "78070        1597         False         6 -8133805471270946259              6  \n",
       "78117        1597         False         5 -8133805471270946259              4  \n",
       "78143        1597         False         5 -8133805471270946259              4  \n",
       "78144         610         False         2 -4359924220400588251              2  \n",
       "78277         987         False         5  -926768237329163453              5  \n",
       "\n",
       "[1160 rows x 11 columns]"
      ]
     },
     "execution_count": 7,
     "metadata": {},
     "output_type": "execute_result"
    }
   ],
   "source": [
    "df[df.last_count.isin([1597, 610, 987])]"
   ]
  },
  {
   "cell_type": "code",
   "execution_count": 3,
   "id": "39d37e2d",
   "metadata": {},
   "outputs": [
    {
     "data": {
      "text/plain": [
       "35    1\n",
       "57    1\n",
       "61    1\n",
       "Name: matrix, dtype: int64"
      ]
     },
     "execution_count": 3,
     "metadata": {},
     "output_type": "execute_result"
    }
   ],
   "source": [
    "fibs = df[df.last_count.isin([1597, 610, 987])]\n",
    "fibs[fibs.n_states == 14].matrix.map(lambda x: x.sum()).value_counts()"
   ]
  },
  {
   "cell_type": "code",
   "execution_count": 33,
   "id": "544da6b1",
   "metadata": {},
   "outputs": [
    {
     "data": {
      "text/html": [
       "<div>\n",
       "<style scoped>\n",
       "    .dataframe tbody tr th:only-of-type {\n",
       "        vertical-align: middle;\n",
       "    }\n",
       "\n",
       "    .dataframe tbody tr th {\n",
       "        vertical-align: top;\n",
       "    }\n",
       "\n",
       "    .dataframe thead th {\n",
       "        text-align: right;\n",
       "    }\n",
       "</style>\n",
       "<table border=\"1\" class=\"dataframe\">\n",
       "  <thead>\n",
       "    <tr style=\"text-align: right;\">\n",
       "      <th></th>\n",
       "      <th>sparsity</th>\n",
       "      <th>matrix</th>\n",
       "      <th>accepted_counts</th>\n",
       "      <th>height</th>\n",
       "      <th>density</th>\n",
       "      <th>last_density</th>\n",
       "      <th>last_count</th>\n",
       "      <th>probably_exp</th>\n",
       "      <th>n_states</th>\n",
       "      <th>count_hash</th>\n",
       "      <th>real_n_states</th>\n",
       "    </tr>\n",
       "  </thead>\n",
       "  <tbody>\n",
       "    <tr>\n",
       "      <th>12219</th>\n",
       "      <td>0.808876</td>\n",
       "      <td>[[0, 0, 0, 1], [0, 0, 0, 0], [1, 0, 0, 0], [0,...</td>\n",
       "      <td>[1, 3, 5, 8, 13, 21, 34, 55, 89, 144, 233, 377...</td>\n",
       "      <td>1.0</td>\n",
       "      <td>[0.5, 0.75, 0.625, 0.5, 0.40625, 0.328125, 0.2...</td>\n",
       "      <td>0.048737</td>\n",
       "      <td>1597</td>\n",
       "      <td>False</td>\n",
       "      <td>4</td>\n",
       "      <td>8631950600685200787</td>\n",
       "      <td>3</td>\n",
       "    </tr>\n",
       "    <tr>\n",
       "      <th>23659</th>\n",
       "      <td>0.593906</td>\n",
       "      <td>[[0, 1, 0, 1], [0, 0, 0, 0], [0, 0, 0, 0], [0,...</td>\n",
       "      <td>[1, 1, 2, 3, 5, 8, 13, 21, 34, 55, 89, 144, 23...</td>\n",
       "      <td>1.0</td>\n",
       "      <td>[0.5, 0.25, 0.25, 0.1875, 0.15625, 0.125, 0.10...</td>\n",
       "      <td>0.018616</td>\n",
       "      <td>610</td>\n",
       "      <td>False</td>\n",
       "      <td>4</td>\n",
       "      <td>-4359924220400588251</td>\n",
       "      <td>3</td>\n",
       "    </tr>\n",
       "    <tr>\n",
       "      <th>25710</th>\n",
       "      <td>0.730349</td>\n",
       "      <td>[[0, 0, 0, 1], [0, 1, 0, 0], [0, 0, 1, 0], [1,...</td>\n",
       "      <td>[1, 2, 3, 5, 8, 13, 21, 34, 55, 89, 144, 233, ...</td>\n",
       "      <td>1.0</td>\n",
       "      <td>[0.5, 0.5, 0.375, 0.3125, 0.25, 0.203125, 0.16...</td>\n",
       "      <td>0.030121</td>\n",
       "      <td>987</td>\n",
       "      <td>False</td>\n",
       "      <td>4</td>\n",
       "      <td>-926768237329163453</td>\n",
       "      <td>2</td>\n",
       "    </tr>\n",
       "    <tr>\n",
       "      <th>33832</th>\n",
       "      <td>0.624263</td>\n",
       "      <td>[[0, 1, 0, 0], [0, 0, 0, 0], [0, 0, 0, 0], [1,...</td>\n",
       "      <td>[1, 2, 3, 5, 8, 13, 21, 34, 55, 89, 144, 233, ...</td>\n",
       "      <td>1.0</td>\n",
       "      <td>[0.5, 0.5, 0.375, 0.3125, 0.25, 0.203125, 0.16...</td>\n",
       "      <td>0.030121</td>\n",
       "      <td>987</td>\n",
       "      <td>False</td>\n",
       "      <td>4</td>\n",
       "      <td>-926768237329163453</td>\n",
       "      <td>2</td>\n",
       "    </tr>\n",
       "    <tr>\n",
       "      <th>39511</th>\n",
       "      <td>0.924436</td>\n",
       "      <td>[[0, 0, 0, 0, 0, 0, 0, 1, 0, 0, 0, 0], [0, 1, ...</td>\n",
       "      <td>[1, 1, 2, 3, 5, 8, 13, 21, 34, 55, 89, 144, 23...</td>\n",
       "      <td>1.0</td>\n",
       "      <td>[0.5, 0.25, 0.25, 0.1875, 0.15625, 0.125, 0.10...</td>\n",
       "      <td>0.018616</td>\n",
       "      <td>610</td>\n",
       "      <td>False</td>\n",
       "      <td>12</td>\n",
       "      <td>-4359924220400588251</td>\n",
       "      <td>3</td>\n",
       "    </tr>\n",
       "    <tr>\n",
       "      <th>55894</th>\n",
       "      <td>0.782076</td>\n",
       "      <td>[[0, 0, 0, 0, 1], [0, 0, 1, 0, 1], [0, 1, 0, 0...</td>\n",
       "      <td>[1, 1, 2, 3, 5, 8, 13, 21, 34, 55, 89, 144, 23...</td>\n",
       "      <td>1.0</td>\n",
       "      <td>[0.5, 0.25, 0.25, 0.1875, 0.15625, 0.125, 0.10...</td>\n",
       "      <td>0.018616</td>\n",
       "      <td>610</td>\n",
       "      <td>False</td>\n",
       "      <td>5</td>\n",
       "      <td>-4359924220400588251</td>\n",
       "      <td>2</td>\n",
       "    </tr>\n",
       "    <tr>\n",
       "      <th>57506</th>\n",
       "      <td>0.768608</td>\n",
       "      <td>[[1, 1, 0, 1], [1, 0, 0, 1], [0, 0, 0, 1], [0,...</td>\n",
       "      <td>[1, 1, 2, 3, 5, 8, 13, 21, 34, 55, 89, 144, 23...</td>\n",
       "      <td>1.0</td>\n",
       "      <td>[0.5, 0.25, 0.25, 0.1875, 0.15625, 0.125, 0.10...</td>\n",
       "      <td>0.018616</td>\n",
       "      <td>610</td>\n",
       "      <td>False</td>\n",
       "      <td>4</td>\n",
       "      <td>-4359924220400588251</td>\n",
       "      <td>2</td>\n",
       "    </tr>\n",
       "    <tr>\n",
       "      <th>63011</th>\n",
       "      <td>0.881328</td>\n",
       "      <td>[[0, 0, 1, 0, 1, 0, 0], [0, 0, 1, 0, 0, 0, 0],...</td>\n",
       "      <td>[1, 0, 1, 2, 2, 5, 8, 13, 24, 40, 69, 120, 205...</td>\n",
       "      <td>1.0</td>\n",
       "      <td>[0.5, 0.0, 0.125, 0.125, 0.0625, 0.078125, 0.0...</td>\n",
       "      <td>0.018616</td>\n",
       "      <td>610</td>\n",
       "      <td>False</td>\n",
       "      <td>7</td>\n",
       "      <td>-5170783928966892074</td>\n",
       "      <td>3</td>\n",
       "    </tr>\n",
       "  </tbody>\n",
       "</table>\n",
       "</div>"
      ],
      "text/plain": [
       "       sparsity                                             matrix  \\\n",
       "12219  0.808876  [[0, 0, 0, 1], [0, 0, 0, 0], [1, 0, 0, 0], [0,...   \n",
       "23659  0.593906  [[0, 1, 0, 1], [0, 0, 0, 0], [0, 0, 0, 0], [0,...   \n",
       "25710  0.730349  [[0, 0, 0, 1], [0, 1, 0, 0], [0, 0, 1, 0], [1,...   \n",
       "33832  0.624263  [[0, 1, 0, 0], [0, 0, 0, 0], [0, 0, 0, 0], [1,...   \n",
       "39511  0.924436  [[0, 0, 0, 0, 0, 0, 0, 1, 0, 0, 0, 0], [0, 1, ...   \n",
       "55894  0.782076  [[0, 0, 0, 0, 1], [0, 0, 1, 0, 1], [0, 1, 0, 0...   \n",
       "57506  0.768608  [[1, 1, 0, 1], [1, 0, 0, 1], [0, 0, 0, 1], [0,...   \n",
       "63011  0.881328  [[0, 0, 1, 0, 1, 0, 0], [0, 0, 1, 0, 0, 0, 0],...   \n",
       "\n",
       "                                         accepted_counts  height  \\\n",
       "12219  [1, 3, 5, 8, 13, 21, 34, 55, 89, 144, 233, 377...     1.0   \n",
       "23659  [1, 1, 2, 3, 5, 8, 13, 21, 34, 55, 89, 144, 23...     1.0   \n",
       "25710  [1, 2, 3, 5, 8, 13, 21, 34, 55, 89, 144, 233, ...     1.0   \n",
       "33832  [1, 2, 3, 5, 8, 13, 21, 34, 55, 89, 144, 233, ...     1.0   \n",
       "39511  [1, 1, 2, 3, 5, 8, 13, 21, 34, 55, 89, 144, 23...     1.0   \n",
       "55894  [1, 1, 2, 3, 5, 8, 13, 21, 34, 55, 89, 144, 23...     1.0   \n",
       "57506  [1, 1, 2, 3, 5, 8, 13, 21, 34, 55, 89, 144, 23...     1.0   \n",
       "63011  [1, 0, 1, 2, 2, 5, 8, 13, 24, 40, 69, 120, 205...     1.0   \n",
       "\n",
       "                                                 density  last_density  \\\n",
       "12219  [0.5, 0.75, 0.625, 0.5, 0.40625, 0.328125, 0.2...      0.048737   \n",
       "23659  [0.5, 0.25, 0.25, 0.1875, 0.15625, 0.125, 0.10...      0.018616   \n",
       "25710  [0.5, 0.5, 0.375, 0.3125, 0.25, 0.203125, 0.16...      0.030121   \n",
       "33832  [0.5, 0.5, 0.375, 0.3125, 0.25, 0.203125, 0.16...      0.030121   \n",
       "39511  [0.5, 0.25, 0.25, 0.1875, 0.15625, 0.125, 0.10...      0.018616   \n",
       "55894  [0.5, 0.25, 0.25, 0.1875, 0.15625, 0.125, 0.10...      0.018616   \n",
       "57506  [0.5, 0.25, 0.25, 0.1875, 0.15625, 0.125, 0.10...      0.018616   \n",
       "63011  [0.5, 0.0, 0.125, 0.125, 0.0625, 0.078125, 0.0...      0.018616   \n",
       "\n",
       "       last_count  probably_exp  n_states           count_hash  real_n_states  \n",
       "12219        1597         False         4  8631950600685200787              3  \n",
       "23659         610         False         4 -4359924220400588251              3  \n",
       "25710         987         False         4  -926768237329163453              2  \n",
       "33832         987         False         4  -926768237329163453              2  \n",
       "39511         610         False        12 -4359924220400588251              3  \n",
       "55894         610         False         5 -4359924220400588251              2  \n",
       "57506         610         False         4 -4359924220400588251              2  \n",
       "63011         610         False         7 -5170783928966892074              3  "
      ]
     },
     "execution_count": 33,
     "metadata": {},
     "output_type": "execute_result"
    }
   ],
   "source": [
    "fibs[fibs.height == 1]"
   ]
  },
  {
   "cell_type": "code",
   "execution_count": 13,
   "id": "42c64de7",
   "metadata": {},
   "outputs": [
    {
     "data": {
      "image/svg+xml": [
       "<?xml version=\"1.0\" encoding=\"UTF-8\" standalone=\"no\"?>\n",
       "<!DOCTYPE svg PUBLIC \"-//W3C//DTD SVG 1.1//EN\"\n",
       " \"http://www.w3.org/Graphics/SVG/1.1/DTD/svg11.dtd\">\n",
       "<!-- Generated by graphviz version 2.43.0 (0)\n",
       " -->\n",
       "<!-- Title: NFA Pages: 1 -->\n",
       "<svg width=\"226pt\" height=\"228pt\"\n",
       " viewBox=\"0.00 0.00 226.00 228.00\" xmlns=\"http://www.w3.org/2000/svg\" xmlns:xlink=\"http://www.w3.org/1999/xlink\">\n",
       "<g id=\"graph0\" class=\"graph\" transform=\"scale(1 1) rotate(0) translate(4 224)\">\n",
       "<title>NFA</title>\n",
       "<polygon fill=\"white\" stroke=\"transparent\" points=\"-4,4 -4,-224 222,-224 222,4 -4,4\"/>\n",
       "<!-- 0 -->\n",
       "<g id=\"node1\" class=\"node\">\n",
       "<title>0</title>\n",
       "<ellipse fill=\"none\" stroke=\"black\" cx=\"22\" cy=\"-163\" rx=\"18\" ry=\"18\"/>\n",
       "<ellipse fill=\"none\" stroke=\"black\" cx=\"22\" cy=\"-163\" rx=\"22\" ry=\"22\"/>\n",
       "<text text-anchor=\"middle\" x=\"22\" y=\"-159.3\" font-family=\"Times,serif\" font-size=\"14.00\">0</text>\n",
       "</g>\n",
       "<!-- 3 -->\n",
       "<g id=\"node3\" class=\"node\">\n",
       "<title>3</title>\n",
       "<ellipse fill=\"none\" stroke=\"black\" cx=\"109\" cy=\"-22\" rx=\"18\" ry=\"18\"/>\n",
       "<ellipse fill=\"none\" stroke=\"black\" cx=\"109\" cy=\"-22\" rx=\"22\" ry=\"22\"/>\n",
       "<text text-anchor=\"middle\" x=\"109\" y=\"-18.3\" font-family=\"Times,serif\" font-size=\"14.00\">3</text>\n",
       "</g>\n",
       "<!-- 0&#45;&gt;3 -->\n",
       "<g id=\"edge2\" class=\"edge\">\n",
       "<title>0&#45;&gt;3</title>\n",
       "<path fill=\"none\" stroke=\"black\" d=\"M34.11,-144.57C48.75,-120.29 74.6,-77.4 91.52,-49.34\"/>\n",
       "<polygon fill=\"black\" stroke=\"black\" points=\"94.72,-50.81 96.89,-40.44 88.72,-47.2 94.72,-50.81\"/>\n",
       "<text text-anchor=\"middle\" x=\"65.5\" y=\"-100.8\" font-family=\"Times,serif\" font-size=\"14.00\">0</text>\n",
       "</g>\n",
       "<!-- 2 -->\n",
       "<g id=\"node5\" class=\"node\">\n",
       "<title>2</title>\n",
       "<ellipse fill=\"none\" stroke=\"black\" cx=\"196\" cy=\"-163\" rx=\"18\" ry=\"18\"/>\n",
       "<text text-anchor=\"middle\" x=\"196\" y=\"-159.3\" font-family=\"Times,serif\" font-size=\"14.00\">2</text>\n",
       "</g>\n",
       "<!-- 0&#45;&gt;2 -->\n",
       "<g id=\"edge3\" class=\"edge\">\n",
       "<title>0&#45;&gt;2</title>\n",
       "<path fill=\"none\" stroke=\"black\" d=\"M37.37,-178.85C44.14,-185.16 52.76,-191.7 62,-195 101.34,-209.07 116.66,-209.07 156,-195 163.09,-192.46 169.82,-188.02 175.63,-183.24\"/>\n",
       "<polygon fill=\"black\" stroke=\"black\" points=\"178.36,-185.48 183.42,-176.17 173.66,-180.3 178.36,-185.48\"/>\n",
       "<text text-anchor=\"middle\" x=\"109\" y=\"-208.8\" font-family=\"Times,serif\" font-size=\"14.00\">1</text>\n",
       "</g>\n",
       "<!-- 1 -->\n",
       "<g id=\"node2\" class=\"node\">\n",
       "<title>1</title>\n",
       "<ellipse fill=\"none\" stroke=\"black\" cx=\"196\" cy=\"-22\" rx=\"18\" ry=\"18\"/>\n",
       "<ellipse fill=\"none\" stroke=\"black\" cx=\"196\" cy=\"-22\" rx=\"22\" ry=\"22\"/>\n",
       "<text text-anchor=\"middle\" x=\"196\" y=\"-18.3\" font-family=\"Times,serif\" font-size=\"14.00\">1</text>\n",
       "</g>\n",
       "<!-- 1&#45;&gt;1 -->\n",
       "<g id=\"edge4\" class=\"edge\">\n",
       "<title>1&#45;&gt;1</title>\n",
       "<path fill=\"none\" stroke=\"black\" d=\"M189.74,-43.3C186.29,-64.12 188.37,-87 196,-87 202.38,-87 204.88,-71.01 203.51,-53.61\"/>\n",
       "<polygon fill=\"black\" stroke=\"black\" points=\"206.94,-52.81 202.26,-43.3 199.99,-53.65 206.94,-52.81\"/>\n",
       "<text text-anchor=\"middle\" x=\"196\" y=\"-90.8\" font-family=\"Times,serif\" font-size=\"14.00\">1</text>\n",
       "</g>\n",
       "<!-- 3&#45;&gt;1 -->\n",
       "<g id=\"edge6\" class=\"edge\">\n",
       "<title>3&#45;&gt;1</title>\n",
       "<path fill=\"none\" stroke=\"black\" d=\"M131.01,-22C140.92,-22 152.95,-22 163.89,-22\"/>\n",
       "<polygon fill=\"black\" stroke=\"black\" points=\"163.94,-25.5 173.94,-22 163.94,-18.5 163.94,-25.5\"/>\n",
       "<text text-anchor=\"middle\" x=\"152.5\" y=\"-25.8\" font-family=\"Times,serif\" font-size=\"14.00\">0</text>\n",
       "</g>\n",
       "<!-- 3&#45;&gt;3 -->\n",
       "<g id=\"edge8\" class=\"edge\">\n",
       "<title>3&#45;&gt;3</title>\n",
       "<path fill=\"none\" stroke=\"black\" d=\"M102.74,-43.3C99.29,-64.12 101.37,-87 109,-87 115.38,-87 117.88,-71.01 116.51,-53.61\"/>\n",
       "<polygon fill=\"black\" stroke=\"black\" points=\"119.94,-52.81 115.26,-43.3 112.99,-53.65 119.94,-52.81\"/>\n",
       "<text text-anchor=\"middle\" x=\"109\" y=\"-90.8\" font-family=\"Times,serif\" font-size=\"14.00\">0</text>\n",
       "</g>\n",
       "<!-- 3&#45;&gt;2 -->\n",
       "<g id=\"edge7\" class=\"edge\">\n",
       "<title>3&#45;&gt;2</title>\n",
       "<path fill=\"none\" stroke=\"black\" d=\"M121.11,-40.43C136.39,-65.78 163.91,-111.43 180.71,-139.29\"/>\n",
       "<polygon fill=\"black\" stroke=\"black\" points=\"177.8,-141.25 185.96,-148.01 183.8,-137.64 177.8,-141.25\"/>\n",
       "<text text-anchor=\"middle\" x=\"152.5\" y=\"-100.8\" font-family=\"Times,serif\" font-size=\"14.00\">1</text>\n",
       "</g>\n",
       "<!-- 3_init -->\n",
       "<g id=\"node4\" class=\"node\">\n",
       "<title>3_init</title>\n",
       "</g>\n",
       "<!-- 3_init&#45;&gt;3 -->\n",
       "<g id=\"edge1\" class=\"edge\">\n",
       "<title>3_init&#45;&gt;3</title>\n",
       "<path fill=\"none\" stroke=\"black\" d=\"M23.06,-22C24.56,-22 53.07,-22 76.65,-22\"/>\n",
       "<polygon fill=\"black\" stroke=\"black\" points=\"76.69,-25.5 86.69,-22 76.69,-18.5 76.69,-25.5\"/>\n",
       "</g>\n",
       "<!-- 2&#45;&gt;0 -->\n",
       "<g id=\"edge5\" class=\"edge\">\n",
       "<title>2&#45;&gt;0</title>\n",
       "<path fill=\"none\" stroke=\"black\" d=\"M177.88,-163C149.05,-163 90.41,-163 54.13,-163\"/>\n",
       "<polygon fill=\"black\" stroke=\"black\" points=\"54.09,-159.5 44.09,-163 54.09,-166.5 54.09,-159.5\"/>\n",
       "<text text-anchor=\"middle\" x=\"109\" y=\"-166.8\" font-family=\"Times,serif\" font-size=\"14.00\">0</text>\n",
       "</g>\n",
       "</g>\n",
       "</svg>\n"
      ],
      "text/plain": [
       "<graphviz.dot.Digraph at 0x7fdd0f1d7fd0>"
      ]
     },
     "execution_count": 13,
     "metadata": {},
     "output_type": "execute_result"
    }
   ],
   "source": [
    "nfa = NFA.from_random_matrix(df.loc[12219].matrix)\n",
    "nfa.plot()"
   ]
  },
  {
   "cell_type": "code",
   "execution_count": 3,
   "id": "07c6f414",
   "metadata": {},
   "outputs": [
    {
     "data": {
      "text/plain": [
       "(8320, 11)"
      ]
     },
     "execution_count": 3,
     "metadata": {},
     "output_type": "execute_result"
    }
   ],
   "source": [
    "df_dedup = df.drop_duplicates(subset=[\"count_hash\"])\n",
    "df_dedup.shape"
   ]
  },
  {
   "cell_type": "code",
   "execution_count": 19,
   "id": "05c0d805",
   "metadata": {},
   "outputs": [
    {
     "data": {
      "text/plain": [
       "<AxesSubplot:>"
      ]
     },
     "execution_count": 19,
     "metadata": {},
     "output_type": "execute_result"
    },
    {
     "data": {
      "image/png": "[encoded data removed]",
      "text/plain": [
       "<Figure size 432x288 with 1 Axes>"
      ]
     },
     "metadata": {},
     "output_type": "display_data"
    }
   ],
   "source": [
    "df_dedup.real_n_states.hist(bins=13)"
   ]
  },
  {
   "cell_type": "code",
   "execution_count": 13,
   "id": "3a5bcedc",
   "metadata": {
    "scrolled": false
   },
   "outputs": [
    {
     "name": "stdout",
     "output_type": "stream",
     "text": [
      "Wrote pickle file for 127 results\n"
     ]
    },
    {
     "data": {
      "application/vnd.jupyter.widget-view+json": {
       "model_id": "2c9da723f0fb40ec884fb1b5fdf94a90",
       "version_major": 2,
       "version_minor": 0
      },
      "text/plain": [
       "  0%|          | 0/10 [00:00<?, ?it/s]"
      ]
     },
     "metadata": {},
     "output_type": "display_data"
    },
    {
     "name": "stderr",
     "output_type": "stream",
     "text": [
      "Process ForkPoolWorker-22:\n",
      "Process ForkPoolWorker-21:\n",
      "Process ForkPoolWorker-25:\n",
      "Process ForkPoolWorker-24:\n",
      "Process ForkPoolWorker-23:\n",
      "Process ForkPoolWorker-26:\n",
      "Traceback (most recent call last):\n",
      "Traceback (most recent call last):\n",
      "Traceback (most recent call last):\n",
      "Traceback (most recent call last):\n"
     ]
    },
    {
     "ename": "KeyboardInterrupt",
     "evalue": "",
     "output_type": "error",
     "traceback": [
      "\u001b[0;31m---------------------------------------------------------------------------\u001b[0m",
      "\u001b[0;31mKeyboardInterrupt\u001b[0m                         Traceback (most recent call last)",
      "\u001b[0;32m/tmp/ipykernel_2364769/538115046.py\u001b[0m in \u001b[0;36m<module>\u001b[0;34m\u001b[0m\n\u001b[1;32m     65\u001b[0m             \u001b[0mres\u001b[0m \u001b[0;34m=\u001b[0m \u001b[0;32mNone\u001b[0m\u001b[0;34m\u001b[0m\u001b[0;34m\u001b[0m\u001b[0m\n\u001b[1;32m     66\u001b[0m             \u001b[0;32mtry\u001b[0m\u001b[0;34m:\u001b[0m\u001b[0;34m\u001b[0m\u001b[0;34m\u001b[0m\u001b[0m\n\u001b[0;32m---> 67\u001b[0;31m                 \u001b[0mres\u001b[0m \u001b[0;34m=\u001b[0m \u001b[0mres_promise\u001b[0m\u001b[0;34m.\u001b[0m\u001b[0mget\u001b[0m\u001b[0;34m(\u001b[0m\u001b[0mtimeout\u001b[0m\u001b[0;34m=\u001b[0m\u001b[0mtimeout\u001b[0m\u001b[0;34m)\u001b[0m\u001b[0;34m\u001b[0m\u001b[0;34m\u001b[0m\u001b[0m\n\u001b[0m\u001b[1;32m     68\u001b[0m             \u001b[0;32mexcept\u001b[0m \u001b[0mTimeoutError\u001b[0m\u001b[0;34m:\u001b[0m\u001b[0;34m\u001b[0m\u001b[0;34m\u001b[0m\u001b[0m\n\u001b[1;32m     69\u001b[0m                 \u001b[0;32mcontinue\u001b[0m\u001b[0;34m\u001b[0m\u001b[0;34m\u001b[0m\u001b[0m\n",
      "\u001b[0;32m/usr/lib/python3.8/multiprocessing/pool.py\u001b[0m in \u001b[0;36mget\u001b[0;34m(self, timeout)\u001b[0m\n\u001b[1;32m    763\u001b[0m \u001b[0;34m\u001b[0m\u001b[0m\n\u001b[1;32m    764\u001b[0m     \u001b[0;32mdef\u001b[0m \u001b[0mget\u001b[0m\u001b[0;34m(\u001b[0m\u001b[0mself\u001b[0m\u001b[0;34m,\u001b[0m \u001b[0mtimeout\u001b[0m\u001b[0;34m=\u001b[0m\u001b[0;32mNone\u001b[0m\u001b[0;34m)\u001b[0m\u001b[0;34m:\u001b[0m\u001b[0;34m\u001b[0m\u001b[0;34m\u001b[0m\u001b[0m\n\u001b[0;32m--> 765\u001b[0;31m         \u001b[0mself\u001b[0m\u001b[0;34m.\u001b[0m\u001b[0mwait\u001b[0m\u001b[0;34m(\u001b[0m\u001b[0mtimeout\u001b[0m\u001b[0;34m)\u001b[0m\u001b[0;34m\u001b[0m\u001b[0;34m\u001b[0m\u001b[0m\n\u001b[0m\u001b[1;32m    766\u001b[0m         \u001b[0;32mif\u001b[0m \u001b[0;32mnot\u001b[0m \u001b[0mself\u001b[0m\u001b[0;34m.\u001b[0m\u001b[0mready\u001b[0m\u001b[0;34m(\u001b[0m\u001b[0;34m)\u001b[0m\u001b[0;34m:\u001b[0m\u001b[0;34m\u001b[0m\u001b[0;34m\u001b[0m\u001b[0m\n\u001b[1;32m    767\u001b[0m             \u001b[0;32mraise\u001b[0m \u001b[0mTimeoutError\u001b[0m\u001b[0;34m\u001b[0m\u001b[0;34m\u001b[0m\u001b[0m\n",
      "\u001b[0;32m/usr/lib/python3.8/multiprocessing/pool.py\u001b[0m in \u001b[0;36mwait\u001b[0;34m(self, timeout)\u001b[0m\n\u001b[1;32m    760\u001b[0m \u001b[0;34m\u001b[0m\u001b[0m\n\u001b[1;32m    761\u001b[0m     \u001b[0;32mdef\u001b[0m \u001b[0mwait\u001b[0m\u001b[0;34m(\u001b[0m\u001b[0mself\u001b[0m\u001b[0;34m,\u001b[0m \u001b[0mtimeout\u001b[0m\u001b[0;34m=\u001b[0m\u001b[0;32mNone\u001b[0m\u001b[0;34m)\u001b[0m\u001b[0;34m:\u001b[0m\u001b[0;34m\u001b[0m\u001b[0;34m\u001b[0m\u001b[0m\n\u001b[0;32m--> 762\u001b[0;31m         \u001b[0mself\u001b[0m\u001b[0;34m.\u001b[0m\u001b[0m_event\u001b[0m\u001b[0;34m.\u001b[0m\u001b[0mwait\u001b[0m\u001b[0;34m(\u001b[0m\u001b[0mtimeout\u001b[0m\u001b[0;34m)\u001b[0m\u001b[0;34m\u001b[0m\u001b[0;34m\u001b[0m\u001b[0m\n\u001b[0m\u001b[1;32m    763\u001b[0m \u001b[0;34m\u001b[0m\u001b[0m\n\u001b[1;32m    764\u001b[0m     \u001b[0;32mdef\u001b[0m \u001b[0mget\u001b[0m\u001b[0;34m(\u001b[0m\u001b[0mself\u001b[0m\u001b[0;34m,\u001b[0m \u001b[0mtimeout\u001b[0m\u001b[0;34m=\u001b[0m\u001b[0;32mNone\u001b[0m\u001b[0;34m)\u001b[0m\u001b[0;34m:\u001b[0m\u001b[0;34m\u001b[0m\u001b[0;34m\u001b[0m\u001b[0m\n",
      "\u001b[0;32m/usr/lib/python3.8/threading.py\u001b[0m in \u001b[0;36mwait\u001b[0;34m(self, timeout)\u001b[0m\n\u001b[1;32m    556\u001b[0m             \u001b[0msignaled\u001b[0m \u001b[0;34m=\u001b[0m \u001b[0mself\u001b[0m\u001b[0;34m.\u001b[0m\u001b[0m_flag\u001b[0m\u001b[0;34m\u001b[0m\u001b[0;34m\u001b[0m\u001b[0m\n\u001b[1;32m    557\u001b[0m             \u001b[0;32mif\u001b[0m \u001b[0;32mnot\u001b[0m \u001b[0msignaled\u001b[0m\u001b[0;34m:\u001b[0m\u001b[0;34m\u001b[0m\u001b[0;34m\u001b[0m\u001b[0m\n\u001b[0;32m--> 558\u001b[0;31m                 \u001b[0msignaled\u001b[0m \u001b[0;34m=\u001b[0m \u001b[0mself\u001b[0m\u001b[0;34m.\u001b[0m\u001b[0m_cond\u001b[0m\u001b[0;34m.\u001b[0m\u001b[0mwait\u001b[0m\u001b[0;34m(\u001b[0m\u001b[0mtimeout\u001b[0m\u001b[0;34m)\u001b[0m\u001b[0;34m\u001b[0m\u001b[0;34m\u001b[0m\u001b[0m\n\u001b[0m\u001b[1;32m    559\u001b[0m             \u001b[0;32mreturn\u001b[0m \u001b[0msignaled\u001b[0m\u001b[0;34m\u001b[0m\u001b[0;34m\u001b[0m\u001b[0m\n\u001b[1;32m    560\u001b[0m \u001b[0;34m\u001b[0m\u001b[0m\n",
      "\u001b[0;32m/usr/lib/python3.8/threading.py\u001b[0m in \u001b[0;36mwait\u001b[0;34m(self, timeout)\u001b[0m\n\u001b[1;32m    304\u001b[0m             \u001b[0;32melse\u001b[0m\u001b[0;34m:\u001b[0m\u001b[0;34m\u001b[0m\u001b[0;34m\u001b[0m\u001b[0m\n\u001b[1;32m    305\u001b[0m                 \u001b[0;32mif\u001b[0m \u001b[0mtimeout\u001b[0m \u001b[0;34m>\u001b[0m \u001b[0;36m0\u001b[0m\u001b[0;34m:\u001b[0m\u001b[0;34m\u001b[0m\u001b[0;34m\u001b[0m\u001b[0m\n\u001b[0;32m--> 306\u001b[0;31m                     \u001b[0mgotit\u001b[0m \u001b[0;34m=\u001b[0m \u001b[0mwaiter\u001b[0m\u001b[0;34m.\u001b[0m\u001b[0macquire\u001b[0m\u001b[0;34m(\u001b[0m\u001b[0;32mTrue\u001b[0m\u001b[0;34m,\u001b[0m \u001b[0mtimeout\u001b[0m\u001b[0;34m)\u001b[0m\u001b[0;34m\u001b[0m\u001b[0;34m\u001b[0m\u001b[0m\n\u001b[0m\u001b[1;32m    307\u001b[0m                 \u001b[0;32melse\u001b[0m\u001b[0;34m:\u001b[0m\u001b[0;34m\u001b[0m\u001b[0;34m\u001b[0m\u001b[0m\n\u001b[1;32m    308\u001b[0m                     \u001b[0mgotit\u001b[0m \u001b[0;34m=\u001b[0m \u001b[0mwaiter\u001b[0m\u001b[0;34m.\u001b[0m\u001b[0macquire\u001b[0m\u001b[0;34m(\u001b[0m\u001b[0;32mFalse\u001b[0m\u001b[0;34m)\u001b[0m\u001b[0;34m\u001b[0m\u001b[0;34m\u001b[0m\u001b[0m\n",
      "\u001b[0;31mKeyboardInterrupt\u001b[0m: "
     ]
    }
   ],
   "source": [
    "timeout = 600\n",
    "def compare_random_to_brute(i, nfa: NFA)->list:\n",
    "    print(f\"[{i}] started\\n\", end=\"\")\n",
    "    ret_data = []\n",
    "    start = time.time()\n",
    "    for string_len in range(3, 10):\n",
    "        bruteforce = nfa.bruteforce_count_only(string_len)\n",
    "        if bruteforce == 0:\n",
    "            continue\n",
    "        k_mult_base = 1\n",
    "        max_k_mult = 8\n",
    "        while k_mult_base < max_k_mult:\n",
    "            k_mult = 2 ** k_mult_base\n",
    "            try:\n",
    "                t0 = time.time()\n",
    "                # Runaway: less than 10 seconds left\n",
    "                if (t0 - start) > (timeout - 10):\n",
    "                    continue\n",
    "                count, nfa_unroll = count_nfa(nfa, string_len, eps=1, kappa_multiple=k_mult)\n",
    "                t1 = time.time()\n",
    "                ret_data.append({\n",
    "                    \"n_states\": len(nfa.states),\n",
    "                    \"states\": nfa.states,\n",
    "                    \"initial_states\": nfa.initial_states,\n",
    "                    \"final_states\": nfa.final_states,\n",
    "                    \"transitions\": nfa.transitions,\n",
    "                    \"string_len\": string_len,\n",
    "                    \"bruteforce\": bruteforce,\n",
    "                    \"estimate\": count,\n",
    "                    \"kappa_multiple\": k_mult,\n",
    "                    \"time\": t1 - t0,\n",
    "                })\n",
    "                rel_error = (count - bruteforce) / bruteforce\n",
    "                # if low rel_error or the next round will probably take more than remaining time\n",
    "                remaining_time = timeout - (t1 - start)\n",
    "                if rel_error < 0.5 or 2 * (t1 - t0) > remaining_time:\n",
    "                    break\n",
    "                k_mult_base += 1\n",
    "            except ValueError as e:\n",
    "                k_mult_base += 1\n",
    "                print(f\"Insufficient {k_mult=} at index {i=}\")\n",
    "                if k_mult_base == max_k_mult:\n",
    "                    return e\n",
    "            except Exception as e:\n",
    "                return e\n",
    "    return ret_data\n",
    "\n",
    "\n",
    "results = [] # n_states, initial_states, final_states, transitions, string_n, bruteforce, estimate, eps, time\n",
    "samples = 0\n",
    "errors = []\n",
    "error_count = 0\n",
    "n_proc = 6\n",
    "offset = 4\n",
    "with Pool(processes=n_proc) as pool:\n",
    "    # sorted_nfas = df.sort_values(by=\"rel_error\", ascending=True).tail(250).head(100)\n",
    "    # sorted_nfas = df_kappa[df_kappa.kappa_multiple == 256]\n",
    "    sorted_nfas = df_dedup[df_dedup.real_n_states.between(2,5)]\n",
    "    while offset < sorted_nfas.shape[0] and error_count < 3:\n",
    "        nfa_subset = [NFA.from_random_matrix(row.matrix) for row in \n",
    "                      sorted_nfas.iloc[offset:offset+10].itertuples()]\n",
    "        multiproc_results = [pool.apply_async(compare_random_to_brute, (i, nfa)) \n",
    "                             for i, nfa in enumerate(nfa_subset)]\n",
    "        for res_promise in tqdm(multiproc_results):\n",
    "            res = None\n",
    "            try:\n",
    "                res = res_promise.get(timeout=timeout)\n",
    "            except TimeoutError:\n",
    "                continue\n",
    "\n",
    "            if isinstance(res, Exception):\n",
    "                errors.append(res)\n",
    "                error_count += 1\n",
    "                continue\n",
    "            else:\n",
    "                samples += 1\n",
    "                \n",
    "                results.extend(res)\n",
    "            offset += 1\n",
    "\n",
    "        clear_output(wait=True)\n",
    "        with open(\"randomized_algo_on_2_to_5.pkl\", \"wb\") as fd:\n",
    "            pickle.dump(results, fd)\n",
    "        print(f\"Wrote pickle file for {len(results)} results\")\n"
   ]
  },
  {
   "cell_type": "code",
   "execution_count": 14,
   "id": "b8ca270d",
   "metadata": {},
   "outputs": [
    {
     "data": {
      "text/plain": [
       "127"
      ]
     },
     "execution_count": 14,
     "metadata": {},
     "output_type": "execute_result"
    }
   ],
   "source": [
    "len(results)"
   ]
  },
  {
   "cell_type": "code",
   "execution_count": 5,
   "id": "ef4f6e79",
   "metadata": {},
   "outputs": [
    {
     "data": {
      "image/svg+xml": [
       "<?xml version=\"1.0\" encoding=\"UTF-8\" standalone=\"no\"?>\n",
       "<!DOCTYPE svg PUBLIC \"-//W3C//DTD SVG 1.1//EN\"\n",
       " \"http://www.w3.org/Graphics/SVG/1.1/DTD/svg11.dtd\">\n",
       "<!-- Generated by graphviz version 2.43.0 (0)\n",
       " -->\n",
       "<!-- Title: NFA Pages: 1 -->\n",
       "<svg width=\"256pt\" height=\"228pt\"\n",
       " viewBox=\"0.00 0.00 256.00 228.00\" xmlns=\"http://www.w3.org/2000/svg\" xmlns:xlink=\"http://www.w3.org/1999/xlink\">\n",
       "<g id=\"graph0\" class=\"graph\" transform=\"scale(1 1) rotate(0) translate(4 224)\">\n",
       "<title>NFA</title>\n",
       "<polygon fill=\"white\" stroke=\"transparent\" points=\"-4,4 -4,-224 252,-224 252,4 -4,4\"/>\n",
       "<!-- 4 -->\n",
       "<g id=\"node1\" class=\"node\">\n",
       "<title>4</title>\n",
       "<ellipse fill=\"none\" stroke=\"black\" cx=\"60\" cy=\"-202\" rx=\"18\" ry=\"18\"/>\n",
       "<text text-anchor=\"middle\" x=\"60\" y=\"-198.3\" font-family=\"Times,serif\" font-size=\"14.00\">4</text>\n",
       "</g>\n",
       "<!-- 0 -->\n",
       "<g id=\"node3\" class=\"node\">\n",
       "<title>0</title>\n",
       "<ellipse fill=\"none\" stroke=\"black\" cx=\"143\" cy=\"-86\" rx=\"18\" ry=\"18\"/>\n",
       "<text text-anchor=\"middle\" x=\"143\" y=\"-82.3\" font-family=\"Times,serif\" font-size=\"14.00\">0</text>\n",
       "</g>\n",
       "<!-- 4&#45;&gt;0 -->\n",
       "<g id=\"edge8\" class=\"edge\">\n",
       "<title>4&#45;&gt;0</title>\n",
       "<path fill=\"none\" stroke=\"black\" d=\"M71.26,-187.31C85.07,-167.52 109.8,-132.12 126.05,-108.84\"/>\n",
       "<polygon fill=\"black\" stroke=\"black\" points=\"128.97,-110.77 131.82,-100.57 123.23,-106.77 128.97,-110.77\"/>\n",
       "<text text-anchor=\"middle\" x=\"103.5\" y=\"-147.8\" font-family=\"Times,serif\" font-size=\"14.00\">1</text>\n",
       "</g>\n",
       "<!-- 1 -->\n",
       "<g id=\"node2\" class=\"node\">\n",
       "<title>1</title>\n",
       "<ellipse fill=\"none\" stroke=\"black\" cx=\"226\" cy=\"-86\" rx=\"18\" ry=\"18\"/>\n",
       "<ellipse fill=\"none\" stroke=\"black\" cx=\"226\" cy=\"-86\" rx=\"22\" ry=\"22\"/>\n",
       "<text text-anchor=\"middle\" x=\"226\" y=\"-82.3\" font-family=\"Times,serif\" font-size=\"14.00\">1</text>\n",
       "</g>\n",
       "<!-- 1&#45;&gt;4 -->\n",
       "<g id=\"edge5\" class=\"edge\">\n",
       "<title>1&#45;&gt;4</title>\n",
       "<path fill=\"none\" stroke=\"black\" d=\"M212.84,-103.95C201.14,-120.12 182.13,-143.64 161,-159 138.4,-175.42 108.56,-187.22 87.38,-194.25\"/>\n",
       "<polygon fill=\"black\" stroke=\"black\" points=\"86.21,-190.95 77.74,-197.32 88.33,-197.62 86.21,-190.95\"/>\n",
       "<text text-anchor=\"middle\" x=\"143\" y=\"-182.8\" font-family=\"Times,serif\" font-size=\"14.00\">1</text>\n",
       "</g>\n",
       "<!-- 0&#45;&gt;1 -->\n",
       "<g id=\"edge3\" class=\"edge\">\n",
       "<title>0&#45;&gt;1</title>\n",
       "<path fill=\"none\" stroke=\"black\" d=\"M161.18,-86C170.61,-86 182.6,-86 193.64,-86\"/>\n",
       "<polygon fill=\"black\" stroke=\"black\" points=\"193.81,-89.5 203.81,-86 193.81,-82.5 193.81,-89.5\"/>\n",
       "<text text-anchor=\"middle\" x=\"182.5\" y=\"-89.8\" font-family=\"Times,serif\" font-size=\"14.00\">0</text>\n",
       "</g>\n",
       "<!-- 0&#45;&gt;0 -->\n",
       "<g id=\"edge4\" class=\"edge\">\n",
       "<title>0&#45;&gt;0</title>\n",
       "<path fill=\"none\" stroke=\"black\" d=\"M137.77,-103.48C134.06,-123.65 135.8,-147 143,-147 149.02,-147 151.22,-130.68 149.62,-113.55\"/>\n",
       "<polygon fill=\"black\" stroke=\"black\" points=\"153.06,-112.91 148.23,-103.48 146.13,-113.87 153.06,-112.91\"/>\n",
       "<text text-anchor=\"middle\" x=\"143\" y=\"-150.8\" font-family=\"Times,serif\" font-size=\"14.00\">0</text>\n",
       "</g>\n",
       "<!-- 0_init -->\n",
       "<g id=\"node4\" class=\"node\">\n",
       "<title>0_init</title>\n",
       "</g>\n",
       "<!-- 0_init&#45;&gt;0 -->\n",
       "<g id=\"edge1\" class=\"edge\">\n",
       "<title>0_init&#45;&gt;0</title>\n",
       "<path fill=\"none\" stroke=\"black\" d=\"M61.06,-110.98C62.57,-110.52 92.92,-101.15 116.02,-94.02\"/>\n",
       "<polygon fill=\"black\" stroke=\"black\" points=\"117.15,-97.33 125.68,-91.04 115.09,-90.64 117.15,-97.33\"/>\n",
       "</g>\n",
       "<!-- 3 -->\n",
       "<g id=\"node5\" class=\"node\">\n",
       "<title>3</title>\n",
       "<ellipse fill=\"none\" stroke=\"black\" cx=\"60\" cy=\"-22\" rx=\"18\" ry=\"18\"/>\n",
       "<ellipse fill=\"none\" stroke=\"black\" cx=\"60\" cy=\"-22\" rx=\"22\" ry=\"22\"/>\n",
       "<text text-anchor=\"middle\" x=\"60\" y=\"-18.3\" font-family=\"Times,serif\" font-size=\"14.00\">3</text>\n",
       "</g>\n",
       "<!-- 3&#45;&gt;1 -->\n",
       "<g id=\"edge7\" class=\"edge\">\n",
       "<title>3&#45;&gt;1</title>\n",
       "<path fill=\"none\" stroke=\"black\" d=\"M82.2,-20.25C103.08,-19.35 135.47,-20.21 161,-31 177.38,-37.92 192.62,-50.65 204.12,-62.12\"/>\n",
       "<polygon fill=\"black\" stroke=\"black\" points=\"201.65,-64.61 211.1,-69.4 206.7,-59.76 201.65,-64.61\"/>\n",
       "<text text-anchor=\"middle\" x=\"143\" y=\"-34.8\" font-family=\"Times,serif\" font-size=\"14.00\">1</text>\n",
       "</g>\n",
       "<!-- 3&#45;&gt;0 -->\n",
       "<g id=\"edge6\" class=\"edge\">\n",
       "<title>3&#45;&gt;0</title>\n",
       "<path fill=\"none\" stroke=\"black\" d=\"M77.78,-35.26C90.1,-44.99 106.93,-58.29 120.28,-68.83\"/>\n",
       "<polygon fill=\"black\" stroke=\"black\" points=\"118.44,-71.85 128.46,-75.3 122.78,-66.35 118.44,-71.85\"/>\n",
       "<text text-anchor=\"middle\" x=\"103.5\" y=\"-61.8\" font-family=\"Times,serif\" font-size=\"14.00\">0</text>\n",
       "</g>\n",
       "<!-- 3_init -->\n",
       "<g id=\"node6\" class=\"node\">\n",
       "<title>3_init</title>\n",
       "</g>\n",
       "<!-- 3_init&#45;&gt;3 -->\n",
       "<g id=\"edge2\" class=\"edge\">\n",
       "<title>3_init&#45;&gt;3</title>\n",
       "<path fill=\"none\" stroke=\"black\" d=\"M1.17,-22C2.72,-22 14.89,-22 27.67,-22\"/>\n",
       "<polygon fill=\"black\" stroke=\"black\" points=\"27.86,-25.5 37.86,-22 27.86,-18.5 27.86,-25.5\"/>\n",
       "</g>\n",
       "</g>\n",
       "</svg>\n"
      ],
      "text/plain": [
       "<graphviz.dot.Digraph at 0x7fe284598340>"
      ]
     },
     "execution_count": 5,
     "metadata": {},
     "output_type": "execute_result"
    }
   ],
   "source": [
    "nfa = NFA.from_random_matrix(sorted_nfas.iloc[2].matrix)\n",
    "nfa.plot()"
   ]
  },
  {
   "cell_type": "code",
   "execution_count": 6,
   "id": "c8100801",
   "metadata": {},
   "outputs": [
    {
     "data": {
      "image/svg+xml": [
       "<?xml version=\"1.0\" encoding=\"UTF-8\" standalone=\"no\"?>\n",
       "<!DOCTYPE svg PUBLIC \"-//W3C//DTD SVG 1.1//EN\"\n",
       " \"http://www.w3.org/Graphics/SVG/1.1/DTD/svg11.dtd\">\n",
       "<!-- Generated by graphviz version 2.43.0 (0)\n",
       " -->\n",
       "<!-- Title: NFA Pages: 1 -->\n",
       "<svg width=\"557pt\" height=\"201pt\"\n",
       " viewBox=\"0.00 0.00 557.47 200.90\" xmlns=\"http://www.w3.org/2000/svg\" xmlns:xlink=\"http://www.w3.org/1999/xlink\">\n",
       "<g id=\"graph0\" class=\"graph\" transform=\"scale(1 1) rotate(0) translate(4 196.9)\">\n",
       "<title>NFA</title>\n",
       "<polygon fill=\"white\" stroke=\"transparent\" points=\"-4,4 -4,-196.9 553.47,-196.9 553.47,4 -4,4\"/>\n",
       "<!-- (&#39;0&#39;, 3) -->\n",
       "<g id=\"node1\" class=\"node\">\n",
       "<title>(&#39;0&#39;, 3)</title>\n",
       "<ellipse fill=\"none\" stroke=\"black\" cx=\"399.03\" cy=\"-100.76\" rx=\"33.29\" ry=\"33.29\"/>\n",
       "<text text-anchor=\"middle\" x=\"399.03\" y=\"-97.06\" font-family=\"Times,serif\" font-size=\"14.00\">(&#39;0&#39;, 3)</text>\n",
       "</g>\n",
       "<!-- (&#39;1&#39;, 4) -->\n",
       "<g id=\"node6\" class=\"node\">\n",
       "<title>(&#39;1&#39;, 4)</title>\n",
       "<ellipse fill=\"none\" stroke=\"black\" cx=\"512.32\" cy=\"-100.76\" rx=\"33.28\" ry=\"33.28\"/>\n",
       "<ellipse fill=\"none\" stroke=\"black\" cx=\"512.32\" cy=\"-100.76\" rx=\"37.29\" ry=\"37.29\"/>\n",
       "<text text-anchor=\"middle\" x=\"512.32\" y=\"-97.06\" font-family=\"Times,serif\" font-size=\"14.00\">(&#39;1&#39;, 4)</text>\n",
       "</g>\n",
       "<!-- (&#39;0&#39;, 3)&#45;&gt;(&#39;1&#39;, 4) -->\n",
       "<g id=\"edge7\" class=\"edge\">\n",
       "<title>(&#39;0&#39;, 3)&#45;&gt;(&#39;1&#39;, 4)</title>\n",
       "<path fill=\"none\" stroke=\"black\" d=\"M432.22,-100.76C442.34,-100.76 453.73,-100.76 464.64,-100.76\"/>\n",
       "<polygon fill=\"black\" stroke=\"black\" points=\"464.9,-104.26 474.9,-100.76 464.9,-97.26 464.9,-104.26\"/>\n",
       "<text text-anchor=\"middle\" x=\"453.68\" y=\"-104.56\" font-family=\"Times,serif\" font-size=\"14.00\">0</text>\n",
       "</g>\n",
       "<!-- (&#39;3&#39;, 0) -->\n",
       "<g id=\"node2\" class=\"node\">\n",
       "<title>(&#39;3&#39;, 0)</title>\n",
       "<ellipse fill=\"none\" stroke=\"black\" cx=\"71.15\" cy=\"-159.76\" rx=\"33.29\" ry=\"33.29\"/>\n",
       "<text text-anchor=\"middle\" x=\"71.15\" y=\"-156.06\" font-family=\"Times,serif\" font-size=\"14.00\">(&#39;3&#39;, 0)</text>\n",
       "</g>\n",
       "<!-- (&#39;1&#39;, 1) -->\n",
       "<g id=\"node7\" class=\"node\">\n",
       "<title>(&#39;1&#39;, 1)</title>\n",
       "<ellipse fill=\"none\" stroke=\"black\" cx=\"180.44\" cy=\"-155.76\" rx=\"33.29\" ry=\"33.29\"/>\n",
       "<text text-anchor=\"middle\" x=\"180.44\" y=\"-152.06\" font-family=\"Times,serif\" font-size=\"14.00\">(&#39;1&#39;, 1)</text>\n",
       "</g>\n",
       "<!-- (&#39;3&#39;, 0)&#45;&gt;(&#39;1&#39;, 1) -->\n",
       "<g id=\"edge10\" class=\"edge\">\n",
       "<title>(&#39;3&#39;, 0)&#45;&gt;(&#39;1&#39;, 1)</title>\n",
       "<path fill=\"none\" stroke=\"black\" d=\"M104.34,-158.56C114.63,-158.17 126.18,-157.74 137.08,-157.34\"/>\n",
       "<polygon fill=\"black\" stroke=\"black\" points=\"137.41,-160.83 147.27,-156.96 137.15,-153.83 137.41,-160.83\"/>\n",
       "<text text-anchor=\"middle\" x=\"125.79\" y=\"-161.56\" font-family=\"Times,serif\" font-size=\"14.00\">1</text>\n",
       "</g>\n",
       "<!-- (&#39;0&#39;, 1) -->\n",
       "<g id=\"node10\" class=\"node\">\n",
       "<title>(&#39;0&#39;, 1)</title>\n",
       "<ellipse fill=\"none\" stroke=\"black\" cx=\"180.44\" cy=\"-46.76\" rx=\"33.29\" ry=\"33.29\"/>\n",
       "<text text-anchor=\"middle\" x=\"180.44\" y=\"-43.06\" font-family=\"Times,serif\" font-size=\"14.00\">(&#39;0&#39;, 1)</text>\n",
       "</g>\n",
       "<!-- (&#39;3&#39;, 0)&#45;&gt;(&#39;0&#39;, 1) -->\n",
       "<g id=\"edge9\" class=\"edge\">\n",
       "<title>(&#39;3&#39;, 0)&#45;&gt;(&#39;0&#39;, 1)</title>\n",
       "<path fill=\"none\" stroke=\"black\" d=\"M94.64,-136.07C110.66,-119.19 132.36,-96.34 149.8,-77.98\"/>\n",
       "<polygon fill=\"black\" stroke=\"black\" points=\"152.63,-80.08 156.98,-70.41 147.55,-75.26 152.63,-80.08\"/>\n",
       "<text text-anchor=\"middle\" x=\"125.79\" y=\"-110.56\" font-family=\"Times,serif\" font-size=\"14.00\">0</text>\n",
       "</g>\n",
       "<!-- (&#39;3&#39;, 0)_init -->\n",
       "<g id=\"node3\" class=\"node\">\n",
       "<title>(&#39;3&#39;, 0)_init</title>\n",
       "</g>\n",
       "<!-- (&#39;3&#39;, 0)_init&#45;&gt;(&#39;3&#39;, 0) -->\n",
       "<g id=\"edge1\" class=\"edge\">\n",
       "<title>(&#39;3&#39;, 0)_init&#45;&gt;(&#39;3&#39;, 0)</title>\n",
       "<path fill=\"none\" stroke=\"black\" d=\"M1.05,-159.76C1.92,-159.76 13.96,-159.76 27.76,-159.76\"/>\n",
       "<polygon fill=\"black\" stroke=\"black\" points=\"27.98,-163.26 37.98,-159.76 27.98,-156.26 27.98,-163.26\"/>\n",
       "</g>\n",
       "<!-- (&#39;0&#39;, 0) -->\n",
       "<g id=\"node4\" class=\"node\">\n",
       "<title>(&#39;0&#39;, 0)</title>\n",
       "<ellipse fill=\"none\" stroke=\"black\" cx=\"71.15\" cy=\"-42.76\" rx=\"33.29\" ry=\"33.29\"/>\n",
       "<text text-anchor=\"middle\" x=\"71.15\" y=\"-39.06\" font-family=\"Times,serif\" font-size=\"14.00\">(&#39;0&#39;, 0)</text>\n",
       "</g>\n",
       "<!-- (&#39;0&#39;, 0)&#45;&gt;(&#39;1&#39;, 1) -->\n",
       "<g id=\"edge3\" class=\"edge\">\n",
       "<title>(&#39;0&#39;, 0)&#45;&gt;(&#39;1&#39;, 1)</title>\n",
       "<path fill=\"none\" stroke=\"black\" d=\"M103.59,-50.13C112.68,-53.44 122.09,-58.14 129.29,-64.76 142.76,-77.12 138.61,-85.66 147.29,-101.76 150.35,-107.43 153.71,-113.36 157.07,-119.12\"/>\n",
       "<polygon fill=\"black\" stroke=\"black\" points=\"154.21,-121.15 162.3,-127.99 160.23,-117.6 154.21,-121.15\"/>\n",
       "<text text-anchor=\"middle\" x=\"125.79\" y=\"-68.56\" font-family=\"Times,serif\" font-size=\"14.00\">0</text>\n",
       "</g>\n",
       "<!-- (&#39;0&#39;, 0)&#45;&gt;(&#39;0&#39;, 1) -->\n",
       "<g id=\"edge4\" class=\"edge\">\n",
       "<title>(&#39;0&#39;, 0)&#45;&gt;(&#39;0&#39;, 1)</title>\n",
       "<path fill=\"none\" stroke=\"black\" d=\"M91.55,-16.17C101.97,-5.34 115.5,3.53 129.29,-1.76 136.98,-4.7 144.22,-9.42 150.69,-14.72\"/>\n",
       "<polygon fill=\"black\" stroke=\"black\" points=\"148.65,-17.59 158.44,-21.65 153.32,-12.38 148.65,-17.59\"/>\n",
       "<text text-anchor=\"middle\" x=\"125.79\" y=\"-5.56\" font-family=\"Times,serif\" font-size=\"14.00\">0</text>\n",
       "</g>\n",
       "<!-- (&#39;0&#39;, 0)_init -->\n",
       "<g id=\"node5\" class=\"node\">\n",
       "<title>(&#39;0&#39;, 0)_init</title>\n",
       "</g>\n",
       "<!-- (&#39;0&#39;, 0)_init&#45;&gt;(&#39;0&#39;, 0) -->\n",
       "<g id=\"edge2\" class=\"edge\">\n",
       "<title>(&#39;0&#39;, 0)_init&#45;&gt;(&#39;0&#39;, 0)</title>\n",
       "<path fill=\"none\" stroke=\"black\" d=\"M1.05,-42.76C1.92,-42.76 13.96,-42.76 27.76,-42.76\"/>\n",
       "<polygon fill=\"black\" stroke=\"black\" points=\"27.98,-46.26 37.98,-42.76 27.98,-39.26 27.98,-46.26\"/>\n",
       "</g>\n",
       "<!-- (&#39;4&#39;, 2) -->\n",
       "<g id=\"node8\" class=\"node\">\n",
       "<title>(&#39;4&#39;, 2)</title>\n",
       "<ellipse fill=\"none\" stroke=\"black\" cx=\"289.74\" cy=\"-155.76\" rx=\"33.29\" ry=\"33.29\"/>\n",
       "<text text-anchor=\"middle\" x=\"289.74\" y=\"-152.06\" font-family=\"Times,serif\" font-size=\"14.00\">(&#39;4&#39;, 2)</text>\n",
       "</g>\n",
       "<!-- (&#39;1&#39;, 1)&#45;&gt;(&#39;4&#39;, 2) -->\n",
       "<g id=\"edge8\" class=\"edge\">\n",
       "<title>(&#39;1&#39;, 1)&#45;&gt;(&#39;4&#39;, 2)</title>\n",
       "<path fill=\"none\" stroke=\"black\" d=\"M213.63,-155.76C223.92,-155.76 235.48,-155.76 246.38,-155.76\"/>\n",
       "<polygon fill=\"black\" stroke=\"black\" points=\"246.57,-159.26 256.57,-155.76 246.57,-152.26 246.57,-159.26\"/>\n",
       "<text text-anchor=\"middle\" x=\"235.09\" y=\"-159.56\" font-family=\"Times,serif\" font-size=\"14.00\">1</text>\n",
       "</g>\n",
       "<!-- (&#39;4&#39;, 2)&#45;&gt;(&#39;0&#39;, 3) -->\n",
       "<g id=\"edge11\" class=\"edge\">\n",
       "<title>(&#39;4&#39;, 2)&#45;&gt;(&#39;0&#39;, 3)</title>\n",
       "<path fill=\"none\" stroke=\"black\" d=\"M319.49,-141.02C332,-134.61 346.82,-127.01 360.21,-120.14\"/>\n",
       "<polygon fill=\"black\" stroke=\"black\" points=\"361.89,-123.21 369.2,-115.54 358.7,-116.98 361.89,-123.21\"/>\n",
       "<text text-anchor=\"middle\" x=\"344.38\" y=\"-133.56\" font-family=\"Times,serif\" font-size=\"14.00\">1</text>\n",
       "</g>\n",
       "<!-- (&#39;0&#39;, 2) -->\n",
       "<g id=\"node9\" class=\"node\">\n",
       "<title>(&#39;0&#39;, 2)</title>\n",
       "<ellipse fill=\"none\" stroke=\"black\" cx=\"289.74\" cy=\"-46.76\" rx=\"33.29\" ry=\"33.29\"/>\n",
       "<text text-anchor=\"middle\" x=\"289.74\" y=\"-43.06\" font-family=\"Times,serif\" font-size=\"14.00\">(&#39;0&#39;, 2)</text>\n",
       "</g>\n",
       "<!-- (&#39;0&#39;, 2)&#45;&gt;(&#39;0&#39;, 3) -->\n",
       "<g id=\"edge6\" class=\"edge\">\n",
       "<title>(&#39;0&#39;, 2)&#45;&gt;(&#39;0&#39;, 3)</title>\n",
       "<path fill=\"none\" stroke=\"black\" d=\"M319.77,-61.37C332.06,-67.55 346.54,-74.84 359.69,-81.46\"/>\n",
       "<polygon fill=\"black\" stroke=\"black\" points=\"358.46,-84.76 368.97,-86.13 361.61,-78.51 358.46,-84.76\"/>\n",
       "<text text-anchor=\"middle\" x=\"344.38\" y=\"-79.56\" font-family=\"Times,serif\" font-size=\"14.00\">0</text>\n",
       "</g>\n",
       "<!-- (&#39;0&#39;, 1)&#45;&gt;(&#39;0&#39;, 2) -->\n",
       "<g id=\"edge5\" class=\"edge\">\n",
       "<title>(&#39;0&#39;, 1)&#45;&gt;(&#39;0&#39;, 2)</title>\n",
       "<path fill=\"none\" stroke=\"black\" d=\"M213.63,-46.76C223.92,-46.76 235.48,-46.76 246.38,-46.76\"/>\n",
       "<polygon fill=\"black\" stroke=\"black\" points=\"246.57,-50.26 256.57,-46.76 246.57,-43.26 246.57,-50.26\"/>\n",
       "<text text-anchor=\"middle\" x=\"235.09\" y=\"-50.56\" font-family=\"Times,serif\" font-size=\"14.00\">0</text>\n",
       "</g>\n",
       "</g>\n",
       "</svg>\n"
      ],
      "text/plain": [
       "<graphviz.dot.Digraph at 0x7fe224071250>"
      ]
     },
     "execution_count": 6,
     "metadata": {},
     "output_type": "execute_result"
    }
   ],
   "source": [
    "nfa.unroll(4).plot()"
   ]
  },
  {
   "cell_type": "code",
   "execution_count": 7,
   "id": "478485d5",
   "metadata": {},
   "outputs": [
    {
     "data": {
      "text/plain": [
       "{'states': {('0', 0),\n",
       "  ('0', 1),\n",
       "  ('0', 2),\n",
       "  ('0', 3),\n",
       "  ('1', 1),\n",
       "  ('1', 4),\n",
       "  ('3', 0),\n",
       "  ('4', 2)},\n",
       " 'input_symbols': {'0', '1'},\n",
       " 'transitions': {('0', 0): {'0': {('0', 1), ('1', 1)}},\n",
       "  ('0', 1): {'0': {('0', 2)}},\n",
       "  ('0', 2): {'0': {('0', 3)}},\n",
       "  ('0', 3): {'0': {('1', 4)}},\n",
       "  ('1', 1): {'1': {('4', 2)}},\n",
       "  ('3', 0): {'0': {('0', 1)}, '1': {('1', 1)}},\n",
       "  ('4', 2): {'1': {('0', 3)}}},\n",
       " 'initial_states': {('0', 0), ('3', 0)},\n",
       " 'final_states': {('1', 4)},\n",
       " 'states_by_layer': {3: {('0', 3)},\n",
       "  0: {('0', 0), ('3', 0)},\n",
       "  4: {('1', 4)},\n",
       "  1: {('0', 1), ('1', 1)},\n",
       "  2: {('0', 2), ('4', 2)}},\n",
       " 'sketch': defaultdict(dict, {}),\n",
       " 'n_for_sets': {},\n",
       " 'n_for_states': {},\n",
       " 's_for_states': defaultdict(collections.Counter, {}),\n",
       " 'reverse_transitions': {('1', 1): {'0': {('0', 0)}, '1': {('3', 0)}},\n",
       "  ('0', 1): {'0': {('0', 0), ('3', 0)}},\n",
       "  ('0', 2): {'0': {('0', 1)}},\n",
       "  ('0', 3): {'0': {('0', 2)}, '1': {('4', 2)}},\n",
       "  ('1', 4): {'0': {('0', 3)}},\n",
       "  ('4', 2): {'1': {('1', 1)}}},\n",
       " 'sorted_symbols': ['0', '1']}"
      ]
     },
     "execution_count": 7,
     "metadata": {},
     "output_type": "execute_result"
    }
   ],
   "source": [
    "nfa.unroll(4).__dict__"
   ]
  },
  {
   "cell_type": "code",
   "execution_count": 9,
   "id": "be7d9575",
   "metadata": {},
   "outputs": [
    {
     "name": "stdout",
     "output_type": "stream",
     "text": [
      "Retries per sample 252090\n",
      "Sample size 32\n"
     ]
    },
    {
     "data": {
      "application/vnd.jupyter.widget-view+json": {
       "model_id": "79abdade832947468ac10d28090a823b",
       "version_major": 2,
       "version_minor": 0
      },
      "text/plain": [
       "Layer:   0%|          | 0/4 [00:00<?, ?it/s]"
      ]
     },
     "metadata": {},
     "output_type": "display_data"
    },
    {
     "data": {
      "application/vnd.jupyter.widget-view+json": {
       "model_id": "",
       "version_major": 2,
       "version_minor": 0
      },
      "text/plain": [
       "State at layer 1:   0%|          | 0/2 [00:00<?, ?it/s]"
      ]
     },
     "metadata": {},
     "output_type": "display_data"
    },
    {
     "data": {
      "application/vnd.jupyter.widget-view+json": {
       "model_id": "",
       "version_major": 2,
       "version_minor": 0
      },
      "text/plain": [
       "Sampling:   0%|          | 0/32 [00:00<?, ?it/s]"
      ]
     },
     "metadata": {},
     "output_type": "display_data"
    },
    {
     "data": {
      "application/vnd.jupyter.widget-view+json": {
       "model_id": "",
       "version_major": 2,
       "version_minor": 0
      },
      "text/plain": [
       "Sampling:   0%|          | 0/32 [00:00<?, ?it/s]"
      ]
     },
     "metadata": {},
     "output_type": "display_data"
    },
    {
     "data": {
      "application/vnd.jupyter.widget-view+json": {
       "model_id": "",
       "version_major": 2,
       "version_minor": 0
      },
      "text/plain": [
       "State at layer 2:   0%|          | 0/2 [00:00<?, ?it/s]"
      ]
     },
     "metadata": {},
     "output_type": "display_data"
    },
    {
     "data": {
      "application/vnd.jupyter.widget-view+json": {
       "model_id": "",
       "version_major": 2,
       "version_minor": 0
      },
      "text/plain": [
       "Sampling:   0%|          | 0/32 [00:00<?, ?it/s]"
      ]
     },
     "metadata": {},
     "output_type": "display_data"
    },
    {
     "data": {
      "application/vnd.jupyter.widget-view+json": {
       "model_id": "",
       "version_major": 2,
       "version_minor": 0
      },
      "text/plain": [
       "Sampling:   0%|          | 0/32 [00:00<?, ?it/s]"
      ]
     },
     "metadata": {},
     "output_type": "display_data"
    },
    {
     "data": {
      "application/vnd.jupyter.widget-view+json": {
       "model_id": "",
       "version_major": 2,
       "version_minor": 0
      },
      "text/plain": [
       "State at layer 3:   0%|          | 0/1 [00:00<?, ?it/s]"
      ]
     },
     "metadata": {},
     "output_type": "display_data"
    },
    {
     "data": {
      "application/vnd.jupyter.widget-view+json": {
       "model_id": "",
       "version_major": 2,
       "version_minor": 0
      },
      "text/plain": [
       "Sampling:   0%|          | 0/32 [00:00<?, ?it/s]"
      ]
     },
     "metadata": {},
     "output_type": "display_data"
    },
    {
     "data": {
      "application/vnd.jupyter.widget-view+json": {
       "model_id": "",
       "version_major": 2,
       "version_minor": 0
      },
      "text/plain": [
       "State at layer 4:   0%|          | 0/1 [00:00<?, ?it/s]"
      ]
     },
     "metadata": {},
     "output_type": "display_data"
    },
    {
     "data": {
      "application/vnd.jupyter.widget-view+json": {
       "model_id": "",
       "version_major": 2,
       "version_minor": 0
      },
      "text/plain": [
       "Sampling:   0%|          | 0/32 [00:00<?, ?it/s]"
      ]
     },
     "metadata": {},
     "output_type": "display_data"
    },
    {
     "data": {
      "text/plain": [
       "(3.0, <nfa_lib.NFA at 0x7fe224071340>)"
      ]
     },
     "execution_count": 9,
     "metadata": {},
     "output_type": "execute_result"
    }
   ],
   "source": [
    "count_nfa(nfa=nfa, n=4, eps=1, kappa_multiple=1)"
   ]
  },
  {
   "cell_type": "code",
   "execution_count": 3,
   "id": "d9baa8c8",
   "metadata": {},
   "outputs": [],
   "source": [
    "with open(\"large_error_stats.pkl\", \"rb\") as fd:\n",
    "    results = pickle.load(fd)"
   ]
  },
  {
   "cell_type": "code",
   "execution_count": 9,
   "id": "de083573",
   "metadata": {},
   "outputs": [],
   "source": [
    "df_kappa = pd.DataFrame(results)"
   ]
  },
  {
   "cell_type": "code",
   "execution_count": 13,
   "id": "778b3191",
   "metadata": {},
   "outputs": [],
   "source": [
    "from nfa_lib import ddict2dict"
   ]
  },
  {
   "cell_type": "code",
   "execution_count": 16,
   "id": "ed60a49b",
   "metadata": {},
   "outputs": [],
   "source": [
    "df_kappa[\"transtr\"] = df.transitions.map(lambda x: str(x))"
   ]
  },
  {
   "cell_type": "code",
   "execution_count": 23,
   "id": "63f23fcc",
   "metadata": {
    "scrolled": false
   },
   "outputs": [
    {
     "data": {
      "text/html": [
       "<div>\n",
       "<style scoped>\n",
       "    .dataframe tbody tr th:only-of-type {\n",
       "        vertical-align: middle;\n",
       "    }\n",
       "\n",
       "    .dataframe tbody tr th {\n",
       "        vertical-align: top;\n",
       "    }\n",
       "\n",
       "    .dataframe thead th {\n",
       "        text-align: right;\n",
       "    }\n",
       "</style>\n",
       "<table border=\"1\" class=\"dataframe\">\n",
       "  <thead>\n",
       "    <tr style=\"text-align: right;\">\n",
       "      <th></th>\n",
       "      <th>n_states</th>\n",
       "      <th>initial_states</th>\n",
       "      <th>final_states</th>\n",
       "      <th>transitions</th>\n",
       "      <th>string_len</th>\n",
       "      <th>bruteforce</th>\n",
       "      <th>estimate</th>\n",
       "      <th>kappa_multiple</th>\n",
       "      <th>time</th>\n",
       "      <th>transtr</th>\n",
       "    </tr>\n",
       "  </thead>\n",
       "  <tbody>\n",
       "  </tbody>\n",
       "</table>\n",
       "</div>"
      ],
      "text/plain": [
       "Empty DataFrame\n",
       "Columns: [n_states, initial_states, final_states, transitions, string_len, bruteforce, estimate, kappa_multiple, time, transtr]\n",
       "Index: []"
      ]
     },
     "execution_count": 23,
     "metadata": {},
     "output_type": "execute_result"
    }
   ],
   "source": [
    "df_kappa[df_kappa.kappa_multiple == 256].iloc[40:50]"
   ]
  },
  {
   "cell_type": "code",
   "execution_count": 4,
   "id": "e078b69e",
   "metadata": {},
   "outputs": [],
   "source": [
    "def cycle_height(row):\n",
    "    nfa = instantiate_nfa(row)\n",
    "    return nfa.cycle_height()\n"
   ]
  },
  {
   "cell_type": "code",
   "execution_count": 5,
   "id": "49e57b10",
   "metadata": {},
   "outputs": [],
   "source": [
    "df[\"cycle_height\"] = df.apply(cycle_height, axis=1)"
   ]
  },
  {
   "cell_type": "code",
   "execution_count": 21,
   "id": "383510c6",
   "metadata": {},
   "outputs": [
    {
     "data": {
      "text/html": [
       "<div>\n",
       "<style scoped>\n",
       "    .dataframe tbody tr th:only-of-type {\n",
       "        vertical-align: middle;\n",
       "    }\n",
       "\n",
       "    .dataframe tbody tr th {\n",
       "        vertical-align: top;\n",
       "    }\n",
       "\n",
       "    .dataframe thead th {\n",
       "        text-align: right;\n",
       "    }\n",
       "</style>\n",
       "<table border=\"1\" class=\"dataframe\">\n",
       "  <thead>\n",
       "    <tr style=\"text-align: right;\">\n",
       "      <th></th>\n",
       "      <th>n_states</th>\n",
       "      <th>initial_states</th>\n",
       "      <th>final_states</th>\n",
       "      <th>transitions</th>\n",
       "      <th>string_n</th>\n",
       "      <th>bruteforce</th>\n",
       "      <th>estimate</th>\n",
       "      <th>eps</th>\n",
       "      <th>time</th>\n",
       "      <th>rel_error</th>\n",
       "      <th>cycle_height</th>\n",
       "    </tr>\n",
       "  </thead>\n",
       "  <tbody>\n",
       "    <tr>\n",
       "      <th>155</th>\n",
       "      <td>5</td>\n",
       "      <td>{q3, q1, q0}</td>\n",
       "      <td>{q4, q2}</td>\n",
       "      <td>{'q0': {'0': {'q0', 'q2'}, '1': {'q4'}}, 'q1':...</td>\n",
       "      <td>14</td>\n",
       "      <td>16384</td>\n",
       "      <td>910667.905438</td>\n",
       "      <td>54</td>\n",
       "      <td>3016.351845</td>\n",
       "      <td>54.582758</td>\n",
       "      <td>inf</td>\n",
       "    </tr>\n",
       "    <tr>\n",
       "      <th>250</th>\n",
       "      <td>5</td>\n",
       "      <td>{q3, q0, q4, q2}</td>\n",
       "      <td>{q0, q1, q4, q2}</td>\n",
       "      <td>{'q0': {'1': {'q3', 'q4'}, '0': {'q3'}}, 'q1':...</td>\n",
       "      <td>14</td>\n",
       "      <td>6256</td>\n",
       "      <td>346126.976953</td>\n",
       "      <td>28</td>\n",
       "      <td>5106.766545</td>\n",
       "      <td>54.327202</td>\n",
       "      <td>inf</td>\n",
       "    </tr>\n",
       "    <tr>\n",
       "      <th>185</th>\n",
       "      <td>4</td>\n",
       "      <td>{q3}</td>\n",
       "      <td>{q3, q2}</td>\n",
       "      <td>{'q0': {'1': {'q1'}, '0': {'q3', 'q1', 'q2'}},...</td>\n",
       "      <td>10</td>\n",
       "      <td>1024</td>\n",
       "      <td>25935.479221</td>\n",
       "      <td>43</td>\n",
       "      <td>391.159397</td>\n",
       "      <td>24.327616</td>\n",
       "      <td>inf</td>\n",
       "    </tr>\n",
       "    <tr>\n",
       "      <th>439</th>\n",
       "      <td>9</td>\n",
       "      <td>{q8}</td>\n",
       "      <td>{q8, q6}</td>\n",
       "      <td>{'q0': {'1': {'q4', 'q6'}, '0': {'q7'}}, 'q1':...</td>\n",
       "      <td>8</td>\n",
       "      <td>256</td>\n",
       "      <td>4075.632130</td>\n",
       "      <td>88</td>\n",
       "      <td>470.697020</td>\n",
       "      <td>14.920438</td>\n",
       "      <td>inf</td>\n",
       "    </tr>\n",
       "  </tbody>\n",
       "</table>\n",
       "</div>"
      ],
      "text/plain": [
       "     n_states    initial_states      final_states  \\\n",
       "155         5      {q3, q1, q0}          {q4, q2}   \n",
       "250         5  {q3, q0, q4, q2}  {q0, q1, q4, q2}   \n",
       "185         4              {q3}          {q3, q2}   \n",
       "439         9              {q8}          {q8, q6}   \n",
       "\n",
       "                                           transitions  string_n  bruteforce  \\\n",
       "155  {'q0': {'0': {'q0', 'q2'}, '1': {'q4'}}, 'q1':...        14       16384   \n",
       "250  {'q0': {'1': {'q3', 'q4'}, '0': {'q3'}}, 'q1':...        14        6256   \n",
       "185  {'q0': {'1': {'q1'}, '0': {'q3', 'q1', 'q2'}},...        10        1024   \n",
       "439  {'q0': {'1': {'q4', 'q6'}, '0': {'q7'}}, 'q1':...         8         256   \n",
       "\n",
       "          estimate  eps         time  rel_error  cycle_height  \n",
       "155  910667.905438   54  3016.351845  54.582758           inf  \n",
       "250  346126.976953   28  5106.766545  54.327202           inf  \n",
       "185   25935.479221   43   391.159397  24.327616           inf  \n",
       "439    4075.632130   88   470.697020  14.920438           inf  "
      ]
     },
     "execution_count": 21,
     "metadata": {},
     "output_type": "execute_result"
    }
   ],
   "source": [
    "df.sort_values(by=\"rel_error\", ascending=False).head(4)"
   ]
  },
  {
   "cell_type": "code",
   "execution_count": 23,
   "id": "c87a1191",
   "metadata": {},
   "outputs": [
    {
     "data": {
      "image/svg+xml": [
       "<?xml version=\"1.0\" encoding=\"UTF-8\" standalone=\"no\"?>\n",
       "<!DOCTYPE svg PUBLIC \"-//W3C//DTD SVG 1.1//EN\"\n",
       " \"http://www.w3.org/Graphics/SVG/1.1/DTD/svg11.dtd\">\n",
       "<!-- Generated by graphviz version 2.43.0 (0)\n",
       " -->\n",
       "<!-- Title: NFA Pages: 1 -->\n",
       "<svg width=\"355pt\" height=\"509pt\"\n",
       " viewBox=\"0.00 0.00 354.99 509.00\" xmlns=\"http://www.w3.org/2000/svg\" xmlns:xlink=\"http://www.w3.org/1999/xlink\">\n",
       "<g id=\"graph0\" class=\"graph\" transform=\"scale(1 1) rotate(0) translate(4 505)\">\n",
       "<title>NFA</title>\n",
       "<polygon fill=\"white\" stroke=\"transparent\" points=\"-4,4 -4,-505 350.99,-505 350.99,4 -4,4\"/>\n",
       "<!-- q3 -->\n",
       "<g id=\"node1\" class=\"node\">\n",
       "<title>q3</title>\n",
       "<ellipse fill=\"none\" stroke=\"black\" cx=\"57.5\" cy=\"-259.5\" rx=\"19.5\" ry=\"19.5\"/>\n",
       "<text text-anchor=\"middle\" x=\"57.5\" y=\"-255.8\" font-family=\"Times,serif\" font-size=\"14.00\">q3</text>\n",
       "</g>\n",
       "<!-- q3&#45;&gt;q3 -->\n",
       "<g id=\"edge18\" class=\"edge\">\n",
       "<title>q3&#45;&gt;q3</title>\n",
       "<path fill=\"none\" stroke=\"black\" d=\"M52.38,-278.37C49.08,-298.8 50.78,-322 57.5,-322 63.11,-322 65.22,-305.79 63.84,-288.54\"/>\n",
       "<polygon fill=\"black\" stroke=\"black\" points=\"67.28,-287.89 62.61,-278.37 60.33,-288.72 67.28,-287.89\"/>\n",
       "<text text-anchor=\"middle\" x=\"57.5\" y=\"-325.8\" font-family=\"Times,serif\" font-size=\"14.00\">0</text>\n",
       "</g>\n",
       "<!-- q2 -->\n",
       "<g id=\"node5\" class=\"node\">\n",
       "<title>q2</title>\n",
       "<ellipse fill=\"none\" stroke=\"black\" cx=\"143.49\" cy=\"-89.5\" rx=\"19.5\" ry=\"19.5\"/>\n",
       "<ellipse fill=\"none\" stroke=\"black\" cx=\"143.49\" cy=\"-89.5\" rx=\"23.5\" ry=\"23.5\"/>\n",
       "<text text-anchor=\"middle\" x=\"143.49\" y=\"-85.8\" font-family=\"Times,serif\" font-size=\"14.00\">q2</text>\n",
       "</g>\n",
       "<!-- q3&#45;&gt;q2 -->\n",
       "<g id=\"edge15\" class=\"edge\">\n",
       "<title>q3&#45;&gt;q2</title>\n",
       "<path fill=\"none\" stroke=\"black\" d=\"M59.14,-239.86C61.07,-195.08 68.42,-87.54 95,-65.5 101.89,-59.78 110.37,-61.84 118.25,-66.6\"/>\n",
       "<polygon fill=\"black\" stroke=\"black\" points=\"116.32,-69.52 126.47,-72.58 120.45,-63.86 116.32,-69.52\"/>\n",
       "<text text-anchor=\"middle\" x=\"98.5\" y=\"-69.3\" font-family=\"Times,serif\" font-size=\"14.00\">0</text>\n",
       "</g>\n",
       "<!-- q3&#45;&gt;q2 -->\n",
       "<g id=\"edge17\" class=\"edge\">\n",
       "<title>q3&#45;&gt;q2</title>\n",
       "<path fill=\"none\" stroke=\"black\" d=\"M67.01,-242.26C81.23,-213.48 109.99,-155.29 127.61,-119.62\"/>\n",
       "<polygon fill=\"black\" stroke=\"black\" points=\"130.97,-120.72 132.27,-110.2 124.7,-117.62 130.97,-120.72\"/>\n",
       "<text text-anchor=\"middle\" x=\"98.5\" y=\"-189.3\" font-family=\"Times,serif\" font-size=\"14.00\">1</text>\n",
       "</g>\n",
       "<!-- q1 -->\n",
       "<g id=\"node7\" class=\"node\">\n",
       "<title>q1</title>\n",
       "<ellipse fill=\"none\" stroke=\"black\" cx=\"323.49\" cy=\"-282.5\" rx=\"19.5\" ry=\"19.5\"/>\n",
       "<ellipse fill=\"none\" stroke=\"black\" cx=\"323.49\" cy=\"-282.5\" rx=\"23.5\" ry=\"23.5\"/>\n",
       "<text text-anchor=\"middle\" x=\"323.49\" y=\"-278.8\" font-family=\"Times,serif\" font-size=\"14.00\">q1</text>\n",
       "</g>\n",
       "<!-- q3&#45;&gt;q1 -->\n",
       "<g id=\"edge13\" class=\"edge\">\n",
       "<title>q3&#45;&gt;q1</title>\n",
       "<path fill=\"none\" stroke=\"black\" d=\"M68.55,-275.79C79.13,-291.09 97.38,-312.74 120,-320.5 177.59,-340.26 198.28,-337.65 256.99,-321.5 270.78,-317.7 284.61,-310.16 295.98,-302.71\"/>\n",
       "<polygon fill=\"black\" stroke=\"black\" points=\"298.27,-305.38 304.52,-296.83 294.3,-299.62 298.27,-305.38\"/>\n",
       "<text text-anchor=\"middle\" x=\"188.49\" y=\"-337.3\" font-family=\"Times,serif\" font-size=\"14.00\">0</text>\n",
       "</g>\n",
       "<!-- q3&#45;&gt;q1 -->\n",
       "<g id=\"edge16\" class=\"edge\">\n",
       "<title>q3&#45;&gt;q1</title>\n",
       "<path fill=\"none\" stroke=\"black\" d=\"M62.76,-278.7C69.65,-304.12 86.06,-347.07 120,-358.5 177.7,-377.94 198.08,-373.87 256.99,-358.5 280.02,-352.49 297.12,-331.24 308.07,-312.74\"/>\n",
       "<polygon fill=\"black\" stroke=\"black\" points=\"311.15,-314.4 312.95,-303.95 305.03,-311 311.15,-314.4\"/>\n",
       "<text text-anchor=\"middle\" x=\"188.49\" y=\"-375.3\" font-family=\"Times,serif\" font-size=\"14.00\">1</text>\n",
       "</g>\n",
       "<!-- q0 -->\n",
       "<g id=\"node8\" class=\"node\">\n",
       "<title>q0</title>\n",
       "<ellipse fill=\"none\" stroke=\"black\" cx=\"143.49\" cy=\"-231.5\" rx=\"19.5\" ry=\"19.5\"/>\n",
       "<ellipse fill=\"none\" stroke=\"black\" cx=\"143.49\" cy=\"-231.5\" rx=\"23.5\" ry=\"23.5\"/>\n",
       "<text text-anchor=\"middle\" x=\"143.49\" y=\"-227.8\" font-family=\"Times,serif\" font-size=\"14.00\">q0</text>\n",
       "</g>\n",
       "<!-- q3&#45;&gt;q0 -->\n",
       "<g id=\"edge14\" class=\"edge\">\n",
       "<title>q3&#45;&gt;q0</title>\n",
       "<path fill=\"none\" stroke=\"black\" d=\"M68.88,-243.14C75.27,-234.67 84.28,-225.15 95,-220.5 100.34,-218.18 106.23,-217.91 112,-218.74\"/>\n",
       "<polygon fill=\"black\" stroke=\"black\" points=\"111.56,-222.23 122.1,-221.23 113.24,-215.44 111.56,-222.23\"/>\n",
       "<text text-anchor=\"middle\" x=\"98.5\" y=\"-224.3\" font-family=\"Times,serif\" font-size=\"14.00\">0</text>\n",
       "</g>\n",
       "<!-- q3_init -->\n",
       "<g id=\"node2\" class=\"node\">\n",
       "<title>q3_init</title>\n",
       "</g>\n",
       "<!-- q3_init&#45;&gt;q3 -->\n",
       "<g id=\"edge1\" class=\"edge\">\n",
       "<title>q3_init&#45;&gt;q3</title>\n",
       "<path fill=\"none\" stroke=\"black\" d=\"M1.16,-259.5C2.69,-259.5 15.09,-259.5 27.76,-259.5\"/>\n",
       "<polygon fill=\"black\" stroke=\"black\" points=\"27.78,-263 37.78,-259.5 27.78,-256 27.78,-263\"/>\n",
       "</g>\n",
       "<!-- q4 -->\n",
       "<g id=\"node3\" class=\"node\">\n",
       "<title>q4</title>\n",
       "<ellipse fill=\"none\" stroke=\"black\" cx=\"233.49\" cy=\"-243.5\" rx=\"19.5\" ry=\"19.5\"/>\n",
       "<ellipse fill=\"none\" stroke=\"black\" cx=\"233.49\" cy=\"-243.5\" rx=\"23.5\" ry=\"23.5\"/>\n",
       "<text text-anchor=\"middle\" x=\"233.49\" y=\"-239.8\" font-family=\"Times,serif\" font-size=\"14.00\">q4</text>\n",
       "</g>\n",
       "<!-- q4&#45;&gt;q4 -->\n",
       "<g id=\"edge21\" class=\"edge\">\n",
       "<title>q4&#45;&gt;q4</title>\n",
       "<path fill=\"none\" stroke=\"black\" d=\"M226.76,-266.33C223.39,-287.34 225.63,-310 233.49,-310 240.06,-310 242.71,-294.17 241.43,-276.7\"/>\n",
       "<polygon fill=\"black\" stroke=\"black\" points=\"244.85,-275.86 240.22,-266.33 237.9,-276.67 244.85,-275.86\"/>\n",
       "<text text-anchor=\"middle\" x=\"233.49\" y=\"-313.8\" font-family=\"Times,serif\" font-size=\"14.00\">1</text>\n",
       "</g>\n",
       "<!-- q4&#45;&gt;q1 -->\n",
       "<g id=\"edge19\" class=\"edge\">\n",
       "<title>q4&#45;&gt;q1</title>\n",
       "<path fill=\"none\" stroke=\"black\" d=\"M250.4,-226.69C259.67,-219 271.54,-212.75 281.99,-218.5 294.84,-225.58 304.18,-238.64 310.63,-251.13\"/>\n",
       "<polygon fill=\"black\" stroke=\"black\" points=\"307.59,-252.89 315.01,-260.46 313.93,-249.92 307.59,-252.89\"/>\n",
       "<text text-anchor=\"middle\" x=\"278.49\" y=\"-222.3\" font-family=\"Times,serif\" font-size=\"14.00\">1</text>\n",
       "</g>\n",
       "<!-- q4&#45;&gt;q1 -->\n",
       "<g id=\"edge20\" class=\"edge\">\n",
       "<title>q4&#45;&gt;q1</title>\n",
       "<path fill=\"none\" stroke=\"black\" d=\"M253.78,-256.15C260.34,-260.12 267.83,-264.3 274.99,-267.5 279.9,-269.69 285.22,-271.71 290.47,-273.5\"/>\n",
       "<polygon fill=\"black\" stroke=\"black\" points=\"289.75,-276.94 300.34,-276.65 291.89,-270.27 289.75,-276.94\"/>\n",
       "<text text-anchor=\"middle\" x=\"278.49\" y=\"-273.3\" font-family=\"Times,serif\" font-size=\"14.00\">0</text>\n",
       "</g>\n",
       "<!-- q4_init -->\n",
       "<g id=\"node4\" class=\"node\">\n",
       "<title>q4_init</title>\n",
       "</g>\n",
       "<!-- q4_init&#45;&gt;q4 -->\n",
       "<g id=\"edge2\" class=\"edge\">\n",
       "<title>q4_init&#45;&gt;q4</title>\n",
       "<path fill=\"none\" stroke=\"black\" d=\"M144.56,-298.46C146.21,-297.43 179.45,-276.65 204.58,-260.95\"/>\n",
       "<polygon fill=\"black\" stroke=\"black\" points=\"206.44,-263.91 213.06,-255.64 202.73,-257.97 206.44,-263.91\"/>\n",
       "</g>\n",
       "<!-- q2&#45;&gt;q4 -->\n",
       "<g id=\"edge10\" class=\"edge\">\n",
       "<title>q2&#45;&gt;q4</title>\n",
       "<path fill=\"none\" stroke=\"black\" d=\"M156,-109.63C171.28,-136.38 198.38,-183.81 215.89,-214.44\"/>\n",
       "<polygon fill=\"black\" stroke=\"black\" points=\"212.98,-216.42 220.98,-223.36 219.06,-212.94 212.98,-216.42\"/>\n",
       "<text text-anchor=\"middle\" x=\"188.49\" y=\"-175.3\" font-family=\"Times,serif\" font-size=\"14.00\">1</text>\n",
       "</g>\n",
       "<!-- q2&#45;&gt;q4 -->\n",
       "<g id=\"edge11\" class=\"edge\">\n",
       "<title>q2&#45;&gt;q4</title>\n",
       "<path fill=\"none\" stroke=\"black\" d=\"M162.15,-104.04C171.99,-112.89 183.86,-124.89 191.99,-137.5 206.64,-160.23 217.23,-189.06 223.89,-210.91\"/>\n",
       "<polygon fill=\"black\" stroke=\"black\" points=\"220.59,-212.1 226.76,-220.72 227.31,-210.14 220.59,-212.1\"/>\n",
       "<text text-anchor=\"middle\" x=\"188.49\" y=\"-141.3\" font-family=\"Times,serif\" font-size=\"14.00\">0</text>\n",
       "</g>\n",
       "<!-- q2&#45;&gt;q2 -->\n",
       "<g id=\"edge12\" class=\"edge\">\n",
       "<title>q2&#45;&gt;q2</title>\n",
       "<path fill=\"none\" stroke=\"black\" d=\"M136.77,-112.33C133.39,-133.34 135.63,-156 143.49,-156 150.07,-156 152.71,-140.17 151.43,-122.7\"/>\n",
       "<polygon fill=\"black\" stroke=\"black\" points=\"154.86,-121.86 150.22,-112.33 147.9,-122.67 154.86,-121.86\"/>\n",
       "<text text-anchor=\"middle\" x=\"143.49\" y=\"-159.8\" font-family=\"Times,serif\" font-size=\"14.00\">0</text>\n",
       "</g>\n",
       "<!-- q2&#45;&gt;q1 -->\n",
       "<g id=\"edge9\" class=\"edge\">\n",
       "<title>q2&#45;&gt;q1</title>\n",
       "<path fill=\"none\" stroke=\"black\" d=\"M164.5,-100.92C173.22,-106.19 183.38,-112.78 191.99,-119.5 235.6,-153.55 248.68,-161.33 281.99,-205.5 292.73,-219.75 302.18,-237.24 309.25,-251.95\"/>\n",
       "<polygon fill=\"black\" stroke=\"black\" points=\"306.14,-253.57 313.54,-261.15 312.49,-250.61 306.14,-253.57\"/>\n",
       "<text text-anchor=\"middle\" x=\"233.49\" y=\"-179.3\" font-family=\"Times,serif\" font-size=\"14.00\">1</text>\n",
       "</g>\n",
       "<!-- q2_init -->\n",
       "<g id=\"node6\" class=\"node\">\n",
       "<title>q2_init</title>\n",
       "</g>\n",
       "<!-- q2_init&#45;&gt;q2 -->\n",
       "<g id=\"edge3\" class=\"edge\">\n",
       "<title>q2_init&#45;&gt;q2</title>\n",
       "<path fill=\"none\" stroke=\"black\" d=\"M58.58,-0.53C60.19,-1.15 86.32,-11.32 102,-26.5 111.95,-36.13 120.63,-48.66 127.38,-60\"/>\n",
       "<polygon fill=\"black\" stroke=\"black\" points=\"124.37,-61.8 132.36,-68.76 130.46,-58.34 124.37,-61.8\"/>\n",
       "</g>\n",
       "<!-- q1&#45;&gt;q4 -->\n",
       "<g id=\"edge8\" class=\"edge\">\n",
       "<title>q1&#45;&gt;q4</title>\n",
       "<path fill=\"none\" stroke=\"black\" d=\"M307.69,-264.99C300.68,-257.95 291.71,-250.55 281.99,-246.5 277.46,-244.61 272.48,-243.44 267.5,-242.75\"/>\n",
       "<polygon fill=\"black\" stroke=\"black\" points=\"267.66,-239.25 257.41,-241.94 267.1,-246.23 267.66,-239.25\"/>\n",
       "<text text-anchor=\"middle\" x=\"278.49\" y=\"-250.3\" font-family=\"Times,serif\" font-size=\"14.00\">1</text>\n",
       "</g>\n",
       "<!-- q0&#45;&gt;q3 -->\n",
       "<g id=\"edge5\" class=\"edge\">\n",
       "<title>q0&#45;&gt;q3</title>\n",
       "<path fill=\"none\" stroke=\"black\" d=\"M130.01,-251.32C123.02,-260.51 113.41,-270.5 102,-275.5 95.9,-278.17 89.21,-277.45 82.94,-275.25\"/>\n",
       "<polygon fill=\"black\" stroke=\"black\" points=\"84.11,-271.93 73.57,-270.84 81.13,-278.26 84.11,-271.93\"/>\n",
       "<text text-anchor=\"middle\" x=\"98.5\" y=\"-280.3\" font-family=\"Times,serif\" font-size=\"14.00\">1</text>\n",
       "</g>\n",
       "<!-- q0&#45;&gt;q3 -->\n",
       "<g id=\"edge7\" class=\"edge\">\n",
       "<title>q0&#45;&gt;q3</title>\n",
       "<path fill=\"none\" stroke=\"black\" d=\"M120.83,-238.72C110.25,-242.25 97.4,-246.53 86.12,-250.29\"/>\n",
       "<polygon fill=\"black\" stroke=\"black\" points=\"84.69,-247.08 76.31,-253.56 86.91,-253.72 84.69,-247.08\"/>\n",
       "<text text-anchor=\"middle\" x=\"98.5\" y=\"-250.3\" font-family=\"Times,serif\" font-size=\"14.00\">0</text>\n",
       "</g>\n",
       "<!-- q0&#45;&gt;q4 -->\n",
       "<g id=\"edge6\" class=\"edge\">\n",
       "<title>q0&#45;&gt;q4</title>\n",
       "<path fill=\"none\" stroke=\"black\" d=\"M167.16,-234.59C177.11,-235.95 188.99,-237.57 199.87,-239.05\"/>\n",
       "<polygon fill=\"black\" stroke=\"black\" points=\"199.53,-242.54 209.91,-240.42 200.47,-235.6 199.53,-242.54\"/>\n",
       "<text text-anchor=\"middle\" x=\"188.49\" y=\"-241.3\" font-family=\"Times,serif\" font-size=\"14.00\">1</text>\n",
       "</g>\n",
       "<!-- q0_init -->\n",
       "<g id=\"node9\" class=\"node\">\n",
       "<title>q0_init</title>\n",
       "</g>\n",
       "<!-- q0_init&#45;&gt;q0 -->\n",
       "<g id=\"edge4\" class=\"edge\">\n",
       "<title>q0_init&#45;&gt;q0</title>\n",
       "<path fill=\"none\" stroke=\"black\" d=\"M58.52,-500.41C59.27,-496.52 83.65,-371.4 120,-276.5 121.99,-271.3 124.38,-265.9 126.86,-260.72\"/>\n",
       "<polygon fill=\"black\" stroke=\"black\" points=\"130.01,-262.24 131.32,-251.73 123.74,-259.13 130.01,-262.24\"/>\n",
       "</g>\n",
       "</g>\n",
       "</svg>\n"
      ],
      "text/plain": [
       "<graphviz.dot.Digraph at 0x7fe782975a30>"
      ]
     },
     "execution_count": 23,
     "metadata": {},
     "output_type": "execute_result"
    }
   ],
   "source": [
    "instantiate_nfa(df.loc[250]).plot()"
   ]
  },
  {
   "cell_type": "code",
   "execution_count": 51,
   "id": "7b4455da",
   "metadata": {},
   "outputs": [],
   "source": [
    "df[\"rel_error_over_eps\"] = df.rel_error / df.eps"
   ]
  },
  {
   "cell_type": "code",
   "execution_count": 62,
   "id": "ec9690cd",
   "metadata": {},
   "outputs": [
    {
     "data": {
      "text/html": [
       "<div>\n",
       "<style scoped>\n",
       "    .dataframe tbody tr th:only-of-type {\n",
       "        vertical-align: middle;\n",
       "    }\n",
       "\n",
       "    .dataframe tbody tr th {\n",
       "        vertical-align: top;\n",
       "    }\n",
       "\n",
       "    .dataframe thead th {\n",
       "        text-align: right;\n",
       "    }\n",
       "</style>\n",
       "<table border=\"1\" class=\"dataframe\">\n",
       "  <thead>\n",
       "    <tr style=\"text-align: right;\">\n",
       "      <th></th>\n",
       "      <th>n_states</th>\n",
       "      <th>initial_states</th>\n",
       "      <th>final_states</th>\n",
       "      <th>transitions</th>\n",
       "      <th>string_n</th>\n",
       "      <th>bruteforce</th>\n",
       "      <th>estimate</th>\n",
       "      <th>eps</th>\n",
       "      <th>time</th>\n",
       "      <th>rel_error</th>\n",
       "      <th>rel_error_over_eps</th>\n",
       "    </tr>\n",
       "  </thead>\n",
       "  <tbody>\n",
       "    <tr>\n",
       "      <th>250</th>\n",
       "      <td>5</td>\n",
       "      <td>{q0, q4, q2, q3}</td>\n",
       "      <td>{q0, q4, q1, q2}</td>\n",
       "      <td>{'q0': {'1': {'q4', 'q3'}, '0': {'q3'}}, 'q1':...</td>\n",
       "      <td>14</td>\n",
       "      <td>6256</td>\n",
       "      <td>346126.976953</td>\n",
       "      <td>28</td>\n",
       "      <td>5106.766545</td>\n",
       "      <td>54.327202</td>\n",
       "      <td>1.940257</td>\n",
       "    </tr>\n",
       "    <tr>\n",
       "      <th>97</th>\n",
       "      <td>6</td>\n",
       "      <td>{q0, q4, q1}</td>\n",
       "      <td>{q0, q1, q2, q3}</td>\n",
       "      <td>{'q0': {'0': {'q5', 'q1'}, '1': {'q5', 'q2', '...</td>\n",
       "      <td>5</td>\n",
       "      <td>32</td>\n",
       "      <td>348.516394</td>\n",
       "      <td>8</td>\n",
       "      <td>141.583673</td>\n",
       "      <td>9.891137</td>\n",
       "      <td>1.236392</td>\n",
       "    </tr>\n",
       "    <tr>\n",
       "      <th>155</th>\n",
       "      <td>5</td>\n",
       "      <td>{q0, q1, q3}</td>\n",
       "      <td>{q4, q2}</td>\n",
       "      <td>{'q0': {'0': {'q0', 'q2'}, '1': {'q4'}}, 'q1':...</td>\n",
       "      <td>14</td>\n",
       "      <td>16384</td>\n",
       "      <td>910667.905438</td>\n",
       "      <td>54</td>\n",
       "      <td>3016.351845</td>\n",
       "      <td>54.582758</td>\n",
       "      <td>1.010792</td>\n",
       "    </tr>\n",
       "    <tr>\n",
       "      <th>57</th>\n",
       "      <td>6</td>\n",
       "      <td>{q0, q1}</td>\n",
       "      <td>{q4, q2, q5, q0, q3}</td>\n",
       "      <td>{'q0': {'1': {'q5', 'q3'}, '0': {'q5', 'q4', '...</td>\n",
       "      <td>5</td>\n",
       "      <td>32</td>\n",
       "      <td>237.365394</td>\n",
       "      <td>8</td>\n",
       "      <td>75.338577</td>\n",
       "      <td>6.417669</td>\n",
       "      <td>0.802209</td>\n",
       "    </tr>\n",
       "    <tr>\n",
       "      <th>45</th>\n",
       "      <td>5</td>\n",
       "      <td>{q4}</td>\n",
       "      <td>{q4, q1, q2}</td>\n",
       "      <td>{'q0': {'1': {'q1'}, '0': {'q1'}}, 'q1': {'0':...</td>\n",
       "      <td>10</td>\n",
       "      <td>1024</td>\n",
       "      <td>12388.688906</td>\n",
       "      <td>15</td>\n",
       "      <td>1348.562958</td>\n",
       "      <td>11.098329</td>\n",
       "      <td>0.739889</td>\n",
       "    </tr>\n",
       "    <tr>\n",
       "      <th>185</th>\n",
       "      <td>4</td>\n",
       "      <td>{q3}</td>\n",
       "      <td>{q2, q3}</td>\n",
       "      <td>{'q0': {'1': {'q1'}, '0': {'q1', 'q2', 'q3'}},...</td>\n",
       "      <td>10</td>\n",
       "      <td>1024</td>\n",
       "      <td>25935.479221</td>\n",
       "      <td>43</td>\n",
       "      <td>391.159397</td>\n",
       "      <td>24.327616</td>\n",
       "      <td>0.565759</td>\n",
       "    </tr>\n",
       "    <tr>\n",
       "      <th>248</th>\n",
       "      <td>5</td>\n",
       "      <td>{q0, q3}</td>\n",
       "      <td>{q4}</td>\n",
       "      <td>{'q0': {'1': {'q0', 'q4', 'q3'}, '0': {'q1', '...</td>\n",
       "      <td>10</td>\n",
       "      <td>1024</td>\n",
       "      <td>8786.812229</td>\n",
       "      <td>21</td>\n",
       "      <td>1189.039953</td>\n",
       "      <td>7.580871</td>\n",
       "      <td>0.360994</td>\n",
       "    </tr>\n",
       "    <tr>\n",
       "      <th>317</th>\n",
       "      <td>7</td>\n",
       "      <td>{q5}</td>\n",
       "      <td>{q5, q0, q6}</td>\n",
       "      <td>{'q0': {'0': {'q1', 'q2'}}, 'q1': {'1': {'q0',...</td>\n",
       "      <td>7</td>\n",
       "      <td>128</td>\n",
       "      <td>1902.533180</td>\n",
       "      <td>43</td>\n",
       "      <td>194.612001</td>\n",
       "      <td>13.863540</td>\n",
       "      <td>0.322408</td>\n",
       "    </tr>\n",
       "    <tr>\n",
       "      <th>93</th>\n",
       "      <td>5</td>\n",
       "      <td>{q0, q4, q1}</td>\n",
       "      <td>{q4, q3}</td>\n",
       "      <td>{'q0': {'1': {'q2', 'q3'}}, 'q1': {'0': {'q1'}...</td>\n",
       "      <td>7</td>\n",
       "      <td>128</td>\n",
       "      <td>389.541770</td>\n",
       "      <td>7</td>\n",
       "      <td>484.051723</td>\n",
       "      <td>2.043295</td>\n",
       "      <td>0.291899</td>\n",
       "    </tr>\n",
       "    <tr>\n",
       "      <th>135</th>\n",
       "      <td>5</td>\n",
       "      <td>{q0, q2}</td>\n",
       "      <td>{q0, q4, q3}</td>\n",
       "      <td>{'q0': {'0': {'q4', 'q1', 'q2', 'q3'}}, 'q1': ...</td>\n",
       "      <td>6</td>\n",
       "      <td>64</td>\n",
       "      <td>455.550164</td>\n",
       "      <td>22</td>\n",
       "      <td>51.058338</td>\n",
       "      <td>6.117971</td>\n",
       "      <td>0.278090</td>\n",
       "    </tr>\n",
       "    <tr>\n",
       "      <th>85</th>\n",
       "      <td>6</td>\n",
       "      <td>{q0, q2, q3}</td>\n",
       "      <td>{q5, q1, q3}</td>\n",
       "      <td>{'q0': {'0': {'q1', 'q3'}, '1': {'q2'}}, 'q1':...</td>\n",
       "      <td>4</td>\n",
       "      <td>14</td>\n",
       "      <td>28.939176</td>\n",
       "      <td>4</td>\n",
       "      <td>47.871424</td>\n",
       "      <td>1.067084</td>\n",
       "      <td>0.266771</td>\n",
       "    </tr>\n",
       "    <tr>\n",
       "      <th>101</th>\n",
       "      <td>6</td>\n",
       "      <td>{q5, q4, q1, q3}</td>\n",
       "      <td>{q0, q3}</td>\n",
       "      <td>{'q0': {'0': {'q5', 'q4', 'q3'}, '1': {'q5', '...</td>\n",
       "      <td>5</td>\n",
       "      <td>32</td>\n",
       "      <td>98.157458</td>\n",
       "      <td>8</td>\n",
       "      <td>76.184576</td>\n",
       "      <td>2.067421</td>\n",
       "      <td>0.258428</td>\n",
       "    </tr>\n",
       "    <tr>\n",
       "      <th>204</th>\n",
       "      <td>5</td>\n",
       "      <td>{q0, q4, q1, q2}</td>\n",
       "      <td>{q1, q2}</td>\n",
       "      <td>{'q0': {}, 'q1': {'1': {'q1'}, '0': {'q4', 'q1...</td>\n",
       "      <td>12</td>\n",
       "      <td>4096</td>\n",
       "      <td>32156.717887</td>\n",
       "      <td>27</td>\n",
       "      <td>1582.476723</td>\n",
       "      <td>6.850761</td>\n",
       "      <td>0.253732</td>\n",
       "    </tr>\n",
       "    <tr>\n",
       "      <th>55</th>\n",
       "      <td>6</td>\n",
       "      <td>{q0, q4, q1, q2}</td>\n",
       "      <td>{q0, q2, q3}</td>\n",
       "      <td>{'q0': {'0': {'q5', 'q3'}}, 'q1': {'1': {'q0',...</td>\n",
       "      <td>4</td>\n",
       "      <td>16</td>\n",
       "      <td>31.460000</td>\n",
       "      <td>4</td>\n",
       "      <td>23.926571</td>\n",
       "      <td>0.966250</td>\n",
       "      <td>0.241563</td>\n",
       "    </tr>\n",
       "    <tr>\n",
       "      <th>443</th>\n",
       "      <td>8</td>\n",
       "      <td>{q0}</td>\n",
       "      <td>{q5}</td>\n",
       "      <td>{'q0': {'0': {'q5', 'q0', 'q4'}, '1': {'q1', '...</td>\n",
       "      <td>7</td>\n",
       "      <td>128</td>\n",
       "      <td>1158.452809</td>\n",
       "      <td>34</td>\n",
       "      <td>441.427670</td>\n",
       "      <td>8.050413</td>\n",
       "      <td>0.236777</td>\n",
       "    </tr>\n",
       "    <tr>\n",
       "      <th>64</th>\n",
       "      <td>6</td>\n",
       "      <td>{q4, q1, q2, q3}</td>\n",
       "      <td>{q3}</td>\n",
       "      <td>{'q0': {'1': {'q5', 'q2', 'q3'}, '0': {'q2', '...</td>\n",
       "      <td>5</td>\n",
       "      <td>32</td>\n",
       "      <td>77.061857</td>\n",
       "      <td>6</td>\n",
       "      <td>184.014440</td>\n",
       "      <td>1.408183</td>\n",
       "      <td>0.234697</td>\n",
       "    </tr>\n",
       "    <tr>\n",
       "      <th>120</th>\n",
       "      <td>5</td>\n",
       "      <td>{q1, q2, q3}</td>\n",
       "      <td>{q3}</td>\n",
       "      <td>{'q0': {'1': {'q0', 'q4', 'q2', 'q3'}, '0': {'...</td>\n",
       "      <td>14</td>\n",
       "      <td>16384</td>\n",
       "      <td>230311.871308</td>\n",
       "      <td>58</td>\n",
       "      <td>641.399689</td>\n",
       "      <td>13.057121</td>\n",
       "      <td>0.225123</td>\n",
       "    </tr>\n",
       "    <tr>\n",
       "      <th>279</th>\n",
       "      <td>12</td>\n",
       "      <td>{q4, q8}</td>\n",
       "      <td>{q0, q7, q2, q9}</td>\n",
       "      <td>{'q0': {'0': {'q1', 'q2', 'q5', 'q0', 'q6', 'q...</td>\n",
       "      <td>4</td>\n",
       "      <td>16</td>\n",
       "      <td>75.433192</td>\n",
       "      <td>17</td>\n",
       "      <td>168.309165</td>\n",
       "      <td>3.714574</td>\n",
       "      <td>0.218504</td>\n",
       "    </tr>\n",
       "    <tr>\n",
       "      <th>284</th>\n",
       "      <td>10</td>\n",
       "      <td>{q2}</td>\n",
       "      <td>{q6}</td>\n",
       "      <td>{'q0': {'1': {'q0', 'q6', 'q3', 'q9', 'q8'}, '...</td>\n",
       "      <td>7</td>\n",
       "      <td>127</td>\n",
       "      <td>1846.084103</td>\n",
       "      <td>63</td>\n",
       "      <td>376.620378</td>\n",
       "      <td>13.536095</td>\n",
       "      <td>0.214859</td>\n",
       "    </tr>\n",
       "    <tr>\n",
       "      <th>161</th>\n",
       "      <td>6</td>\n",
       "      <td>{q5, q4, q1, q3}</td>\n",
       "      <td>{q2}</td>\n",
       "      <td>{'q0': {'1': {'q4', 'q1', 'q3'}, '0': {'q4', '...</td>\n",
       "      <td>9</td>\n",
       "      <td>491</td>\n",
       "      <td>3313.844108</td>\n",
       "      <td>28</td>\n",
       "      <td>845.851782</td>\n",
       "      <td>5.749173</td>\n",
       "      <td>0.205328</td>\n",
       "    </tr>\n",
       "  </tbody>\n",
       "</table>\n",
       "</div>"
      ],
      "text/plain": [
       "     n_states    initial_states          final_states  \\\n",
       "250         5  {q0, q4, q2, q3}      {q0, q4, q1, q2}   \n",
       "97          6      {q0, q4, q1}      {q0, q1, q2, q3}   \n",
       "155         5      {q0, q1, q3}              {q4, q2}   \n",
       "57          6          {q0, q1}  {q4, q2, q5, q0, q3}   \n",
       "45          5              {q4}          {q4, q1, q2}   \n",
       "185         4              {q3}              {q2, q3}   \n",
       "248         5          {q0, q3}                  {q4}   \n",
       "317         7              {q5}          {q5, q0, q6}   \n",
       "93          5      {q0, q4, q1}              {q4, q3}   \n",
       "135         5          {q0, q2}          {q0, q4, q3}   \n",
       "85          6      {q0, q2, q3}          {q5, q1, q3}   \n",
       "101         6  {q5, q4, q1, q3}              {q0, q3}   \n",
       "204         5  {q0, q4, q1, q2}              {q1, q2}   \n",
       "55          6  {q0, q4, q1, q2}          {q0, q2, q3}   \n",
       "443         8              {q0}                  {q5}   \n",
       "64          6  {q4, q1, q2, q3}                  {q3}   \n",
       "120         5      {q1, q2, q3}                  {q3}   \n",
       "279        12          {q4, q8}      {q0, q7, q2, q9}   \n",
       "284        10              {q2}                  {q6}   \n",
       "161         6  {q5, q4, q1, q3}                  {q2}   \n",
       "\n",
       "                                           transitions  string_n  bruteforce  \\\n",
       "250  {'q0': {'1': {'q4', 'q3'}, '0': {'q3'}}, 'q1':...        14        6256   \n",
       "97   {'q0': {'0': {'q5', 'q1'}, '1': {'q5', 'q2', '...         5          32   \n",
       "155  {'q0': {'0': {'q0', 'q2'}, '1': {'q4'}}, 'q1':...        14       16384   \n",
       "57   {'q0': {'1': {'q5', 'q3'}, '0': {'q5', 'q4', '...         5          32   \n",
       "45   {'q0': {'1': {'q1'}, '0': {'q1'}}, 'q1': {'0':...        10        1024   \n",
       "185  {'q0': {'1': {'q1'}, '0': {'q1', 'q2', 'q3'}},...        10        1024   \n",
       "248  {'q0': {'1': {'q0', 'q4', 'q3'}, '0': {'q1', '...        10        1024   \n",
       "317  {'q0': {'0': {'q1', 'q2'}}, 'q1': {'1': {'q0',...         7         128   \n",
       "93   {'q0': {'1': {'q2', 'q3'}}, 'q1': {'0': {'q1'}...         7         128   \n",
       "135  {'q0': {'0': {'q4', 'q1', 'q2', 'q3'}}, 'q1': ...         6          64   \n",
       "85   {'q0': {'0': {'q1', 'q3'}, '1': {'q2'}}, 'q1':...         4          14   \n",
       "101  {'q0': {'0': {'q5', 'q4', 'q3'}, '1': {'q5', '...         5          32   \n",
       "204  {'q0': {}, 'q1': {'1': {'q1'}, '0': {'q4', 'q1...        12        4096   \n",
       "55   {'q0': {'0': {'q5', 'q3'}}, 'q1': {'1': {'q0',...         4          16   \n",
       "443  {'q0': {'0': {'q5', 'q0', 'q4'}, '1': {'q1', '...         7         128   \n",
       "64   {'q0': {'1': {'q5', 'q2', 'q3'}, '0': {'q2', '...         5          32   \n",
       "120  {'q0': {'1': {'q0', 'q4', 'q2', 'q3'}, '0': {'...        14       16384   \n",
       "279  {'q0': {'0': {'q1', 'q2', 'q5', 'q0', 'q6', 'q...         4          16   \n",
       "284  {'q0': {'1': {'q0', 'q6', 'q3', 'q9', 'q8'}, '...         7         127   \n",
       "161  {'q0': {'1': {'q4', 'q1', 'q3'}, '0': {'q4', '...         9         491   \n",
       "\n",
       "          estimate  eps         time  rel_error  rel_error_over_eps  \n",
       "250  346126.976953   28  5106.766545  54.327202            1.940257  \n",
       "97      348.516394    8   141.583673   9.891137            1.236392  \n",
       "155  910667.905438   54  3016.351845  54.582758            1.010792  \n",
       "57      237.365394    8    75.338577   6.417669            0.802209  \n",
       "45    12388.688906   15  1348.562958  11.098329            0.739889  \n",
       "185   25935.479221   43   391.159397  24.327616            0.565759  \n",
       "248    8786.812229   21  1189.039953   7.580871            0.360994  \n",
       "317    1902.533180   43   194.612001  13.863540            0.322408  \n",
       "93      389.541770    7   484.051723   2.043295            0.291899  \n",
       "135     455.550164   22    51.058338   6.117971            0.278090  \n",
       "85       28.939176    4    47.871424   1.067084            0.266771  \n",
       "101      98.157458    8    76.184576   2.067421            0.258428  \n",
       "204   32156.717887   27  1582.476723   6.850761            0.253732  \n",
       "55       31.460000    4    23.926571   0.966250            0.241563  \n",
       "443    1158.452809   34   441.427670   8.050413            0.236777  \n",
       "64       77.061857    6   184.014440   1.408183            0.234697  \n",
       "120  230311.871308   58   641.399689  13.057121            0.225123  \n",
       "279      75.433192   17   168.309165   3.714574            0.218504  \n",
       "284    1846.084103   63   376.620378  13.536095            0.214859  \n",
       "161    3313.844108   28   845.851782   5.749173            0.205328  "
      ]
     },
     "execution_count": 62,
     "metadata": {},
     "output_type": "execute_result"
    }
   ],
   "source": [
    "df.sort_values(by=\"rel_error_over_eps\", ascending=False).head(20)"
   ]
  },
  {
   "cell_type": "code",
   "execution_count": 54,
   "id": "5b064584",
   "metadata": {},
   "outputs": [],
   "source": [
    "nfa = instantiate_nfa(df.loc[97])"
   ]
  },
  {
   "cell_type": "code",
   "execution_count": null,
   "id": "24f09e83",
   "metadata": {},
   "outputs": [],
   "source": [
    "nfa.plot()"
   ]
  },
  {
   "cell_type": "code",
   "execution_count": 23,
   "id": "5044548a",
   "metadata": {},
   "outputs": [],
   "source": [
    "nfa.transitions"
   ]
  },
  {
   "cell_type": "code",
   "execution_count": 30,
   "id": "2a580de1",
   "metadata": {},
   "outputs": [
    {
     "data": {
      "text/plain": [
       "{'q0', 'q1', 'q4'}"
      ]
     },
     "execution_count": 30,
     "metadata": {},
     "output_type": "execute_result"
    }
   ],
   "source": [
    "nfa.final_states"
   ]
  },
  {
   "cell_type": "code",
   "execution_count": 5,
   "id": "01abcb71",
   "metadata": {},
   "outputs": [],
   "source": [
    "def random_nfa_stats():\n",
    "    n_states = randint(2, 14)\n",
    "    sparsity = random() / 2 + 0.5\n",
    "    n_initial = randint(1, n_states)\n",
    "    n_final = randint(1, n_states)\n",
    "    r = random_matrix_for_nfa(n_states=n_states, sparsity=sparsity, n_initial=n_initial, n_final=n_final)\n",
    "    nfa = NFA.from_random_matrix(r)\n",
    "    accepting_count = [nfa.bruteforce_count_only(i) for i in range(1, 16)]\n",
    "    height = nfa.cycle_height()\n",
    "\n",
    "    return {\n",
    "        \"sparsity\": sparsity,\n",
    "        \"matrix\": r,\n",
    "        \"accepted_counts\": accepting_count,\n",
    "        \"height\": height\n",
    "    }"
   ]
  },
  {
   "cell_type": "code",
   "execution_count": 51,
   "id": "c828e746",
   "metadata": {},
   "outputs": [
    {
     "name": "stdout",
     "output_type": "stream",
     "text": [
      "Wrote pickle file for 5400 results\n"
     ]
    },
    {
     "name": "stderr",
     "output_type": "stream",
     "text": [
      "                                                         "
     ]
    }
   ],
   "source": [
    "samples = 0\n",
    "errors = []\n",
    "error_count = 0\n",
    "n_proc = 6\n",
    "timeout = 30\n",
    "# results = []\n",
    "\n",
    "with Pool(processes=n_proc) as pool:\n",
    "    \n",
    "    while error_count < 30:\n",
    "        multiproc_results = [pool.apply_async(random_nfa_stats) for _ in range(100)]\n",
    "        for res_promise in tqdm(multiproc_results):\n",
    "            res = None\n",
    "            try:\n",
    "                res = res_promise.get(timeout=timeout)\n",
    "            except TimeoutError:\n",
    "                continue\n",
    "\n",
    "            if isinstance(res, Exception):\n",
    "                errors.append(res)\n",
    "                error_count += 1\n",
    "                continue\n",
    "            else:\n",
    "                samples += 1\n",
    "                \n",
    "                results.append(res)\n",
    "\n",
    "        clear_output(wait=True)\n",
    "        #with open(\"random_nfa_from_matrices.pkl\", \"wb\") as fd:\n",
    "        #    pickle.dump(results, fd)\n",
    "        #print(f\"Wrote pickle file for {len(results)} results\")"
   ]
  },
  {
   "cell_type": "code",
   "execution_count": null,
   "id": "1ab860ab",
   "metadata": {},
   "outputs": [],
   "source": []
  }
 ],
 "metadata": {
  "interpreter": {
   "hash": "0602504454f0638c3c0ff967dc00c81d73b297792cfa3e9f03f5a76d8a2b245a"
  },
  "kernelspec": {
   "display_name": "Python 3 (ipykernel)",
   "language": "python",
   "name": "python3"
  },
  "language_info": {
   "codemirror_mode": {
    "name": "ipython",
    "version": 3
   },
   "file_extension": ".py",
   "mimetype": "text/x-python",
   "name": "python",
   "nbconvert_exporter": "python",
   "pygments_lexer": "ipython3",
   "version": "3.8.10"
  }
 },
 "nbformat": 4,
 "nbformat_minor": 5
}
