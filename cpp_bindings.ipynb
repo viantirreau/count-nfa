{
 "cells": [
  {
   "cell_type": "code",
   "execution_count": 1,
   "id": "58fb3133",
   "metadata": {},
   "outputs": [],
   "source": [
    "import subprocess\n",
    "from random import random, randint\n",
    "from nfa_lib import NFA, random_matrix_for_nfa, count_nfa\n",
    "import matplotlib.pyplot as plt\n",
    "from mpl_toolkits.mplot3d import Axes3D\n",
    "from matplotlib.colors import ListedColormap\n",
    "import seaborn as sns\n",
    "from tqdm.auto import tqdm as tqdm\n",
    "import pandas as pd\n",
    "import pickle\n",
    "from multiprocessing import Pool, TimeoutError\n",
    "sns.set(rc={\"figure.figsize\": (14,10)})"
   ]
  },
  {
   "cell_type": "code",
   "execution_count": 2,
   "id": "798cc6c6",
   "metadata": {},
   "outputs": [],
   "source": [
    "def random_run():\n",
    "    n_states = randint(2, 20)\n",
    "    sparsity = round(random() / 2 + 0.5, 2)\n",
    "    n_initial = randint(1, min(n_states, 5))\n",
    "    n_final = randint(1, min(n_states, 5))\n",
    "    string_length = randint(6, 20)\n",
    "    rand_matrix = random_matrix_for_nfa(n_states=n_states, sparsity=sparsity, n_initial=n_initial, n_final=n_final)\n",
    "    rand_nfa = NFA.from_random_matrix(rand_matrix)\n",
    "    rand_nfa_text = rand_nfa.to_text()\n",
    "    \n",
    "    res_array = []\n",
    "    \n",
    "    epsilon = round(random() * 45 + 5, 1) # epsilon \\in [5, 50]\n",
    "    kappa_multiple = 1\n",
    "    phi_multiple = round(2 ** (5 + random() * 5)) # phi_multiple \\in [32, 1024]\n",
    "\n",
    "    cpp_input = f\"{string_length} {epsilon} {kappa_multiple} {phi_multiple}\\n\" + rand_nfa_text\n",
    "    program = [\"timeout\", \"90\", \"./cpp/main\"]\n",
    "    result = subprocess.run(program, \n",
    "                            stdout=subprocess.PIPE, \n",
    "                            input=cpp_input,\n",
    "                            encoding=\"utf-8\")\n",
    "    res_dict = {}\n",
    "    if result.returncode == 0:\n",
    "        invalid = False\n",
    "        for line in result.stdout.split(\"\\n\"):\n",
    "            if \"Got 0 when\" in line or \"Empty NFA\" in line:\n",
    "                invalid = True\n",
    "                break\n",
    "            l_split = line.split()\n",
    "            if len(l_split) == 2:\n",
    "                k, v = l_split\n",
    "                res_dict[k] = float(v) if \".\" in v else int(v)\n",
    "        if not invalid:\n",
    "            res_dict[\"n_states\"] = len(rand_nfa.states)\n",
    "            res_dict[\"sparsity\"] = sparsity\n",
    "            res_dict[\"str_repr\"] = cpp_input\n",
    "            res_dict[\"string_len\"] = string_length\n",
    "            res_dict[\"epsilon\"] = epsilon\n",
    "            res_dict[\"kappa_multiple\"] = kappa_multiple\n",
    "            res_dict[\"phi_multiple\"] = phi_multiple\n",
    "            res_array.append(res_dict)\n",
    "\n",
    "\n",
    "    return res_array"
   ]
  },
  {
   "cell_type": "code",
   "execution_count": 64,
   "id": "7c207209",
   "metadata": {
    "collapsed": true
   },
   "outputs": [
    {
     "name": "stderr",
     "output_type": "stream",
     "text": [
      "100%|███████████████████████████████████████████| 36/36 [01:42<00:00,  2.85s/it]\n"
     ]
    },
    {
     "name": "stdout",
     "output_type": "stream",
     "text": [
      "Wrote pickle file for 680 results\n"
     ]
    },
    {
     "name": "stderr",
     "output_type": "stream",
     "text": [
      "100%|███████████████████████████████████████████| 36/36 [02:09<00:00,  3.58s/it]\n"
     ]
    },
    {
     "name": "stdout",
     "output_type": "stream",
     "text": [
      "Wrote pickle file for 703 results\n"
     ]
    },
    {
     "name": "stderr",
     "output_type": "stream",
     "text": [
      "100%|███████████████████████████████████████████| 36/36 [01:32<00:00,  2.56s/it]\n"
     ]
    },
    {
     "name": "stdout",
     "output_type": "stream",
     "text": [
      "Wrote pickle file for 732 results\n"
     ]
    },
    {
     "name": "stderr",
     "output_type": "stream",
     "text": [
      "100%|███████████████████████████████████████████| 36/36 [03:00<00:00,  5.00s/it]\n"
     ]
    },
    {
     "name": "stdout",
     "output_type": "stream",
     "text": [
      "Wrote pickle file for 756 results\n"
     ]
    },
    {
     "name": "stderr",
     "output_type": "stream",
     "text": [
      "100%|███████████████████████████████████████████| 36/36 [01:30<00:00,  2.52s/it]\n"
     ]
    },
    {
     "name": "stdout",
     "output_type": "stream",
     "text": [
      "Wrote pickle file for 780 results\n"
     ]
    },
    {
     "name": "stderr",
     "output_type": "stream",
     "text": [
      "100%|███████████████████████████████████████████| 36/36 [01:56<00:00,  3.23s/it]\n"
     ]
    },
    {
     "name": "stdout",
     "output_type": "stream",
     "text": [
      "Wrote pickle file for 811 results\n"
     ]
    },
    {
     "name": "stderr",
     "output_type": "stream",
     "text": [
      "100%|███████████████████████████████████████████| 36/36 [02:09<00:00,  3.60s/it]\n"
     ]
    },
    {
     "name": "stdout",
     "output_type": "stream",
     "text": [
      "Wrote pickle file for 837 results\n"
     ]
    },
    {
     "name": "stderr",
     "output_type": "stream",
     "text": [
      "100%|███████████████████████████████████████████| 36/36 [01:43<00:00,  2.88s/it]\n"
     ]
    },
    {
     "name": "stdout",
     "output_type": "stream",
     "text": [
      "Wrote pickle file for 862 results\n"
     ]
    },
    {
     "name": "stderr",
     "output_type": "stream",
     "text": [
      "100%|███████████████████████████████████████████| 36/36 [02:59<00:00,  4.98s/it]\n"
     ]
    },
    {
     "name": "stdout",
     "output_type": "stream",
     "text": [
      "Wrote pickle file for 890 results\n"
     ]
    },
    {
     "name": "stderr",
     "output_type": "stream",
     "text": [
      "100%|███████████████████████████████████████████| 36/36 [02:40<00:00,  4.45s/it]\n"
     ]
    },
    {
     "name": "stdout",
     "output_type": "stream",
     "text": [
      "Wrote pickle file for 917 results\n"
     ]
    },
    {
     "name": "stderr",
     "output_type": "stream",
     "text": [
      "100%|███████████████████████████████████████████| 36/36 [03:03<00:00,  5.10s/it]\n"
     ]
    },
    {
     "name": "stdout",
     "output_type": "stream",
     "text": [
      "Wrote pickle file for 942 results\n"
     ]
    },
    {
     "name": "stderr",
     "output_type": "stream",
     "text": [
      "100%|███████████████████████████████████████████| 36/36 [02:28<00:00,  4.13s/it]\n"
     ]
    },
    {
     "name": "stdout",
     "output_type": "stream",
     "text": [
      "Wrote pickle file for 969 results\n"
     ]
    },
    {
     "name": "stderr",
     "output_type": "stream",
     "text": [
      "100%|███████████████████████████████████████████| 36/36 [02:13<00:00,  3.70s/it]\n"
     ]
    },
    {
     "name": "stdout",
     "output_type": "stream",
     "text": [
      "Wrote pickle file for 997 results\n"
     ]
    },
    {
     "name": "stderr",
     "output_type": "stream",
     "text": [
      "100%|███████████████████████████████████████████| 36/36 [02:48<00:00,  4.68s/it]\n"
     ]
    },
    {
     "name": "stdout",
     "output_type": "stream",
     "text": [
      "Wrote pickle file for 1020 results\n"
     ]
    },
    {
     "name": "stderr",
     "output_type": "stream",
     "text": [
      "100%|███████████████████████████████████████████| 36/36 [01:02<00:00,  1.75s/it]\n"
     ]
    },
    {
     "name": "stdout",
     "output_type": "stream",
     "text": [
      "Wrote pickle file for 1049 results\n"
     ]
    },
    {
     "name": "stderr",
     "output_type": "stream",
     "text": [
      "100%|███████████████████████████████████████████| 36/36 [01:18<00:00,  2.17s/it]\n"
     ]
    },
    {
     "name": "stdout",
     "output_type": "stream",
     "text": [
      "Wrote pickle file for 1080 results\n"
     ]
    },
    {
     "name": "stderr",
     "output_type": "stream",
     "text": [
      "100%|███████████████████████████████████████████| 36/36 [02:24<00:00,  4.02s/it]\n"
     ]
    },
    {
     "name": "stdout",
     "output_type": "stream",
     "text": [
      "Wrote pickle file for 1105 results\n"
     ]
    },
    {
     "name": "stderr",
     "output_type": "stream",
     "text": [
      "100%|███████████████████████████████████████████| 36/36 [01:37<00:00,  2.72s/it]\n"
     ]
    },
    {
     "name": "stdout",
     "output_type": "stream",
     "text": [
      "Wrote pickle file for 1135 results\n"
     ]
    },
    {
     "name": "stderr",
     "output_type": "stream",
     "text": [
      "100%|███████████████████████████████████████████| 36/36 [01:38<00:00,  2.73s/it]\n"
     ]
    },
    {
     "name": "stdout",
     "output_type": "stream",
     "text": [
      "Wrote pickle file for 1159 results\n"
     ]
    },
    {
     "name": "stderr",
     "output_type": "stream",
     "text": [
      "100%|███████████████████████████████████████████| 36/36 [02:22<00:00,  3.95s/it]\n"
     ]
    },
    {
     "name": "stdout",
     "output_type": "stream",
     "text": [
      "Wrote pickle file for 1185 results\n"
     ]
    },
    {
     "name": "stderr",
     "output_type": "stream",
     "text": [
      "100%|███████████████████████████████████████████| 36/36 [02:32<00:00,  4.22s/it]\n"
     ]
    },
    {
     "name": "stdout",
     "output_type": "stream",
     "text": [
      "Wrote pickle file for 1208 results\n"
     ]
    },
    {
     "name": "stderr",
     "output_type": "stream",
     "text": [
      "100%|███████████████████████████████████████████| 36/36 [00:51<00:00,  1.43s/it]\n"
     ]
    },
    {
     "name": "stdout",
     "output_type": "stream",
     "text": [
      "Wrote pickle file for 1237 results\n"
     ]
    },
    {
     "name": "stderr",
     "output_type": "stream",
     "text": [
      "100%|███████████████████████████████████████████| 36/36 [01:47<00:00,  2.97s/it]\n"
     ]
    },
    {
     "name": "stdout",
     "output_type": "stream",
     "text": [
      "Wrote pickle file for 1260 results\n"
     ]
    },
    {
     "name": "stderr",
     "output_type": "stream",
     "text": [
      "100%|███████████████████████████████████████████| 36/36 [01:31<00:00,  2.53s/it]\n"
     ]
    },
    {
     "name": "stdout",
     "output_type": "stream",
     "text": [
      "Wrote pickle file for 1285 results\n"
     ]
    },
    {
     "name": "stderr",
     "output_type": "stream",
     "text": [
      "100%|███████████████████████████████████████████| 36/36 [01:50<00:00,  3.08s/it]\n"
     ]
    },
    {
     "name": "stdout",
     "output_type": "stream",
     "text": [
      "Wrote pickle file for 1315 results\n"
     ]
    },
    {
     "name": "stderr",
     "output_type": "stream",
     "text": [
      "100%|███████████████████████████████████████████| 36/36 [01:30<00:00,  2.50s/it]\n"
     ]
    },
    {
     "name": "stdout",
     "output_type": "stream",
     "text": [
      "Wrote pickle file for 1345 results\n"
     ]
    },
    {
     "name": "stderr",
     "output_type": "stream",
     "text": [
      "100%|███████████████████████████████████████████| 36/36 [01:33<00:00,  2.60s/it]\n"
     ]
    },
    {
     "name": "stdout",
     "output_type": "stream",
     "text": [
      "Wrote pickle file for 1373 results\n"
     ]
    },
    {
     "name": "stderr",
     "output_type": "stream",
     "text": [
      "100%|███████████████████████████████████████████| 36/36 [01:31<00:00,  2.53s/it]\n"
     ]
    },
    {
     "name": "stdout",
     "output_type": "stream",
     "text": [
      "Wrote pickle file for 1398 results\n"
     ]
    },
    {
     "name": "stderr",
     "output_type": "stream",
     "text": [
      "100%|███████████████████████████████████████████| 36/36 [02:10<00:00,  3.63s/it]\n"
     ]
    },
    {
     "name": "stdout",
     "output_type": "stream",
     "text": [
      "Wrote pickle file for 1425 results\n"
     ]
    },
    {
     "name": "stderr",
     "output_type": "stream",
     "text": [
      "100%|███████████████████████████████████████████| 36/36 [01:49<00:00,  3.05s/it]\n"
     ]
    },
    {
     "name": "stdout",
     "output_type": "stream",
     "text": [
      "Wrote pickle file for 1454 results\n"
     ]
    },
    {
     "name": "stderr",
     "output_type": "stream",
     "text": [
      "100%|███████████████████████████████████████████| 36/36 [01:17<00:00,  2.15s/it]\n"
     ]
    },
    {
     "name": "stdout",
     "output_type": "stream",
     "text": [
      "Wrote pickle file for 1483 results\n"
     ]
    },
    {
     "name": "stderr",
     "output_type": "stream",
     "text": [
      "100%|███████████████████████████████████████████| 36/36 [02:23<00:00,  3.98s/it]\n"
     ]
    },
    {
     "name": "stdout",
     "output_type": "stream",
     "text": [
      "Wrote pickle file for 1508 results\n"
     ]
    },
    {
     "name": "stderr",
     "output_type": "stream",
     "text": [
      "100%|███████████████████████████████████████████| 36/36 [01:51<00:00,  3.09s/it]\n"
     ]
    },
    {
     "name": "stdout",
     "output_type": "stream",
     "text": [
      "Wrote pickle file for 1534 results\n"
     ]
    },
    {
     "name": "stderr",
     "output_type": "stream",
     "text": [
      "100%|███████████████████████████████████████████| 36/36 [01:38<00:00,  2.74s/it]\n"
     ]
    },
    {
     "name": "stdout",
     "output_type": "stream",
     "text": [
      "Wrote pickle file for 1563 results\n"
     ]
    },
    {
     "name": "stderr",
     "output_type": "stream",
     "text": [
      "100%|███████████████████████████████████████████| 36/36 [01:37<00:00,  2.72s/it]\n"
     ]
    },
    {
     "name": "stdout",
     "output_type": "stream",
     "text": [
      "Wrote pickle file for 1593 results\n"
     ]
    },
    {
     "name": "stderr",
     "output_type": "stream",
     "text": [
      "100%|███████████████████████████████████████████| 36/36 [01:35<00:00,  2.65s/it]\n"
     ]
    },
    {
     "name": "stdout",
     "output_type": "stream",
     "text": [
      "Wrote pickle file for 1616 results\n"
     ]
    },
    {
     "name": "stderr",
     "output_type": "stream",
     "text": [
      "100%|███████████████████████████████████████████| 36/36 [02:09<00:00,  3.61s/it]\n"
     ]
    },
    {
     "name": "stdout",
     "output_type": "stream",
     "text": [
      "Wrote pickle file for 1643 results\n"
     ]
    },
    {
     "name": "stderr",
     "output_type": "stream",
     "text": [
      "100%|███████████████████████████████████████████| 36/36 [01:55<00:00,  3.20s/it]\n"
     ]
    },
    {
     "name": "stdout",
     "output_type": "stream",
     "text": [
      "Wrote pickle file for 1671 results\n"
     ]
    },
    {
     "name": "stderr",
     "output_type": "stream",
     "text": [
      "100%|███████████████████████████████████████████| 36/36 [02:19<00:00,  3.87s/it]\n"
     ]
    },
    {
     "name": "stdout",
     "output_type": "stream",
     "text": [
      "Wrote pickle file for 1699 results\n"
     ]
    },
    {
     "name": "stderr",
     "output_type": "stream",
     "text": [
      "100%|███████████████████████████████████████████| 36/36 [02:37<00:00,  4.37s/it]\n"
     ]
    },
    {
     "name": "stdout",
     "output_type": "stream",
     "text": [
      "Wrote pickle file for 1727 results\n"
     ]
    },
    {
     "name": "stderr",
     "output_type": "stream",
     "text": [
      "100%|███████████████████████████████████████████| 36/36 [02:56<00:00,  4.91s/it]\n"
     ]
    },
    {
     "name": "stdout",
     "output_type": "stream",
     "text": [
      "Wrote pickle file for 1754 results\n"
     ]
    },
    {
     "name": "stderr",
     "output_type": "stream",
     "text": [
      "100%|███████████████████████████████████████████| 36/36 [02:57<00:00,  4.94s/it]\n"
     ]
    },
    {
     "name": "stdout",
     "output_type": "stream",
     "text": [
      "Wrote pickle file for 1781 results\n"
     ]
    },
    {
     "name": "stderr",
     "output_type": "stream",
     "text": [
      "100%|███████████████████████████████████████████| 36/36 [01:17<00:00,  2.16s/it]\n"
     ]
    },
    {
     "name": "stdout",
     "output_type": "stream",
     "text": [
      "Wrote pickle file for 1810 results\n"
     ]
    },
    {
     "name": "stderr",
     "output_type": "stream",
     "text": [
      "100%|███████████████████████████████████████████| 36/36 [01:36<00:00,  2.68s/it]\n"
     ]
    },
    {
     "name": "stdout",
     "output_type": "stream",
     "text": [
      "Wrote pickle file for 1837 results\n"
     ]
    },
    {
     "name": "stderr",
     "output_type": "stream",
     "text": [
      "100%|███████████████████████████████████████████| 36/36 [01:30<00:00,  2.51s/it]\n"
     ]
    },
    {
     "name": "stdout",
     "output_type": "stream",
     "text": [
      "Wrote pickle file for 1864 results\n"
     ]
    },
    {
     "name": "stderr",
     "output_type": "stream",
     "text": [
      "100%|███████████████████████████████████████████| 36/36 [02:43<00:00,  4.55s/it]\n"
     ]
    },
    {
     "name": "stdout",
     "output_type": "stream",
     "text": [
      "Wrote pickle file for 1893 results\n"
     ]
    },
    {
     "name": "stderr",
     "output_type": "stream",
     "text": [
      "100%|███████████████████████████████████████████| 36/36 [02:50<00:00,  4.73s/it]\n"
     ]
    },
    {
     "name": "stdout",
     "output_type": "stream",
     "text": [
      "Wrote pickle file for 1923 results\n"
     ]
    },
    {
     "name": "stderr",
     "output_type": "stream",
     "text": [
      "100%|███████████████████████████████████████████| 36/36 [02:04<00:00,  3.47s/it]\n"
     ]
    },
    {
     "name": "stdout",
     "output_type": "stream",
     "text": [
      "Wrote pickle file for 1953 results\n"
     ]
    },
    {
     "name": "stderr",
     "output_type": "stream",
     "text": [
      "100%|███████████████████████████████████████████| 36/36 [01:30<00:00,  2.52s/it]\n"
     ]
    },
    {
     "name": "stdout",
     "output_type": "stream",
     "text": [
      "Wrote pickle file for 1983 results\n"
     ]
    },
    {
     "name": "stderr",
     "output_type": "stream",
     "text": [
      "100%|███████████████████████████████████████████| 36/36 [01:45<00:00,  2.92s/it]\n"
     ]
    },
    {
     "name": "stdout",
     "output_type": "stream",
     "text": [
      "Wrote pickle file for 2011 results\n"
     ]
    },
    {
     "name": "stderr",
     "output_type": "stream",
     "text": [
      "100%|███████████████████████████████████████████| 36/36 [01:56<00:00,  3.24s/it]\n"
     ]
    },
    {
     "name": "stdout",
     "output_type": "stream",
     "text": [
      "Wrote pickle file for 2036 results\n"
     ]
    },
    {
     "name": "stderr",
     "output_type": "stream",
     "text": [
      "100%|███████████████████████████████████████████| 36/36 [01:37<00:00,  2.70s/it]\n"
     ]
    },
    {
     "name": "stdout",
     "output_type": "stream",
     "text": [
      "Wrote pickle file for 2064 results\n"
     ]
    },
    {
     "name": "stderr",
     "output_type": "stream",
     "text": [
      "100%|███████████████████████████████████████████| 36/36 [01:15<00:00,  2.09s/it]\n"
     ]
    },
    {
     "name": "stdout",
     "output_type": "stream",
     "text": [
      "Wrote pickle file for 2094 results\n"
     ]
    },
    {
     "name": "stderr",
     "output_type": "stream",
     "text": [
      "100%|███████████████████████████████████████████| 36/36 [01:40<00:00,  2.79s/it]\n"
     ]
    },
    {
     "name": "stdout",
     "output_type": "stream",
     "text": [
      "Wrote pickle file for 2121 results\n"
     ]
    },
    {
     "name": "stderr",
     "output_type": "stream",
     "text": [
      "100%|███████████████████████████████████████████| 36/36 [01:55<00:00,  3.21s/it]\n"
     ]
    },
    {
     "name": "stdout",
     "output_type": "stream",
     "text": [
      "Wrote pickle file for 2150 results\n"
     ]
    },
    {
     "name": "stderr",
     "output_type": "stream",
     "text": [
      "100%|███████████████████████████████████████████| 36/36 [02:57<00:00,  4.92s/it]\n"
     ]
    },
    {
     "name": "stdout",
     "output_type": "stream",
     "text": [
      "Wrote pickle file for 2176 results\n"
     ]
    },
    {
     "name": "stderr",
     "output_type": "stream",
     "text": [
      "100%|███████████████████████████████████████████| 36/36 [01:12<00:00,  2.02s/it]\n"
     ]
    },
    {
     "name": "stdout",
     "output_type": "stream",
     "text": [
      "Wrote pickle file for 2207 results\n"
     ]
    },
    {
     "name": "stderr",
     "output_type": "stream",
     "text": [
      "100%|███████████████████████████████████████████| 36/36 [01:30<00:00,  2.50s/it]\n"
     ]
    },
    {
     "name": "stdout",
     "output_type": "stream",
     "text": [
      "Wrote pickle file for 2240 results\n"
     ]
    },
    {
     "name": "stderr",
     "output_type": "stream",
     "text": [
      "100%|███████████████████████████████████████████| 36/36 [01:40<00:00,  2.80s/it]\n"
     ]
    },
    {
     "name": "stdout",
     "output_type": "stream",
     "text": [
      "Wrote pickle file for 2270 results\n"
     ]
    },
    {
     "name": "stderr",
     "output_type": "stream",
     "text": [
      "100%|███████████████████████████████████████████| 36/36 [01:56<00:00,  3.24s/it]\n"
     ]
    },
    {
     "name": "stdout",
     "output_type": "stream",
     "text": [
      "Wrote pickle file for 2300 results\n"
     ]
    },
    {
     "name": "stderr",
     "output_type": "stream",
     "text": [
      "100%|███████████████████████████████████████████| 36/36 [01:38<00:00,  2.73s/it]\n"
     ]
    },
    {
     "name": "stdout",
     "output_type": "stream",
     "text": [
      "Wrote pickle file for 2331 results\n"
     ]
    },
    {
     "name": "stderr",
     "output_type": "stream",
     "text": [
      "100%|███████████████████████████████████████████| 36/36 [01:36<00:00,  2.68s/it]\n"
     ]
    },
    {
     "name": "stdout",
     "output_type": "stream",
     "text": [
      "Wrote pickle file for 2360 results\n"
     ]
    },
    {
     "name": "stderr",
     "output_type": "stream",
     "text": [
      "100%|███████████████████████████████████████████| 36/36 [01:33<00:00,  2.61s/it]\n"
     ]
    },
    {
     "name": "stdout",
     "output_type": "stream",
     "text": [
      "Wrote pickle file for 2388 results\n"
     ]
    },
    {
     "name": "stderr",
     "output_type": "stream",
     "text": [
      "100%|███████████████████████████████████████████| 36/36 [02:32<00:00,  4.24s/it]\n"
     ]
    },
    {
     "name": "stdout",
     "output_type": "stream",
     "text": [
      "Wrote pickle file for 2413 results\n"
     ]
    },
    {
     "name": "stderr",
     "output_type": "stream",
     "text": [
      "100%|███████████████████████████████████████████| 36/36 [01:48<00:00,  3.01s/it]\n"
     ]
    },
    {
     "name": "stdout",
     "output_type": "stream",
     "text": [
      "Wrote pickle file for 2442 results\n"
     ]
    },
    {
     "name": "stderr",
     "output_type": "stream",
     "text": [
      "100%|███████████████████████████████████████████| 36/36 [01:05<00:00,  1.82s/it]\n"
     ]
    },
    {
     "name": "stdout",
     "output_type": "stream",
     "text": [
      "Wrote pickle file for 2475 results\n"
     ]
    },
    {
     "name": "stderr",
     "output_type": "stream",
     "text": [
      "100%|███████████████████████████████████████████| 36/36 [02:28<00:00,  4.13s/it]\n"
     ]
    },
    {
     "name": "stdout",
     "output_type": "stream",
     "text": [
      "Wrote pickle file for 2497 results\n"
     ]
    },
    {
     "name": "stderr",
     "output_type": "stream",
     "text": [
      "100%|███████████████████████████████████████████| 36/36 [01:31<00:00,  2.55s/it]\n"
     ]
    },
    {
     "name": "stdout",
     "output_type": "stream",
     "text": [
      "Wrote pickle file for 2527 results\n"
     ]
    },
    {
     "name": "stderr",
     "output_type": "stream",
     "text": [
      "100%|███████████████████████████████████████████| 36/36 [02:14<00:00,  3.72s/it]\n"
     ]
    },
    {
     "name": "stdout",
     "output_type": "stream",
     "text": [
      "Wrote pickle file for 2558 results\n"
     ]
    },
    {
     "name": "stderr",
     "output_type": "stream",
     "text": [
      "100%|███████████████████████████████████████████| 36/36 [01:30<00:00,  2.50s/it]\n"
     ]
    },
    {
     "name": "stdout",
     "output_type": "stream",
     "text": [
      "Wrote pickle file for 2587 results\n"
     ]
    },
    {
     "name": "stderr",
     "output_type": "stream",
     "text": [
      "100%|███████████████████████████████████████████| 36/36 [01:30<00:00,  2.52s/it]\n"
     ]
    },
    {
     "name": "stdout",
     "output_type": "stream",
     "text": [
      "Wrote pickle file for 2619 results\n"
     ]
    },
    {
     "name": "stderr",
     "output_type": "stream",
     "text": [
      "100%|███████████████████████████████████████████| 36/36 [01:26<00:00,  2.40s/it]\n"
     ]
    },
    {
     "name": "stdout",
     "output_type": "stream",
     "text": [
      "Wrote pickle file for 2652 results\n"
     ]
    },
    {
     "name": "stderr",
     "output_type": "stream",
     "text": [
      "100%|███████████████████████████████████████████| 36/36 [02:34<00:00,  4.29s/it]\n"
     ]
    },
    {
     "name": "stdout",
     "output_type": "stream",
     "text": [
      "Wrote pickle file for 2677 results\n"
     ]
    },
    {
     "name": "stderr",
     "output_type": "stream",
     "text": [
      "100%|███████████████████████████████████████████| 36/36 [02:13<00:00,  3.72s/it]\n"
     ]
    },
    {
     "name": "stdout",
     "output_type": "stream",
     "text": [
      "Wrote pickle file for 2704 results\n"
     ]
    },
    {
     "name": "stderr",
     "output_type": "stream",
     "text": [
      "100%|███████████████████████████████████████████| 36/36 [01:53<00:00,  3.15s/it]\n"
     ]
    },
    {
     "name": "stdout",
     "output_type": "stream",
     "text": [
      "Wrote pickle file for 2735 results\n"
     ]
    },
    {
     "name": "stderr",
     "output_type": "stream",
     "text": [
      "100%|███████████████████████████████████████████| 36/36 [01:17<00:00,  2.15s/it]\n"
     ]
    },
    {
     "name": "stdout",
     "output_type": "stream",
     "text": [
      "Wrote pickle file for 2768 results\n"
     ]
    },
    {
     "name": "stderr",
     "output_type": "stream",
     "text": [
      "100%|███████████████████████████████████████████| 36/36 [01:52<00:00,  3.14s/it]\n"
     ]
    },
    {
     "name": "stdout",
     "output_type": "stream",
     "text": [
      "Wrote pickle file for 2798 results\n"
     ]
    },
    {
     "name": "stderr",
     "output_type": "stream",
     "text": [
      "100%|███████████████████████████████████████████| 36/36 [01:37<00:00,  2.71s/it]\n"
     ]
    },
    {
     "name": "stdout",
     "output_type": "stream",
     "text": [
      "Wrote pickle file for 2825 results\n"
     ]
    },
    {
     "name": "stderr",
     "output_type": "stream",
     "text": [
      "100%|███████████████████████████████████████████| 36/36 [02:48<00:00,  4.69s/it]\n"
     ]
    },
    {
     "name": "stdout",
     "output_type": "stream",
     "text": [
      "Wrote pickle file for 2854 results\n"
     ]
    },
    {
     "name": "stderr",
     "output_type": "stream",
     "text": [
      "100%|███████████████████████████████████████████| 36/36 [01:09<00:00,  1.93s/it]\n"
     ]
    },
    {
     "name": "stdout",
     "output_type": "stream",
     "text": [
      "Wrote pickle file for 2886 results\n"
     ]
    },
    {
     "name": "stderr",
     "output_type": "stream",
     "text": [
      "100%|███████████████████████████████████████████| 36/36 [02:14<00:00,  3.74s/it]\n"
     ]
    },
    {
     "name": "stdout",
     "output_type": "stream",
     "text": [
      "Wrote pickle file for 2913 results\n"
     ]
    },
    {
     "name": "stderr",
     "output_type": "stream",
     "text": [
      "100%|███████████████████████████████████████████| 36/36 [01:54<00:00,  3.19s/it]\n"
     ]
    },
    {
     "name": "stdout",
     "output_type": "stream",
     "text": [
      "Wrote pickle file for 2942 results\n"
     ]
    },
    {
     "name": "stderr",
     "output_type": "stream",
     "text": [
      "100%|███████████████████████████████████████████| 36/36 [02:02<00:00,  3.41s/it]\n"
     ]
    },
    {
     "name": "stdout",
     "output_type": "stream",
     "text": [
      "Wrote pickle file for 2972 results\n"
     ]
    },
    {
     "name": "stderr",
     "output_type": "stream",
     "text": [
      "100%|███████████████████████████████████████████| 36/36 [02:05<00:00,  3.49s/it]\n"
     ]
    },
    {
     "name": "stdout",
     "output_type": "stream",
     "text": [
      "Wrote pickle file for 3001 results\n"
     ]
    },
    {
     "name": "stderr",
     "output_type": "stream",
     "text": [
      "100%|███████████████████████████████████████████| 36/36 [01:43<00:00,  2.88s/it]\n"
     ]
    },
    {
     "name": "stdout",
     "output_type": "stream",
     "text": [
      "Wrote pickle file for 3029 results\n"
     ]
    },
    {
     "name": "stderr",
     "output_type": "stream",
     "text": [
      "100%|███████████████████████████████████████████| 36/36 [01:03<00:00,  1.76s/it]\n"
     ]
    },
    {
     "name": "stdout",
     "output_type": "stream",
     "text": [
      "Wrote pickle file for 3060 results\n"
     ]
    },
    {
     "name": "stderr",
     "output_type": "stream",
     "text": [
      "100%|███████████████████████████████████████████| 36/36 [01:32<00:00,  2.58s/it]\n"
     ]
    },
    {
     "name": "stdout",
     "output_type": "stream",
     "text": [
      "Wrote pickle file for 3090 results\n"
     ]
    },
    {
     "name": "stderr",
     "output_type": "stream",
     "text": [
      "100%|███████████████████████████████████████████| 36/36 [01:30<00:00,  2.50s/it]\n"
     ]
    },
    {
     "name": "stdout",
     "output_type": "stream",
     "text": [
      "Wrote pickle file for 3114 results\n"
     ]
    },
    {
     "name": "stderr",
     "output_type": "stream",
     "text": [
      "100%|███████████████████████████████████████████| 36/36 [02:28<00:00,  4.13s/it]\n"
     ]
    },
    {
     "name": "stdout",
     "output_type": "stream",
     "text": [
      "Wrote pickle file for 3141 results\n"
     ]
    },
    {
     "name": "stderr",
     "output_type": "stream",
     "text": [
      "100%|███████████████████████████████████████████| 36/36 [01:07<00:00,  1.86s/it]\n"
     ]
    },
    {
     "name": "stdout",
     "output_type": "stream",
     "text": [
      "Wrote pickle file for 3173 results\n"
     ]
    },
    {
     "name": "stderr",
     "output_type": "stream",
     "text": [
      "100%|███████████████████████████████████████████| 36/36 [01:30<00:00,  2.51s/it]\n"
     ]
    },
    {
     "name": "stdout",
     "output_type": "stream",
     "text": [
      "Wrote pickle file for 3204 results\n"
     ]
    },
    {
     "name": "stderr",
     "output_type": "stream",
     "text": [
      "100%|███████████████████████████████████████████| 36/36 [02:22<00:00,  3.96s/it]\n"
     ]
    },
    {
     "name": "stdout",
     "output_type": "stream",
     "text": [
      "Wrote pickle file for 3232 results\n"
     ]
    },
    {
     "name": "stderr",
     "output_type": "stream",
     "text": [
      "100%|███████████████████████████████████████████| 36/36 [02:49<00:00,  4.72s/it]\n"
     ]
    },
    {
     "name": "stdout",
     "output_type": "stream",
     "text": [
      "Wrote pickle file for 3257 results\n"
     ]
    },
    {
     "name": "stderr",
     "output_type": "stream",
     "text": [
      "100%|███████████████████████████████████████████| 36/36 [02:37<00:00,  4.38s/it]\n"
     ]
    },
    {
     "name": "stdout",
     "output_type": "stream",
     "text": [
      "Wrote pickle file for 3285 results\n"
     ]
    },
    {
     "name": "stderr",
     "output_type": "stream",
     "text": [
      "100%|███████████████████████████████████████████| 36/36 [02:28<00:00,  4.11s/it]\n"
     ]
    },
    {
     "name": "stdout",
     "output_type": "stream",
     "text": [
      "Wrote pickle file for 3310 results\n"
     ]
    },
    {
     "name": "stderr",
     "output_type": "stream",
     "text": [
      "100%|███████████████████████████████████████████| 36/36 [01:50<00:00,  3.08s/it]\n"
     ]
    },
    {
     "name": "stdout",
     "output_type": "stream",
     "text": [
      "Wrote pickle file for 3341 results\n"
     ]
    },
    {
     "name": "stderr",
     "output_type": "stream",
     "text": [
      "100%|███████████████████████████████████████████| 36/36 [01:31<00:00,  2.55s/it]\n"
     ]
    },
    {
     "name": "stdout",
     "output_type": "stream",
     "text": [
      "Wrote pickle file for 3369 results\n"
     ]
    },
    {
     "name": "stderr",
     "output_type": "stream",
     "text": [
      "100%|███████████████████████████████████████████| 36/36 [01:31<00:00,  2.55s/it]\n"
     ]
    },
    {
     "name": "stdout",
     "output_type": "stream",
     "text": [
      "Wrote pickle file for 3397 results\n"
     ]
    },
    {
     "name": "stderr",
     "output_type": "stream",
     "text": [
      "100%|███████████████████████████████████████████| 36/36 [01:30<00:00,  2.50s/it]\n"
     ]
    },
    {
     "name": "stdout",
     "output_type": "stream",
     "text": [
      "Wrote pickle file for 3427 results\n"
     ]
    },
    {
     "name": "stderr",
     "output_type": "stream",
     "text": [
      "100%|███████████████████████████████████████████| 36/36 [02:10<00:00,  3.64s/it]\n"
     ]
    },
    {
     "name": "stdout",
     "output_type": "stream",
     "text": [
      "Wrote pickle file for 3451 results\n"
     ]
    },
    {
     "name": "stderr",
     "output_type": "stream",
     "text": [
      "100%|███████████████████████████████████████████| 36/36 [02:55<00:00,  4.87s/it]\n"
     ]
    },
    {
     "name": "stdout",
     "output_type": "stream",
     "text": [
      "Wrote pickle file for 3477 results\n"
     ]
    },
    {
     "name": "stderr",
     "output_type": "stream",
     "text": [
      "100%|███████████████████████████████████████████| 36/36 [01:44<00:00,  2.91s/it]\n"
     ]
    },
    {
     "name": "stdout",
     "output_type": "stream",
     "text": [
      "Wrote pickle file for 3503 results\n"
     ]
    },
    {
     "name": "stderr",
     "output_type": "stream",
     "text": [
      "100%|███████████████████████████████████████████| 36/36 [01:42<00:00,  2.85s/it]\n"
     ]
    },
    {
     "name": "stdout",
     "output_type": "stream",
     "text": [
      "Wrote pickle file for 3533 results\n"
     ]
    },
    {
     "name": "stderr",
     "output_type": "stream",
     "text": [
      "100%|███████████████████████████████████████████| 36/36 [02:01<00:00,  3.36s/it]\n"
     ]
    },
    {
     "name": "stdout",
     "output_type": "stream",
     "text": [
      "Wrote pickle file for 3563 results\n"
     ]
    },
    {
     "name": "stderr",
     "output_type": "stream",
     "text": [
      "100%|███████████████████████████████████████████| 36/36 [00:32<00:00,  1.10it/s]\n"
     ]
    },
    {
     "name": "stdout",
     "output_type": "stream",
     "text": [
      "Wrote pickle file for 3597 results\n"
     ]
    },
    {
     "name": "stderr",
     "output_type": "stream",
     "text": [
      "100%|███████████████████████████████████████████| 36/36 [01:46<00:00,  2.96s/it]\n"
     ]
    },
    {
     "name": "stdout",
     "output_type": "stream",
     "text": [
      "Wrote pickle file for 3626 results\n"
     ]
    },
    {
     "name": "stderr",
     "output_type": "stream",
     "text": [
      "100%|███████████████████████████████████████████| 36/36 [02:14<00:00,  3.74s/it]\n"
     ]
    },
    {
     "name": "stdout",
     "output_type": "stream",
     "text": [
      "Wrote pickle file for 3655 results\n"
     ]
    },
    {
     "name": "stderr",
     "output_type": "stream",
     "text": [
      "100%|███████████████████████████████████████████| 36/36 [01:38<00:00,  2.74s/it]\n"
     ]
    },
    {
     "name": "stdout",
     "output_type": "stream",
     "text": [
      "Wrote pickle file for 3683 results\n"
     ]
    },
    {
     "name": "stderr",
     "output_type": "stream",
     "text": [
      "100%|███████████████████████████████████████████| 36/36 [01:44<00:00,  2.90s/it]\n"
     ]
    },
    {
     "name": "stdout",
     "output_type": "stream",
     "text": [
      "Wrote pickle file for 3714 results\n"
     ]
    },
    {
     "name": "stderr",
     "output_type": "stream",
     "text": [
      "100%|███████████████████████████████████████████| 36/36 [01:31<00:00,  2.54s/it]\n"
     ]
    },
    {
     "name": "stdout",
     "output_type": "stream",
     "text": [
      "Wrote pickle file for 3742 results\n"
     ]
    },
    {
     "name": "stderr",
     "output_type": "stream",
     "text": [
      "100%|███████████████████████████████████████████| 36/36 [01:43<00:00,  2.87s/it]\n"
     ]
    },
    {
     "name": "stdout",
     "output_type": "stream",
     "text": [
      "Wrote pickle file for 3771 results\n"
     ]
    },
    {
     "name": "stderr",
     "output_type": "stream",
     "text": [
      "100%|███████████████████████████████████████████| 36/36 [01:30<00:00,  2.50s/it]\n"
     ]
    },
    {
     "name": "stdout",
     "output_type": "stream",
     "text": [
      "Wrote pickle file for 3803 results\n"
     ]
    },
    {
     "name": "stderr",
     "output_type": "stream",
     "text": [
      "100%|███████████████████████████████████████████| 36/36 [02:36<00:00,  4.34s/it]\n"
     ]
    },
    {
     "name": "stdout",
     "output_type": "stream",
     "text": [
      "Wrote pickle file for 3829 results\n"
     ]
    },
    {
     "name": "stderr",
     "output_type": "stream",
     "text": [
      "100%|███████████████████████████████████████████| 36/36 [02:41<00:00,  4.48s/it]\n"
     ]
    },
    {
     "name": "stdout",
     "output_type": "stream",
     "text": [
      "Wrote pickle file for 3855 results\n"
     ]
    },
    {
     "name": "stderr",
     "output_type": "stream",
     "text": [
      "100%|███████████████████████████████████████████| 36/36 [01:37<00:00,  2.70s/it]\n"
     ]
    },
    {
     "name": "stdout",
     "output_type": "stream",
     "text": [
      "Wrote pickle file for 3887 results\n"
     ]
    },
    {
     "name": "stderr",
     "output_type": "stream",
     "text": [
      "100%|███████████████████████████████████████████| 36/36 [01:55<00:00,  3.19s/it]\n"
     ]
    },
    {
     "name": "stdout",
     "output_type": "stream",
     "text": [
      "Wrote pickle file for 3915 results\n"
     ]
    },
    {
     "name": "stderr",
     "output_type": "stream",
     "text": [
      "100%|███████████████████████████████████████████| 36/36 [01:30<00:00,  2.52s/it]\n"
     ]
    },
    {
     "name": "stdout",
     "output_type": "stream",
     "text": [
      "Wrote pickle file for 3942 results\n"
     ]
    },
    {
     "name": "stderr",
     "output_type": "stream",
     "text": [
      "100%|███████████████████████████████████████████| 36/36 [01:55<00:00,  3.20s/it]\n"
     ]
    },
    {
     "name": "stdout",
     "output_type": "stream",
     "text": [
      "Wrote pickle file for 3970 results\n"
     ]
    },
    {
     "name": "stderr",
     "output_type": "stream",
     "text": [
      "100%|███████████████████████████████████████████| 36/36 [00:27<00:00,  1.31it/s]\n"
     ]
    },
    {
     "name": "stdout",
     "output_type": "stream",
     "text": [
      "Wrote pickle file for 4000 results\n"
     ]
    },
    {
     "name": "stderr",
     "output_type": "stream",
     "text": [
      "100%|███████████████████████████████████████████| 36/36 [02:53<00:00,  4.81s/it]\n"
     ]
    },
    {
     "name": "stdout",
     "output_type": "stream",
     "text": [
      "Wrote pickle file for 4028 results\n"
     ]
    },
    {
     "name": "stderr",
     "output_type": "stream",
     "text": [
      "100%|███████████████████████████████████████████| 36/36 [02:15<00:00,  3.76s/it]\n"
     ]
    },
    {
     "name": "stdout",
     "output_type": "stream",
     "text": [
      "Wrote pickle file for 4058 results\n"
     ]
    },
    {
     "name": "stderr",
     "output_type": "stream",
     "text": [
      "100%|███████████████████████████████████████████| 36/36 [01:45<00:00,  2.92s/it]\n"
     ]
    },
    {
     "name": "stdout",
     "output_type": "stream",
     "text": [
      "Wrote pickle file for 4087 results\n"
     ]
    },
    {
     "name": "stderr",
     "output_type": "stream",
     "text": [
      "100%|███████████████████████████████████████████| 36/36 [01:53<00:00,  3.16s/it]\n"
     ]
    },
    {
     "name": "stdout",
     "output_type": "stream",
     "text": [
      "Wrote pickle file for 4113 results\n"
     ]
    },
    {
     "name": "stderr",
     "output_type": "stream",
     "text": [
      "100%|███████████████████████████████████████████| 36/36 [01:34<00:00,  2.64s/it]\n"
     ]
    },
    {
     "name": "stdout",
     "output_type": "stream",
     "text": [
      "Wrote pickle file for 4145 results\n"
     ]
    },
    {
     "name": "stderr",
     "output_type": "stream",
     "text": [
      "100%|███████████████████████████████████████████| 36/36 [01:35<00:00,  2.65s/it]\n"
     ]
    },
    {
     "name": "stdout",
     "output_type": "stream",
     "text": [
      "Wrote pickle file for 4176 results\n"
     ]
    },
    {
     "name": "stderr",
     "output_type": "stream",
     "text": [
      "100%|███████████████████████████████████████████| 36/36 [01:30<00:00,  2.51s/it]\n"
     ]
    },
    {
     "name": "stdout",
     "output_type": "stream",
     "text": [
      "Wrote pickle file for 4205 results\n"
     ]
    },
    {
     "name": "stderr",
     "output_type": "stream",
     "text": [
      "100%|███████████████████████████████████████████| 36/36 [01:31<00:00,  2.53s/it]\n"
     ]
    },
    {
     "name": "stdout",
     "output_type": "stream",
     "text": [
      "Wrote pickle file for 4234 results\n"
     ]
    },
    {
     "name": "stderr",
     "output_type": "stream",
     "text": [
      "100%|███████████████████████████████████████████| 36/36 [01:44<00:00,  2.89s/it]\n"
     ]
    },
    {
     "name": "stdout",
     "output_type": "stream",
     "text": [
      "Wrote pickle file for 4261 results\n"
     ]
    },
    {
     "name": "stderr",
     "output_type": "stream",
     "text": [
      "100%|███████████████████████████████████████████| 36/36 [01:55<00:00,  3.21s/it]\n"
     ]
    },
    {
     "name": "stdout",
     "output_type": "stream",
     "text": [
      "Wrote pickle file for 4285 results\n"
     ]
    },
    {
     "name": "stderr",
     "output_type": "stream",
     "text": [
      "100%|███████████████████████████████████████████| 36/36 [01:32<00:00,  2.56s/it]\n"
     ]
    },
    {
     "name": "stdout",
     "output_type": "stream",
     "text": [
      "Wrote pickle file for 4311 results\n"
     ]
    },
    {
     "name": "stderr",
     "output_type": "stream",
     "text": [
      "100%|███████████████████████████████████████████| 36/36 [01:56<00:00,  3.24s/it]\n"
     ]
    },
    {
     "name": "stdout",
     "output_type": "stream",
     "text": [
      "Wrote pickle file for 4338 results\n"
     ]
    },
    {
     "name": "stderr",
     "output_type": "stream",
     "text": [
      "100%|███████████████████████████████████████████| 36/36 [02:20<00:00,  3.90s/it]\n"
     ]
    },
    {
     "name": "stdout",
     "output_type": "stream",
     "text": [
      "Wrote pickle file for 4365 results\n"
     ]
    },
    {
     "name": "stderr",
     "output_type": "stream",
     "text": [
      "100%|███████████████████████████████████████████| 36/36 [01:51<00:00,  3.09s/it]\n"
     ]
    },
    {
     "name": "stdout",
     "output_type": "stream",
     "text": [
      "Wrote pickle file for 4392 results\n"
     ]
    },
    {
     "name": "stderr",
     "output_type": "stream",
     "text": [
      "100%|███████████████████████████████████████████| 36/36 [01:30<00:00,  2.50s/it]\n"
     ]
    },
    {
     "name": "stdout",
     "output_type": "stream",
     "text": [
      "Wrote pickle file for 4423 results\n"
     ]
    },
    {
     "name": "stderr",
     "output_type": "stream",
     "text": [
      "100%|███████████████████████████████████████████| 36/36 [03:08<00:00,  5.25s/it]\n"
     ]
    },
    {
     "name": "stdout",
     "output_type": "stream",
     "text": [
      "Wrote pickle file for 4447 results\n"
     ]
    },
    {
     "name": "stderr",
     "output_type": "stream",
     "text": [
      "100%|███████████████████████████████████████████| 36/36 [01:58<00:00,  3.29s/it]\n"
     ]
    },
    {
     "name": "stdout",
     "output_type": "stream",
     "text": [
      "Wrote pickle file for 4480 results\n"
     ]
    },
    {
     "name": "stderr",
     "output_type": "stream",
     "text": [
      "100%|███████████████████████████████████████████| 36/36 [01:36<00:00,  2.69s/it]\n"
     ]
    },
    {
     "name": "stdout",
     "output_type": "stream",
     "text": [
      "Wrote pickle file for 4508 results\n"
     ]
    },
    {
     "name": "stderr",
     "output_type": "stream",
     "text": [
      "100%|███████████████████████████████████████████| 36/36 [01:37<00:00,  2.71s/it]\n"
     ]
    },
    {
     "name": "stdout",
     "output_type": "stream",
     "text": [
      "Wrote pickle file for 4535 results\n"
     ]
    },
    {
     "name": "stderr",
     "output_type": "stream",
     "text": [
      "100%|███████████████████████████████████████████| 36/36 [02:00<00:00,  3.35s/it]\n"
     ]
    },
    {
     "name": "stdout",
     "output_type": "stream",
     "text": [
      "Wrote pickle file for 4565 results\n"
     ]
    },
    {
     "name": "stderr",
     "output_type": "stream",
     "text": [
      "100%|███████████████████████████████████████████| 36/36 [02:03<00:00,  3.43s/it]\n"
     ]
    },
    {
     "name": "stdout",
     "output_type": "stream",
     "text": [
      "Wrote pickle file for 4588 results\n"
     ]
    },
    {
     "name": "stderr",
     "output_type": "stream",
     "text": [
      "100%|███████████████████████████████████████████| 36/36 [02:00<00:00,  3.34s/it]\n"
     ]
    },
    {
     "name": "stdout",
     "output_type": "stream",
     "text": [
      "Wrote pickle file for 4616 results\n"
     ]
    },
    {
     "name": "stderr",
     "output_type": "stream",
     "text": [
      "100%|███████████████████████████████████████████| 36/36 [01:57<00:00,  3.27s/it]\n"
     ]
    },
    {
     "name": "stdout",
     "output_type": "stream",
     "text": [
      "Wrote pickle file for 4648 results\n"
     ]
    },
    {
     "name": "stderr",
     "output_type": "stream",
     "text": [
      "100%|███████████████████████████████████████████| 36/36 [01:53<00:00,  3.16s/it]\n"
     ]
    },
    {
     "name": "stdout",
     "output_type": "stream",
     "text": [
      "Wrote pickle file for 4679 results\n"
     ]
    },
    {
     "name": "stderr",
     "output_type": "stream",
     "text": [
      "100%|███████████████████████████████████████████| 36/36 [01:57<00:00,  3.26s/it]\n"
     ]
    },
    {
     "name": "stdout",
     "output_type": "stream",
     "text": [
      "Wrote pickle file for 4708 results\n"
     ]
    },
    {
     "name": "stderr",
     "output_type": "stream",
     "text": [
      "100%|███████████████████████████████████████████| 36/36 [01:18<00:00,  2.19s/it]\n"
     ]
    },
    {
     "name": "stdout",
     "output_type": "stream",
     "text": [
      "Wrote pickle file for 4736 results\n"
     ]
    },
    {
     "name": "stderr",
     "output_type": "stream",
     "text": [
      "100%|███████████████████████████████████████████| 36/36 [02:20<00:00,  3.91s/it]\n"
     ]
    },
    {
     "name": "stdout",
     "output_type": "stream",
     "text": [
      "Wrote pickle file for 4765 results\n"
     ]
    },
    {
     "name": "stderr",
     "output_type": "stream",
     "text": [
      "100%|███████████████████████████████████████████| 36/36 [01:57<00:00,  3.27s/it]\n"
     ]
    },
    {
     "name": "stdout",
     "output_type": "stream",
     "text": [
      "Wrote pickle file for 4791 results\n"
     ]
    },
    {
     "name": "stderr",
     "output_type": "stream",
     "text": [
      "100%|███████████████████████████████████████████| 36/36 [02:01<00:00,  3.39s/it]\n"
     ]
    },
    {
     "name": "stdout",
     "output_type": "stream",
     "text": [
      "Wrote pickle file for 4819 results\n"
     ]
    },
    {
     "name": "stderr",
     "output_type": "stream",
     "text": [
      "100%|███████████████████████████████████████████| 36/36 [02:07<00:00,  3.54s/it]\n"
     ]
    },
    {
     "name": "stdout",
     "output_type": "stream",
     "text": [
      "Wrote pickle file for 4850 results\n"
     ]
    },
    {
     "name": "stderr",
     "output_type": "stream",
     "text": [
      "100%|███████████████████████████████████████████| 36/36 [02:57<00:00,  4.93s/it]\n"
     ]
    },
    {
     "name": "stdout",
     "output_type": "stream",
     "text": [
      "Wrote pickle file for 4876 results\n"
     ]
    },
    {
     "name": "stderr",
     "output_type": "stream",
     "text": [
      "100%|███████████████████████████████████████████| 36/36 [03:00<00:00,  5.01s/it]\n"
     ]
    },
    {
     "name": "stdout",
     "output_type": "stream",
     "text": [
      "Wrote pickle file for 4902 results\n"
     ]
    },
    {
     "name": "stderr",
     "output_type": "stream",
     "text": [
      "100%|███████████████████████████████████████████| 36/36 [03:15<00:00,  5.43s/it]\n"
     ]
    },
    {
     "name": "stdout",
     "output_type": "stream",
     "text": [
      "Wrote pickle file for 4927 results\n"
     ]
    },
    {
     "name": "stderr",
     "output_type": "stream",
     "text": [
      "100%|███████████████████████████████████████████| 36/36 [01:34<00:00,  2.62s/it]\n"
     ]
    },
    {
     "name": "stdout",
     "output_type": "stream",
     "text": [
      "Wrote pickle file for 4955 results\n"
     ]
    },
    {
     "name": "stderr",
     "output_type": "stream",
     "text": [
      "100%|███████████████████████████████████████████| 36/36 [01:51<00:00,  3.10s/it]\n"
     ]
    },
    {
     "name": "stdout",
     "output_type": "stream",
     "text": [
      "Wrote pickle file for 4982 results\n"
     ]
    },
    {
     "name": "stderr",
     "output_type": "stream",
     "text": [
      "100%|███████████████████████████████████████████| 36/36 [01:40<00:00,  2.78s/it]\n"
     ]
    },
    {
     "name": "stdout",
     "output_type": "stream",
     "text": [
      "Wrote pickle file for 5012 results\n"
     ]
    },
    {
     "name": "stderr",
     "output_type": "stream",
     "text": [
      "100%|███████████████████████████████████████████| 36/36 [01:18<00:00,  2.18s/it]\n"
     ]
    },
    {
     "name": "stdout",
     "output_type": "stream",
     "text": [
      "Wrote pickle file for 5042 results\n"
     ]
    },
    {
     "name": "stderr",
     "output_type": "stream",
     "text": [
      "100%|███████████████████████████████████████████| 36/36 [02:12<00:00,  3.69s/it]\n"
     ]
    },
    {
     "name": "stdout",
     "output_type": "stream",
     "text": [
      "Wrote pickle file for 5071 results\n"
     ]
    },
    {
     "name": "stderr",
     "output_type": "stream",
     "text": [
      "100%|███████████████████████████████████████████| 36/36 [01:41<00:00,  2.83s/it]\n"
     ]
    },
    {
     "name": "stdout",
     "output_type": "stream",
     "text": [
      "Wrote pickle file for 5100 results\n"
     ]
    },
    {
     "name": "stderr",
     "output_type": "stream",
     "text": [
      "100%|███████████████████████████████████████████| 36/36 [01:48<00:00,  3.02s/it]\n"
     ]
    },
    {
     "name": "stdout",
     "output_type": "stream",
     "text": [
      "Wrote pickle file for 5129 results\n"
     ]
    },
    {
     "name": "stderr",
     "output_type": "stream",
     "text": [
      "100%|███████████████████████████████████████████| 36/36 [00:19<00:00,  1.86it/s]\n"
     ]
    },
    {
     "name": "stdout",
     "output_type": "stream",
     "text": [
      "Wrote pickle file for 5160 results\n"
     ]
    },
    {
     "name": "stderr",
     "output_type": "stream",
     "text": [
      "100%|███████████████████████████████████████████| 36/36 [01:30<00:00,  2.50s/it]\n"
     ]
    },
    {
     "name": "stdout",
     "output_type": "stream",
     "text": [
      "Wrote pickle file for 5191 results\n"
     ]
    },
    {
     "name": "stderr",
     "output_type": "stream",
     "text": [
      "100%|███████████████████████████████████████████| 36/36 [02:27<00:00,  4.09s/it]\n"
     ]
    },
    {
     "name": "stdout",
     "output_type": "stream",
     "text": [
      "Wrote pickle file for 5222 results\n"
     ]
    },
    {
     "name": "stderr",
     "output_type": "stream",
     "text": [
      "100%|███████████████████████████████████████████| 36/36 [01:57<00:00,  3.26s/it]\n"
     ]
    },
    {
     "name": "stdout",
     "output_type": "stream",
     "text": [
      "Wrote pickle file for 5251 results\n"
     ]
    },
    {
     "name": "stderr",
     "output_type": "stream",
     "text": [
      "100%|███████████████████████████████████████████| 36/36 [02:30<00:00,  4.19s/it]\n"
     ]
    },
    {
     "name": "stdout",
     "output_type": "stream",
     "text": [
      "Wrote pickle file for 5278 results\n"
     ]
    },
    {
     "name": "stderr",
     "output_type": "stream",
     "text": [
      "100%|███████████████████████████████████████████| 36/36 [01:31<00:00,  2.53s/it]\n"
     ]
    },
    {
     "name": "stdout",
     "output_type": "stream",
     "text": [
      "Wrote pickle file for 5305 results\n"
     ]
    },
    {
     "name": "stderr",
     "output_type": "stream",
     "text": [
      "100%|███████████████████████████████████████████| 36/36 [01:46<00:00,  2.95s/it]\n"
     ]
    },
    {
     "name": "stdout",
     "output_type": "stream",
     "text": [
      "Wrote pickle file for 5335 results\n"
     ]
    },
    {
     "name": "stderr",
     "output_type": "stream",
     "text": [
      "  6%|██▍                                         | 2/36 [01:18<22:15, 39.29s/it]Process ForkPoolWorker-2:\n",
      " 28%|███████████▉                               | 10/36 [01:27<03:48,  8.78s/it]Process ForkPoolWorker-1:\n",
      "Traceback (most recent call last):\n",
      "Traceback (most recent call last):\n",
      "  File \"/usr/lib/python3.8/multiprocessing/process.py\", line 315, in _bootstrap\n",
      "    self.run()\n",
      "  File \"/usr/lib/python3.8/multiprocessing/process.py\", line 315, in _bootstrap\n",
      "    self.run()\n",
      "  File \"/usr/lib/python3.8/multiprocessing/process.py\", line 108, in run\n",
      "    self._target(*self._args, **self._kwargs)\n",
      "  File \"/usr/lib/python3.8/multiprocessing/pool.py\", line 114, in worker\n",
      "    task = get()\n",
      "  File \"/usr/lib/python3.8/multiprocessing/queues.py\", line 355, in get\n",
      "    with self._rlock:\n",
      "  File \"/usr/lib/python3.8/multiprocessing/synchronize.py\", line 95, in __enter__\n",
      "    return self._semlock.__enter__()\n",
      "KeyboardInterrupt\n",
      "  File \"/usr/lib/python3.8/multiprocessing/process.py\", line 108, in run\n",
      "    self._target(*self._args, **self._kwargs)\n",
      "  File \"/usr/lib/python3.8/multiprocessing/pool.py\", line 114, in worker\n",
      "    task = get()\n",
      "  File \"/usr/lib/python3.8/multiprocessing/queues.py\", line 356, in get\n",
      "    res = self._reader.recv_bytes()\n",
      "  File \"/usr/lib/python3.8/multiprocessing/connection.py\", line 216, in recv_bytes\n",
      "    buf = self._recv_bytes(maxlength)\n",
      "  File \"/usr/lib/python3.8/multiprocessing/connection.py\", line 414, in _recv_bytes\n",
      "    buf = self._recv(4)\n",
      "  File \"/usr/lib/python3.8/multiprocessing/connection.py\", line 379, in _recv\n",
      "    chunk = read(handle, remaining)\n",
      "KeyboardInterrupt\n",
      "\n",
      "Process ForkPoolWorker-3:\n",
      "Process ForkPoolWorker-5:\n",
      "Process ForkPoolWorker-4:\n",
      "Traceback (most recent call last):\n",
      "Process ForkPoolWorker-6:\n",
      "Traceback (most recent call last):\n",
      "  File \"/usr/lib/python3.8/multiprocessing/process.py\", line 315, in _bootstrap\n",
      "    self.run()\n",
      "Traceback (most recent call last):\n",
      "  File \"/usr/lib/python3.8/multiprocessing/process.py\", line 315, in _bootstrap\n",
      "    self.run()\n",
      "  File \"/usr/lib/python3.8/multiprocessing/process.py\", line 108, in run\n",
      "    self._target(*self._args, **self._kwargs)\n",
      "  File \"/usr/lib/python3.8/multiprocessing/pool.py\", line 125, in worker\n",
      "    result = (True, func(*args, **kwds))\n",
      "  File \"/usr/lib/python3.8/multiprocessing/process.py\", line 108, in run\n",
      "    self._target(*self._args, **self._kwargs)\n",
      "  File \"/usr/lib/python3.8/multiprocessing/pool.py\", line 125, in worker\n",
      "    result = (True, func(*args, **kwds))\n",
      "  File \"/tmp/ipykernel_799270/100728554.py\", line 19, in random_run\n",
      "    result = subprocess.run(program,\n",
      "  File \"/usr/lib/python3.8/subprocess.py\", line 495, in run\n",
      "    stdout, stderr = process.communicate(input, timeout=timeout)\n",
      "Traceback (most recent call last):\n",
      "  File \"/usr/lib/python3.8/subprocess.py\", line 1028, in communicate\n",
      "    stdout, stderr = self._communicate(input, endtime, timeout)\n",
      "  File \"/usr/lib/python3.8/multiprocessing/process.py\", line 315, in _bootstrap\n",
      "    self.run()\n",
      "  File \"/usr/lib/python3.8/subprocess.py\", line 1868, in _communicate\n",
      "    ready = selector.select(timeout)\n",
      "  File \"/usr/lib/python3.8/multiprocessing/process.py\", line 108, in run\n",
      "    self._target(*self._args, **self._kwargs)\n",
      "  File \"/usr/lib/python3.8/selectors.py\", line 415, in select\n",
      "    fd_event_list = self._selector.poll(timeout)\n",
      "  File \"/usr/lib/python3.8/multiprocessing/pool.py\", line 125, in worker\n",
      "    result = (True, func(*args, **kwds))\n",
      "  File \"/tmp/ipykernel_799270/100728554.py\", line 19, in random_run\n",
      "    result = subprocess.run(program,\n",
      "KeyboardInterrupt\n",
      "  File \"/usr/lib/python3.8/multiprocessing/process.py\", line 315, in _bootstrap\n",
      "    self.run()\n",
      "  File \"/usr/lib/python3.8/multiprocessing/process.py\", line 108, in run\n",
      "    self._target(*self._args, **self._kwargs)\n",
      "  File \"/usr/lib/python3.8/multiprocessing/pool.py\", line 125, in worker\n",
      "    result = (True, func(*args, **kwds))\n",
      "  File \"/tmp/ipykernel_799270/100728554.py\", line 19, in random_run\n",
      "    result = subprocess.run(program,\n",
      "  File \"/usr/lib/python3.8/subprocess.py\", line 495, in run\n",
      "    stdout, stderr = process.communicate(input, timeout=timeout)\n",
      "  File \"/usr/lib/python3.8/subprocess.py\", line 1028, in communicate\n",
      "    stdout, stderr = self._communicate(input, endtime, timeout)\n",
      "  File \"/tmp/ipykernel_799270/100728554.py\", line 19, in random_run\n",
      "    result = subprocess.run(program,\n",
      "  File \"/usr/lib/python3.8/subprocess.py\", line 1868, in _communicate\n",
      "    ready = selector.select(timeout)\n",
      "  File \"/usr/lib/python3.8/subprocess.py\", line 495, in run\n",
      "    stdout, stderr = process.communicate(input, timeout=timeout)\n",
      "  File \"/usr/lib/python3.8/subprocess.py\", line 1028, in communicate\n",
      "    stdout, stderr = self._communicate(input, endtime, timeout)\n",
      "  File \"/usr/lib/python3.8/subprocess.py\", line 1868, in _communicate\n",
      "    ready = selector.select(timeout)\n",
      "  File \"/usr/lib/python3.8/subprocess.py\", line 495, in run\n",
      "    stdout, stderr = process.communicate(input, timeout=timeout)\n",
      "  File \"/usr/lib/python3.8/selectors.py\", line 415, in select\n",
      "    fd_event_list = self._selector.poll(timeout)\n",
      "KeyboardInterrupt\n",
      "  File \"/usr/lib/python3.8/subprocess.py\", line 1028, in communicate\n",
      "    stdout, stderr = self._communicate(input, endtime, timeout)\n",
      "  File \"/usr/lib/python3.8/subprocess.py\", line 1868, in _communicate\n",
      "    ready = selector.select(timeout)\n",
      "  File \"/usr/lib/python3.8/selectors.py\", line 415, in select\n",
      "    fd_event_list = self._selector.poll(timeout)\n",
      "KeyboardInterrupt\n",
      "  File \"/usr/lib/python3.8/selectors.py\", line 415, in select\n",
      "    fd_event_list = self._selector.poll(timeout)\n",
      "KeyboardInterrupt\n"
     ]
    },
    {
     "ename": "KeyboardInterrupt",
     "evalue": "",
     "output_type": "error",
     "traceback": [
      "\u001b[0;31m---------------------------------------------------------------------------\u001b[0m",
      "\u001b[0;31mKeyboardInterrupt\u001b[0m                         Traceback (most recent call last)",
      "\u001b[0;32m/tmp/ipykernel_799270/981132878.py\u001b[0m in \u001b[0;36m<module>\u001b[0;34m\u001b[0m\n\u001b[1;32m     12\u001b[0m             \u001b[0;32mtry\u001b[0m\u001b[0;34m:\u001b[0m\u001b[0;34m\u001b[0m\u001b[0;34m\u001b[0m\u001b[0m\n\u001b[0;32m---> 13\u001b[0;31m                 \u001b[0mres\u001b[0m \u001b[0;34m=\u001b[0m \u001b[0mres_promise\u001b[0m\u001b[0;34m.\u001b[0m\u001b[0mget\u001b[0m\u001b[0;34m(\u001b[0m\u001b[0;34m)\u001b[0m\u001b[0;34m\u001b[0m\u001b[0;34m\u001b[0m\u001b[0m\n\u001b[0m\u001b[1;32m     14\u001b[0m             \u001b[0;32mexcept\u001b[0m \u001b[0mTimeoutError\u001b[0m\u001b[0;34m:\u001b[0m\u001b[0;34m\u001b[0m\u001b[0;34m\u001b[0m\u001b[0m\n",
      "\u001b[0;32m/usr/lib/python3.8/multiprocessing/pool.py\u001b[0m in \u001b[0;36mget\u001b[0;34m(self, timeout)\u001b[0m\n\u001b[1;32m    764\u001b[0m     \u001b[0;32mdef\u001b[0m \u001b[0mget\u001b[0m\u001b[0;34m(\u001b[0m\u001b[0mself\u001b[0m\u001b[0;34m,\u001b[0m \u001b[0mtimeout\u001b[0m\u001b[0;34m=\u001b[0m\u001b[0;32mNone\u001b[0m\u001b[0;34m)\u001b[0m\u001b[0;34m:\u001b[0m\u001b[0;34m\u001b[0m\u001b[0;34m\u001b[0m\u001b[0m\n\u001b[0;32m--> 765\u001b[0;31m         \u001b[0mself\u001b[0m\u001b[0;34m.\u001b[0m\u001b[0mwait\u001b[0m\u001b[0;34m(\u001b[0m\u001b[0mtimeout\u001b[0m\u001b[0;34m)\u001b[0m\u001b[0;34m\u001b[0m\u001b[0;34m\u001b[0m\u001b[0m\n\u001b[0m\u001b[1;32m    766\u001b[0m         \u001b[0;32mif\u001b[0m \u001b[0;32mnot\u001b[0m \u001b[0mself\u001b[0m\u001b[0;34m.\u001b[0m\u001b[0mready\u001b[0m\u001b[0;34m(\u001b[0m\u001b[0;34m)\u001b[0m\u001b[0;34m:\u001b[0m\u001b[0;34m\u001b[0m\u001b[0;34m\u001b[0m\u001b[0m\n",
      "\u001b[0;32m/usr/lib/python3.8/multiprocessing/pool.py\u001b[0m in \u001b[0;36mwait\u001b[0;34m(self, timeout)\u001b[0m\n\u001b[1;32m    761\u001b[0m     \u001b[0;32mdef\u001b[0m \u001b[0mwait\u001b[0m\u001b[0;34m(\u001b[0m\u001b[0mself\u001b[0m\u001b[0;34m,\u001b[0m \u001b[0mtimeout\u001b[0m\u001b[0;34m=\u001b[0m\u001b[0;32mNone\u001b[0m\u001b[0;34m)\u001b[0m\u001b[0;34m:\u001b[0m\u001b[0;34m\u001b[0m\u001b[0;34m\u001b[0m\u001b[0m\n\u001b[0;32m--> 762\u001b[0;31m         \u001b[0mself\u001b[0m\u001b[0;34m.\u001b[0m\u001b[0m_event\u001b[0m\u001b[0;34m.\u001b[0m\u001b[0mwait\u001b[0m\u001b[0;34m(\u001b[0m\u001b[0mtimeout\u001b[0m\u001b[0;34m)\u001b[0m\u001b[0;34m\u001b[0m\u001b[0;34m\u001b[0m\u001b[0m\n\u001b[0m\u001b[1;32m    763\u001b[0m \u001b[0;34m\u001b[0m\u001b[0m\n",
      "\u001b[0;32m/usr/lib/python3.8/threading.py\u001b[0m in \u001b[0;36mwait\u001b[0;34m(self, timeout)\u001b[0m\n\u001b[1;32m    557\u001b[0m             \u001b[0;32mif\u001b[0m \u001b[0;32mnot\u001b[0m \u001b[0msignaled\u001b[0m\u001b[0;34m:\u001b[0m\u001b[0;34m\u001b[0m\u001b[0;34m\u001b[0m\u001b[0m\n\u001b[0;32m--> 558\u001b[0;31m                 \u001b[0msignaled\u001b[0m \u001b[0;34m=\u001b[0m \u001b[0mself\u001b[0m\u001b[0;34m.\u001b[0m\u001b[0m_cond\u001b[0m\u001b[0;34m.\u001b[0m\u001b[0mwait\u001b[0m\u001b[0;34m(\u001b[0m\u001b[0mtimeout\u001b[0m\u001b[0;34m)\u001b[0m\u001b[0;34m\u001b[0m\u001b[0;34m\u001b[0m\u001b[0m\n\u001b[0m\u001b[1;32m    559\u001b[0m             \u001b[0;32mreturn\u001b[0m \u001b[0msignaled\u001b[0m\u001b[0;34m\u001b[0m\u001b[0;34m\u001b[0m\u001b[0m\n",
      "\u001b[0;32m/usr/lib/python3.8/threading.py\u001b[0m in \u001b[0;36mwait\u001b[0;34m(self, timeout)\u001b[0m\n\u001b[1;32m    301\u001b[0m             \u001b[0;32mif\u001b[0m \u001b[0mtimeout\u001b[0m \u001b[0;32mis\u001b[0m \u001b[0;32mNone\u001b[0m\u001b[0;34m:\u001b[0m\u001b[0;34m\u001b[0m\u001b[0;34m\u001b[0m\u001b[0m\n\u001b[0;32m--> 302\u001b[0;31m                 \u001b[0mwaiter\u001b[0m\u001b[0;34m.\u001b[0m\u001b[0macquire\u001b[0m\u001b[0;34m(\u001b[0m\u001b[0;34m)\u001b[0m\u001b[0;34m\u001b[0m\u001b[0;34m\u001b[0m\u001b[0m\n\u001b[0m\u001b[1;32m    303\u001b[0m                 \u001b[0mgotit\u001b[0m \u001b[0;34m=\u001b[0m \u001b[0;32mTrue\u001b[0m\u001b[0;34m\u001b[0m\u001b[0;34m\u001b[0m\u001b[0m\n",
      "\u001b[0;31mKeyboardInterrupt\u001b[0m: ",
      "\nDuring handling of the above exception, another exception occurred:\n",
      "\u001b[0;31mKeyboardInterrupt\u001b[0m                         Traceback (most recent call last)",
      "\u001b[0;32m/tmp/ipykernel_799270/981132878.py\u001b[0m in \u001b[0;36m<module>\u001b[0;34m\u001b[0m\n\u001b[1;32m     26\u001b[0m         \u001b[0;32mwith\u001b[0m \u001b[0mopen\u001b[0m\u001b[0;34m(\u001b[0m\u001b[0;34m\"cpp_random.pkl\"\u001b[0m\u001b[0;34m,\u001b[0m \u001b[0;34m\"wb\"\u001b[0m\u001b[0;34m)\u001b[0m \u001b[0;32mas\u001b[0m \u001b[0mfd\u001b[0m\u001b[0;34m:\u001b[0m\u001b[0;34m\u001b[0m\u001b[0;34m\u001b[0m\u001b[0m\n\u001b[1;32m     27\u001b[0m             \u001b[0mpickle\u001b[0m\u001b[0;34m.\u001b[0m\u001b[0mdump\u001b[0m\u001b[0;34m(\u001b[0m\u001b[0mresults\u001b[0m\u001b[0;34m,\u001b[0m \u001b[0mfd\u001b[0m\u001b[0;34m)\u001b[0m\u001b[0;34m\u001b[0m\u001b[0;34m\u001b[0m\u001b[0m\n\u001b[0;32m---> 28\u001b[0;31m         \u001b[0mprint\u001b[0m\u001b[0;34m(\u001b[0m\u001b[0;34mf\"Wrote pickle file for {len(results)} results\"\u001b[0m\u001b[0;34m)\u001b[0m\u001b[0;34m\u001b[0m\u001b[0;34m\u001b[0m\u001b[0m\n\u001b[0m",
      "\u001b[0;32m/usr/lib/python3.8/multiprocessing/pool.py\u001b[0m in \u001b[0;36m__exit__\u001b[0;34m(self, exc_type, exc_val, exc_tb)\u001b[0m\n\u001b[1;32m    734\u001b[0m \u001b[0;34m\u001b[0m\u001b[0m\n\u001b[1;32m    735\u001b[0m     \u001b[0;32mdef\u001b[0m \u001b[0m__exit__\u001b[0m\u001b[0;34m(\u001b[0m\u001b[0mself\u001b[0m\u001b[0;34m,\u001b[0m \u001b[0mexc_type\u001b[0m\u001b[0;34m,\u001b[0m \u001b[0mexc_val\u001b[0m\u001b[0;34m,\u001b[0m \u001b[0mexc_tb\u001b[0m\u001b[0;34m)\u001b[0m\u001b[0;34m:\u001b[0m\u001b[0;34m\u001b[0m\u001b[0;34m\u001b[0m\u001b[0m\n\u001b[0;32m--> 736\u001b[0;31m         \u001b[0mself\u001b[0m\u001b[0;34m.\u001b[0m\u001b[0mterminate\u001b[0m\u001b[0;34m(\u001b[0m\u001b[0;34m)\u001b[0m\u001b[0;34m\u001b[0m\u001b[0;34m\u001b[0m\u001b[0m\n\u001b[0m\u001b[1;32m    737\u001b[0m \u001b[0;34m\u001b[0m\u001b[0m\n\u001b[1;32m    738\u001b[0m \u001b[0;31m#\u001b[0m\u001b[0;34m\u001b[0m\u001b[0;34m\u001b[0m\u001b[0;34m\u001b[0m\u001b[0m\n",
      "\u001b[0;32m/usr/lib/python3.8/multiprocessing/pool.py\u001b[0m in \u001b[0;36mterminate\u001b[0;34m(self)\u001b[0m\n\u001b[1;32m    652\u001b[0m         \u001b[0mutil\u001b[0m\u001b[0;34m.\u001b[0m\u001b[0mdebug\u001b[0m\u001b[0;34m(\u001b[0m\u001b[0;34m'terminating pool'\u001b[0m\u001b[0;34m)\u001b[0m\u001b[0;34m\u001b[0m\u001b[0;34m\u001b[0m\u001b[0m\n\u001b[1;32m    653\u001b[0m         \u001b[0mself\u001b[0m\u001b[0;34m.\u001b[0m\u001b[0m_state\u001b[0m \u001b[0;34m=\u001b[0m \u001b[0mTERMINATE\u001b[0m\u001b[0;34m\u001b[0m\u001b[0;34m\u001b[0m\u001b[0m\n\u001b[0;32m--> 654\u001b[0;31m         \u001b[0mself\u001b[0m\u001b[0;34m.\u001b[0m\u001b[0m_terminate\u001b[0m\u001b[0;34m(\u001b[0m\u001b[0;34m)\u001b[0m\u001b[0;34m\u001b[0m\u001b[0;34m\u001b[0m\u001b[0m\n\u001b[0m\u001b[1;32m    655\u001b[0m \u001b[0;34m\u001b[0m\u001b[0m\n\u001b[1;32m    656\u001b[0m     \u001b[0;32mdef\u001b[0m \u001b[0mjoin\u001b[0m\u001b[0;34m(\u001b[0m\u001b[0mself\u001b[0m\u001b[0;34m)\u001b[0m\u001b[0;34m:\u001b[0m\u001b[0;34m\u001b[0m\u001b[0;34m\u001b[0m\u001b[0m\n",
      "\u001b[0;32m/usr/lib/python3.8/multiprocessing/util.py\u001b[0m in \u001b[0;36m__call__\u001b[0;34m(self, wr, _finalizer_registry, sub_debug, getpid)\u001b[0m\n\u001b[1;32m    222\u001b[0m                 sub_debug('finalizer calling %s with args %s and kwargs %s',\n\u001b[1;32m    223\u001b[0m                           self._callback, self._args, self._kwargs)\n\u001b[0;32m--> 224\u001b[0;31m                 \u001b[0mres\u001b[0m \u001b[0;34m=\u001b[0m \u001b[0mself\u001b[0m\u001b[0;34m.\u001b[0m\u001b[0m_callback\u001b[0m\u001b[0;34m(\u001b[0m\u001b[0;34m*\u001b[0m\u001b[0mself\u001b[0m\u001b[0;34m.\u001b[0m\u001b[0m_args\u001b[0m\u001b[0;34m,\u001b[0m \u001b[0;34m**\u001b[0m\u001b[0mself\u001b[0m\u001b[0;34m.\u001b[0m\u001b[0m_kwargs\u001b[0m\u001b[0;34m)\u001b[0m\u001b[0;34m\u001b[0m\u001b[0;34m\u001b[0m\u001b[0m\n\u001b[0m\u001b[1;32m    225\u001b[0m             \u001b[0mself\u001b[0m\u001b[0;34m.\u001b[0m\u001b[0m_weakref\u001b[0m \u001b[0;34m=\u001b[0m \u001b[0mself\u001b[0m\u001b[0;34m.\u001b[0m\u001b[0m_callback\u001b[0m \u001b[0;34m=\u001b[0m \u001b[0mself\u001b[0m\u001b[0;34m.\u001b[0m\u001b[0m_args\u001b[0m \u001b[0;34m=\u001b[0m\u001b[0;31m \u001b[0m\u001b[0;31m\\\u001b[0m\u001b[0;34m\u001b[0m\u001b[0;34m\u001b[0m\u001b[0m\n\u001b[1;32m    226\u001b[0m                             \u001b[0mself\u001b[0m\u001b[0;34m.\u001b[0m\u001b[0m_kwargs\u001b[0m \u001b[0;34m=\u001b[0m \u001b[0mself\u001b[0m\u001b[0;34m.\u001b[0m\u001b[0m_key\u001b[0m \u001b[0;34m=\u001b[0m \u001b[0;32mNone\u001b[0m\u001b[0;34m\u001b[0m\u001b[0;34m\u001b[0m\u001b[0m\n",
      "\u001b[0;32m/usr/lib/python3.8/multiprocessing/pool.py\u001b[0m in \u001b[0;36m_terminate_pool\u001b[0;34m(cls, taskqueue, inqueue, outqueue, pool, change_notifier, worker_handler, task_handler, result_handler, cache)\u001b[0m\n\u001b[1;32m    690\u001b[0m \u001b[0;34m\u001b[0m\u001b[0m\n\u001b[1;32m    691\u001b[0m         \u001b[0mutil\u001b[0m\u001b[0;34m.\u001b[0m\u001b[0mdebug\u001b[0m\u001b[0;34m(\u001b[0m\u001b[0;34m'helping task handler/workers to finish'\u001b[0m\u001b[0;34m)\u001b[0m\u001b[0;34m\u001b[0m\u001b[0;34m\u001b[0m\u001b[0m\n\u001b[0;32m--> 692\u001b[0;31m         \u001b[0mcls\u001b[0m\u001b[0;34m.\u001b[0m\u001b[0m_help_stuff_finish\u001b[0m\u001b[0;34m(\u001b[0m\u001b[0minqueue\u001b[0m\u001b[0;34m,\u001b[0m \u001b[0mtask_handler\u001b[0m\u001b[0;34m,\u001b[0m \u001b[0mlen\u001b[0m\u001b[0;34m(\u001b[0m\u001b[0mpool\u001b[0m\u001b[0;34m)\u001b[0m\u001b[0;34m)\u001b[0m\u001b[0;34m\u001b[0m\u001b[0;34m\u001b[0m\u001b[0m\n\u001b[0m\u001b[1;32m    693\u001b[0m \u001b[0;34m\u001b[0m\u001b[0m\n\u001b[1;32m    694\u001b[0m         \u001b[0;32mif\u001b[0m \u001b[0;34m(\u001b[0m\u001b[0;32mnot\u001b[0m \u001b[0mresult_handler\u001b[0m\u001b[0;34m.\u001b[0m\u001b[0mis_alive\u001b[0m\u001b[0;34m(\u001b[0m\u001b[0;34m)\u001b[0m\u001b[0;34m)\u001b[0m \u001b[0;32mand\u001b[0m \u001b[0;34m(\u001b[0m\u001b[0mlen\u001b[0m\u001b[0;34m(\u001b[0m\u001b[0mcache\u001b[0m\u001b[0;34m)\u001b[0m \u001b[0;34m!=\u001b[0m \u001b[0;36m0\u001b[0m\u001b[0;34m)\u001b[0m\u001b[0;34m:\u001b[0m\u001b[0;34m\u001b[0m\u001b[0;34m\u001b[0m\u001b[0m\n",
      "\u001b[0;32m/usr/lib/python3.8/multiprocessing/pool.py\u001b[0m in \u001b[0;36m_help_stuff_finish\u001b[0;34m(inqueue, task_handler, size)\u001b[0m\n\u001b[1;32m    670\u001b[0m         \u001b[0;31m# task_handler may be blocked trying to put items on inqueue\u001b[0m\u001b[0;34m\u001b[0m\u001b[0;34m\u001b[0m\u001b[0;34m\u001b[0m\u001b[0m\n\u001b[1;32m    671\u001b[0m         \u001b[0mutil\u001b[0m\u001b[0;34m.\u001b[0m\u001b[0mdebug\u001b[0m\u001b[0;34m(\u001b[0m\u001b[0;34m'removing tasks from inqueue until task handler finished'\u001b[0m\u001b[0;34m)\u001b[0m\u001b[0;34m\u001b[0m\u001b[0;34m\u001b[0m\u001b[0m\n\u001b[0;32m--> 672\u001b[0;31m         \u001b[0minqueue\u001b[0m\u001b[0;34m.\u001b[0m\u001b[0m_rlock\u001b[0m\u001b[0;34m.\u001b[0m\u001b[0macquire\u001b[0m\u001b[0;34m(\u001b[0m\u001b[0;34m)\u001b[0m\u001b[0;34m\u001b[0m\u001b[0;34m\u001b[0m\u001b[0m\n\u001b[0m\u001b[1;32m    673\u001b[0m         \u001b[0;32mwhile\u001b[0m \u001b[0mtask_handler\u001b[0m\u001b[0;34m.\u001b[0m\u001b[0mis_alive\u001b[0m\u001b[0;34m(\u001b[0m\u001b[0;34m)\u001b[0m \u001b[0;32mand\u001b[0m \u001b[0minqueue\u001b[0m\u001b[0;34m.\u001b[0m\u001b[0m_reader\u001b[0m\u001b[0;34m.\u001b[0m\u001b[0mpoll\u001b[0m\u001b[0;34m(\u001b[0m\u001b[0;34m)\u001b[0m\u001b[0;34m:\u001b[0m\u001b[0;34m\u001b[0m\u001b[0;34m\u001b[0m\u001b[0m\n\u001b[1;32m    674\u001b[0m             \u001b[0minqueue\u001b[0m\u001b[0;34m.\u001b[0m\u001b[0m_reader\u001b[0m\u001b[0;34m.\u001b[0m\u001b[0mrecv\u001b[0m\u001b[0;34m(\u001b[0m\u001b[0;34m)\u001b[0m\u001b[0;34m\u001b[0m\u001b[0;34m\u001b[0m\u001b[0m\n",
      "\u001b[0;31mKeyboardInterrupt\u001b[0m: "
     ]
    }
   ],
   "source": [
    "# results = []\n",
    "samples = 0\n",
    "errors = []\n",
    "error_count = 0\n",
    "n_proc = 6\n",
    "with Pool(processes=n_proc) as pool:\n",
    "    while error_count < 3:\n",
    "        multiproc_results = [pool.apply_async(random_run) \n",
    "                             for i in range(6*n_proc)]\n",
    "        for res_promise in tqdm(multiproc_results):\n",
    "            res = None\n",
    "            try:\n",
    "                res = res_promise.get()\n",
    "            except TimeoutError:\n",
    "                continue\n",
    "\n",
    "            if isinstance(res, Exception):\n",
    "                errors.append(res)\n",
    "                error_count += 1\n",
    "                continue\n",
    "            else:\n",
    "                samples += 1\n",
    "                if res:\n",
    "                    results.extend(res)\n",
    "\n",
    "        with open(\"cpp_random.pkl\", \"wb\") as fd:\n",
    "            pickle.dump(results, fd)\n",
    "        print(f\"Wrote pickle file for {len(results)} results\")"
   ]
  },
  {
   "cell_type": "code",
   "execution_count": 25,
   "id": "c3bfaeff",
   "metadata": {},
   "outputs": [],
   "source": [
    "with open(\"cpp_random.pkl\", \"rb\") as fd:\n",
    "    results = pickle.load(fd)"
   ]
  },
  {
   "cell_type": "code",
   "execution_count": 26,
   "id": "d9efcda0",
   "metadata": {},
   "outputs": [],
   "source": [
    "df = pd.DataFrame(results)"
   ]
  },
  {
   "cell_type": "code",
   "execution_count": 27,
   "id": "6d213f0c",
   "metadata": {},
   "outputs": [],
   "source": [
    "df[\"rel_error\"] = abs(df.estimation - df.bruteforce)/df.bruteforce"
   ]
  },
  {
   "cell_type": "code",
   "execution_count": 28,
   "id": "9b920888",
   "metadata": {},
   "outputs": [
    {
     "data": {
      "application/javascript": [
       "/* Put everything inside the global mpl namespace */\n",
       "/* global mpl */\n",
       "window.mpl = {};\n",
       "\n",
       "mpl.get_websocket_type = function () {\n",
       "    if (typeof WebSocket !== 'undefined') {\n",
       "        return WebSocket;\n",
       "    } else if (typeof MozWebSocket !== 'undefined') {\n",
       "        return MozWebSocket;\n",
       "    } else {\n",
       "        alert(\n",
       "            'Your browser does not have WebSocket support. ' +\n",
       "                'Please try Chrome, Safari or Firefox ≥ 6. ' +\n",
       "                'Firefox 4 and 5 are also supported but you ' +\n",
       "                'have to enable WebSockets in about:config.'\n",
       "        );\n",
       "    }\n",
       "};\n",
       "\n",
       "mpl.figure = function (figure_id, websocket, ondownload, parent_element) {\n",
       "    this.id = figure_id;\n",
       "\n",
       "    this.ws = websocket;\n",
       "\n",
       "    this.supports_binary = this.ws.binaryType !== undefined;\n",
       "\n",
       "    if (!this.supports_binary) {\n",
       "        var warnings = document.getElementById('mpl-warnings');\n",
       "        if (warnings) {\n",
       "            warnings.style.display = 'block';\n",
       "            warnings.textContent =\n",
       "                'This browser does not support binary websocket messages. ' +\n",
       "                'Performance may be slow.';\n",
       "        }\n",
       "    }\n",
       "\n",
       "    this.imageObj = new Image();\n",
       "\n",
       "    this.context = undefined;\n",
       "    this.message = undefined;\n",
       "    this.canvas = undefined;\n",
       "    this.rubberband_canvas = undefined;\n",
       "    this.rubberband_context = undefined;\n",
       "    this.format_dropdown = undefined;\n",
       "\n",
       "    this.image_mode = 'full';\n",
       "\n",
       "    this.root = document.createElement('div');\n",
       "    this.root.setAttribute('style', 'display: inline-block');\n",
       "    this._root_extra_style(this.root);\n",
       "\n",
       "    parent_element.appendChild(this.root);\n",
       "\n",
       "    this._init_header(this);\n",
       "    this._init_canvas(this);\n",
       "    this._init_toolbar(this);\n",
       "\n",
       "    var fig = this;\n",
       "\n",
       "    this.waiting = false;\n",
       "\n",
       "    this.ws.onopen = function () {\n",
       "        fig.send_message('supports_binary', { value: fig.supports_binary });\n",
       "        fig.send_message('send_image_mode', {});\n",
       "        if (fig.ratio !== 1) {\n",
       "            fig.send_message('set_dpi_ratio', { dpi_ratio: fig.ratio });\n",
       "        }\n",
       "        fig.send_message('refresh', {});\n",
       "    };\n",
       "\n",
       "    this.imageObj.onload = function () {\n",
       "        if (fig.image_mode === 'full') {\n",
       "            // Full images could contain transparency (where diff images\n",
       "            // almost always do), so we need to clear the canvas so that\n",
       "            // there is no ghosting.\n",
       "            fig.context.clearRect(0, 0, fig.canvas.width, fig.canvas.height);\n",
       "        }\n",
       "        fig.context.drawImage(fig.imageObj, 0, 0);\n",
       "    };\n",
       "\n",
       "    this.imageObj.onunload = function () {\n",
       "        fig.ws.close();\n",
       "    };\n",
       "\n",
       "    this.ws.onmessage = this._make_on_message_function(this);\n",
       "\n",
       "    this.ondownload = ondownload;\n",
       "};\n",
       "\n",
       "mpl.figure.prototype._init_header = function () {\n",
       "    var titlebar = document.createElement('div');\n",
       "    titlebar.classList =\n",
       "        'ui-dialog-titlebar ui-widget-header ui-corner-all ui-helper-clearfix';\n",
       "    var titletext = document.createElement('div');\n",
       "    titletext.classList = 'ui-dialog-title';\n",
       "    titletext.setAttribute(\n",
       "        'style',\n",
       "        'width: 100%; text-align: center; padding: 3px;'\n",
       "    );\n",
       "    titlebar.appendChild(titletext);\n",
       "    this.root.appendChild(titlebar);\n",
       "    this.header = titletext;\n",
       "};\n",
       "\n",
       "mpl.figure.prototype._canvas_extra_style = function (_canvas_div) {};\n",
       "\n",
       "mpl.figure.prototype._root_extra_style = function (_canvas_div) {};\n",
       "\n",
       "mpl.figure.prototype._init_canvas = function () {\n",
       "    var fig = this;\n",
       "\n",
       "    var canvas_div = (this.canvas_div = document.createElement('div'));\n",
       "    canvas_div.setAttribute(\n",
       "        'style',\n",
       "        'border: 1px solid #ddd;' +\n",
       "            'box-sizing: content-box;' +\n",
       "            'clear: both;' +\n",
       "            'min-height: 1px;' +\n",
       "            'min-width: 1px;' +\n",
       "            'outline: 0;' +\n",
       "            'overflow: hidden;' +\n",
       "            'position: relative;' +\n",
       "            'resize: both;'\n",
       "    );\n",
       "\n",
       "    function on_keyboard_event_closure(name) {\n",
       "        return function (event) {\n",
       "            return fig.key_event(event, name);\n",
       "        };\n",
       "    }\n",
       "\n",
       "    canvas_div.addEventListener(\n",
       "        'keydown',\n",
       "        on_keyboard_event_closure('key_press')\n",
       "    );\n",
       "    canvas_div.addEventListener(\n",
       "        'keyup',\n",
       "        on_keyboard_event_closure('key_release')\n",
       "    );\n",
       "\n",
       "    this._canvas_extra_style(canvas_div);\n",
       "    this.root.appendChild(canvas_div);\n",
       "\n",
       "    var canvas = (this.canvas = document.createElement('canvas'));\n",
       "    canvas.classList.add('mpl-canvas');\n",
       "    canvas.setAttribute('style', 'box-sizing: content-box;');\n",
       "\n",
       "    this.context = canvas.getContext('2d');\n",
       "\n",
       "    var backingStore =\n",
       "        this.context.backingStorePixelRatio ||\n",
       "        this.context.webkitBackingStorePixelRatio ||\n",
       "        this.context.mozBackingStorePixelRatio ||\n",
       "        this.context.msBackingStorePixelRatio ||\n",
       "        this.context.oBackingStorePixelRatio ||\n",
       "        this.context.backingStorePixelRatio ||\n",
       "        1;\n",
       "\n",
       "    this.ratio = (window.devicePixelRatio || 1) / backingStore;\n",
       "\n",
       "    var rubberband_canvas = (this.rubberband_canvas = document.createElement(\n",
       "        'canvas'\n",
       "    ));\n",
       "    rubberband_canvas.setAttribute(\n",
       "        'style',\n",
       "        'box-sizing: content-box; position: absolute; left: 0; top: 0; z-index: 1;'\n",
       "    );\n",
       "\n",
       "    // Apply a ponyfill if ResizeObserver is not implemented by browser.\n",
       "    if (this.ResizeObserver === undefined) {\n",
       "        if (window.ResizeObserver !== undefined) {\n",
       "            this.ResizeObserver = window.ResizeObserver;\n",
       "        } else {\n",
       "            var obs = _JSXTOOLS_RESIZE_OBSERVER({});\n",
       "            this.ResizeObserver = obs.ResizeObserver;\n",
       "        }\n",
       "    }\n",
       "\n",
       "    this.resizeObserverInstance = new this.ResizeObserver(function (entries) {\n",
       "        var nentries = entries.length;\n",
       "        for (var i = 0; i < nentries; i++) {\n",
       "            var entry = entries[i];\n",
       "            var width, height;\n",
       "            if (entry.contentBoxSize) {\n",
       "                if (entry.contentBoxSize instanceof Array) {\n",
       "                    // Chrome 84 implements new version of spec.\n",
       "                    width = entry.contentBoxSize[0].inlineSize;\n",
       "                    height = entry.contentBoxSize[0].blockSize;\n",
       "                } else {\n",
       "                    // Firefox implements old version of spec.\n",
       "                    width = entry.contentBoxSize.inlineSize;\n",
       "                    height = entry.contentBoxSize.blockSize;\n",
       "                }\n",
       "            } else {\n",
       "                // Chrome <84 implements even older version of spec.\n",
       "                width = entry.contentRect.width;\n",
       "                height = entry.contentRect.height;\n",
       "            }\n",
       "\n",
       "            // Keep the size of the canvas and rubber band canvas in sync with\n",
       "            // the canvas container.\n",
       "            if (entry.devicePixelContentBoxSize) {\n",
       "                // Chrome 84 implements new version of spec.\n",
       "                canvas.setAttribute(\n",
       "                    'width',\n",
       "                    entry.devicePixelContentBoxSize[0].inlineSize\n",
       "                );\n",
       "                canvas.setAttribute(\n",
       "                    'height',\n",
       "                    entry.devicePixelContentBoxSize[0].blockSize\n",
       "                );\n",
       "            } else {\n",
       "                canvas.setAttribute('width', width * fig.ratio);\n",
       "                canvas.setAttribute('height', height * fig.ratio);\n",
       "            }\n",
       "            canvas.setAttribute(\n",
       "                'style',\n",
       "                'width: ' + width + 'px; height: ' + height + 'px;'\n",
       "            );\n",
       "\n",
       "            rubberband_canvas.setAttribute('width', width);\n",
       "            rubberband_canvas.setAttribute('height', height);\n",
       "\n",
       "            // And update the size in Python. We ignore the initial 0/0 size\n",
       "            // that occurs as the element is placed into the DOM, which should\n",
       "            // otherwise not happen due to the minimum size styling.\n",
       "            if (fig.ws.readyState == 1 && width != 0 && height != 0) {\n",
       "                fig.request_resize(width, height);\n",
       "            }\n",
       "        }\n",
       "    });\n",
       "    this.resizeObserverInstance.observe(canvas_div);\n",
       "\n",
       "    function on_mouse_event_closure(name) {\n",
       "        return function (event) {\n",
       "            return fig.mouse_event(event, name);\n",
       "        };\n",
       "    }\n",
       "\n",
       "    rubberband_canvas.addEventListener(\n",
       "        'mousedown',\n",
       "        on_mouse_event_closure('button_press')\n",
       "    );\n",
       "    rubberband_canvas.addEventListener(\n",
       "        'mouseup',\n",
       "        on_mouse_event_closure('button_release')\n",
       "    );\n",
       "    rubberband_canvas.addEventListener(\n",
       "        'dblclick',\n",
       "        on_mouse_event_closure('dblclick')\n",
       "    );\n",
       "    // Throttle sequential mouse events to 1 every 20ms.\n",
       "    rubberband_canvas.addEventListener(\n",
       "        'mousemove',\n",
       "        on_mouse_event_closure('motion_notify')\n",
       "    );\n",
       "\n",
       "    rubberband_canvas.addEventListener(\n",
       "        'mouseenter',\n",
       "        on_mouse_event_closure('figure_enter')\n",
       "    );\n",
       "    rubberband_canvas.addEventListener(\n",
       "        'mouseleave',\n",
       "        on_mouse_event_closure('figure_leave')\n",
       "    );\n",
       "\n",
       "    canvas_div.addEventListener('wheel', function (event) {\n",
       "        if (event.deltaY < 0) {\n",
       "            event.step = 1;\n",
       "        } else {\n",
       "            event.step = -1;\n",
       "        }\n",
       "        on_mouse_event_closure('scroll')(event);\n",
       "    });\n",
       "\n",
       "    canvas_div.appendChild(canvas);\n",
       "    canvas_div.appendChild(rubberband_canvas);\n",
       "\n",
       "    this.rubberband_context = rubberband_canvas.getContext('2d');\n",
       "    this.rubberband_context.strokeStyle = '#000000';\n",
       "\n",
       "    this._resize_canvas = function (width, height, forward) {\n",
       "        if (forward) {\n",
       "            canvas_div.style.width = width + 'px';\n",
       "            canvas_div.style.height = height + 'px';\n",
       "        }\n",
       "    };\n",
       "\n",
       "    // Disable right mouse context menu.\n",
       "    this.rubberband_canvas.addEventListener('contextmenu', function (_e) {\n",
       "        event.preventDefault();\n",
       "        return false;\n",
       "    });\n",
       "\n",
       "    function set_focus() {\n",
       "        canvas.focus();\n",
       "        canvas_div.focus();\n",
       "    }\n",
       "\n",
       "    window.setTimeout(set_focus, 100);\n",
       "};\n",
       "\n",
       "mpl.figure.prototype._init_toolbar = function () {\n",
       "    var fig = this;\n",
       "\n",
       "    var toolbar = document.createElement('div');\n",
       "    toolbar.classList = 'mpl-toolbar';\n",
       "    this.root.appendChild(toolbar);\n",
       "\n",
       "    function on_click_closure(name) {\n",
       "        return function (_event) {\n",
       "            return fig.toolbar_button_onclick(name);\n",
       "        };\n",
       "    }\n",
       "\n",
       "    function on_mouseover_closure(tooltip) {\n",
       "        return function (event) {\n",
       "            if (!event.currentTarget.disabled) {\n",
       "                return fig.toolbar_button_onmouseover(tooltip);\n",
       "            }\n",
       "        };\n",
       "    }\n",
       "\n",
       "    fig.buttons = {};\n",
       "    var buttonGroup = document.createElement('div');\n",
       "    buttonGroup.classList = 'mpl-button-group';\n",
       "    for (var toolbar_ind in mpl.toolbar_items) {\n",
       "        var name = mpl.toolbar_items[toolbar_ind][0];\n",
       "        var tooltip = mpl.toolbar_items[toolbar_ind][1];\n",
       "        var image = mpl.toolbar_items[toolbar_ind][2];\n",
       "        var method_name = mpl.toolbar_items[toolbar_ind][3];\n",
       "\n",
       "        if (!name) {\n",
       "            /* Instead of a spacer, we start a new button group. */\n",
       "            if (buttonGroup.hasChildNodes()) {\n",
       "                toolbar.appendChild(buttonGroup);\n",
       "            }\n",
       "            buttonGroup = document.createElement('div');\n",
       "            buttonGroup.classList = 'mpl-button-group';\n",
       "            continue;\n",
       "        }\n",
       "\n",
       "        var button = (fig.buttons[name] = document.createElement('button'));\n",
       "        button.classList = 'mpl-widget';\n",
       "        button.setAttribute('role', 'button');\n",
       "        button.setAttribute('aria-disabled', 'false');\n",
       "        button.addEventListener('click', on_click_closure(method_name));\n",
       "        button.addEventListener('mouseover', on_mouseover_closure(tooltip));\n",
       "\n",
       "        var icon_img = document.createElement('img');\n",
       "        icon_img.src = '_images/' + image + '.png';\n",
       "        icon_img.srcset = '_images/' + image + '_large.png 2x';\n",
       "        icon_img.alt = tooltip;\n",
       "        button.appendChild(icon_img);\n",
       "\n",
       "        buttonGroup.appendChild(button);\n",
       "    }\n",
       "\n",
       "    if (buttonGroup.hasChildNodes()) {\n",
       "        toolbar.appendChild(buttonGroup);\n",
       "    }\n",
       "\n",
       "    var fmt_picker = document.createElement('select');\n",
       "    fmt_picker.classList = 'mpl-widget';\n",
       "    toolbar.appendChild(fmt_picker);\n",
       "    this.format_dropdown = fmt_picker;\n",
       "\n",
       "    for (var ind in mpl.extensions) {\n",
       "        var fmt = mpl.extensions[ind];\n",
       "        var option = document.createElement('option');\n",
       "        option.selected = fmt === mpl.default_extension;\n",
       "        option.innerHTML = fmt;\n",
       "        fmt_picker.appendChild(option);\n",
       "    }\n",
       "\n",
       "    var status_bar = document.createElement('span');\n",
       "    status_bar.classList = 'mpl-message';\n",
       "    toolbar.appendChild(status_bar);\n",
       "    this.message = status_bar;\n",
       "};\n",
       "\n",
       "mpl.figure.prototype.request_resize = function (x_pixels, y_pixels) {\n",
       "    // Request matplotlib to resize the figure. Matplotlib will then trigger a resize in the client,\n",
       "    // which will in turn request a refresh of the image.\n",
       "    this.send_message('resize', { width: x_pixels, height: y_pixels });\n",
       "};\n",
       "\n",
       "mpl.figure.prototype.send_message = function (type, properties) {\n",
       "    properties['type'] = type;\n",
       "    properties['figure_id'] = this.id;\n",
       "    this.ws.send(JSON.stringify(properties));\n",
       "};\n",
       "\n",
       "mpl.figure.prototype.send_draw_message = function () {\n",
       "    if (!this.waiting) {\n",
       "        this.waiting = true;\n",
       "        this.ws.send(JSON.stringify({ type: 'draw', figure_id: this.id }));\n",
       "    }\n",
       "};\n",
       "\n",
       "mpl.figure.prototype.handle_save = function (fig, _msg) {\n",
       "    var format_dropdown = fig.format_dropdown;\n",
       "    var format = format_dropdown.options[format_dropdown.selectedIndex].value;\n",
       "    fig.ondownload(fig, format);\n",
       "};\n",
       "\n",
       "mpl.figure.prototype.handle_resize = function (fig, msg) {\n",
       "    var size = msg['size'];\n",
       "    if (size[0] !== fig.canvas.width || size[1] !== fig.canvas.height) {\n",
       "        fig._resize_canvas(size[0], size[1], msg['forward']);\n",
       "        fig.send_message('refresh', {});\n",
       "    }\n",
       "};\n",
       "\n",
       "mpl.figure.prototype.handle_rubberband = function (fig, msg) {\n",
       "    var x0 = msg['x0'] / fig.ratio;\n",
       "    var y0 = (fig.canvas.height - msg['y0']) / fig.ratio;\n",
       "    var x1 = msg['x1'] / fig.ratio;\n",
       "    var y1 = (fig.canvas.height - msg['y1']) / fig.ratio;\n",
       "    x0 = Math.floor(x0) + 0.5;\n",
       "    y0 = Math.floor(y0) + 0.5;\n",
       "    x1 = Math.floor(x1) + 0.5;\n",
       "    y1 = Math.floor(y1) + 0.5;\n",
       "    var min_x = Math.min(x0, x1);\n",
       "    var min_y = Math.min(y0, y1);\n",
       "    var width = Math.abs(x1 - x0);\n",
       "    var height = Math.abs(y1 - y0);\n",
       "\n",
       "    fig.rubberband_context.clearRect(\n",
       "        0,\n",
       "        0,\n",
       "        fig.canvas.width / fig.ratio,\n",
       "        fig.canvas.height / fig.ratio\n",
       "    );\n",
       "\n",
       "    fig.rubberband_context.strokeRect(min_x, min_y, width, height);\n",
       "};\n",
       "\n",
       "mpl.figure.prototype.handle_figure_label = function (fig, msg) {\n",
       "    // Updates the figure title.\n",
       "    fig.header.textContent = msg['label'];\n",
       "};\n",
       "\n",
       "mpl.figure.prototype.handle_cursor = function (fig, msg) {\n",
       "    var cursor = msg['cursor'];\n",
       "    switch (cursor) {\n",
       "        case 0:\n",
       "            cursor = 'pointer';\n",
       "            break;\n",
       "        case 1:\n",
       "            cursor = 'default';\n",
       "            break;\n",
       "        case 2:\n",
       "            cursor = 'crosshair';\n",
       "            break;\n",
       "        case 3:\n",
       "            cursor = 'move';\n",
       "            break;\n",
       "    }\n",
       "    fig.rubberband_canvas.style.cursor = cursor;\n",
       "};\n",
       "\n",
       "mpl.figure.prototype.handle_message = function (fig, msg) {\n",
       "    fig.message.textContent = msg['message'];\n",
       "};\n",
       "\n",
       "mpl.figure.prototype.handle_draw = function (fig, _msg) {\n",
       "    // Request the server to send over a new figure.\n",
       "    fig.send_draw_message();\n",
       "};\n",
       "\n",
       "mpl.figure.prototype.handle_image_mode = function (fig, msg) {\n",
       "    fig.image_mode = msg['mode'];\n",
       "};\n",
       "\n",
       "mpl.figure.prototype.handle_history_buttons = function (fig, msg) {\n",
       "    for (var key in msg) {\n",
       "        if (!(key in fig.buttons)) {\n",
       "            continue;\n",
       "        }\n",
       "        fig.buttons[key].disabled = !msg[key];\n",
       "        fig.buttons[key].setAttribute('aria-disabled', !msg[key]);\n",
       "    }\n",
       "};\n",
       "\n",
       "mpl.figure.prototype.handle_navigate_mode = function (fig, msg) {\n",
       "    if (msg['mode'] === 'PAN') {\n",
       "        fig.buttons['Pan'].classList.add('active');\n",
       "        fig.buttons['Zoom'].classList.remove('active');\n",
       "    } else if (msg['mode'] === 'ZOOM') {\n",
       "        fig.buttons['Pan'].classList.remove('active');\n",
       "        fig.buttons['Zoom'].classList.add('active');\n",
       "    } else {\n",
       "        fig.buttons['Pan'].classList.remove('active');\n",
       "        fig.buttons['Zoom'].classList.remove('active');\n",
       "    }\n",
       "};\n",
       "\n",
       "mpl.figure.prototype.updated_canvas_event = function () {\n",
       "    // Called whenever the canvas gets updated.\n",
       "    this.send_message('ack', {});\n",
       "};\n",
       "\n",
       "// A function to construct a web socket function for onmessage handling.\n",
       "// Called in the figure constructor.\n",
       "mpl.figure.prototype._make_on_message_function = function (fig) {\n",
       "    return function socket_on_message(evt) {\n",
       "        if (evt.data instanceof Blob) {\n",
       "            var img = evt.data;\n",
       "            if (img.type !== 'image/png') {\n",
       "                /* FIXME: We get \"Resource interpreted as Image but\n",
       "                 * transferred with MIME type text/plain:\" errors on\n",
       "                 * Chrome.  But how to set the MIME type?  It doesn't seem\n",
       "                 * to be part of the websocket stream */\n",
       "                img.type = 'image/png';\n",
       "            }\n",
       "\n",
       "            /* Free the memory for the previous frames */\n",
       "            if (fig.imageObj.src) {\n",
       "                (window.URL || window.webkitURL).revokeObjectURL(\n",
       "                    fig.imageObj.src\n",
       "                );\n",
       "            }\n",
       "\n",
       "            fig.imageObj.src = (window.URL || window.webkitURL).createObjectURL(\n",
       "                img\n",
       "            );\n",
       "            fig.updated_canvas_event();\n",
       "            fig.waiting = false;\n",
       "            return;\n",
       "        } else if (\n",
       "            typeof evt.data === 'string' &&\n",
       "            evt.data.slice(0, 21) === 'data:image/png;base64'\n",
       "        ) {\n",
       "            fig.imageObj.src = evt.data;\n",
       "            fig.updated_canvas_event();\n",
       "            fig.waiting = false;\n",
       "            return;\n",
       "        }\n",
       "\n",
       "        var msg = JSON.parse(evt.data);\n",
       "        var msg_type = msg['type'];\n",
       "\n",
       "        // Call the  \"handle_{type}\" callback, which takes\n",
       "        // the figure and JSON message as its only arguments.\n",
       "        try {\n",
       "            var callback = fig['handle_' + msg_type];\n",
       "        } catch (e) {\n",
       "            console.log(\n",
       "                \"No handler for the '\" + msg_type + \"' message type: \",\n",
       "                msg\n",
       "            );\n",
       "            return;\n",
       "        }\n",
       "\n",
       "        if (callback) {\n",
       "            try {\n",
       "                // console.log(\"Handling '\" + msg_type + \"' message: \", msg);\n",
       "                callback(fig, msg);\n",
       "            } catch (e) {\n",
       "                console.log(\n",
       "                    \"Exception inside the 'handler_\" + msg_type + \"' callback:\",\n",
       "                    e,\n",
       "                    e.stack,\n",
       "                    msg\n",
       "                );\n",
       "            }\n",
       "        }\n",
       "    };\n",
       "};\n",
       "\n",
       "// from http://stackoverflow.com/questions/1114465/getting-mouse-location-in-canvas\n",
       "mpl.findpos = function (e) {\n",
       "    //this section is from http://www.quirksmode.org/js/events_properties.html\n",
       "    var targ;\n",
       "    if (!e) {\n",
       "        e = window.event;\n",
       "    }\n",
       "    if (e.target) {\n",
       "        targ = e.target;\n",
       "    } else if (e.srcElement) {\n",
       "        targ = e.srcElement;\n",
       "    }\n",
       "    if (targ.nodeType === 3) {\n",
       "        // defeat Safari bug\n",
       "        targ = targ.parentNode;\n",
       "    }\n",
       "\n",
       "    // pageX,Y are the mouse positions relative to the document\n",
       "    var boundingRect = targ.getBoundingClientRect();\n",
       "    var x = e.pageX - (boundingRect.left + document.body.scrollLeft);\n",
       "    var y = e.pageY - (boundingRect.top + document.body.scrollTop);\n",
       "\n",
       "    return { x: x, y: y };\n",
       "};\n",
       "\n",
       "/*\n",
       " * return a copy of an object with only non-object keys\n",
       " * we need this to avoid circular references\n",
       " * http://stackoverflow.com/a/24161582/3208463\n",
       " */\n",
       "function simpleKeys(original) {\n",
       "    return Object.keys(original).reduce(function (obj, key) {\n",
       "        if (typeof original[key] !== 'object') {\n",
       "            obj[key] = original[key];\n",
       "        }\n",
       "        return obj;\n",
       "    }, {});\n",
       "}\n",
       "\n",
       "mpl.figure.prototype.mouse_event = function (event, name) {\n",
       "    var canvas_pos = mpl.findpos(event);\n",
       "\n",
       "    if (name === 'button_press') {\n",
       "        this.canvas.focus();\n",
       "        this.canvas_div.focus();\n",
       "    }\n",
       "\n",
       "    var x = canvas_pos.x * this.ratio;\n",
       "    var y = canvas_pos.y * this.ratio;\n",
       "\n",
       "    this.send_message(name, {\n",
       "        x: x,\n",
       "        y: y,\n",
       "        button: event.button,\n",
       "        step: event.step,\n",
       "        guiEvent: simpleKeys(event),\n",
       "    });\n",
       "\n",
       "    /* This prevents the web browser from automatically changing to\n",
       "     * the text insertion cursor when the button is pressed.  We want\n",
       "     * to control all of the cursor setting manually through the\n",
       "     * 'cursor' event from matplotlib */\n",
       "    event.preventDefault();\n",
       "    return false;\n",
       "};\n",
       "\n",
       "mpl.figure.prototype._key_event_extra = function (_event, _name) {\n",
       "    // Handle any extra behaviour associated with a key event\n",
       "};\n",
       "\n",
       "mpl.figure.prototype.key_event = function (event, name) {\n",
       "    // Prevent repeat events\n",
       "    if (name === 'key_press') {\n",
       "        if (event.key === this._key) {\n",
       "            return;\n",
       "        } else {\n",
       "            this._key = event.key;\n",
       "        }\n",
       "    }\n",
       "    if (name === 'key_release') {\n",
       "        this._key = null;\n",
       "    }\n",
       "\n",
       "    var value = '';\n",
       "    if (event.ctrlKey && event.key !== 'Control') {\n",
       "        value += 'ctrl+';\n",
       "    }\n",
       "    else if (event.altKey && event.key !== 'Alt') {\n",
       "        value += 'alt+';\n",
       "    }\n",
       "    else if (event.shiftKey && event.key !== 'Shift') {\n",
       "        value += 'shift+';\n",
       "    }\n",
       "\n",
       "    value += 'k' + event.key;\n",
       "\n",
       "    this._key_event_extra(event, name);\n",
       "\n",
       "    this.send_message(name, { key: value, guiEvent: simpleKeys(event) });\n",
       "    return false;\n",
       "};\n",
       "\n",
       "mpl.figure.prototype.toolbar_button_onclick = function (name) {\n",
       "    if (name === 'download') {\n",
       "        this.handle_save(this, null);\n",
       "    } else {\n",
       "        this.send_message('toolbar_button', { name: name });\n",
       "    }\n",
       "};\n",
       "\n",
       "mpl.figure.prototype.toolbar_button_onmouseover = function (tooltip) {\n",
       "    this.message.textContent = tooltip;\n",
       "};\n",
       "\n",
       "///////////////// REMAINING CONTENT GENERATED BY embed_js.py /////////////////\n",
       "// prettier-ignore\n",
       "var _JSXTOOLS_RESIZE_OBSERVER=function(A){var t,i=new WeakMap,n=new WeakMap,a=new WeakMap,r=new WeakMap,o=new Set;function s(e){if(!(this instanceof s))throw new TypeError(\"Constructor requires 'new' operator\");i.set(this,e)}function h(){throw new TypeError(\"Function is not a constructor\")}function c(e,t,i,n){e=0 in arguments?Number(arguments[0]):0,t=1 in arguments?Number(arguments[1]):0,i=2 in arguments?Number(arguments[2]):0,n=3 in arguments?Number(arguments[3]):0,this.right=(this.x=this.left=e)+(this.width=i),this.bottom=(this.y=this.top=t)+(this.height=n),Object.freeze(this)}function d(){t=requestAnimationFrame(d);var s=new WeakMap,p=new Set;o.forEach((function(t){r.get(t).forEach((function(i){var r=t instanceof window.SVGElement,o=a.get(t),d=r?0:parseFloat(o.paddingTop),f=r?0:parseFloat(o.paddingRight),l=r?0:parseFloat(o.paddingBottom),u=r?0:parseFloat(o.paddingLeft),g=r?0:parseFloat(o.borderTopWidth),m=r?0:parseFloat(o.borderRightWidth),w=r?0:parseFloat(o.borderBottomWidth),b=u+f,F=d+l,v=(r?0:parseFloat(o.borderLeftWidth))+m,W=g+w,y=r?0:t.offsetHeight-W-t.clientHeight,E=r?0:t.offsetWidth-v-t.clientWidth,R=b+v,z=F+W,M=r?t.width:parseFloat(o.width)-R-E,O=r?t.height:parseFloat(o.height)-z-y;if(n.has(t)){var k=n.get(t);if(k[0]===M&&k[1]===O)return}n.set(t,[M,O]);var S=Object.create(h.prototype);S.target=t,S.contentRect=new c(u,d,M,O),s.has(i)||(s.set(i,[]),p.add(i)),s.get(i).push(S)}))})),p.forEach((function(e){i.get(e).call(e,s.get(e),e)}))}return s.prototype.observe=function(i){if(i instanceof window.Element){r.has(i)||(r.set(i,new Set),o.add(i),a.set(i,window.getComputedStyle(i)));var n=r.get(i);n.has(this)||n.add(this),cancelAnimationFrame(t),t=requestAnimationFrame(d)}},s.prototype.unobserve=function(i){if(i instanceof window.Element&&r.has(i)){var n=r.get(i);n.has(this)&&(n.delete(this),n.size||(r.delete(i),o.delete(i))),n.size||r.delete(i),o.size||cancelAnimationFrame(t)}},A.DOMRectReadOnly=c,A.ResizeObserver=s,A.ResizeObserverEntry=h,A}; // eslint-disable-line\n",
       "mpl.toolbar_items = [[\"Home\", \"Reset original view\", \"fa fa-home icon-home\", \"home\"], [\"Back\", \"Back to previous view\", \"fa fa-arrow-left icon-arrow-left\", \"back\"], [\"Forward\", \"Forward to next view\", \"fa fa-arrow-right icon-arrow-right\", \"forward\"], [\"\", \"\", \"\", \"\"], [\"Pan\", \"Left button pans, Right button zooms\\nx/y fixes axis, CTRL fixes aspect\", \"fa fa-arrows icon-move\", \"pan\"], [\"Zoom\", \"Zoom to rectangle\\nx/y fixes axis, CTRL fixes aspect\", \"fa fa-square-o icon-check-empty\", \"zoom\"], [\"\", \"\", \"\", \"\"], [\"Download\", \"Download plot\", \"fa fa-floppy-o icon-save\", \"download\"]];\n",
       "\n",
       "mpl.extensions = [\"eps\", \"jpeg\", \"pgf\", \"pdf\", \"png\", \"ps\", \"raw\", \"svg\", \"tif\"];\n",
       "\n",
       "mpl.default_extension = \"png\";/* global mpl */\n",
       "\n",
       "var comm_websocket_adapter = function (comm) {\n",
       "    // Create a \"websocket\"-like object which calls the given IPython comm\n",
       "    // object with the appropriate methods. Currently this is a non binary\n",
       "    // socket, so there is still some room for performance tuning.\n",
       "    var ws = {};\n",
       "\n",
       "    ws.binaryType = comm.kernel.ws.binaryType;\n",
       "    ws.readyState = comm.kernel.ws.readyState;\n",
       "    function updateReadyState(_event) {\n",
       "        if (comm.kernel.ws) {\n",
       "            ws.readyState = comm.kernel.ws.readyState;\n",
       "        } else {\n",
       "            ws.readyState = 3; // Closed state.\n",
       "        }\n",
       "    }\n",
       "    comm.kernel.ws.addEventListener('open', updateReadyState);\n",
       "    comm.kernel.ws.addEventListener('close', updateReadyState);\n",
       "    comm.kernel.ws.addEventListener('error', updateReadyState);\n",
       "\n",
       "    ws.close = function () {\n",
       "        comm.close();\n",
       "    };\n",
       "    ws.send = function (m) {\n",
       "        //console.log('sending', m);\n",
       "        comm.send(m);\n",
       "    };\n",
       "    // Register the callback with on_msg.\n",
       "    comm.on_msg(function (msg) {\n",
       "        //console.log('receiving', msg['content']['data'], msg);\n",
       "        var data = msg['content']['data'];\n",
       "        if (data['blob'] !== undefined) {\n",
       "            data = {\n",
       "                data: new Blob(msg['buffers'], { type: data['blob'] }),\n",
       "            };\n",
       "        }\n",
       "        // Pass the mpl event to the overridden (by mpl) onmessage function.\n",
       "        ws.onmessage(data);\n",
       "    });\n",
       "    return ws;\n",
       "};\n",
       "\n",
       "mpl.mpl_figure_comm = function (comm, msg) {\n",
       "    // This is the function which gets called when the mpl process\n",
       "    // starts-up an IPython Comm through the \"matplotlib\" channel.\n",
       "\n",
       "    var id = msg.content.data.id;\n",
       "    // Get hold of the div created by the display call when the Comm\n",
       "    // socket was opened in Python.\n",
       "    var element = document.getElementById(id);\n",
       "    var ws_proxy = comm_websocket_adapter(comm);\n",
       "\n",
       "    function ondownload(figure, _format) {\n",
       "        window.open(figure.canvas.toDataURL());\n",
       "    }\n",
       "\n",
       "    var fig = new mpl.figure(id, ws_proxy, ondownload, element);\n",
       "\n",
       "    // Call onopen now - mpl needs it, as it is assuming we've passed it a real\n",
       "    // web socket which is closed, not our websocket->open comm proxy.\n",
       "    ws_proxy.onopen();\n",
       "\n",
       "    fig.parent_element = element;\n",
       "    fig.cell_info = mpl.find_output_cell(\"<div id='\" + id + \"'></div>\");\n",
       "    if (!fig.cell_info) {\n",
       "        console.error('Failed to find cell for figure', id, fig);\n",
       "        return;\n",
       "    }\n",
       "    fig.cell_info[0].output_area.element.on(\n",
       "        'cleared',\n",
       "        { fig: fig },\n",
       "        fig._remove_fig_handler\n",
       "    );\n",
       "};\n",
       "\n",
       "mpl.figure.prototype.handle_close = function (fig, msg) {\n",
       "    var width = fig.canvas.width / fig.ratio;\n",
       "    fig.cell_info[0].output_area.element.off(\n",
       "        'cleared',\n",
       "        fig._remove_fig_handler\n",
       "    );\n",
       "    fig.resizeObserverInstance.unobserve(fig.canvas_div);\n",
       "\n",
       "    // Update the output cell to use the data from the current canvas.\n",
       "    fig.push_to_output();\n",
       "    var dataURL = fig.canvas.toDataURL();\n",
       "    // Re-enable the keyboard manager in IPython - without this line, in FF,\n",
       "    // the notebook keyboard shortcuts fail.\n",
       "    IPython.keyboard_manager.enable();\n",
       "    fig.parent_element.innerHTML =\n",
       "        '<img src=\"' + dataURL + '\" width=\"' + width + '\">';\n",
       "    fig.close_ws(fig, msg);\n",
       "};\n",
       "\n",
       "mpl.figure.prototype.close_ws = function (fig, msg) {\n",
       "    fig.send_message('closing', msg);\n",
       "    // fig.ws.close()\n",
       "};\n",
       "\n",
       "mpl.figure.prototype.push_to_output = function (_remove_interactive) {\n",
       "    // Turn the data on the canvas into data in the output cell.\n",
       "    var width = this.canvas.width / this.ratio;\n",
       "    var dataURL = this.canvas.toDataURL();\n",
       "    this.cell_info[1]['text/html'] =\n",
       "        '<img src=\"' + dataURL + '\" width=\"' + width + '\">';\n",
       "};\n",
       "\n",
       "mpl.figure.prototype.updated_canvas_event = function () {\n",
       "    // Tell IPython that the notebook contents must change.\n",
       "    IPython.notebook.set_dirty(true);\n",
       "    this.send_message('ack', {});\n",
       "    var fig = this;\n",
       "    // Wait a second, then push the new image to the DOM so\n",
       "    // that it is saved nicely (might be nice to debounce this).\n",
       "    setTimeout(function () {\n",
       "        fig.push_to_output();\n",
       "    }, 1000);\n",
       "};\n",
       "\n",
       "mpl.figure.prototype._init_toolbar = function () {\n",
       "    var fig = this;\n",
       "\n",
       "    var toolbar = document.createElement('div');\n",
       "    toolbar.classList = 'btn-toolbar';\n",
       "    this.root.appendChild(toolbar);\n",
       "\n",
       "    function on_click_closure(name) {\n",
       "        return function (_event) {\n",
       "            return fig.toolbar_button_onclick(name);\n",
       "        };\n",
       "    }\n",
       "\n",
       "    function on_mouseover_closure(tooltip) {\n",
       "        return function (event) {\n",
       "            if (!event.currentTarget.disabled) {\n",
       "                return fig.toolbar_button_onmouseover(tooltip);\n",
       "            }\n",
       "        };\n",
       "    }\n",
       "\n",
       "    fig.buttons = {};\n",
       "    var buttonGroup = document.createElement('div');\n",
       "    buttonGroup.classList = 'btn-group';\n",
       "    var button;\n",
       "    for (var toolbar_ind in mpl.toolbar_items) {\n",
       "        var name = mpl.toolbar_items[toolbar_ind][0];\n",
       "        var tooltip = mpl.toolbar_items[toolbar_ind][1];\n",
       "        var image = mpl.toolbar_items[toolbar_ind][2];\n",
       "        var method_name = mpl.toolbar_items[toolbar_ind][3];\n",
       "\n",
       "        if (!name) {\n",
       "            /* Instead of a spacer, we start a new button group. */\n",
       "            if (buttonGroup.hasChildNodes()) {\n",
       "                toolbar.appendChild(buttonGroup);\n",
       "            }\n",
       "            buttonGroup = document.createElement('div');\n",
       "            buttonGroup.classList = 'btn-group';\n",
       "            continue;\n",
       "        }\n",
       "\n",
       "        button = fig.buttons[name] = document.createElement('button');\n",
       "        button.classList = 'btn btn-default';\n",
       "        button.href = '#';\n",
       "        button.title = name;\n",
       "        button.innerHTML = '<i class=\"fa ' + image + ' fa-lg\"></i>';\n",
       "        button.addEventListener('click', on_click_closure(method_name));\n",
       "        button.addEventListener('mouseover', on_mouseover_closure(tooltip));\n",
       "        buttonGroup.appendChild(button);\n",
       "    }\n",
       "\n",
       "    if (buttonGroup.hasChildNodes()) {\n",
       "        toolbar.appendChild(buttonGroup);\n",
       "    }\n",
       "\n",
       "    // Add the status bar.\n",
       "    var status_bar = document.createElement('span');\n",
       "    status_bar.classList = 'mpl-message pull-right';\n",
       "    toolbar.appendChild(status_bar);\n",
       "    this.message = status_bar;\n",
       "\n",
       "    // Add the close button to the window.\n",
       "    var buttongrp = document.createElement('div');\n",
       "    buttongrp.classList = 'btn-group inline pull-right';\n",
       "    button = document.createElement('button');\n",
       "    button.classList = 'btn btn-mini btn-primary';\n",
       "    button.href = '#';\n",
       "    button.title = 'Stop Interaction';\n",
       "    button.innerHTML = '<i class=\"fa fa-power-off icon-remove icon-large\"></i>';\n",
       "    button.addEventListener('click', function (_evt) {\n",
       "        fig.handle_close(fig, {});\n",
       "    });\n",
       "    button.addEventListener(\n",
       "        'mouseover',\n",
       "        on_mouseover_closure('Stop Interaction')\n",
       "    );\n",
       "    buttongrp.appendChild(button);\n",
       "    var titlebar = this.root.querySelector('.ui-dialog-titlebar');\n",
       "    titlebar.insertBefore(buttongrp, titlebar.firstChild);\n",
       "};\n",
       "\n",
       "mpl.figure.prototype._remove_fig_handler = function (event) {\n",
       "    var fig = event.data.fig;\n",
       "    if (event.target !== this) {\n",
       "        // Ignore bubbled events from children.\n",
       "        return;\n",
       "    }\n",
       "    fig.close_ws(fig, {});\n",
       "};\n",
       "\n",
       "mpl.figure.prototype._root_extra_style = function (el) {\n",
       "    el.style.boxSizing = 'content-box'; // override notebook setting of border-box.\n",
       "};\n",
       "\n",
       "mpl.figure.prototype._canvas_extra_style = function (el) {\n",
       "    // this is important to make the div 'focusable\n",
       "    el.setAttribute('tabindex', 0);\n",
       "    // reach out to IPython and tell the keyboard manager to turn it's self\n",
       "    // off when our div gets focus\n",
       "\n",
       "    // location in version 3\n",
       "    if (IPython.notebook.keyboard_manager) {\n",
       "        IPython.notebook.keyboard_manager.register_events(el);\n",
       "    } else {\n",
       "        // location in version 2\n",
       "        IPython.keyboard_manager.register_events(el);\n",
       "    }\n",
       "};\n",
       "\n",
       "mpl.figure.prototype._key_event_extra = function (event, _name) {\n",
       "    var manager = IPython.notebook.keyboard_manager;\n",
       "    if (!manager) {\n",
       "        manager = IPython.keyboard_manager;\n",
       "    }\n",
       "\n",
       "    // Check for shift+enter\n",
       "    if (event.shiftKey && event.which === 13) {\n",
       "        this.canvas_div.blur();\n",
       "        // select the cell after this one\n",
       "        var index = IPython.notebook.find_cell_index(this.cell_info[0]);\n",
       "        IPython.notebook.select(index + 1);\n",
       "    }\n",
       "};\n",
       "\n",
       "mpl.figure.prototype.handle_save = function (fig, _msg) {\n",
       "    fig.ondownload(fig, null);\n",
       "};\n",
       "\n",
       "mpl.find_output_cell = function (html_output) {\n",
       "    // Return the cell and output element which can be found *uniquely* in the notebook.\n",
       "    // Note - this is a bit hacky, but it is done because the \"notebook_saving.Notebook\"\n",
       "    // IPython event is triggered only after the cells have been serialised, which for\n",
       "    // our purposes (turning an active figure into a static one), is too late.\n",
       "    var cells = IPython.notebook.get_cells();\n",
       "    var ncells = cells.length;\n",
       "    for (var i = 0; i < ncells; i++) {\n",
       "        var cell = cells[i];\n",
       "        if (cell.cell_type === 'code') {\n",
       "            for (var j = 0; j < cell.output_area.outputs.length; j++) {\n",
       "                var data = cell.output_area.outputs[j];\n",
       "                if (data.data) {\n",
       "                    // IPython >= 3 moved mimebundle to data attribute of output\n",
       "                    data = data.data;\n",
       "                }\n",
       "                if (data['text/html'] === html_output) {\n",
       "                    return [cell, data, j];\n",
       "                }\n",
       "            }\n",
       "        }\n",
       "    }\n",
       "};\n",
       "\n",
       "// Register the function which deals with the matplotlib target/channel.\n",
       "// The kernel may be null if the page has been refreshed.\n",
       "if (IPython.notebook.kernel !== null) {\n",
       "    IPython.notebook.kernel.comm_manager.register_target(\n",
       "        'matplotlib',\n",
       "        mpl.mpl_figure_comm\n",
       "    );\n",
       "}\n"
      ],
      "text/plain": [
       "<IPython.core.display.Javascript object>"
      ]
     },
     "metadata": {},
     "output_type": "display_data"
    },
    {
     "data": {
      "text/html": [
       "<img src=\"data:image/png;base64,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\" width=\"432\">"
      ],
      "text/plain": [
       "<IPython.core.display.HTML object>"
      ]
     },
     "metadata": {},
     "output_type": "display_data"
    },
    {
     "data": {
      "text/plain": [
       "<matplotlib.legend.Legend at 0x7f5973bfcca0>"
      ]
     },
     "execution_count": 28,
     "metadata": {},
     "output_type": "execute_result"
    }
   ],
   "source": [
    "%matplotlib notebook\n",
    "fig = plt.figure(figsize=(6,6))\n",
    "ax = Axes3D(fig, auto_add_to_figure=False)\n",
    "fig.add_axes(ax)\n",
    "\n",
    "# get colormap from seaborn\n",
    "cmap = ListedColormap(sns.color_palette(\"husl\", 256).as_hex())\n",
    "\n",
    "# plot\n",
    "sc = ax.scatter(df.estimation_time, df.epsilon, df.rel_error, s=4, c=df.epsilon,\n",
    "                marker='o', cmap=cmap, alpha=0.5)\n",
    "ax.set_xlabel('Estimation time')\n",
    "ax.set_ylabel('Epsilon')\n",
    "ax.set_zlabel('Relative error')\n",
    "\n",
    "# legend\n",
    "plt.legend(*sc.legend_elements(), bbox_to_anchor=(0.18, 0.95), loc=0)"
   ]
  },
  {
   "cell_type": "code",
   "execution_count": 30,
   "id": "d280f511",
   "metadata": {},
   "outputs": [
    {
     "data": {
      "text/html": [
       "<div>\n",
       "<style scoped>\n",
       "    .dataframe tbody tr th:only-of-type {\n",
       "        vertical-align: middle;\n",
       "    }\n",
       "\n",
       "    .dataframe tbody tr th {\n",
       "        vertical-align: top;\n",
       "    }\n",
       "\n",
       "    .dataframe thead th {\n",
       "        text-align: right;\n",
       "    }\n",
       "</style>\n",
       "<table border=\"1\" class=\"dataframe\">\n",
       "  <thead>\n",
       "    <tr style=\"text-align: right;\">\n",
       "      <th></th>\n",
       "      <th>retries_per_sample</th>\n",
       "      <th>sample_size</th>\n",
       "      <th>sample_misses</th>\n",
       "      <th>sample_hits</th>\n",
       "      <th>miss_ratio</th>\n",
       "      <th>bruteforce</th>\n",
       "      <th>bruteforce_time</th>\n",
       "      <th>estimation</th>\n",
       "      <th>estimation_time</th>\n",
       "      <th>n_states</th>\n",
       "      <th>sparsity</th>\n",
       "      <th>string_len</th>\n",
       "      <th>epsilon</th>\n",
       "      <th>kappa_multiple</th>\n",
       "      <th>phi_multiple</th>\n",
       "      <th>rel_error</th>\n",
       "    </tr>\n",
       "  </thead>\n",
       "  <tbody>\n",
       "    <tr>\n",
       "      <th>9279</th>\n",
       "      <td>245709</td>\n",
       "      <td>29</td>\n",
       "      <td>0</td>\n",
       "      <td>290</td>\n",
       "      <td>0.000000</td>\n",
       "      <td>64</td>\n",
       "      <td>0</td>\n",
       "      <td>86.1260</td>\n",
       "      <td>1</td>\n",
       "      <td>2</td>\n",
       "      <td>0.56</td>\n",
       "      <td>6</td>\n",
       "      <td>2.28</td>\n",
       "      <td>1</td>\n",
       "      <td>450</td>\n",
       "      <td>0.345719</td>\n",
       "    </tr>\n",
       "    <tr>\n",
       "      <th>10906</th>\n",
       "      <td>420798</td>\n",
       "      <td>432</td>\n",
       "      <td>0</td>\n",
       "      <td>17280</td>\n",
       "      <td>0.000000</td>\n",
       "      <td>128</td>\n",
       "      <td>0</td>\n",
       "      <td>102.0030</td>\n",
       "      <td>322</td>\n",
       "      <td>6</td>\n",
       "      <td>0.66</td>\n",
       "      <td>7</td>\n",
       "      <td>0.73</td>\n",
       "      <td>1</td>\n",
       "      <td>350</td>\n",
       "      <td>0.203102</td>\n",
       "    </tr>\n",
       "    <tr>\n",
       "      <th>10916</th>\n",
       "      <td>330937</td>\n",
       "      <td>108</td>\n",
       "      <td>124</td>\n",
       "      <td>4320</td>\n",
       "      <td>0.028704</td>\n",
       "      <td>128</td>\n",
       "      <td>0</td>\n",
       "      <td>104.8930</td>\n",
       "      <td>97</td>\n",
       "      <td>6</td>\n",
       "      <td>0.66</td>\n",
       "      <td>7</td>\n",
       "      <td>2.93</td>\n",
       "      <td>1</td>\n",
       "      <td>175</td>\n",
       "      <td>0.180523</td>\n",
       "    </tr>\n",
       "    <tr>\n",
       "      <th>9243</th>\n",
       "      <td>254084</td>\n",
       "      <td>33</td>\n",
       "      <td>97</td>\n",
       "      <td>330</td>\n",
       "      <td>0.293939</td>\n",
       "      <td>64</td>\n",
       "      <td>0</td>\n",
       "      <td>74.9217</td>\n",
       "      <td>3</td>\n",
       "      <td>2</td>\n",
       "      <td>0.56</td>\n",
       "      <td>6</td>\n",
       "      <td>2.05</td>\n",
       "      <td>1</td>\n",
       "      <td>125</td>\n",
       "      <td>0.170652</td>\n",
       "    </tr>\n",
       "    <tr>\n",
       "      <th>5847</th>\n",
       "      <td>290639</td>\n",
       "      <td>58</td>\n",
       "      <td>0</td>\n",
       "      <td>1508</td>\n",
       "      <td>0.000000</td>\n",
       "      <td>16</td>\n",
       "      <td>0</td>\n",
       "      <td>13.3621</td>\n",
       "      <td>6</td>\n",
       "      <td>6</td>\n",
       "      <td>0.96</td>\n",
       "      <td>6</td>\n",
       "      <td>2.93</td>\n",
       "      <td>1</td>\n",
       "      <td>350</td>\n",
       "      <td>0.164869</td>\n",
       "    </tr>\n",
       "    <tr>\n",
       "      <th>...</th>\n",
       "      <td>...</td>\n",
       "      <td>...</td>\n",
       "      <td>...</td>\n",
       "      <td>...</td>\n",
       "      <td>...</td>\n",
       "      <td>...</td>\n",
       "      <td>...</td>\n",
       "      <td>...</td>\n",
       "      <td>...</td>\n",
       "      <td>...</td>\n",
       "      <td>...</td>\n",
       "      <td>...</td>\n",
       "      <td>...</td>\n",
       "      <td>...</td>\n",
       "      <td>...</td>\n",
       "      <td>...</td>\n",
       "    </tr>\n",
       "    <tr>\n",
       "      <th>10398</th>\n",
       "      <td>456815</td>\n",
       "      <td>753</td>\n",
       "      <td>0</td>\n",
       "      <td>47439</td>\n",
       "      <td>0.000000</td>\n",
       "      <td>647</td>\n",
       "      <td>15</td>\n",
       "      <td>646.9790</td>\n",
       "      <td>478</td>\n",
       "      <td>7</td>\n",
       "      <td>0.88</td>\n",
       "      <td>12</td>\n",
       "      <td>1.02</td>\n",
       "      <td>1</td>\n",
       "      <td>500</td>\n",
       "      <td>0.000032</td>\n",
       "    </tr>\n",
       "    <tr>\n",
       "      <th>9156</th>\n",
       "      <td>460739</td>\n",
       "      <td>800</td>\n",
       "      <td>0</td>\n",
       "      <td>88800</td>\n",
       "      <td>0.000000</td>\n",
       "      <td>488</td>\n",
       "      <td>15</td>\n",
       "      <td>488.0130</td>\n",
       "      <td>1493</td>\n",
       "      <td>11</td>\n",
       "      <td>0.89</td>\n",
       "      <td>12</td>\n",
       "      <td>1.71</td>\n",
       "      <td>1</td>\n",
       "      <td>300</td>\n",
       "      <td>0.000027</td>\n",
       "    </tr>\n",
       "    <tr>\n",
       "      <th>5877</th>\n",
       "      <td>494126</td>\n",
       "      <td>1339</td>\n",
       "      <td>19</td>\n",
       "      <td>137917</td>\n",
       "      <td>0.000138</td>\n",
       "      <td>7936</td>\n",
       "      <td>217</td>\n",
       "      <td>7936.1900</td>\n",
       "      <td>6045</td>\n",
       "      <td>10</td>\n",
       "      <td>0.90</td>\n",
       "      <td>13</td>\n",
       "      <td>1.02</td>\n",
       "      <td>1</td>\n",
       "      <td>250</td>\n",
       "      <td>0.000024</td>\n",
       "    </tr>\n",
       "    <tr>\n",
       "      <th>104</th>\n",
       "      <td>594950</td>\n",
       "      <td>6343</td>\n",
       "      <td>0</td>\n",
       "      <td>926078</td>\n",
       "      <td>0.000000</td>\n",
       "      <td>4096</td>\n",
       "      <td>175</td>\n",
       "      <td>4096.0800</td>\n",
       "      <td>59010</td>\n",
       "      <td>13</td>\n",
       "      <td>0.54</td>\n",
       "      <td>12</td>\n",
       "      <td>0.28</td>\n",
       "      <td>1</td>\n",
       "      <td>450</td>\n",
       "      <td>0.000020</td>\n",
       "    </tr>\n",
       "    <tr>\n",
       "      <th>10158</th>\n",
       "      <td>445767</td>\n",
       "      <td>635</td>\n",
       "      <td>0</td>\n",
       "      <td>97155</td>\n",
       "      <td>0.000000</td>\n",
       "      <td>4096</td>\n",
       "      <td>282</td>\n",
       "      <td>4095.9700</td>\n",
       "      <td>31773</td>\n",
       "      <td>14</td>\n",
       "      <td>0.71</td>\n",
       "      <td>12</td>\n",
       "      <td>2.93</td>\n",
       "      <td>1</td>\n",
       "      <td>175</td>\n",
       "      <td>0.000007</td>\n",
       "    </tr>\n",
       "  </tbody>\n",
       "</table>\n",
       "<p>1862 rows × 16 columns</p>\n",
       "</div>"
      ],
      "text/plain": [
       "       retries_per_sample  sample_size  sample_misses  sample_hits  \\\n",
       "9279               245709           29              0          290   \n",
       "10906              420798          432              0        17280   \n",
       "10916              330937          108            124         4320   \n",
       "9243               254084           33             97          330   \n",
       "5847               290639           58              0         1508   \n",
       "...                   ...          ...            ...          ...   \n",
       "10398              456815          753              0        47439   \n",
       "9156               460739          800              0        88800   \n",
       "5877               494126         1339             19       137917   \n",
       "104                594950         6343              0       926078   \n",
       "10158              445767          635              0        97155   \n",
       "\n",
       "       miss_ratio  bruteforce  bruteforce_time  estimation  estimation_time  \\\n",
       "9279     0.000000          64                0     86.1260                1   \n",
       "10906    0.000000         128                0    102.0030              322   \n",
       "10916    0.028704         128                0    104.8930               97   \n",
       "9243     0.293939          64                0     74.9217                3   \n",
       "5847     0.000000          16                0     13.3621                6   \n",
       "...           ...         ...              ...         ...              ...   \n",
       "10398    0.000000         647               15    646.9790              478   \n",
       "9156     0.000000         488               15    488.0130             1493   \n",
       "5877     0.000138        7936              217   7936.1900             6045   \n",
       "104      0.000000        4096              175   4096.0800            59010   \n",
       "10158    0.000000        4096              282   4095.9700            31773   \n",
       "\n",
       "       n_states  sparsity  string_len  epsilon  kappa_multiple  phi_multiple  \\\n",
       "9279          2      0.56           6     2.28               1           450   \n",
       "10906         6      0.66           7     0.73               1           350   \n",
       "10916         6      0.66           7     2.93               1           175   \n",
       "9243          2      0.56           6     2.05               1           125   \n",
       "5847          6      0.96           6     2.93               1           350   \n",
       "...         ...       ...         ...      ...             ...           ...   \n",
       "10398         7      0.88          12     1.02               1           500   \n",
       "9156         11      0.89          12     1.71               1           300   \n",
       "5877         10      0.90          13     1.02               1           250   \n",
       "104          13      0.54          12     0.28               1           450   \n",
       "10158        14      0.71          12     2.93               1           175   \n",
       "\n",
       "       rel_error  \n",
       "9279    0.345719  \n",
       "10906   0.203102  \n",
       "10916   0.180523  \n",
       "9243    0.170652  \n",
       "5847    0.164869  \n",
       "...          ...  \n",
       "10398   0.000032  \n",
       "9156    0.000027  \n",
       "5877    0.000024  \n",
       "104     0.000020  \n",
       "10158   0.000007  \n",
       "\n",
       "[1862 rows x 16 columns]"
      ]
     },
     "execution_count": 30,
     "metadata": {},
     "output_type": "execute_result"
    }
   ],
   "source": [
    "df[(df.rel_error > 0) & (df.epsilon < 3)].sort_values(by=\"rel_error\", ascending=False).drop(columns=[\"str_repr\"])"
   ]
  },
  {
   "cell_type": "code",
   "execution_count": 40,
   "id": "ca91547f",
   "metadata": {},
   "outputs": [
    {
     "name": "stderr",
     "output_type": "stream",
     "text": [
      "100%|███████████████████████████████████████████| 14/14 [00:11<00:00,  1.19it/s]"
     ]
    },
    {
     "name": "stdout",
     "output_type": "stream",
     "text": [
      "CPU times: user 313 ms, sys: 2.68 s, total: 2.99 s\n",
      "Wall time: 11.8 s\n"
     ]
    },
    {
     "name": "stderr",
     "output_type": "stream",
     "text": [
      "\n"
     ]
    }
   ],
   "source": [
    "%%time\n",
    "probe = df.loc[9279]\n",
    "cpp_input_nfa = probe.str_repr\n",
    "cpp_input_nfa = cpp_input_nfa[cpp_input_nfa.find(\"\\n\") :]\n",
    "str_len = probe.string_len\n",
    "ests = []\n",
    "for phi in tqdm([25, 50, 75, 100, 125, 150, 175, 200, 250, 300, 350, 400, 450, 500]):\n",
    "    eps = round(100/phi, 5)\n",
    "    cpp_input = f'{str_len} {eps} 1 {phi}\\n{cpp_input_nfa}'\n",
    "    for i in range(50):\n",
    "        result = subprocess.run([\"timeout\", \"300\", \"./cpp/main\"], \n",
    "                                    stdout=subprocess.PIPE, \n",
    "                                    input=cpp_input,\n",
    "                                    encoding=\"utf-8\")\n",
    "        res_dict2 = {}\n",
    "        if result.returncode == 0:\n",
    "            invalid = False\n",
    "            for line in result.stdout.split(\"\\n\"):\n",
    "                if \"Got 0 when\" in line or \"Empty NFA\" in line:\n",
    "                    print(line)\n",
    "                    invalid = True\n",
    "                    break\n",
    "                l_split = line.split()\n",
    "                if len(l_split) == 2:\n",
    "                    k, v = l_split\n",
    "                    res_dict2[k] = float(v) if \".\" in v else int(v)\n",
    "            if not invalid:\n",
    "                res_dict2[\"epsilon\"] = eps\n",
    "                res_dict2[\"phi_multiple\"] = phi\n",
    "                ests.append(res_dict2)"
   ]
  },
  {
   "cell_type": "code",
   "execution_count": 41,
   "id": "38186883",
   "metadata": {},
   "outputs": [],
   "source": [
    "df_probe = pd.DataFrame(ests)"
   ]
  },
  {
   "cell_type": "code",
   "execution_count": 42,
   "id": "7ceb8ef1",
   "metadata": {},
   "outputs": [],
   "source": [
    "df_probe[\"rel_error\"] = abs(df_probe.estimation - probe.bruteforce)/probe.bruteforce"
   ]
  },
  {
   "cell_type": "code",
   "execution_count": 43,
   "id": "9a09b584",
   "metadata": {
    "scrolled": false
   },
   "outputs": [
    {
     "data": {
      "image/png": "[encoded data removed]",
      "text/plain": [
       "<Figure size 1008x720 with 1 Axes>"
      ]
     },
     "metadata": {},
     "output_type": "display_data"
    },
    {
     "data": {
      "image/png": "[encoded data removed]",
      "text/plain": [
       "<Figure size 1008x720 with 1 Axes>"
      ]
     },
     "metadata": {},
     "output_type": "display_data"
    },
    {
     "data": {
      "image/png": "[encoded data removed]",
      "text/plain": [
       "<Figure size 1008x720 with 1 Axes>"
      ]
     },
     "metadata": {},
     "output_type": "display_data"
    },
    {
     "data": {
      "text/plain": [
       "<AxesSubplot:xlabel='phi_multiple', ylabel='estimation_time'>"
      ]
     },
     "execution_count": 43,
     "metadata": {},
     "output_type": "execute_result"
    },
    {
     "data": {
      "image/png": "[encoded data removed]",
      "text/plain": [
       "<Figure size 1008x720 with 1 Axes>"
      ]
     },
     "metadata": {},
     "output_type": "display_data"
    }
   ],
   "source": [
    "%matplotlib inline\n",
    "sns.set(rc={\"figure.figsize\": (14,10)})\n",
    "sns.lineplot(data=df_probe, x=\"epsilon\", y=\"rel_error\")\n",
    "plt.show()\n",
    "sns.lineplot(data=df_probe, x=\"epsilon\", y=\"estimation_time\")\n",
    "plt.show()\n",
    "sns.lineplot(data=df_probe, x=\"phi_multiple\", y=\"rel_error\")\n",
    "plt.show()\n",
    "sns.lineplot(data=df_probe, x=\"phi_multiple\", y=\"estimation_time\")"
   ]
  },
  {
   "cell_type": "markdown",
   "id": "62b4613d",
   "metadata": {},
   "source": [
    "# Pentanacci NFA"
   ]
  },
  {
   "cell_type": "code",
   "execution_count": 86,
   "id": "f8915c68",
   "metadata": {},
   "outputs": [
    {
     "data": {
      "text/plain": [
       "array([[0, 0, 1, 0, 1, 0],\n",
       "       [0, 0, 0, 0, 0, 0],\n",
       "       [0, 1, 0, 1, 0, 0],\n",
       "       [0, 1, 0, 0, 1, 0],\n",
       "       [0, 0, 0, 0, 0, 0],\n",
       "       [1, 1, 0, 1, 0, 0],\n",
       "       [1, 0, 0, 0, 1, 0],\n",
       "       [1, 0, 0, 0, 0, 1],\n",
       "       [0, 1, 1, 1, 0, 0],\n",
       "       [0, 0, 0, 0, 0, 0],\n",
       "       [0, 1, 0, 1, 0, 1],\n",
       "       [0, 0, 1, 0, 0, 0],\n",
       "       [0, 0, 0, 1, 0, 1],\n",
       "       [1, 0, 0, 0, 1, 0]])"
      ]
     },
     "execution_count": 86,
     "metadata": {},
     "output_type": "execute_result"
    }
   ],
   "source": [
    "rand_matrix = np.array(\n",
    "   [[0, 0, 1, 0, 1, 0],\n",
    "   [0, 0, 0, 0, 0, 0],\n",
    "   [0, 1, 0, 1, 0, 0],\n",
    "   [0, 1, 0, 0, 1, 0],\n",
    "   [0, 0, 0, 0, 0, 0],\n",
    "   [1, 1, 0, 1, 0, 0],\n",
    "   [1, 0, 0, 0, 1, 0],\n",
    "   [1, 0, 0, 0, 0, 1],\n",
    "   [0, 1, 1, 1, 0, 0],\n",
    "   [0, 0, 0, 0, 0, 0],\n",
    "   [0, 1, 0, 1, 0, 1],\n",
    "   [0, 0, 1, 0, 0, 0],\n",
    "   [0, 0, 0, 1, 0, 1],\n",
    "   [1, 0, 0, 0, 1, 0]])"
   ]
  },
  {
   "cell_type": "code",
   "execution_count": 78,
   "id": "f6f5e172",
   "metadata": {},
   "outputs": [
    {
     "name": "stderr",
     "output_type": "stream",
     "text": [
      "                                                                                \r"
     ]
    }
   ],
   "source": [
    "data = [rand_nfa.bruteforce_count_only(i) for i in range(26)]"
   ]
  },
  {
   "cell_type": "code",
   "execution_count": 81,
   "id": "771a9142",
   "metadata": {},
   "outputs": [
    {
     "data": {
      "text/plain": [
       "[2.0,\n",
       " 3.5,\n",
       " 2.142857142857143,\n",
       " 1.8666666666666667,\n",
       " 2.0,\n",
       " 1.9821428571428572,\n",
       " 1.954954954954955,\n",
       " 1.9631336405529953,\n",
       " 1.9671361502347418,\n",
       " 1.9665871121718377,\n",
       " 1.9660194174757282,\n",
       " 1.9657407407407408,\n",
       " 1.965928717224054,\n",
       " 1.9659771583739318,\n",
       " 1.9659571010724732,\n",
       " 1.965946191676654,\n",
       " 1.9659449232709691,\n",
       " 1.9659484602224122,\n",
       " 1.965948802184324,\n",
       " 1.9659483110412075,\n",
       " 1.9659481587913195,\n",
       " 1.9659481928633655,\n",
       " 1.9659482494953409,\n",
       " 1.9659482458453843]"
      ]
     },
     "execution_count": 81,
     "metadata": {},
     "output_type": "execute_result"
    }
   ],
   "source": [
    "[data[i+1] / data[i] for i in range(1, 25)]"
   ]
  },
  {
   "cell_type": "code",
   "execution_count": 82,
   "id": "41164f31",
   "metadata": {},
   "outputs": [
    {
     "data": {
      "text/plain": [
       "[0,\n",
       " 1,\n",
       " 2,\n",
       " 7,\n",
       " 15,\n",
       " 28,\n",
       " 56,\n",
       " 111,\n",
       " 217,\n",
       " 426,\n",
       " 838,\n",
       " 1648,\n",
       " 3240,\n",
       " 6369,\n",
       " 12521,\n",
       " 24616,\n",
       " 48394,\n",
       " 95140,\n",
       " 187040,\n",
       " 367711,\n",
       " 722901,\n",
       " 1421186,\n",
       " 2793978,\n",
       " 5492816,\n",
       " 10798592,\n",
       " 21229473]"
      ]
     },
     "execution_count": 82,
     "metadata": {},
     "output_type": "execute_result"
    }
   ],
   "source": [
    "data"
   ]
  },
  {
   "cell_type": "code",
   "execution_count": 85,
   "id": "62dc7c94",
   "metadata": {},
   "outputs": [
    {
     "name": "stdout",
     "output_type": "stream",
     "text": [
      "6 2 20\n",
      "0 1 2 3 4 5\n",
      "0 0 0 1 0 1\n",
      "1 0 0 0 1 0\n",
      "0 1\n",
      "0 0 4\n",
      "0 0 2\n",
      "0 1 4\n",
      "0 1 0\n",
      "1 1 5\n",
      "1 1 0\n",
      "2 0 1\n",
      "2 0 3\n",
      "2 1 2\n",
      "2 1 1\n",
      "2 1 3\n",
      "3 0 4\n",
      "3 0 1\n",
      "4 1 5\n",
      "4 1 1\n",
      "4 1 3\n",
      "5 0 0\n",
      "5 0 1\n",
      "5 0 3\n",
      "5 1 2\n"
     ]
    }
   ],
   "source": [
    "print(rand_nfa.to_text())"
   ]
  },
  {
   "cell_type": "code",
   "execution_count": null,
   "id": "51252296",
   "metadata": {},
   "outputs": [],
   "source": []
  }
 ],
 "metadata": {
  "kernelspec": {
   "display_name": "Python 3.8.10 64-bit ('venv': venv)",
   "language": "python",
   "name": "python3810jvsc74a57bd00602504454f0638c3c0ff967dc00c81d73b297792cfa3e9f03f5a76d8a2b245a"
  },
  "language_info": {
   "codemirror_mode": {
    "name": "ipython",
    "version": 3
   },
   "file_extension": ".py",
   "mimetype": "text/x-python",
   "name": "python",
   "nbconvert_exporter": "python",
   "pygments_lexer": "ipython3",
   "version": "3.8.10"
  }
 },
 "nbformat": 4,
 "nbformat_minor": 5
}
