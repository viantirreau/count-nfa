{
 "cells": [
  {
   "cell_type": "code",
   "execution_count": 84,
   "id": "0275de83",
   "metadata": {},
   "outputs": [],
   "source": [
    "import subprocess\n",
    "from random import random, randint\n",
    "from nfa_lib import NFA, random_matrix_for_nfa, count_nfa\n",
    "import matplotlib.pyplot as plt\n",
    "import seaborn as sns\n",
    "from tqdm.auto import tqdm as tqdm\n",
    "import pandas as pd\n",
    "sns.set()"
   ]
  },
  {
   "cell_type": "code",
   "execution_count": 2,
   "id": "bfff5359",
   "metadata": {},
   "outputs": [],
   "source": [
    "def random_run():\n",
    "    n_states = randint(2, 4)\n",
    "    sparsity = round(random() / 2 + 0.5, 2)\n",
    "    n_initial = randint(1, n_states)\n",
    "    n_final = randint(1, n_states)\n",
    "    string_length = randint(3, 6)\n",
    "    epsilon = round(random() * 4.5 + 0.5, 1) # epsilon \\in [0.5, 5]\n",
    "    kappa_multiple = 1\n",
    "    phi_multiple = round(2 ** (random() * 6)) # phi_multiple \\in [1, 64]\n",
    "    \n",
    "    rand_matrix = random_matrix_for_nfa(n_states=n_states, sparsity=sparsity, n_initial=n_initial, n_final=n_final)\n",
    "    rand_nfa = NFA.from_random_matrix(rand_matrix)\n",
    "    cpp_input = f\"{string_length} {epsilon} {kappa_multiple} {phi_multiple}\\n\" + rand_nfa.to_text()\n",
    "    result = subprocess.run([\"timeout\", \"10\", \"./cpp/main\"], \n",
    "                            stdout=subprocess.PIPE, \n",
    "                            input=cpp_input,\n",
    "                            encoding=\"utf-8\")\n",
    "    res_dict = {}\n",
    "    if result.returncode == 0:\n",
    "        invalid = False\n",
    "        for line in result.stdout.split(\"\\n\"):\n",
    "            if \"Got 0 when\" in line or \"Empty NFA\" in line:\n",
    "                invalid = True\n",
    "                break\n",
    "            l_split = line.split()\n",
    "            if len(l_split) == 2:\n",
    "                k, v = l_split\n",
    "                res_dict[k] = float(v) if \".\" in v else int(v)\n",
    "        if not invalid:\n",
    "            res_dict[\"n_states\"] = len(rand_nfa.states)\n",
    "            res_dict[\"sparsity\"] = sparsity\n",
    "            res_dict[\"str_repr\"] = cpp_input\n",
    "            res_dict[\"string_len\"] = string_length\n",
    "            res_dict[\"epsilon\"] = epsilon\n",
    "            res_dict[\"kappa_multiple\"] = kappa_multiple\n",
    "            res_dict[\"phi_multiple\"] = phi_multiple\n",
    "        \n",
    "    return rand_nfa, res_dict"
   ]
  },
  {
   "cell_type": "code",
   "execution_count": 64,
   "id": "0b0c8efb",
   "metadata": {},
   "outputs": [
    {
     "data": {
      "text/plain": [
       "{'retries_per_sample': 377057,\n",
       " 'sample_size': 220,\n",
       " 'sample_misses': 112767,\n",
       " 'sample_hits': 3960,\n",
       " 'miss_ratio': 28.4765,\n",
       " 'bruteforce': 32,\n",
       " 'bruteforce_time': 0,\n",
       " 'estimation': 30.9988,\n",
       " 'estimation_time': 464,\n",
       " 'n_states': 4,\n",
       " 'sparsity': 0.62,\n",
       " 'str_repr': '5 0.5 1 5\\n4 2 14\\n0 1 2 3\\n1 1 1 1\\n0 1 1 0\\n0 1\\n0 0 0\\n0 1 3\\n0 1 2\\n1 0 3\\n1 0 2\\n1 1 2\\n2 0 0\\n2 0 3\\n2 1 1\\n2 1 3\\n2 1 2\\n3 0 0\\n3 0 2\\n3 1 2',\n",
       " 'string_len': 5,\n",
       " 'epsilon': 0.5,\n",
       " 'kappa_multiple': 1,\n",
       " 'phi_multiple': 5}"
      ]
     },
     "execution_count": 64,
     "metadata": {},
     "output_type": "execute_result"
    }
   ],
   "source": [
    "rand_nfa, res_dict = random_run()\n",
    "res_dict"
   ]
  },
  {
   "cell_type": "code",
   "execution_count": null,
   "id": "b13aef65",
   "metadata": {},
   "outputs": [],
   "source": []
  },
  {
   "cell_type": "code",
   "execution_count": null,
   "id": "28da2da2",
   "metadata": {},
   "outputs": [
    {
     "name": "stderr",
     "output_type": "stream",
     "text": [
      " 20%|█████████                                    | 1/5 [00:35<02:20, 35.23s/it]"
     ]
    }
   ],
   "source": [
    "%%time\n",
    "# cpp_input = res_dict[\"str_repr\"]\n",
    "ests = []\n",
    "\n",
    "for phi in tqdm([25, 50, 75, 100, 125]):\n",
    "    eps = round(1/phi, 3)\n",
    "    cpp_input = f'5 {eps} 1 {phi}\\n4 2 14\\n0 1 2 3\\n1 1 1 1\\n0 1 1 0\\n0 1\\n0 0 0\\n0 1 3\\n0 1 2\\n1 0 3\\n1 0 2\\n1 1 2\\n2 0 0\\n2 0 3\\n2 1 1\\n2 1 3\\n2 1 2\\n3 0 0\\n3 0 2\\n3 1 2'\n",
    "    for i in range(30):\n",
    "        result = subprocess.run([\"timeout\", \"300\", \"./cpp/main\"], \n",
    "                                    stdout=subprocess.PIPE, \n",
    "                                    input=cpp_input,\n",
    "                                    encoding=\"utf-8\")\n",
    "        res_dict2 = {}\n",
    "        if result.returncode == 0:\n",
    "            invalid = False\n",
    "            for line in result.stdout.split(\"\\n\"):\n",
    "                if \"Got 0 when\" in line or \"Empty NFA\" in line:\n",
    "                    invalid = True\n",
    "                    break\n",
    "                l_split = line.split()\n",
    "                if len(l_split) == 2:\n",
    "                    k, v = l_split\n",
    "                    res_dict2[k] = float(v) if \".\" in v else int(v)\n",
    "        ests.append((phi, res_dict2[\"estimation\"]))"
   ]
  },
  {
   "cell_type": "code",
   "execution_count": 96,
   "id": "c99a4fb0",
   "metadata": {},
   "outputs": [],
   "source": [
    "df = pd.DataFrame(ests, columns=[\"phi\", \"est\"])"
   ]
  },
  {
   "cell_type": "code",
   "execution_count": 97,
   "id": "8cf46807",
   "metadata": {},
   "outputs": [],
   "source": [
    "df[\"diffsq\"] = (df.est - res_dict[\"bruteforce\"])**2"
   ]
  },
  {
   "cell_type": "code",
   "execution_count": 99,
   "id": "bbdb87fa",
   "metadata": {},
   "outputs": [
    {
     "data": {
      "image/png": "[encoded data removed]",
      "text/plain": [
       "<Figure size 432x288 with 1 Axes>"
      ]
     },
     "metadata": {},
     "output_type": "display_data"
    }
   ],
   "source": [
    "df.groupby(\"phi\").mean().diffsq.plot()\n",
    "plt.xscale('log')\n",
    "plt.yscale('log')"
   ]
  },
  {
   "cell_type": "code",
   "execution_count": 66,
   "id": "d119dd25",
   "metadata": {},
   "outputs": [
    {
     "name": "stdout",
     "output_type": "stream",
     "text": [
      "Retries per sample 332127\n",
      "Sample size 110\n",
      "1 defaultdict(<class 'collections.Counter'>, {('1', 0): {'': 110}, ('3', 0): {'': 110}, ('2', 0): {'': 110}, ('0', 0): {'': 110}}) {('1', 0): 1, ('3', 0): 1, ('2', 0): 1, ('0', 0): 1}\n",
      "2 defaultdict(<class 'collections.Counter'>, {('1', 0): {'': 110}, ('3', 0): {'': 110}, ('2', 0): {'': 110}, ('0', 0): {'': 110}, ('0', 1): Counter({'0': 110}), ('1', 1): Counter({'1': 110}), ('3', 1): Counter({'0': 57, '1': 53}), ('2', 1): Counter({'0': 58, '1': 52})}) {('1', 0): 1, ('3', 0): 1, ('2', 0): 1, ('0', 0): 1, ('0', 1): 1.0, ('1', 1): 1, ('3', 1): 2.0, ('2', 1): 2.0}\n",
      "3 defaultdict(<class 'collections.Counter'>, {('1', 0): {'': 110}, ('3', 0): {'': 110}, ('2', 0): {'': 110}, ('0', 0): {'': 110}, ('0', 1): Counter({'0': 110}), ('1', 1): Counter({'1': 110}), ('3', 1): Counter({'0': 57, '1': 53}), ('2', 1): Counter({'0': 58, '1': 52}), ('0', 2): Counter({'10': 58, '00': 52}), ('1', 2): Counter({'11': 61, '01': 49}), ('3', 2): Counter({'01': 30, '10': 30, '00': 27, '11': 23}), ('2', 2): Counter({'10': 35, '00': 30, '01': 24, '11': 21})}) {('1', 0): 1, ('3', 0): 1, ('2', 0): 1, ('0', 0): 1, ('0', 1): 1.0, ('1', 1): 1, ('3', 1): 2.0, ('2', 1): 2.0, ('0', 2): 1.9454545454545453, ('1', 2): 2.0, ('3', 2): 4.0, ('2', 2): 4.036363636363636}\n",
      "4 defaultdict(<class 'collections.Counter'>, {('1', 0): {'': 110}, ('3', 0): {'': 110}, ('2', 0): {'': 110}, ('0', 0): {'': 110}, ('0', 1): Counter({'0': 110}), ('1', 1): Counter({'1': 110}), ('3', 1): Counter({'0': 57, '1': 53}), ('2', 1): Counter({'0': 58, '1': 52}), ('0', 2): Counter({'10': 58, '00': 52}), ('1', 2): Counter({'11': 61, '01': 49}), ('3', 2): Counter({'01': 30, '10': 30, '00': 27, '11': 23}), ('2', 2): Counter({'10': 35, '00': 30, '01': 24, '11': 21}), ('2', 3): Counter({'001': 21, '000': 19, '101': 14, '100': 13, '111': 13, '011': 12, '110': 11, '010': 7}), ('0', 3): Counter({'110': 32, '000': 30, '100': 28, '010': 20}), ('1', 3): Counter({'111': 32, '101': 29, '001': 27, '011': 22}), ('3', 3): Counter({'010': 18, '000': 17, '011': 15, '101': 15, '111': 14, '001': 11, '100': 10, '110': 10})}) {('1', 0): 1, ('3', 0): 1, ('2', 0): 1, ('0', 0): 1, ('0', 1): 1.0, ('1', 1): 1, ('3', 1): 2.0, ('2', 1): 2.0, ('0', 2): 1.9454545454545453, ('1', 2): 2.0, ('3', 2): 4.0, ('2', 2): 4.036363636363636, ('2', 3): 8.018181818181818, ('0', 3): 3.596694214876033, ('1', 3): 4.036363636363636, ('3', 3): 7.9818181818181815}\n",
      "5 defaultdict(<class 'collections.Counter'>, {('1', 0): {'': 110}, ('3', 0): {'': 110}, ('2', 0): {'': 110}, ('0', 0): {'': 110}, ('0', 1): Counter({'0': 110}), ('1', 1): Counter({'1': 110}), ('3', 1): Counter({'0': 57, '1': 53}), ('2', 1): Counter({'0': 58, '1': 52}), ('0', 2): Counter({'10': 58, '00': 52}), ('1', 2): Counter({'11': 61, '01': 49}), ('3', 2): Counter({'01': 30, '10': 30, '00': 27, '11': 23}), ('2', 2): Counter({'10': 35, '00': 30, '01': 24, '11': 21}), ('2', 3): Counter({'001': 21, '000': 19, '101': 14, '100': 13, '111': 13, '011': 12, '110': 11, '010': 7}), ('0', 3): Counter({'110': 32, '000': 30, '100': 28, '010': 20}), ('1', 3): Counter({'111': 32, '101': 29, '001': 27, '011': 22}), ('3', 3): Counter({'010': 18, '000': 17, '011': 15, '101': 15, '111': 14, '001': 11, '100': 10, '110': 10}), ('3', 4): Counter({'0000': 14, '0100': 12, '0111': 11, '1111': 10, '1000': 10, '0110': 7, '1110': 7, '1100': 6, '1001': 6, '0101': 6, '0010': 5, '1010': 4, '0011': 4, '1101': 4, '0001': 3, '1011': 1}), ('2', 4): Counter({'1100': 10, '1111': 9, '0001': 9, '0000': 9, '0101': 8, '0111': 8, '1000': 8, '1110': 7, '0011': 7, '0100': 6, '0010': 6, '1011': 6, '1001': 5, '0110': 4, '1010': 4, '1101': 4}), ('0', 4): Counter({'0010': 17, '0000': 16, '1000': 16, '1110': 15, '1010': 14, '1100': 11, '0100': 11, '0110': 10}), ('1', 4): Counter({'1001': 18, '0111': 16, '1011': 15, '1101': 14, '0001': 13, '0101': 12, '1111': 12, '0011': 10})}) {('1', 0): 1, ('3', 0): 1, ('2', 0): 1, ('0', 0): 1, ('0', 1): 1.0, ('1', 1): 1, ('3', 1): 2.0, ('2', 1): 2.0, ('0', 2): 1.9454545454545453, ('1', 2): 2.0, ('3', 2): 4.0, ('2', 2): 4.036363636363636, ('2', 3): 8.018181818181818, ('0', 3): 3.596694214876033, ('1', 3): 4.036363636363636, ('3', 3): 7.9818181818181815, ('3', 4): 15.651239669421486, ('2', 4): 15.660330578512397, ('0', 4): 7.970247933884297, ('1', 4): 8.018181818181818}\n",
      "Sample hits: 1980\n",
      "Sample misses: 295078\n",
      "Retries per sample 332127\n",
      "Sample size 110\n",
      "1 defaultdict(<class 'collections.Counter'>, {('1', 0): {'': 110}, ('3', 0): {'': 110}, ('2', 0): {'': 110}, ('0', 0): {'': 110}}) {('1', 0): 1, ('3', 0): 1, ('2', 0): 1, ('0', 0): 1}\n",
      "2 defaultdict(<class 'collections.Counter'>, {('1', 0): {'': 110}, ('3', 0): {'': 110}, ('2', 0): {'': 110}, ('0', 0): {'': 110}, ('0', 1): Counter({'0': 110}), ('1', 1): Counter({'1': 110}), ('3', 1): Counter({'0': 56, '1': 54}), ('2', 1): Counter({'1': 55, '0': 55})}) {('1', 0): 1, ('3', 0): 1, ('2', 0): 1, ('0', 0): 1, ('0', 1): 1.0, ('1', 1): 1, ('3', 1): 2.0, ('2', 1): 2.0}\n",
      "3 defaultdict(<class 'collections.Counter'>, {('1', 0): {'': 110}, ('3', 0): {'': 110}, ('2', 0): {'': 110}, ('0', 0): {'': 110}, ('0', 1): Counter({'0': 110}), ('1', 1): Counter({'1': 110}), ('3', 1): Counter({'0': 56, '1': 54}), ('2', 1): Counter({'1': 55, '0': 55}), ('0', 2): Counter({'00': 59, '10': 51}), ('1', 2): Counter({'01': 56, '11': 54}), ('3', 2): Counter({'11': 28, '00': 28, '01': 28, '10': 26}), ('2', 2): Counter({'11': 34, '00': 28, '10': 24, '01': 24})}) {('1', 0): 1, ('3', 0): 1, ('2', 0): 1, ('0', 0): 1, ('0', 1): 1.0, ('1', 1): 1, ('3', 1): 2.0, ('2', 1): 2.0, ('0', 2): 2.0, ('1', 2): 2.0, ('3', 2): 4.0, ('2', 2): 4.018181818181818}\n",
      "4 defaultdict(<class 'collections.Counter'>, {('1', 0): {'': 110}, ('3', 0): {'': 110}, ('2', 0): {'': 110}, ('0', 0): {'': 110}, ('0', 1): Counter({'0': 110}), ('1', 1): Counter({'1': 110}), ('3', 1): Counter({'0': 56, '1': 54}), ('2', 1): Counter({'1': 55, '0': 55}), ('0', 2): Counter({'00': 59, '10': 51}), ('1', 2): Counter({'01': 56, '11': 54}), ('3', 2): Counter({'11': 28, '00': 28, '01': 28, '10': 26}), ('2', 2): Counter({'11': 34, '00': 28, '10': 24, '01': 24}), ('2', 3): Counter({'100': 22, '000': 16, '111': 14, '001': 13, '011': 13, '010': 12, '110': 11, '101': 9}), ('0', 3): Counter({'010': 32, '110': 30, '100': 26, '000': 22}), ('1', 3): Counter({'111': 37, '011': 26, '101': 26, '001': 21}), ('3', 3): Counter({'100': 23, '110': 19, '111': 14, '011': 13, '101': 12, '010': 11, '001': 10, '000': 8})}) {('1', 0): 1, ('3', 0): 1, ('2', 0): 1, ('0', 0): 1, ('0', 1): 1.0, ('1', 1): 1, ('3', 1): 2.0, ('2', 1): 2.0, ('0', 2): 2.0, ('1', 2): 2.0, ('3', 2): 4.0, ('2', 2): 4.018181818181818, ('2', 3): 7.963636363636364, ('0', 3): 4.118677685950413, ('1', 3): 4.018181818181818, ('3', 3): 8.018181818181818}\n",
      "5 defaultdict(<class 'collections.Counter'>, {('1', 0): {'': 110}, ('3', 0): {'': 110}, ('2', 0): {'': 110}, ('0', 0): {'': 110}, ('0', 1): Counter({'0': 110}), ('1', 1): Counter({'1': 110}), ('3', 1): Counter({'0': 56, '1': 54}), ('2', 1): Counter({'1': 55, '0': 55}), ('0', 2): Counter({'00': 59, '10': 51}), ('1', 2): Counter({'01': 56, '11': 54}), ('3', 2): Counter({'11': 28, '00': 28, '01': 28, '10': 26}), ('2', 2): Counter({'11': 34, '00': 28, '10': 24, '01': 24}), ('2', 3): Counter({'100': 22, '000': 16, '111': 14, '001': 13, '011': 13, '010': 12, '110': 11, '101': 9}), ('0', 3): Counter({'010': 32, '110': 30, '100': 26, '000': 22}), ('1', 3): Counter({'111': 37, '011': 26, '101': 26, '001': 21}), ('3', 3): Counter({'100': 23, '110': 19, '111': 14, '011': 13, '101': 12, '010': 11, '001': 10, '000': 8}), ('3', 4): Counter({'0000': 12, '0001': 12, '0110': 10, '0101': 9, '1100': 8, '1111': 7, '0100': 7, '1010': 6, '1011': 6, '1110': 6, '0010': 5, '0011': 5, '1101': 5, '1000': 4, '0111': 4, '1001': 4}), ('2', 4): Counter({'0010': 10, '1010': 9, '0000': 9, '0101': 9, '0111': 8, '1000': 8, '0001': 8, '1111': 8, '1001': 7, '0011': 6, '1011': 6, '1110': 6, '1101': 6, '0100': 4, '0110': 3, '1100': 3}), ('0', 4): Counter({'1100': 16, '1010': 16, '0000': 15, '0010': 14, '1110': 13, '0110': 12, '0100': 12, '1000': 12}), ('1', 4): Counter({'0001': 17, '0111': 16, '0101': 16, '1011': 13, '1111': 13, '0011': 13, '1001': 12, '1101': 10})}) {('1', 0): 1, ('3', 0): 1, ('2', 0): 1, ('0', 0): 1, ('0', 1): 1.0, ('1', 1): 1, ('3', 1): 2.0, ('2', 1): 2.0, ('0', 2): 2.0, ('1', 2): 2.0, ('3', 2): 4.0, ('2', 2): 4.018181818181818, ('2', 3): 7.963636363636364, ('0', 3): 4.118677685950413, ('1', 3): 4.018181818181818, ('3', 3): 8.018181818181818, ('3', 4): 16.100495867768593, ('2', 4): 16.601487603305785, ('0', 4): 7.666115702479338, ('1', 4): 7.963636363636364}\n"
     ]
    },
    {
     "name": "stdout",
     "output_type": "stream",
     "text": [
      "Sample hits: 1980\n",
      "Sample misses: 290039\n",
      "Retries per sample 332127\n",
      "Sample size 110\n",
      "1 defaultdict(<class 'collections.Counter'>, {('1', 0): {'': 110}, ('3', 0): {'': 110}, ('2', 0): {'': 110}, ('0', 0): {'': 110}}) {('1', 0): 1, ('3', 0): 1, ('2', 0): 1, ('0', 0): 1}\n",
      "2 defaultdict(<class 'collections.Counter'>, {('1', 0): {'': 110}, ('3', 0): {'': 110}, ('2', 0): {'': 110}, ('0', 0): {'': 110}, ('0', 1): Counter({'0': 110}), ('1', 1): Counter({'1': 110}), ('3', 1): Counter({'1': 59, '0': 51}), ('2', 1): Counter({'1': 58, '0': 52})}) {('1', 0): 1, ('3', 0): 1, ('2', 0): 1, ('0', 0): 1, ('0', 1): 1.0, ('1', 1): 1, ('3', 1): 2.0, ('2', 1): 2.0}\n",
      "3 defaultdict(<class 'collections.Counter'>, {('1', 0): {'': 110}, ('3', 0): {'': 110}, ('2', 0): {'': 110}, ('0', 0): {'': 110}, ('0', 1): Counter({'0': 110}), ('1', 1): Counter({'1': 110}), ('3', 1): Counter({'1': 59, '0': 51}), ('2', 1): Counter({'1': 58, '0': 52}), ('0', 2): Counter({'10': 57, '00': 53}), ('1', 2): Counter({'01': 56, '11': 54}), ('3', 2): Counter({'00': 31, '11': 28, '10': 27, '01': 24}), ('2', 2): Counter({'11': 30, '00': 28, '01': 26, '10': 26})}) {('1', 0): 1, ('3', 0): 1, ('2', 0): 1, ('0', 0): 1, ('0', 1): 1.0, ('1', 1): 1, ('3', 1): 2.0, ('2', 1): 2.0, ('0', 2): 2.0545454545454547, ('1', 2): 2.0, ('3', 2): 4.0, ('2', 2): 3.9272727272727272}\n",
      "4 defaultdict(<class 'collections.Counter'>, {('1', 0): {'': 110}, ('3', 0): {'': 110}, ('2', 0): {'': 110}, ('0', 0): {'': 110}, ('0', 1): Counter({'0': 110}), ('1', 1): Counter({'1': 110}), ('3', 1): Counter({'1': 59, '0': 51}), ('2', 1): Counter({'1': 58, '0': 52}), ('0', 2): Counter({'10': 57, '00': 53}), ('1', 2): Counter({'01': 56, '11': 54}), ('3', 2): Counter({'00': 31, '11': 28, '10': 27, '01': 24}), ('2', 2): Counter({'11': 30, '00': 28, '01': 26, '10': 26}), ('2', 3): Counter({'011': 19, '000': 17, '010': 16, '110': 13, '111': 13, '001': 12, '101': 10, '100': 10}), ('0', 3): Counter({'000': 33, '100': 26, '110': 26, '010': 25}), ('1', 3): Counter({'101': 30, '011': 30, '111': 25, '001': 25}), ('3', 3): Counter({'001': 18, '110': 17, '000': 16, '100': 16, '011': 16, '101': 10, '111': 10, '010': 7})}) {('1', 0): 1, ('3', 0): 1, ('2', 0): 1, ('0', 0): 1, ('0', 1): 1.0, ('1', 1): 1, ('3', 1): 2.0, ('2', 1): 2.0, ('0', 2): 2.0545454545454547, ('1', 2): 2.0, ('3', 2): 4.0, ('2', 2): 3.9272727272727272, ('2', 3): 8.163636363636364, ('0', 3): 4.053884297520661, ('1', 3): 3.9272727272727272, ('3', 3): 7.9818181818181815}\n",
      "5 defaultdict(<class 'collections.Counter'>, {('1', 0): {'': 110}, ('3', 0): {'': 110}, ('2', 0): {'': 110}, ('0', 0): {'': 110}, ('0', 1): Counter({'0': 110}), ('1', 1): Counter({'1': 110}), ('3', 1): Counter({'1': 59, '0': 51}), ('2', 1): Counter({'1': 58, '0': 52}), ('0', 2): Counter({'10': 57, '00': 53}), ('1', 2): Counter({'01': 56, '11': 54}), ('3', 2): Counter({'00': 31, '11': 28, '10': 27, '01': 24}), ('2', 2): Counter({'11': 30, '00': 28, '01': 26, '10': 26}), ('2', 3): Counter({'011': 19, '000': 17, '010': 16, '110': 13, '111': 13, '001': 12, '101': 10, '100': 10}), ('0', 3): Counter({'000': 33, '100': 26, '110': 26, '010': 25}), ('1', 3): Counter({'101': 30, '011': 30, '111': 25, '001': 25}), ('3', 3): Counter({'001': 18, '110': 17, '000': 16, '100': 16, '011': 16, '101': 10, '111': 10, '010': 7}), ('3', 4): Counter({'0110': 11, '1001': 10, '1100': 10, '1110': 9, '1011': 8, '0101': 8, '1000': 7, '0111': 7, '1010': 6, '0100': 6, '0010': 5, '1111': 5, '0000': 5, '1101': 5, '0001': 4, '0011': 4}), ('2', 4): Counter({'1010': 11, '0101': 10, '1011': 10, '1001': 10, '1100': 10, '0000': 7, '0111': 7, '1000': 7, '0010': 7, '0001': 6, '0100': 6, '1111': 5, '0110': 5, '0011': 4, '1110': 3, '1101': 2}), ('0', 4): Counter({'0010': 19, '1010': 18, '0000': 15, '1100': 13, '1110': 12, '1000': 12, '0100': 11, '0110': 10}), ('1', 4): Counter({'0001': 18, '0101': 16, '1001': 16, '1011': 15, '0111': 12, '0011': 12, '1101': 11, '1111': 10})}) {('1', 0): 1, ('3', 0): 1, ('2', 0): 1, ('0', 0): 1, ('0', 1): 1.0, ('1', 1): 1, ('3', 1): 2.0, ('2', 1): 2.0, ('0', 2): 2.0545454545454547, ('1', 2): 2.0, ('3', 2): 4.0, ('2', 2): 3.9272727272727272, ('2', 3): 8.163636363636364, ('0', 3): 4.053884297520661, ('1', 3): 3.9272727272727272, ('3', 3): 7.9818181818181815, ('3', 4): 16.144793388429754, ('2', 4): 15.97190082644628, ('0', 4): 8.061487603305785, ('1', 4): 8.163636363636364}\n",
      "Sample hits: 1980\n",
      "Sample misses: 282282\n",
      "Retries per sample 332127\n",
      "Sample size 110\n",
      "1 defaultdict(<class 'collections.Counter'>, {('1', 0): {'': 110}, ('3', 0): {'': 110}, ('2', 0): {'': 110}, ('0', 0): {'': 110}}) {('1', 0): 1, ('3', 0): 1, ('2', 0): 1, ('0', 0): 1}\n",
      "2 defaultdict(<class 'collections.Counter'>, {('1', 0): {'': 110}, ('3', 0): {'': 110}, ('2', 0): {'': 110}, ('0', 0): {'': 110}, ('0', 1): Counter({'0': 110}), ('1', 1): Counter({'1': 110}), ('3', 1): Counter({'0': 66, '1': 44}), ('2', 1): Counter({'1': 63, '0': 47})}) {('1', 0): 1, ('3', 0): 1, ('2', 0): 1, ('0', 0): 1, ('0', 1): 1.0, ('1', 1): 1, ('3', 1): 2.0, ('2', 1): 2.0}\n",
      "3 defaultdict(<class 'collections.Counter'>, {('1', 0): {'': 110}, ('3', 0): {'': 110}, ('2', 0): {'': 110}, ('0', 0): {'': 110}, ('0', 1): Counter({'0': 110}), ('1', 1): Counter({'1': 110}), ('3', 1): Counter({'0': 66, '1': 44}), ('2', 1): Counter({'1': 63, '0': 47}), ('0', 2): Counter({'00': 58, '10': 52}), ('1', 2): Counter({'01': 62, '11': 48}), ('3', 2): Counter({'11': 33, '10': 27, '01': 27, '00': 23}), ('2', 2): Counter({'10': 31, '11': 29, '01': 25, '00': 25})}) {('1', 0): 1, ('3', 0): 1, ('2', 0): 1, ('0', 0): 1, ('0', 1): 1.0, ('1', 1): 1, ('3', 1): 2.0, ('2', 1): 2.0, ('0', 2): 2.1454545454545455, ('1', 2): 2.0, ('3', 2): 4.0, ('2', 2): 4.2}\n",
      "4 defaultdict(<class 'collections.Counter'>, {('1', 0): {'': 110}, ('3', 0): {'': 110}, ('2', 0): {'': 110}, ('0', 0): {'': 110}, ('0', 1): Counter({'0': 110}), ('1', 1): Counter({'1': 110}), ('3', 1): Counter({'0': 66, '1': 44}), ('2', 1): Counter({'1': 63, '0': 47}), ('0', 2): Counter({'00': 58, '10': 52}), ('1', 2): Counter({'01': 62, '11': 48}), ('3', 2): Counter({'11': 33, '10': 27, '01': 27, '00': 23}), ('2', 2): Counter({'10': 31, '11': 29, '01': 25, '00': 25}), ('2', 3): Counter({'110': 21, '011': 18, '001': 17, '010': 13, '101': 13, '000': 11, '100': 11, '111': 6}), ('0', 3): Counter({'100': 40, '000': 27, '010': 26, '110': 17}), ('1', 3): Counter({'101': 32, '001': 30, '011': 26, '111': 22}), ('3', 3): Counter({'000': 25, '110': 18, '001': 15, '011': 14, '101': 13, '111': 9, '100': 9, '010': 7})}) {('1', 0): 1, ('3', 0): 1, ('2', 0): 1, ('0', 0): 1, ('0', 1): 1.0, ('1', 1): 1, ('3', 1): 2.0, ('2', 1): 2.0, ('0', 2): 2.1454545454545455, ('1', 2): 2.0, ('3', 2): 4.0, ('2', 2): 4.2, ('2', 3): 7.963636363636364, ('0', 3): 4.207272727272727, ('1', 3): 4.2, ('3', 3): 8.345454545454546}\n",
      "5 defaultdict(<class 'collections.Counter'>, {('1', 0): {'': 110}, ('3', 0): {'': 110}, ('2', 0): {'': 110}, ('0', 0): {'': 110}, ('0', 1): Counter({'0': 110}), ('1', 1): Counter({'1': 110}), ('3', 1): Counter({'0': 66, '1': 44}), ('2', 1): Counter({'1': 63, '0': 47}), ('0', 2): Counter({'00': 58, '10': 52}), ('1', 2): Counter({'01': 62, '11': 48}), ('3', 2): Counter({'11': 33, '10': 27, '01': 27, '00': 23}), ('2', 2): Counter({'10': 31, '11': 29, '01': 25, '00': 25}), ('2', 3): Counter({'110': 21, '011': 18, '001': 17, '010': 13, '101': 13, '000': 11, '100': 11, '111': 6}), ('0', 3): Counter({'100': 40, '000': 27, '010': 26, '110': 17}), ('1', 3): Counter({'101': 32, '001': 30, '011': 26, '111': 22}), ('3', 3): Counter({'000': 25, '110': 18, '001': 15, '011': 14, '101': 13, '111': 9, '100': 9, '010': 7}), ('3', 4): Counter({'0111': 13, '1010': 10, '1011': 10, '1100': 9, '0101': 7, '0110': 7, '0000': 7, '0100': 6, '0010': 6, '1001': 6, '1000': 5, '0001': 5, '0011': 5, '1101': 5, '1110': 5, '1111': 4}), ('2', 4): Counter({'1010': 11, '0100': 10, '1110': 9, '0000': 9, '1001': 9, '0011': 8, '1111': 7, '1011': 7, '0111': 7, '0101': 6, '0010': 6, '1000': 5, '1101': 5, '0110': 5, '0001': 4, '1100': 2}), ('0', 4): Counter({'0110': 16, '1000': 15, '0000': 15, '1100': 15, '1110': 13, '0010': 13, '1010': 12, '0100': 11}), ('1', 4): Counter({'0111': 22, '0001': 18, '1001': 15, '1101': 15, '0101': 13, '1111': 12, '1011': 9, '0011': 6})}) {('1', 0): 1, ('3', 0): 1, ('2', 0): 1, ('0', 0): 1, ('0', 1): 1.0, ('1', 1): 1, ('3', 1): 2.0, ('2', 1): 2.0, ('0', 2): 2.1454545454545455, ('1', 2): 2.0, ('3', 2): 4.0, ('2', 2): 4.2, ('2', 3): 7.963636363636364, ('0', 3): 4.207272727272727, ('1', 3): 4.2, ('3', 3): 8.345454545454546, ('3', 4): 16.370909090909088, ('2', 4): 17.083471074380164, ('0', 4): 8.116694214876032, ('1', 4): 7.963636363636364}\n"
     ]
    },
    {
     "name": "stdout",
     "output_type": "stream",
     "text": [
      "Sample hits: 1980\n",
      "Sample misses: 302535\n",
      "Retries per sample 332127\n",
      "Sample size 110\n",
      "1 defaultdict(<class 'collections.Counter'>, {('1', 0): {'': 110}, ('3', 0): {'': 110}, ('2', 0): {'': 110}, ('0', 0): {'': 110}}) {('1', 0): 1, ('3', 0): 1, ('2', 0): 1, ('0', 0): 1}\n",
      "2 defaultdict(<class 'collections.Counter'>, {('1', 0): {'': 110}, ('3', 0): {'': 110}, ('2', 0): {'': 110}, ('0', 0): {'': 110}, ('0', 1): Counter({'0': 110}), ('1', 1): Counter({'1': 110}), ('3', 1): Counter({'1': 58, '0': 52}), ('2', 1): Counter({'0': 60, '1': 50})}) {('1', 0): 1, ('3', 0): 1, ('2', 0): 1, ('0', 0): 1, ('0', 1): 1.0, ('1', 1): 1, ('3', 1): 2.0, ('2', 1): 2.0}\n",
      "3 defaultdict(<class 'collections.Counter'>, {('1', 0): {'': 110}, ('3', 0): {'': 110}, ('2', 0): {'': 110}, ('0', 0): {'': 110}, ('0', 1): Counter({'0': 110}), ('1', 1): Counter({'1': 110}), ('3', 1): Counter({'1': 58, '0': 52}), ('2', 1): Counter({'0': 60, '1': 50}), ('0', 2): Counter({'00': 58, '10': 52}), ('1', 2): Counter({'01': 55, '11': 55}), ('3', 2): Counter({'01': 34, '10': 28, '11': 26, '00': 22}), ('2', 2): Counter({'01': 32, '10': 29, '11': 27, '00': 22})}) {('1', 0): 1, ('3', 0): 1, ('2', 0): 1, ('0', 0): 1, ('0', 1): 1.0, ('1', 1): 1, ('3', 1): 2.0, ('2', 1): 2.0, ('0', 2): 1.9090909090909092, ('1', 2): 2.0, ('3', 2): 4.0, ('2', 2): 3.9454545454545453}\n",
      "4 defaultdict(<class 'collections.Counter'>, {('1', 0): {'': 110}, ('3', 0): {'': 110}, ('2', 0): {'': 110}, ('0', 0): {'': 110}, ('0', 1): Counter({'0': 110}), ('1', 1): Counter({'1': 110}), ('3', 1): Counter({'1': 58, '0': 52}), ('2', 1): Counter({'0': 60, '1': 50}), ('0', 2): Counter({'00': 58, '10': 52}), ('1', 2): Counter({'01': 55, '11': 55}), ('3', 2): Counter({'01': 34, '10': 28, '11': 26, '00': 22}), ('2', 2): Counter({'01': 32, '10': 29, '11': 27, '00': 22}), ('2', 3): Counter({'011': 19, '110': 18, '001': 16, '010': 13, '100': 13, '000': 13, '101': 10, '111': 8}), ('0', 3): Counter({'110': 30, '100': 28, '010': 27, '000': 25}), ('1', 3): Counter({'011': 32, '111': 31, '101': 31, '001': 16}), ('3', 3): Counter({'000': 25, '011': 18, '111': 14, '100': 13, '101': 12, '110': 11, '001': 11, '010': 6})}) {('1', 0): 1, ('3', 0): 1, ('2', 0): 1, ('0', 0): 1, ('0', 1): 1.0, ('1', 1): 1, ('3', 1): 2.0, ('2', 1): 2.0, ('0', 2): 1.9090909090909092, ('1', 2): 2.0, ('3', 2): 4.0, ('2', 2): 3.9454545454545453, ('2', 3): 7.7272727272727275, ('0', 3): 4.025289256198347, ('1', 3): 3.9454545454545453, ('3', 3): 7.8545454545454545}\n",
      "5 defaultdict(<class 'collections.Counter'>, {('1', 0): {'': 110}, ('3', 0): {'': 110}, ('2', 0): {'': 110}, ('0', 0): {'': 110}, ('0', 1): Counter({'0': 110}), ('1', 1): Counter({'1': 110}), ('3', 1): Counter({'1': 58, '0': 52}), ('2', 1): Counter({'0': 60, '1': 50}), ('0', 2): Counter({'00': 58, '10': 52}), ('1', 2): Counter({'01': 55, '11': 55}), ('3', 2): Counter({'01': 34, '10': 28, '11': 26, '00': 22}), ('2', 2): Counter({'01': 32, '10': 29, '11': 27, '00': 22}), ('2', 3): Counter({'011': 19, '110': 18, '001': 16, '010': 13, '100': 13, '000': 13, '101': 10, '111': 8}), ('0', 3): Counter({'110': 30, '100': 28, '010': 27, '000': 25}), ('1', 3): Counter({'011': 32, '111': 31, '101': 31, '001': 16}), ('3', 3): Counter({'000': 25, '011': 18, '111': 14, '100': 13, '101': 12, '110': 11, '001': 11, '010': 6}), ('3', 4): Counter({'0001': 12, '0111': 9, '0101': 9, '0000': 9, '0010': 8, '0110': 8, '1110': 8, '0100': 7, '1101': 7, '1000': 6, '1011': 6, '1100': 5, '1010': 5, '1111': 4, '1001': 4, '0011': 3}), ('2', 4): Counter({'0111': 13, '0100': 10, '1110': 9, '1011': 9, '0110': 8, '1001': 8, '1010': 7, '0011': 7, '1000': 7, '0000': 6, '1100': 6, '0010': 6, '1111': 4, '0101': 4, '1101': 3, '0001': 3}), ('0', 4): Counter({'0110': 19, '1100': 16, '0010': 16, '0000': 16, '1110': 12, '0100': 12, '1010': 10, '1000': 9}), ('1', 4): Counter({'1111': 18, '0011': 17, '1011': 15, '0101': 14, '1001': 13, '1101': 11, '0001': 11, '0111': 11})}) {('1', 0): 1, ('3', 0): 1, ('2', 0): 1, ('0', 0): 1, ('0', 1): 1.0, ('1', 1): 1, ('3', 1): 2.0, ('2', 1): 2.0, ('0', 2): 1.9090909090909092, ('1', 2): 2.0, ('3', 2): 4.0, ('2', 2): 3.9454545454545453, ('2', 3): 7.7272727272727275, ('0', 3): 4.025289256198347, ('1', 3): 3.9454545454545453, ('3', 3): 7.8545454545454545, ('3', 4): 15.69801652892562, ('2', 4): 15.843471074380165, ('0', 4): 7.748429752066116, ('1', 4): 7.7272727272727275}\n",
      "Sample hits: 1980\n",
      "Sample misses: 286767\n",
      "Retries per sample 332127\n",
      "Sample size 110\n",
      "1 defaultdict(<class 'collections.Counter'>, {('1', 0): {'': 110}, ('3', 0): {'': 110}, ('2', 0): {'': 110}, ('0', 0): {'': 110}}) {('1', 0): 1, ('3', 0): 1, ('2', 0): 1, ('0', 0): 1}\n",
      "2 defaultdict(<class 'collections.Counter'>, {('1', 0): {'': 110}, ('3', 0): {'': 110}, ('2', 0): {'': 110}, ('0', 0): {'': 110}, ('0', 1): Counter({'0': 110}), ('1', 1): Counter({'1': 110}), ('3', 1): Counter({'0': 58, '1': 52}), ('2', 1): Counter({'0': 63, '1': 47})}) {('1', 0): 1, ('3', 0): 1, ('2', 0): 1, ('0', 0): 1, ('0', 1): 1.0, ('1', 1): 1, ('3', 1): 2.0, ('2', 1): 2.0}\n",
      "3 defaultdict(<class 'collections.Counter'>, {('1', 0): {'': 110}, ('3', 0): {'': 110}, ('2', 0): {'': 110}, ('0', 0): {'': 110}, ('0', 1): Counter({'0': 110}), ('1', 1): Counter({'1': 110}), ('3', 1): Counter({'0': 58, '1': 52}), ('2', 1): Counter({'0': 63, '1': 47}), ('0', 2): Counter({'00': 57, '10': 53}), ('1', 2): Counter({'01': 56, '11': 54}), ('3', 2): Counter({'01': 33, '11': 28, '00': 25, '10': 24}), ('2', 2): Counter({'11': 35, '10': 27, '01': 26, '00': 22})}) {('1', 0): 1, ('3', 0): 1, ('2', 0): 1, ('0', 0): 1, ('0', 1): 1.0, ('1', 1): 1, ('3', 1): 2.0, ('2', 1): 2.0, ('0', 2): 1.8545454545454545, ('1', 2): 2.0, ('3', 2): 4.0, ('2', 2): 4.054545454545455}\n",
      "4 defaultdict(<class 'collections.Counter'>, {('1', 0): {'': 110}, ('3', 0): {'': 110}, ('2', 0): {'': 110}, ('0', 0): {'': 110}, ('0', 1): Counter({'0': 110}), ('1', 1): Counter({'1': 110}), ('3', 1): Counter({'0': 58, '1': 52}), ('2', 1): Counter({'0': 63, '1': 47}), ('0', 2): Counter({'00': 57, '10': 53}), ('1', 2): Counter({'01': 56, '11': 54}), ('3', 2): Counter({'01': 33, '11': 28, '00': 25, '10': 24}), ('2', 2): Counter({'11': 35, '10': 27, '01': 26, '00': 22}), ('2', 3): Counter({'111': 17, '101': 16, '000': 15, '001': 15, '010': 14, '110': 13, '011': 12, '100': 8}), ('0', 3): Counter({'000': 33, '100': 28, '110': 28, '010': 21}), ('1', 3): Counter({'011': 37, '101': 27, '001': 25, '111': 21}), ('3', 3): Counter({'110': 18, '000': 17, '101': 16, '111': 15, '001': 13, '100': 11, '011': 11, '010': 9})}) {('1', 0): 1, ('3', 0): 1, ('2', 0): 1, ('0', 0): 1, ('0', 1): 1.0, ('1', 1): 1, ('3', 1): 2.0, ('2', 1): 2.0, ('0', 2): 1.8545454545454545, ('1', 2): 2.0, ('3', 2): 4.0, ('2', 2): 4.054545454545455, ('2', 3): 7.636363636363637, ('0', 3): 4.10297520661157, ('1', 3): 4.054545454545455, ('3', 3): 7.909090909090909}\n",
      "5 defaultdict(<class 'collections.Counter'>, {('1', 0): {'': 110}, ('3', 0): {'': 110}, ('2', 0): {'': 110}, ('0', 0): {'': 110}, ('0', 1): Counter({'0': 110}), ('1', 1): Counter({'1': 110}), ('3', 1): Counter({'0': 58, '1': 52}), ('2', 1): Counter({'0': 63, '1': 47}), ('0', 2): Counter({'00': 57, '10': 53}), ('1', 2): Counter({'01': 56, '11': 54}), ('3', 2): Counter({'01': 33, '11': 28, '00': 25, '10': 24}), ('2', 2): Counter({'11': 35, '10': 27, '01': 26, '00': 22}), ('2', 3): Counter({'111': 17, '101': 16, '000': 15, '001': 15, '010': 14, '110': 13, '011': 12, '100': 8}), ('0', 3): Counter({'000': 33, '100': 28, '110': 28, '010': 21}), ('1', 3): Counter({'011': 37, '101': 27, '001': 25, '111': 21}), ('3', 3): Counter({'110': 18, '000': 17, '101': 16, '111': 15, '001': 13, '100': 11, '011': 11, '010': 9}), ('3', 4): Counter({'1001': 12, '0101': 10, '1101': 10, '0010': 9, '1011': 8, '0000': 8, '1000': 7, '0001': 6, '1111': 6, '0110': 6, '1110': 6, '0011': 6, '1100': 5, '1010': 4, '0100': 4, '0111': 3}), ('2', 4): Counter({'0001': 11, '1110': 10, '1010': 9, '0100': 9, '1001': 8, '1011': 7, '0101': 7, '0110': 6, '1101': 6, '0111': 6, '0011': 6, '0010': 6, '0000': 6, '1000': 5, '1111': 5, '1100': 3}), ('0', 4): Counter({'1110': 19, '1010': 15, '1100': 15, '1000': 14, '0110': 14, '0000': 13, '0010': 12, '0100': 8}), ('1', 4): Counter({'1001': 20, '0001': 18, '0011': 17, '0101': 14, '0111': 12, '1111': 12, '1101': 10, '1011': 7})}) {('1', 0): 1, ('3', 0): 1, ('2', 0): 1, ('0', 0): 1, ('0', 1): 1.0, ('1', 1): 1, ('3', 1): 2.0, ('2', 1): 2.0, ('0', 2): 1.8545454545454545, ('1', 2): 2.0, ('3', 2): 4.0, ('2', 2): 4.054545454545455, ('2', 3): 7.636363636363637, ('0', 3): 4.10297520661157, ('1', 3): 4.054545454545455, ('3', 3): 7.909090909090909, ('3', 4): 15.79388429752066, ('2', 4): 16.166611570247937, ('0', 4): 8.268264462809917, ('1', 4): 7.636363636363637}\n"
     ]
    },
    {
     "name": "stdout",
     "output_type": "stream",
     "text": [
      "Sample hits: 1980\n",
      "Sample misses: 288266\n",
      "Retries per sample 332127\n",
      "Sample size 110\n",
      "1 defaultdict(<class 'collections.Counter'>, {('1', 0): {'': 110}, ('3', 0): {'': 110}, ('2', 0): {'': 110}, ('0', 0): {'': 110}}) {('1', 0): 1, ('3', 0): 1, ('2', 0): 1, ('0', 0): 1}\n",
      "2 defaultdict(<class 'collections.Counter'>, {('1', 0): {'': 110}, ('3', 0): {'': 110}, ('2', 0): {'': 110}, ('0', 0): {'': 110}, ('0', 1): Counter({'0': 110}), ('1', 1): Counter({'1': 110}), ('3', 1): Counter({'0': 64, '1': 46}), ('2', 1): Counter({'1': 57, '0': 53})}) {('1', 0): 1, ('3', 0): 1, ('2', 0): 1, ('0', 0): 1, ('0', 1): 1.0, ('1', 1): 1, ('3', 1): 2.0, ('2', 1): 2.0}\n",
      "3 defaultdict(<class 'collections.Counter'>, {('1', 0): {'': 110}, ('3', 0): {'': 110}, ('2', 0): {'': 110}, ('0', 0): {'': 110}, ('0', 1): Counter({'0': 110}), ('1', 1): Counter({'1': 110}), ('3', 1): Counter({'0': 64, '1': 46}), ('2', 1): Counter({'1': 57, '0': 53}), ('0', 2): Counter({'10': 56, '00': 54}), ('1', 2): Counter({'01': 62, '11': 48}), ('3', 2): Counter({'01': 30, '11': 29, '10': 28, '00': 23}), ('2', 2): Counter({'10': 34, '11': 30, '00': 26, '01': 20})}) {('1', 0): 1, ('3', 0): 1, ('2', 0): 1, ('0', 0): 1, ('0', 1): 1.0, ('1', 1): 1, ('3', 1): 2.0, ('2', 1): 2.0, ('0', 2): 2.036363636363636, ('1', 2): 2.0, ('3', 2): 4.0, ('2', 2): 4.163636363636364}\n",
      "4 defaultdict(<class 'collections.Counter'>, {('1', 0): {'': 110}, ('3', 0): {'': 110}, ('2', 0): {'': 110}, ('0', 0): {'': 110}, ('0', 1): Counter({'0': 110}), ('1', 1): Counter({'1': 110}), ('3', 1): Counter({'0': 64, '1': 46}), ('2', 1): Counter({'1': 57, '0': 53}), ('0', 2): Counter({'10': 56, '00': 54}), ('1', 2): Counter({'01': 62, '11': 48}), ('3', 2): Counter({'01': 30, '11': 29, '10': 28, '00': 23}), ('2', 2): Counter({'10': 34, '11': 30, '00': 26, '01': 20}), ('2', 3): Counter({'101': 19, '100': 18, '111': 15, '011': 14, '110': 13, '000': 12, '010': 10, '001': 9}), ('0', 3): Counter({'000': 30, '110': 29, '010': 26, '100': 25}), ('1', 3): Counter({'001': 29, '111': 28, '101': 27, '011': 26}), ('3', 3): Counter({'101': 17, '011': 16, '100': 15, '001': 14, '111': 14, '000': 13, '110': 11, '010': 10})}) {('1', 0): 1, ('3', 0): 1, ('2', 0): 1, ('0', 0): 1, ('0', 1): 1.0, ('1', 1): 1, ('3', 1): 2.0, ('2', 1): 2.0, ('0', 2): 2.036363636363636, ('1', 2): 2.0, ('3', 2): 4.0, ('2', 2): 4.163636363636364, ('2', 3): 7.890909090909091, ('0', 3): 3.9289256198347107, ('1', 3): 4.163636363636364, ('3', 3): 8.200000000000001}\n",
      "5 defaultdict(<class 'collections.Counter'>, {('1', 0): {'': 110}, ('3', 0): {'': 110}, ('2', 0): {'': 110}, ('0', 0): {'': 110}, ('0', 1): Counter({'0': 110}), ('1', 1): Counter({'1': 110}), ('3', 1): Counter({'0': 64, '1': 46}), ('2', 1): Counter({'1': 57, '0': 53}), ('0', 2): Counter({'10': 56, '00': 54}), ('1', 2): Counter({'01': 62, '11': 48}), ('3', 2): Counter({'01': 30, '11': 29, '10': 28, '00': 23}), ('2', 2): Counter({'10': 34, '11': 30, '00': 26, '01': 20}), ('2', 3): Counter({'101': 19, '100': 18, '111': 15, '011': 14, '110': 13, '000': 12, '010': 10, '001': 9}), ('0', 3): Counter({'000': 30, '110': 29, '010': 26, '100': 25}), ('1', 3): Counter({'001': 29, '111': 28, '101': 27, '011': 26}), ('3', 3): Counter({'101': 17, '011': 16, '100': 15, '001': 14, '111': 14, '000': 13, '110': 11, '010': 10}), ('3', 4): Counter({'1110': 11, '0101': 10, '0110': 10, '0111': 9, '1000': 9, '0000': 8, '0100': 8, '1111': 8, '1011': 6, '1100': 6, '0010': 6, '0011': 5, '1010': 4, '0001': 4, '1001': 4, '1101': 2}), ('2', 4): Counter({'0001': 12, '1110': 11, '1111': 10, '1101': 9, '0110': 8, '0100': 8, '0111': 8, '1001': 6, '0010': 6, '1000': 6, '1010': 5, '0011': 5, '1011': 4, '0101': 4, '1100': 4, '0000': 4}), ('0', 4): Counter({'1010': 17, '1000': 16, '0100': 15, '1110': 15, '1100': 13, '0110': 12, '0010': 12, '0000': 10}), ('1', 4): Counter({'0011': 19, '1101': 17, '1111': 16, '1001': 16, '0111': 13, '1011': 13, '0001': 9, '0101': 7})}) {('1', 0): 1, ('3', 0): 1, ('2', 0): 1, ('0', 0): 1, ('0', 1): 1.0, ('1', 1): 1, ('3', 1): 2.0, ('2', 1): 2.0, ('0', 2): 2.036363636363636, ('1', 2): 2.0, ('3', 2): 4.0, ('2', 2): 4.163636363636364, ('2', 3): 7.890909090909091, ('0', 3): 3.9289256198347107, ('1', 3): 4.163636363636364, ('3', 3): 8.200000000000001, ('3', 4): 15.983471074380164, ('2', 4): 15.908925619834712, ('0', 4): 8.01785123966942, ('1', 4): 7.890909090909091}\n",
      "Sample hits: 1980\n",
      "Sample misses: 288123\n",
      "Retries per sample 332127\n",
      "Sample size 110\n",
      "1 defaultdict(<class 'collections.Counter'>, {('1', 0): {'': 110}, ('3', 0): {'': 110}, ('2', 0): {'': 110}, ('0', 0): {'': 110}}) {('1', 0): 1, ('3', 0): 1, ('2', 0): 1, ('0', 0): 1}\n",
      "2 defaultdict(<class 'collections.Counter'>, {('1', 0): {'': 110}, ('3', 0): {'': 110}, ('2', 0): {'': 110}, ('0', 0): {'': 110}, ('0', 1): Counter({'0': 110}), ('1', 1): Counter({'1': 110}), ('3', 1): Counter({'1': 56, '0': 54}), ('2', 1): Counter({'0': 58, '1': 52})}) {('1', 0): 1, ('3', 0): 1, ('2', 0): 1, ('0', 0): 1, ('0', 1): 1.0, ('1', 1): 1, ('3', 1): 2.0, ('2', 1): 2.0}\n",
      "3 defaultdict(<class 'collections.Counter'>, {('1', 0): {'': 110}, ('3', 0): {'': 110}, ('2', 0): {'': 110}, ('0', 0): {'': 110}, ('0', 1): Counter({'0': 110}), ('1', 1): Counter({'1': 110}), ('3', 1): Counter({'1': 56, '0': 54}), ('2', 1): Counter({'0': 58, '1': 52}), ('0', 2): Counter({'10': 61, '00': 49}), ('1', 2): Counter({'01': 59, '11': 51}), ('3', 2): Counter({'11': 33, '10': 28, '01': 25, '00': 24}), ('2', 2): Counter({'11': 32, '01': 30, '10': 29, '00': 19})}) {('1', 0): 1, ('3', 0): 1, ('2', 0): 1, ('0', 0): 1, ('0', 1): 1.0, ('1', 1): 1, ('3', 1): 2.0, ('2', 1): 2.0, ('0', 2): 1.9454545454545453, ('1', 2): 2.0, ('3', 2): 4.0, ('2', 2): 3.981818181818182}\n",
      "4 defaultdict(<class 'collections.Counter'>, {('1', 0): {'': 110}, ('3', 0): {'': 110}, ('2', 0): {'': 110}, ('0', 0): {'': 110}, ('0', 1): Counter({'0': 110}), ('1', 1): Counter({'1': 110}), ('3', 1): Counter({'1': 56, '0': 54}), ('2', 1): Counter({'0': 58, '1': 52}), ('0', 2): Counter({'10': 61, '00': 49}), ('1', 2): Counter({'01': 59, '11': 51}), ('3', 2): Counter({'11': 33, '10': 28, '01': 25, '00': 24}), ('2', 2): Counter({'11': 32, '01': 30, '10': 29, '00': 19}), ('2', 3): Counter({'010': 19, '100': 17, '101': 14, '011': 14, '001': 14, '000': 13, '111': 10, '110': 9}), ('0', 3): Counter({'110': 33, '100': 30, '010': 24, '000': 23}), ('1', 3): Counter({'011': 33, '111': 32, '101': 26, '001': 19}), ('3', 3): Counter({'000': 19, '100': 16, '011': 16, '001': 15, '101': 13, '110': 12, '111': 11, '010': 8})}) {('1', 0): 1, ('3', 0): 1, ('2', 0): 1, ('0', 0): 1, ('0', 1): 1.0, ('1', 1): 1, ('3', 1): 2.0, ('2', 1): 2.0, ('0', 2): 1.9454545454545453, ('1', 2): 2.0, ('3', 2): 4.0, ('2', 2): 3.981818181818182, ('2', 3): 7.836363636363636, ('0', 3): 4.189752066115702, ('1', 3): 3.981818181818182, ('3', 3): 7.927272727272727}\n",
      "5 defaultdict(<class 'collections.Counter'>, {('1', 0): {'': 110}, ('3', 0): {'': 110}, ('2', 0): {'': 110}, ('0', 0): {'': 110}, ('0', 1): Counter({'0': 110}), ('1', 1): Counter({'1': 110}), ('3', 1): Counter({'1': 56, '0': 54}), ('2', 1): Counter({'0': 58, '1': 52}), ('0', 2): Counter({'10': 61, '00': 49}), ('1', 2): Counter({'01': 59, '11': 51}), ('3', 2): Counter({'11': 33, '10': 28, '01': 25, '00': 24}), ('2', 2): Counter({'11': 32, '01': 30, '10': 29, '00': 19}), ('2', 3): Counter({'010': 19, '100': 17, '101': 14, '011': 14, '001': 14, '000': 13, '111': 10, '110': 9}), ('0', 3): Counter({'110': 33, '100': 30, '010': 24, '000': 23}), ('1', 3): Counter({'011': 33, '111': 32, '101': 26, '001': 19}), ('3', 3): Counter({'000': 19, '100': 16, '011': 16, '001': 15, '101': 13, '110': 12, '111': 11, '010': 8}), ('3', 4): Counter({'1001': 10, '1111': 10, '0111': 8, '1000': 8, '0000': 8, '0101': 8, '0100': 7, '0011': 7, '1011': 6, '0110': 6, '1100': 6, '0001': 6, '1110': 6, '1010': 6, '1101': 4, '0010': 4}), ('2', 4): Counter({'0110': 12, '0000': 11, '0100': 10, '0101': 10, '1111': 10, '0010': 9, '0011': 8, '0001': 7, '1101': 7, '1001': 5, '1010': 4, '1110': 4, '1011': 4, '1000': 3, '1100': 3, '0111': 3}), ('0', 4): Counter({'0100': 17, '0010': 17, '1110': 16, '0110': 16, '0000': 16, '1010': 13, '1100': 8, '1000': 7}), ('1', 4): Counter({'0101': 21, '1001': 16, '1011': 14, '1101': 13, '1111': 13, '0011': 13, '0001': 12, '0111': 8})}) {('1', 0): 1, ('3', 0): 1, ('2', 0): 1, ('0', 0): 1, ('0', 1): 1.0, ('1', 1): 1, ('3', 1): 2.0, ('2', 1): 2.0, ('0', 2): 1.9454545454545453, ('1', 2): 2.0, ('3', 2): 4.0, ('2', 2): 3.981818181818182, ('2', 3): 7.836363636363636, ('0', 3): 4.189752066115702, ('1', 3): 3.981818181818182, ('3', 3): 7.927272727272727, ('3', 4): 16.007933884297522, ('2', 4): 16.11702479338843, ('0', 4): 7.8942148760330575, ('1', 4): 7.836363636363636}\n"
     ]
    },
    {
     "name": "stdout",
     "output_type": "stream",
     "text": [
      "Sample hits: 1980\n",
      "Sample misses: 302486\n",
      "Retries per sample 332127\n",
      "Sample size 110\n",
      "1 defaultdict(<class 'collections.Counter'>, {('1', 0): {'': 110}, ('3', 0): {'': 110}, ('2', 0): {'': 110}, ('0', 0): {'': 110}}) {('1', 0): 1, ('3', 0): 1, ('2', 0): 1, ('0', 0): 1}\n",
      "2 defaultdict(<class 'collections.Counter'>, {('1', 0): {'': 110}, ('3', 0): {'': 110}, ('2', 0): {'': 110}, ('0', 0): {'': 110}, ('0', 1): Counter({'0': 110}), ('1', 1): Counter({'1': 110}), ('3', 1): Counter({'1': 59, '0': 51}), ('2', 1): Counter({'1': 60, '0': 50})}) {('1', 0): 1, ('3', 0): 1, ('2', 0): 1, ('0', 0): 1, ('0', 1): 1.0, ('1', 1): 1, ('3', 1): 2.0, ('2', 1): 2.0}\n",
      "3 defaultdict(<class 'collections.Counter'>, {('1', 0): {'': 110}, ('3', 0): {'': 110}, ('2', 0): {'': 110}, ('0', 0): {'': 110}, ('0', 1): Counter({'0': 110}), ('1', 1): Counter({'1': 110}), ('3', 1): Counter({'1': 59, '0': 51}), ('2', 1): Counter({'1': 60, '0': 50}), ('0', 2): Counter({'00': 58, '10': 52}), ('1', 2): Counter({'11': 60, '01': 50}), ('3', 2): Counter({'00': 30, '01': 30, '10': 27, '11': 23}), ('2', 2): Counter({'01': 32, '10': 29, '11': 25, '00': 24})}) {('1', 0): 1, ('3', 0): 1, ('2', 0): 1, ('0', 0): 1, ('0', 1): 1.0, ('1', 1): 1, ('3', 1): 2.0, ('2', 1): 2.0, ('0', 2): 2.090909090909091, ('1', 2): 2.0, ('3', 2): 4.0, ('2', 2): 3.9272727272727272}\n",
      "4 defaultdict(<class 'collections.Counter'>, {('1', 0): {'': 110}, ('3', 0): {'': 110}, ('2', 0): {'': 110}, ('0', 0): {'': 110}, ('0', 1): Counter({'0': 110}), ('1', 1): Counter({'1': 110}), ('3', 1): Counter({'1': 59, '0': 51}), ('2', 1): Counter({'1': 60, '0': 50}), ('0', 2): Counter({'00': 58, '10': 52}), ('1', 2): Counter({'11': 60, '01': 50}), ('3', 2): Counter({'00': 30, '01': 30, '10': 27, '11': 23}), ('2', 2): Counter({'01': 32, '10': 29, '11': 25, '00': 24}), ('2', 3): Counter({'110': 19, '001': 17, '101': 14, '000': 14, '100': 14, '111': 12, '010': 11, '011': 9}), ('0', 3): Counter({'110': 36, '000': 30, '010': 23, '100': 21}), ('1', 3): Counter({'011': 31, '101': 31, '001': 25, '111': 23}), ('3', 3): Counter({'001': 18, '010': 17, '000': 14, '110': 14, '111': 14, '011': 14, '101': 11, '100': 8})}) {('1', 0): 1, ('3', 0): 1, ('2', 0): 1, ('0', 0): 1, ('0', 1): 1.0, ('1', 1): 1, ('3', 1): 2.0, ('2', 1): 2.0, ('0', 2): 2.090909090909091, ('1', 2): 2.0, ('3', 2): 4.0, ('2', 2): 3.9272727272727272, ('2', 3): 8.163636363636364, ('0', 3): 4.125950413223141, ('1', 3): 3.9272727272727272, ('3', 3): 8.01818181818182}\n",
      "5 defaultdict(<class 'collections.Counter'>, {('1', 0): {'': 110}, ('3', 0): {'': 110}, ('2', 0): {'': 110}, ('0', 0): {'': 110}, ('0', 1): Counter({'0': 110}), ('1', 1): Counter({'1': 110}), ('3', 1): Counter({'1': 59, '0': 51}), ('2', 1): Counter({'1': 60, '0': 50}), ('0', 2): Counter({'00': 58, '10': 52}), ('1', 2): Counter({'11': 60, '01': 50}), ('3', 2): Counter({'00': 30, '01': 30, '10': 27, '11': 23}), ('2', 2): Counter({'01': 32, '10': 29, '11': 25, '00': 24}), ('2', 3): Counter({'110': 19, '001': 17, '101': 14, '000': 14, '100': 14, '111': 12, '010': 11, '011': 9}), ('0', 3): Counter({'110': 36, '000': 30, '010': 23, '100': 21}), ('1', 3): Counter({'011': 31, '101': 31, '001': 25, '111': 23}), ('3', 3): Counter({'001': 18, '010': 17, '000': 14, '110': 14, '111': 14, '011': 14, '101': 11, '100': 8}), ('3', 4): Counter({'1101': 10, '1000': 10, '1111': 9, '0110': 8, '1001': 8, '1110': 8, '0010': 8, '0001': 8, '0000': 7, '1100': 7, '0101': 6, '0011': 6, '1011': 5, '1010': 5, '0100': 4, '0111': 1}), ('2', 4): Counter({'1001': 12, '0010': 11, '0001': 10, '1011': 9, '1010': 8, '0101': 8, '1111': 7, '1101': 7, '1000': 6, '0111': 6, '0011': 6, '0110': 5, '0100': 5, '1110': 5, '1100': 3, '0000': 2}), ('0', 4): Counter({'1100': 18, '0000': 17, '1110': 16, '0010': 14, '1000': 14, '1010': 12, '0100': 10, '0110': 9}), ('1', 4): Counter({'1001': 17, '0011': 15, '0001': 14, '0101': 14, '1011': 13, '1101': 13, '1111': 12, '0111': 12})}) {('1', 0): 1, ('3', 0): 1, ('2', 0): 1, ('0', 0): 1, ('0', 1): 1.0, ('1', 1): 1, ('3', 1): 2.0, ('2', 1): 2.0, ('0', 2): 2.090909090909091, ('1', 2): 2.0, ('3', 2): 4.0, ('2', 2): 3.9272727272727272, ('2', 3): 8.163636363636364, ('0', 3): 4.125950413223141, ('1', 3): 3.9272727272727272, ('3', 3): 8.01818181818182, ('3', 4): 16.21685950413223, ('2', 4): 15.843801652892562, ('0', 4): 7.985123966942149, ('1', 4): 8.163636363636364}\n",
      "Sample hits: 1980\n",
      "Sample misses: 308777\n",
      "Retries per sample 332127\n",
      "Sample size 110\n",
      "1 defaultdict(<class 'collections.Counter'>, {('1', 0): {'': 110}, ('3', 0): {'': 110}, ('2', 0): {'': 110}, ('0', 0): {'': 110}}) {('1', 0): 1, ('3', 0): 1, ('2', 0): 1, ('0', 0): 1}\n",
      "2 defaultdict(<class 'collections.Counter'>, {('1', 0): {'': 110}, ('3', 0): {'': 110}, ('2', 0): {'': 110}, ('0', 0): {'': 110}, ('0', 1): Counter({'0': 110}), ('1', 1): Counter({'1': 110}), ('3', 1): Counter({'1': 61, '0': 49}), ('2', 1): Counter({'0': 59, '1': 51})}) {('1', 0): 1, ('3', 0): 1, ('2', 0): 1, ('0', 0): 1, ('0', 1): 1.0, ('1', 1): 1, ('3', 1): 2.0, ('2', 1): 2.0}\n",
      "3 defaultdict(<class 'collections.Counter'>, {('1', 0): {'': 110}, ('3', 0): {'': 110}, ('2', 0): {'': 110}, ('0', 0): {'': 110}, ('0', 1): Counter({'0': 110}), ('1', 1): Counter({'1': 110}), ('3', 1): Counter({'1': 61, '0': 49}), ('2', 1): Counter({'0': 59, '1': 51}), ('0', 2): Counter({'00': 58, '10': 52}), ('1', 2): Counter({'11': 62, '01': 48}), ('3', 2): Counter({'00': 32, '11': 28, '01': 27, '10': 23}), ('2', 2): Counter({'11': 32, '10': 30, '01': 29, '00': 19})}) {('1', 0): 1, ('3', 0): 1, ('2', 0): 1, ('0', 0): 1, ('0', 1): 1.0, ('1', 1): 1, ('3', 1): 2.0, ('2', 1): 2.0, ('0', 2): 1.9272727272727272, ('1', 2): 2.0, ('3', 2): 4.0, ('2', 2): 3.8909090909090907}\n",
      "4 defaultdict(<class 'collections.Counter'>, {('1', 0): {'': 110}, ('3', 0): {'': 110}, ('2', 0): {'': 110}, ('0', 0): {'': 110}, ('0', 1): Counter({'0': 110}), ('1', 1): Counter({'1': 110}), ('3', 1): Counter({'1': 61, '0': 49}), ('2', 1): Counter({'0': 59, '1': 51}), ('0', 2): Counter({'00': 58, '10': 52}), ('1', 2): Counter({'11': 62, '01': 48}), ('3', 2): Counter({'00': 32, '11': 28, '01': 27, '10': 23}), ('2', 2): Counter({'11': 32, '10': 30, '01': 29, '00': 19}), ('2', 3): Counter({'011': 20, '101': 18, '111': 16, '000': 15, '001': 11, '100': 11, '010': 10, '110': 9}), ('0', 3): Counter({'000': 34, '110': 30, '100': 24, '010': 22}), ('1', 3): Counter({'101': 36, '111': 26, '001': 26, '011': 22}), ('3', 3): Counter({'011': 20, '001': 19, '010': 16, '110': 15, '111': 12, '000': 11, '100': 10, '101': 7})}) {('1', 0): 1, ('3', 0): 1, ('2', 0): 1, ('0', 0): 1, ('0', 1): 1.0, ('1', 1): 1, ('3', 1): 2.0, ('2', 1): 2.0, ('0', 2): 1.9272727272727272, ('1', 2): 2.0, ('3', 2): 4.0, ('2', 2): 3.8909090909090907, ('2', 3): 7.927272727272728, ('0', 3): 4.08495867768595, ('1', 3): 3.8909090909090907, ('3', 3): 7.818181818181818}\n",
      "5 defaultdict(<class 'collections.Counter'>, {('1', 0): {'': 110}, ('3', 0): {'': 110}, ('2', 0): {'': 110}, ('0', 0): {'': 110}, ('0', 1): Counter({'0': 110}), ('1', 1): Counter({'1': 110}), ('3', 1): Counter({'1': 61, '0': 49}), ('2', 1): Counter({'0': 59, '1': 51}), ('0', 2): Counter({'00': 58, '10': 52}), ('1', 2): Counter({'11': 62, '01': 48}), ('3', 2): Counter({'00': 32, '11': 28, '01': 27, '10': 23}), ('2', 2): Counter({'11': 32, '10': 30, '01': 29, '00': 19}), ('2', 3): Counter({'011': 20, '101': 18, '111': 16, '000': 15, '001': 11, '100': 11, '010': 10, '110': 9}), ('0', 3): Counter({'000': 34, '110': 30, '100': 24, '010': 22}), ('1', 3): Counter({'101': 36, '111': 26, '001': 26, '011': 22}), ('3', 3): Counter({'011': 20, '001': 19, '010': 16, '110': 15, '111': 12, '000': 11, '100': 10, '101': 7}), ('3', 4): Counter({'0100': 14, '0000': 10, '0011': 9, '0111': 9, '1100': 8, '0101': 7, '1001': 6, '1111': 6, '1101': 6, '1011': 6, '0010': 5, '1110': 5, '0001': 5, '0110': 5, '1000': 5, '1010': 4}), ('2', 4): Counter({'1010': 11, '1000': 9, '1111': 9, '1001': 8, '1110': 8, '0001': 8, '1100': 7, '0011': 7, '0110': 7, '1011': 6, '0010': 6, '0101': 6, '1101': 5, '0111': 5, '0100': 5, '0000': 3}), ('0', 4): Counter({'0100': 19, '1010': 15, '1000': 15, '1110': 15, '0000': 14, '0010': 13, '1100': 11, '0110': 8}), ('1', 4): Counter({'1111': 20, '0101': 19, '0001': 15, '1011': 14, '1101': 12, '0111': 11, '0011': 11, '1001': 8})}) {('1', 0): 1, ('3', 0): 1, ('2', 0): 1, ('0', 0): 1, ('0', 1): 1.0, ('1', 1): 1, ('3', 1): 2.0, ('2', 1): 2.0, ('0', 2): 1.9272727272727272, ('1', 2): 2.0, ('3', 2): 4.0, ('2', 2): 3.8909090909090907, ('2', 3): 7.927272727272728, ('0', 3): 4.08495867768595, ('1', 3): 3.8909090909090907, ('3', 3): 7.818181818181818, ('3', 4): 15.903140495867769, ('2', 4): 15.562644628099173, ('0', 4): 8.769256198347108, ('1', 4): 7.927272727272728}\n"
     ]
    },
    {
     "name": "stdout",
     "output_type": "stream",
     "text": [
      "Sample hits: 1980\n",
      "Sample misses: 284882\n",
      "Retries per sample 332127\n",
      "Sample size 110\n",
      "1 defaultdict(<class 'collections.Counter'>, {('1', 0): {'': 110}, ('3', 0): {'': 110}, ('2', 0): {'': 110}, ('0', 0): {'': 110}}) {('1', 0): 1, ('3', 0): 1, ('2', 0): 1, ('0', 0): 1}\n",
      "2 defaultdict(<class 'collections.Counter'>, {('1', 0): {'': 110}, ('3', 0): {'': 110}, ('2', 0): {'': 110}, ('0', 0): {'': 110}, ('0', 1): Counter({'0': 110}), ('1', 1): Counter({'1': 110}), ('3', 1): Counter({'1': 60, '0': 50}), ('2', 1): Counter({'0': 56, '1': 54})}) {('1', 0): 1, ('3', 0): 1, ('2', 0): 1, ('0', 0): 1, ('0', 1): 1.0, ('1', 1): 1, ('3', 1): 2.0, ('2', 1): 2.0}\n",
      "3 defaultdict(<class 'collections.Counter'>, {('1', 0): {'': 110}, ('3', 0): {'': 110}, ('2', 0): {'': 110}, ('0', 0): {'': 110}, ('0', 1): Counter({'0': 110}), ('1', 1): Counter({'1': 110}), ('3', 1): Counter({'1': 60, '0': 50}), ('2', 1): Counter({'0': 56, '1': 54}), ('0', 2): Counter({'00': 68, '10': 42}), ('1', 2): Counter({'11': 58, '01': 52}), ('3', 2): Counter({'10': 30, '11': 29, '00': 27, '01': 24}), ('2', 2): Counter({'00': 35, '10': 28, '01': 25, '11': 22})}) {('1', 0): 1, ('3', 0): 1, ('2', 0): 1, ('0', 0): 1, ('0', 1): 1.0, ('1', 1): 1, ('3', 1): 2.0, ('2', 1): 2.0, ('0', 2): 1.981818181818182, ('1', 2): 2.0, ('3', 2): 4.0, ('2', 2): 3.909090909090909}\n",
      "4 defaultdict(<class 'collections.Counter'>, {('1', 0): {'': 110}, ('3', 0): {'': 110}, ('2', 0): {'': 110}, ('0', 0): {'': 110}, ('0', 1): Counter({'0': 110}), ('1', 1): Counter({'1': 110}), ('3', 1): Counter({'1': 60, '0': 50}), ('2', 1): Counter({'0': 56, '1': 54}), ('0', 2): Counter({'00': 68, '10': 42}), ('1', 2): Counter({'11': 58, '01': 52}), ('3', 2): Counter({'10': 30, '11': 29, '00': 27, '01': 24}), ('2', 2): Counter({'00': 35, '10': 28, '01': 25, '11': 22}), ('2', 3): Counter({'010': 20, '101': 18, '100': 14, '000': 14, '110': 11, '011': 11, '111': 11, '001': 11}), ('0', 3): Counter({'010': 30, '110': 30, '000': 29, '100': 21}), ('1', 3): Counter({'101': 33, '011': 33, '111': 27, '001': 17}), ('3', 3): Counter({'001': 25, '101': 18, '111': 13, '100': 13, '011': 11, '010': 11, '110': 10, '000': 9})}) {('1', 0): 1, ('3', 0): 1, ('2', 0): 1, ('0', 0): 1, ('0', 1): 1.0, ('1', 1): 1, ('3', 1): 2.0, ('2', 1): 2.0, ('0', 2): 1.981818181818182, ('1', 2): 2.0, ('3', 2): 4.0, ('2', 2): 3.909090909090909, ('2', 3): 8.054545454545455, ('0', 3): 3.652066115702479, ('1', 3): 3.909090909090909, ('3', 3): 7.8909090909090915}\n",
      "5 defaultdict(<class 'collections.Counter'>, {('1', 0): {'': 110}, ('3', 0): {'': 110}, ('2', 0): {'': 110}, ('0', 0): {'': 110}, ('0', 1): Counter({'0': 110}), ('1', 1): Counter({'1': 110}), ('3', 1): Counter({'1': 60, '0': 50}), ('2', 1): Counter({'0': 56, '1': 54}), ('0', 2): Counter({'00': 68, '10': 42}), ('1', 2): Counter({'11': 58, '01': 52}), ('3', 2): Counter({'10': 30, '11': 29, '00': 27, '01': 24}), ('2', 2): Counter({'00': 35, '10': 28, '01': 25, '11': 22}), ('2', 3): Counter({'010': 20, '101': 18, '100': 14, '000': 14, '110': 11, '011': 11, '111': 11, '001': 11}), ('0', 3): Counter({'010': 30, '110': 30, '000': 29, '100': 21}), ('1', 3): Counter({'101': 33, '011': 33, '111': 27, '001': 17}), ('3', 3): Counter({'001': 25, '101': 18, '111': 13, '100': 13, '011': 11, '010': 11, '110': 10, '000': 9}), ('3', 4): Counter({'1010': 10, '0110': 10, '1100': 10, '0000': 9, '1111': 9, '0101': 9, '1110': 7, '0111': 7, '0010': 7, '1000': 6, '1101': 6, '0001': 5, '1011': 5, '1001': 4, '0100': 3, '0011': 3}), ('2', 4): Counter({'1001': 11, '0001': 8, '0101': 8, '1100': 8, '1111': 8, '0100': 8, '1010': 8, '1110': 8, '1000': 7, '0110': 7, '1011': 6, '0000': 6, '1101': 6, '0111': 5, '0011': 5, '0010': 1}), ('0', 4): Counter({'0010': 22, '1100': 15, '1110': 15, '0000': 13, '0110': 13, '0100': 12, '1000': 12, '1010': 8}), ('1', 4): Counter({'0111': 18, '0001': 16, '1011': 16, '0101': 15, '1111': 14, '1101': 11, '1001': 11, '0011': 9})}) {('1', 0): 1, ('3', 0): 1, ('2', 0): 1, ('0', 0): 1, ('0', 1): 1.0, ('1', 1): 1, ('3', 1): 2.0, ('2', 1): 2.0, ('0', 2): 1.981818181818182, ('1', 2): 2.0, ('3', 2): 4.0, ('2', 2): 3.909090909090909, ('2', 3): 8.054545454545455, ('0', 3): 3.652066115702479, ('1', 3): 3.909090909090909, ('3', 3): 7.8909090909090915, ('3', 4): 15.615702479338845, ('2', 4): 14.554876033057852, ('0', 4): 7.386446280991736, ('1', 4): 8.054545454545455}\n",
      "Sample hits: 1980\n",
      "Sample misses: 289324\n",
      "Retries per sample 332127\n",
      "Sample size 110\n",
      "1 defaultdict(<class 'collections.Counter'>, {('1', 0): {'': 110}, ('3', 0): {'': 110}, ('2', 0): {'': 110}, ('0', 0): {'': 110}}) {('1', 0): 1, ('3', 0): 1, ('2', 0): 1, ('0', 0): 1}\n",
      "2 defaultdict(<class 'collections.Counter'>, {('1', 0): {'': 110}, ('3', 0): {'': 110}, ('2', 0): {'': 110}, ('0', 0): {'': 110}, ('0', 1): Counter({'0': 110}), ('1', 1): Counter({'1': 110}), ('3', 1): Counter({'1': 58, '0': 52}), ('2', 1): Counter({'0': 58, '1': 52})}) {('1', 0): 1, ('3', 0): 1, ('2', 0): 1, ('0', 0): 1, ('0', 1): 1.0, ('1', 1): 1, ('3', 1): 2.0, ('2', 1): 2.0}\n",
      "3 defaultdict(<class 'collections.Counter'>, {('1', 0): {'': 110}, ('3', 0): {'': 110}, ('2', 0): {'': 110}, ('0', 0): {'': 110}, ('0', 1): Counter({'0': 110}), ('1', 1): Counter({'1': 110}), ('3', 1): Counter({'1': 58, '0': 52}), ('2', 1): Counter({'0': 58, '1': 52}), ('0', 2): Counter({'00': 55, '10': 55}), ('1', 2): Counter({'01': 56, '11': 54}), ('3', 2): Counter({'00': 36, '01': 26, '11': 25, '10': 23}), ('2', 2): Counter({'10': 30, '00': 28, '11': 26, '01': 26})}) {('1', 0): 1, ('3', 0): 1, ('2', 0): 1, ('0', 0): 1, ('0', 1): 1.0, ('1', 1): 1, ('3', 1): 2.0, ('2', 1): 2.0, ('0', 2): 1.9454545454545453, ('1', 2): 2.0, ('3', 2): 4.0, ('2', 2): 3.9454545454545453}\n",
      "4 defaultdict(<class 'collections.Counter'>, {('1', 0): {'': 110}, ('3', 0): {'': 110}, ('2', 0): {'': 110}, ('0', 0): {'': 110}, ('0', 1): Counter({'0': 110}), ('1', 1): Counter({'1': 110}), ('3', 1): Counter({'1': 58, '0': 52}), ('2', 1): Counter({'0': 58, '1': 52}), ('0', 2): Counter({'00': 55, '10': 55}), ('1', 2): Counter({'01': 56, '11': 54}), ('3', 2): Counter({'00': 36, '01': 26, '11': 25, '10': 23}), ('2', 2): Counter({'10': 30, '00': 28, '11': 26, '01': 26}), ('2', 3): Counter({'111': 18, '001': 17, '000': 17, '101': 14, '011': 14, '100': 11, '010': 10, '110': 9}), ('0', 3): Counter({'010': 33, '110': 31, '000': 27, '100': 19}), ('1', 3): Counter({'011': 31, '111': 30, '001': 25, '101': 24}), ('3', 3): Counter({'011': 19, '001': 17, '111': 15, '110': 14, '010': 13, '100': 11, '000': 11, '101': 10})}) {('1', 0): 1, ('3', 0): 1, ('2', 0): 1, ('0', 0): 1, ('0', 1): 1.0, ('1', 1): 1, ('3', 1): 2.0, ('2', 1): 2.0, ('0', 2): 1.9454545454545453, ('1', 2): 2.0, ('3', 2): 4.0, ('2', 2): 3.9454545454545453, ('2', 3): 8.09090909090909, ('0', 3): 3.810578512396694, ('1', 3): 3.9454545454545453, ('3', 3): 7.890909090909091}\n",
      "5 defaultdict(<class 'collections.Counter'>, {('1', 0): {'': 110}, ('3', 0): {'': 110}, ('2', 0): {'': 110}, ('0', 0): {'': 110}, ('0', 1): Counter({'0': 110}), ('1', 1): Counter({'1': 110}), ('3', 1): Counter({'1': 58, '0': 52}), ('2', 1): Counter({'0': 58, '1': 52}), ('0', 2): Counter({'00': 55, '10': 55}), ('1', 2): Counter({'01': 56, '11': 54}), ('3', 2): Counter({'00': 36, '01': 26, '11': 25, '10': 23}), ('2', 2): Counter({'10': 30, '00': 28, '11': 26, '01': 26}), ('2', 3): Counter({'111': 18, '001': 17, '000': 17, '101': 14, '011': 14, '100': 11, '010': 10, '110': 9}), ('0', 3): Counter({'010': 33, '110': 31, '000': 27, '100': 19}), ('1', 3): Counter({'011': 31, '111': 30, '001': 25, '101': 24}), ('3', 3): Counter({'011': 19, '001': 17, '111': 15, '110': 14, '010': 13, '100': 11, '000': 11, '101': 10}), ('3', 4): Counter({'0100': 12, '1010': 11, '0101': 10, '0000': 8, '1110': 7, '0001': 7, '0011': 6, '1000': 6, '1101': 6, '0111': 6, '0010': 6, '1111': 6, '1011': 5, '1100': 5, '0110': 5, '1001': 4}), ('2', 4): Counter({'1111': 11, '0000': 10, '1000': 9, '1011': 9, '0111': 9, '1110': 8, '1010': 8, '1101': 7, '1001': 6, '0110': 6, '0001': 6, '0101': 6, '0100': 5, '1100': 4, '0010': 3, '0011': 3}), ('0', 4): Counter({'1000': 20, '1110': 18, '0010': 15, '1010': 15, '1100': 14, '0110': 10, '0100': 10, '0000': 8}), ('1', 4): Counter({'0011': 20, '0001': 17, '1001': 16, '1011': 14, '0111': 13, '1111': 12, '1101': 12, '0101': 6})}) {('1', 0): 1, ('3', 0): 1, ('2', 0): 1, ('0', 0): 1, ('0', 1): 1.0, ('1', 1): 1, ('3', 1): 2.0, ('2', 1): 2.0, ('0', 2): 1.9454545454545453, ('1', 2): 2.0, ('3', 2): 4.0, ('2', 2): 3.9454545454545453, ('2', 3): 8.09090909090909, ('0', 3): 3.810578512396694, ('1', 3): 3.9454545454545453, ('3', 3): 7.890909090909091, ('3', 4): 15.846942148760329, ('2', 4): 15.216528925619834, ('0', 4): 8.444462809917354, ('1', 4): 8.09090909090909}\n"
     ]
    },
    {
     "name": "stdout",
     "output_type": "stream",
     "text": [
      "Sample hits: 1980\n",
      "Sample misses: 295149\n",
      "Retries per sample 332127\n",
      "Sample size 110\n",
      "1 defaultdict(<class 'collections.Counter'>, {('1', 0): {'': 110}, ('3', 0): {'': 110}, ('2', 0): {'': 110}, ('0', 0): {'': 110}}) {('1', 0): 1, ('3', 0): 1, ('2', 0): 1, ('0', 0): 1}\n",
      "2 defaultdict(<class 'collections.Counter'>, {('1', 0): {'': 110}, ('3', 0): {'': 110}, ('2', 0): {'': 110}, ('0', 0): {'': 110}, ('0', 1): Counter({'0': 110}), ('1', 1): Counter({'1': 110}), ('3', 1): Counter({'0': 60, '1': 50}), ('2', 1): Counter({'1': 61, '0': 49})}) {('1', 0): 1, ('3', 0): 1, ('2', 0): 1, ('0', 0): 1, ('0', 1): 1.0, ('1', 1): 1, ('3', 1): 2.0, ('2', 1): 2.0}\n",
      "3 defaultdict(<class 'collections.Counter'>, {('1', 0): {'': 110}, ('3', 0): {'': 110}, ('2', 0): {'': 110}, ('0', 0): {'': 110}, ('0', 1): Counter({'0': 110}), ('1', 1): Counter({'1': 110}), ('3', 1): Counter({'0': 60, '1': 50}), ('2', 1): Counter({'1': 61, '0': 49}), ('0', 2): Counter({'10': 63, '00': 47}), ('1', 2): Counter({'11': 57, '01': 53}), ('3', 2): Counter({'01': 32, '11': 28, '10': 28, '00': 22}), ('2', 2): Counter({'00': 36, '01': 27, '11': 25, '10': 22})}) {('1', 0): 1, ('3', 0): 1, ('2', 0): 1, ('0', 0): 1, ('0', 1): 1.0, ('1', 1): 1, ('3', 1): 2.0, ('2', 1): 2.0, ('0', 2): 2.1090909090909093, ('1', 2): 2.0, ('3', 2): 4.0, ('2', 2): 4.090909090909091}\n",
      "4 defaultdict(<class 'collections.Counter'>, {('1', 0): {'': 110}, ('3', 0): {'': 110}, ('2', 0): {'': 110}, ('0', 0): {'': 110}, ('0', 1): Counter({'0': 110}), ('1', 1): Counter({'1': 110}), ('3', 1): Counter({'0': 60, '1': 50}), ('2', 1): Counter({'1': 61, '0': 49}), ('0', 2): Counter({'10': 63, '00': 47}), ('1', 2): Counter({'11': 57, '01': 53}), ('3', 2): Counter({'01': 32, '11': 28, '10': 28, '00': 22}), ('2', 2): Counter({'00': 36, '01': 27, '11': 25, '10': 22}), ('2', 3): Counter({'111': 17, '101': 17, '001': 16, '000': 15, '011': 13, '100': 13, '010': 12, '110': 7}), ('0', 3): Counter({'110': 31, '100': 28, '000': 28, '010': 23}), ('1', 3): Counter({'111': 33, '011': 29, '101': 29, '001': 19}), ('3', 3): Counter({'101': 15, '111': 15, '100': 15, '011': 15, '000': 15, '001': 14, '010': 11, '110': 10})}) {('1', 0): 1, ('3', 0): 1, ('2', 0): 1, ('0', 0): 1, ('0', 1): 1.0, ('1', 1): 1, ('3', 1): 2.0, ('2', 1): 2.0, ('0', 2): 2.1090909090909093, ('1', 2): 2.0, ('3', 2): 4.0, ('2', 2): 4.090909090909091, ('2', 3): 7.927272727272728, ('0', 3): 4.042975206611571, ('1', 3): 4.090909090909091, ('3', 3): 8.2}\n",
      "5 defaultdict(<class 'collections.Counter'>, {('1', 0): {'': 110}, ('3', 0): {'': 110}, ('2', 0): {'': 110}, ('0', 0): {'': 110}, ('0', 1): Counter({'0': 110}), ('1', 1): Counter({'1': 110}), ('3', 1): Counter({'0': 60, '1': 50}), ('2', 1): Counter({'1': 61, '0': 49}), ('0', 2): Counter({'10': 63, '00': 47}), ('1', 2): Counter({'11': 57, '01': 53}), ('3', 2): Counter({'01': 32, '11': 28, '10': 28, '00': 22}), ('2', 2): Counter({'00': 36, '01': 27, '11': 25, '10': 22}), ('2', 3): Counter({'111': 17, '101': 17, '001': 16, '000': 15, '011': 13, '100': 13, '010': 12, '110': 7}), ('0', 3): Counter({'110': 31, '100': 28, '000': 28, '010': 23}), ('1', 3): Counter({'111': 33, '011': 29, '101': 29, '001': 19}), ('3', 3): Counter({'101': 15, '111': 15, '100': 15, '011': 15, '000': 15, '001': 14, '010': 11, '110': 10}), ('3', 4): Counter({'1000': 11, '0110': 10, '0011': 10, '1011': 8, '0100': 8, '0001': 8, '1100': 7, '1001': 7, '0000': 6, '0101': 6, '0010': 6, '1110': 6, '0111': 5, '1010': 5, '1111': 4, '1101': 3}), ('2', 4): Counter({'0001': 12, '1110': 10, '1011': 9, '0101': 8, '0100': 8, '0010': 8, '1100': 7, '0111': 7, '0000': 7, '1111': 6, '1010': 5, '1101': 5, '1001': 5, '0011': 5, '1000': 5, '0110': 3}), ('0', 4): Counter({'1000': 17, '1010': 16, '0110': 15, '1100': 15, '1110': 13, '0100': 12, '0010': 11, '0000': 11}), ('1', 4): Counter({'1111': 17, '1101': 17, '0101': 16, '0011': 15, '0111': 14, '1011': 12, '1001': 10, '0001': 9})}) {('1', 0): 1, ('3', 0): 1, ('2', 0): 1, ('0', 0): 1, ('0', 1): 1.0, ('1', 1): 1, ('3', 1): 2.0, ('2', 1): 2.0, ('0', 2): 2.1090909090909093, ('1', 2): 2.0, ('3', 2): 4.0, ('2', 2): 4.090909090909091, ('2', 3): 7.927272727272728, ('0', 3): 4.042975206611571, ('1', 3): 4.090909090909091, ('3', 3): 8.2, ('3', 4): 16.06115702479339, ('2', 4): 16.026611570247937, ('0', 4): 8.58314049586777, ('1', 4): 7.927272727272728}\n",
      "Sample hits: 1980\n",
      "Sample misses: 293629\n",
      "Retries per sample 332127\n",
      "Sample size 110\n",
      "1 defaultdict(<class 'collections.Counter'>, {('1', 0): {'': 110}, ('3', 0): {'': 110}, ('2', 0): {'': 110}, ('0', 0): {'': 110}}) {('1', 0): 1, ('3', 0): 1, ('2', 0): 1, ('0', 0): 1}\n",
      "2 defaultdict(<class 'collections.Counter'>, {('1', 0): {'': 110}, ('3', 0): {'': 110}, ('2', 0): {'': 110}, ('0', 0): {'': 110}, ('0', 1): Counter({'0': 110}), ('1', 1): Counter({'1': 110}), ('3', 1): Counter({'1': 55, '0': 55}), ('2', 1): Counter({'0': 57, '1': 53})}) {('1', 0): 1, ('3', 0): 1, ('2', 0): 1, ('0', 0): 1, ('0', 1): 1.0, ('1', 1): 1, ('3', 1): 2.0, ('2', 1): 2.0}\n",
      "3 defaultdict(<class 'collections.Counter'>, {('1', 0): {'': 110}, ('3', 0): {'': 110}, ('2', 0): {'': 110}, ('0', 0): {'': 110}, ('0', 1): Counter({'0': 110}), ('1', 1): Counter({'1': 110}), ('3', 1): Counter({'1': 55, '0': 55}), ('2', 1): Counter({'0': 57, '1': 53}), ('0', 2): Counter({'10': 64, '00': 46}), ('1', 2): Counter({'11': 59, '01': 51}), ('3', 2): Counter({'10': 36, '11': 31, '01': 22, '00': 21}), ('2', 2): Counter({'01': 32, '00': 30, '10': 28, '11': 20})}) {('1', 0): 1, ('3', 0): 1, ('2', 0): 1, ('0', 0): 1, ('0', 1): 1.0, ('1', 1): 1, ('3', 1): 2.0, ('2', 1): 2.0, ('0', 2): 1.9636363636363636, ('1', 2): 2.0, ('3', 2): 4.0, ('2', 2): 4.0}\n",
      "4 defaultdict(<class 'collections.Counter'>, {('1', 0): {'': 110}, ('3', 0): {'': 110}, ('2', 0): {'': 110}, ('0', 0): {'': 110}, ('0', 1): Counter({'0': 110}), ('1', 1): Counter({'1': 110}), ('3', 1): Counter({'1': 55, '0': 55}), ('2', 1): Counter({'0': 57, '1': 53}), ('0', 2): Counter({'10': 64, '00': 46}), ('1', 2): Counter({'11': 59, '01': 51}), ('3', 2): Counter({'10': 36, '11': 31, '01': 22, '00': 21}), ('2', 2): Counter({'01': 32, '00': 30, '10': 28, '11': 20}), ('2', 3): Counter({'111': 20, '001': 19, '110': 16, '000': 14, '010': 13, '101': 13, '011': 11, '100': 4}), ('0', 3): Counter({'110': 29, '100': 29, '000': 28, '010': 24}), ('1', 3): Counter({'101': 31, '011': 31, '111': 27, '001': 21}), ('3', 3): Counter({'011': 18, '000': 17, '001': 16, '100': 16, '101': 15, '110': 12, '111': 11, '010': 5})}) {('1', 0): 1, ('3', 0): 1, ('2', 0): 1, ('0', 0): 1, ('0', 1): 1.0, ('1', 1): 1, ('3', 1): 2.0, ('2', 1): 2.0, ('0', 2): 1.9636363636363636, ('1', 2): 2.0, ('3', 2): 4.0, ('2', 2): 4.0, ('2', 3): 8.036363636363635, ('0', 3): 3.8545454545454545, ('1', 3): 4.0, ('3', 3): 7.963636363636364}\n",
      "5 defaultdict(<class 'collections.Counter'>, {('1', 0): {'': 110}, ('3', 0): {'': 110}, ('2', 0): {'': 110}, ('0', 0): {'': 110}, ('0', 1): Counter({'0': 110}), ('1', 1): Counter({'1': 110}), ('3', 1): Counter({'1': 55, '0': 55}), ('2', 1): Counter({'0': 57, '1': 53}), ('0', 2): Counter({'10': 64, '00': 46}), ('1', 2): Counter({'11': 59, '01': 51}), ('3', 2): Counter({'10': 36, '11': 31, '01': 22, '00': 21}), ('2', 2): Counter({'01': 32, '00': 30, '10': 28, '11': 20}), ('2', 3): Counter({'111': 20, '001': 19, '110': 16, '000': 14, '010': 13, '101': 13, '011': 11, '100': 4}), ('0', 3): Counter({'110': 29, '100': 29, '000': 28, '010': 24}), ('1', 3): Counter({'101': 31, '011': 31, '111': 27, '001': 21}), ('3', 3): Counter({'011': 18, '000': 17, '001': 16, '100': 16, '101': 15, '110': 12, '111': 11, '010': 5}), ('3', 4): Counter({'0010': 10, '1110': 10, '0110': 10, '0000': 10, '0111': 7, '1010': 7, '1111': 7, '0100': 7, '0101': 7, '0001': 7, '1101': 6, '0011': 6, '1001': 6, '1100': 4, '1000': 3, '1011': 3}), ('2', 4): Counter({'0101': 10, '1101': 9, '0010': 9, '1001': 8, '1011': 8, '1000': 8, '1100': 7, '0100': 7, '1110': 7, '0001': 7, '0011': 7, '1010': 7, '0110': 6, '1111': 6, '0000': 2, '0111': 2}), ('0', 4): Counter({'0100': 17, '1010': 17, '1100': 16, '0010': 16, '0000': 13, '1000': 11, '0110': 11, '1110': 9}), ('1', 4): Counter({'0101': 16, '1011': 16, '0111': 15, '0001': 15, '1101': 13, '1001': 13, '0011': 12, '1111': 10})}) {('1', 0): 1, ('3', 0): 1, ('2', 0): 1, ('0', 0): 1, ('0', 1): 1.0, ('1', 1): 1, ('3', 1): 2.0, ('2', 1): 2.0, ('0', 2): 1.9636363636363636, ('1', 2): 2.0, ('3', 2): 4.0, ('2', 2): 4.0, ('2', 3): 8.036363636363635, ('0', 3): 3.8545454545454545, ('1', 3): 4.0, ('3', 3): 7.963636363636364, ('3', 4): 15.89090909090909, ('2', 4): 15.474380165289256, ('0', 4): 8.457190082644628, ('1', 4): 8.036363636363635}\n"
     ]
    },
    {
     "name": "stdout",
     "output_type": "stream",
     "text": [
      "Sample hits: 1980\n",
      "Sample misses: 287603\n",
      "Retries per sample 332127\n",
      "Sample size 110\n",
      "1 defaultdict(<class 'collections.Counter'>, {('1', 0): {'': 110}, ('3', 0): {'': 110}, ('2', 0): {'': 110}, ('0', 0): {'': 110}}) {('1', 0): 1, ('3', 0): 1, ('2', 0): 1, ('0', 0): 1}\n",
      "2 defaultdict(<class 'collections.Counter'>, {('1', 0): {'': 110}, ('3', 0): {'': 110}, ('2', 0): {'': 110}, ('0', 0): {'': 110}, ('0', 1): Counter({'0': 110}), ('1', 1): Counter({'1': 110}), ('3', 1): Counter({'0': 56, '1': 54}), ('2', 1): Counter({'0': 62, '1': 48})}) {('1', 0): 1, ('3', 0): 1, ('2', 0): 1, ('0', 0): 1, ('0', 1): 1.0, ('1', 1): 1, ('3', 1): 2.0, ('2', 1): 2.0}\n",
      "3 defaultdict(<class 'collections.Counter'>, {('1', 0): {'': 110}, ('3', 0): {'': 110}, ('2', 0): {'': 110}, ('0', 0): {'': 110}, ('0', 1): Counter({'0': 110}), ('1', 1): Counter({'1': 110}), ('3', 1): Counter({'0': 56, '1': 54}), ('2', 1): Counter({'0': 62, '1': 48}), ('0', 2): Counter({'00': 70, '10': 40}), ('1', 2): Counter({'11': 57, '01': 53}), ('3', 2): Counter({'01': 31, '00': 28, '10': 28, '11': 23}), ('2', 2): Counter({'01': 33, '10': 32, '00': 26, '11': 19})}) {('1', 0): 1, ('3', 0): 1, ('2', 0): 1, ('0', 0): 1, ('0', 1): 1.0, ('1', 1): 1, ('3', 1): 2.0, ('2', 1): 2.0, ('0', 2): 1.8727272727272726, ('1', 2): 2.0, ('3', 2): 3.9999999999999996, ('2', 2): 4.018181818181818}\n",
      "4 defaultdict(<class 'collections.Counter'>, {('1', 0): {'': 110}, ('3', 0): {'': 110}, ('2', 0): {'': 110}, ('0', 0): {'': 110}, ('0', 1): Counter({'0': 110}), ('1', 1): Counter({'1': 110}), ('3', 1): Counter({'0': 56, '1': 54}), ('2', 1): Counter({'0': 62, '1': 48}), ('0', 2): Counter({'00': 70, '10': 40}), ('1', 2): Counter({'11': 57, '01': 53}), ('3', 2): Counter({'01': 31, '00': 28, '10': 28, '11': 23}), ('2', 2): Counter({'01': 33, '10': 32, '00': 26, '11': 19}), ('2', 3): Counter({'001': 18, '110': 17, '101': 16, '011': 13, '000': 12, '100': 12, '111': 12, '010': 10}), ('0', 3): Counter({'010': 36, '100': 29, '110': 26, '000': 19}), ('1', 3): Counter({'111': 35, '011': 27, '001': 26, '101': 22}), ('3', 3): Counter({'011': 19, '111': 18, '000': 18, '100': 15, '001': 11, '101': 10, '110': 10, '010': 9})}) {('1', 0): 1, ('3', 0): 1, ('2', 0): 1, ('0', 0): 1, ('0', 1): 1.0, ('1', 1): 1, ('3', 1): 2.0, ('2', 1): 2.0, ('0', 2): 1.8727272727272726, ('1', 2): 2.0, ('3', 2): 3.9999999999999996, ('2', 2): 4.018181818181818, ('2', 3): 7.909090909090908, ('0', 3): 3.772231404958677, ('1', 3): 4.018181818181818, ('3', 3): 7.89090909090909}\n",
      "5 defaultdict(<class 'collections.Counter'>, {('1', 0): {'': 110}, ('3', 0): {'': 110}, ('2', 0): {'': 110}, ('0', 0): {'': 110}, ('0', 1): Counter({'0': 110}), ('1', 1): Counter({'1': 110}), ('3', 1): Counter({'0': 56, '1': 54}), ('2', 1): Counter({'0': 62, '1': 48}), ('0', 2): Counter({'00': 70, '10': 40}), ('1', 2): Counter({'11': 57, '01': 53}), ('3', 2): Counter({'01': 31, '00': 28, '10': 28, '11': 23}), ('2', 2): Counter({'01': 33, '10': 32, '00': 26, '11': 19}), ('2', 3): Counter({'001': 18, '110': 17, '101': 16, '011': 13, '000': 12, '100': 12, '111': 12, '010': 10}), ('0', 3): Counter({'010': 36, '100': 29, '110': 26, '000': 19}), ('1', 3): Counter({'111': 35, '011': 27, '001': 26, '101': 22}), ('3', 3): Counter({'011': 19, '111': 18, '000': 18, '100': 15, '001': 11, '101': 10, '110': 10, '010': 9}), ('3', 4): Counter({'0000': 12, '0010': 10, '0001': 9, '0111': 9, '1000': 8, '1001': 7, '0110': 7, '0100': 7, '0101': 7, '1111': 6, '0011': 6, '1100': 5, '1011': 5, '1110': 5, '1010': 4, '1101': 3}), ('2', 4): Counter({'1101': 12, '1110': 10, '1000': 9, '1001': 9, '1100': 9, '0100': 9, '0001': 8, '1011': 7, '1010': 6, '0111': 6, '0101': 5, '1111': 5, '0010': 4, '0011': 4, '0000': 4, '0110': 3}), ('0', 4): Counter({'0100': 17, '0010': 15, '1100': 15, '1010': 14, '1000': 14, '0000': 13, '0110': 12, '1110': 10}), ('1', 4): Counter({'1101': 20, '0111': 17, '1111': 16, '0001': 15, '0011': 13, '1001': 12, '0101': 12, '1011': 5})}) {('1', 0): 1, ('3', 0): 1, ('2', 0): 1, ('0', 0): 1, ('0', 1): 1.0, ('1', 1): 1, ('3', 1): 2.0, ('2', 1): 2.0, ('0', 2): 1.8727272727272726, ('1', 2): 2.0, ('3', 2): 3.9999999999999996, ('2', 2): 4.018181818181818, ('2', 3): 7.909090909090908, ('0', 3): 3.772231404958677, ('1', 3): 4.018181818181818, ('3', 3): 7.89090909090909, ('3', 4): 15.699504132231404, ('2', 4): 15.53884297520661, ('0', 4): 8.014380165289255, ('1', 4): 7.909090909090908}\n",
      "Sample hits: 1980\n",
      "Sample misses: 283836\n",
      "Retries per sample 332127\n",
      "Sample size 110\n",
      "1 defaultdict(<class 'collections.Counter'>, {('1', 0): {'': 110}, ('3', 0): {'': 110}, ('2', 0): {'': 110}, ('0', 0): {'': 110}}) {('1', 0): 1, ('3', 0): 1, ('2', 0): 1, ('0', 0): 1}\n",
      "2 defaultdict(<class 'collections.Counter'>, {('1', 0): {'': 110}, ('3', 0): {'': 110}, ('2', 0): {'': 110}, ('0', 0): {'': 110}, ('0', 1): Counter({'0': 110}), ('1', 1): Counter({'1': 110}), ('3', 1): Counter({'0': 61, '1': 49}), ('2', 1): Counter({'1': 57, '0': 53})}) {('1', 0): 1, ('3', 0): 1, ('2', 0): 1, ('0', 0): 1, ('0', 1): 1.0, ('1', 1): 1, ('3', 1): 2.0, ('2', 1): 2.0}\n",
      "3 defaultdict(<class 'collections.Counter'>, {('1', 0): {'': 110}, ('3', 0): {'': 110}, ('2', 0): {'': 110}, ('0', 0): {'': 110}, ('0', 1): Counter({'0': 110}), ('1', 1): Counter({'1': 110}), ('3', 1): Counter({'0': 61, '1': 49}), ('2', 1): Counter({'1': 57, '0': 53}), ('0', 2): Counter({'00': 59, '10': 51}), ('1', 2): Counter({'01': 64, '11': 46}), ('3', 2): Counter({'00': 33, '10': 27, '11': 26, '01': 24}), ('2', 2): Counter({'10': 35, '00': 29, '11': 26, '01': 20})}) {('1', 0): 1, ('3', 0): 1, ('2', 0): 1, ('0', 0): 1, ('0', 1): 1.0, ('1', 1): 1, ('3', 1): 2.0, ('2', 1): 2.0, ('0', 2): 2.036363636363636, ('1', 2): 2.0, ('3', 2): 4.0, ('2', 2): 4.109090909090909}\n",
      "4 defaultdict(<class 'collections.Counter'>, {('1', 0): {'': 110}, ('3', 0): {'': 110}, ('2', 0): {'': 110}, ('0', 0): {'': 110}, ('0', 1): Counter({'0': 110}), ('1', 1): Counter({'1': 110}), ('3', 1): Counter({'0': 61, '1': 49}), ('2', 1): Counter({'1': 57, '0': 53}), ('0', 2): Counter({'00': 59, '10': 51}), ('1', 2): Counter({'01': 64, '11': 46}), ('3', 2): Counter({'00': 33, '10': 27, '11': 26, '01': 24}), ('2', 2): Counter({'10': 35, '00': 29, '11': 26, '01': 20}), ('2', 3): Counter({'011': 17, '101': 17, '000': 16, '001': 15, '110': 14, '010': 14, '111': 10, '100': 7}), ('0', 3): Counter({'010': 32, '000': 28, '110': 25, '100': 25}), ('1', 3): Counter({'111': 32, '101': 31, '001': 25, '011': 22}), ('3', 3): Counter({'001': 20, '100': 19, '101': 16, '011': 15, '110': 11, '000': 11, '111': 10, '010': 8})}) {('1', 0): 1, ('3', 0): 1, ('2', 0): 1, ('0', 0): 1, ('0', 1): 1.0, ('1', 1): 1, ('3', 1): 2.0, ('2', 1): 2.0, ('0', 2): 2.036363636363636, ('1', 2): 2.0, ('3', 2): 4.0, ('2', 2): 4.109090909090909, ('2', 3): 8.218181818181819, ('0', 3): 3.7547107438016525, ('1', 3): 4.109090909090909, ('3', 3): 8.145454545454545}\n",
      "5 defaultdict(<class 'collections.Counter'>, {('1', 0): {'': 110}, ('3', 0): {'': 110}, ('2', 0): {'': 110}, ('0', 0): {'': 110}, ('0', 1): Counter({'0': 110}), ('1', 1): Counter({'1': 110}), ('3', 1): Counter({'0': 61, '1': 49}), ('2', 1): Counter({'1': 57, '0': 53}), ('0', 2): Counter({'00': 59, '10': 51}), ('1', 2): Counter({'01': 64, '11': 46}), ('3', 2): Counter({'00': 33, '10': 27, '11': 26, '01': 24}), ('2', 2): Counter({'10': 35, '00': 29, '11': 26, '01': 20}), ('2', 3): Counter({'011': 17, '101': 17, '000': 16, '001': 15, '110': 14, '010': 14, '111': 10, '100': 7}), ('0', 3): Counter({'010': 32, '000': 28, '110': 25, '100': 25}), ('1', 3): Counter({'111': 32, '101': 31, '001': 25, '011': 22}), ('3', 3): Counter({'001': 20, '100': 19, '101': 16, '011': 15, '110': 11, '000': 11, '111': 10, '010': 8}), ('3', 4): Counter({'1001': 11, '1110': 10, '1101': 10, '0101': 8, '1100': 8, '0011': 7, '1011': 7, '1010': 7, '0010': 7, '1000': 7, '0001': 6, '1111': 6, '0111': 5, '0110': 4, '0100': 4, '0000': 3}), ('2', 4): Counter({'0101': 12, '1111': 11, '1010': 10, '1001': 9, '1110': 9, '1101': 7, '0111': 7, '0010': 7, '0100': 6, '1011': 6, '1000': 6, '1100': 6, '0000': 4, '0001': 4, '0011': 3, '0110': 3}), ('0', 4): Counter({'1100': 19, '1110': 17, '0100': 15, '1000': 13, '1010': 13, '0110': 13, '0010': 12, '0000': 8}), ('1', 4): Counter({'0011': 18, '0111': 17, '1101': 15, '0101': 15, '1001': 14, '0001': 13, '1111': 11, '1011': 7})}) {('1', 0): 1, ('3', 0): 1, ('2', 0): 1, ('0', 0): 1, ('0', 1): 1.0, ('1', 1): 1, ('3', 1): 2.0, ('2', 1): 2.0, ('0', 2): 2.036363636363636, ('1', 2): 2.0, ('3', 2): 4.0, ('2', 2): 4.109090909090909, ('2', 3): 8.218181818181819, ('0', 3): 3.7547107438016525, ('1', 3): 4.109090909090909, ('3', 3): 8.145454545454545, ('3', 4): 16.08198347107438, ('2', 4): 15.601322314049586, ('0', 4): 8.162644628099173, ('1', 4): 8.218181818181819}\n"
     ]
    },
    {
     "name": "stdout",
     "output_type": "stream",
     "text": [
      "Sample hits: 1980\n",
      "Sample misses: 301825\n",
      "Retries per sample 332127\n",
      "Sample size 110\n",
      "1 defaultdict(<class 'collections.Counter'>, {('1', 0): {'': 110}, ('3', 0): {'': 110}, ('2', 0): {'': 110}, ('0', 0): {'': 110}}) {('1', 0): 1, ('3', 0): 1, ('2', 0): 1, ('0', 0): 1}\n",
      "2 defaultdict(<class 'collections.Counter'>, {('1', 0): {'': 110}, ('3', 0): {'': 110}, ('2', 0): {'': 110}, ('0', 0): {'': 110}, ('0', 1): Counter({'0': 110}), ('1', 1): Counter({'1': 110}), ('3', 1): Counter({'1': 68, '0': 42}), ('2', 1): Counter({'0': 56, '1': 54})}) {('1', 0): 1, ('3', 0): 1, ('2', 0): 1, ('0', 0): 1, ('0', 1): 1.0, ('1', 1): 1, ('3', 1): 2.0, ('2', 1): 2.0}\n",
      "3 defaultdict(<class 'collections.Counter'>, {('1', 0): {'': 110}, ('3', 0): {'': 110}, ('2', 0): {'': 110}, ('0', 0): {'': 110}, ('0', 1): Counter({'0': 110}), ('1', 1): Counter({'1': 110}), ('3', 1): Counter({'1': 68, '0': 42}), ('2', 1): Counter({'0': 56, '1': 54}), ('0', 2): Counter({'00': 56, '10': 54}), ('1', 2): Counter({'11': 57, '01': 53}), ('3', 2): Counter({'01': 29, '10': 27, '00': 27, '11': 27}), ('2', 2): Counter({'10': 33, '01': 28, '11': 27, '00': 22})}) {('1', 0): 1, ('3', 0): 1, ('2', 0): 1, ('0', 0): 1, ('0', 1): 1.0, ('1', 1): 1, ('3', 1): 2.0, ('2', 1): 2.0, ('0', 2): 1.981818181818182, ('1', 2): 2.0, ('3', 2): 4.0, ('2', 2): 3.7636363636363637}\n",
      "4 defaultdict(<class 'collections.Counter'>, {('1', 0): {'': 110}, ('3', 0): {'': 110}, ('2', 0): {'': 110}, ('0', 0): {'': 110}, ('0', 1): Counter({'0': 110}), ('1', 1): Counter({'1': 110}), ('3', 1): Counter({'1': 68, '0': 42}), ('2', 1): Counter({'0': 56, '1': 54}), ('0', 2): Counter({'00': 56, '10': 54}), ('1', 2): Counter({'11': 57, '01': 53}), ('3', 2): Counter({'01': 29, '10': 27, '00': 27, '11': 27}), ('2', 2): Counter({'10': 33, '01': 28, '11': 27, '00': 22}), ('2', 3): Counter({'010': 19, '011': 17, '101': 17, '111': 15, '110': 14, '000': 11, '001': 10, '100': 7}), ('0', 3): Counter({'100': 31, '110': 30, '010': 26, '000': 23}), ('1', 3): Counter({'011': 34, '001': 29, '111': 27, '101': 20}), ('3', 3): Counter({'000': 21, '100': 19, '101': 16, '010': 15, '110': 14, '111': 12, '001': 7, '011': 6})}) {('1', 0): 1, ('3', 0): 1, ('2', 0): 1, ('0', 0): 1, ('0', 1): 1.0, ('1', 1): 1, ('3', 1): 2.0, ('2', 1): 2.0, ('0', 2): 1.981818181818182, ('1', 2): 2.0, ('3', 2): 4.0, ('2', 2): 3.7636363636363637, ('2', 3): 7.945454545454545, ('0', 3): 3.8636363636363638, ('1', 3): 3.7636363636363637, ('3', 3): 7.745454545454546}\n",
      "5 defaultdict(<class 'collections.Counter'>, {('1', 0): {'': 110}, ('3', 0): {'': 110}, ('2', 0): {'': 110}, ('0', 0): {'': 110}, ('0', 1): Counter({'0': 110}), ('1', 1): Counter({'1': 110}), ('3', 1): Counter({'1': 68, '0': 42}), ('2', 1): Counter({'0': 56, '1': 54}), ('0', 2): Counter({'00': 56, '10': 54}), ('1', 2): Counter({'11': 57, '01': 53}), ('3', 2): Counter({'01': 29, '10': 27, '00': 27, '11': 27}), ('2', 2): Counter({'10': 33, '01': 28, '11': 27, '00': 22}), ('2', 3): Counter({'010': 19, '011': 17, '101': 17, '111': 15, '110': 14, '000': 11, '001': 10, '100': 7}), ('0', 3): Counter({'100': 31, '110': 30, '010': 26, '000': 23}), ('1', 3): Counter({'011': 34, '001': 29, '111': 27, '101': 20}), ('3', 3): Counter({'000': 21, '100': 19, '101': 16, '010': 15, '110': 14, '111': 12, '001': 7, '011': 6}), ('3', 4): Counter({'0100': 10, '1101': 10, '1001': 10, '0000': 9, '1000': 9, '0001': 9, '0110': 9, '1010': 7, '1100': 7, '0101': 6, '0010': 6, '0011': 6, '1011': 5, '1111': 3, '0111': 3, '1110': 1}), ('2', 4): Counter({'0000': 13, '1110': 10, '0110': 10, '1000': 8, '0001': 8, '0101': 8, '0011': 8, '1001': 7, '0010': 7, '1010': 7, '1101': 5, '0111': 5, '0100': 4, '1011': 4, '1100': 3, '1111': 3}), ('0', 4): Counter({'0110': 20, '1010': 16, '1000': 16, '0010': 15, '1100': 12, '0000': 12, '1110': 10, '0100': 9}), ('1', 4): Counter({'1011': 20, '1101': 19, '0011': 16, '0111': 14, '1001': 13, '1111': 13, '0101': 8, '0001': 7})}) {('1', 0): 1, ('3', 0): 1, ('2', 0): 1, ('0', 0): 1, ('0', 1): 1.0, ('1', 1): 1, ('3', 1): 2.0, ('2', 1): 2.0, ('0', 2): 1.981818181818182, ('1', 2): 2.0, ('3', 2): 4.0, ('2', 2): 3.7636363636363637, ('2', 3): 7.945454545454545, ('0', 3): 3.8636363636363638, ('1', 3): 3.7636363636363637, ('3', 3): 7.745454545454546, ('3', 4): 15.572727272727272, ('2', 4): 16.249421487603307, ('0', 4): 8.125289256198347, ('1', 4): 7.945454545454545}\n",
      "Sample hits: 1980\n",
      "Sample misses: 290761\n",
      "Retries per sample 332127\n",
      "Sample size 110\n",
      "1 defaultdict(<class 'collections.Counter'>, {('1', 0): {'': 110}, ('3', 0): {'': 110}, ('2', 0): {'': 110}, ('0', 0): {'': 110}}) {('1', 0): 1, ('3', 0): 1, ('2', 0): 1, ('0', 0): 1}\n",
      "2 defaultdict(<class 'collections.Counter'>, {('1', 0): {'': 110}, ('3', 0): {'': 110}, ('2', 0): {'': 110}, ('0', 0): {'': 110}, ('0', 1): Counter({'0': 110}), ('1', 1): Counter({'1': 110}), ('3', 1): Counter({'1': 58, '0': 52}), ('2', 1): Counter({'1': 59, '0': 51})}) {('1', 0): 1, ('3', 0): 1, ('2', 0): 1, ('0', 0): 1, ('0', 1): 1.0, ('1', 1): 1, ('3', 1): 2.0, ('2', 1): 2.0}\n",
      "3 defaultdict(<class 'collections.Counter'>, {('1', 0): {'': 110}, ('3', 0): {'': 110}, ('2', 0): {'': 110}, ('0', 0): {'': 110}, ('0', 1): Counter({'0': 110}), ('1', 1): Counter({'1': 110}), ('3', 1): Counter({'1': 58, '0': 52}), ('2', 1): Counter({'1': 59, '0': 51}), ('0', 2): Counter({'10': 58, '00': 52}), ('1', 2): Counter({'01': 60, '11': 50}), ('3', 2): Counter({'00': 32, '01': 31, '11': 28, '10': 19}), ('2', 2): Counter({'11': 31, '10': 29, '00': 26, '01': 24})}) {('1', 0): 1, ('3', 0): 1, ('2', 0): 1, ('0', 0): 1, ('0', 1): 1.0, ('1', 1): 1, ('3', 1): 2.0, ('2', 1): 2.0, ('0', 2): 2.0727272727272728, ('1', 2): 2.0, ('3', 2): 4.0, ('2', 2): 3.9454545454545453}\n",
      "4 defaultdict(<class 'collections.Counter'>, {('1', 0): {'': 110}, ('3', 0): {'': 110}, ('2', 0): {'': 110}, ('0', 0): {'': 110}, ('0', 1): Counter({'0': 110}), ('1', 1): Counter({'1': 110}), ('3', 1): Counter({'1': 58, '0': 52}), ('2', 1): Counter({'1': 59, '0': 51}), ('0', 2): Counter({'10': 58, '00': 52}), ('1', 2): Counter({'01': 60, '11': 50}), ('3', 2): Counter({'00': 32, '01': 31, '11': 28, '10': 19}), ('2', 2): Counter({'11': 31, '10': 29, '00': 26, '01': 24}), ('2', 3): Counter({'111': 24, '010': 18, '001': 15, '000': 14, '011': 12, '110': 10, '101': 9, '100': 8}), ('0', 3): Counter({'110': 32, '010': 32, '100': 24, '000': 22}), ('1', 3): Counter({'111': 36, '101': 33, '001': 21, '011': 20}), ('3', 3): Counter({'100': 17, '011': 16, '010': 15, '110': 15, '111': 13, '001': 12, '101': 11, '000': 11})}) {('1', 0): 1, ('3', 0): 1, ('2', 0): 1, ('0', 0): 1, ('0', 1): 1.0, ('1', 1): 1, ('3', 1): 2.0, ('2', 1): 2.0, ('0', 2): 2.0727272727272728, ('1', 2): 2.0, ('3', 2): 4.0, ('2', 2): 3.9454545454545453, ('2', 3): 7.927272727272727, ('0', 3): 4.045454545454545, ('1', 3): 3.9454545454545453, ('3', 3): 8.018181818181818}\n",
      "5 defaultdict(<class 'collections.Counter'>, {('1', 0): {'': 110}, ('3', 0): {'': 110}, ('2', 0): {'': 110}, ('0', 0): {'': 110}, ('0', 1): Counter({'0': 110}), ('1', 1): Counter({'1': 110}), ('3', 1): Counter({'1': 58, '0': 52}), ('2', 1): Counter({'1': 59, '0': 51}), ('0', 2): Counter({'10': 58, '00': 52}), ('1', 2): Counter({'01': 60, '11': 50}), ('3', 2): Counter({'00': 32, '01': 31, '11': 28, '10': 19}), ('2', 2): Counter({'11': 31, '10': 29, '00': 26, '01': 24}), ('2', 3): Counter({'111': 24, '010': 18, '001': 15, '000': 14, '011': 12, '110': 10, '101': 9, '100': 8}), ('0', 3): Counter({'110': 32, '010': 32, '100': 24, '000': 22}), ('1', 3): Counter({'111': 36, '101': 33, '001': 21, '011': 20}), ('3', 3): Counter({'100': 17, '011': 16, '010': 15, '110': 15, '111': 13, '001': 12, '101': 11, '000': 11}), ('3', 4): Counter({'1100': 10, '0011': 10, '0000': 10, '0101': 9, '1000': 8, '1101': 7, '0100': 7, '1111': 7, '0110': 7, '0111': 6, '1010': 6, '1011': 6, '1110': 5, '0010': 5, '1001': 4, '0001': 3}), ('2', 4): Counter({'0000': 18, '0110': 10, '0111': 9, '1111': 9, '1001': 8, '1000': 7, '0001': 7, '1011': 7, '1100': 6, '0100': 6, '0101': 6, '1101': 5, '0010': 5, '1110': 4, '0011': 2, '1010': 1}), ('0', 4): Counter({'1100': 18, '0110': 18, '1110': 16, '0100': 13, '1010': 12, '0000': 12, '1000': 11, '0010': 10}), ('1', 4): Counter({'1011': 18, '0001': 17, '0101': 16, '0011': 14, '1001': 14, '1111': 14, '0111': 9, '1101': 8})}) {('1', 0): 1, ('3', 0): 1, ('2', 0): 1, ('0', 0): 1, ('0', 1): 1.0, ('1', 1): 1, ('3', 1): 2.0, ('2', 1): 2.0, ('0', 2): 2.0727272727272728, ('1', 2): 2.0, ('3', 2): 4.0, ('2', 2): 3.9454545454545453, ('2', 3): 7.927272727272727, ('0', 3): 4.045454545454545, ('1', 3): 3.9454545454545453, ('3', 3): 8.018181818181818, ('3', 4): 15.918181818181816, ('2', 4): 16.164132231404956, ('0', 4): 8.369421487603304, ('1', 4): 7.927272727272727}\n"
     ]
    },
    {
     "name": "stdout",
     "output_type": "stream",
     "text": [
      "Sample hits: 1980\n",
      "Sample misses: 286293\n",
      "Retries per sample 332127\n",
      "Sample size 110\n",
      "1 defaultdict(<class 'collections.Counter'>, {('1', 0): {'': 110}, ('3', 0): {'': 110}, ('2', 0): {'': 110}, ('0', 0): {'': 110}}) {('1', 0): 1, ('3', 0): 1, ('2', 0): 1, ('0', 0): 1}\n",
      "2 defaultdict(<class 'collections.Counter'>, {('1', 0): {'': 110}, ('3', 0): {'': 110}, ('2', 0): {'': 110}, ('0', 0): {'': 110}, ('0', 1): Counter({'0': 110}), ('1', 1): Counter({'1': 110}), ('3', 1): Counter({'1': 60, '0': 50}), ('2', 1): Counter({'1': 61, '0': 49})}) {('1', 0): 1, ('3', 0): 1, ('2', 0): 1, ('0', 0): 1, ('0', 1): 1.0, ('1', 1): 1, ('3', 1): 2.0, ('2', 1): 2.0}\n",
      "3 defaultdict(<class 'collections.Counter'>, {('1', 0): {'': 110}, ('3', 0): {'': 110}, ('2', 0): {'': 110}, ('0', 0): {'': 110}, ('0', 1): Counter({'0': 110}), ('1', 1): Counter({'1': 110}), ('3', 1): Counter({'1': 60, '0': 50}), ('2', 1): Counter({'1': 61, '0': 49}), ('0', 2): Counter({'00': 56, '10': 54}), ('1', 2): Counter({'11': 56, '01': 54}), ('3', 2): Counter({'11': 30, '00': 29, '10': 26, '01': 25}), ('2', 2): Counter({'01': 33, '11': 29, '10': 26, '00': 22})}) {('1', 0): 1, ('3', 0): 1, ('2', 0): 1, ('0', 0): 1, ('0', 1): 1.0, ('1', 1): 1, ('3', 1): 2.0, ('2', 1): 2.0, ('0', 2): 2.1090909090909093, ('1', 2): 2.0, ('3', 2): 4.0, ('2', 2): 3.909090909090909}\n",
      "4 defaultdict(<class 'collections.Counter'>, {('1', 0): {'': 110}, ('3', 0): {'': 110}, ('2', 0): {'': 110}, ('0', 0): {'': 110}, ('0', 1): Counter({'0': 110}), ('1', 1): Counter({'1': 110}), ('3', 1): Counter({'1': 60, '0': 50}), ('2', 1): Counter({'1': 61, '0': 49}), ('0', 2): Counter({'00': 56, '10': 54}), ('1', 2): Counter({'11': 56, '01': 54}), ('3', 2): Counter({'11': 30, '00': 29, '10': 26, '01': 25}), ('2', 2): Counter({'01': 33, '11': 29, '10': 26, '00': 22}), ('2', 3): Counter({'110': 20, '011': 17, '000': 16, '010': 13, '100': 12, '001': 11, '111': 11, '101': 10}), ('0', 3): Counter({'010': 30, '110': 30, '000': 26, '100': 24}), ('1', 3): Counter({'001': 33, '101': 27, '111': 25, '011': 25}), ('3', 3): Counter({'101': 18, '000': 15, '110': 15, '001': 14, '111': 13, '100': 13, '010': 13, '011': 9})}) {('1', 0): 1, ('3', 0): 1, ('2', 0): 1, ('0', 0): 1, ('0', 1): 1.0, ('1', 1): 1, ('3', 1): 2.0, ('2', 1): 2.0, ('0', 2): 2.1090909090909093, ('1', 2): 2.0, ('3', 2): 4.0, ('2', 2): 3.909090909090909, ('2', 3): 8.10909090909091, ('0', 3): 4.312396694214876, ('1', 3): 3.909090909090909, ('3', 3): 8.01818181818182}\n",
      "5 defaultdict(<class 'collections.Counter'>, {('1', 0): {'': 110}, ('3', 0): {'': 110}, ('2', 0): {'': 110}, ('0', 0): {'': 110}, ('0', 1): Counter({'0': 110}), ('1', 1): Counter({'1': 110}), ('3', 1): Counter({'1': 60, '0': 50}), ('2', 1): Counter({'1': 61, '0': 49}), ('0', 2): Counter({'00': 56, '10': 54}), ('1', 2): Counter({'11': 56, '01': 54}), ('3', 2): Counter({'11': 30, '00': 29, '10': 26, '01': 25}), ('2', 2): Counter({'01': 33, '11': 29, '10': 26, '00': 22}), ('2', 3): Counter({'110': 20, '011': 17, '000': 16, '010': 13, '100': 12, '001': 11, '111': 11, '101': 10}), ('0', 3): Counter({'010': 30, '110': 30, '000': 26, '100': 24}), ('1', 3): Counter({'001': 33, '101': 27, '111': 25, '011': 25}), ('3', 3): Counter({'101': 18, '000': 15, '110': 15, '001': 14, '111': 13, '100': 13, '010': 13, '011': 9}), ('3', 4): Counter({'1100': 12, '1101': 12, '0101': 10, '1001': 10, '0000': 8, '0001': 8, '0010': 8, '0100': 7, '1011': 7, '1110': 6, '0011': 6, '0110': 5, '1000': 5, '1010': 4, '0111': 2}), ('2', 4): Counter({'1011': 13, '0101': 12, '1000': 11, '0100': 8, '1010': 8, '1100': 8, '0001': 8, '1111': 7, '0011': 7, '0111': 6, '1110': 5, '1101': 5, '0110': 5, '0000': 4, '1001': 2, '0010': 1}), ('0', 4): Counter({'0000': 19, '1110': 15, '1100': 14, '1000': 14, '0100': 13, '0010': 13, '1010': 12, '0110': 10}), ('1', 4): Counter({'1101': 16, '0011': 16, '1001': 15, '0111': 15, '1011': 15, '1111': 11, '0001': 11, '0101': 11})}) {('1', 0): 1, ('3', 0): 1, ('2', 0): 1, ('0', 0): 1, ('0', 1): 1.0, ('1', 1): 1, ('3', 1): 2.0, ('2', 1): 2.0, ('0', 2): 2.1090909090909093, ('1', 2): 2.0, ('3', 2): 4.0, ('2', 2): 3.909090909090909, ('2', 3): 8.10909090909091, ('0', 3): 4.312396694214876, ('1', 3): 3.909090909090909, ('3', 3): 8.01818181818182, ('3', 4): 16.330578512396695, ('2', 4): 16.212561983471076, ('0', 4): 7.924628099173554, ('1', 4): 8.10909090909091}\n",
      "Sample hits: 1980\n",
      "Sample misses: 296658\n",
      "Retries per sample 332127\n",
      "Sample size 110\n",
      "1 defaultdict(<class 'collections.Counter'>, {('1', 0): {'': 110}, ('3', 0): {'': 110}, ('2', 0): {'': 110}, ('0', 0): {'': 110}}) {('1', 0): 1, ('3', 0): 1, ('2', 0): 1, ('0', 0): 1}\n",
      "2 defaultdict(<class 'collections.Counter'>, {('1', 0): {'': 110}, ('3', 0): {'': 110}, ('2', 0): {'': 110}, ('0', 0): {'': 110}, ('0', 1): Counter({'0': 110}), ('1', 1): Counter({'1': 110}), ('3', 1): Counter({'0': 59, '1': 51}), ('2', 1): Counter({'1': 74, '0': 36})}) {('1', 0): 1, ('3', 0): 1, ('2', 0): 1, ('0', 0): 1, ('0', 1): 1.0, ('1', 1): 1, ('3', 1): 2.0, ('2', 1): 2.0}\n",
      "3 defaultdict(<class 'collections.Counter'>, {('1', 0): {'': 110}, ('3', 0): {'': 110}, ('2', 0): {'': 110}, ('0', 0): {'': 110}, ('0', 1): Counter({'0': 110}), ('1', 1): Counter({'1': 110}), ('3', 1): Counter({'0': 59, '1': 51}), ('2', 1): Counter({'1': 74, '0': 36}), ('0', 2): Counter({'00': 56, '10': 54}), ('1', 2): Counter({'01': 61, '11': 49}), ('3', 2): Counter({'11': 33, '10': 31, '00': 26, '01': 20}), ('2', 2): Counter({'10': 36, '11': 29, '00': 24, '01': 21})}) {('1', 0): 1, ('3', 0): 1, ('2', 0): 1, ('0', 0): 1, ('0', 1): 1.0, ('1', 1): 1, ('3', 1): 2.0, ('2', 1): 2.0, ('0', 2): 2.3454545454545457, ('1', 2): 2.0, ('3', 2): 4.0, ('2', 2): 4.072727272727272}\n",
      "4 defaultdict(<class 'collections.Counter'>, {('1', 0): {'': 110}, ('3', 0): {'': 110}, ('2', 0): {'': 110}, ('0', 0): {'': 110}, ('0', 1): Counter({'0': 110}), ('1', 1): Counter({'1': 110}), ('3', 1): Counter({'0': 59, '1': 51}), ('2', 1): Counter({'1': 74, '0': 36}), ('0', 2): Counter({'00': 56, '10': 54}), ('1', 2): Counter({'01': 61, '11': 49}), ('3', 2): Counter({'11': 33, '10': 31, '00': 26, '01': 20}), ('2', 2): Counter({'10': 36, '11': 29, '00': 24, '01': 21}), ('2', 3): Counter({'010': 17, '110': 17, '011': 16, '001': 14, '111': 14, '100': 13, '101': 10, '000': 9}), ('0', 3): Counter({'110': 32, '100': 27, '010': 27, '000': 24}), ('1', 3): Counter({'101': 34, '111': 30, '011': 26, '001': 20}), ('3', 3): Counter({'011': 18, '110': 18, '101': 17, '001': 16, '000': 11, '111': 11, '010': 10, '100': 9})}) {('1', 0): 1, ('3', 0): 1, ('2', 0): 1, ('0', 0): 1, ('0', 1): 1.0, ('1', 1): 1, ('3', 1): 2.0, ('2', 1): 2.0, ('0', 2): 2.3454545454545457, ('1', 2): 2.0, ('3', 2): 4.0, ('2', 2): 4.072727272727272, ('2', 3): 8.418181818181818, ('0', 3): 4.196694214876033, ('1', 3): 4.072727272727272, ('3', 3): 8.418181818181818}\n",
      "5 defaultdict(<class 'collections.Counter'>, {('1', 0): {'': 110}, ('3', 0): {'': 110}, ('2', 0): {'': 110}, ('0', 0): {'': 110}, ('0', 1): Counter({'0': 110}), ('1', 1): Counter({'1': 110}), ('3', 1): Counter({'0': 59, '1': 51}), ('2', 1): Counter({'1': 74, '0': 36}), ('0', 2): Counter({'00': 56, '10': 54}), ('1', 2): Counter({'01': 61, '11': 49}), ('3', 2): Counter({'11': 33, '10': 31, '00': 26, '01': 20}), ('2', 2): Counter({'10': 36, '11': 29, '00': 24, '01': 21}), ('2', 3): Counter({'010': 17, '110': 17, '011': 16, '001': 14, '111': 14, '100': 13, '101': 10, '000': 9}), ('0', 3): Counter({'110': 32, '100': 27, '010': 27, '000': 24}), ('1', 3): Counter({'101': 34, '111': 30, '011': 26, '001': 20}), ('3', 3): Counter({'011': 18, '110': 18, '101': 17, '001': 16, '000': 11, '111': 11, '010': 10, '100': 9}), ('3', 4): Counter({'1110': 11, '0101': 11, '1001': 10, '0100': 9, '0010': 8, '0111': 8, '0011': 6, '1010': 6, '0110': 6, '1101': 6, '1111': 6, '1100': 6, '0000': 5, '1011': 5, '0001': 4, '1000': 3}), ('2', 4): Counter({'0010': 11, '1010': 10, '0111': 8, '1000': 8, '0101': 8, '0000': 8, '1100': 7, '0100': 7, '1110': 7, '1011': 6, '0110': 6, '1111': 5, '1001': 5, '0001': 5, '1101': 5, '0011': 4}), ('0', 4): Counter({'1100': 20, '1010': 17, '0010': 16, '1000': 14, '0000': 12, '0100': 12, '0110': 10, '1110': 9}), ('1', 4): Counter({'0011': 22, '1001': 19, '1111': 14, '0001': 14, '0111': 13, '1101': 12, '0101': 11, '1011': 5})}) {('1', 0): 1, ('3', 0): 1, ('2', 0): 1, ('0', 0): 1, ('0', 1): 1.0, ('1', 1): 1, ('3', 1): 2.0, ('2', 1): 2.0, ('0', 2): 2.3454545454545457, ('1', 2): 2.0, ('3', 2): 4.0, ('2', 2): 4.072727272727272, ('2', 3): 8.418181818181818, ('0', 3): 4.196694214876033, ('1', 3): 4.072727272727272, ('3', 3): 8.418181818181818, ('3', 4): 16.687603305785125, ('2', 4): 16.015537190082647, ('0', 4): 8.329256198347107, ('1', 4): 8.418181818181818}\n"
     ]
    },
    {
     "name": "stdout",
     "output_type": "stream",
     "text": [
      "Sample hits: 1980\n",
      "Sample misses: 306098\n",
      "CPU times: user 1min 1s, sys: 8.26 ms, total: 1min 1s\n",
      "Wall time: 1min 1s\n"
     ]
    }
   ],
   "source": [
    "%%time\n",
    "ests2 = []\n",
    "for i in range(20):\n",
    "    ests2.append(count_nfa(rand_nfa, 5)[0])"
   ]
  },
  {
   "cell_type": "code",
   "execution_count": 82,
   "id": "c9e72ddf",
   "metadata": {},
   "outputs": [
    {
     "data": {
      "image/png": "[encoded data removed]",
      "text/plain": [
       "<Figure size 432x288 with 1 Axes>"
      ]
     },
     "metadata": {},
     "output_type": "display_data"
    }
   ],
   "source": [
    "sns.histplot([ests, ests2], legend=True)\n",
    "plt.legend(labels=[\"python\", \"c++\"]);"
   ]
  },
  {
   "cell_type": "code",
   "execution_count": 80,
   "id": "9c40c228",
   "metadata": {},
   "outputs": [
    {
     "data": {
      "text/plain": [
       "[30.7869,\n",
       " 28.2914,\n",
       " 31.1135,\n",
       " 28.222,\n",
       " 31.7637,\n",
       " 30.589,\n",
       " 28.2847,\n",
       " 32.0545,\n",
       " 30.7427,\n",
       " 31.7221,\n",
       " 27.8919,\n",
       " 32.0626,\n",
       " 27.9084,\n",
       " 27.772,\n",
       " 28.9153,\n",
       " 31.061,\n",
       " 31.7656,\n",
       " 27.8301,\n",
       " 27.9031,\n",
       " 27.7995]"
      ]
     },
     "execution_count": 80,
     "metadata": {},
     "output_type": "execute_result"
    }
   ],
   "source": [
    "ests"
   ]
  },
  {
   "cell_type": "code",
   "execution_count": 16,
   "id": "2a83db40",
   "metadata": {},
   "outputs": [
    {
     "name": "stdout",
     "output_type": "stream",
     "text": [
      "3 1 1 1\n",
      "3 2 3\n",
      "0 1 2\n",
      "1 1 1\n",
      "1 1 1\n",
      "0 1\n",
      "0 0 2\n",
      "1 1 0\n",
      "2 0 1\n"
     ]
    }
   ],
   "source": [
    "print(cpp_input)"
   ]
  },
  {
   "cell_type": "code",
   "execution_count": 78,
   "id": "b1745829",
   "metadata": {},
   "outputs": [
    {
     "name": "stderr",
     "output_type": "stream",
     "text": [
      "                                                                                \r"
     ]
    }
   ],
   "source": [
    "data = [rand_nfa.bruteforce_count_only(i) for i in range(26)]"
   ]
  },
  {
   "cell_type": "code",
   "execution_count": 81,
   "id": "55fb2155",
   "metadata": {},
   "outputs": [
    {
     "data": {
      "text/plain": [
       "[2.0,\n",
       " 3.5,\n",
       " 2.142857142857143,\n",
       " 1.8666666666666667,\n",
       " 2.0,\n",
       " 1.9821428571428572,\n",
       " 1.954954954954955,\n",
       " 1.9631336405529953,\n",
       " 1.9671361502347418,\n",
       " 1.9665871121718377,\n",
       " 1.9660194174757282,\n",
       " 1.9657407407407408,\n",
       " 1.965928717224054,\n",
       " 1.9659771583739318,\n",
       " 1.9659571010724732,\n",
       " 1.965946191676654,\n",
       " 1.9659449232709691,\n",
       " 1.9659484602224122,\n",
       " 1.965948802184324,\n",
       " 1.9659483110412075,\n",
       " 1.9659481587913195,\n",
       " 1.9659481928633655,\n",
       " 1.9659482494953409,\n",
       " 1.9659482458453843]"
      ]
     },
     "execution_count": 81,
     "metadata": {},
     "output_type": "execute_result"
    }
   ],
   "source": [
    "[data[i+1] / data[i] for i in range(1, 25)]"
   ]
  },
  {
   "cell_type": "code",
   "execution_count": 82,
   "id": "66d71ed8",
   "metadata": {},
   "outputs": [
    {
     "data": {
      "text/plain": [
       "[0,\n",
       " 1,\n",
       " 2,\n",
       " 7,\n",
       " 15,\n",
       " 28,\n",
       " 56,\n",
       " 111,\n",
       " 217,\n",
       " 426,\n",
       " 838,\n",
       " 1648,\n",
       " 3240,\n",
       " 6369,\n",
       " 12521,\n",
       " 24616,\n",
       " 48394,\n",
       " 95140,\n",
       " 187040,\n",
       " 367711,\n",
       " 722901,\n",
       " 1421186,\n",
       " 2793978,\n",
       " 5492816,\n",
       " 10798592,\n",
       " 21229473]"
      ]
     },
     "execution_count": 82,
     "metadata": {},
     "output_type": "execute_result"
    }
   ],
   "source": [
    "data"
   ]
  },
  {
   "cell_type": "code",
   "execution_count": 85,
   "id": "55737eb1",
   "metadata": {},
   "outputs": [
    {
     "name": "stdout",
     "output_type": "stream",
     "text": [
      "6 2 20\n",
      "0 1 2 3 4 5\n",
      "0 0 0 1 0 1\n",
      "1 0 0 0 1 0\n",
      "0 1\n",
      "0 0 4\n",
      "0 0 2\n",
      "0 1 4\n",
      "0 1 0\n",
      "1 1 5\n",
      "1 1 0\n",
      "2 0 1\n",
      "2 0 3\n",
      "2 1 2\n",
      "2 1 1\n",
      "2 1 3\n",
      "3 0 4\n",
      "3 0 1\n",
      "4 1 5\n",
      "4 1 1\n",
      "4 1 3\n",
      "5 0 0\n",
      "5 0 1\n",
      "5 0 3\n",
      "5 1 2\n"
     ]
    }
   ],
   "source": [
    "print(rand_nfa.to_text())"
   ]
  },
  {
   "cell_type": "code",
   "execution_count": 86,
   "id": "c845e656",
   "metadata": {},
   "outputs": [
    {
     "data": {
      "text/plain": [
       "array([[0, 0, 1, 0, 1, 0],\n",
       "       [0, 0, 0, 0, 0, 0],\n",
       "       [0, 1, 0, 1, 0, 0],\n",
       "       [0, 1, 0, 0, 1, 0],\n",
       "       [0, 0, 0, 0, 0, 0],\n",
       "       [1, 1, 0, 1, 0, 0],\n",
       "       [1, 0, 0, 0, 1, 0],\n",
       "       [1, 0, 0, 0, 0, 1],\n",
       "       [0, 1, 1, 1, 0, 0],\n",
       "       [0, 0, 0, 0, 0, 0],\n",
       "       [0, 1, 0, 1, 0, 1],\n",
       "       [0, 0, 1, 0, 0, 0],\n",
       "       [0, 0, 0, 1, 0, 1],\n",
       "       [1, 0, 0, 0, 1, 0]])"
      ]
     },
     "execution_count": 86,
     "metadata": {},
     "output_type": "execute_result"
    }
   ],
   "source": [
    "rand_matrix"
   ]
  },
  {
   "cell_type": "code",
   "execution_count": 23,
   "id": "ac2af591",
   "metadata": {},
   "outputs": [
    {
     "name": "stdout",
     "output_type": "stream",
     "text": [
      "Retries per sample 342955\n",
      "Sample size 130\n",
      "1 defaultdict(<class 'collections.Counter'>, {('0', 0): {'': 130}, ('2', 0): {'': 130}}) {('0', 0): 1, ('2', 0): 1}\n",
      "2 defaultdict(<class 'collections.Counter'>, {('0', 0): {'': 130}, ('2', 0): {'': 130}, ('1', 1): Counter({'0': 73, '1': 57}), ('4', 1): Counter({'1': 66, '0': 64}), ('5', 1): Counter({'1': 130}), ('3', 1): Counter({'1': 130}), ('0', 1): Counter({'1': 72, '0': 58})}) {('0', 0): 1, ('2', 0): 1, ('1', 1): 2, ('4', 1): 2, ('5', 1): 1, ('3', 1): 1, ('0', 1): 2}\n",
      "3 defaultdict(<class 'collections.Counter'>, {('0', 0): {'': 130}, ('2', 0): {'': 130}, ('1', 1): Counter({'0': 73, '1': 57}), ('4', 1): Counter({'1': 66, '0': 64}), ('5', 1): Counter({'1': 130}), ('3', 1): Counter({'1': 130}), ('0', 1): Counter({'1': 72, '0': 58}), ('1', 2): Counter({'01': 69, '11': 61}), ('5', 2): Counter({'01': 66, '11': 64}), ('2', 2): Counter({'11': 65, '01': 65}), ('4', 2): Counter({'01': 35, '11': 34, '00': 33, '10': 28}), ('3', 2): Counter({'01': 35, '11': 34, '10': 33, '00': 28}), ('0', 2): Counter({'00': 37, '11': 33, '10': 33, '01': 27})}) {('0', 0): 1, ('2', 0): 1, ('1', 1): 2, ('4', 1): 2, ('5', 1): 1, ('3', 1): 1, ('0', 1): 2, ('1', 2): 2.0, ('5', 2): 2.0, ('2', 2): 2, ('4', 2): 4.0, ('3', 2): 4.0, ('0', 2): 4.0}\n",
      "4 defaultdict(<class 'collections.Counter'>, {('0', 0): {'': 130}, ('2', 0): {'': 130}, ('1', 1): Counter({'0': 73, '1': 57}), ('4', 1): Counter({'1': 66, '0': 64}), ('5', 1): Counter({'1': 130}), ('3', 1): Counter({'1': 130}), ('0', 1): Counter({'1': 72, '0': 58}), ('1', 2): Counter({'01': 69, '11': 61}), ('5', 2): Counter({'01': 66, '11': 64}), ('2', 2): Counter({'11': 65, '01': 65}), ('4', 2): Counter({'01': 35, '11': 34, '00': 33, '10': 28}), ('3', 2): Counter({'01': 35, '11': 34, '10': 33, '00': 28}), ('0', 2): Counter({'00': 37, '11': 33, '10': 33, '01': 27}), ('2', 3): Counter({'111': 69, '011': 61}), ('3', 3): Counter({'100': 30, '110': 21, '111': 21, '011': 20, '000': 19, '010': 19}), ('0', 3): Counter({'101': 20, '010': 19, '110': 18, '001': 17, '000': 17, '011': 13, '111': 13, '100': 13}), ('4', 3): Counter({'111': 29, '010': 21, '000': 21, '100': 20, '110': 20, '011': 19}), ('1', 3): Counter({'011': 26, '010': 24, '101': 24, '111': 21, '001': 18, '110': 17}), ('5', 3): Counter({'001': 42, '111': 34, '011': 34, '101': 20})}) {('0', 0): 1, ('2', 0): 1, ('1', 1): 2, ('4', 1): 2, ('5', 1): 1, ('3', 1): 1, ('0', 1): 2, ('1', 2): 2.0, ('5', 2): 2.0, ('2', 2): 2, ('4', 2): 4.0, ('3', 2): 4.0, ('0', 2): 4.0, ('2', 3): 2.0, ('3', 3): 5.876923076923077, ('0', 3): 7.876923076923077, ('4', 3): 6.0, ('1', 3): 6.0, ('5', 3): 4.0}\n",
      "5 defaultdict(<class 'collections.Counter'>, {('0', 0): {'': 130}, ('2', 0): {'': 130}, ('1', 1): Counter({'0': 73, '1': 57}), ('4', 1): Counter({'1': 66, '0': 64}), ('5', 1): Counter({'1': 130}), ('3', 1): Counter({'1': 130}), ('0', 1): Counter({'1': 72, '0': 58}), ('1', 2): Counter({'01': 69, '11': 61}), ('5', 2): Counter({'01': 66, '11': 64}), ('2', 2): Counter({'11': 65, '01': 65}), ('4', 2): Counter({'01': 35, '11': 34, '00': 33, '10': 28}), ('3', 2): Counter({'01': 35, '11': 34, '10': 33, '00': 28}), ('0', 2): Counter({'00': 37, '11': 33, '10': 33, '01': 27}), ('2', 3): Counter({'111': 69, '011': 61}), ('3', 3): Counter({'100': 30, '110': 21, '111': 21, '011': 20, '000': 19, '010': 19}), ('0', 3): Counter({'101': 20, '010': 19, '110': 18, '001': 17, '000': 17, '011': 13, '111': 13, '100': 13}), ('4', 3): Counter({'111': 29, '010': 21, '000': 21, '100': 20, '110': 20, '011': 19}), ('1', 3): Counter({'011': 26, '010': 24, '101': 24, '111': 21, '001': 18, '110': 17}), ('5', 3): Counter({'001': 42, '111': 34, '011': 34, '101': 20}), ('1', 4): Counter({'0111': 21, '0001': 16, '1111': 14, '1001': 14, '1101': 13, '0101': 13, '0110': 11, '1110': 10, '1011': 10, '0011': 8}), ('5', 4): Counter({'0111': 23, '1011': 21, '1101': 18, '0001': 17, '0011': 16, '1111': 14, '1001': 13, '0101': 8}), ('4', 4): Counter({'1010': 13, '1111': 13, '0100': 13, '0011': 11, '1011': 11, '0101': 11, '1101': 10, '0000': 9, '0111': 8, '1000': 8, '0010': 7, '0110': 7, '1110': 6, '1100': 3}), ('2', 4): Counter({'1111': 27, '0111': 25, '1011': 22, '1101': 21, '0011': 20, '0101': 15}), ('3', 4): Counter({'1111': 18, '1101': 16, '1100': 12, '0000': 11, '0011': 10, '0100': 10, '0110': 10, '1110': 9, '1000': 8, '1011': 6, '1010': 6, '0111': 5, '0101': 5, '0010': 4})}) {('0', 0): 1, ('2', 0): 1, ('1', 1): 2, ('4', 1): 2, ('5', 1): 1, ('3', 1): 1, ('0', 1): 2, ('1', 2): 2.0, ('5', 2): 2.0, ('2', 2): 2, ('4', 2): 4.0, ('3', 2): 4.0, ('0', 2): 4.0, ('2', 3): 2.0, ('3', 3): 5.876923076923077, ('0', 3): 7.876923076923077, ('4', 3): 6.0, ('1', 3): 6.0, ('5', 3): 4.0, ('1', 4): 9.876923076923077, ('5', 4): 7.876923076923077, ('4', 4): 13.876923076923077, ('2', 4): 6.0, ('3', 4): 14.215147928994083}\n"
     ]
    },
    {
     "data": {
      "text/plain": [
       "(26.049510129197156, <nfa_lib.NFA at 0x7f92db8a97f0>)"
      ]
     },
     "execution_count": 23,
     "metadata": {},
     "output_type": "execute_result"
    }
   ],
   "source": [
    "count_nfa(rand_nfa, 5)"
   ]
  },
  {
   "cell_type": "code",
   "execution_count": 24,
   "id": "472f98f6",
   "metadata": {},
   "outputs": [
    {
     "name": "stdout",
     "output_type": "stream",
     "text": [
      "5 1.0 1 1.0\n",
      "6 2 23\n",
      "0 1 2 3 4 5\n",
      "1 0 1 0 0 0\n",
      "0 0 1 1 0 0\n",
      "0 1\n",
      "0 0 4\n",
      "0 1 0\n",
      "0 1 5\n",
      "0 1 1\n",
      "1 0 0\n",
      "1 0 3\n",
      "1 1 4\n",
      "1 1 5\n",
      "1 1 2\n",
      "1 1 3\n",
      "2 0 0\n",
      "2 0 1\n",
      "2 1 4\n",
      "2 1 3\n",
      "3 0 0\n",
      "3 0 3\n",
      "4 0 0\n",
      "4 0 3\n",
      "4 1 0\n",
      "5 0 4\n",
      "5 0 3\n",
      "5 1 5\n",
      "5 1 1\n"
     ]
    }
   ],
   "source": [
    "print(cpp_input)"
   ]
  },
  {
   "cell_type": "code",
   "execution_count": null,
   "id": "6310e6fe",
   "metadata": {},
   "outputs": [],
   "source": []
  }
 ],
 "metadata": {
  "kernelspec": {
   "display_name": "Python 3.8.10 64-bit ('venv': venv)",
   "language": "python",
   "name": "python3810jvsc74a57bd00602504454f0638c3c0ff967dc00c81d73b297792cfa3e9f03f5a76d8a2b245a"
  },
  "language_info": {
   "codemirror_mode": {
    "name": "ipython",
    "version": 3
   },
   "file_extension": ".py",
   "mimetype": "text/x-python",
   "name": "python",
   "nbconvert_exporter": "python",
   "pygments_lexer": "ipython3",
   "version": "3.8.10"
  }
 },
 "nbformat": 4,
 "nbformat_minor": 5
}
